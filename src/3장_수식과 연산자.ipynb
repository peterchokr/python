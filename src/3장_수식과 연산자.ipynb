{
 "cells": [
  {
   "cell_type": "markdown",
   "metadata": {},
   "source": [
    "#### 3. 수식과 연산자"
   ]
  },
  {
   "cell_type": "markdown",
   "metadata": {},
   "source": [
    "p.79 산술연산자"
   ]
  },
  {
   "cell_type": "code",
   "execution_count": null,
   "metadata": {},
   "outputs": [],
   "source": []
  },
  {
   "cell_type": "code",
   "execution_count": null,
   "metadata": {},
   "outputs": [],
   "source": [
    "# 몫과 나머지\n",
    "x = int(input('피젯수: '))\n",
    "y = int(input('젯수: '))\n",
    "\n",
    "q = x // y\n",
    "r = x % y\n",
    "print(f\"{x}을 {y}로 나눈 몫={q}\" )\n",
    "print(f\"{x}을 {y}로 나눈 나머지={r}\" )"
   ]
  },
  {
   "cell_type": "code",
   "execution_count": null,
   "metadata": {},
   "outputs": [],
   "source": [
    "# divmod() 함수를 이용해서 몫과 나머지를 구할수도 있다.\n",
    "x = 10\n",
    "y = 3\n",
    "quotient,remainder = divmod(x, y)\t\n",
    "print(quotient, remainder)"
   ]
  },
  {
   "cell_type": "code",
   "execution_count": null,
   "metadata": {},
   "outputs": [],
   "source": [
    "# 나머지 연산자는 짝수/홀수 판별이나 요일 계산 등에 이용한다.\n",
    "today = 0\n",
    "print( (today + 10) % 7 )"
   ]
  },
  {
   "cell_type": "code",
   "execution_count": null,
   "metadata": {},
   "outputs": [],
   "source": [
    "# 거듭제곱 계산하기\n",
    "print( 2**7 )"
   ]
  },
  {
   "cell_type": "markdown",
   "metadata": {},
   "source": [
    "p.81 원리금 계산 프로그램"
   ]
  },
  {
   "cell_type": "code",
   "execution_count": null,
   "metadata": {},
   "outputs": [],
   "source": [
    "a = 1000\t\t\t# 원금\n",
    "r = 0.05\t\t\t# 이자율\n",
    "n = 10\t\t\t\t# 기간\n",
    "result = a*(1+r)**n\t\t# 원리금 합계\n",
    "\n",
    "print(\"원리금 합계=\", result)"
   ]
  },
  {
   "cell_type": "markdown",
   "metadata": {},
   "source": [
    "p.82 할당 연산자"
   ]
  },
  {
   "cell_type": "code",
   "execution_count": null,
   "metadata": {},
   "outputs": [],
   "source": [
    "x = 1\t\t\t# 변수 x에 1을 할당한다. \n",
    "value = 3.0\t\t# 변수 value에 3.0을 할당한다. \n",
    "x = (1/2)+3\t\t# 변수 x에 수식의 결과를 할당한다"
   ]
  },
  {
   "cell_type": "code",
   "execution_count": null,
   "metadata": {},
   "outputs": [],
   "source": [
    "x = y = z = 0"
   ]
  },
  {
   "cell_type": "code",
   "execution_count": null,
   "metadata": {},
   "outputs": [],
   "source": [
    "x, y, z = 10, 20, 30"
   ]
  },
  {
   "cell_type": "code",
   "execution_count": null,
   "metadata": {},
   "outputs": [],
   "source": [
    "x, y = y, x    #x와 y의 값을 서로 교환한다."
   ]
  },
  {
   "cell_type": "markdown",
   "metadata": {},
   "source": [
    "p.82 복합 할당 연산자"
   ]
  },
  {
   "cell_type": "code",
   "execution_count": null,
   "metadata": {},
   "outputs": [],
   "source": []
  },
  {
   "cell_type": "markdown",
   "metadata": {},
   "source": [
    "p.83 하루 매출 계산 프로그램"
   ]
  },
  {
   "cell_type": "code",
   "execution_count": null,
   "metadata": {},
   "outputs": [],
   "source": [
    "total_sales = 0\n",
    "milk_count = int(input(\"판매된 우유의 개수: \"))\n",
    "cola_count = int(input(\"판매된 콜라의 개수: \"))\n",
    "krice_count = int(input(\"판매된 김밥의 개수: \"))\n",
    "\n",
    "total_sales += milk_count*2000\n",
    "total_sales += cola_count*3000\n",
    "total_sales += krice_count*3500\n",
    "\n",
    "print(f\"\\n오늘 총 매출은 {total_sales}원입니다.\") "
   ]
  },
  {
   "cell_type": "markdown",
   "metadata": {},
   "source": [
    "p.84 관계 연산자"
   ]
  },
  {
   "cell_type": "code",
   "execution_count": null,
   "metadata": {},
   "outputs": [],
   "source": []
  },
  {
   "cell_type": "markdown",
   "metadata": {},
   "source": [
    "p.85 부울 변수"
   ]
  },
  {
   "cell_type": "code",
   "execution_count": null,
   "metadata": {},
   "outputs": [],
   "source": [
    "radius = 100\n",
    "flag = (radius > 32)\n",
    "print(flag)"
   ]
  },
  {
   "cell_type": "code",
   "execution_count": null,
   "metadata": {},
   "outputs": [],
   "source": [
    "powerOn = True"
   ]
  },
  {
   "cell_type": "code",
   "execution_count": null,
   "metadata": {},
   "outputs": [],
   "source": [
    "price = 5000\n",
    "expensive = price > 20000 \t# expensive가 부울 변수이다. \n",
    "if  expensive :\t\t# 관계 수식 대신에 부울 변수가 들어가도 된다. \n",
    "\tshipping_cost = 0\n",
    "else :\n",
    "\tshipping_cost = 3000"
   ]
  },
  {
   "cell_type": "markdown",
   "metadata": {},
   "source": [
    "p.86 문자열 비교"
   ]
  },
  {
   "cell_type": "code",
   "execution_count": null,
   "metadata": {},
   "outputs": [],
   "source": [
    "s1 = \"Audrey Hepburn\"\n",
    "s2 = \"Audrey Hepburn\"\n",
    "print(s1 == s2)"
   ]
  },
  {
   "cell_type": "code",
   "execution_count": null,
   "metadata": {},
   "outputs": [],
   "source": [
    "s1 = \"Audrey Hepburn\"\n",
    "s2 = \"Grace Kelly\"\t\n",
    "print(s1 < s2)"
   ]
  },
  {
   "cell_type": "code",
   "execution_count": null,
   "metadata": {},
   "outputs": [],
   "source": [
    "#(추가) 모든 대문자는 소문자보다 먼저이다.\n",
    "s1 = \"Sky\"\n",
    "s2 = \"sky\"\n",
    "print(s1 < s2)\n",
    "\n",
    "s1 = \"XyZ\"\n",
    "s1 = \"abc\"\n",
    "print(s1 < s2)"
   ]
  },
  {
   "cell_type": "markdown",
   "metadata": {},
   "source": [
    "실수와 실수의 비교"
   ]
  },
  {
   "cell_type": "code",
   "execution_count": null,
   "metadata": {},
   "outputs": [],
   "source": [
    "from math import sqrt\n",
    "n = sqrt(3.0)\n",
    "print(n * n == 3.0)"
   ]
  },
  {
   "cell_type": "code",
   "execution_count": null,
   "metadata": {},
   "outputs": [],
   "source": [
    "from math import sqrt\n",
    "n = sqrt(3.0)\n",
    "print( abs(n*n - 3.0 ) < 0.00001 )"
   ]
  },
  {
   "cell_type": "code",
   "execution_count": null,
   "metadata": {},
   "outputs": [],
   "source": [
    "import math  \n",
    "print(math.isclose(3.14, 3.15))\n",
    "print(math.isclose(3.141590003, 3.141590002))"
   ]
  },
  {
   "cell_type": "markdown",
   "metadata": {},
   "source": [
    "p.88 비트 연산자"
   ]
  },
  {
   "cell_type": "code",
   "execution_count": null,
   "metadata": {},
   "outputs": [],
   "source": []
  },
  {
   "cell_type": "code",
   "execution_count": null,
   "metadata": {},
   "outputs": [],
   "source": [
    "a = 0b00001101\n",
    "b = 0b00001010\n",
    "print( a&b, a|b, a^b )\n",
    "print( bin(a&b), bin(a|b), bin(a^b) )"
   ]
  },
  {
   "cell_type": "code",
   "execution_count": null,
   "metadata": {},
   "outputs": [],
   "source": [
    "a = 0b00001101\n",
    "print(~a, bin(~a))   # 산술적 not"
   ]
  },
  {
   "cell_type": "code",
   "execution_count": null,
   "metadata": {},
   "outputs": [],
   "source": [
    "a = 0b00001101\n",
    "print(~a&255, bin(~a&255))    # 논리적 not 는 bit AND 연산을 추가해야 한다."
   ]
  },
  {
   "cell_type": "markdown",
   "metadata": {},
   "source": [
    "p.89 비트 연산 사용 예"
   ]
  },
  {
   "cell_type": "code",
   "execution_count": null,
   "metadata": {},
   "outputs": [],
   "source": [
    "status = 0b01101110;\n",
    "print( \"문열림 상태=\" , ((status & 0b00000100)!=0) )"
   ]
  },
  {
   "cell_type": "markdown",
   "metadata": {},
   "source": [
    "p.90 비트 이동 연산자"
   ]
  },
  {
   "cell_type": "code",
   "execution_count": null,
   "metadata": {},
   "outputs": [],
   "source": [
    "a = 0b01101101\n",
    "print(a)\n",
    "print(a<<1, a>>1)\n",
    "print(bin(a<<1), bin(a>>1))\n"
   ]
  },
  {
   "cell_type": "markdown",
   "metadata": {},
   "source": [
    "p.90 연산자 우선 순위"
   ]
  },
  {
   "cell_type": "code",
   "execution_count": null,
   "metadata": {},
   "outputs": [],
   "source": []
  },
  {
   "cell_type": "markdown",
   "metadata": {},
   "source": [
    "p.92 평균 성적 계산 프로그램"
   ]
  },
  {
   "cell_type": "code",
   "execution_count": null,
   "metadata": {},
   "outputs": [],
   "source": [
    "score1 = int(input(\"국어 성적: \"))\n",
    "score2 = int(input(\"수학 성적: \"))\n",
    "score3 = int(input(\"영어 성적: \"))\n",
    "\n",
    "avg = ( score1 + score2 + score3 ) / 3.0  \n",
    "print(f\"\\n평균 성적은 {avg:.02f}점입니다.\") "
   ]
  },
  {
   "cell_type": "markdown",
   "metadata": {},
   "source": [
    "p.93 타입 변환과 반올림"
   ]
  },
  {
   "cell_type": "code",
   "execution_count": null,
   "metadata": {},
   "outputs": [],
   "source": [
    "x = 3.14\n",
    "int(x)"
   ]
  },
  {
   "cell_type": "code",
   "execution_count": null,
   "metadata": {},
   "outputs": [],
   "source": [
    "y = 3\n",
    "float(y)"
   ]
  },
  {
   "cell_type": "code",
   "execution_count": null,
   "metadata": {},
   "outputs": [],
   "source": [
    "x = 1.723456\n",
    "round(x)"
   ]
  },
  {
   "cell_type": "code",
   "execution_count": null,
   "metadata": {},
   "outputs": [],
   "source": [
    "x = 1.723456\n",
    "round(x, 2)"
   ]
  },
  {
   "cell_type": "code",
   "execution_count": null,
   "metadata": {},
   "outputs": [],
   "source": [
    "x = 1.7\n",
    "round(x)"
   ]
  },
  {
   "cell_type": "markdown",
   "metadata": {},
   "source": [
    "p.95 부가가치세 계산 프로그램"
   ]
  },
  {
   "cell_type": "code",
   "execution_count": null,
   "metadata": {},
   "outputs": [],
   "source": [
    "price = 12345\n",
    "tax = price * 0.075\n",
    "tax = round(tax, 2)\n",
    "print(tax)"
   ]
  },
  {
   "cell_type": "markdown",
   "metadata": {},
   "source": [
    "p.96 산수 퀴즈 프로그램"
   ]
  },
  {
   "cell_type": "code",
   "execution_count": null,
   "metadata": {},
   "outputs": [],
   "source": [
    "print(\"산수 퀴즈에 오신 것을 환영합니다.\\n\")\n",
    "\n",
    "ans = int(input(\"2 + 5 = \"))\n",
    "print(ans==2+5)\n",
    "ans = int(input(\"7 - 6 = \"))\n",
    "print(ans==7-6)\n",
    "ans = int(input(\"2 ** 3 = \"))\n",
    "print(ans==2**3)\n",
    "ans = float(input(\"3.0 / 1.5 = \"))\n",
    "print(ans==3.0/1.5)"
   ]
  },
  {
   "cell_type": "markdown",
   "metadata": {},
   "source": [
    "p.97 단답형 문제 채점 프로그램"
   ]
  },
  {
   "cell_type": "code",
   "execution_count": null,
   "metadata": {},
   "outputs": [],
   "source": [
    "score = 0\n",
    "\n",
    "ans = input(\"가장 쉬운 프로그래밍 언어는? \")\n",
    "check = (ans==\"파이썬\")\n",
    "print(check)\n",
    "score += int(check) # True는 1로, False는 0으로 변환된다.\n",
    "\n",
    "ans = input(\"거듭제곱을 계산하는 연산자는? \")\n",
    "check = (ans==\"**\")\n",
    "print(check)\n",
    "score += int(check)\n",
    "\n",
    "ans = input(\"파이썬에서 출력시에 사용하는 함수이름은? \")\n",
    "check = (ans==\"print\")\n",
    "print(check)\n",
    "score += int(check)\n",
    "\n",
    "print(f\"점수 = {score}\")"
   ]
  },
  {
   "cell_type": "markdown",
   "metadata": {},
   "source": [
    "p.98 명왕성까지의 시간 계산하기"
   ]
  },
  {
   "cell_type": "code",
   "execution_count": null,
   "metadata": {},
   "outputs": [],
   "source": [
    "speed = 300000.0\t\t\t# 빛의 속도\n",
    "distance = 4800000000.0\t\t# 거리\n",
    "secs = distance / speed\t\t# 걸리는 시간, 단위는 초\t\n",
    "secs = int(secs)\t\t\t# 부동소수점수->정수 변환\n",
    "time = secs // 3600\t\t\t# 초를 시간으로 변환, //은 정수 나눗셈\n",
    "minute = (secs % 3600) // 60\t\t# 남은 초를 분으로 변환\n",
    "print(time, \"시간\", minute, \"분\")"
   ]
  },
  {
   "cell_type": "markdown",
   "metadata": {},
   "source": [
    "p.99 상점 계산기 만들기"
   ]
  },
  {
   "cell_type": "code",
   "execution_count": null,
   "metadata": {},
   "outputs": [],
   "source": [
    "price = int(input(\"상품의 가격: \"))\n",
    "amount = int(input(\"상품의 개수: \"))\n",
    "disRate = int(input(\"할인율(%): \"))/100.0\n",
    "\n",
    "print()\n",
    "payment = int(input(\"받은 금액: \"))\n",
    "total = price*amount\n",
    "change = payment - (total - total*disRate)\n",
    "\n",
    "# 결과를 출력한다. \n",
    "print(f\"거스름돈: {int(change)}\")\t\t# change를 정수형으로 변환"
   ]
  },
  {
   "cell_type": "markdown",
   "metadata": {},
   "source": [
    "p.100 복리 계산"
   ]
  },
  {
   "cell_type": "code",
   "execution_count": null,
   "metadata": {},
   "outputs": [],
   "source": [
    "init_money = 24\n",
    "interest = 0.06\n",
    "years = 382\n",
    "print(init_money*(1+interest)**years)"
   ]
  },
  {
   "cell_type": "markdown",
   "metadata": {},
   "source": [
    "p.101 자동판매기 프로그램"
   ]
  },
  {
   "cell_type": "code",
   "execution_count": null,
   "metadata": {},
   "outputs": [],
   "source": [
    "price = int(input(\"물건값을 입력하시오: \"))\n",
    "payment = int(input(\"받은 금액: \"))\n",
    "\n",
    "change = payment - price\n",
    "\n",
    "print(\"\\n거스름돈은 아래와 같습니다.\")\n",
    "# 거스름돈(500원 동전 개수)을 계산한다. \n",
    "nCoin500 = change//500\n",
    "change = change%500\n",
    "\n",
    "# 거스름돈(100원 동전 개수)을 계산한다. \n",
    "nCoin100 = change//100\n",
    "change = change%100\n",
    "\n",
    "# 거스름돈(10원 동전 개수)을 계산한다. \n",
    "nCoin10 = change//10\n",
    "change = change%10\n",
    "\n",
    "# 거스름돈(1원 동전 개수)을 계산한다. \n",
    "nCoin1 = change\n",
    "\n",
    "print(f\"500원={nCoin500}개 100원={nCoin100}개 10원={nCoin10}개 1원={nCoin1}개\") "
   ]
  },
  {
   "cell_type": "markdown",
   "metadata": {},
   "source": [
    "p.104 연습문제"
   ]
  },
  {
   "cell_type": "markdown",
   "metadata": {},
   "source": [
    "p.106 Programming"
   ]
  }
 ],
 "metadata": {
  "kernelspec": {
   "display_name": "Python 3",
   "language": "python",
   "name": "python3"
  },
  "language_info": {
   "codemirror_mode": {
    "name": "ipython",
    "version": 3
   },
   "file_extension": ".py",
   "mimetype": "text/x-python",
   "name": "python",
   "nbconvert_exporter": "python",
   "pygments_lexer": "ipython3",
   "version": "3.11.4"
  },
  "orig_nbformat": 4
 },
 "nbformat": 4,
 "nbformat_minor": 2
}
