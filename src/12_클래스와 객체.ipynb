{
 "cells": [
  {
   "cell_type": "markdown",
   "metadata": {},
   "source": [
    "#### 12. 클래스와 객체"
   ]
  },
  {
   "cell_type": "markdown",
   "metadata": {},
   "source": [
    "p.422 클래스 작성하기"
   ]
  },
  {
   "cell_type": "code",
   "execution_count": null,
   "metadata": {},
   "outputs": [],
   "source": [
    "class Counter:\n",
    "    def __init__(self) :    # 생성자 정의\n",
    "        self.count = 0  # 인스턴스 변수 생성\n",
    "\n",
    "    def increment(self) :   # 메소드 정의\n",
    "        self.count += 1\n",
    "\n",
    "a = Counter()\n",
    "\n",
    "a.increment()   # 객체의 멤버 접근\n",
    "print(\"카운트의 값=\", a.count) "
   ]
  },
  {
   "cell_type": "markdown",
   "metadata": {},
   "source": [
    "p.424 하나의 클래스로 객체는 많이 만들 수 있다."
   ]
  },
  {
   "cell_type": "code",
   "execution_count": null,
   "metadata": {},
   "outputs": [],
   "source": [
    "class Counter:\n",
    "    def __init__(self,  initValue=0) : \n",
    "        self.count = initValue\n",
    "\n",
    "    def increment(self) :\n",
    "        self.count += 1\n",
    "\n",
    "a = Counter(0)\t\t\t# 계수기를 0으로 초기화한다. \n",
    "b = Counter(100)\t\t# 계수기를 100으로 초기화한다. "
   ]
  },
  {
   "cell_type": "markdown",
   "metadata": {},
   "source": [
    "p.427 TV 클래스 정의"
   ]
  },
  {
   "cell_type": "code",
   "execution_count": null,
   "metadata": {},
   "outputs": [],
   "source": [
    "class Television:\n",
    "\tdef __init__(self, channel, volume, on):\n",
    "\t\tself.channel = channel\n",
    "\t\tself.volume = volume\n",
    "\t\tself.on = on\n",
    "\n",
    "\tdef show(self):\n",
    "\t\tprint(self.channel, self.volume, self.on)\n",
    "\n",
    "\tdef setChannel(self, channel):\n",
    "\t\tself.channel = channel\n",
    "\n",
    "\tdef getChannel(self):\n",
    "\t\treturn self.channel\n",
    "\n",
    "t = Television(9, 10, True)\n",
    "t.show()\n",
    "t.setChannel(11)\n",
    "t.show()"
   ]
  },
  {
   "cell_type": "markdown",
   "metadata": {},
   "source": [
    "p.428 원 클래스 작성"
   ]
  },
  {
   "cell_type": "code",
   "execution_count": null,
   "metadata": {},
   "outputs": [],
   "source": [
    "import math\n",
    "\n",
    "# Circle 클래스를 정의한다. \n",
    "class Circle:\n",
    "    def __init__(self, radius = 0):\n",
    "        self.radius = radius\n",
    "\n",
    "    def getArea(self):\n",
    "        return  math.pi * self.radius * self.radius\n",
    "\n",
    "    def getPerimeter(self):\n",
    "        return 2 * math.pi * self.radius \n",
    "\n",
    "# Circle 객체를 생성한다. \n",
    "c = Circle(10)\n",
    "print(\"원의 면적\", c.getArea())\n",
    "print(\"원의 면적\", c.getPerimeter())"
   ]
  },
  {
   "cell_type": "markdown",
   "metadata": {},
   "source": [
    "p.429 정보 은닉"
   ]
  },
  {
   "cell_type": "markdown",
   "metadata": {},
   "source": [
    "외부에서 인스턴스 변수의 값을 변경하고 있다 -> 좋은 방법이 아니다."
   ]
  },
  {
   "cell_type": "code",
   "execution_count": null,
   "metadata": {},
   "outputs": [],
   "source": [
    "class Student:\n",
    "\tdef __init__(self, name=None, age=0):\n",
    "\t\tself.name = name\t\n",
    "\t\tself.age = age\t\t\n",
    "  \n",
    "obj=Student(\"Hong\", 20)\n",
    "obj.age = 21\n",
    "print(obj.age)\t\t"
   ]
  },
  {
   "cell_type": "markdown",
   "metadata": {},
   "source": [
    "클래스 내부에서만 접근될 수 있다. --> private"
   ]
  },
  {
   "cell_type": "code",
   "execution_count": null,
   "metadata": {},
   "outputs": [],
   "source": [
    "class Student:\n",
    "\tdef __init__(self, name=None, age=0):\n",
    "\t\tself.__name = name\t# __가 변수 앞에 붙으면 외부에서 변경 금지\n",
    "\t\tself.__age = age\t\t# __가 변수 앞에 붙으면 외부에서 변경 금지\n",
    "\n",
    "obj=Student()\n",
    "print(obj.__age)\t\t\t# 오류 발생!"
   ]
  },
  {
   "cell_type": "markdown",
   "metadata": {},
   "source": [
    "p.431 접근자와 설정자"
   ]
  },
  {
   "cell_type": "code",
   "execution_count": null,
   "metadata": {},
   "outputs": [],
   "source": [
    "class Student:\n",
    "\tdef __init__(self, name=None, age=0):\n",
    "\t\tself.__name = name\n",
    "\t\tself.__age = age\n",
    "\n",
    "\tdef getAge(self):\t\t# 접근자\n",
    "\t\treturn self.__age\n",
    "\n",
    "\tdef getName(self):\n",
    "\t\treturn self.__name\n",
    "\n",
    "\tdef setAge(self, age):\t# 설정자\n",
    "\t\tself.__age=age\n",
    "\n",
    "\tdef setName(self, name):\n",
    "\t\tself.__name=name\n",
    "\n",
    "obj=Student(\"Hong\", 20)\n",
    "print(obj.getName())\n",
    "\n",
    "obj.setAge(25)\n",
    "print(obj.getAge())"
   ]
  },
  {
   "cell_type": "markdown",
   "metadata": {},
   "source": [
    "p.433 Lab 은행 계좌"
   ]
  },
  {
   "cell_type": "code",
   "execution_count": null,
   "metadata": {},
   "outputs": [],
   "source": [
    "class BankAccount:\n",
    "    def __init__(self):\n",
    "        self.__balance = 0\n",
    "\n",
    "    def withdraw(self, amount):\n",
    "        self.__balance -= amount\n",
    "        print(\"통장에 \", amount, \"가 출금되었음\")\n",
    "        return self.__balance\n",
    "\n",
    "    def deposit(self, amount):\n",
    "        self.__balance += amount\n",
    "        print(\"통장에서 \", amount, \"가 입금되었음\")\n",
    "        return self.__balance\n",
    "\n",
    "a = BankAccount()\n",
    "print(a.deposit(100))\n",
    "print()\n",
    "print(a.withdraw(10))"
   ]
  },
  {
   "cell_type": "markdown",
   "metadata": {},
   "source": [
    "p.434 공 애니메이션 1"
   ]
  },
  {
   "cell_type": "code",
   "execution_count": null,
   "metadata": {},
   "outputs": [],
   "source": [
    "from tkinter import *\n",
    "import time\n",
    "import random\n",
    "\n",
    "window = Tk()\n",
    "\n",
    "canvas=Canvas(window, width=600, height=400)\n",
    "canvas.pack()\n",
    "\n",
    "class Ball():\n",
    "    def __init__(self, color, size):    \n",
    "        self.id=canvas.create_oval(0, 0, size, size, fill=color)\n",
    "        self.dx=random.randint(1,10)\n",
    "        self.dy=random.randint(1,10)\n",
    "\n",
    "    def move(self):\n",
    "        canvas.move(self.id, self.dx, self.dy)\n",
    "        x0, y0, x1, y1 = canvas.coords(self.id)\n",
    "        if y1 > canvas.winfo_height() or y0 < 0: # 원이 위쪽이나 아래쪽으로 벗어났으면\n",
    "            self.dy = -self.dy\t\t\t\t# dy의 부호를 반전시킨다. \n",
    "        if x1 > canvas.winfo_width() or x0 < 0:\t# 원이 왼쪽이나 오른쪽으로 벗어났으면\n",
    "            self.dx = -self.dx\t\t\t\t# dx의 부호를 반전시킨다. \n",
    "\n",
    "ball1=Ball(\"blue\", 60)\n",
    "ball2=Ball(\"green\", 100)\n",
    "ball3=Ball(\"orange\", 80)\n",
    "\n",
    "while True:\n",
    "    ball1.move()\n",
    "    ball2.move()\n",
    "    ball3.move()\n",
    "    window.update()\n",
    "    time.sleep(0.05)\n",
    "\n",
    "window.mainloop()"
   ]
  },
  {
   "cell_type": "markdown",
   "metadata": {},
   "source": [
    "p.436 객체 참조"
   ]
  },
  {
   "cell_type": "code",
   "execution_count": null,
   "metadata": {},
   "outputs": [],
   "source": [
    "class Television:\n",
    "    def __init__(self, channel, volume, on):\n",
    "        self.channel = channel\n",
    "        self.volume = volume\n",
    "        self.on = on\n",
    "        \n",
    "    def setChanner(self, channel):\n",
    "        self.channel = channel\n",
    "       \n",
    "t = Television(11, 10, True)"
   ]
  },
  {
   "cell_type": "markdown",
   "metadata": {},
   "source": [
    "참조 공유"
   ]
  },
  {
   "cell_type": "code",
   "execution_count": null,
   "metadata": {},
   "outputs": [],
   "source": [
    "s = t   # 참조값이 복사되어 s에 저장된다. 따라서 s와 t는 동일한 객체를 가르키게 된다.\n",
    "s.channel = 9\n",
    "\n",
    "print(s.channel, t.channel) # t의 값도 변경된다.\n",
    "\n",
    "# 3\n",
    "if s is t :\n",
    "    print(\"2개의 변수는 동일한 객체를 참조하고 있습니다.\")\n",
    "    \n",
    "if s is not t:\n",
    "    print(\"2개의 변수는 다른 객체를 참조하고 있습니다.\")"
   ]
  },
  {
   "cell_type": "markdown",
   "metadata": {},
   "source": [
    "p.438 객체를 함수로 전달할 때"
   ]
  },
  {
   "cell_type": "code",
   "execution_count": null,
   "metadata": {},
   "outputs": [],
   "source": [
    "# 텔레비전을 클래스로 정의한다. \n",
    "class Television:\n",
    "\tdef __init__(self, channel, volume, on):\n",
    "\t\tself.channel = channel\n",
    "\t\tself.volume = volume\n",
    "\t\tself.on = on\n",
    "\n",
    "\tdef show(self):\n",
    "\t\tprint(self.channel, self.volume, self.on)\n",
    "\n",
    "# 전달받은 텔레비전의 음량을 줄인다. \n",
    "def setSilentMode(t):\n",
    "\tt.volume = 2\n",
    "\n",
    "# setSilentMode()을 호출하여서 객체의 내용이 변경되는지를 확인한다. \n",
    "myTV = Television(11, 10, True)\n",
    "setSilentMode(myTV)\n",
    "myTV.show()"
   ]
  },
  {
   "cell_type": "markdown",
   "metadata": {},
   "source": [
    "p.440 공 애니메이션 2"
   ]
  },
  {
   "cell_type": "code",
   "execution_count": null,
   "metadata": {},
   "outputs": [],
   "source": [
    "from tkinter import *\n",
    "import time\n",
    "import random\n",
    "\n",
    "window = Tk()\n",
    "\n",
    "canvas=Canvas(window, width=600, height=400)\n",
    "canvas.pack()\n",
    "\n",
    "class Ball():\n",
    "    def __init__(self, color, size):    \n",
    "        self.id=canvas.create_oval(0, 0, size, size, fill=color)\n",
    "        self.dx=random.randint(1,10)\n",
    "        self.dy=random.randint(1,10)\n",
    "\n",
    "    def move(self):\n",
    "        canvas.move(self.id, self.dx, self.dy)\n",
    "        x0, y0, x1, y1 = canvas.coords(self.id)\n",
    "        if y1 > canvas.winfo_height() or y0 < 0: # 원이 위쪽이나 아래쪽으로 벗어났으면\n",
    "            self.dy = -self.dy\t\t\t\t# dy의 부호를 반전시킨다. \n",
    "        if x1 > canvas.winfo_width() or x0 < 0:\t# 원이 왼쪽이나 오른쪽으로 벗어났으면\n",
    "            self.dx = -self.dx\t\t\t\t# dx의 부호를 반전시킨다. \n",
    "\n",
    "colors = [\"red\", \"orange\", \"yellow\", \"green\", \"blue\", \"indigo\", \"violet\"]\n",
    "ballList = []\n",
    "for i in range(30):\n",
    "    ballList.append(Ball(random.choice(colors), random.randint(1, 60)))\n",
    "\n",
    "while True:\n",
    "    for i in range(30):\n",
    "        ballList[i].move()\n",
    "    window.update()\n",
    "    time.sleep(0.01)\n",
    "\n",
    "window.mainloop()"
   ]
  },
  {
   "cell_type": "markdown",
   "metadata": {},
   "source": [
    "p.442 클래스 변수"
   ]
  },
  {
   "cell_type": "markdown",
   "metadata": {},
   "source": [
    "인스턴스 변수 vs 클래스 변수"
   ]
  },
  {
   "cell_type": "code",
   "execution_count": null,
   "metadata": {},
   "outputs": [],
   "source": [
    "# 텔레비전을 클래스로 정의한다. \n",
    "class Television:\n",
    "    serialNumber = 0\t\t# 이것이 클래스 변수이다. \n",
    "\n",
    "    def __init__(self, channel, volume, on):\n",
    "        self.channel = channel\n",
    "        self.volume = volume\n",
    "        self.on = on\n",
    "        Television.serialNumber += 1\t\t# 클래스 변수를 하나 증가한다. \n",
    "\t\t# 클래스 변수의 값을 객체의 시리얼 번호로 한다. \n",
    "        self.number = Television.serialNumber\n",
    "    \n",
    "    def show(self):\n",
    "        print(self.channel, self.volume, self.on, self.number)\n",
    "\n",
    "myTV = Television(11, 10, True)\n",
    "myTV.show()\n",
    "\n",
    "moTV = Television(13, 7, True)  # 클래스 변수는 공유된다.\n",
    "moTV.show()\n",
    "\n",
    "meeTV = Television(24, 5, True)\n",
    "meeTV.show()"
   ]
  },
  {
   "cell_type": "markdown",
   "metadata": {},
   "source": [
    "p.443 상수 정의"
   ]
  },
  {
   "cell_type": "code",
   "execution_count": null,
   "metadata": {},
   "outputs": [],
   "source": [
    "class Monster :\n",
    "   # 상수 값 정의 \n",
    "   WEAK = 0\n",
    "   NORMAL = 10\n",
    "   STRONG = 20\n",
    "   VERY_STRONG = 30\n",
    "\n",
    "   def __init__(self) :\n",
    "      self._health = Monster.NORMAL"
   ]
  },
  {
   "cell_type": "markdown",
   "metadata": {},
   "source": [
    "p.444 특수 메소드"
   ]
  },
  {
   "cell_type": "code",
   "execution_count": null,
   "metadata": {},
   "outputs": [],
   "source": [
    "class Circle:\n",
    "    def __init__(self, r):\n",
    "        self.radius = r\n",
    "        \n",
    "    def __eq__(self, other):\n",
    "        return self.radius == other.radius\n",
    "        \n",
    "c1 = Circle(10)\n",
    "c2 = Circle(10)\n",
    "if c1 == c2:    # == 연산자를 이용하여 __eq__() 메소드로 정의된 연산을 수행한다.\n",
    "    print(\"원의 반지름은 동일합니다.\")"
   ]
  },
  {
   "cell_type": "markdown",
   "metadata": {},
   "source": [
    "p.445 __str()__ 메소드"
   ]
  },
  {
   "cell_type": "code",
   "execution_count": null,
   "metadata": {},
   "outputs": [],
   "source": [
    "class Counter:\n",
    "    def __init__(self, x) :\n",
    "        self.count = x\n",
    "    def increment(self):\n",
    "        self.count += 1\n",
    "    def __str__(self):\n",
    "        msg = \"카운트값:\"+ str(self.count)\n",
    "        return msg\n",
    "\n",
    "a = Counter(100)\t\n",
    "print(a)"
   ]
  },
  {
   "cell_type": "markdown",
   "metadata": {},
   "source": [
    "(순서 변경) p.448 Lab 특수 메소드"
   ]
  },
  {
   "cell_type": "code",
   "execution_count": null,
   "metadata": {},
   "outputs": [],
   "source": [
    "class Vector2D :\n",
    "    def __init__(self, x, y):\n",
    "        self.x = x\n",
    "        self.y = y\n",
    "\n",
    "    def __add__(self, other):\n",
    "        return Vector2D(self.x + other.x, self.y + other.y)\n",
    "\n",
    "    def __sub__(self, other):\n",
    "        return Vector2D(self.x - other.x, self.y - other.y)\n",
    "\n",
    "    def __eq__(self, other):\n",
    "        return self.x == other.x and self.y == other.y\n",
    "\n",
    "    def __str__(self):\n",
    "        return '(%g, %g)' % (self.x, self.y)\n",
    "\n",
    "u = Vector2D(0,1)\n",
    "v = Vector2D(1,0)\n",
    "w = Vector2D(1,1)\n",
    "a = u + v\n",
    "print(a)\n",
    "\n",
    "# b = u - v\n",
    "# c = u == v\n",
    "# print(b, c)"
   ]
  },
  {
   "cell_type": "markdown",
   "metadata": {},
   "source": [
    "p.446 상속"
   ]
  },
  {
   "cell_type": "code",
   "execution_count": null,
   "metadata": {},
   "outputs": [],
   "source": [
    "class Person():\n",
    "    def __init__(self, name):\n",
    "        self.name = name\n",
    "    def getName(self):\n",
    "        return self.name\n",
    "    \n",
    "    def isStudent(self):\n",
    "        return False\n",
    "   \n",
    "\n",
    "class Student(Person):  # 상속\n",
    "   def __init__(self, name, gpa):\n",
    "       super().__init__(name)   # 부모 클래스 생성자 호출\n",
    "       self.gpa = gpa\n",
    "\n",
    "   def isStudent(self):     # 메소드 오버라이딩\n",
    "       return True\n",
    "   \n",
    "obj1 = Person(\"Kim\")  \n",
    "print(obj1.getName(), obj1.isStudent())\n",
    "   \n",
    "obj2 = Student(\"Park\", 4.3) \n",
    "print(obj2.getName(), obj2.isStudent())"
   ]
  },
  {
   "cell_type": "markdown",
   "metadata": {},
   "source": [
    "(추가) 다중 상속"
   ]
  },
  {
   "cell_type": "code",
   "execution_count": null,
   "metadata": {},
   "outputs": [],
   "source": [
    "class Person:  \n",
    "    def __init__(self, name, age):  \n",
    "        self.name = name  \n",
    "        self.age = age  \n",
    "  \n",
    "    def show(self):  \n",
    "        print(self.name, self.age)  \n",
    "  \n",
    " \n",
    "class Student: \n",
    "    def __init__(self, id):  \n",
    "        self.id = id\n",
    "  \n",
    "    def getId(self):  \n",
    "        return self.id  \n",
    "  \n",
    "class CollegeStudent(Person, Student): \n",
    "    def __init__(self, name, age, id):  \n",
    "        Person.__init__(self, name, age)  \n",
    "        Student.__init__(self, id)  \n",
    "  \n",
    "obj = CollegeStudent('Kim', 22, '100036')  \n",
    "obj.show()  \n",
    "print(obj.getId())  "
   ]
  },
  {
   "cell_type": "markdown",
   "metadata": {},
   "source": [
    "(추가) 메소드 오버라이딩"
   ]
  },
  {
   "cell_type": "code",
   "execution_count": null,
   "metadata": {},
   "outputs": [],
   "source": [
    "import math\n",
    "\n",
    "class Shape:\n",
    "     def __init__(self):\n",
    "        pass\n",
    "\n",
    "     def draw(self):\n",
    "        print(\"뭔가를 그립니다.\")\n",
    "\n",
    "     def get_area(self):\n",
    "        print(\"뭔가의 면적을 구합니다.\")\n",
    "\n",
    "class Circle(Shape):\n",
    "     def __init__(self, radius=0):\n",
    "        super().__init__()\n",
    "        self.radius = radius\n",
    " \n",
    "     def draw(self):        #오버라이딩(overriding)\n",
    "        print(\"원을 그립니다.\")\n",
    "\n",
    "     def get_area(self):    #오버라이딩(overriding)\n",
    "        return math.pi * self.radius ** 2 \n",
    "\n",
    "c = Circle(10)\n",
    "c.draw()\n",
    "print(\"원의 면적:\", c.get_area())"
   ]
  },
  {
   "cell_type": "markdown",
   "metadata": {},
   "source": [
    "p.449 Mini Project 주사위 클래스 만들기"
   ]
  },
  {
   "cell_type": "code",
   "execution_count": null,
   "metadata": {},
   "outputs": [],
   "source": [
    "from random import randint\n",
    "\n",
    "class Dice :\n",
    "    def __init__(self, x, y) :\n",
    "       self._x = x\n",
    "       self._y = y\n",
    "       self._size = 30\n",
    "       self._value = 1\n",
    "\n",
    "    def read_dice(self) :\n",
    "        return self._value\n",
    "\n",
    "    def print_dice(self) :\n",
    "        print(\"주사위의 값=\", self._value)\n",
    "\n",
    "    def roll_dice(self) :\n",
    "        self._value = randint(1, 6)\n",
    "\n",
    "d = Dice(100, 100)\n",
    "d.roll_dice()\n",
    "d.print_dice()"
   ]
  },
  {
   "cell_type": "markdown",
   "metadata": {},
   "source": [
    "-----------"
   ]
  },
  {
   "cell_type": "markdown",
   "metadata": {},
   "source": [
    "(추가) 모듈 "
   ]
  },
  {
   "cell_type": "markdown",
   "metadata": {},
   "source": [
    "1. 직접 만들고 사용하기 - code.py,    fibo.py"
   ]
  },
  {
   "cell_type": "markdown",
   "metadata": {},
   "source": [
    "2. 내장 모듈 - random"
   ]
  },
  {
   "cell_type": "code",
   "execution_count": null,
   "metadata": {},
   "outputs": [],
   "source": [
    "# 1\n",
    "import random\n",
    "print(random.randint(1, 6))\n",
    "\n",
    "# 2\n",
    "print(random.random() * 100)\n",
    "\n",
    "# 3\n",
    "myList = [\"red\", \"green\", \"blue\"]\n",
    "print(random.choice(myList))\n",
    "\n",
    "# 4\n",
    "myList = [ [x] for x in range(10) ]\n",
    "print(myList)\n",
    "random.shuffle(myList)\n",
    "print(myList)"
   ]
  },
  {
   "cell_type": "markdown",
   "metadata": {},
   "source": [
    "내장 모듈 - time"
   ]
  },
  {
   "cell_type": "code",
   "execution_count": null,
   "metadata": {},
   "outputs": [],
   "source": [
    "# 1\n",
    "import time\n",
    "print(time.time())   #1970.1.1 이후부터 지금까지 흘러온 시간(초)"
   ]
  },
  {
   "cell_type": "code",
   "execution_count": null,
   "metadata": {},
   "outputs": [],
   "source": [
    "# 2\n",
    "import time\n",
    "def fib(n):    # 피보나치 수열 출력\n",
    "    a, b = 0, 1\n",
    "    while b < n:\n",
    "        print(b, end=' ')\n",
    "        a, b = b, a+b\n",
    "    print()\n",
    "\n",
    "start = time.time()\n",
    "fib(100000)\t\n",
    "end = time.time()\n",
    "print(end-start)    #실행시간을 측정"
   ]
  },
  {
   "cell_type": "code",
   "execution_count": null,
   "metadata": {},
   "outputs": [],
   "source": [
    "# 3\n",
    "import time\n",
    "print(time.asctime())   #현재 날짜와 시간을 문자열 형태로 출력"
   ]
  },
  {
   "cell_type": "code",
   "execution_count": null,
   "metadata": {},
   "outputs": [],
   "source": [
    "# 4\n",
    "import time\n",
    "t = (2023, 5, 30, 12, 10, 50, 5, 0, 0)   #(연, 월, 일, 시, 분, 초, 요일, 0, 0) 형식으로 날짜 지정\n",
    "print(time.asctime(t))"
   ]
  },
  {
   "cell_type": "code",
   "execution_count": null,
   "metadata": {},
   "outputs": [],
   "source": [
    "# 5\n",
    "import time\n",
    "for i in range(10, 0, -1):\n",
    "    print(i, end=\" \")\n",
    "    time.sleep(1)   #1초 동안 정지\n",
    "print(\"발사! \")"
   ]
  },
  {
   "cell_type": "markdown",
   "metadata": {},
   "source": [
    "내장 모듈 - calendar"
   ]
  },
  {
   "cell_type": "code",
   "execution_count": null,
   "metadata": {},
   "outputs": [],
   "source": [
    "import calendar\n",
    "\n",
    "cal = calendar.month(2005, 5)\n",
    "print(cal)\n",
    "cal = calendar.calendar(2023)\n",
    "print(cal)"
   ]
  },
  {
   "cell_type": "markdown",
   "metadata": {},
   "source": [
    "p.451 연습문제"
   ]
  },
  {
   "cell_type": "code",
   "execution_count": null,
   "metadata": {},
   "outputs": [],
   "source": []
  },
  {
   "cell_type": "markdown",
   "metadata": {},
   "source": [
    "p.453 Programming"
   ]
  }
 ],
 "metadata": {
  "kernelspec": {
   "display_name": "Python 3",
   "language": "python",
   "name": "python3"
  },
  "language_info": {
   "codemirror_mode": {
    "name": "ipython",
    "version": 3
   },
   "file_extension": ".py",
   "mimetype": "text/x-python",
   "name": "python",
   "nbconvert_exporter": "python",
   "pygments_lexer": "ipython3",
   "version": "3.11.4"
  },
  "orig_nbformat": 4
 },
 "nbformat": 4,
 "nbformat_minor": 2
}
