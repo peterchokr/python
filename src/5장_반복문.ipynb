{
 "cells": [
  {
   "cell_type": "markdown",
   "metadata": {},
   "source": [
    "#### 5. 반복문"
   ]
  },
  {
   "cell_type": "code",
   "execution_count": null,
   "metadata": {},
   "outputs": [],
   "source": [
    "print(\"방문을 환영합니다!\")\n",
    "print(\"방문을 환영합니다!\")\n",
    "print(\"방문을 환영합니다!\")\n",
    "print(\"방문을 환영합니다!\")\n",
    "print(\"방문을 환영합니다!\")"
   ]
  },
  {
   "cell_type": "code",
   "execution_count": null,
   "metadata": {},
   "outputs": [],
   "source": [
    "for i in range(1000): # 아직 이해하지 않아도 된다!!\n",
    "\tprint(\"방문을 환영합니다!\")"
   ]
  },
  {
   "cell_type": "markdown",
   "metadata": {},
   "source": [
    "p.150 횟수 제어 반복"
   ]
  },
  {
   "cell_type": "markdown",
   "metadata": {},
   "source": [
    "p.152 range() 함수"
   ]
  },
  {
   "cell_type": "code",
   "execution_count": null,
   "metadata": {},
   "outputs": [],
   "source": [
    "for i in range(1, 6, 1):\n",
    "    print(i, end=\" \")"
   ]
  },
  {
   "cell_type": "code",
   "execution_count": null,
   "metadata": {},
   "outputs": [],
   "source": [
    "for i in range(10, 0, -1):\n",
    "    print(i, end=\" \")"
   ]
  },
  {
   "cell_type": "code",
   "execution_count": null,
   "metadata": {},
   "outputs": [],
   "source": [
    "# 1부터 n까지의 합 계산 프로그램\n",
    "sum = 0\n",
    "n = 10\n",
    "for i in range(1, n+1) :\t\t\t\t\n",
    "\tsum = sum + i\n",
    "print(\"합=\", sum)"
   ]
  },
  {
   "cell_type": "code",
   "execution_count": null,
   "metadata": {},
   "outputs": [],
   "source": [
    "# 구구단 출력 프로그램\n",
    "for i in range(1, 6):\n",
    "    print(\"9 *\", i, \"=\", 9*i)"
   ]
  },
  {
   "cell_type": "markdown",
   "metadata": {},
   "source": [
    "p.155 팩토리얼 계산하기"
   ]
  },
  {
   "cell_type": "code",
   "execution_count": null,
   "metadata": {},
   "outputs": [],
   "source": [
    "n = int(input(\"정수를 입력하시오: \"))\n",
    "fact = 1\n",
    "for i in range(1, n+1):\t\t\n",
    "\tfact = fact * i\n",
    "print(n, \"!은\", fact, \"이다.\")"
   ]
  },
  {
   "cell_type": "markdown",
   "metadata": {},
   "source": [
    "p.156 n-각형 그리기"
   ]
  },
  {
   "cell_type": "code",
   "execution_count": null,
   "metadata": {},
   "outputs": [],
   "source": [
    "import turtle\n",
    "t = turtle.Turtle()\n",
    "t.shape(\"turtle\")\n",
    "\n",
    "s = turtle.textinput(\"\", \"몇각형을 원하시나요?:\")\n",
    "n=int(s)\n",
    "\n",
    "for i in range(n):\n",
    "    t.forward(100)\n",
    "    t.left(360/n)\n",
    "\n",
    "turtle.done()"
   ]
  },
  {
   "cell_type": "markdown",
   "metadata": {},
   "source": [
    "p.157 조건 제어 반복"
   ]
  },
  {
   "cell_type": "markdown",
   "metadata": {},
   "source": [
    "p.158 투자금을 2배로 만드는 기간 프로그램"
   ]
  },
  {
   "cell_type": "code",
   "execution_count": null,
   "metadata": {},
   "outputs": [],
   "source": [
    "TARGET = 2000\t\t\t# 목표 금액\n",
    "money = 1000\t\t\t# 초기 자금\n",
    "year = 0\t\t\t# 연도\n",
    "rate = 0.07\t\t\t# 이자율\n",
    "\n",
    "# 현재 금액이 목표 금액보다 작으면 반복한다. \n",
    "while money < TARGET :\n",
    "\tmoney = money + money * rate\n",
    "\tyear = year + 1\n",
    "\n",
    "print(year, \"년\")"
   ]
  },
  {
   "cell_type": "markdown",
   "metadata": {},
   "source": [
    "1과 10까지의 합 계산하기"
   ]
  },
  {
   "cell_type": "code",
   "execution_count": null,
   "metadata": {},
   "outputs": [],
   "source": [
    "# 제어 변수를 선언한다. \n",
    "i = 1\n",
    "sum = 0\n",
    "\n",
    "# i 값이 10보다 작으면 반복\n",
    "while i <= 10 :\n",
    "\tsum = sum + i\n",
    "\ti = i + 1\n",
    "\n",
    "print(\"합계는\", sum)"
   ]
  },
  {
   "cell_type": "markdown",
   "metadata": {},
   "source": [
    "p.160 사용자가 입력하는 숫자의 합 계산하기"
   ]
  },
  {
   "cell_type": "code",
   "execution_count": null,
   "metadata": {},
   "outputs": [],
   "source": [
    "total = 0\n",
    "answer = \"yes\"\t\t\t\t# 반복이 수행되려면 answer의 초기값은 \"yes\"\n",
    "# answer = \"nos\"\t\t\t# 초기값이 no 이면 반복문은 실행되지 않는다.\n",
    "while answer == \"yes\":\t\t# answer가 “yes”인지를 검사한다.\n",
    "\tnumber = int(input(\"숫자를 입력하시오:  \"))\n",
    "\ttotal = total + number\n",
    "\tanswer = input(\"계속?(yes/no): \")\n",
    "print(\"합계는 : \", total)"
   ]
  },
  {
   "cell_type": "markdown",
   "metadata": {},
   "source": [
    "p.161 숫자 맞추기 게임"
   ]
  },
  {
   "cell_type": "code",
   "execution_count": null,
   "metadata": {},
   "outputs": [],
   "source": [
    "import random\n",
    "\n",
    "tries = 0\t\t\t\t# 시도 횟수\n",
    "guess = 0;\t\t\t\t# 사용자의 추측값\n",
    "answer = random.randint(1, 100)\t# 1과 100사이의 난수\n",
    "\n",
    "print(\"1부터 100 사이의 숫자를 맞추시오\")\n",
    "\n",
    "while guess != answer:\n",
    "    guess = int(input(\"숫자를 입력하시오: \"))\n",
    "    tries = tries + 1\n",
    "    if guess < answer:\n",
    "        print(\"너무 낮음!\")\n",
    "    elif guess > answer:\n",
    "        print(\"너무 높음!\")\n",
    "\n",
    "if guess == answer:\n",
    "     print(\"축하합니다. 시도횟수=\", tries)\n",
    "else:\n",
    "     print(\"정답은 \", answer)"
   ]
  },
  {
   "cell_type": "markdown",
   "metadata": {},
   "source": [
    "p.163 산수 문제 생성 프로그램"
   ]
  },
  {
   "cell_type": "code",
   "execution_count": null,
   "metadata": {},
   "outputs": [],
   "source": [
    "import random\n",
    "\n",
    "flag = True\n",
    "while flag:\n",
    "    x = random.randint(1, 100)\n",
    "    y = random.randint(1, 100)\n",
    "    answer = int(input(f\"{x} + {y} = \"))\n",
    "    if answer == x + y:\n",
    "        print(\"잘했어요!!\")\n",
    "    else:\n",
    "        print(\"틀렸어요. 복습하세요.\")\n",
    "        flag = False"
   ]
  },
  {
   "cell_type": "markdown",
   "metadata": {},
   "source": [
    "p.164 로그인 프로그램"
   ]
  },
  {
   "cell_type": "code",
   "execution_count": null,
   "metadata": {},
   "outputs": [],
   "source": [
    "password = \"\"\n",
    "while password != \"pythonisfun\":\n",
    "\tpassword = input(\"암호를 입력하시오: \")\n",
    "print(\"로그인 성공\")"
   ]
  },
  {
   "cell_type": "markdown",
   "metadata": {},
   "source": [
    "p.165 중첩 반복문"
   ]
  },
  {
   "cell_type": "markdown",
   "metadata": {},
   "source": [
    "사각형 패턴 출력하기"
   ]
  },
  {
   "cell_type": "code",
   "execution_count": null,
   "metadata": {},
   "outputs": [],
   "source": [
    "for y in range(5) :\n",
    "\tfor x in range(10) :\n",
    "\t\tprint(\"*\", end=\"\" )\t\t\t# 내부 반복문이 종료될 때마다 실행\n",
    "\tprint(\"\")"
   ]
  },
  {
   "cell_type": "markdown",
   "metadata": {},
   "source": [
    "삼각형 패턴 출력하기"
   ]
  },
  {
   "cell_type": "code",
   "execution_count": null,
   "metadata": {},
   "outputs": [],
   "source": [
    "for y in range(1, 6) :\n",
    "\tfor x in range(y) :\n",
    "\t\tprint(\"*\", end=\"\" )\n",
    "\tprint(\"\")\t\t\t# 내부 반복문이 종료될 때마다 실행"
   ]
  },
  {
   "cell_type": "markdown",
   "metadata": {},
   "source": [
    "p.167 주사위 합이 6이 되는 경우"
   ]
  },
  {
   "cell_type": "code",
   "execution_count": null,
   "metadata": {},
   "outputs": [],
   "source": [
    "for a in range(1, 7) :\n",
    "\tfor b in range(1, 7) :\n",
    "\t\t\tif a + b == 6 :\n",
    "\t\t\t\tprint(f\"첫 번째 주사위={a} 두 번째 주사위={b}\" )"
   ]
  },
  {
   "cell_type": "markdown",
   "metadata": {},
   "source": [
    "p.168 모든 조합 출력하기"
   ]
  },
  {
   "cell_type": "code",
   "execution_count": null,
   "metadata": {},
   "outputs": [],
   "source": [
    "coffee = [ \"Americano\" , \"Latte\" , \"Mocha\" ] \n",
    "cake = [ \"CheeseCake\" , \"StrawberryCake\", \"ChocolateCake\" ]\n",
    "\n",
    "for co in coffee:\n",
    "    for ca in cake:\n",
    "        print(co + \" \" + ca)"
   ]
  },
  {
   "cell_type": "markdown",
   "metadata": {},
   "source": [
    "p.169 무한 루프와 break, continue"
   ]
  },
  {
   "cell_type": "markdown",
   "metadata": {},
   "source": [
    "신호등이 색상이 녹색이 될 때까지 대기하는 프로그램"
   ]
  },
  {
   "cell_type": "code",
   "execution_count": null,
   "metadata": {},
   "outputs": [],
   "source": [
    "while True:\n",
    "    light = input('신호등 색상을 입력하시오 ')\n",
    "    if light == 'green':\n",
    "        break\n",
    "print( '전진!!')"
   ]
  },
  {
   "cell_type": "markdown",
   "metadata": {},
   "source": [
    "1부터 10에서 3의 배수만 빼고 출력하기"
   ]
  },
  {
   "cell_type": "code",
   "execution_count": null,
   "metadata": {},
   "outputs": [],
   "source": [
    "for i in range(1, 11):\n",
    "    if i%3 == 0 :\t\t# 3의 배수이면\n",
    "        continue\t\t# 다음 반복을 시작한다. \n",
    "    print(i, end=\" \")\t# 줄바꿈을 하지 않고 스페이스만 출력한다. "
   ]
  },
  {
   "cell_type": "markdown",
   "metadata": {},
   "source": [
    "p.174 거북이를 랜덤하게 움직이게 하자"
   ]
  },
  {
   "cell_type": "code",
   "execution_count": null,
   "metadata": {},
   "outputs": [],
   "source": [
    "import turtle\n",
    "import random\n",
    "t = turtle.Turtle()\n",
    "t.shape(\"turtle\")\n",
    "\n",
    "for i in range(30):\t\t\n",
    "   length = random.randint(1, 100)\n",
    "   t.forward(length)\n",
    "   angle = random.randint(-180, 180)\n",
    "   t.right(angle) \n",
    "\n",
    "turtle.mainloop()\n",
    "turtle.bye()"
   ]
  },
  {
   "cell_type": "markdown",
   "metadata": {},
   "source": [
    "p.176 스파이럴 그리기"
   ]
  },
  {
   "cell_type": "code",
   "execution_count": null,
   "metadata": {},
   "outputs": [],
   "source": [
    "import turtle \n",
    "import random\n",
    "\n",
    "t = turtle.Turtle()\n",
    "t.shape('turtle')\n",
    "t.width(3)\n",
    "t.speed(7)\n",
    "colors = ['orange', 'red', 'violet', 'green', 'blue']\n",
    "\n",
    "for i in range(100):\n",
    "    t.color(random.choice(colors))\t# 리스트 중에서 랜덤하게 하나를 선택한다.\n",
    "    t.right(20 + i)\n",
    "    t.forward(1 + (i * 6))\n",
    "    t.right(30 + i)\n",
    "    \n",
    "    # t.forward(2+i/4)  # 또 다른 스파이럴\n",
    "    # t.left(30-i/12)\n",
    "\n",
    "turtle.done()"
   ]
  },
  {
   "cell_type": "markdown",
   "metadata": {},
   "source": [
    "p. 179 연습문제"
   ]
  },
  {
   "cell_type": "markdown",
   "metadata": {},
   "source": [
    "p.182 Programming"
   ]
  }
 ],
 "metadata": {
  "kernelspec": {
   "display_name": "Python 3",
   "language": "python",
   "name": "python3"
  },
  "language_info": {
   "codemirror_mode": {
    "name": "ipython",
    "version": 3
   },
   "file_extension": ".py",
   "mimetype": "text/x-python",
   "name": "python",
   "nbconvert_exporter": "python",
   "pygments_lexer": "ipython3",
   "version": "3.11.4"
  },
  "orig_nbformat": 4
 },
 "nbformat": 4,
 "nbformat_minor": 2
}
