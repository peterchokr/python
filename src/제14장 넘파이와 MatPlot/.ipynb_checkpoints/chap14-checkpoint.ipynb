{
 "cells": [
  {
   "cell_type": "markdown",
   "metadata": {},
   "source": [
    "### 14.2 MatPlot"
   ]
  },
  {
   "cell_type": "markdown",
   "metadata": {},
   "source": [
    "MatPlot 라이브러리를 사용하기 위한 선언"
   ]
  },
  {
   "cell_type": "code",
   "execution_count": null,
   "metadata": {},
   "outputs": [],
   "source": [
    "import matplotlib.pyplot as plt"
   ]
  },
  {
   "cell_type": "markdown",
   "metadata": {},
   "source": [
    "직선 그래프"
   ]
  },
  {
   "cell_type": "code",
   "execution_count": null,
   "metadata": {},
   "outputs": [],
   "source": [
    "#Y값만 지정.\n",
    "plt.plot([15.6, 14.2, 16.3, 18.2, 17.1, 20.2, 22.4])\n",
    "plt.show()"
   ]
  },
  {
   "cell_type": "code",
   "execution_count": null,
   "metadata": {},
   "outputs": [],
   "source": [
    "#X값을 줄수도 있다.\n",
    "X = [ 1, 2, 3, 4, 5, 6, 7]\n",
    "Y = [15.6, 14.2, 16.3, 18.2, 17.1, 20.2, 22.4]\n",
    "\n",
    "plt.plot(X, Y)\n",
    "plt.show()"
   ]
  },
  {
   "cell_type": "code",
   "execution_count": null,
   "metadata": {},
   "outputs": [],
   "source": [
    "X = [ \"Mon\", \"Tue\", \"Wed\", \"Thur\", \"Fri\",  \"Sat\", \"Sun\" ] \n",
    "Y = [15.6, 14.2, 16.3, 18.2, 17.1, 20.2, 22.4]\n",
    "\n",
    "plt.plot(X, Y)\n",
    "plt.show()"
   ]
  },
  {
   "cell_type": "code",
   "execution_count": null,
   "metadata": {},
   "outputs": [],
   "source": [
    "#X축과 Y축에 레이블 붙이기\n",
    "X = [ \"Mon\", \"Tue\", \"Wed\", \"Thur\", \"Fri\",  \"Sat\", \"Sun\" ] \n",
    "Y = [15.6, 14.2, 16.3, 18.2, 17.1, 20.2, 22.4]\n",
    "\n",
    "plt.plot(X, Y)\n",
    "plt.xlabel(\"day\")\n",
    "plt.ylabel(\"temperature\")\n",
    "plt.show()"
   ]
  },
  {
   "cell_type": "code",
   "execution_count": null,
   "metadata": {},
   "outputs": [],
   "source": [
    "#하나의 그래프에 두개의 값을 겹쳐서 표시\n",
    "X = [ \"Mon\", \"Tue\", \"Wed\", \"Thur\", \"Fri\",  \"Sat\", \"Sun\" ] \n",
    "Y1 = [15.6, 14.2, 16.3, 18.2, 17.1, 20.2, 22.4]\n",
    "Y2 = [20.1, 23.1, 23.8, 25.9, 23.4, 25.1, 26.3]\n",
    "\n",
    "plt.plot(X, Y1, X, Y2)         # plot()에 2개의 쌍을 보낸다. \n",
    "plt.xlabel(\"day\")\n",
    "plt.ylabel(\"temperature\")\n",
    "plt.show()"
   ]
  },
  {
   "cell_type": "code",
   "execution_count": null,
   "metadata": {},
   "outputs": [],
   "source": [
    "#범례(legend)와 제목 붙이기\n",
    "X = [ \"Mon\", \"Tue\", \"Wed\", \"Thur\", \"Fri\",  \"Sat\", \"Sun\" ] \n",
    "Y1 = [15.6, 14.2, 16.3, 18.2, 17.1, 20.2, 22.4]\n",
    "Y2 = [20.1, 23.1, 23.8, 25.9, 23.4, 25.1, 26.3]\n",
    "\n",
    "plt.plot(X, Y1, label=\"Seoul\")    # 분리시켜서 그려도 됨\n",
    "plt.plot(X, Y2, label=\"Busan\")    # 분리시켜서 그려도 됨\n",
    "plt.xlabel(\"day\")\n",
    "plt.ylabel(\"temperature\")\n",
    "plt.legend(loc=\"upper left\")\n",
    "plt.title(\"Temperatures of Cities\")\n",
    "plt.show()"
   ]
  },
  {
   "cell_type": "markdown",
   "metadata": {},
   "source": [
    "점선 그래프"
   ]
  },
  {
   "cell_type": "code",
   "execution_count": null,
   "metadata": {},
   "outputs": [],
   "source": [
    "plt.plot([15.6, 14.2, 16.3, 18.2, 17.1, 20.2, 22.4], \"sm\")  #s: 마커의 종류(square), m: 색상(megenta)\n",
    "plt.show()"
   ]
  },
  {
   "cell_type": "markdown",
   "metadata": {},
   "source": [
    "막대 그래프"
   ]
  },
  {
   "cell_type": "code",
   "execution_count": null,
   "metadata": {},
   "outputs": [],
   "source": [
    "X = [ \"Mon\", \"Tue\", \"Wed\", \"Thur\", \"Fri\",  \"Sat\", \"Sun\" ] \n",
    "Y = [15.6, 14.2, 16.3, 18.2, 17.1, 20.2, 22.4]\n",
    "plt.bar(X, Y)\n",
    "plt.show()"
   ]
  },
  {
   "cell_type": "markdown",
   "metadata": {},
   "source": [
    "3차원 그래프"
   ]
  },
  {
   "cell_type": "code",
   "execution_count": null,
   "metadata": {},
   "outputs": [],
   "source": [
    "# 3dgraph.py\n",
    "import numpy as np\n",
    "import matplotlib.pyplot as plt\n",
    "from mpl_toolkits.mplot3d import Axes3D \n",
    "\n",
    "# 3차원 축(axis)을 얻는다. \n",
    "axis = plt.axes(projection='3d')\n",
    "#plt.show()\n",
    "\n",
    "# 3차원 데이터를 넘파이 배열로 생성한다. \n",
    "Z = np.linspace(0, 1, 100)\n",
    "X = Z * np.sin(30 * Z)\n",
    "Y = Z * np.cos(30 * Z)\n",
    "\n",
    "# 3차원 그래프를 그린다. \n",
    "axis.plot3D(X, Y, Z)"
   ]
  },
  {
   "cell_type": "markdown",
   "metadata": {},
   "source": [
    "### 14.3 넘파이 기초"
   ]
  },
  {
   "cell_type": "markdown",
   "metadata": {},
   "source": [
    "numpy를 사용하기 위한 선언"
   ]
  },
  {
   "cell_type": "code",
   "execution_count": null,
   "metadata": {},
   "outputs": [],
   "source": [
    "import numpy as np"
   ]
  },
  {
   "cell_type": "markdown",
   "metadata": {},
   "source": [
    "1차원 배열"
   ]
  },
  {
   "cell_type": "markdown",
   "metadata": {},
   "source": [
    "화씨 온도를 섭씨 온도로 바꾸는 코드를 numpy 유무에 따라 비교"
   ]
  },
  {
   "cell_type": "code",
   "execution_count": null,
   "metadata": {},
   "outputs": [],
   "source": [
    "#(1) numpy를 사용한 코드\n",
    "ftemp = [ 63, 73, 80, 86, 84, 78, 66, 54, 45, 63 ]\n",
    "F = np.array(ftemp)    #array() 함수를 이용해서 numpy 배열로 변환\n",
    "print((F-32)*5/9)    #배열에 스칼라 값을 곱해주면 배열의 모든 요소에 스칼라 값이 곱해진다.\n",
    "\n",
    "import matplotlib.pyplot as plt\n",
    "plt.plot(F)\n",
    "plt.show()"
   ]
  },
  {
   "cell_type": "code",
   "execution_count": null,
   "metadata": {},
   "outputs": [],
   "source": [
    "#(2) numpy를 사용하지 않는 코드\n",
    "ftemp = [ 63, 73, 80, 86, 84, 78, 66, 54, 45, 63 ]\n",
    "ctemp = [ (t-32)*5/9 for t in ftemp ]   #각 요소들을 반복문으로 계산\n",
    "print(ctemp)\n",
    "\n",
    "import matplotlib.pyplot as plt\n",
    "plt.plot(ctemp)\n",
    "plt.show()"
   ]
  },
  {
   "cell_type": "markdown",
   "metadata": {},
   "source": [
    "배열 간의 연산"
   ]
  },
  {
   "cell_type": "code",
   "execution_count": null,
   "metadata": {},
   "outputs": [],
   "source": [
    "#배열에 대한 모든 연산은 요소별로 적용되고 새로운 배열이 생성된다.\n",
    "A = np.array([1, 2, 3, 4])\n",
    "B = np.array([5, 6, 7, 8])\n",
    "result = A + B         # 넘파이 배열에 + 연산이 적용된다. \n",
    "print(result)"
   ]
  },
  {
   "cell_type": "code",
   "execution_count": null,
   "metadata": {},
   "outputs": [],
   "source": [
    "a = np.array([0, 9, 21, 3])\n",
    "print(a < 10)"
   ]
  },
  {
   "cell_type": "markdown",
   "metadata": {},
   "source": [
    "2차원 배열"
   ]
  },
  {
   "cell_type": "code",
   "execution_count": null,
   "metadata": {},
   "outputs": [],
   "source": [
    "b = np.array([[1, 2, 3], [4, 5, 6], [7, 8, 9]])\n",
    "print(b)\n",
    "print(b[0][2])"
   ]
  },
  {
   "cell_type": "markdown",
   "metadata": {},
   "source": [
    "넘파이 배열이 훨씬 빠르다"
   ]
  },
  {
   "cell_type": "code",
   "execution_count": null,
   "metadata": {},
   "outputs": [],
   "source": [
    "import numpy as np\n",
    "import time\n",
    "\n",
    "py_list = [i for i in range(10000000)]\n",
    "start = time.time()\t\t\t\t\t# 시작 시간\n",
    "py_list = [i+2 for i in py_list]\n",
    "end = time.time()\t\t\t\t\t# 종료 시간\n",
    "print(\"리스트=\", end-start)\n",
    "\n",
    "np_arr = np.array([i for i in range(10000000)])\n",
    "start = time.time()\t\t\t\t\t# 시작 시간\n",
    "np_arr += 2\n",
    "end = time.time()\t\t\t\t\t# 종료 시간\n",
    "print(\"넘파이=\", end-start)"
   ]
  },
  {
   "cell_type": "markdown",
   "metadata": {},
   "source": [
    "Lab: BMI 계산하기"
   ]
  },
  {
   "cell_type": "code",
   "execution_count": null,
   "metadata": {},
   "outputs": [],
   "source": [
    "import numpy as np\n",
    "\n",
    "heights = [1.83, 1.76, 1.69, 1.86, 1.77, 1.73]\n",
    "weights = [86, 74, 59, 95, 80, 68]\n",
    "\n",
    "np_heights = np.array(heights)\n",
    "np_weights = np.array(weights)\n",
    "\n",
    "bmi = np_weights/(np_heights**2)\n",
    "print(bmi)"
   ]
  },
  {
   "cell_type": "markdown",
   "metadata": {},
   "source": [
    "### 14.4 넘파이 데이터 생성 함수들"
   ]
  },
  {
   "cell_type": "markdown",
   "metadata": {},
   "source": [
    "arange() 함수"
   ]
  },
  {
   "cell_type": "code",
   "execution_count": null,
   "metadata": {},
   "outputs": [],
   "source": [
    "A = np.arange(1, 10, 2)\n",
    "print(A)\n",
    "plt.plot(A)\n",
    "plt.show()"
   ]
  },
  {
   "cell_type": "markdown",
   "metadata": {},
   "source": [
    "linspace() 함수"
   ]
  },
  {
   "cell_type": "code",
   "execution_count": null,
   "metadata": {},
   "outputs": [],
   "source": [
    "A = np.linspace(0, 10, 100)\n",
    "print(A)\n",
    "plt.plot(A)\n",
    "plt.show()"
   ]
  },
  {
   "cell_type": "markdown",
   "metadata": {},
   "source": [
    "균일 분포와 정규 분포"
   ]
  },
  {
   "cell_type": "code",
   "execution_count": null,
   "metadata": {},
   "outputs": [],
   "source": [
    "import matplotlib.pyplot as plt\n",
    "import numpy as np\n",
    "\n",
    "uni = np.random.rand(1000)      # 균일분포에서 생성된 값들\n",
    "normal = np.random.randn(1000)  #정규분포에서 생성된 값들\n",
    "\n",
    "fig, axs = plt.subplots(1, 2, sharey=True)\n",
    "\n",
    "axs[0].hist(uni)\n",
    "axs[1].hist(normal)"
   ]
  },
  {
   "cell_type": "markdown",
   "metadata": {},
   "source": [
    "균일 분포 난수 생성"
   ]
  },
  {
   "cell_type": "code",
   "execution_count": null,
   "metadata": {},
   "outputs": [],
   "source": [
    "# seed 지정\n",
    "# 난수를 생성할 때 마다 값이 달라지는 것이 아니라, 누가, 언제 하든지 간에 똑같은 난수 생성을 원한다면 seed를 지정해주면 된다. \n",
    "np.random.seed(100)"
   ]
  },
  {
   "cell_type": "code",
   "execution_count": null,
   "metadata": {},
   "outputs": [],
   "source": [
    "# 균일 분포로 5개의 난수 생성(0.0에서 1.0 사이의 값으로). rand()\n",
    "print(np.random.rand(5))"
   ]
  },
  {
   "cell_type": "code",
   "execution_count": null,
   "metadata": {},
   "outputs": [],
   "source": [
    "# 2차원 배열(크기 5x3)로 난수 생성\n",
    "print(np.random.rand(5, 3))"
   ]
  },
  {
   "cell_type": "code",
   "execution_count": null,
   "metadata": {},
   "outputs": [],
   "source": [
    "# 어떤 범위(10에서 20사이)에 있는 난수 생성 \n",
    "a=10; b=20     # ;은 명령문의 끝을 의미한다.\n",
    "print((b-a)*np.random.rand(5)+a)"
   ]
  },
  {
   "cell_type": "markdown",
   "metadata": {},
   "source": [
    "정규 분포 난수 생성"
   ]
  },
  {
   "cell_type": "code",
   "execution_count": null,
   "metadata": {},
   "outputs": [],
   "source": [
    "# 정규분포로 5개의 난수 생성. randn()\n",
    "print(np.random.randn(5))"
   ]
  },
  {
   "cell_type": "code",
   "execution_count": null,
   "metadata": {},
   "outputs": [],
   "source": [
    "# 2차원 배열(크기 5x4)로 난수 생성\n",
    "print(np.random.randn(5, 4))"
   ]
  },
  {
   "cell_type": "code",
   "execution_count": null,
   "metadata": {},
   "outputs": [],
   "source": [
    "# 평균값과 표준편차를 0, 1.0 외의 다른값으로 지정하는 경우\n",
    "m, sigma = 10, 2      # 평균과 표준 편차\n",
    "print(m + sigma*np.random.randn(5))"
   ]
  },
  {
   "cell_type": "code",
   "execution_count": null,
   "metadata": {},
   "outputs": [],
   "source": [
    "# 평균값과 표준편차를 지정하는 또 다른 방법. normal() 함수\n",
    "mu, sigma = 0, 0.1      # 평균과 표준 편차\n",
    "print(np.random.normal(mu, sigma, 5))"
   ]
  },
  {
   "cell_type": "markdown",
   "metadata": {},
   "source": [
    "Lab: 잡음이 들어간 직선 그리기"
   ]
  },
  {
   "cell_type": "code",
   "execution_count": null,
   "metadata": {},
   "outputs": [],
   "source": [
    "import numpy as np\n",
    "import matplotlib.pyplot as plt\n",
    "\n",
    "pure = np.linspace(1, 10, 100)        # 1부터 10까지 100개의 데이터 생성\n",
    "noise = np.random.normal(0, 1, 100)         # 평균이 0이고 표준편차가 1인 100개의 난수 생성\n",
    "\n",
    "# 넘파이 배열 간 덧셈 연산, 요소별로 덧셈이 수행된다. \n",
    "signal = pure + noise\n",
    "\n",
    "# 선 그래프를 그린다. \n",
    "plt.plot(pure)\n",
    "plt.plot(signal)\n",
    "plt.show()"
   ]
  },
  {
   "cell_type": "markdown",
   "metadata": {},
   "source": [
    "### 14.5 넘파이 내장 함수들"
   ]
  },
  {
   "cell_type": "code",
   "execution_count": null,
   "metadata": {},
   "outputs": [],
   "source": [
    "#넘파이에 함수를 적용하면 배열의 모든 요소에 함수가 적용된다. \n",
    "scores = np.array([[99, 93, 60], [98, 82, 93],\n",
    "                   [93, 65, 81], [78, 82, 81]])\n",
    "print(scores.sum())  # 합\n",
    "print(scores.min())  # 최소값\n",
    "print(scores.max())  # 최대값\n",
    "print(scores.mean()) # 평균\n",
    "print(scores.std())  # 표준편차\n",
    "print(scores.var())  # 분산"
   ]
  },
  {
   "cell_type": "code",
   "execution_count": null,
   "metadata": {},
   "outputs": [],
   "source": [
    "# axis를 이용하여 특정 행(1)이나 열(0) 방향을 지정할 수 있다.\n",
    "scores = np.array([[99, 93, 60], [98, 82, 93],\n",
    "                   [93, 65, 81], [78, 82, 81]])\n",
    "print(scores.mean(axis=0))\n",
    "print(scores.mean(axis=1))"
   ]
  },
  {
   "cell_type": "markdown",
   "metadata": {},
   "source": [
    "히스토그램"
   ]
  },
  {
   "cell_type": "code",
   "execution_count": null,
   "metadata": {},
   "outputs": [],
   "source": [
    "import matplotlib.pyplot as plt\n",
    "import numpy as np\n",
    "\n",
    "numbers = np.array([1,2,2,3,4,6,7,8,8,8,8,9])\n",
    "#numbers = np.random.normal(size=10000)   #정규분포에서 생성된 값들\n",
    "\n",
    "plt.hist(numbers)\n",
    "plt.xlabel(\"value\")\n",
    "plt.ylabel(\"freq\")\n",
    "plt.show()"
   ]
  },
  {
   "cell_type": "markdown",
   "metadata": {},
   "source": [
    "Lab: 정규 분포 그래프 그리기"
   ]
  },
  {
   "cell_type": "code",
   "execution_count": null,
   "metadata": {},
   "outputs": [],
   "source": [
    "import numpy as np\n",
    "import matplotlib.pyplot as plt\n",
    "\n",
    "m, sigma = 10, 2\n",
    "Y1 = np.random.randn(10000)\n",
    "Y2 = m+sigma*np.random.randn(10000)\n",
    "\n",
    "plt.figure(figsize=(10,6))        # 그래프의 크기 설정(단위:inch)\n",
    "plt.hist(Y1, bins=20)\n",
    "plt.hist(Y2, bins=20)\n",
    "plt.show()"
   ]
  },
  {
   "cell_type": "markdown",
   "metadata": {},
   "source": [
    "Lab: 싸인 함수 그리기"
   ]
  },
  {
   "cell_type": "code",
   "execution_count": null,
   "metadata": {},
   "outputs": [],
   "source": [
    "import matplotlib.pyplot as plt\n",
    "import numpy as np\n",
    "\n",
    "# -2π에서 +2π까지 100개의 데이터를 균일하게 생성한다. \n",
    "X = np.linspace(-2 * np.pi, 2 * np.pi, 100)\n",
    "\n",
    "# 넘파이 배열에 sin() 함수를 적용한다. \n",
    "Y1 = np.sin(X)\n",
    "Y2 = 3 * np.sin(X)\n",
    "\n",
    "plt.plot(X, Y1, X, Y2)\n",
    "plt.show()"
   ]
  },
  {
   "cell_type": "markdown",
   "metadata": {},
   "source": [
    "Lab: MSE 오차 계산하기"
   ]
  },
  {
   "cell_type": "code",
   "execution_count": null,
   "metadata": {},
   "outputs": [],
   "source": [
    "# calc_mse.py\n",
    "import numpy as np\n",
    "\n",
    "ypred = np.array([1, 0, 0, 0, 0])\n",
    "y = np.array([0, 1, 0, 0, 0])\n",
    "n = 5\n",
    "MSE = (1/n) * np.sum(np.square(ypred-y))\n",
    "print(MSE)"
   ]
  },
  {
   "cell_type": "markdown",
   "metadata": {},
   "source": [
    "### 14.6 인덱싱과 슬라이싱"
   ]
  },
  {
   "cell_type": "markdown",
   "metadata": {},
   "source": [
    "인덱싱과 슬라이싱"
   ]
  },
  {
   "cell_type": "code",
   "execution_count": null,
   "metadata": {},
   "outputs": [],
   "source": [
    "grades = np.array([ 88, 72, 93, 94])\n",
    "print(grades[1:3])\n",
    "print(grades[:2])"
   ]
  },
  {
   "cell_type": "markdown",
   "metadata": {},
   "source": [
    "논리적인 인덱싱"
   ]
  },
  {
   "cell_type": "code",
   "execution_count": null,
   "metadata": {},
   "outputs": [],
   "source": [
    "ages = np.array([18, 19, 25, 30, 28])\n",
    "print(ages > 20)\n",
    "print(ages[ages > 20])"
   ]
  },
  {
   "cell_type": "markdown",
   "metadata": {},
   "source": [
    "2차원 배열의 슬라이싱"
   ]
  },
  {
   "cell_type": "code",
   "execution_count": null,
   "metadata": {},
   "outputs": [],
   "source": [
    "a = np.array([[1, 2, 3], [4, 5, 6], [7, 8, 9]])\n",
    "print(a[0:2, 1:3])"
   ]
  },
  {
   "cell_type": "code",
   "execution_count": null,
   "metadata": {},
   "outputs": [],
   "source": [
    "a = np.array([[1, 2, 3], [4, 5, 6], [7, 8, 9]])\n",
    "print(a > 5)\n",
    "print(a[a > 5])"
   ]
  },
  {
   "cell_type": "markdown",
   "metadata": {},
   "source": [
    "Lab: 직원들의 월급 인상하기"
   ]
  },
  {
   "cell_type": "code",
   "execution_count": null,
   "metadata": {},
   "outputs": [],
   "source": [
    "#월급을 100만원씩 올려주기\n",
    "salary = np.array([220, 250, 230])\n",
    "salary = salary + 100\n",
    "print(salary)"
   ]
  },
  {
   "cell_type": "code",
   "execution_count": null,
   "metadata": {},
   "outputs": [],
   "source": [
    "# 월급을 2배 올려주기\n",
    "salary = np.array([220, 250, 230])\n",
    "salary = salary * 2\n",
    "print(salary)\n",
    "\n",
    "# 월급이 450만원 이상인 직원이 있는지 찾기\n",
    "print(salary > 450)"
   ]
  },
  {
   "cell_type": "markdown",
   "metadata": {},
   "source": [
    "Lab: 그래프 그리기"
   ]
  },
  {
   "cell_type": "code",
   "execution_count": null,
   "metadata": {},
   "outputs": [],
   "source": [
    "import matplotlib.pyplot as plt\n",
    "import numpy as np\n",
    "\n",
    "X = np.arange(0, 10)\n",
    "\n",
    "Y1 = np.ones(10)            # ones()는 0으로 이루어진 넘파이 배열 생성\n",
    "Y2 = X \n",
    "Y3 = X**2 \n",
    "\n",
    "# 3개의 그래프를 하나의 축에 그린다. \n",
    "plt.plot(X, Y1, X, Y2, X, Y3)\n",
    "plt.show()"
   ]
  },
  {
   "cell_type": "markdown",
   "metadata": {},
   "source": [
    "### 14.7 약간의 수치해석"
   ]
  },
  {
   "cell_type": "markdown",
   "metadata": {},
   "source": [
    "전치 행렬 계산하기"
   ]
  },
  {
   "cell_type": "code",
   "execution_count": null,
   "metadata": {},
   "outputs": [],
   "source": [
    "x = np.array([[1, 2, 3], [4, 5, 6], [7, 8, 9]])\n",
    "print(x.transpose())\n",
    "# 또는 \n",
    "print(x.T)"
   ]
  },
  {
   "cell_type": "markdown",
   "metadata": {},
   "source": [
    "역행렬 계산하기"
   ]
  },
  {
   "cell_type": "code",
   "execution_count": null,
   "metadata": {},
   "outputs": [],
   "source": [
    "x = np.array([[1,2],[3,4]]) \n",
    "y = np.linalg.inv(x)    # 역행렬을 구한다.\n",
    "print(y)"
   ]
  },
  {
   "cell_type": "code",
   "execution_count": null,
   "metadata": {},
   "outputs": [],
   "source": [
    "x = np.array([[1,2],[3,4]]) \n",
    "y = np.linalg.inv(x) \n",
    "z = np.dot(x, y)     #원래 행렬과 역 행렬을 곱하면 단위 행렬이 된다. 또는 print(x @ y)\n",
    "print(z)"
   ]
  },
  {
   "cell_type": "markdown",
   "metadata": {},
   "source": [
    "선형방정식 풀기"
   ]
  },
  {
   "cell_type": "code",
   "execution_count": null,
   "metadata": {},
   "outputs": [],
   "source": [
    "# 3*x1 + x2 = 9와 x1 + 2*x2 = 8의 해를 구하기\n",
    "a = np.array([[3, 1], [1, 2]])\n",
    "b = np.array([9, 8])\n",
    "x = np.linalg.solve(a, b)\n",
    "print(x)"
   ]
  },
  {
   "cell_type": "code",
   "execution_count": null,
   "metadata": {},
   "outputs": [],
   "source": []
  }
 ],
 "metadata": {
  "kernelspec": {
   "display_name": "Python 3",
   "language": "python",
   "name": "python3"
  },
  "language_info": {
   "codemirror_mode": {
    "name": "ipython",
    "version": 3
   },
   "file_extension": ".py",
   "mimetype": "text/x-python",
   "name": "python",
   "nbconvert_exporter": "python",
   "pygments_lexer": "ipython3",
   "version": "3.8.8"
  }
 },
 "nbformat": 4,
 "nbformat_minor": 2
}
