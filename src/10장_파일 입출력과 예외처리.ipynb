{
 "cells": [
  {
   "cell_type": "markdown",
   "metadata": {},
   "source": [
    "#### 10. 파일 입출력과 예외처리"
   ]
  },
  {
   "cell_type": "markdown",
   "metadata": {},
   "source": [
    "(주의) 데이터 폴더로 코딩을 실습해야."
   ]
  },
  {
   "cell_type": "code",
   "execution_count": null,
   "metadata": {},
   "outputs": [],
   "source": [
    "import os\n",
    "print(os.getcwd())\t"
   ]
  },
  {
   "cell_type": "code",
   "execution_count": null,
   "metadata": {},
   "outputs": [],
   "source": [
    "os.chdir('.\\\\chap10_data')\n",
    "print(os.getcwd())"
   ]
  },
  {
   "cell_type": "markdown",
   "metadata": {},
   "source": [
    "p.340 파일에 쓰기"
   ]
  },
  {
   "cell_type": "code",
   "execution_count": null,
   "metadata": {},
   "outputs": [],
   "source": [
    "f = open(\"test.txt\", \"w\")\n",
    "f.write(\"파이썬은 강력합니다.\\n\")\n",
    "f.close()"
   ]
  },
  {
   "cell_type": "markdown",
   "metadata": {},
   "source": [
    "p.341 파일에서 읽기"
   ]
  },
  {
   "cell_type": "code",
   "execution_count": null,
   "metadata": {},
   "outputs": [],
   "source": [
    "f = open(\"test.txt\", \"r\")\n",
    "s = f.read()\n",
    "print(s)\n",
    "f.close()"
   ]
  },
  {
   "cell_type": "markdown",
   "metadata": {},
   "source": [
    "파일에 추가하기"
   ]
  },
  {
   "cell_type": "code",
   "execution_count": null,
   "metadata": {},
   "outputs": [],
   "source": [
    "f = open(\"test.txt\", \"a\")\n",
    "f.write(\"파이썬은 간결합니다.\\n\")\n",
    "f.close()\n",
    "f = open(\"test.txt\", \"r\")\n",
    "s = f.read()\n",
    "print(s)\n",
    "f.close()"
   ]
  },
  {
   "cell_type": "markdown",
   "metadata": {},
   "source": [
    "with 문으로 파일 열기"
   ]
  },
  {
   "cell_type": "code",
   "execution_count": null,
   "metadata": {},
   "outputs": [],
   "source": [
    "with open(\"test.txt\", \"w\") as f:\n",
    "    f.write(\"파이썬은 간결합니다.\\n\")\n",
    "    \n",
    "    # f.close()를 호출하지 않아도 된다."
   ]
  },
  {
   "cell_type": "markdown",
   "metadata": {},
   "source": [
    "p.342 파일을 연 후에는 무엇을 하는가?   \n",
    "문자열로 분리하여 원하는 작업을 할 수 있다."
   ]
  },
  {
   "cell_type": "code",
   "execution_count": null,
   "metadata": {},
   "outputs": [],
   "source": [
    "f = open(\"test.txt\", \"r\", encoding=\"utf-8\")\n",
    "s = f.read()\n",
    "myList = s.split(\"\\n\")  # 리스트에 저장된다.\n",
    "print(myList)\n",
    "f.close()"
   ]
  },
  {
   "cell_type": "markdown",
   "metadata": {},
   "source": [
    "p.346 CSV 데이터 처리하기"
   ]
  },
  {
   "cell_type": "code",
   "execution_count": null,
   "metadata": {},
   "outputs": [],
   "source": [
    "import csv\t\t\t\t\t# CSV 모듈을 불러온다. \n",
    "\n",
    "f = open('weather.csv')\t\t# CSV 파일을 열어서 f에 저장한다. \n",
    "data = csv.reader(f)\t\t# reader() 함수를 이용하여 읽는다. \n",
    "for row in data:\n",
    "\tprint(row)\n",
    "f.close()"
   ]
  },
  {
   "cell_type": "markdown",
   "metadata": {},
   "source": [
    "첫번째 행(데이터 속성 표시)을 제거"
   ]
  },
  {
   "cell_type": "code",
   "execution_count": null,
   "metadata": {},
   "outputs": [],
   "source": [
    "import csv\t\t\t\t\t# CSV 모듈을 불러온다. \n",
    "\n",
    "f = open('weather.csv')\t\t# CSV 파일을 열어서 f에 저장한다. \n",
    "data = csv.reader(f)\t\t# reader() 함수를 이용하여 읽는다. \n",
    "header = next(data)\t\t\t# 헤더를 제거한다. \n",
    "for row in data:\t\t\t# 반복 루프를 사용하여 데이터를 읽는다.\n",
    "\tprint(row)\n",
    "f.close()\t\t\t\t\t# 파일을 닫는다. "
   ]
  },
  {
   "cell_type": "markdown",
   "metadata": {},
   "source": [
    "서울이 언제 가장 추었는지 조사"
   ]
  },
  {
   "cell_type": "code",
   "execution_count": null,
   "metadata": {},
   "outputs": [],
   "source": [
    "import csv\n",
    "\n",
    "f = open('weather.csv')\n",
    "data = csv.reader(f)\n",
    "header = next(data)\n",
    "temp = 1000\n",
    "when = \"\"\n",
    "for row in data:\n",
    "    if temp > float(row[3]):\n",
    "        temp = float(row[3])\n",
    "        when = row[0]\n",
    "print(temp, \"날짜:\", when)\n",
    "f.close()"
   ]
  },
  {
   "cell_type": "markdown",
   "metadata": {},
   "source": [
    "p.349 Lab. 인구 데이터 - 서울의 인구만을 추출"
   ]
  },
  {
   "cell_type": "code",
   "execution_count": null,
   "metadata": {},
   "outputs": [],
   "source": [
    "import csv\n",
    "import matplotlib.pyplot as plt\n",
    "\n",
    "f = open('ages.csv')\n",
    "data = csv.reader(f)\n",
    "header = next(data)\n",
    "\n",
    "for row in data:\n",
    "    if '서울특별시' in row[0]: \n",
    "        print(row)\n",
    "f.close()"
   ]
  },
  {
   "cell_type": "markdown",
   "metadata": {},
   "source": [
    "p.350 디렉토리 작업"
   ]
  },
  {
   "cell_type": "markdown",
   "metadata": {},
   "source": [
    "현재 작업 디렉토리"
   ]
  },
  {
   "cell_type": "code",
   "execution_count": null,
   "metadata": {},
   "outputs": [],
   "source": [
    "import os\n",
    "\n",
    "print(os.getcwd())\t# 현재 작업 디렉토리를 문자열 형식으로 반환\n",
    "print(os.getcwdb())\t\t# 바이트 배열 객체로 가져오기"
   ]
  },
  {
   "cell_type": "markdown",
   "metadata": {},
   "source": [
    "디렉토리 변경"
   ]
  },
  {
   "cell_type": "code",
   "execution_count": null,
   "metadata": {},
   "outputs": [],
   "source": [
    "os.chdir('C:\\\\')\n",
    "print(os.getcwd())"
   ]
  },
  {
   "cell_type": "markdown",
   "metadata": {},
   "source": [
    "p351. 디렉토리 안의 파일 나열"
   ]
  },
  {
   "cell_type": "code",
   "execution_count": null,
   "metadata": {},
   "outputs": [],
   "source": [
    "s = os.listdir()\t\t# 리스트 형식으로 반환\n",
    "print(s)\n",
    "\n",
    "print(os.listdir('C:\\\\Temp'))\t"
   ]
  },
  {
   "cell_type": "code",
   "execution_count": null,
   "metadata": {},
   "outputs": [],
   "source": [
    "for filename in os.listdir():\t# 하나씩 출력한다.\n",
    "    print(filename)\t# 폴더, 파일 모두 출력한다."
   ]
  },
  {
   "cell_type": "code",
   "execution_count": null,
   "metadata": {},
   "outputs": [],
   "source": [
    "for filename in os.listdir():    \n",
    "    if os.path.isfile(filename):\t# 파일만 처리\n",
    "        print(filename)"
   ]
  },
  {
   "cell_type": "code",
   "execution_count": null,
   "metadata": {},
   "outputs": [],
   "source": [
    "cwd = os.getcwd()\n",
    "files = os.listdir()\n",
    "for name in files :\n",
    "\tif os.path.isfile(name) :\n",
    "\t\tif name.endswith(\".jpg\") :      #.jpg 파일만 찾아서 출력\n",
    "\t\t\tprint(name)"
   ]
  },
  {
   "cell_type": "markdown",
   "metadata": {},
   "source": [
    "p.352 새 디렉토리 만들기"
   ]
  },
  {
   "cell_type": "code",
   "execution_count": null,
   "metadata": {},
   "outputs": [],
   "source": [
    "os.mkdir('test')\n",
    "print(os.listdir())"
   ]
  },
  {
   "cell_type": "markdown",
   "metadata": {},
   "source": [
    "디렉토리 또는 파일 이름 바꾸기"
   ]
  },
  {
   "cell_type": "code",
   "execution_count": null,
   "metadata": {},
   "outputs": [],
   "source": [
    "print(os.listdir())\n",
    "os.rename('test', 'test2')\n",
    "print(os.listdir())"
   ]
  },
  {
   "cell_type": "markdown",
   "metadata": {},
   "source": [
    "디렉토리 또는 파일 제거"
   ]
  },
  {
   "cell_type": "code",
   "execution_count": null,
   "metadata": {},
   "outputs": [],
   "source": [
    "print(os.listdir())\n",
    "os.remove('packageTest.java')\t# 파일 제거\n",
    "print(os.listdir())\n",
    "\n",
    "os.rmdir('test')\t# 디렉토리 제거\n",
    "print(os.listdir())"
   ]
  },
  {
   "cell_type": "markdown",
   "metadata": {},
   "source": [
    "p.353 Lab. 디렉토리 안의 파일 처리   \n",
    "파일 중에서 'Python'을 포함하고 있는 줄이 있으면 파일이 이름, 줄번호와 함께 해당 줄을 출력한다."
   ]
  },
  {
   "cell_type": "code",
   "execution_count": null,
   "metadata": {},
   "outputs": [],
   "source": [
    "import os\n",
    "arr = os.listdir()\n",
    "\n",
    "for f in arr:\n",
    "    if f.endswith(\".txt\") or f.endswith(\".py\"):     # 대상 파일을 제한\n",
    "        infile = open(f, \"r\", encoding=\"utf-8\")\n",
    "        linecnt = 0\n",
    "        for line in infile:\n",
    "            linecnt += 1            # 줄번호 \n",
    "            e = line.rstrip()\t\t# 오른쪽 줄바꿈 문자를 없앤다. \n",
    "            if \"Python\" in e:\n",
    "                print(f, linecnt, \":\", e)\n",
    "        infile.close()\n",
    "\n",
    "\n",
    "# if os.path.exists(\"aa.txt\"):\n",
    "#     print(\"ok\")\n",
    "    \n",
    "# if os.path.isfile(\"aa.txt\"):\n",
    "#     print(\"ok\")"
   ]
  },
  {
   "cell_type": "markdown",
   "metadata": {},
   "source": [
    "p.354 Lab. 수학문제지 100개 만들기"
   ]
  },
  {
   "cell_type": "code",
   "execution_count": null,
   "metadata": {},
   "outputs": [],
   "source": [
    "import random\n",
    "import os\n",
    "\n",
    "os.mkdir(\"math_ex\")\n",
    "\n",
    "for i in range(100):\n",
    "\tf = open(f\"math_ex/ex{i}.txt\", \"w\")\n",
    "\tf.write(\"다음의 문제를 풀어서 제출하세요\\n\")\n",
    "\tf.write(\"이름:       점수:        \\n\\n\")\n",
    "\n",
    "\tfor k in range(10):\n",
    "\t\tx = random.randint(0, 100)\n",
    "\t\ty = random.randint(0, 100)\n",
    "\t\top = random.choice(\"+-*/\")\n",
    "\t\tf.write(f\"{x} {op} {y} = \\n\")\n",
    "\tf.close()"
   ]
  },
  {
   "cell_type": "markdown",
   "metadata": {},
   "source": [
    "p.355 이진 파일"
   ]
  },
  {
   "cell_type": "markdown",
   "metadata": {},
   "source": [
    "이진 파일에서 바이트 읽기"
   ]
  },
  {
   "cell_type": "code",
   "execution_count": null,
   "metadata": {},
   "outputs": [],
   "source": [
    "filename = \"cat.jpg\"\n",
    "infile = open(filename, \"rb\")   #이진파일 읽기\n",
    "bytesArray = infile.read(8)      #입력파일에서 8바이트 읽기\n",
    "byte1 = bytesArray[0]       # 첫번째 바이트 꺼내기\n",
    "infile.close()"
   ]
  },
  {
   "cell_type": "markdown",
   "metadata": {},
   "source": [
    "이진 파일에 바이트 저장하기"
   ]
  },
  {
   "cell_type": "code",
   "execution_count": null,
   "metadata": {},
   "outputs": [],
   "source": [
    "filename = \"out.aaa\"\n",
    "outfile = open(filename, \"wb\")\n",
    "bytesArray = bytes([255, 128, 0, 1])\n",
    "outfile.write(bytesArray)\n",
    "outfile.close()"
   ]
  },
  {
   "cell_type": "markdown",
   "metadata": {},
   "source": [
    "p.356 이진 파일 복사하기"
   ]
  },
  {
   "cell_type": "code",
   "execution_count": null,
   "metadata": {},
   "outputs": [],
   "source": [
    "infile = open(\"123.png\", \"rb\")\n",
    "outfile = open(\"kkk.png\", \"wb\")\n",
    "\n",
    "# 입력 파일에서 1024 바이트씩 읽어서 출력 파일에 쓴다. \n",
    "while True:\n",
    "    copy_buffer = infile.read(1024)\n",
    "    if not copy_buffer:\n",
    "        break\n",
    "    outfile.write(copy_buffer)\n",
    "\n",
    "infile.close()\n",
    "outfile.close()\n",
    "print(str(infile)+\"를 \" +str(outfile)+\"로 복사하였습니다. \")"
   ]
  },
  {
   "cell_type": "markdown",
   "metadata": {},
   "source": [
    "p.357 객체 출력"
   ]
  },
  {
   "cell_type": "markdown",
   "metadata": {},
   "source": [
    "p.358 딕셔너리 저장하기"
   ]
  },
  {
   "cell_type": "code",
   "execution_count": null,
   "metadata": {},
   "outputs": [],
   "source": [
    "import pickle\n",
    "\n",
    "gameOption = { \t\t\t# 파일을 닫는다.\t\n",
    "\t\t\t \"Sound\": 8,\n",
    "\t\t\t \"VideoQuality\": \"HIGH\",\n",
    "\t\t\t \"Money\": 100000,\n",
    "\t\t\t \"WeaponList\": [\"gun\", \"missile\", \"knife\" ]\n",
    "}\n",
    "\n",
    "file = open(\"save.p\", \"wb\")\t# 이진 파일 오픈\n",
    "pickle.dump(gameOption, file)\t# 딕셔너리를 피클 파일에 저장\n",
    "file.close()\t\t\t\t# 파일을 닫는다."
   ]
  },
  {
   "cell_type": "markdown",
   "metadata": {},
   "source": [
    "p.359 딕셔너리 복원하기"
   ]
  },
  {
   "cell_type": "code",
   "execution_count": null,
   "metadata": {},
   "outputs": [],
   "source": [
    "import pickle\n",
    "\n",
    "file = open(\"save.p\", \"rb\")\t\t# 이진 파일 오픈\n",
    "obj = pickle.load(file)\t# 피클 파일에 딕션너리를 로딩\n",
    "print(obj)"
   ]
  },
  {
   "cell_type": "markdown",
   "metadata": {},
   "source": [
    "p.359 예외처리"
   ]
  },
  {
   "cell_type": "markdown",
   "metadata": {},
   "source": [
    "p.362 0으로 나누는 예외 처리"
   ]
  },
  {
   "cell_type": "code",
   "execution_count": null,
   "metadata": {},
   "outputs": [],
   "source": [
    "(x,y) = (2,0)\n",
    "try:\n",
    "    z = x/y\n",
    "except ZeroDivisionError:\n",
    "    print (\"0으로 나누는 예외\")"
   ]
  },
  {
   "cell_type": "code",
   "execution_count": null,
   "metadata": {},
   "outputs": [],
   "source": [
    "(x,y) = (2,0)\n",
    "try:\n",
    "    z = x/y\n",
    "except ZeroDivisionError as e:  # 시스템이 내보내는 예외 메시지 출력\n",
    "    print (e)"
   ]
  },
  {
   "cell_type": "markdown",
   "metadata": {},
   "source": [
    "입력 오류를 예외 처리"
   ]
  },
  {
   "cell_type": "code",
   "execution_count": null,
   "metadata": {},
   "outputs": [],
   "source": [
    "while True:\n",
    "    try:\n",
    "        n = input(\"숫자를 입력하시오 :  \")\n",
    "        n = int(n)\n",
    "        break\n",
    "    except ValueError:\n",
    "        print(\"정수가 아닙니다. 다시 입력하시오. \")\n",
    "print(\"정수 입력이 성공하였습니다!\")"
   ]
  },
  {
   "cell_type": "markdown",
   "metadata": {},
   "source": [
    "파일 열기에서 예외 처리"
   ]
  },
  {
   "cell_type": "code",
   "execution_count": null,
   "metadata": {},
   "outputs": [],
   "source": [
    "try:\n",
    "\tfname = input(\"파일 이름을 입력하세요: \")\n",
    "\tinfile = open(fname, \"r\")\n",
    "except IOError:\n",
    "\tprint(\"파일 \" + fname + \"을 발견할 수 없습니다.\")"
   ]
  },
  {
   "cell_type": "markdown",
   "metadata": {},
   "source": [
    "p.365 Lab. 파일 암호화"
   ]
  },
  {
   "cell_type": "code",
   "execution_count": null,
   "metadata": {},
   "outputs": [],
   "source": [
    "key = 'abcdefghijklmnopqrstuvwxyz'\n",
    "\n",
    "# 평문을 받아서 암호화하고 암호문을 반환한다. \n",
    "def encrypt(n, plaintext):\n",
    "    result = ''\n",
    "    for l in plaintext.lower():\n",
    "        try:\n",
    "            i = (key.index(l) + n) % 26\n",
    "            result += key[i]\n",
    "        except ValueError:\n",
    "            result += l\n",
    "\n",
    "    return result.lower()\n",
    "\n",
    "f = open(\"test.txt\", \"r\")\n",
    "s = f.read()\n",
    "s = s.rstrip()\n",
    "\n",
    "encrypted = encrypt(3, s)\t\t# 3은 이동거리이다. \n",
    "print ('평문: ' ,  s)\n",
    "print ('암호문: ',  encrypted)\n",
    "f.close()"
   ]
  },
  {
   "cell_type": "markdown",
   "metadata": {},
   "source": [
    "p.367 Mini Project 파일 압축"
   ]
  },
  {
   "cell_type": "code",
   "execution_count": null,
   "metadata": {},
   "outputs": [],
   "source": [
    "import zipfile\n",
    "         \n",
    "choice = input(\"어떤 작업을 하겠습니까?(1-압축 또는 2-해제): \")\n",
    "if choice == \"1\":\n",
    "\tfname = input(\"압축할 파일 이름을 입력하시오: \")\n",
    "\tobj = zipfile.ZipFile('test.zip', 'w')\t# 파일 압축\n",
    "\tobj.write(fname)\n",
    "\tobj.close()\n",
    "elif choice == \"2\":\n",
    "\tfname = input(\"압축을 풀 파일 이름을 입력하시오: \")\t# 압축 풀기\n",
    "\tobj = zipfile.ZipFile(fname, 'r')\n",
    "\tobj.extract(\"test.txt\")\n",
    "\tobj.close()"
   ]
  },
  {
   "cell_type": "markdown",
   "metadata": {},
   "source": [
    "p.370 연습문제"
   ]
  },
  {
   "cell_type": "markdown",
   "metadata": {},
   "source": [
    "p.372 Programming"
   ]
  }
 ],
 "metadata": {
  "kernelspec": {
   "display_name": "Python 3",
   "language": "python",
   "name": "python3"
  },
  "language_info": {
   "codemirror_mode": {
    "name": "ipython",
    "version": 3
   },
   "file_extension": ".py",
   "mimetype": "text/x-python",
   "name": "python",
   "nbconvert_exporter": "python",
   "pygments_lexer": "ipython3",
   "version": "3.11.4"
  },
  "orig_nbformat": 4
 },
 "nbformat": 4,
 "nbformat_minor": 2
}
