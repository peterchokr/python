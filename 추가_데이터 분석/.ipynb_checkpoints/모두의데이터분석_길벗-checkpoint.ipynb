{
 "cells": [
  {
   "cell_type": "markdown",
   "metadata": {},
   "source": [
    "# 모두의 데이터 분석(송석리, 길벗)"
   ]
  },
  {
   "cell_type": "code",
   "execution_count": null,
   "metadata": {
    "scrolled": true
   },
   "outputs": [],
   "source": [
    "#p33. 파일 읽기\n",
    "import csv\n",
    "f = open('seoul.csv', 'r', encoding='cp949')\n",
    "data = csv.reader(f, delimiter=',')\n",
    "for row in data :\n",
    "    print(row)\n",
    "f.close()"
   ]
  },
  {
   "cell_type": "code",
   "execution_count": null,
   "metadata": {
    "scrolled": false
   },
   "outputs": [],
   "source": [
    "#p39. 헤더 출력하기\n",
    "import csv\n",
    "f = open('seoul.csv')\n",
    "data = csv.reader(f)\n",
    "header = next(data)  #next() 함수는 행을 읽고 데이터의 탐색위치를 다음행으로 이동시킨다.\n",
    "print(header)\n",
    "f.close()"
   ]
  },
  {
   "cell_type": "code",
   "execution_count": null,
   "metadata": {
    "scrolled": true
   },
   "outputs": [],
   "source": [
    "#p39. 헤더를 저장하고 다음줄부터 있는 데이터만 처리\n",
    "import csv\n",
    "f = open('seoul.csv')\n",
    "data = csv.reader(f)\n",
    "header = next(data)   \n",
    "for row in data :\n",
    "    print(row)\n",
    "f.close()"
   ]
  },
  {
   "cell_type": "code",
   "execution_count": null,
   "metadata": {
    "scrolled": true
   },
   "outputs": [],
   "source": [
    "#p43. 서울에서 가장 더웠던 날(최고 기온)은 언제였을까?\n",
    "import csv\n",
    "f = open('seoul.csv')\n",
    "data = csv.reader(f)\n",
    "header = next(data)\n",
    "\n",
    "max_temp = -999\n",
    "max_date = ''\n",
    "\n",
    "for row in data :  #기초 데이타 모두 출력\n",
    "    if row[4] == '':   #값이 없는 곳에 -999 할당\n",
    "        row[4] = -999\n",
    "    \n",
    "    row[4] = float(row[4])  #기온을 실수로 변환\n",
    "    print(row)\n",
    "    \n",
    "    if max_temp < row[4] :   #최고기온 찾기\n",
    "        max_date = row[0]\n",
    "        max_temp = row[4]\n",
    "\n",
    "print('가장 더웠던 날은 ', max_date, '로 온도는 ', max_temp, '도 였습니다.')\n",
    "f.close()"
   ]
  },
  {
   "cell_type": "markdown",
   "metadata": {},
   "source": [
    "# matplotlib"
   ]
  },
  {
   "cell_type": "code",
   "execution_count": null,
   "metadata": {
    "scrolled": false
   },
   "outputs": [],
   "source": [
    "#p.54 그래프 그리기\n",
    "import matplotlib.pyplot as plt\n",
    "\n",
    "plt.plot([10, 20, 30, 40])   #한개의 값만 표현하면 y값\n",
    "plt.plot([1,2,3,4],[12,43,25,15])   #두개의 값을 표현하면 x,y값\n",
    "plt.show()"
   ]
  },
  {
   "cell_type": "code",
   "execution_count": null,
   "metadata": {
    "scrolled": false
   },
   "outputs": [],
   "source": [
    "#p59. 그래프에 범례,색상 넣기\n",
    "import matplotlib.pyplot as plt\n",
    "\n",
    "plt.title('legend')   \n",
    "plt.plot([10,20,30,40], color=\"skyblue\", label=\"asc\")\n",
    "plt.plot([40,30,20,10], 'pink', label=\"desc\")  #color= 생략가능\n",
    "plt.legend()\n",
    "plt.show()"
   ]
  },
  {
   "cell_type": "code",
   "execution_count": null,
   "metadata": {
    "scrolled": false
   },
   "outputs": [],
   "source": [
    " #p62. 그래프에 선모양 바꾸기\n",
    "import matplotlib.pyplot as plt\n",
    "\n",
    "plt.title('linestyle')  \n",
    "plt.plot([10,20,30,40], color=\"r\", linestyle='--', label=\"dashed\") \n",
    "plt.plot([40,30,20,10], color='g', ls=':', label=\"dotted\")  \n",
    "plt.legend()\n",
    "plt.show()"
   ]
  },
  {
   "cell_type": "code",
   "execution_count": null,
   "metadata": {
    "scrolled": false
   },
   "outputs": [],
   "source": [
    " #p63. 마커 모양 바꾸기\n",
    "import matplotlib.pyplot as plt\n",
    "\n",
    "plt.title('marker')  \n",
    "plt.plot([10,20,30,40], 'r.', label=\"circle\") \n",
    "plt.plot([40,30,20,10], 'g^', label=\"triangle up\")  \n",
    "plt.legend()\n",
    "plt.show()"
   ]
  },
  {
   "cell_type": "code",
   "execution_count": null,
   "metadata": {
    "scrolled": false
   },
   "outputs": [],
   "source": [
    "#p.64 내 생일의 기온 변화를 꺽은선(라인) 그래프로 그리기\n",
    "import csv\n",
    "import matplotlib.pyplot as plt\n",
    "\n",
    "f = open('seoul.csv')\n",
    "data = csv.reader(f)\n",
    "next(data)  #첫줄 해드 스킵\n",
    "high = []\n",
    "low = []\n",
    "\n",
    "for row in data :\n",
    "    if row[4] != '' and row[3] != '' :  #최고기온과 최저기온이 존재하면\n",
    "        date = row[0].split('-')\n",
    "        if 1983 <= int(date[0]) :   #태어난 해(1983년) 이후의 데이터만 다룬다.\n",
    "            if date[1] == '02' and date[2] == '14' :  #생일이 2월 14일\n",
    "                high.append(float(row[4]))\n",
    "                low.append(float(row[3]))\n",
    "                \n",
    "plt.rc('font', family='Malgun Gothic')   #한글폰트 설정\n",
    "#plt.rcParams['axes.unicode_minus'] = False   #마이너스 기호 깨짐\n",
    "plt.title('내 생일의 기온 변화 그래프')\n",
    "plt.plot(high, 'hotpink', label='high')   #high 리스트에 최고기온들을 표시 \n",
    "plt.plot(low, 'skyblue', label='low')   #low 리스트에 저장된 최저기온들을 표시\n",
    "\n",
    "plt.legend()   #범례표시 지시\n",
    "plt.show()  #그래프 출력"
   ]
  },
  {
   "cell_type": "code",
   "execution_count": null,
   "metadata": {
    "scrolled": false
   },
   "outputs": [],
   "source": [
    "#p77. 시각화 - 히스토그램(데이터 누적 그래프)\n",
    "import random\n",
    "dice = []\n",
    "for i in range(100) :\n",
    "    dice.append(random.randint(1,6))   #1과 6사이의 난수를 dice 리스트에 추가\n",
    "print(dice)\n",
    "\n",
    "import matplotlib.pyplot as plt\n",
    "plt.hist(dice, bins=6)   #가로축 구간(bins)을 6개로 히스토그램 표시\n",
    "plt.show()"
   ]
  },
  {
   "cell_type": "code",
   "execution_count": null,
   "metadata": {
    "scrolled": false
   },
   "outputs": [],
   "source": [
    "#p85. 1월과 8월의 최고기온을 히스토그램으로 표시하기\n",
    "import csv\n",
    "import matplotlib.pyplot as plt\n",
    "\n",
    "f = open('seoul.csv')\n",
    "data = csv.reader(f)\n",
    "next(data)\n",
    "\n",
    "aug = []\n",
    "jan = []\n",
    "\n",
    "for row in data :\n",
    "    month = row[0].split('-')[1]    #날짜에서 월만 뽑아서\n",
    "    if row[4] != '' :\n",
    "        if month == '08' :\n",
    "            aug.append(float(row[4]))\n",
    "        if month == '01' :\n",
    "            jan.append(float(row[4]))\n",
    "plt.hist(aug, bins=100, color='r', label='8월')\n",
    "plt.hist(jan, bins=100, color='b', label='1월')\n",
    "plt.legend()\n",
    "plt.show()"
   ]
  },
  {
   "cell_type": "code",
   "execution_count": null,
   "metadata": {
    "scrolled": false
   },
   "outputs": [],
   "source": [
    "#p86 boxplot \n",
    "import matplotlib.pyplot as plt\n",
    "import random\n",
    "\n",
    "result = []\n",
    "for i in range(13) :\n",
    "    result.append(random.randint(1,1000))\n",
    "\n",
    "print(sorted(result))\n",
    "\n",
    "#정확한 중간값, 1/4위치값, 3/4 위치값을 알고 싶을 떄\n",
    "import numpy as np\n",
    "result = np.array(result)\n",
    "print('1/4 :', str(np.percentile(result, 25)))\n",
    "print('1/2 :', str(np.percentile(result, 50)))\n",
    "print('3/4 :', str(np.percentile(result, 75)))\n",
    "      \n",
    "plt.boxplot(result)\n",
    "plt.show()"
   ]
  },
  {
   "cell_type": "code",
   "execution_count": null,
   "metadata": {
    "scrolled": false
   },
   "outputs": [],
   "source": [
    "#p89. 1월과 8월의 최고기온을 boxplot 으로 표시하기\n",
    "import csv\n",
    "import matplotlib.pyplot as plt\n",
    "\n",
    "f = open('seoul.csv')\n",
    "data = csv.reader(f)\n",
    "next(data)\n",
    "\n",
    "aug = []\n",
    "jan = []\n",
    "\n",
    "for row in data :\n",
    "    month = row[0].split('-')[1]    #날짜에서 월만 뽑아서\n",
    "    if row[4] != '' :\n",
    "        if month == '08' :\n",
    "            aug.append(float(row[4]))\n",
    "        if month == '01' :\n",
    "            jan.append(float(row[4]))\n",
    "            \n",
    "plt.boxplot(aug)\n",
    "plt.boxplot(jan)\n",
    "plt.show()\n",
    "\n",
    "plt.boxplot([aug, jan])\n",
    "plt.show()"
   ]
  },
  {
   "cell_type": "code",
   "execution_count": null,
   "metadata": {
    "scrolled": false
   },
   "outputs": [],
   "source": [
    "#p91. 월별로 최고기온을 boxplot 으로 표시하기\n",
    "import csv\n",
    "import matplotlib.pyplot as plt\n",
    "\n",
    "f = open('seoul.csv')\n",
    "data = csv.reader(f)\n",
    "next(data)\n",
    "\n",
    "#월별 최고기온을 저장할 리스트 month를 12개 생성\n",
    "month = [[],[],[],[],[],[],[],[],[],[],[],[]]   \n",
    "\n",
    "#더 좋은 방법\n",
    "# month = []\n",
    "# for i in range(12) :   #month 리스트 내에 12개의 리스트 생성\n",
    "#     month.append([])\n",
    "\n",
    "\n",
    "for row in data :\n",
    "    if row[4] != '' :\n",
    "           #월과 같은 숫자 - 1 위치의 리스트(1월이면 month[0])에 최고기온 저장\n",
    "           month[int(row[0].split('-')[1])-1].append(float(row[4]))\n",
    "  \n",
    "plt.boxplot(month)\n",
    "plt.show()"
   ]
  },
  {
   "cell_type": "code",
   "execution_count": null,
   "metadata": {
    "scrolled": false
   },
   "outputs": [],
   "source": [
    "#p93. 8월 일별 최고기온을 boxplot 으로 표시하기\n",
    "import csv\n",
    "import matplotlib.pyplot as plt\n",
    "\n",
    "f = open('seoul.csv')\n",
    "data = csv.reader(f)\n",
    "next(data)\n",
    "\n",
    "day = []\n",
    "for i in range(31) :   #day 리스트 내에 31개의 리스트 생성\n",
    "    day.append([])\n",
    "\n",
    "for row in data :\n",
    "    if row[4] != '' :\n",
    "        if row[0].split('-')[1] == '08' :  #8월 이면\n",
    "            day[int(row[0].split('-')[2])-1].append(float(row[4]))\n",
    "            \n",
    "plt.style.use('ggplot')   #그래프 스타일 수정\n",
    "plt.figure(figsize=(10,5), dpi=300)     #그래프 크기 수정\n",
    "plt.boxplot(day, showfliers=False)   #아웃라이어 생략\n",
    "plt.show()"
   ]
  },
  {
   "cell_type": "code",
   "execution_count": null,
   "metadata": {
    "scrolled": false
   },
   "outputs": [],
   "source": [
    "#p96. 우리동네 인구 시각화 하기(1) - plot chart\n",
    "import csv\n",
    "f = open('age.csv')\n",
    "data = csv.reader(f)\n",
    "result = []\n",
    "for row in data :\n",
    "    if '황금1동' in row[0] :  #'황금1동'이 포함된 행정구역 찾기\n",
    "        for i in row[3:] :   #0세부터 끝(100세이상)까지 모든 연령에 대해 반복하기\n",
    "            result.append(int(i.replace(',','')))   #데이터에 콤마(,)를 제거한 후 정수로 변환하여 리스트에 추가\n",
    "\n",
    "import matplotlib.pyplot as plt\n",
    "# print(plt.style.available)   #참고 - matplotlib 라이브러리레서 적용할 수 있는 다양한 스타일을 확인할 수 있다.\n",
    "plt.style.use('ggplot')   #그중에서 격자 무늬 스타일 지정\n",
    "plt.plot(result)\n",
    "plt.show()"
   ]
  },
  {
   "cell_type": "code",
   "execution_count": null,
   "metadata": {
    "scrolled": false
   },
   "outputs": [],
   "source": [
    "#p109. 원하는 지역을 입력받아 인구 시각화 하기\n",
    "import csv\n",
    "f = open('age.csv')\n",
    "data = csv.reader(f)\n",
    "result = []\n",
    "name = input('인구구조가 알고 싶은 지역의 이름(읍면동 단위)를 입력해주세요')\n",
    "\n",
    "for row in data :\n",
    "    if name in row[0] :  #'황금1동'이 포함된 행정구역 찾기\n",
    "        for i in row[3:] :   #0세부터 끝(100세이상)까지 모든 연령에 대해 반복하기\n",
    "            result.append(int(i.replace(',','')))   #데이터에 콤마(,)를 제거한 후 정수로 변환하여 리스트에 추가\n",
    "\n",
    "import matplotlib.pyplot as plt\n",
    "# print(plt.style.available)   #참고 - matplotlib 라이브러리레서 적용할 수 있는 다양한 스타일을 확인할 수 있다.\n",
    "plt.style.use('ggplot')   #그중에서 격자 무늬 스타일 지정\n",
    "plt.title(name + ' 지역의 인구 구조')\n",
    "plt.plot(result)\n",
    "plt.show()"
   ]
  },
  {
   "cell_type": "code",
   "execution_count": null,
   "metadata": {
    "scrolled": false
   },
   "outputs": [],
   "source": [
    "#p111. 우리동네 인구 시각화 하기(2) - bar chart\n",
    "import csv\n",
    "f = open('age.csv')\n",
    "data = csv.reader(f)\n",
    "result = []\n",
    "for row in data :\n",
    "    if '황금1동' in row[0] :  #'황금1동'이 포함된 행정구역 찾기\n",
    "        for i in row[3:] :   #0세부터 끝(100세이상)까지 모든 연령에 대해 반복하기\n",
    "            result.append(int(i.replace(',','')))   #데이터에 콤마(,)를 제거한 후 정수로 변환하여 리스트에 추가\n",
    "\n",
    "import matplotlib.pyplot as plt\n",
    "plt.bar(range(101), result)   #0부터 100까지 101개의 구간으로 bar chart 그리기\n",
    "plt.show()\n",
    "\n",
    "plt.barh(range(101), result)   #수평으로 그리기\n",
    "plt.show()"
   ]
  },
  {
   "cell_type": "code",
   "execution_count": null,
   "metadata": {
    "scrolled": false
   },
   "outputs": [],
   "source": [
    "#p114 항아리 모양 그래프(2개의 좌우 바차트) 그리기(1)\n",
    "#남녀 성별이 구분된 나이별 인구 그래프\n",
    "\n",
    "import csv\n",
    "f = open('gender.csv')\n",
    "data = csv.reader(f)\n",
    "m = []\n",
    "f = []\n",
    "for row in data :\n",
    "    if '황금1동' in row[0] :   #주소가 황금1동인 인구에 대하여\n",
    "        for i in row[3:104] :  #0살부터 100살까지 101개 구간으로\n",
    "            m.append(-int(i))  #남성의 나이별 인원수를 항아리그래프의 왼편에 대칭되도록 음수값으로 변경하고 리스트에 등록.\n",
    "        for i in row[106:] : \n",
    "            f.append(int(i))   #여성의 나이별 인원수를 리스트에 등록\n",
    "\n",
    "import matplotlib.pyplot as plt\n",
    "plt.barh(range(101), m, label='남성')\n",
    "plt.barh(range(101), f, label='여성')\n",
    "plt.legend()\n",
    "plt.show()"
   ]
  },
  {
   "cell_type": "code",
   "execution_count": null,
   "metadata": {
    "scrolled": false
   },
   "outputs": [],
   "source": [
    "#p121 항아리 모양 그래프(2개의 좌우 바차트) 그리기(2)\n",
    "#지역명을 입력받기\n",
    "\n",
    "import csv\n",
    "f = open('gender.csv')\n",
    "data = csv.reader(f)\n",
    "m = []\n",
    "f = []\n",
    "\n",
    "name = input('찾고 싶은 지역의 이름을 알려주세요 : ')\n",
    "\n",
    "for row in data :\n",
    "    if name in row[0] :   #지역명이 name인 인구에 대하여\n",
    "        for i in row[3:104] :  #0살부터 100살까지 101개 구간으로\n",
    "            m.append(-int(i.replace(',','')))  #남성의 나이별 인원수를 항아리그래프의 왼편에 대칭되도록 음수값으로 변경하고 리스트에 등록.\n",
    "        for i in row[106:] : \n",
    "            f.append(int(i.replace(',','')))   #여성의 나이별 인원수를 리스트에 등록\n",
    "        break   #같은 지역명(eg. 서울특별시)의 여러 데이터가 있는 경우 처음 만나는 데이터만 추가하도록\n",
    "\n",
    "import matplotlib.pyplot as plt\n",
    "plt.style.use('ggplot')\n",
    "plt.figure(figsize=(10,5), dpi=300)\n",
    "plt.rc('font', family='Malgun Gothic')\n",
    "plt.rcParams['axes.unicode_minus'] = False   #마이너스 기호 깨짐 해결\n",
    "plt.title(name + ' 지역의 남녀 성별 인구 분포')\n",
    "\n",
    "plt.barh(range(101), m, label='남성')\n",
    "plt.barh(range(101), f, label='여성')\n",
    "plt.legend()\n",
    "plt.show()"
   ]
  },
  {
   "cell_type": "code",
   "execution_count": null,
   "metadata": {
    "scrolled": false
   },
   "outputs": [],
   "source": [
    "#p129. 파이차트로 나타내기 (1)\n",
    "\n",
    "import matplotlib.pyplot as plt\n",
    "plt.rc('font', family='Malgun Gothic')   #그래프에 한글 표시\n",
    "size = [2441, 2312, 1031, 1233]   # 데이터\n",
    "label = ['A형', 'B형', 'AB형', 'O형']   #레이블\n",
    "color = ['darkmagenta', 'deeppink', 'hotpink', 'pink']   #색상 지정\n",
    "plt.axis('equal')\n",
    "\n",
    "#autopic - 비율 출력, 소숫점 아래 두번째에서 반올림해서 첫번째 자리까지\n",
    "#explode - 돌출 효과 \n",
    "plt.pie(size, labels=label, colors=color, autopct='%.1f%%', explode=(0, 0, 0.1, 0))   \n",
    "plt.show()"
   ]
  },
  {
   "cell_type": "code",
   "execution_count": null,
   "metadata": {
    "scrolled": false
   },
   "outputs": [],
   "source": [
    "#p136. 파이차트로 나타내기 (2)\n",
    "#지역의 성별 인구 비율 표현하기\n",
    "\n",
    "import csv\n",
    "f = open('gender.csv')\n",
    "data = csv.reader(f)\n",
    "size = []\n",
    "m = 0\n",
    "f = 0\n",
    "find = 'no'\n",
    "\n",
    "name = input('찾고 싶은 지역의 이름을 알려주세요 : ')\n",
    "\n",
    "for row in data :\n",
    "    if name in row[0] :   #지역명이 name인 인구에 대하여\n",
    "        find = 'yes'\n",
    "        for i in range(101) :  #0살부터 100살까지 101개 구간에 대해\n",
    "            m += int(row[i+3].replace(',',''))  #3에서 103 구간까지 데이터 더하기\n",
    "            f += int(row[i+106].replace(',',''))  #106서 206 구간까지 데이터 더하기\n",
    "            \n",
    "        size.append(m)\n",
    "        size.append(f)\n",
    "\n",
    "        import matplotlib.pyplot as plt\n",
    "        plt.rc('font', family='Malgun Gothic')\n",
    "        color = ['crimson', 'darkcyan']\n",
    "        plt.axis('equal')\n",
    "        plt.pie(size, labels=['남', '여'], autopct='%.1f%%', colors=color, startangle=90)\n",
    "        plt.title(name + ' 지역의 남녀 성별 비율')\n",
    "        plt.show()\n",
    "        \n",
    "        break   #같은 지역명(eg. 서울특별시)의 여러 데이터가 있는 경우 처음 만나는 데이터만 추가하도록\n",
    "    \n",
    "if find == 'no' :\n",
    "    print('지역명이 없습니다.')"
   ]
  },
  {
   "cell_type": "code",
   "execution_count": null,
   "metadata": {
    "scrolled": false
   },
   "outputs": [],
   "source": [
    "#p141. 꺽은선(라인) 그래프로 나타내기\n",
    "#지역의 성별 인구 비율 표현하기\n",
    "\n",
    "import csv\n",
    "f = open('gender.csv')\n",
    "data = csv.reader(f)\n",
    "m = []\n",
    "f = []\n",
    "\n",
    "name = input('찾고 싶은 지역의 이름을 알려주세요 : ')\n",
    "\n",
    "for row in data :\n",
    "    if name in row[0] :   #지역명이 name인 인구에 대하여\n",
    "        for i in range(3, 104) :  #0살부터 100살까지 101개 구간에 대해\n",
    "            m.append(int(row[i].replace(',','')))\n",
    "            f.append(int(row[i+103].replace(',','')))     \n",
    "        break\n",
    "\n",
    "import matplotlib.pyplot as plt\n",
    "plt.plot(m, label='Male')\n",
    "plt.plot(f, label='Female')\n",
    "plt.legend()\n",
    "plt.show()"
   ]
  },
  {
   "cell_type": "code",
   "execution_count": null,
   "metadata": {
    "scrolled": false
   },
   "outputs": [],
   "source": [
    "#p143 막대 그래프로 나타내기\n",
    "#지역의 연령대별 성별 비율을 차이로 표현하기\n",
    "\n",
    "import csv\n",
    "f = open('gender.csv')\n",
    "data = csv.reader(f)\n",
    "result = []\n",
    "\n",
    "name = input('찾고 싶은 지역의 이름을 알려주세요 : ')\n",
    "\n",
    "for row in data :\n",
    "    if name in row[0] :   #지역명이 name인 인구에 대하여\n",
    "        for i in range(3, 104) :  #0살부터 100살까지 101개 구간에 대해\n",
    "            result.append(int(row[i].replace(',','')) - int(row[i+103].replace(',','')))  #남성인구에서 여성인구를 뺀 값\n",
    "        break\n",
    "\n",
    "import matplotlib.pyplot as plt\n",
    "plt.rcParams['axes.unicode_minus'] = False   #마이너스 기호 깨짐 해결\n",
    "plt.bar(range(101), result)         \n",
    "plt.show()"
   ]
  },
  {
   "cell_type": "code",
   "execution_count": null,
   "metadata": {
    "scrolled": false
   },
   "outputs": [],
   "source": [
    "#p144 산점도(버블차트)로 표현하기 \n",
    "\n",
    "import matplotlib.pyplot as plt\n",
    "\n",
    "#scatter() 함수로 차트 출력, x,y값, s=버블크기, c=색상, \n",
    "plt.scatter([1,2,3,4], [10,20,30,40], s=[100,200,300,400], c=['red','blue','green','gold'])\n",
    "plt.show()\n",
    "\n",
    "#옆에 컬러바 추가. jet 컬러맵=무지개색 \n",
    "plt.scatter([1,2,3,4], [10,20,30,40], s=[100,200,300,400], c=range(4), cmap='jet')\n",
    "plt.colorbar()\n",
    "plt.show()\n",
    "\n",
    "#랜덤함수를 이용하여 100개값에 대한 산점도 \n",
    "import random\n",
    "x = []\n",
    "y = []\n",
    "size = []\n",
    "for i in range(100) :\n",
    "    x.append(random.randint(50,100))\n",
    "    y.append(random.randint(50,100))\n",
    "    size.append(random.randint(10,100))\n",
    "\n",
    "plt.scatter(x,y,s=size, c=size, cmap='jet', alpha=0.7)   #alpha=중첨되는 버블들간의 투명도 조절\n",
    "plt.colorbar()\n",
    "plt.show()"
   ]
  },
  {
   "cell_type": "code",
   "execution_count": null,
   "metadata": {
    "scrolled": false
   },
   "outputs": [],
   "source": [
    "#p153 제주도의 연령대별 성별 비율을 산점도(버블차트)로 표현하기 \n",
    "\n",
    "import csv\n",
    "import math\n",
    "f = open('gender.csv')\n",
    "data = csv.reader(f)\n",
    "m = []\n",
    "f = []\n",
    "size = []\n",
    "\n",
    "name = input('찾고 싶은 지역의 이름을 알려주세요 : ')\n",
    "\n",
    "for row in data :\n",
    "    if name in row[0] :   #지역명이 name인 인구에 대하여\n",
    "        for i in range(3, 104) :  #0살부터 100살까지 101개 구간에 대해\n",
    "            m.append(int(row[i].replace(',','')))\n",
    "            f.append(int(row[i+103].replace(',','')))\n",
    "            size.append(math.sqrt(int(row[i].replace(',','')) + int(row[i+103].replace(',',''))))  \n",
    "        break\n",
    "\n",
    "import matplotlib.pyplot as plt\n",
    "plt.style.use('ggplot')\n",
    "plt.rc('font', family='Malgun Gothic')\n",
    "plt.figure(figsize=(10,5), dpi=300)\n",
    "plt.title(name + ' 지역의 성별 인구 그래프')\n",
    "plt.scatter(m, f, s=size, c=range(101), alpha=0.5, cmap='jet')\n",
    "plt.colorbar()\n",
    "plt.plot(range(max(m)), range(max(m)), 'g')   #추세선 추가\n",
    "plt.xlabel('남성 인구수')\n",
    "plt.ylabel('여성 인구수')\n",
    "plt.show()"
   ]
  },
  {
   "cell_type": "code",
   "execution_count": null,
   "metadata": {
    "scrolled": true
   },
   "outputs": [],
   "source": [
    "#p158 내려받은 대중교통 데이터를 정제하기\n",
    "\n",
    "import csv\n",
    "f = open('subwayfee.csv')\n",
    "data = csv.reader(f)\n",
    "next(data)   #첫째줄(헤더) 스킵\n",
    "\n",
    "for row in data :\n",
    "    for i in range(4,8) :  #4열부터 7열까지의 데이터를 정수로 변환\n",
    "        row[i] = int(row[i])\n",
    "    print(row)"
   ]
  },
  {
   "cell_type": "code",
   "execution_count": null,
   "metadata": {
    "scrolled": false
   },
   "outputs": [],
   "source": [
    "#p165. 유임승차비율이 제일 높은 역은 어디일까?\n",
    "\n",
    "import csv\n",
    "f = open('subwayfee.csv')\n",
    "data = csv.reader(f)\n",
    "next(data)\n",
    "mx = 0\n",
    "rate = 0\n",
    "mx_station = ''\n",
    "\n",
    "for row in data :\n",
    "    for i in range(4,8) :   #4열부터 7열까지 정수로 변환\n",
    "        row[i] = int(row[i])\n",
    "        \n",
    "    if (row[6] != 0 and row[4]+row[6] > 10000):   #divide by zero 방지, 승차인원 10000명 이상만 고려\n",
    "        rate = row[4] / (row[4] + row[6])  #유임승차비율 = 유임승차인원 / 전체승차인원\n",
    "        \n",
    "        if rate > mx :\n",
    "            mx = rate   #최대 유임승차비율\n",
    "            mx_station = row[3] + ' ' + row[1]   #역이름과 호선\n",
    "            \n",
    "print(mx_station, round(mx*100, 2))   "
   ]
  },
  {
   "cell_type": "code",
   "execution_count": null,
   "metadata": {
    "scrolled": false
   },
   "outputs": [],
   "source": [
    "#p172. 유무임 승하자 인원이 가장 많은 역은 어디일까?\n",
    "\n",
    "import csv\n",
    "f = open('subwayfee.csv')\n",
    "data = csv.reader(f)\n",
    "next(data)\n",
    "mx = [0]*4    # 4개를 0으로 초기화\n",
    "mx_station = ['']*4\n",
    "label = ['유임승차', '유임하차', '무임승차', '무임하차']\n",
    "\n",
    "for row in data :\n",
    "    for i in range(4,8) :\n",
    "        row[i] = int(row[i])\n",
    "        if row[i] > mx[i-4] : \n",
    "            mx[i-4] = row[i]\n",
    "            mx_station[i-4] = row[3] + ' ' + row[1]\n",
    "            \n",
    "for i in range(4) :\n",
    "    print(label[i] + ' : ' + mx_station[i] + ', ' + str(mx[i]))"
   ]
  },
  {
   "cell_type": "code",
   "execution_count": null,
   "metadata": {
    "scrolled": true
   },
   "outputs": [],
   "source": [
    "#p175. 모든 역의 유무임 승하차 비율을 파이 차트로 표시하기\n",
    "\n",
    "import csv\n",
    "import matplotlib.pyplot as plt\n",
    "f = open('subwayfee.csv')\n",
    "data = csv.reader(f)\n",
    "next(data)\n",
    "\n",
    "label = ['유임승차', '유임하차', '무임승차', '무임하차']\n",
    "c = ['#14CCC0', '#389993', '#FF1C6A', '#CC14AF']\n",
    "plt.rc('font', family='Malgun Gothic')\n",
    "\n",
    "for row in data :\n",
    "    for i in range(4,8) :\n",
    "        row[i] = int(row[i])\n",
    "          \n",
    "    plt.figure(dpi=300)\n",
    "    plt.title(row[3] + ' ' + row[1])\n",
    "    plt.pie(row[4:8], labels=label, colors=c, autopct='%1.f%%')\n",
    "    plt.axis('equal')\n",
    "    plt.savefig(row[3] + ' ' + row[1] + '.png')  #파일로 저장\n",
    "    plt.show()"
   ]
  },
  {
   "cell_type": "code",
   "execution_count": null,
   "metadata": {
    "scrolled": false
   },
   "outputs": [],
   "source": [
    "#p180 출근시간대(7시-10시)에 사람들이 가장 많이 타고 내리는 역 찾기\n",
    "\n",
    "import csv\n",
    "f = open('subwaytime.csv')\n",
    "data = csv.reader(f)\n",
    "next(data)    #두줄의 헤더를 스킵\n",
    "next(data)\n",
    "\n",
    "mx = [0, 0]    #승차, 하차 인원수\n",
    "mx_station = ['', '']    #승차, 하차 역\n",
    "\n",
    "for row in data :\n",
    "    row[4:] = map(int, row[4:])    #for i in range() 형식의 반복문을 사용하지 않고 map()을 이용하여 한꺼번에 정수로 변환\n",
    "    \n",
    "    a = row[10:15:2]   #7시, 8시, 9시에 해당하는 승차 인원\n",
    "    if sum(a) > mx[0] :\n",
    "        mx[0] = sum(a)\n",
    "        mx_station[0] = row[3] + '(' + row[1] + ')'    \n",
    "    \n",
    "    b = row[11:16:2]   #7시, 8시, 9시에 해당하는 하차 인원        \n",
    "    if sum(b) > mx[1] :\n",
    "        mx[1] = sum(b)\n",
    "        mx_station[1] = row[3] + '(' + row[1] + ')'\n",
    "        \n",
    "print('출근 시간에 가장 많이 타는 역 : ' + mx_station[0], mx[0], '명')\n",
    "print('출근 시간에 가장 많이 내리는 역 : ' + mx_station[1], mx[1], '명')"
   ]
  },
  {
   "cell_type": "code",
   "execution_count": null,
   "metadata": {
    "scrolled": false
   },
   "outputs": [],
   "source": [
    "#p190 입력한 시간대에 가장 많이 타는 역 찾기\n",
    "\n",
    "import csv\n",
    "f = open('subwaytime.csv')\n",
    "data = csv.reader(f)\n",
    "next(data)    #두줄의 헤더를 스킵\n",
    "next(data)\n",
    "\n",
    "mx = 0    #승차 최대 인원수\n",
    "mx_station = ''   #승차역\n",
    "\n",
    "t = int(input('몇 시에 승차인원이 가장 많은 역이 궁금하세요? : '))\n",
    "\n",
    "for row in data :\n",
    "    row[4:] = map(int, row[4:])    #for i in range() 형식의 반복문을 사용하지 않고 map()을 이용하여 한꺼번에 정수로 변환\n",
    "    \n",
    "    a = row[4+(t-4)+2]   #입력받은 시각의 승차 인원값 추출하기\n",
    "    if a > mx :\n",
    "        mx = a\n",
    "        mx_station = row[3] + '(' + row[1] + ')'    \n",
    "    \n",
    "print(t, '시에 승차인원이 가장 많은 역 : ', mx_station, mx, '명')"
   ]
  },
  {
   "cell_type": "code",
   "execution_count": null,
   "metadata": {
    "scrolled": false
   },
   "outputs": [],
   "source": [
    "#p193 시간대별로 사람들이 가장 많이 타고 내리는 역은 어디일까\n",
    "\n",
    "import csv\n",
    "f = open('subwaytime.csv')\n",
    "data = csv.reader(f)\n",
    "next(data)    #두줄의 헤더를 스킵\n",
    "next(data)\n",
    "\n",
    "mx = [0] * 24    #24시간 각각 승차 최대 인원수\n",
    "mx_station =[''] * 24   #24시간 승차역\n",
    "\n",
    "for row in data :\n",
    "    row[4:] = map(int, row[4:])    #for i in range() 형식의 반복문을 사용하지 않고 map()을 이용하여 한꺼번에 정수로 변환\n",
    "    for j in range(24) :   #24시간\n",
    "        a = row[4+j*2]   #j와 승차 시간 인덱스 사이의 관계식.   하차시간식은 row[5+j*2]\n",
    "        if a > mx[j] :\n",
    "            mx[j] = a\n",
    "            mx_station[j] = str(j+4) + '시 ' + row[3] + '(' + row[1] + ')'    #시각(j+4)을 같이 출력\n",
    "    \n",
    "print(mx_station)\n",
    "print(mx)\n",
    "\n",
    "#바차트로 나타내기\n",
    "import matplotlib.pyplot as plt\n",
    "plt.rc('font', family='Malgun Gothic')\n",
    "plt.bar(range(24), mx)    #24시간 단위로 최대인원수(mx) 표시\n",
    "plt.xticks(range(24), mx_station, rotation=90)    #x죄표에 역명을 90도 회전해서 표시\n",
    "plt.show()"
   ]
  },
  {
   "cell_type": "code",
   "execution_count": null,
   "metadata": {
    "scrolled": false
   },
   "outputs": [],
   "source": [
    "#p198 모든 지하철역에서 시간대별 승하차 인원을 모두 더하면(10시에 모든 지하철역의 승하차 인원의 합)\n",
    "\n",
    "import csv\n",
    "f = open('subwaytime.csv')\n",
    "data = csv.reader(f)\n",
    "next(data)    #두줄의 헤더를 스킵\n",
    "next(data)\n",
    "\n",
    "s_in = [0] * 24    #승차인원 저장 리스트 초기화\n",
    "s_out = [0] * 24    #하차인원 저장 리스트 초기화\n",
    "\n",
    "for row in data :\n",
    "    row[4:] = map(int, row[4:])    #for i in range() 형식의 반복문을 사용하지 않고 map()을 이용하여 한꺼번에 정수로 변환\n",
    "    for i in range(24) :   #24시간\n",
    "        s_in[i] += row[4+i*2]\n",
    "        s_out[i] += row[5+i*2]\n",
    "\n",
    "#라인차트로 나타내기\n",
    "import matplotlib.pyplot as plt\n",
    "plt.rc('font', family='Malgun Gothic')\n",
    "plt.title('지하철 시간대별 승하차 인원 추이')\n",
    "plt.plot(s_in, label='승차')\n",
    "plt.plot(s_out, label='하차')\n",
    "plt.legend()\n",
    "plt.xticks(range(24),range(4,28))\n",
    "plt.show()"
   ]
  },
  {
   "cell_type": "markdown",
   "metadata": {},
   "source": [
    "# numpy"
   ]
  },
  {
   "cell_type": "code",
   "execution_count": null,
   "metadata": {
    "scrolled": false
   },
   "outputs": [],
   "source": [
    "# p.204 숫자 데이터를 쉽게 다루게 돕는 numpy 라이브러리\n",
    "# numpy 라이브러리를 사용하면 훨씬 numpy를 사용하지 않는 것보다 휠씬 적은 수의 코드로 숫자 데이터를 쉽게 다룰 수 있다.\n",
    "\n",
    "# (1) numpy를 사용하지 않은 경우\n",
    "import matplotlib.pyplot as plt\n",
    "\n",
    "t = []\n",
    "p2 = []\n",
    "p3 = []\n",
    "for i in range(0, 50, 2) :\n",
    "    t.append(i/10)\n",
    "    p2.append((i/10)**2)\n",
    "    p3.append((i/10)**3)\n",
    "\n",
    "    #plot 형식 설명 : https://matplotlib.org/api/_as_gen/matplotlib.pyplot.plot.html#matplotlib.pyplot.plot\n",
    "plt.plot(t,t,'r--', t,p2,'bs', t,p3,'g^')    #(x,y,format)\n",
    "plt.show()\n",
    "\n",
    "# (2) numpy를 사용하는 경우\n",
    "import matplotlib.pyplot as plt\n",
    "\n",
    "import numpy as np\n",
    "t = np.arange(0., 5., 0.2)\n",
    "\n",
    "plt.plot(t,t,'r--', t,t**2,'bs', t,t**3,'g^')\n",
    "plt.show()"
   ]
  },
  {
   "cell_type": "code",
   "execution_count": null,
   "metadata": {
    "scrolled": false
   },
   "outputs": [],
   "source": [
    "#p207 numpy 라이브러리\n",
    "\n",
    "import numpy as np\n",
    "print(np.sqrt(2))\n",
    "print(np.pi)\n",
    "print(np.sin(0))\n",
    "print(np.cos(np.pi))\n",
    "\n",
    "a = np.random.rand(5)   #0에서 1사이 5개의 실수를 랜덤하게 생성\n",
    "print(a)\n",
    "print(type(a))   #numpy에서 제공하는 n차원 배열\n",
    "\n",
    "print(np.random.choice(6,10))  #0에서 5사이 숫자를 랜덤하게 10번 선택\n",
    "print(np.random.choice(10,6,replace=False))   #0에서 10사이 숫자를 랜덤하게 6번 선택, 한번 뽑은 숫자는 다시 못하게.\n",
    "\n",
    "#0에서 5까지 나올 확률 p를 할당, 합은 반드시 1이 되어야, 횟수가 적을 때는 실제 실행은 정한 확률대로 나오지 않을 수도.\n",
    "print(np.random.choice(6, 10, p=[0.1, 0.2, 0.3, 0.2, 0.1, 0.1]))"
   ]
  },
  {
   "cell_type": "code",
   "execution_count": null,
   "metadata": {
    "scrolled": false
   },
   "outputs": [],
   "source": [
    "#p211 numpy 라이브러리를 활용해 그래프 그리기 (1) 바차트\n",
    "\n",
    "#기존 코드\n",
    "import matplotlib.pyplot as plt\n",
    "import random \n",
    "dice = []\n",
    "for i in range(10) :\n",
    "    dice.append(random.randint(1,6))\n",
    "    \n",
    "plt.hist(dice, bins=6)\n",
    "plt.show()\n",
    "\n",
    "#numpy를 사용한 모드\n",
    "import matplotlib.pyplot as plt\n",
    "import numpy as np\n",
    "dice = np.random.choice(6,10)   #기존코드 보다 간결, 반복문 필요없다.\n",
    "\n",
    "plt.hist(dice, bins=6)\n",
    "plt.show()"
   ]
  },
  {
   "cell_type": "code",
   "execution_count": null,
   "metadata": {
    "scrolled": false
   },
   "outputs": [],
   "source": [
    "#p213 numpy 라이브러리를 활용해 그래프 그리기 (2) 버블차트\n",
    "\n",
    "#기존 코드\n",
    "import matplotlib.pyplot as plt\n",
    "import random \n",
    "\n",
    "x = []\n",
    "y = []\n",
    "size = []\n",
    "\n",
    "for i in range(200) :\n",
    "    x.append(random.randint(10,100))\n",
    "    y.append(random.randint(10,100))\n",
    "    size.append(random.randint(10,100))\n",
    "    \n",
    "plt.scatter(x,y, s=size, c=x, cmap='jet', alpha=0.7)\n",
    "plt.colorbar()\n",
    "plt.show()\n",
    "\n",
    "#numpy를 사용한 모드\n",
    "import matplotlib.pyplot as plt\n",
    "import random \n",
    "\n",
    "x = np.random.randint(10, 100, 200)\n",
    "y = np.random.randint(10, 100, 200)\n",
    "size = np.random.rand(100) * 100   #rand(100) 0에서 1사이에 난수 100개 발생\n",
    "    \n",
    "plt.scatter(x,y, s=size, c=x, cmap='jet', alpha=0.7)\n",
    "plt.colorbar()\n",
    "plt.show()"
   ]
  },
  {
   "cell_type": "code",
   "execution_count": null,
   "metadata": {
    "scrolled": false
   },
   "outputs": [],
   "source": [
    "#p215 numpy array 생성\n",
    "\n",
    "import numpy as np\n",
    "a = np.array([1,2,3,4]) \n",
    "\n",
    "print(a)\n",
    "print(type(a))\n",
    "print('---')\n",
    "\n",
    "print(a[1], a[-1])   #인덱싱, -1은 맨 뒤\n",
    "print(a[1:])  #맨 끝까지\n",
    "print('---')\n",
    "\n",
    "a = np.array([1,2,'3',4])   #다른 데이터 타입이면 한가지로 자동 통일 -> 문자열\n",
    "print(a)\n",
    "print('---')\n",
    "\n",
    "#여러가지 방식으로 배열 초기화 가능\n",
    "a = np.zeros(10)   #0으로 초기화\n",
    "print(a)\n",
    "a = np.ones(10)   #1로 초기화\n",
    "print(a)\n",
    "a = np.eye(3)   #단위행렬로 초기화\n",
    "print(a)\n",
    "print('---')\n",
    "\n",
    "print(np.arange(3))   #0부터 3 미만의 정수로 배열 초기화\n",
    "print(np.arange(3,7))   #3부터 7 미만의 정수로 배열 초기화\n",
    "print(np.arange(3,7,2))   #3부터 2 간격으로 7 미만의 정수로 배열 초기화\n",
    "print(np.arange(1, 2, 0.1))   #1부터 0.1 간격으로 2 미만의 실수로 배열 초기화\n",
    "print('---')\n",
    "\n",
    "b = np.linspace(1, 2, 11)   #1부터 2까지 11개 구간으로 나눈 실수 생성\n",
    "print(b)\n",
    "print('---')\n",
    "\n",
    "a = np.arange(-np.pi, np.pi, np.pi/10)   #np.pi/10 크기의 간격으로 \n",
    "b = np.linspace(-np.pi, np.pi, 20)   #20개 구간으로 \n",
    "print(a)\n",
    "print(b)"
   ]
  },
  {
   "cell_type": "code",
   "execution_count": null,
   "metadata": {
    "scrolled": false
   },
   "outputs": [],
   "source": [
    "#p220 numpy array의 다양한 활용\n",
    "\n",
    "import numpy as np\n",
    "a = np.zeros(10) + 5    # 0(zeros), 1(ones) 외의 초기값 부여 \n",
    "print(a)\n",
    "\n",
    "a = np.linspace(1, 2, 11)     \n",
    "print(np.sqrt(a))    # a값의 제곱근을 출력\n",
    "\n",
    "import matplotlib.pyplot as plt\n",
    "a = np.arange(-np.pi, np.pi, np.pi/100)\n",
    "plt.plot(a, np.sin(a))   #구간의 sin() 함수 시각화\n",
    "plt.plot(a, np.cos(a))   #구간의 cos() 함수 시각화\n",
    "plt.plot(a+np.pi/2, np.sin(a))   # sin() 함수의 평행이동\n",
    "plt.show()\n",
    "\n",
    "#mask 연산\n",
    "a = np.arange(-5, 5)\n",
    "print(a)\n",
    "print(a<0)    # 배열의 값이 조건을 만족하는지 출력\n",
    "print(a[a<0])   # 조건을 만족하는 배열의 값만 출력\n",
    "\n",
    "mask1 = abs(a) > 3\n",
    "print(a[mask1])   # 절대값이 3보다 큰 배열의 값만 출력\n",
    "\n",
    "mask1 = abs(a) > 3\n",
    "mask2 = abs(a) % 2 == 0\n",
    "print(a[mask1 + mask2])   # 절대값이 3보다 크거나 짝수인 배열의 값만 출력\n",
    "print(a[mask1 * mask2])   # 절대값이 3보다 크고 짝수인 배열의 값만 출력"
   ]
  },
  {
   "cell_type": "code",
   "execution_count": null,
   "metadata": {
    "scrolled": false
   },
   "outputs": [],
   "source": [
    "#p225 numpy 라이브러리를 사용하여 버블차트 그리기 예\n",
    "\n",
    "#x, y의 랜덤값이 50보다 큰 값만 그리기\n",
    "import matplotlib.pyplot as plt\n",
    "import numpy as np\n",
    "x = np.random.randint(-100, 100, 1000)    #-100에서 100사이 정수를 1000개 추출\n",
    "y = np.random.randint(-100, 100, 1000)\n",
    "size = np.random.rand(100) * 100   # 0에서 1사이 100개의 실수를 추출하여 *100\n",
    "mask1 = abs(x) > 50   # x에 저장된 값들 중에서 절대값이 50보다 큰 것만 걸러냄\n",
    "mask2 = abs(y) > 50   \n",
    "x = x[mask1 + mask2]   # mask1 또는 mask2 중 하나라도 만족하는 구간에 있는 x의 값만 저장\n",
    "y = y[mask1 + mask2]\n",
    "plt.scatter(x, y, s=size, c=x, cmap='jet', alpha=0.7)\n",
    "plt.colorbar()\n",
    "plt.show()"
   ]
  },
  {
   "cell_type": "code",
   "execution_count": null,
   "metadata": {
    "scrolled": false
   },
   "outputs": [],
   "source": [
    "#p227 numpy를 활용하는 프로젝트\n",
    "#전국에서 신도림동의 연령별 인구 구조와 가장 형태가 비슷한 지역은 어디일까?\n",
    "\n",
    "import numpy as np\n",
    "import csv\n",
    "\n",
    "#데이타 읽기\n",
    "f = open('age.csv')\n",
    "data = csv.reader(f)\n",
    "next(data)\n",
    "data = list(data)    #data를 반복문을 여러번 사용하할 수 있도록 list 구조에 저장\n",
    "\n",
    "#궁금한 지역의 이름을 입력받는다.\n",
    "name = input('인구 구조가 알고 싶은 지역의 이름(읍면동 단위)을 입력해 주세요: ')   #신림동\n",
    "mn = 1   #최소 차이값\n",
    "result_name = ''    #최소 차이값을 갖는 지역명\n",
    "result = 0    #최소 차이값을 갖는 지역의 연령대별 인구비율 저장\n",
    "\n",
    "#궁금한 지역의 인구 구조를 저장\n",
    "for row in data :\n",
    "    if name in row[0] :\n",
    "        home = np.array(row[3:], dtype=int) / int(row[2].replace(',',''))   #연령대별 인구비율(연령대별 인구수/전체 인구수)을 home에 저장\n",
    "        #Error --->  row[3:]에 있는 1,055와 같이 ,를 제거한 후 정수변환해야 하는데 \n",
    "        #리스트 전체에는 .replace(',','') 연산이적용되지 않는다. 다른 방법이 뭘까 ????  28라인도 마찬가지.\n",
    "        \n",
    "#궁근한 지역의 인구구조와 가장 비슷한 인구구조를 가진 지역을 찾는다.\n",
    "for row in data :\n",
    "    away = np.array(row[3:], dtype=int) / int(row[2].replace(',',''))   #다른 동네의 인구비율을 away에 저장\n",
    "    s = np.sum((home-away)**2)    #home에 저장된 값과 away에 저장된 값의 차의 합. 차를 양수로 만들기 위해 제곱연산\n",
    "    if s < mn and name not in row[0] :    #s가 최소값이고 입력받은 이름과 같은 이름이 아니면 갱신\n",
    "        mn = s\n",
    "        result_name = row[0]\n",
    "        result = away\n",
    "\n",
    "#두 지역을 시각화하여 비교 \n",
    "import matplotlib.pyplot as plt\n",
    "plt.style.use('ggplot')\n",
    "plt.figure(figsize=(10,5), dpi=300)\n",
    "plt.rc('font', family='Malgun Gothic')\n",
    "plt.title(name + ' 지역과 가장 비슷한 인구 구조를 가진 지역')\n",
    "plt.plot(home, label=name)\n",
    "plt.plot(result, label=result_name)\n",
    "plt.legend()\n",
    "plt.show()"
   ]
  },
  {
   "cell_type": "markdown",
   "metadata": {},
   "source": [
    "# pandas"
   ]
  },
  {
   "cell_type": "code",
   "execution_count": null,
   "metadata": {
    "scrolled": false
   },
   "outputs": [],
   "source": [
    "#p251 테이블 형태의 데이터를 쉽게 다루도록 도와주는 pandas 라이브러리\n",
    "\n",
    "\n",
    "\n",
    "#올림픽을 예제로... 다시 다루기"
   ]
  },
  {
   "cell_type": "code",
   "execution_count": null,
   "metadata": {
    "scrolled": false
   },
   "outputs": [],
   "source": [
    "import pandas as pd\n",
    "df = pd.read_html('https://ko.wikipedia.org/wiki/%EC%98%AC%EB%A6%BC%ED%94%BD_%EB%A9%94%EB%8B%AC_%EC%A7%91%EA%B3%84#%EA%B5%AD%EA%B0%80%EB%B3%84_%EB%A9%94%EB%8B%AC_%ED%9A%8D%EB%93%9D_%ED%98%84%ED%99%A9', header=0, index_col=0)\n",
    "#print(df)\n",
    "#df[1]\n",
    "pd.__version__"
   ]
  },
  {
   "cell_type": "code",
   "execution_count": null,
   "metadata": {
    "scrolled": false
   },
   "outputs": [],
   "source": [
    "#259 pasdas 란\n",
    "#pandas : panel datas, 1차원 배열=Series, 2차원 배열=DataFrames\n",
    "#index=행이름, columns=열이름\n",
    "\n",
    "import pandas as pd\n",
    "index = pd.date_range('1/1/2000', periods=8)   #날짜로 된 8개의 인덱스 생성\n",
    "print(index)\n",
    "\n",
    "import numpy as np\n",
    "#8행 3열 난수로 데이터프레임 생성, index=행이름, columns=열이름\n",
    "df = pd.DataFrame(np.random.rand(8,3), index=index, columns=list('ABC'))  \n",
    "print(df)\n",
    "print('---')\n",
    "print(df['B']) #B열값 출력\n",
    "print('---')\n",
    "print(df['B'] > 0.4)  #조건을 만족하는지 확인\n",
    "print('---')\n",
    "df2 = df[df['B'] > 0.4]   #조건에 맞는 데이터프레임 생성\n",
    "print(df2)\n",
    "print('---')\n",
    "print(df2.T)   #행과 열을 Transpose"
   ]
  },
  {
   "cell_type": "code",
   "execution_count": null,
   "metadata": {
    "scrolled": false
   },
   "outputs": [],
   "source": [
    "#p264 데이터 프레임의 열우선(axis=0) 계산과 행우선(axis=1) 계산\n",
    "\n",
    "import pandas as pd\n",
    "import numpy as np\n",
    "index = pd.date_range('1/1/2000', periods=8)   #날짜로 된 8개의 index(행이름) 생성\n",
    "#8행 3열 난수로 데이터프레임 생성, index=행이름, columns=열이름\n",
    "df = pd.DataFrame(np.random.rand(8,3), index=index, columns=list('ABC'))\n",
    "df['D'] = df['A'] / df['B']  #A열의 값을 B열로 나누어 새로 만든 D열에 저장\n",
    "df['E'] = np.sum(df, axis=1)    #행우선으로 합을 계산하여 새로 만든 E열에 저장\n",
    "print('---')\n",
    "print(df)   \n",
    "print('---')\n",
    "df = df.sub(df['A'], axis=0)    #데이터 프레임 각열의 데이터를 A열의 값으로 빼기(열우선)\n",
    "print(df) \n",
    "print('---')\n",
    "df = df.div(df['C'], axis=0)    #데이터 프레임 각열의 데이터를 C열의 값으로 곱하기(열우선)\n",
    "df.head()  #처음 5개의 데이터만 확인\n",
    "\n",
    "df.to_csv('test.csv')    #데이터 프레임을 파일로 저장"
   ]
  },
  {
   "cell_type": "code",
   "execution_count": null,
   "metadata": {
    "scrolled": false
   },
   "outputs": [],
   "source": [
    "#p268 pandas로 인구구조 분석하기 (p227 numpy로 했던 내용을 pandas로 구현)\n",
    "\n",
    "#데이터 읽어오기\n",
    "import pandas as pd\n",
    "df = pd.read_csv('age.csv', encoding='cp949', index_col=0)    #윈도우에서 만든 CSV파일인 경우 encoding='cp949'라고 작성\n",
    "df.head()\n",
    "\n",
    "df = df.div(df['2019년02월_계_총인구수'], axis=0)    #각 열의 값을 총인구수로 나누서 연령별 비율 계산(axis=0 열우선)\n",
    "del df['2019년02월_계_총인구수'], df['2019년02월_계_연령구간인구수']   #필요없는 열 삭제(총인구수, 연령구간인구수)\n",
    "df.head()\n",
    "\n",
    "#궁금한 지역이름을 입력받고 해당 지역의 인구 구조 저장하기\n",
    "name = input('원하는 지역의 이름을 입력하세요 : ')\n",
    "a = df.index.str.contains(name)    #해당 행(index)을 찾아서 인구구조 값들을 a에 저장\n",
    "df2 = df[a]\n",
    "df2\n",
    "\n",
    "import matplotlib.pyplot as plt\n",
    "plt.rc('font', family='Malgun Gothic')\n",
    "df2.T.plot()\n",
    "plt.show()\n",
    "\n",
    "#인구구조가 가장 비슷한 지역을 시각화하기\n",
    "import numpy as np\n",
    "\n",
    "x = df.sub(df2.iloc[0], axis=1)   #각 지역 인구비율 df에서 궁금한 지역의 인구비율 df2를 뺸다.\n",
    "y = np.power(x, 2)    #차이값(뺼셈결과)로 음수값을 양수화시키기 위해 제곱\n",
    "z = y.sum(axis=1)    #차이값의 합을 계산(axis=1 행우선)\n",
    "i = z.sort_values().index[:5]    #정렬하여 차이가 가장 작은 지역 5곳을 찾는다.\n",
    "df.loc[i].T.plot()\n",
    "\n",
    "#26라인 부터 30라인을 한 줄로 표현\n",
    "#df.loc[np.power(df.sub(df2.iloc[0], axis=1,2).sum(axis=).sort_values().idex[:5]].T.plot()\n",
    "\n",
    "plt.show()"
   ]
  }
 ],
 "metadata": {
  "kernelspec": {
   "display_name": "Python 3",
   "language": "python",
   "name": "python3"
  },
  "language_info": {
   "codemirror_mode": {
    "name": "ipython",
    "version": 3
   },
   "file_extension": ".py",
   "mimetype": "text/x-python",
   "name": "python",
   "nbconvert_exporter": "python",
   "pygments_lexer": "ipython3",
   "version": "3.7.4"
  }
 },
 "nbformat": 4,
 "nbformat_minor": 4
}
