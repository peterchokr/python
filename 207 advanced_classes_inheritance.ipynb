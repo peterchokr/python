{
 "cells": [
  {
   "cell_type": "markdown",
   "id": "846a0366",
   "metadata": {},
   "source": [
    "# 클래스 고급 및 상속 (Advanced Classes and Inheritance)\n",
    "\n",
    "**수업 시간**: 3시간  \n",
    "**구성**: 강의 및 실습 2시간 + 퀴즈 1시간  \n",
    "**수준**: 중급  \n",
    "**선수 학습**: 클래스와 객체 기초, 메소드, `__init__` 메소드, 속성\n",
    "\n",
    "---\n",
    "\n",
    "## 학습 목표\n",
    "\n",
    "이 수업을 마친 후 학생들은 다음을 할 수 있습니다:\n",
    "\n",
    "- 상속(Inheritance)이 무엇이고 왜 유용한지 이해하기\n",
    "- 부모 클래스(Parent Class)와 자식 클래스(Child Class) 생성하기\n",
    "- `super()` 함수를 사용하여 부모 메소드 호출하기\n",
    "- 자식 클래스에서 메소드 오버라이딩(Method Overriding) 수행하기\n",
    "\n",
    "---\n",
    "\n",
    "## 1. 상속이란?\n",
    "\n",
    "상속(Inheritance)은 가족과 같습니다. 자녀들은 부모로부터 특성을 받지만, 각자 다른 특성도 가질 수 있습니다.\n",
    "\n",
    "### 간단한 예시"
   ]
  },
  {
   "cell_type": "code",
   "execution_count": null,
   "id": "24ada54a",
   "metadata": {},
   "outputs": [],
   "source": [
    "# 부모 클래스\n",
    "class Animal:\n",
    "    def __init__(self, name):\n",
    "        self.name = name\n",
    "    \n",
    "    def eat(self):\n",
    "        return f\"{self.name}이(가) 먹고 있습니다\"\n",
    "    \n",
    "    def sleep(self):\n",
    "        return f\"{self.name}이(가) 잠자고 있습니다\"\n",
    "\n",
    "# 자식 클래스\n",
    "class Dog(Animal):\n",
    "    def bark(self):\n",
    "        return f\"{self.name}이(가) 멍멍!\"\n",
    "\n",
    "# 상속 사용하기\n",
    "my_dog = Dog(\"바둑이\")\n",
    "print(my_dog.eat())    # 부모 클래스에서 상속\n",
    "print(my_dog.sleep())  # 부모 클래스에서 상속\n",
    "print(my_dog.bark())   # 자식 클래스의 고유 메소드"
   ]
  },
  {
   "cell_type": "markdown",
   "id": "e6bdd4a2",
   "metadata": {},
   "source": [
    "### 왜 상속을 사용하나요?\n",
    "\n",
    "- **시간 절약**: 같은 코드를 다시 작성하지 않음\n",
    "- **조직화**: 비슷한 기능들을 체계적으로 관리\n",
    "- **쉬운 업데이트**: 부모를 변경하면 모든 자식이 자동으로 변경됨\n",
    "\n",
    "### 실생활 비유: 영남이공대학교 학과 시스템"
   ]
  },
  {
   "cell_type": "code",
   "execution_count": null,
   "id": "e1e1e9e3",
   "metadata": {},
   "outputs": [],
   "source": [
    "# 부모 클래스: 일반적인 대학생\n",
    "class CollegeStudent:\n",
    "    def __init__(self, name, student_id):\n",
    "        self.name = name\n",
    "        self.student_id = student_id\n",
    "        self.university = \"영남이공대학교\"\n",
    "    \n",
    "    def attend_class(self):\n",
    "        return f\"{self.name} 학생이 수업에 참석합니다\"\n",
    "    \n",
    "    def take_exam(self):\n",
    "        return f\"{self.name} 학생이 시험을 봅니다\"\n",
    "\n",
    "# 자식 클래스: 소프트웨어융합과 학생\n",
    "class SoftwareStudent(CollegeStudent):\n",
    "    def __init__(self, name, student_id):\n",
    "        super().__init__(name, student_id)\n",
    "        self.major = \"소프트웨어융합과\"\n",
    "    \n",
    "    def code_program(self):\n",
    "        return f\"{self.name} 학생이 파이썬 프로그래밍을 합니다\"\n",
    "    \n",
    "    def develop_app(self):\n",
    "        return f\"{self.name} 학생이 앱을 개발합니다\"\n",
    "\n",
    "# 사용 예시\n",
    "student = SoftwareStudent(\"김철수\", \"20240001\")\n",
    "print(student.attend_class())  # 부모에서 상속\n",
    "print(student.code_program())  # 자식 클래스만의 기능"
   ]
  },
  {
   "cell_type": "markdown",
   "id": "ec017629",
   "metadata": {},
   "source": [
    "---\n",
    "\n",
    "## 2. 부모 클래스와 자식 클래스 생성\n",
    "\n",
    "### 기본 패턴"
   ]
  },
  {
   "cell_type": "code",
   "execution_count": null,
   "id": "36c5928b",
   "metadata": {},
   "outputs": [],
   "source": [
    "class Parent:\n",
    "    # 부모 클래스의 메소드들\n",
    "    pass\n",
    "\n",
    "class Child(Parent):\n",
    "    # 자식 클래스는 부모의 모든 것을 상속받음\n",
    "    # 추가로 새로운 기능도 추가 가능\n",
    "    pass"
   ]
  },
  {
   "cell_type": "markdown",
   "id": "0f12430a",
   "metadata": {},
   "source": [
    "### 실제 예시: 교통수단 클래스"
   ]
  },
  {
   "cell_type": "code",
   "execution_count": null,
   "id": "cf9d3d07",
   "metadata": {},
   "outputs": [],
   "source": [
    "class Vehicle:\n",
    "    def __init__(self, brand):\n",
    "        self.brand = brand\n",
    "    \n",
    "    def start(self):\n",
    "        return f\"{self.brand}이(가) 시동을 겁니다\"\n",
    "    \n",
    "    def stop(self):\n",
    "        return f\"{self.brand}이(가) 정지합니다\"\n",
    "\n",
    "class Car(Vehicle):\n",
    "    def honk(self):\n",
    "        return f\"{self.brand} 자동차가 빵빵!\"\n",
    "\n",
    "class Motorcycle(Vehicle):\n",
    "    def wheelie(self):\n",
    "        return f\"{self.brand} 오토바이가 앞바퀴를 들어올립니다\"\n",
    "\n",
    "# 두 종류 모두 테스트\n",
    "car = Car(\"현대\")\n",
    "bike = Motorcycle(\"혼다\")\n",
    "\n",
    "print(car.start())      # 상속받은 메소드\n",
    "print(car.honk())       # Car만의 메소드\n",
    "print(bike.start())     # 상속받은 메소드\n",
    "print(bike.wheelie())   # Motorcycle만의 메소드"
   ]
  },
  {
   "cell_type": "markdown",
   "id": "e3a4c760",
   "metadata": {},
   "source": [
    "### 영남이공대학교 직원 시스템 예시"
   ]
  },
  {
   "cell_type": "code",
   "execution_count": null,
   "id": "18f14b9d",
   "metadata": {},
   "outputs": [],
   "source": [
    "class Employee:\n",
    "    def __init__(self, name, employee_id):\n",
    "        self.name = name\n",
    "        self.employee_id = employee_id\n",
    "        self.workplace = \"영남이공대학교\"\n",
    "    \n",
    "    def work(self):\n",
    "        return f\"{self.name}이(가) 근무 중입니다\"\n",
    "    \n",
    "    def attend_meeting(self):\n",
    "        return f\"{self.name}이(가) 회의에 참석합니다\"\n",
    "\n",
    "class Professor(Employee):\n",
    "    def __init__(self, name, employee_id, department):\n",
    "        super().__init__(name, employee_id)\n",
    "        self.department = department\n",
    "    \n",
    "    def teach_class(self):\n",
    "        return f\"{self.name} 교수가 {self.department}에서 강의합니다\"\n",
    "\n",
    "class Administrator(Employee):\n",
    "    def __init__(self, name, employee_id, office):\n",
    "        super().__init__(name, employee_id)\n",
    "        self.office = office\n",
    "    \n",
    "    def manage_documents(self):\n",
    "        return f\"{self.name}이(가) {self.office}에서 문서를 관리합니다\"\n",
    "\n",
    "# 사용 예시\n",
    "prof = Professor(\"이교수\", \"P001\", \"소프트웨어융합과\")\n",
    "admin = Administrator(\"김직원\", \"A001\", \"학사지원팀\")\n",
    "\n",
    "print(prof.work())           # 상속받은 메소드\n",
    "print(prof.teach_class())    # Professor만의 메소드\n",
    "print(admin.attend_meeting()) # 상속받은 메소드\n",
    "print(admin.manage_documents()) # Administrator만의 메소드"
   ]
  },
  {
   "cell_type": "markdown",
   "id": "b6cb6a4f",
   "metadata": {},
   "source": [
    "---\n",
    "\n",
    "## 3. `super()` 함수\n",
    "\n",
    "**`super()`** 함수는 부모 클래스의 메소드를 사용할 수 있게 해줍니다. 마치 부모에게 도움을 요청하는 것과 같습니다.\n",
    "\n",
    "### `__init__`에서 `super()` 사용"
   ]
  },
  {
   "cell_type": "code",
   "execution_count": null,
   "id": "c89f3f3b",
   "metadata": {},
   "outputs": [],
   "source": [
    "class Person:\n",
    "    def __init__(self, name, age):\n",
    "        self.name = name\n",
    "        self.age = age\n",
    "    \n",
    "    def introduce(self):\n",
    "        return f\"안녕하세요, 저는 {self.name}입니다\"\n",
    "\n",
    "class Student(Person):\n",
    "    def __init__(self, name, age, school):\n",
    "        super().__init__(name, age)  # 부모의 __init__ 호출\n",
    "        self.school = school\n",
    "    \n",
    "    def introduce(self):\n",
    "        parent_intro = super().introduce()  # 부모의 introduce 호출\n",
    "        return f\"{parent_intro}. {self.school}에서 공부합니다\"\n",
    "\n",
    "# 테스트\n",
    "student = Student(\"김영희\", 18, \"영남이공대학교\")\n",
    "print(student.introduce())"
   ]
  },
  {
   "cell_type": "markdown",
   "id": "a8d9f4f2",
   "metadata": {},
   "source": [
    "### 영남이공대학교 소프트웨어융합과 전용 예시"
   ]
  },
  {
   "cell_type": "code",
   "execution_count": null,
   "id": "ae6ede6b",
   "metadata": {},
   "outputs": [],
   "source": [
    "class YeungnamStudent:\n",
    "    def __init__(self, name, student_id):\n",
    "        self.name = name\n",
    "        self.student_id = student_id\n",
    "        self.university = \"영남이공대학교\"\n",
    "    \n",
    "    def show_info(self):\n",
    "        return f\"학번: {self.student_id}, 이름: {self.name}\"\n",
    "    \n",
    "    def study(self):\n",
    "        return f\"{self.name} 학생이 공부합니다\"\n",
    "\n",
    "class SoftwareMajor(YeungnamStudent):\n",
    "    def __init__(self, name, student_id, programming_language):\n",
    "        super().__init__(name, student_id)  # 부모 초기화\n",
    "        self.major = \"소프트웨어융합과\"\n",
    "        self.programming_language = programming_language\n",
    "    \n",
    "    def show_info(self):\n",
    "        base_info = super().show_info()  # 부모 메소드 호출\n",
    "        return f\"{base_info}, 전공: {self.major}, 주 언어: {self.programming_language}\"\n",
    "    \n",
    "    def study(self):\n",
    "        base_study = super().study()  # 부모 메소드 호출\n",
    "        return f\"{base_study} ({self.programming_language} 프로그래밍 중심)\"\n",
    "\n",
    "# 테스트\n",
    "sw_student = SoftwareMajor(\"박철수\", \"20240001\", \"Python\")\n",
    "print(sw_student.show_info())\n",
    "print(sw_student.study())"
   ]
  },
  {
   "cell_type": "markdown",
   "id": "fff68b52",
   "metadata": {},
   "source": [
    "---\n",
    "\n",
    "## 4. 메소드 오버라이딩 (Method Overriding)\n",
    "\n",
    "자식 클래스에서 부모 메소드가 작동하는 방식을 변경할 수 있습니다. 이를 **오버라이딩(Overriding)**이라고 합니다.\n",
    "\n",
    "### 간단한 오버라이드 예시"
   ]
  },
  {
   "cell_type": "code",
   "execution_count": null,
   "id": "e9057b70",
   "metadata": {},
   "outputs": [],
   "source": [
    "class Animal:\n",
    "    def __init__(self, name):\n",
    "        self.name = name\n",
    "    \n",
    "    def make_sound(self):\n",
    "        return f\"{self.name}이(가) 소리를 냅니다\"\n",
    "\n",
    "class Cat(Animal):\n",
    "    def make_sound(self):  # 부모 메소드 오버라이드\n",
    "        return f\"{self.name}이(가) 야옹!\"\n",
    "\n",
    "class Dog(Animal):\n",
    "    def make_sound(self):  # 다른 방식으로 오버라이드\n",
    "        return f\"{self.name}이(가) 멍멍!\"\n",
    "\n",
    "# 오버라이딩 테스트\n",
    "cat = Cat(\"나비\")\n",
    "dog = Dog(\"멍멍이\")\n",
    "\n",
    "print(cat.make_sound())  # Cat 버전\n",
    "print(dog.make_sound())  # Dog 버전"
   ]
  },
  {
   "cell_type": "markdown",
   "id": "7dddf5ec",
   "metadata": {},
   "source": [
    "### 영남이공대학교 성적 시스템 예시"
   ]
  },
  {
   "cell_type": "code",
   "execution_count": null,
   "id": "c1e899b2",
   "metadata": {},
   "outputs": [],
   "source": [
    "class Course:\n",
    "    def __init__(self, course_name, credits):\n",
    "        self.course_name = course_name\n",
    "        self.credits = credits\n",
    "    \n",
    "    def calculate_grade(self, score):\n",
    "        if score >= 90:\n",
    "            return \"A\"\n",
    "        elif score >= 80:\n",
    "            return \"B\"\n",
    "        elif score >= 70:\n",
    "            return \"C\"\n",
    "        else:\n",
    "            return \"F\"\n",
    "    \n",
    "    def get_course_info(self):\n",
    "        return f\"과목: {self.course_name} ({self.credits}학점)\"\n",
    "\n",
    "class ProgrammingCourse(Course):\n",
    "    def __init__(self, course_name, credits, language):\n",
    "        super().__init__(course_name, credits)\n",
    "        self.language = language\n",
    "    \n",
    "    def calculate_grade(self, score, project_score=0):  # 오버라이드\n",
    "        # 프로그래밍 과목은 프로젝트 점수도 고려\n",
    "        final_score = (score * 0.7) + (project_score * 0.3)\n",
    "        \n",
    "        if final_score >= 95:\n",
    "            return \"A+\"\n",
    "        elif final_score >= 90:\n",
    "            return \"A\"\n",
    "        elif final_score >= 85:\n",
    "            return \"B+\"\n",
    "        elif final_score >= 80:\n",
    "            return \"B\"\n",
    "        else:\n",
    "            return \"C\"\n",
    "    \n",
    "    def get_course_info(self):  # 오버라이드\n",
    "        base_info = super().get_course_info()\n",
    "        return f\"{base_info} - {self.language} 프로그래밍\"\n",
    "\n",
    "# 테스트\n",
    "regular_course = Course(\"수학\", 3)\n",
    "programming_course = ProgrammingCourse(\"파이썬 프로그래밍\", 3, \"Python\")\n",
    "\n",
    "print(regular_course.get_course_info())\n",
    "print(f\"수학 성적: {regular_course.calculate_grade(85)}\")\n",
    "\n",
    "print(programming_course.get_course_info())\n",
    "print(f\"프로그래밍 성적: {programming_course.calculate_grade(80, 95)}\")"
   ]
  },
  {
   "cell_type": "markdown",
   "id": "71f9b866",
   "metadata": {
    "lines_to_next_cell": 0
   },
   "source": [
    "---\n",
    "\n",
    "## 실습 문제\n",
    "\n",
    "### 실습 1: 간단한 직원 시스템\n",
    "\n",
    "**문제**: Employee 부모 클래스와 Manager 자식 클래스를 만드세요.\n",
    "\n",
    "**정답**:"
   ]
  },
  {
   "cell_type": "code",
   "execution_count": null,
   "id": "70174c62",
   "metadata": {},
   "outputs": [],
   "source": [
    "class Employee:\n",
    "    def __init__(self, name, salary):\n",
    "        self.name = name\n",
    "        self.salary = salary\n",
    "    \n",
    "    def work(self):\n",
    "        return f\"{self.name}이(가) 근무 중입니다\"\n",
    "    \n",
    "    def get_info(self):\n",
    "        return f\"직원: {self.name}, 급여: {self.salary:,}원\"\n",
    "\n",
    "class Manager(Employee):\n",
    "    def __init__(self, name, salary, team_size):\n",
    "        super().__init__(name, salary)\n",
    "        self.team_size = team_size\n",
    "    \n",
    "    def work(self):\n",
    "        return f\"{self.name}이(가) {self.team_size}명의 팀을 관리합니다\"\n",
    "    \n",
    "    def get_info(self):\n",
    "        base_info = super().get_info()\n",
    "        return f\"{base_info}, 팀: {self.team_size}명\"\n",
    "\n",
    "# 클래스 테스트\n",
    "emp = Employee(\"김철수\", 50000)\n",
    "mgr = Manager(\"이영희\", 80000, 5)\n",
    "\n",
    "print(emp.work())\n",
    "print(emp.get_info())\n",
    "print(mgr.work())\n",
    "print(mgr.get_info())"
   ]
  },
  {
   "cell_type": "markdown",
   "id": "62ca1e27",
   "metadata": {
    "lines_to_next_cell": 0
   },
   "source": [
    "### 실습 2: 도형 계산기\n",
    "\n",
    "**문제**: Shape 부모 클래스와 면적 계산이 있는 Rectangle 자식 클래스를 만드세요.\n",
    "\n",
    "**정답**:"
   ]
  },
  {
   "cell_type": "code",
   "execution_count": null,
   "id": "b73a0e6b",
   "metadata": {},
   "outputs": [],
   "source": [
    "class Shape:\n",
    "    def __init__(self, color):\n",
    "        self.color = color\n",
    "    \n",
    "    def describe(self):\n",
    "        return f\"이것은 {self.color} 도형입니다\"\n",
    "    \n",
    "    def area(self):\n",
    "        return 0\n",
    "\n",
    "class Rectangle(Shape):\n",
    "    def __init__(self, color, width, height):\n",
    "        super().__init__(color)\n",
    "        self.width = width\n",
    "        self.height = height\n",
    "    \n",
    "    def area(self):\n",
    "        return self.width * self.height\n",
    "    \n",
    "    def describe(self):\n",
    "        return f\"이것은 {self.color} 직사각형입니다\"\n",
    "\n",
    "class Circle(Shape):\n",
    "    def __init__(self, color, radius):\n",
    "        super().__init__(color)\n",
    "        self.radius = radius\n",
    "    \n",
    "    def area(self):\n",
    "        return 3.14 * self.radius * self.radius\n",
    "    \n",
    "    def describe(self):\n",
    "        return f\"이것은 {self.color} 원입니다\"\n",
    "\n",
    "# 도형 테스트\n",
    "rect = Rectangle(\"빨간색\", 5, 3)\n",
    "circle = Circle(\"파란색\", 4)\n",
    "\n",
    "print(rect.describe())\n",
    "print(f\"넓이: {rect.area()}\")\n",
    "print(circle.describe())\n",
    "print(f\"넓이: {circle.area()}\")"
   ]
  },
  {
   "cell_type": "markdown",
   "id": "4b94f221",
   "metadata": {
    "lines_to_next_cell": 0
   },
   "source": [
    "---\n",
    "\n",
    "## 퀴즈\n",
    "\n",
    "### 퀴즈 1: 동물 클래스\n",
    "\n",
    "**문제**: name 속성과 speak() 메소드가 있는 Animal 부모 클래스를 만드세요. speak()를 오버라이드하여 \"멍멍!\"을 반환하는 Dog 자식 클래스를 만드세요. 두 클래스를 모두 테스트하세요.\n",
    "\n",
    "**답안 작성 공간**:"
   ]
  },
  {
   "cell_type": "code",
   "execution_count": null,
   "id": "94a01a6d",
   "metadata": {},
   "outputs": [],
   "source": [
    "# 여기에 코드를 작성하세요"
   ]
  },
  {
   "cell_type": "markdown",
   "id": "1df3bae9",
   "metadata": {
    "lines_to_next_cell": 0
   },
   "source": [
    "### 퀴즈 2: super()가 있는 자동차\n",
    "\n",
    "**문제**: brand 속성과 start() 메소드가 있는 Vehicle 부모 클래스를 만드세요. __init__에서 super()를 사용하고 doors 속성을 추가하는 Car 자식 클래스를 만드세요.\n",
    "\n",
    "**답안 작성 공간**:"
   ]
  },
  {
   "cell_type": "code",
   "execution_count": null,
   "id": "cc2acc6f",
   "metadata": {},
   "outputs": [],
   "source": [
    "# 여기에 코드를 작성하세요"
   ]
  },
  {
   "cell_type": "markdown",
   "id": "794e11ba",
   "metadata": {
    "lines_to_next_cell": 0
   },
   "source": [
    "### 퀴즈 3: 학생 시스템\n",
    "\n",
    "**문제**: name과 age가 있는 Person 클래스를 만드세요. Person을 상속받고, school 속성을 추가하며, 학교 정보를 포함하도록 introduce() 메소드를 오버라이드하는 Student 클래스를 만드세요.\n",
    "\n",
    "**답안 작성 공간**:"
   ]
  },
  {
   "cell_type": "code",
   "execution_count": null,
   "id": "5a65e5ee",
   "metadata": {},
   "outputs": [],
   "source": [
    "# 여기에 코드를 작성하세요"
   ]
  },
  {
   "cell_type": "markdown",
   "id": "8278ab54",
   "metadata": {
    "lines_to_next_cell": 0
   },
   "source": [
    "---\n",
    "\n",
    "## 참고 자료\n",
    "\n",
    "1. **파이썬 상속 공식 문서**: https://docs.python.org/ko/3/tutorial/classes.html#inheritance\n",
    "   - 상속에 대한 공식 파이썬 문서\n",
    "\n",
    "2. **점프 투 파이썬 - 클래스 상속**: https://wikidocs.net/28\n",
    "   - 한국어로 된 상속 설명\n",
    "\n",
    "3. **코딩 도장 - 상속**: https://dojang.io/mod/page/view.php?id=2386\n",
    "   - 파이썬 상속 상세 설명\n",
    "\n",
    "4. **Real Python - 상속과 구성**: https://realpython.com/inheritance-composition-python/\n",
    "   - 상속에 대한 심화 설명\n",
    "\n",
    "5. **메소드 오버라이딩 예제**: https://www.programiz.com/python-programming/method-overriding\n",
    "   - 메소드 오버라이딩 실습 예제\n",
    "\n",
    "---\n",
    "\n",
    "## 핵심 포인트\n",
    "\n",
    "### 기억해야 할 것들\n",
    "\n",
    "1. **상속 = 자식이 부모의 능력을 물려받음**\n",
    "2. **`super()`를 사용해 부모 메소드 호출**\n",
    "3. **오버라이드 = 자식에서 부모 메소드 변경**\n",
    "4. **자식 클래스는 부모로부터 모든 것을 상속받음**\n",
    "\n",
    "### 모범 사례\n",
    "\n",
    "#### 1. 논리적인 상속 관계 설계"
   ]
  },
  {
   "cell_type": "code",
   "execution_count": null,
   "id": "7080f822",
   "metadata": {},
   "outputs": [],
   "source": [
    "# 좋은 예시 - 명확한 is-a 관계\n",
    "class Vehicle:     # 부모: 교통수단\n",
    "    pass\n",
    "\n",
    "class Car(Vehicle): # 자식: 자동차는 교통수단이다\n",
    "    pass\n",
    "\n",
    "class Dog(Vehicle): # 나쁜 예시: 개는 교통수단이 아니다\n",
    "    pass"
   ]
  },
  {
   "cell_type": "markdown",
   "id": "ade57703",
   "metadata": {
    "lines_to_next_cell": 0
   },
   "source": [
    "#### 2. `super()` 적절한 사용"
   ]
  },
  {
   "cell_type": "code",
   "execution_count": null,
   "id": "ea395f40",
   "metadata": {},
   "outputs": [],
   "source": [
    "class Child(Parent):\n",
    "    def __init__(self, param1, param2, param3):\n",
    "        super().__init__(param1, param2)  # 부모 초기화\n",
    "        self.param3 = param3              # 자식만의 속성"
   ]
  },
  {
   "cell_type": "markdown",
   "id": "07eb75c9",
   "metadata": {
    "lines_to_next_cell": 0
   },
   "source": [
    "#### 3. 의미 있는 오버라이딩"
   ]
  },
  {
   "cell_type": "code",
   "execution_count": null,
   "id": "fcb15d41",
   "metadata": {},
   "outputs": [],
   "source": [
    "class Animal:\n",
    "    def make_sound(self):\n",
    "        return \"동물이 소리를 냅니다\"\n",
    "\n",
    "class Dog(Animal):\n",
    "    def make_sound(self):  # 의미 있는 변경\n",
    "        return \"멍멍!\""
   ]
  },
  {
   "cell_type": "markdown",
   "id": "e9fcad10",
   "metadata": {},
   "source": [
    "### 상속의 장단점\n",
    "\n",
    "**장점**:\n",
    "- 코드 재사용성 향상\n",
    "- 체계적인 클래스 구조\n",
    "- 유지보수 용이성\n",
    "\n",
    "**주의사항**:\n",
    "- 너무 깊은 상속은 복잡성 증가\n",
    "- 상속 관계가 명확해야 함\n",
    "- 부모 변경 시 자식에 미치는 영향 고려\n",
    "\n",
    "---\n",
    "\n",
    "## 숙제\n",
    "\n",
    "### 기본 과제\n",
    "\n",
    "1. **실습 완료**: 두 실습 모두 완료하기\n",
    "2. **나만의 상속**: 자신만의 부모-자식 클래스 쌍 생성하기\n",
    "3. **기능 연습**: `super()` 사용과 메소드 오버라이딩 연습하기\n",
    "\n",
    "### 심화 과제\n",
    "\n",
    "1. **영남이공대학교 전공 시스템**:\n",
    "   - 기본 Student 클래스\n",
    "   - SoftwareMajor, ComputerMajor 등 전공별 자식 클래스\n",
    "   - 각 전공별 특화 메소드 구현\n",
    "\n",
    "2. **게임 캐릭터 상속 시스템**:\n",
    "   - 기본 Character 클래스\n",
    "   - Warrior, Mage, Archer 등 직업별 클래스\n",
    "   - 각 직업별 고유 스킬 구현\n",
    "\n",
    "3. **도서관 관리 시스템**:\n",
    "   - 기본 LibraryItem 클래스\n",
    "   - Book, Magazine, DVD 등 자료별 클래스\n",
    "   - 각 자료 타입별 대출 규칙 다르게 구현\n",
    "\n",
    "### 추가 연습 문제\n",
    "\n",
    "1. **은행 계좌 시스템**: 기본 Account와 SavingsAccount, CheckingAccount\n",
    "2. **교통수단 관리**: Vehicle 부모와 다양한 교통수단 자식들\n",
    "3. **온라인 쇼핑몰**: Product 부모와 Electronics, Clothing 등 카테고리별 자식\n",
    "\n",
    "상속을 통해 코드를 더 체계적으로 조직하고 재사용성을 높일 수 있습니다. 객체지향 프로그래밍의 핵심 개념 중 하나인 상속을 마스터하면 더 효율적이고 유지보수하기 쉬운 프로그램을 작성할 수 있습니다."
   ]
  }
 ],
 "metadata": {
  "jupytext": {
   "cell_metadata_filter": "-all",
   "main_language": "python",
   "notebook_metadata_filter": "-all"
  }
 },
 "nbformat": 4,
 "nbformat_minor": 5
}
