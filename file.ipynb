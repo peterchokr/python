{
 "cells": [
  {
   "cell_type": "code",
   "execution_count": 4,
   "metadata": {},
   "outputs": [
    {
     "name": "stdout",
     "output_type": "stream",
     "text": [
      "c:\\Users\\10200\\Desktop\n"
     ]
    }
   ],
   "source": [
    "import os  \n",
    "print(os.getcwd())   # 현재 사용중인 폴더를 확인\n"
   ]
  },
  {
   "cell_type": "code",
   "execution_count": null,
   "metadata": {},
   "outputs": [
    {
     "name": "stdout",
     "output_type": "stream",
     "text": [
      "맥주 10\n",
      "소주 5\n",
      "막걸리 7\n"
     ]
    }
   ],
   "source": [
    "# 파일 생성\n",
    "f = open(\"addrbook.txt\", \"a\", encoding=\"utf-8\")  # 파일사용 선언\n",
    "\n",
    "while True :\n",
    "    x = input(\"메뉴(종료를 원하면 x 입력)\")\n",
    "    if x == \"x\" :\n",
    "        break\n",
    "    y = input(\"수량\")\n",
    "\n",
    "    print(x, y)\n",
    "    f.write(x + \"-\" + y + \"\\n\")\n",
    "\n",
    "f.close()\n"
   ]
  },
  {
   "cell_type": "code",
   "execution_count": 25,
   "metadata": {},
   "outputs": [
    {
     "name": "stdout",
     "output_type": "stream",
     "text": [
      "['맥주', '10']\n",
      "맥주:30000원\n",
      "['소주', '5']\n",
      "소주:20000원\n",
      "['막걸리', '7']\n",
      "막걸리:7000원\n",
      "22병, 총액 : 57000원\n"
     ]
    }
   ],
   "source": [
    "# 파일 사용 정산\n",
    "f = open(\"addrbook.txt\", \"r\", encoding=\"utf-8\")  # 파일사용 선언. 읽기목적\n",
    "\n",
    "# x = f.read()   # 모든 내용을 한꺼번에 가져온다\n",
    "# x = f.readline()  # 한줄만 가져온다\n",
    "x = f.readlines()  # 리스트 형식으로 모든 내용을 가져온다\n",
    "# print(x)\n",
    "\n",
    "s = 0\n",
    "total = 0\n",
    "for i in x :\n",
    "    # print(i.strip())\n",
    "    m = i.strip().split(\"-\")   # 맥주-10\\n\n",
    "    print(m)\n",
    "    if m[0] == \"맥주\" :\n",
    "        price = 3000 * int(m[1])\n",
    "        print(m[0] + \":\" + str(price) + \"원\")\n",
    "        total = total + price\n",
    "    if m[0] == \"소주\" :\n",
    "        price = 4000 * int(m[1])\n",
    "        print(m[0] + \":\" + str(price) + \"원\")\n",
    "        total = total + price\n",
    "    if m[0] == \"막걸리\" :\n",
    "        price = 1000 * int(m[1])\n",
    "        print(m[0] + \":\" + str(price) + \"원\")\n",
    "        total = total + price                \n",
    "  \n",
    "    s = s + int(m[1])\n",
    "    \n",
    "print(str(s) + \"병, \" + \"총액 : \" + str(total) + \"원\" )\n",
    "\n",
    "f.close()"
   ]
  }
 ],
 "metadata": {
  "kernelspec": {
   "display_name": "Python 3",
   "language": "python",
   "name": "python3"
  },
  "language_info": {
   "codemirror_mode": {
    "name": "ipython",
    "version": 3
   },
   "file_extension": ".py",
   "mimetype": "text/x-python",
   "name": "python",
   "nbconvert_exporter": "python",
   "pygments_lexer": "ipython3",
   "version": "3.7.4"
  }
 },
 "nbformat": 4,
 "nbformat_minor": 2
}
