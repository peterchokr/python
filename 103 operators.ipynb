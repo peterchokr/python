{
 "cells": [
  {
   "cell_type": "markdown",
   "id": "0d204667",
   "metadata": {
    "lines_to_next_cell": 0
   },
   "source": [
    "# 연산자와 표현식 (Operators and Expressions)\n",
    "\n",
    "**수업 시간**: 3시간  \n",
    "**구성**: 강의 및 실습 2시간 + 퀴즈 1시간  \n",
    "**수준**: 초급\n",
    "\n",
    "---\n",
    "\n",
    "## 🎯 학습 목표\n",
    "\n",
    "이 수업을 마친 후 학생들은 다음을 할 수 있습니다:\n",
    "\n",
    "- 수학 계산을 위한 산술 연산자(Arithmetic Operator) 이해 및 사용하기\n",
    "- 값을 비교하기 위한 비교 연산자(Comparison Operator) 적용하기\n",
    "- 논리 연산자(Logical Operator)를 사용하여 조건 결합하기\n",
    "- 효율적인 변수 업데이트를 위한 할당 연산자(Assignment Operator) 사용하기\n",
    "- 연산자 우선순위(Operator Precedence) 이해 및 괄호 올바른 사용하기\n",
    "\n",
    "---\n",
    "\n",
    "## 🧮 1. 산술 연산자 (Arithmetic Operators)\n",
    "\n",
    "산술 연산자는 계산기처럼 수학 계산을 수행합니다!\n",
    "\n",
    "### 1.1 기본 산술 연산자\n",
    "\n",
    "| 연산자 | 이름 | 예시 | 결과 |\n",
    "|--------|------|------|------|\n",
    "| `+` | 덧셈 (Addition) | `5 + 3` | `8` |\n",
    "| `-` | 뺄셈 (Subtraction) | `5 - 3` | `2` |\n",
    "| `*` | 곱셈 (Multiplication) | `5 * 3` | `15` |\n",
    "| `/` | 나눗셈 (Division) | `5 / 3` | `1.6666666666666667` |\n",
    "\n",
    "#### 간단한 예시"
   ]
  },
  {
   "cell_type": "code",
   "execution_count": null,
   "id": "bf84c386",
   "metadata": {},
   "outputs": [],
   "source": [
    "# 곱셈\n",
    "price = 5000\n",
    "quantity = 2\n",
    "total = price * quantity\n",
    "print(f\"총 가격: {total}원\")  # 10000원"
   ]
  },
  {
   "cell_type": "markdown",
   "id": "91f77821",
   "metadata": {
    "lines_to_next_cell": 0
   },
   "source": [
    "### 1.2 고급 산술 연산자\n",
    "\n",
    "| 연산자 | 이름 | 예시 | 결과 |\n",
    "|--------|------|------|------|\n",
    "| `//` | 정수 나눗셈 (Floor Division) | `7 // 3` | `2` |\n",
    "| `%` | 나머지 (Modulo) | `7 % 3` | `1` |\n",
    "| `**` | 거듭제곱 (Exponentiation) | `2 ** 3` | `8` |\n",
    "\n",
    "#### 특수 연산자 이해하기"
   ]
  },
  {
   "cell_type": "code",
   "execution_count": null,
   "id": "ad93c9e6",
   "metadata": {},
   "outputs": [],
   "source": [
    "# 나머지\n",
    "print(f\"7을 3으로 나눈 나머지: {7 % 3}\")  # 1\n",
    "\n",
    "# 거듭제곱  \n",
    "print(f\"2의 3제곱: {2 ** 3}\")  # 8"
   ]
  },
  {
   "cell_type": "markdown",
   "id": "7fa40871",
   "metadata": {},
   "source": [
    "---\n",
    "\n",
    "## ⚖️ 2. 비교 연산자 (Comparison Operators)\n",
    "\n",
    "비교 연산자는 두 값을 비교하여 `True` 또는 `False`를 반환합니다.\n",
    "\n",
    "### 2.1 모든 비교 연산자\n",
    "\n",
    "| 연산자 | 이름 | 예시 | 결과 |\n",
    "|--------|------|------|------|\n",
    "| `==` | 같음 (Equal to) | `5 == 5` | `True` |\n",
    "| `!=` | 같지 않음 (Not equal to) | `5 != 3` | `True` |\n",
    "| `<` | 작음 (Less than) | `3 < 5` | `True` |\n",
    "| `>` | 큼 (Greater than) | `5 > 3` | `True` |\n",
    "| `<=` | 작거나 같음 (Less than or equal) | `3 <= 5` | `True` |\n",
    "| `>=` | 크거나 같음 (Greater than or equal) | `5 >= 5` | `True` |\n",
    "\n",
    "### 2.2 실용적 예시"
   ]
  },
  {
   "cell_type": "code",
   "execution_count": null,
   "id": "52aa25f4",
   "metadata": {},
   "outputs": [],
   "source": [
    "# 나이 확인\n",
    "age = 19\n",
    "can_vote = age >= 18\n",
    "print(f\"투표 가능: {can_vote}\")  # True\n",
    "\n",
    "# 성적 비교\n",
    "my_score = 85\n",
    "passing_grade = 70\n",
    "passed = my_score >= passing_grade\n",
    "print(f\"합격: {passed}\")  # True"
   ]
  },
  {
   "cell_type": "markdown",
   "id": "f8ab6b9c",
   "metadata": {},
   "source": [
    "---\n",
    "\n",
    "## 🧠 3. 논리 연산자 (Logical Operators)\n",
    "\n",
    "논리 연산자는 여러 조건을 결합하여 복잡한 결정을 내립니다.\n",
    "\n",
    "### 3.1 3가지 논리 연산자\n",
    "\n",
    "| 연산자 | 이름 | 설명 |\n",
    "|--------|------|------|\n",
    "| `and` | 그리고 (AND) | 두 조건 모두 참이어야 함 |\n",
    "| `or` | 또는 (OR) | 최소 하나의 조건이 참이어야 함 |\n",
    "| `not` | 아니다 (NOT) | 조건을 반대로 바꿈 |\n",
    "\n",
    "### 3.2 AND 연산자 이해하기"
   ]
  },
  {
   "cell_type": "code",
   "execution_count": null,
   "id": "1db94fa6",
   "metadata": {},
   "outputs": [],
   "source": [
    "# 모든 조건이 참이어야 함\n",
    "age = 20\n",
    "has_id = True\n",
    "\n",
    "can_enter = (age >= 18) and has_id\n",
    "print(f\"입장 가능: {can_enter}\")  # True"
   ]
  },
  {
   "cell_type": "markdown",
   "id": "f2c6fa6a",
   "metadata": {},
   "source": [
    "### 3.3 OR 연산자 이해하기"
   ]
  },
  {
   "cell_type": "code",
   "execution_count": null,
   "id": "341dd492",
   "metadata": {},
   "outputs": [],
   "source": [
    "# 하나라도 참이면 됨\n",
    "has_cash = False\n",
    "has_card = True\n",
    "\n",
    "can_pay = has_cash or has_card\n",
    "print(f\"결제 가능: {can_pay}\")  # True"
   ]
  },
  {
   "cell_type": "markdown",
   "id": "394cef07",
   "metadata": {},
   "source": [
    "### 3.4 NOT 연산자 이해하기"
   ]
  },
  {
   "cell_type": "code",
   "execution_count": null,
   "id": "f0392383",
   "metadata": {},
   "outputs": [],
   "source": [
    "# 조건을 반대로 바꿈\n",
    "is_raining = False\n",
    "can_picnic = not is_raining\n",
    "print(f\"소풍 가능: {can_picnic}\")  # True"
   ]
  },
  {
   "cell_type": "markdown",
   "id": "1c2c7681",
   "metadata": {},
   "source": [
    "---\n",
    "\n",
    "## 📝 4. 할당 연산자 (Assignment Operators)\n",
    "\n",
    "할당 연산자는 변수를 업데이트하는 단축키를 제공합니다.\n",
    "\n",
    "### 4.1 복합 할당 연산자\n",
    "\n",
    "| 연산자 | 동등한 표현 | 예시 |\n",
    "|--------|-------------|------|\n",
    "| `+=` | `x = x + value` | `score += 10` |\n",
    "| `-=` | `x = x - value` | `score -= 5` |\n",
    "| `*=` | `x = x * value` | `score *= 2` |\n",
    "| `/=` | `x = x / value` | `score /= 3` |\n",
    "\n",
    "### 4.2 실용적 예시"
   ]
  },
  {
   "cell_type": "code",
   "execution_count": null,
   "id": "923e0a47",
   "metadata": {},
   "outputs": [],
   "source": [
    "# 점수 업데이트\n",
    "score = 100\n",
    "score += 20  # score = score + 20과 같음\n",
    "print(f\"새 점수: {score}\")  # 120\n",
    "\n",
    "# 잔액 업데이트  \n",
    "money = 50000\n",
    "money -= 10000  # 1만원 사용\n",
    "print(f\"남은 돈: {money:,}원\")  # 40,000원"
   ]
  },
  {
   "cell_type": "markdown",
   "id": "0e59fdac",
   "metadata": {},
   "source": [
    "---\n",
    "\n",
    "## 🔢 5. 연산자 우선순위 (Operator Precedence)\n",
    "\n",
    "연산자 우선순위를 이해하면 연산 순서를 예측할 수 있습니다.\n",
    "\n",
    "### 5.1 연산 순서\n",
    "\n",
    "**PEMDAS 규칙을 기억하세요**:\n",
    "\n",
    "1. **P**arentheses (괄호) - `( )`\n",
    "2. **E**xponents (지수) - `**`\n",
    "3. **M**ultiplication and **D**ivision (곱셈과 나눗셈) - `*`, `/`, `//`, `%`\n",
    "4. **A**ddition and **S**ubtraction (덧셈과 뺄셈) - `+`, `-`\n",
    "\n",
    "### 5.2 설명이 있는 예시"
   ]
  },
  {
   "cell_type": "code",
   "execution_count": null,
   "id": "71caa8b8",
   "metadata": {},
   "outputs": [],
   "source": [
    "# 예시 1: 기본 우선순위\n",
    "result1 = 10 + 3 * 2\n",
    "print(f\"10 + 3 * 2 = {result1}\")  # 16 (26이 아님!)\n",
    "# 순서: 3 * 2 = 6, 그다음 10 + 6 = 16\n",
    "\n",
    "# 예시 2: 괄호 사용\n",
    "result2 = (10 + 3) * 2\n",
    "print(f\"(10 + 3) * 2 = {result2}\")  # 26\n",
    "# 순서: (10 + 3) = 13, 그다음 13 * 2 = 26\n",
    "\n",
    "# 예시 3: 명확성을 위한 괄호\n",
    "price = 10000\n",
    "tax_rate = 0.1\n",
    "total = price + (price * tax_rate)\n",
    "print(f\"세금 포함 가격: {total:,}원\")  # 11,000원"
   ]
  },
  {
   "cell_type": "markdown",
   "id": "aaca5b71",
   "metadata": {
    "lines_to_next_cell": 0
   },
   "source": [
    "---\n",
    "\n",
    "## 🔧 실습\n",
    "\n",
    "### 실습 1: 간단한 계산기\n",
    "\n",
    "**문제**: 기본 산술 연산을 수행하는 간단한 계산기를 만드세요.\n",
    "\n",
    "**해답**:"
   ]
  },
  {
   "cell_type": "code",
   "execution_count": null,
   "id": "1023f2bc",
   "metadata": {},
   "outputs": [],
   "source": [
    "# 간단한 계산기\n",
    "print(\"🧮 간단한 계산기\")\n",
    "\n",
    "# 두 숫자\n",
    "a = 10\n",
    "b = 3\n",
    "\n",
    "print(f\"숫자: {a}, {b}\")\n",
    "print(f\"더하기: {a + b}\")\n",
    "print(f\"빼기: {a - b}\")\n",
    "print(f\"곱하기: {a * b}\")\n",
    "print(f\"나누기: {a / b:.2f}\")\n",
    "print(f\"나머지: {a % b}\")"
   ]
  },
  {
   "cell_type": "markdown",
   "id": "90772d74",
   "metadata": {
    "lines_to_next_cell": 0
   },
   "source": [
    "### 실습 2: 나이 비교\n",
    "\n",
    "**문제**: 두 사람의 나이를 비교하는 프로그램을 만드세요.\n",
    "\n",
    "**해답**:"
   ]
  },
  {
   "cell_type": "code",
   "execution_count": null,
   "id": "d83577e0",
   "metadata": {},
   "outputs": [],
   "source": [
    "# 나이 비교\n",
    "my_age = 20\n",
    "friend_age = 18\n",
    "\n",
    "print(f\"내 나이: {my_age}\")\n",
    "print(f\"친구 나이: {friend_age}\")\n",
    "print(f\"내가 더 나이가 많음: {my_age > friend_age}\")\n",
    "print(f\"투표 가능한 나이: {my_age >= 18}\")\n",
    "print(f\"친구도 투표 가능: {friend_age >= 18}\")"
   ]
  },
  {
   "cell_type": "markdown",
   "id": "8e308c69",
   "metadata": {
    "lines_to_next_cell": 0
   },
   "source": [
    "### 실습 3: 성적 판정\n",
    "\n",
    "**문제**: 학생의 성적을 판정하는 프로그램을 만드세요.\n",
    "\n",
    "**해답**:"
   ]
  },
  {
   "cell_type": "code",
   "execution_count": null,
   "id": "bd01b6b4",
   "metadata": {},
   "outputs": [],
   "source": [
    "# 성적 판정\n",
    "math_score = 85\n",
    "english_score = 78\n",
    "attendance = 95\n",
    "\n",
    "print(f\"수학: {math_score}, 영어: {english_score}\")\n",
    "print(f\"출석률: {attendance}%\")\n",
    "\n",
    "# 합격 조건: 모든 과목 70점 이상 + 출석률 80% 이상\n",
    "math_pass = math_score >= 70\n",
    "english_pass = english_score >= 70\n",
    "attendance_ok = attendance >= 80\n",
    "\n",
    "total_pass = math_pass and english_pass and attendance_ok\n",
    "print(f\"수학 합격: {math_pass}\")\n",
    "print(f\"영어 합격: {english_pass}\")\n",
    "print(f\"최종 합격: {total_pass}\")"
   ]
  },
  {
   "cell_type": "markdown",
   "id": "c62d477a",
   "metadata": {},
   "source": [
    "---\n",
    "\n",
    "## 📝 퀴즈\n",
    "\n",
    "### 퀴즈 1: 산술 연산 평가\n",
    "\n",
    "**문제**: 다음 표현식의 결과를 단계별로 계산하세요:\n",
    "\n",
    "```\n",
    "10 + 3 * 2\n",
    "```\n",
    "\n",
    "**계산 과정을 보여주세요**:\n",
    "1단계: _______________\n",
    "2단계: _______________\n",
    "최종 결과: _______________\n",
    "\n",
    "### 퀴즈 2: 연산자 의미와 결과\n",
    "\n",
    "**문제**: `x = 10`과 `y = 3`일 때, 결과를 계산하고 각 연산자가 하는 일을 설명하세요:\n",
    "\n",
    "1. `x // y = ?`\n",
    "   - 결과: _______________\n",
    "   - 설명: _______________\n",
    "\n",
    "2. `x % y = ?`\n",
    "   - 결과: _______________\n",
    "   - 설명: _______________\n",
    "\n",
    "3. `x ** y = ?`\n",
    "   - 결과: _______________\n",
    "   - 설명: _______________\n",
    "\n",
    "### 퀴즈 3: 복잡한 논리 표현식\n",
    "\n",
    "**문제**: 다음 논리 표현식을 단계별로 평가하세요:\n",
    "\n",
    "```\n",
    "not(5 > 3 and 2 < 4) or (1 == 1)\n",
    "```\n",
    "\n",
    "**단계별 계산 과정을 보여주세요**:\n",
    "1단계: `5 > 3` 평가 = _______________\n",
    "2단계: `2 < 4` 평가 = _______________\n",
    "3단계: `5 > 3 and 2 < 4` 평가 = _______________\n",
    "4단계: `not(5 > 3 and 2 < 4)` 평가 = _______________\n",
    "5단계: `1 == 1` 평가 = _______________\n",
    "6단계: `not(5 > 3 and 2 < 4) or (1 == 1)` 평가 = _______________\n",
    "\n",
    "최종 결과: _______________\n",
    "\n",
    "---\n",
    "\n",
    "## 📖 참고 자료\n",
    "\n",
    "1. **파이썬 연산자 튜토리얼**: https://www.w3schools.com/python/python_operators.asp\n",
    "   - 모든 파이썬 연산자의 완전한 가이드\n",
    "\n",
    "2. **연산자 우선순위**: https://docs.python.org/ko/3/reference/expressions.html#operator-precedence\n",
    "   - 연산자 우선순위 규칙에 대한 공식 문서\n",
    "\n",
    "3. **파이썬 계산기 튜토리얼**: https://realpython.com/python-operators-expressions/\n",
    "   - 연산자의 고급 개념과 실용적 활용\n",
    "\n",
    "4. **점프 투 파이썬 - 연산자**: https://wikidocs.net/1161\n",
    "   - 한국어로 된 파이썬 연산자 설명\n",
    "\n",
    "---\n",
    "\n",
    "## 💡 성공을 위한 추가 팁\n",
    "\n",
    "### 효과적인 학습 방법\n",
    "- **연산 순서 연습**: PEMDAS 규칙을 일관되게 사용\n",
    "- **논리 표현식 테스트**: 다양한 조합으로 AND, OR, NOT 이해\n",
    "- **괄호 사용**: 확실하지 않을 때는 명확성을 위해 괄호 추가\n",
    "- **실생활 예시**: 실제 계산 문제에 파이썬 사용\n",
    "\n",
    "### 피해야 할 일반적인 실수\n",
    "- **할당과 비교**: 할당에는 `=`, 비교에는 `==` 사용\n",
    "- **정수와 실수 나눗셈**: `/`는 실수, `//`는 정수 결과\n",
    "- **논리 연산자 순서**: AND가 OR보다 먼저 평가됨\n",
    "- **괄호 빠뜨리기**: 복잡한 표현식에서는 괄호로 명확히 하기\n",
    "\n",
    "### 연습 제안\n",
    "- **일일 계산**: 실제 수학 문제에 파이썬 사용\n",
    "- **다양한 접근법 비교**: 복합 할당과 일반 할당 모두 시도\n",
    "- **극단적 경우 테스트**: 음수나 0은 어떻게 될까?\n",
    "- **실제 상황 적용**: 쇼핑, 성적 계산 등에 활용\n",
    "\n",
    "### 디버깅 팁\n",
    "- **단계별 계산**: 복잡한 표현식을 작은 부분으로 나누기\n",
    "- **type() 함수 활용**: 계산 결과의 데이터 타입 확인\n",
    "- **print() 중간 결과**: 계산 과정 중간에 결과 출력하여 확인\n",
    "\n",
    "---\n",
    "\n",
    "## 📋 숙제\n",
    "\n",
    "1. **연습**: 3개 실습을 모두 완료하고 다양한 값으로 실험하기\n",
    "2. **창작**: 본인 과목을 위한 간단한 성적 계산기 만들기\n",
    "3. **탐구**: 복잡한 표현식에서 다양한 연산자 조합 시도하기\n",
    "4. **응용**: 쇼핑몰 가격 계산 프로그램 만들기 (할인, 세금 포함)\n",
    "5. **실험**: 연산자 우선순위를 확인하는 다양한 예시 만들기\n",
    "\n",
    "**파이썬으로 계산의 기술을 마스터하세요!** 🧮"
   ]
  }
 ],
 "metadata": {
  "jupytext": {
   "cell_metadata_filter": "-all",
   "main_language": "python",
   "notebook_metadata_filter": "-all"
  }
 },
 "nbformat": 4,
 "nbformat_minor": 5
}
