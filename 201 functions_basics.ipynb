{
 "cells": [
  {
   "cell_type": "markdown",
   "id": "38a705c1",
   "metadata": {},
   "source": [
    "# 함수 기초 (Functions Basics)\n",
    "\n",
    "**수업 시간**: 3시간  \n",
    "**구성**: 강의 및 실습 2시간 + 퀴즈 1시간  \n",
    "**수준**: 초급에서 중급으로  \n",
    "**선수 학습**: 변수, 데이터 타입, 연산자, 입출력, 조건문, 반복문, 리스트, 딕셔너리\n",
    "\n",
    "---\n",
    "\n",
    "## 🎯 학습 목표\n",
    "\n",
    "이 수업을 마친 후 학생들은 다음을 할 수 있습니다:\n",
    "\n",
    "- 함수(Function)가 무엇이고 왜 유용한지 이해하기\n",
    "- def 키워드를 사용하여 함수 정의하기\n",
    "- 매개변수(Parameter)와 인수(Argument)가 있는 함수 생성하기\n",
    "- 반환값(Return Value)을 사용하여 함수에서 결과 얻기\n",
    "- 일반적인 문제를 해결하기 위한 재사용 가능한 코드 작성하기\n",
    "\n",
    "---\n",
    "\n",
    "## 🏗️ 1. 함수란 무엇인가?\n",
    "\n",
    "### 정의\n",
    "\n",
    "**함수(Function)**는 특정 작업을 수행하는 조직화되고 재사용 가능한 코드 블록입니다. 메인 프로그램 안의 **미니 프로그램**이라고 생각해보세요.\n",
    "\n",
    "### 실생활 비유\n",
    "\n",
    "함수는 **주방 기구**와 같습니다:\n",
    "\n",
    "```\n",
    "믹서기(Blender):\n",
    "- 입력(Input): 과일과 우유\n",
    "- 처리(Process): 재료 혼합\n",
    "- 출력(Output): 스무디\n",
    "\n",
    "함수(Function):\n",
    "- 입력(Input): 매개변수(Parameters)\n",
    "- 처리(Process): 코드 실행\n",
    "- 출력(Output): 반환값(Return Value)\n",
    "```\n",
    "\n",
    "### 왜 함수를 사용하나요?\n",
    "\n",
    "#### 1. **코드 재사용성 (Code Reusability)**\n",
    "같은 코드를 여러 번 작성하는 대신, 함수에 한 번만 작성하세요:"
   ]
  },
  {
   "cell_type": "code",
   "execution_count": null,
   "id": "2c5eb7ca",
   "metadata": {},
   "outputs": [],
   "source": [
    "# 함수 없이 - 반복적인 코드\n",
    "print(\"안녕하세요, 김철수님!\")\n",
    "print(\"안녕하세요, 이영희님!\")\n",
    "print(\"안녕하세요, 박민수님!\")\n",
    "\n",
    "# 함수 사용 - 재사용 가능한 코드\n",
    "def greet_user(name):\n",
    "    print(f\"안녕하세요, {name}님!\")\n",
    "\n",
    "greet_user(\"김철수\")\n",
    "greet_user(\"이영희\")\n",
    "greet_user(\"박민수\")"
   ]
  },
  {
   "cell_type": "markdown",
   "id": "95b22823",
   "metadata": {},
   "source": [
    "#### 2. **코드 구성 (Code Organization)**\n",
    "함수는 코드를 논리적인 조각으로 구성하는 데 도움이 됩니다:"
   ]
  },
  {
   "cell_type": "code",
   "execution_count": null,
   "id": "21c00291",
   "metadata": {},
   "outputs": [],
   "source": [
    "def calculate_area(length, width):\n",
    "    return length * width\n",
    "\n",
    "def calculate_perimeter(length, width):\n",
    "    return 2 * (length + width)\n",
    "\n",
    "def display_rectangle_info(length, width):\n",
    "    area = calculate_area(length, width)\n",
    "    perimeter = calculate_perimeter(length, width)\n",
    "    print(f\"넓이: {area}\")\n",
    "    print(f\"둘레: {perimeter}\")"
   ]
  },
  {
   "cell_type": "markdown",
   "id": "720792d1",
   "metadata": {},
   "source": [
    "#### 3. **쉬운 테스트와 디버깅 (Testing and Debugging)**\n",
    "각 함수를 개별적으로 테스트할 수 있습니다:"
   ]
  },
  {
   "cell_type": "code",
   "execution_count": null,
   "id": "848a5c8f",
   "metadata": {},
   "outputs": [],
   "source": [
    "def add_numbers(a, b):\n",
    "    return a + b\n",
    "\n",
    "# 함수 테스트\n",
    "result = add_numbers(5, 3)\n",
    "print(result)  # 8이 출력되어야 함"
   ]
  },
  {
   "cell_type": "markdown",
   "id": "09e5fa9c",
   "metadata": {},
   "source": [
    "---\n",
    "\n",
    "## 📝 2. 함수 정의\n",
    "\n",
    "### 기본 문법 (Basic Syntax)"
   ]
  },
  {
   "cell_type": "code",
   "execution_count": null,
   "id": "b380a56b",
   "metadata": {},
   "outputs": [],
   "source": [
    "def function_name():\n",
    "    \"\"\"선택적 문서 문자열 (Optional docstring)\"\"\"\n",
    "    # 함수 본문 (Function body)\n",
    "    # 실행할 코드 (Code to execute)"
   ]
  },
  {
   "cell_type": "markdown",
   "id": "9b1d6a09",
   "metadata": {
    "lines_to_next_cell": 0
   },
   "source": [
    "### 주요 구성 요소 (Key Components)\n",
    "\n",
    "1. **`def` 키워드**: 파이썬에게 함수를 정의한다고 알림\n",
    "2. **함수 이름**: 함수를 호출할 때 사용하는 이름\n",
    "3. **괄호 ()**: 매개변수를 담음\n",
    "4. **콜론 (:)**: 함수 본문의 시작을 나타냄\n",
    "5. **들여쓰기**: 모든 함수 코드는 들여쓰기되어야 함\n",
    "\n",
    "### 간단한 함수 예시\n",
    "\n",
    "#### 예시 1: 매개변수가 없는 함수"
   ]
  },
  {
   "cell_type": "code",
   "execution_count": null,
   "id": "40d071a8",
   "metadata": {},
   "outputs": [],
   "source": [
    "def say_hello():\n",
    "    print(\"안녕하세요, 세상!\")\n",
    "    print(\"만나서 반갑습니다!\")\n",
    "\n",
    "# 함수 호출\n",
    "say_hello()"
   ]
  },
  {
   "cell_type": "markdown",
   "id": "d2f56734",
   "metadata": {
    "lines_to_next_cell": 0
   },
   "source": [
    "#### 예시 2: 계산을 하는 함수"
   ]
  },
  {
   "cell_type": "code",
   "execution_count": null,
   "id": "504bdba1",
   "metadata": {},
   "outputs": [],
   "source": [
    "def show_current_time():\n",
    "    import datetime\n",
    "    now = datetime.datetime.now()\n",
    "    print(f\"현재 시간: {now.strftime('%H:%M:%S')}\")\n",
    "\n",
    "show_current_time()"
   ]
  },
  {
   "cell_type": "markdown",
   "id": "e66a3745",
   "metadata": {
    "lines_to_next_cell": 0
   },
   "source": [
    "#### 예시 3: 여러 함수 호출"
   ]
  },
  {
   "cell_type": "code",
   "execution_count": null,
   "id": "690ef806",
   "metadata": {},
   "outputs": [],
   "source": [
    "def print_separator():\n",
    "    print(\"-\" * 30)\n",
    "\n",
    "print(\"프로그램 시작\")\n",
    "print_separator()\n",
    "print(\"데이터 처리 중\")\n",
    "print_separator()\n",
    "print(\"프로그램 완료\")"
   ]
  },
  {
   "cell_type": "markdown",
   "id": "464d8da9",
   "metadata": {},
   "source": [
    "---\n",
    "\n",
    "## 🔧 3. 매개변수와 인수 (Parameters and Arguments)\n",
    "\n",
    "### 차이점 이해하기\n",
    "\n",
    "- **매개변수(Parameters)**: 함수 정의에서 정의된 변수\n",
    "- **인수(Arguments)**: 함수 호출 시 전달되는 실제 값"
   ]
  },
  {
   "cell_type": "code",
   "execution_count": null,
   "id": "7ff3aa54",
   "metadata": {},
   "outputs": [],
   "source": [
    "def greet_person(name):    # 'name'은 매개변수\n",
    "    print(f\"안녕하세요, {name}님!\")\n",
    "\n",
    "greet_person(\"김철수\")      # \"김철수\"는 인수"
   ]
  },
  {
   "cell_type": "markdown",
   "id": "da9885cf",
   "metadata": {
    "lines_to_next_cell": 0
   },
   "source": [
    "### 매개변수가 있는 함수\n",
    "\n",
    "#### 단일 매개변수"
   ]
  },
  {
   "cell_type": "code",
   "execution_count": null,
   "id": "7300106a",
   "metadata": {},
   "outputs": [],
   "source": [
    "def square_number(num):\n",
    "    result = num * num\n",
    "    print(f\"{num}의 제곱은 {result}입니다\")\n",
    "\n",
    "square_number(5)    # 출력: 5의 제곱은 25입니다\n",
    "square_number(10)   # 출력: 10의 제곱은 100입니다"
   ]
  },
  {
   "cell_type": "markdown",
   "id": "73d5e2e4",
   "metadata": {
    "lines_to_next_cell": 0
   },
   "source": [
    "#### 다중 매개변수"
   ]
  },
  {
   "cell_type": "code",
   "execution_count": null,
   "id": "ba251db5",
   "metadata": {},
   "outputs": [],
   "source": [
    "def calculate_rectangle_area(length, width):\n",
    "    area = length * width\n",
    "    print(f\"직사각형 넓이: {area}\")\n",
    "\n",
    "calculate_rectangle_area(5, 3)    # 출력: 직사각형 넓이: 15\n",
    "calculate_rectangle_area(10, 7)   # 출력: 직사각형 넓이: 70"
   ]
  },
  {
   "cell_type": "markdown",
   "id": "078e302a",
   "metadata": {
    "lines_to_next_cell": 0
   },
   "source": [
    "#### 다양한 데이터 타입의 매개변수"
   ]
  },
  {
   "cell_type": "code",
   "execution_count": null,
   "id": "9ece9561",
   "metadata": {},
   "outputs": [],
   "source": [
    "def introduce_student(name, age, grade, is_honor_student):\n",
    "    print(f\"학생: {name}\")\n",
    "    print(f\"나이: {age}\")\n",
    "    print(f\"성적: {grade}\")\n",
    "    if is_honor_student:\n",
    "        print(\"구분: 우수 학생\")\n",
    "    else:\n",
    "        print(\"구분: 일반 학생\")\n",
    "\n",
    "introduce_student(\"김민지\", 18, 95, True)"
   ]
  },
  {
   "cell_type": "markdown",
   "id": "3a61c08c",
   "metadata": {},
   "source": [
    "### 기본 매개변수 (Default Parameters)\n",
    "매개변수에 기본값을 제공할 수 있습니다:"
   ]
  },
  {
   "cell_type": "code",
   "execution_count": null,
   "id": "b7020436",
   "metadata": {},
   "outputs": [],
   "source": [
    "def greet_with_title(name, title=\"씨\"):\n",
    "    print(f\"안녕하세요, {name} {title}!\")\n",
    "\n",
    "greet_with_title(\"김철수\")          # 기본 호칭 사용\n",
    "greet_with_title(\"이영희\", \"선생님\")  # 제공된 호칭 사용"
   ]
  },
  {
   "cell_type": "markdown",
   "id": "b8400796",
   "metadata": {},
   "source": [
    "---\n",
    "\n",
    "## 🔄 4. 반환값 (Return Values)\n",
    "\n",
    "### 반환값이란?\n",
    "\n",
    "**반환값(Return Value)**은 함수가 그것을 호출한 코드에게 돌려주는 결과입니다. 함수의 **출력**과 같습니다.\n",
    "\n",
    "### return 문 사용하기"
   ]
  },
  {
   "cell_type": "code",
   "execution_count": null,
   "id": "7af9791e",
   "metadata": {},
   "outputs": [],
   "source": [
    "def add_numbers(a, b):\n",
    "    total = a + b\n",
    "    return total\n",
    "\n",
    "# 함수가 반환한 값을 사용할 수 있음\n",
    "result = add_numbers(5, 3)\n",
    "print(f\"5 + 3 = {result}\")  # 출력: 5 + 3 = 8\n",
    "\n",
    "# 반환값을 직접 사용할 수도 있음\n",
    "print(f\"합의 두 배: {add_numbers(4, 6) * 2}\")"
   ]
  },
  {
   "cell_type": "markdown",
   "id": "0d1edce1",
   "metadata": {},
   "source": [
    "### return이 없는 함수\n",
    "\n",
    "함수에 return 문이 없으면 `None`을 반환합니다:"
   ]
  },
  {
   "cell_type": "code",
   "execution_count": null,
   "id": "6d2bf7c3",
   "metadata": {},
   "outputs": [],
   "source": [
    "def just_print(message):\n",
    "    print(f\"메시지: {message}\")\n",
    "\n",
    "result = just_print(\"안녕하세요\")\n",
    "print(result)  # 출력: None"
   ]
  },
  {
   "cell_type": "markdown",
   "id": "24f3e48d",
   "metadata": {},
   "source": [
    "### return vs print 비교\n",
    "\n",
    "차이점을 이해하는 것이 중요합니다:"
   ]
  },
  {
   "cell_type": "code",
   "execution_count": null,
   "id": "a1896864",
   "metadata": {},
   "outputs": [],
   "source": [
    "# 출력하는 함수\n",
    "def print_sum(a, b):\n",
    "    print(a + b)\n",
    "\n",
    "# 반환하는 함수\n",
    "def calculate_sum(a, b):\n",
    "    return a + b\n",
    "\n",
    "# 사용 예시\n",
    "print_sum(3, 4)           # 출력: 7 (하지만 None을 반환)\n",
    "result = calculate_sum(3, 4)  # 반환: 7 (이 값을 사용할 수 있음)\n",
    "print(result)             # 출력: 7\n",
    "\n",
    "# 반환값은 계산에 사용할 수 있음\n",
    "total = calculate_sum(5, 10) + calculate_sum(2, 3)\n",
    "print(total)              # 출력: 20"
   ]
  },
  {
   "cell_type": "markdown",
   "id": "e09dd235",
   "metadata": {},
   "source": [
    "### 다중 반환값\n",
    "\n",
    "함수는 튜플을 사용하여 여러 값을 반환할 수 있습니다:"
   ]
  },
  {
   "cell_type": "code",
   "execution_count": null,
   "id": "b538cf6c",
   "metadata": {},
   "outputs": [],
   "source": [
    "def calculate_circle_properties(radius):\n",
    "    pi = 3.14159\n",
    "    area = pi * radius * radius\n",
    "    circumference = 2 * pi * radius\n",
    "    return area, circumference\n",
    "\n",
    "# 반환된 값들을 개별 변수에 할당\n",
    "area, circumference = calculate_circle_properties(5)\n",
    "print(f\"넓이: {area:.2f}\")\n",
    "print(f\"둘레: {circumference:.2f}\")"
   ]
  },
  {
   "cell_type": "markdown",
   "id": "b599ad58",
   "metadata": {},
   "source": [
    "### 조건부 반환\n",
    "\n",
    "함수는 조건에 따라 다른 값을 반환할 수 있습니다:"
   ]
  },
  {
   "cell_type": "code",
   "execution_count": null,
   "id": "230da73c",
   "metadata": {},
   "outputs": [],
   "source": [
    "def check_grade(score):\n",
    "    if score >= 90:\n",
    "        return \"A\"\n",
    "    elif score >= 80:\n",
    "        return \"B\"\n",
    "    elif score >= 70:\n",
    "        return \"C\"\n",
    "    elif score >= 60:\n",
    "        return \"D\"\n",
    "    else:\n",
    "        return \"F\"\n",
    "\n",
    "student_grade = check_grade(85)\n",
    "print(f\"등급: {student_grade}\")  # 출력: 등급: B"
   ]
  },
  {
   "cell_type": "markdown",
   "id": "9f3b7bea",
   "metadata": {
    "lines_to_next_cell": 0
   },
   "source": [
    "---\n",
    "\n",
    "## 🔧 실습 문제\n",
    "\n",
    "### 실습 1: 기본 계산 함수\n",
    "\n",
    "**문제**: 일반적인 수학 연산을 수행하는 간단한 계산 함수를 만드세요.\n",
    "\n",
    "**요구사항**:\n",
    "- 기본 수학 연산을 위한 함수 생성\n",
    "- 다양한 매개변수 개수를 가진 함수 포함\n",
    "- 샘플 입력으로 각 함수 테스트\n",
    "\n",
    "**정답**:"
   ]
  },
  {
   "cell_type": "code",
   "execution_count": null,
   "id": "b327febc",
   "metadata": {},
   "outputs": [],
   "source": [
    "# 기본 계산 함수들\n",
    "\n",
    "def add_numbers(a, b):\n",
    "    \"\"\"두 숫자를 더하고 결과를 반환\"\"\"\n",
    "    return a + b\n",
    "\n",
    "def calculate_average(num1, num2, num3):\n",
    "    \"\"\"세 숫자의 평균을 계산\"\"\"\n",
    "    total = num1 + num2 + num3\n",
    "    average = total / 3\n",
    "    return average\n",
    "\n",
    "def convert_temperature(celsius):\n",
    "    \"\"\"섭씨를 화씨로 변환\"\"\"\n",
    "    fahrenheit = (celsius * 9/5) + 32\n",
    "    return fahrenheit\n",
    "\n",
    "def calculate_area(length, width):\n",
    "    \"\"\"직사각형 넓이 계산\"\"\"\n",
    "    area = length * width\n",
    "    return area\n",
    "\n",
    "def is_positive(number):\n",
    "    \"\"\"숫자가 양수인지 확인\"\"\"\n",
    "    return number > 0\n",
    "\n",
    "# 함수 테스트\n",
    "print(\"=== 계산 함수 테스트 ===\")\n",
    "\n",
    "# 덧셈 테스트\n",
    "result1 = add_numbers(15, 25)\n",
    "print(f\"15 + 25 = {result1}\")\n",
    "\n",
    "# 평균 테스트\n",
    "result2 = calculate_average(80, 90, 85)\n",
    "print(f\"80, 90, 85의 평균 = {result2}\")\n",
    "\n",
    "# 온도 변환 테스트\n",
    "result3 = convert_temperature(25)\n",
    "print(f\"25°C = {result3}°F\")\n",
    "\n",
    "# 넓이 계산 테스트\n",
    "result4 = calculate_area(5, 8)\n",
    "print(f\"5x8 직사각형 넓이 = {result4}\")\n",
    "\n",
    "# 양수 확인 테스트\n",
    "result5 = is_positive(-3)\n",
    "print(f\"-3이 양수인가? {result5}\")\n",
    "\n",
    "print(\"=== 테스트 완료 ===\")"
   ]
  },
  {
   "cell_type": "markdown",
   "id": "6acee858",
   "metadata": {
    "lines_to_next_cell": 0
   },
   "source": [
    "### 실습 2: 간단한 인사말 함수\n",
    "\n",
    "**문제**: 다양한 상황과 시간에 따라 인사말을 생성하는 함수를 만드세요.\n",
    "\n",
    "**요구사항**:\n",
    "- 기본 인사말 함수 생성\n",
    "- 이름이 포함된 개인화된 인사말\n",
    "- 시간 기반 인사말 추가\n",
    "\n",
    "**정답**:"
   ]
  },
  {
   "cell_type": "code",
   "execution_count": null,
   "id": "df7080c2",
   "metadata": {},
   "outputs": [],
   "source": [
    "# 간단한 인사말 함수들\n",
    "\n",
    "def say_hello(name):\n",
    "    \"\"\"간단한 안녕 인사 생성\"\"\"\n",
    "    return f\"안녕하세요, {name}님! 만나서 반갑습니다!\"\n",
    "\n",
    "def time_greeting(hour):\n",
    "    \"\"\"시간(0-23)에 기반한 인사말 생성\"\"\"\n",
    "    if hour < 12:\n",
    "        return \"좋은 아침입니다!\"\n",
    "    elif hour < 18:\n",
    "        return \"좋은 오후입니다!\"\n",
    "    else:\n",
    "        return \"좋은 저녁입니다!\"\n",
    "\n",
    "def birthday_greeting(name, age):\n",
    "    \"\"\"생일 축하 인사 생성\"\"\"\n",
    "    return f\"생일 축하합니다, {name}님! 이제 {age}세가 되셨네요!\"\n",
    "\n",
    "def farewell_message(name):\n",
    "    \"\"\"작별 인사 생성\"\"\"\n",
    "    return f\"안녕히 가세요, {name}님! 좋은 하루 보내세요!\"\n",
    "\n",
    "# 인사말 함수 테스트\n",
    "print(\"=== 인사말 함수 테스트 ===\")\n",
    "\n",
    "# 기본 인사 테스트\n",
    "greeting1 = say_hello(\"김철수\")\n",
    "print(greeting1)\n",
    "\n",
    "# 시간별 인사 테스트\n",
    "greeting2 = time_greeting(9)   # 아침\n",
    "print(f\"오전 9시: {greeting2}\")\n",
    "\n",
    "greeting3 = time_greeting(15)  # 오후  \n",
    "print(f\"오후 3시: {greeting3}\")\n",
    "\n",
    "greeting4 = time_greeting(20)  # 저녁\n",
    "print(f\"오후 8시: {greeting4}\")\n",
    "\n",
    "# 생일 인사 테스트\n",
    "greeting5 = birthday_greeting(\"이영희\", 25)\n",
    "print(greeting5)\n",
    "\n",
    "# 작별 인사 테스트\n",
    "greeting6 = farewell_message(\"박민수\")\n",
    "print(greeting6)\n",
    "\n",
    "print(\"=== 인사말 테스트 완료 ===\")"
   ]
  },
  {
   "cell_type": "markdown",
   "id": "9885d3c9",
   "metadata": {
    "lines_to_next_cell": 0
   },
   "source": [
    "### 실습 3: 간단한 패스워드 함수\n",
    "\n",
    "**문제**: 패스워드를 생성하고 확인하는 기본 함수를 만드세요.\n",
    "\n",
    "**요구사항**:\n",
    "- 간단한 패스워드 생성\n",
    "- 패스워드 강도 확인\n",
    "- 기억하기 쉬운 패스워드 생성\n",
    "\n",
    "**정답**:"
   ]
  },
  {
   "cell_type": "code",
   "execution_count": null,
   "id": "ffd2debb",
   "metadata": {},
   "outputs": [],
   "source": [
    "# 간단한 패스워드 함수들\n",
    "import random\n",
    "\n",
    "def generate_simple_password(length):\n",
    "    \"\"\"문자와 숫자로 간단한 패스워드 생성\"\"\"\n",
    "    characters = \"abcdefghijklmnopqrstuvwxyzABCDEFGHIJKLMNOPQRSTUVWXYZ0123456789\"\n",
    "    password = \"\"\n",
    "    \n",
    "    for i in range(length):\n",
    "        password += random.choice(characters)\n",
    "    \n",
    "    return password\n",
    "\n",
    "def check_password_length(password):\n",
    "    \"\"\"패스워드가 최소 길이 요구사항을 만족하는지 확인\"\"\"\n",
    "    if len(password) >= 8:\n",
    "        return \"강한 길이\"\n",
    "    elif len(password) >= 6:\n",
    "        return \"보통 길이\"\n",
    "    else:\n",
    "        return \"약한 길이\"\n",
    "\n",
    "def has_numbers(password):\n",
    "    \"\"\"패스워드에 숫자가 포함되어 있는지 확인\"\"\"\n",
    "    for char in password:\n",
    "        if char.isdigit():\n",
    "            return True\n",
    "    return False\n",
    "\n",
    "def create_memorable_password(word, number):\n",
    "    \"\"\"단어와 숫자로 기억하기 쉬운 패스워드 생성\"\"\"\n",
    "    return word.capitalize() + str(number) + \"!\"\n",
    "\n",
    "# 패스워드 함수 테스트\n",
    "print(\"=== 패스워드 함수 테스트 ===\")\n",
    "\n",
    "# 간단한 패스워드 생성 테스트\n",
    "password1 = generate_simple_password(8)\n",
    "print(f\"8자리 생성된 패스워드: {password1}\")\n",
    "\n",
    "password2 = generate_simple_password(12)\n",
    "print(f\"12자리 생성된 패스워드: {password2}\")\n",
    "\n",
    "# 패스워드 길이 확인 테스트\n",
    "length_check1 = check_password_length(\"abc123\")\n",
    "print(f\"'abc123' 패스워드 길이: {length_check1}\")\n",
    "\n",
    "length_check2 = check_password_length(\"mypassword123\")\n",
    "print(f\"'mypassword123' 패스워드 길이: {length_check2}\")\n",
    "\n",
    "# 숫자 확인 테스트\n",
    "has_nums1 = has_numbers(\"hello\")\n",
    "print(f\"'hello'에 숫자 포함: {has_nums1}\")\n",
    "\n",
    "has_nums2 = has_numbers(\"hello123\")\n",
    "print(f\"'hello123'에 숫자 포함: {has_nums2}\")\n",
    "\n",
    "# 기억하기 쉬운 패스워드 테스트\n",
    "memorable = create_memorable_password(\"sunshine\", 2024)\n",
    "print(f\"기억하기 쉬운 패스워드: {memorable}\")\n",
    "\n",
    "print(\"=== 패스워드 테스트 완료 ===\")"
   ]
  },
  {
   "cell_type": "markdown",
   "id": "a3b22a00",
   "metadata": {
    "lines_to_next_cell": 0
   },
   "source": [
    "---\n",
    "\n",
    "## 📝 퀴즈\n",
    "\n",
    "### 퀴즈 1: 함수 정의 및 기본 사용법\n",
    "\n",
    "**문제**: `calculate_tax`라는 함수를 작성하세요. 이 함수는 두 개의 매개변수를 받습니다: `income` (연간 소득)과 `tax_rate` (백분율). 함수는 세금 금액을 계산하고 반환해야 합니다. 그런 다음 소득 5,000만원과 세율 15%로 함수를 테스트하는 코드를 작성하세요.\n",
    "\n",
    "추가로, 같은 매개변수를 받지만 소득, 세율, 세금 금액, 순소득(소득 - 세금)을 보여주는 형식화된 메시지를 출력하는 `display_tax_info` 함수를 만드세요.\n",
    "\n",
    "**답안 작성 공간**:"
   ]
  },
  {
   "cell_type": "code",
   "execution_count": null,
   "id": "297e76fa",
   "metadata": {},
   "outputs": [],
   "source": [
    "# 여기에 코드를 작성하세요"
   ]
  },
  {
   "cell_type": "markdown",
   "id": "8a5787b4",
   "metadata": {
    "lines_to_next_cell": 0
   },
   "source": [
    "### 퀴즈 2: 다중 매개변수와 반환값을 가진 함수\n",
    "\n",
    "**문제**: 세 개의 시험 점수를 매개변수로 받는 `analyze_student_grades` 함수를 만드세요. 이 함수는 다음을 수행해야 합니다:\n",
    "\n",
    "1. 세 점수의 평균 계산\n",
    "2. 평균을 기반으로 문자 등급 결정\n",
    "   - 90-100: \"A\"\n",
    "   - 80-89: \"B\" \n",
    "   - 70-79: \"C\"\n",
    "   - 60-69: \"D\"\n",
    "   - 60점 미만: \"F\"\n",
    "3. 평균과 문자 등급 모두 반환\n",
    "\n",
    "점수 85, 92, 78로 함수를 호출하고 사용자 친화적인 형식으로 결과를 출력하는 테스트 코드를 작성하세요.\n",
    "\n",
    "**답안 작성 공간**:"
   ]
  },
  {
   "cell_type": "code",
   "execution_count": null,
   "id": "cda49043",
   "metadata": {},
   "outputs": [],
   "source": [
    "# 여기에 코드를 작성하세요"
   ]
  },
  {
   "cell_type": "markdown",
   "id": "0f24dc97",
   "metadata": {
    "lines_to_next_cell": 0
   },
   "source": [
    "### 퀴즈 3: 실용적인 함수 응용\n",
    "\n",
    "**문제**: 함수를 사용하여 미니 계산기를 만드세요. 프로그램에는 다음이 포함되어야 합니다:\n",
    "\n",
    "1. 각 연산을 위한 별도 함수: `add`, `subtract`, `multiply`, `divide`\n",
    "2. 사용자에게 두 숫자와 연산을 요청하고 이 값들을 반환하는 `get_user_input` 함수\n",
    "3. 숫자와 연산을 받아 적절한 계산 함수를 호출하고 결과를 반환하는 `perform_calculation` 함수\n",
    "4. 이러한 함수들을 사용하여 작동하는 계산기를 만드는 메인 프로그램\n",
    "\n",
    "나누기 함수에서 0으로 나누기를 적절히 처리하세요.\n",
    "\n",
    "**답안 작성 공간**:"
   ]
  },
  {
   "cell_type": "code",
   "execution_count": null,
   "id": "43a64006",
   "metadata": {},
   "outputs": [],
   "source": [
    "# 여기에 코드를 작성하세요"
   ]
  },
  {
   "cell_type": "markdown",
   "id": "156c4818",
   "metadata": {
    "lines_to_next_cell": 0
   },
   "source": [
    "---\n",
    "\n",
    "## 📖 참고 자료\n",
    "\n",
    "1. **파이썬 함수 공식 문서**: https://docs.python.org/ko/3/tutorial/controlflow.html#defining-functions\n",
    "   - 함수 정의와 사용에 대한 공식 파이썬 문서\n",
    "\n",
    "2. **Real Python - 파이썬 함수**: https://realpython.com/defining-your-own-python-function/\n",
    "   - 함수 생성 및 사용에 대한 종합 튜토리얼\n",
    "\n",
    "3. **W3Schools 파이썬 함수**: https://www.w3schools.com/python/python_functions.asp\n",
    "   - 함수 학습을 위한 대화형 예제와 연습\n",
    "\n",
    "4. **점프 투 파이썬 - 함수**: https://wikidocs.net/24\n",
    "   - 한국어로 된 파이썬 함수 설명\n",
    "\n",
    "5. **코딩 도장 - 파이썬 함수**: https://dojang.io/mod/page/view.php?id=2359\n",
    "   - 파이썬 함수 상세 설명과 예제\n",
    "\n",
    "---\n",
    "\n",
    "## 💡 성공을 위한 추가 팁\n",
    "\n",
    "### 함수 작성 모범 사례\n",
    "\n",
    "#### 1. 설명적인 함수 이름 사용"
   ]
  },
  {
   "cell_type": "code",
   "execution_count": null,
   "id": "003583bb",
   "metadata": {},
   "outputs": [],
   "source": [
    "# 좋은 예시\n",
    "def calculate_area(length, width):\n",
    "def check_password_strength(password):\n",
    "def convert_temperature(temp, from_unit, to_unit):\n",
    "\n",
    "# 나쁜 예시  \n",
    "def calc(a, b):\n",
    "def check(x):\n",
    "def convert(t, f, t):"
   ]
  },
  {
   "cell_type": "markdown",
   "id": "e918dff9",
   "metadata": {},
   "source": [
    "#### 2. 함수를 집중적으로 유지\n",
    "각 함수는 한 가지 일을 잘해야 합니다:"
   ]
  },
  {
   "cell_type": "code",
   "execution_count": null,
   "id": "4b475533",
   "metadata": {},
   "outputs": [],
   "source": [
    "# 좋은 예시 - 집중된 함수\n",
    "def calculate_circle_area(radius):\n",
    "    return 3.14159 * radius * radius\n",
    "\n",
    "# 나쁜 예시 - 너무 많은 일을 하는 함수\n",
    "def circle_operations(radius):\n",
    "    area = 3.14159 * radius * radius\n",
    "    circumference = 2 * 3.14159 * radius\n",
    "    print(f\"넓이: {area}\")\n",
    "    print(f\"둘레: {circumference}\")\n",
    "    return area, circumference"
   ]
  },
  {
   "cell_type": "markdown",
   "id": "33a1cdaa",
   "metadata": {
    "lines_to_next_cell": 0
   },
   "source": [
    "#### 3. 기본 매개변수를 현명하게 사용"
   ]
  },
  {
   "cell_type": "code",
   "execution_count": null,
   "id": "7c6ab21d",
   "metadata": {},
   "outputs": [],
   "source": [
    "def greet_user(name, greeting=\"안녕하세요\", punctuation=\"!\"):\n",
    "    return f\"{greeting}, {name}{punctuation}\"\n",
    "\n",
    "# 유연한 사용법\n",
    "print(greet_user(\"김철수\"))                      # 안녕하세요, 김철수!\n",
    "print(greet_user(\"이영희\", \"안녕\"))               # 안녕, 이영희!\n",
    "print(greet_user(\"박민수\", \"반갑습니다\", \".\"))     # 반갑습니다, 박민수."
   ]
  },
  {
   "cell_type": "markdown",
   "id": "d1878330",
   "metadata": {},
   "source": [
    "### 피해야 할 일반적인 함수 실수\n",
    "\n",
    "1. **값 반환 잊기**: return 문을 빼먹는 경우\n",
    "2. **매개변수 대신 전역 변수 사용**: 함수의 독립성을 해치는 경우\n",
    "3. **함수를 너무 복잡하게 만들기**: 한 함수에서 너무 많은 일을 하려는 경우\n",
    "4. **함수를 개별적으로 테스트하지 않기**: 각 함수가 올바르게 작동하는지 확인하지 않는 경우\n",
    "\n",
    "### 함수 디버깅\n",
    "\n",
    "함수 실행을 추적하기 위해 print 문을 사용하세요:"
   ]
  },
  {
   "cell_type": "code",
   "execution_count": null,
   "id": "33eaa2a5",
   "metadata": {},
   "outputs": [],
   "source": [
    "def debug_example(x, y):\n",
    "    print(f\"함수가 x={x}, y={y}로 호출됨\")  # 디버그 라인\n",
    "    result = x * y + 10\n",
    "    print(f\"계산된 결과: {result}\")         # 디버그 라인\n",
    "    return result"
   ]
  },
  {
   "cell_type": "markdown",
   "id": "a4cb2af2",
   "metadata": {},
   "source": [
    "### 실무 활용 팁\n",
    "\n",
    "- **문서화**: 복잡한 함수에는 docstring으로 설명 추가\n",
    "- **테스트**: 다양한 입력값으로 함수의 동작 확인\n",
    "- **모듈화**: 관련된 함수들을 그룹으로 묶어서 관리\n",
    "- **재사용성**: 다른 프로젝트에서도 사용할 수 있도록 범용적으로 설계\n",
    "\n",
    "---\n",
    "\n",
    "## 📋 숙제\n",
    "\n",
    "1. **연습**: 3개 실습을 모두 완료하고 수정 사항 실험해보기\n",
    "2. **생성**: 키와 몸무게가 주어졌을 때 체질량지수(BMI)를 계산하는 함수 작성하기\n",
    "3. **실험**: 다양한 개수의 매개변수를 가진 함수 만들어보기\n",
    "4. **도전**: 각 메뉴 옵션에 함수를 사용하는 간단한 텍스트 기반 메뉴 시스템 만들기\n",
    "\n",
    "### 추가 연습 문제\n",
    "\n",
    "1. **영남이공대학교 학점 계산기**: 과목별 학점과 성적을 입력받아 평점을 계산하는 함수들 작성\n",
    "2. **간단한 단위 변환기**: 길이, 무게, 온도 등을 변환하는 함수들 모음 만들기\n",
    "3. **텍스트 처리 함수**: 문자열을 받아 단어 수, 문자 수, 대문자/소문자 변환 등을 수행하는 함수들\n",
    "\n",
    "**파이썬 2에 오신 것을 환영합니다! 함수는 코드를 더 체계적이고 강력하게 만들어줄 것입니다!** 🚀"
   ]
  }
 ],
 "metadata": {
  "jupytext": {
   "cell_metadata_filter": "-all",
   "main_language": "python",
   "notebook_metadata_filter": "-all"
  }
 },
 "nbformat": 4,
 "nbformat_minor": 5
}
