{
 "cells": [
  {
   "cell_type": "markdown",
   "id": "fcd9c711",
   "metadata": {
    "lines_to_next_cell": 0
   },
   "source": [
    "# 파이썬 고급 함수 - 연습문제\n",
    "\n",
    "---\n",
    "\n",
    "## 📝 1부. 객관식\n",
    "\n",
    "### 1번\n",
    "기본 매개변수를 올바르게 사용한 함수 정의는?\n",
    "\n",
    "1) `def greet(greeting=\"안녕\", name):`\n",
    "2) `def greet(name, greeting=\"안녕\"):`\n",
    "3) `def greet(name=\"김철수\", greeting):`\n",
    "4) `def greet(=\"안녕\", name):`\n",
    "\n",
    "### 2번\n",
    "다음 함수 호출의 결과는?"
   ]
  },
  {
   "cell_type": "code",
   "execution_count": null,
   "id": "0b26288e",
   "metadata": {},
   "outputs": [],
   "source": [
    "def calculate(a, b=5, c=10):\n",
    "    return a + b + c\n",
    "\n",
    "result = calculate(3)"
   ]
  },
  {
   "cell_type": "markdown",
   "id": "89bf6b6d",
   "metadata": {
    "lines_to_next_cell": 0
   },
   "source": [
    "1) 3\n",
    "2) 8\n",
    "3) 18\n",
    "4) 오류 발생\n",
    "\n",
    "### 3번\n",
    "키워드 인수를 사용한 올바른 함수 호출은?\n",
    "\n",
    "1) `greet(name=\"김철수\", \"안녕\")`\n",
    "2) `greet(\"김철수\", greeting=\"안녕\")`\n",
    "3) `greet(name=\"김철수\", greeting=\"안녕\")`\n",
    "4) 2번과 3번 모두\n",
    "\n",
    "### 4번\n",
    "다음 코드에서 `x`의 범위(scope)는?"
   ]
  },
  {
   "cell_type": "code",
   "execution_count": null,
   "id": "c87b8285",
   "metadata": {},
   "outputs": [],
   "source": [
    "def my_function():\n",
    "    x = 10\n",
    "    return x"
   ]
  },
  {
   "cell_type": "markdown",
   "id": "3a223178",
   "metadata": {
    "lines_to_next_cell": 0
   },
   "source": [
    "1) 전역 범위\n",
    "2) 지역 범위\n",
    "3) 함수 범위\n",
    "4) 블록 범위\n",
    "\n",
    "### 5번\n",
    "전역변수를 함수 내에서 수정하려면 어떤 키워드를 사용해야 하는가?\n",
    "\n",
    "1) local\n",
    "2) global\n",
    "3) nonlocal  \n",
    "4) modify\n",
    "\n",
    "### 6번\n",
    "다음 코드의 결과는?"
   ]
  },
  {
   "cell_type": "code",
   "execution_count": null,
   "id": "ce89d307",
   "metadata": {},
   "outputs": [],
   "source": [
    "count = 0\n",
    "\n",
    "def increment():\n",
    "    global count\n",
    "    count += 1\n",
    "    return count\n",
    "\n",
    "print(increment())\n",
    "print(increment())"
   ]
  },
  {
   "cell_type": "markdown",
   "id": "ffb00b84",
   "metadata": {
    "lines_to_next_cell": 0
   },
   "source": [
    "1) 0, 0\n",
    "2) 1, 1\n",
    "3) 1, 2\n",
    "4) 오류 발생\n",
    "\n",
    "### 7번\n",
    "다음 함수에서 `name` 매개변수의 기본값은?"
   ]
  },
  {
   "cell_type": "code",
   "execution_count": null,
   "id": "79c0b6b1",
   "metadata": {},
   "outputs": [],
   "source": [
    "def create_user(name=\"사용자\", age=18, role=\"student\"):\n",
    "    return f\"{name} ({age}세, {role})\""
   ]
  },
  {
   "cell_type": "markdown",
   "id": "ac524390",
   "metadata": {
    "lines_to_next_cell": 0
   },
   "source": [
    "1) None\n",
    "2) \"사용자\"\n",
    "3) 18\n",
    "4) \"student\"\n",
    "\n",
    "### 8번\n",
    "키워드 인수의 장점이 아닌 것은?\n",
    "\n",
    "1) 코드의 명확성 향상\n",
    "2) 매개변수 순서의 자유로움\n",
    "3) 실행 속도 향상\n",
    "4) 가독성 향상\n",
    "\n",
    "### 9번\n",
    "다음 코드에서 `tax_rate`는 무엇인가?"
   ]
  },
  {
   "cell_type": "code",
   "execution_count": null,
   "id": "f0cc2eb6",
   "metadata": {},
   "outputs": [],
   "source": [
    "tax_rate = 0.1\n",
    "\n",
    "def calculate_tax(amount):\n",
    "    return amount * tax_rate"
   ]
  },
  {
   "cell_type": "markdown",
   "id": "d9b165bd",
   "metadata": {
    "lines_to_next_cell": 0
   },
   "source": [
    "1) 지역변수\n",
    "2) 전역변수\n",
    "3) 매개변수\n",
    "4) 상수\n",
    "\n",
    "### 10번\n",
    "함수에서 다른 함수를 호출하는 주된 이유는?\n",
    "\n",
    "1) 실행 속도 향상\n",
    "2) 메모리 절약\n",
    "3) 코드 재사용과 모듈화\n",
    "4) 오류 방지\n",
    "\n",
    "### 11번\n",
    "다음 코드의 결과는?"
   ]
  },
  {
   "cell_type": "code",
   "execution_count": null,
   "id": "0cf7d975",
   "metadata": {},
   "outputs": [],
   "source": [
    "def outer_function():\n",
    "    def inner_function():\n",
    "        return \"내부 함수\"\n",
    "    return inner_function()\n",
    "\n",
    "result = outer_function()"
   ]
  },
  {
   "cell_type": "markdown",
   "id": "e305fbb4",
   "metadata": {
    "lines_to_next_cell": 0
   },
   "source": [
    "1) \"외부 함수\"\n",
    "2) \"내부 함수\"\n",
    "3) None\n",
    "4) 오류 발생\n",
    "\n",
    "### 12번\n",
    "기본 매개변수 사용 시 주의사항은?\n",
    "\n",
    "1) 기본 매개변수는 앞쪽에 위치해야 함\n",
    "2) 기본 매개변수는 뒤쪽에 위치해야 함\n",
    "3) 기본 매개변수는 중간에 위치해야 함\n",
    "4) 위치는 상관없음\n",
    "\n",
    "### 13번\n",
    "다음 중 올바른 키워드 인수 사용법은?"
   ]
  },
  {
   "cell_type": "code",
   "execution_count": null,
   "id": "21c637ee",
   "metadata": {},
   "outputs": [],
   "source": [
    "def book_ticket(destination, passenger, seat_class=\"economy\"):\n",
    "    return f\"{passenger} - {destination} ({seat_class})\""
   ]
  },
  {
   "cell_type": "markdown",
   "id": "89c8ba24",
   "metadata": {
    "lines_to_next_cell": 0
   },
   "source": [
    "1) `book_ticket(\"서울\", passenger=\"김철수\")`\n",
    "2) `book_ticket(destination=\"서울\", \"김철수\")`\n",
    "3) `book_ticket(seat_class=\"business\", \"서울\", \"김철수\")`\n",
    "4) `book_ticket(\"김철수\", destination=\"서울\", seat_class=\"business\")`\n",
    "\n",
    "### 14번\n",
    "지역변수의 특징은?\n",
    "\n",
    "1) 함수 외부에서도 접근 가능\n",
    "2) 프로그램 종료 시까지 유지\n",
    "3) 함수 실행 완료 시 소멸\n",
    "4) 전역변수보다 우선순위가 낮음\n",
    "\n",
    "### 15번\n",
    "다음 코드에서 발생하는 문제는?"
   ]
  },
  {
   "cell_type": "code",
   "execution_count": null,
   "id": "951d25a3",
   "metadata": {},
   "outputs": [],
   "source": [
    "def bad_example(items=[]):\n",
    "    items.append(\"new item\")\n",
    "    return items"
   ]
  },
  {
   "cell_type": "markdown",
   "id": "d7478d19",
   "metadata": {
    "lines_to_next_cell": 0
   },
   "source": [
    "1) 문법 오류\n",
    "2) 가변 기본 매개변수 문제\n",
    "3) 타입 오류\n",
    "4) 문제없음\n",
    "\n",
    "---\n",
    "\n",
    "## ✍️ 2부. 주관식\n",
    "\n",
    "### 16번\n",
    "기본 매개변수(default parameter)의 개념과 장점을 설명하고, 어떤 상황에서 유용한지 구체적인 예시와 함께 설명하세요. 기본 매개변수 사용 시 주의해야 할 규칙도 포함하세요.\n",
    "\n",
    "**답안 작성란:**\n",
    "```\n",
    "_________________________________________________\n",
    "_________________________________________________\n",
    "_________________________________________________\n",
    "_________________________________________________\n",
    "_________________________________________________\n",
    "```\n",
    "\n",
    "### 17번\n",
    "키워드 인수(keyword argument)와 위치 인수(positional argument)의 차이점을 설명하고, 각각의 장단점을 비교하여 언제 키워드 인수를 사용하는 것이 좋은지 실제 예시와 함께 설명하세요.\n",
    "\n",
    "**답안 작성란:**\n",
    "```\n",
    "_________________________________________________\n",
    "_________________________________________________\n",
    "_________________________________________________\n",
    "_________________________________________________\n",
    "_________________________________________________\n",
    "```\n",
    "\n",
    "### 18번\n",
    "지역변수(local variable)와 전역변수(global variable)의 차이점을 설명하고, 변수 범위(scope) 개념을 포함하여 각각 언제 사용해야 하는지 설명하세요. 전역변수 사용 시 주의사항도 포함하세요.\n",
    "\n",
    "**답안 작성란:**\n",
    "```\n",
    "_________________________________________________\n",
    "_________________________________________________\n",
    "_________________________________________________\n",
    "_________________________________________________\n",
    "_________________________________________________\n",
    "```\n",
    "\n",
    "### 19번\n",
    "다음 코드의 실행 과정을 단계별로 설명하고, 각 함수 호출에서 변수들의 범위와 값의 변화를 상세히 분석하세요."
   ]
  },
  {
   "cell_type": "code",
   "execution_count": null,
   "id": "79071dd6",
   "metadata": {},
   "outputs": [],
   "source": [
    "total = 0\n",
    "\n",
    "def add_score(points):\n",
    "    global total\n",
    "    total += points\n",
    "    return total\n",
    "\n",
    "def show_result():\n",
    "    print(f\"현재 총점: {total}\")\n",
    "\n",
    "add_score(10)\n",
    "add_score(20)\n",
    "show_result()"
   ]
  },
  {
   "cell_type": "markdown",
   "id": "9d0d4d62",
   "metadata": {
    "lines_to_next_cell": 0
   },
   "source": [
    "**답안 작성란:**\n",
    "```\n",
    "_________________________________________________\n",
    "_________________________________________________\n",
    "_________________________________________________\n",
    "_________________________________________________\n",
    "_________________________________________________\n",
    "```\n",
    "\n",
    "### 20번\n",
    "함수에서 다른 함수를 호출하는 프로그래밍 기법의 장점을 설명하고, 복잡한 문제를 여러 함수로 나누어 해결할 때 고려해야 할 설계 원칙들을 구체적인 예시와 함께 설명하세요.\n",
    "\n",
    "**답안 작성란:**\n",
    "```\n",
    "_________________________________________________\n",
    "_________________________________________________\n",
    "_________________________________________________\n",
    "_________________________________________________\n",
    "_________________________________________________\n",
    "```\n",
    "\n",
    "### 21번\n",
    "다음 코드에서 발생할 수 있는 문제점들을 찾아내고, 각 문제의 원인과 해결 방법을 제시하세요."
   ]
  },
  {
   "cell_type": "code",
   "execution_count": null,
   "id": "9eec69bf",
   "metadata": {},
   "outputs": [],
   "source": [
    "def create_student(name, grades=[], major=\"컴퓨터공학\"):\n",
    "    grades.append(85)\n",
    "    return {\"name\": name, \"grades\": grades, \"major\": major}\n",
    "\n",
    "student1 = create_student(\"김철수\")\n",
    "student2 = create_student(\"이영희\")\n",
    "print(student1[\"grades\"])\n",
    "print(student2[\"grades\"])"
   ]
  },
  {
   "cell_type": "markdown",
   "id": "c249acc6",
   "metadata": {
    "lines_to_next_cell": 0
   },
   "source": [
    "**답안 작성란:**\n",
    "```\n",
    "_________________________________________________\n",
    "_________________________________________________\n",
    "_________________________________________________\n",
    "_________________________________________________\n",
    "_________________________________________________\n",
    "```\n",
    "\n",
    "### 22번\n",
    "함수 설계 시 매개변수 순서를 정하는 모범 사례를 설명하고, 필수 매개변수, 기본 매개변수, 키워드 인수를 효과적으로 조합하는 방법을 실제 예시와 함께 설명하세요.\n",
    "\n",
    "**답안 작성란:**\n",
    "```\n",
    "_________________________________________________\n",
    "_________________________________________________\n",
    "_________________________________________________\n",
    "_________________________________________________\n",
    "_________________________________________________\n",
    "```\n",
    "\n",
    "### 23번\n",
    "전역변수를 남용했을 때 발생할 수 있는 문제점들을 설명하고, 전역변수 대신 사용할 수 있는 더 나은 프로그래밍 기법들을 구체적인 예시와 함께 제시하세요.\n",
    "\n",
    "**답안 작성란:**\n",
    "```\n",
    "_________________________________________________\n",
    "_________________________________________________\n",
    "_________________________________________________\n",
    "_________________________________________________\n",
    "_________________________________________________\n",
    "```\n",
    "\n",
    "### 24번\n",
    "복잡한 프로그램을 작은 함수들로 분해하는 방법론을 설명하고, 각 함수가 담당해야 할 책임의 범위와 함수 간의 협력 방법을 실제 시스템 예시와 함께 설명하세요.\n",
    "\n",
    "**답안 작성란:**\n",
    "```\n",
    "_________________________________________________\n",
    "_________________________________________________\n",
    "_________________________________________________\n",
    "_________________________________________________\n",
    "_________________________________________________\n",
    "```\n",
    "\n",
    "---\n",
    "\n",
    "## 💻 3부. 실기 코딩\n",
    "\n",
    "### 25번\n",
    "**문제**: 유연한 학생 정보 관리 함수를 작성하세요.\n",
    "- 기본 매개변수를 사용한 `create_student()` 함수 (이름은 필수, 나이 기본값 18, 전공 기본값 \"미정\", 학년 기본값 1)\n",
    "- 키워드 인수를 활용하여 다양한 방식으로 학생 정보 생성\n",
    "- 학생 정보를 출력하는 `display_student()` 함수\n",
    "- 여러 학생을 다양한 방법으로 생성하여 테스트\n",
    "\n",
    "**코드 작성란:**"
   ]
  },
  {
   "cell_type": "code",
   "execution_count": null,
   "id": "4681a5fb",
   "metadata": {},
   "outputs": [],
   "source": [
    "# 여기에 코드를 작성하세요\n",
    "\n"
   ]
  },
  {
   "cell_type": "markdown",
   "id": "be9f6e63",
   "metadata": {
    "lines_to_next_cell": 0
   },
   "source": [
    "**예상 출력:**\n",
    "```\n",
    "=== 학생 정보 시스템 ===\n",
    "학생: 김철수 (18세, 미정, 1학년)\n",
    "학생: 이영희 (20세, 컴퓨터공학과, 2학년)  \n",
    "학생: 박민수 (19세, 소프트웨어융합과, 1학년)\n",
    "```\n",
    "\n",
    "### 26번\n",
    "**문제**: 전역변수를 사용한 은행 계좌 시스템을 구현하세요.\n",
    "- 전역변수: `account_balance`, `account_holder`\n",
    "- `open_account()`: 계좌 개설 함수\n",
    "- `deposit()`: 입금 함수\n",
    "- `withdraw()`: 출금 함수 (잔액 확인 포함)\n",
    "- `check_balance()`: 잔액 조회 함수\n",
    "- `get_account_info()`: 계좌 정보 출력 함수\n",
    "\n",
    "**코드 작성란:**"
   ]
  },
  {
   "cell_type": "code",
   "execution_count": null,
   "id": "e6762b28",
   "metadata": {},
   "outputs": [],
   "source": [
    "# 여기에 코드를 작성하세요\n",
    "\n"
   ]
  },
  {
   "cell_type": "markdown",
   "id": "b1ce98c7",
   "metadata": {
    "lines_to_next_cell": 0
   },
   "source": [
    "### 27번\n",
    "**문제**: 성적 처리 시스템을 여러 함수의 협력으로 구현하세요.\n",
    "- `calculate_average()`: 점수 리스트의 평균 계산\n",
    "- `get_letter_grade()`: 평균 점수를 문자 등급으로 변환\n",
    "- `determine_scholarship()`: 등급에 따른 장학금 결정\n",
    "- `process_student_grades()`: 위 함수들을 모두 활용하는 통합 처리 함수\n",
    "- 여러 학생의 성적을 처리하여 결과 출력\n",
    "\n",
    "**테스트 데이터:**"
   ]
  },
  {
   "cell_type": "code",
   "execution_count": null,
   "id": "b490a502",
   "metadata": {},
   "outputs": [],
   "source": [
    "students = [\n",
    "    {\"name\": \"김철수\", \"scores\": [85, 92, 78, 88]},\n",
    "    {\"name\": \"이영희\", \"scores\": [95, 98, 92, 96]},\n",
    "    {\"name\": \"박민수\", \"scores\": [78, 82, 75, 80]}\n",
    "]"
   ]
  },
  {
   "cell_type": "markdown",
   "id": "0c45849d",
   "metadata": {
    "lines_to_next_cell": 0
   },
   "source": [
    "**코드 작성란:**"
   ]
  },
  {
   "cell_type": "code",
   "execution_count": null,
   "id": "8ef5a6c8",
   "metadata": {},
   "outputs": [],
   "source": [
    "# 여기에 코드를 작성하세요\n",
    "\n"
   ]
  },
  {
   "cell_type": "markdown",
   "id": "e20467c0",
   "metadata": {
    "lines_to_next_cell": 0
   },
   "source": [
    "### 28번\n",
    "**문제**: 쇼핑몰 주문 처리 시스템을 구현하세요.\n",
    "- 기본 매개변수를 활용한 `calculate_shipping()` 함수 (기본 배송비 3000원, 무료배송 기준 50000원)\n",
    "- `apply_discount()`: 할인 적용 함수 (기본 할인율 0%)\n",
    "- `calculate_tax()`: 세금 계산 함수 (기본 세율 10%)\n",
    "- `process_order()`: 주문 통합 처리 함수\n",
    "- 키워드 인수를 사용하여 다양한 주문 옵션 테스트\n",
    "\n",
    "**코드 작성란:**"
   ]
  },
  {
   "cell_type": "code",
   "execution_count": null,
   "id": "dbfae14e",
   "metadata": {},
   "outputs": [],
   "source": [
    "# 여기에 코드를 작성하세요\n",
    "\n"
   ]
  },
  {
   "cell_type": "markdown",
   "id": "eba05bc7",
   "metadata": {
    "lines_to_next_cell": 0
   },
   "source": [
    "### 29번\n",
    "**문제**: 레스토랑 예약 시스템을 구현하세요.\n",
    "- 전역변수로 예약 목록 관리\n",
    "- `make_reservation()`: 예약 생성 (기본값: 2명, 저녁 7시)\n",
    "- `cancel_reservation()`: 예약 취소\n",
    "- `show_reservations()`: 전체 예약 현황 출력\n",
    "- `find_reservation()`: 이름으로 예약 찾기\n",
    "- 키워드 인수를 활용한 유연한 예약 생성\n",
    "\n",
    "**코드 작성란:**"
   ]
  },
  {
   "cell_type": "code",
   "execution_count": null,
   "id": "c50252a6",
   "metadata": {},
   "outputs": [],
   "source": [
    "# 여기에 코드를 작성하세요\n",
    "\n"
   ]
  },
  {
   "cell_type": "markdown",
   "id": "1830923f",
   "metadata": {
    "lines_to_next_cell": 0
   },
   "source": [
    "### 30번\n",
    "**문제**: 종합 대학 관리 시스템을 구현하세요.\n",
    "- 전역변수로 학생 데이터베이스 관리\n",
    "- `register_student()`: 학생 등록 (기본값 활용)\n",
    "- `update_student_info()`: 학생 정보 수정 (키워드 인수 활용)\n",
    "- `calculate_tuition()`: 등록금 계산 (전공별 차등, 장학금 적용)\n",
    "- `generate_transcript()`: 성적표 생성 (여러 함수 협력)\n",
    "- `get_statistics()`: 통계 정보 출력\n",
    "- 복합적인 학사 관리 기능 구현\n",
    "\n",
    "**코드 작성란:**"
   ]
  },
  {
   "cell_type": "code",
   "execution_count": null,
   "id": "c370d115",
   "metadata": {},
   "outputs": [],
   "source": [
    "# 여기에 코드를 작성하세요\n",
    "\n"
   ]
  },
  {
   "cell_type": "markdown",
   "id": "bf8e6b36",
   "metadata": {},
   "source": [
    "**예상 출력:**\n",
    "```\n",
    "=== 영남이공대학교 관리 시스템 ===\n",
    "\n",
    "학생 등록 완료:\n",
    "- 김철수 (소프트웨어융합과, 1학년)\n",
    "- 이영희 (컴퓨터정보과, 2학년)\n",
    "\n",
    "등록금 계산:\n",
    "김철수: 기본 등록금 3,000,000원 - 장학금 300,000원 = 2,700,000원\n",
    "\n",
    "성적표 생성:\n",
    "학생: 김철수\n",
    "평균 성적: 87.5점 (B+)\n",
    "장학금: 성적 장학금\n",
    "\n",
    "현재 통계:\n",
    "총 학생 수: 2명\n",
    "전공별 분포: 소프트웨어융합과 1명, 컴퓨터정보과 1명\n",
    "```\n",
    "\n",
    "---\n",
    "\n",
    "## 📊 정답 및 해설\n",
    "\n",
    "### 객관식 정답\n",
    "1. ② &nbsp;&nbsp; 2. ③ &nbsp;&nbsp; 3. ④ &nbsp;&nbsp; 4. ② &nbsp;&nbsp; 5. ②\n",
    "6. ③ &nbsp;&nbsp; 7. ② &nbsp;&nbsp; 8. ③ &nbsp;&nbsp; 9. ② &nbsp;&nbsp; 10. ③\n",
    "11. ② &nbsp;&nbsp; 12. ② &nbsp;&nbsp; 13. ① &nbsp;&nbsp; 14. ③ &nbsp;&nbsp; 15. ②\n",
    "\n",
    "### 주요 해설 포인트\n",
    "\n",
    "**기본 매개변수 규칙**\n",
    "- 기본 매개변수는 비기본 매개변수 뒤에 위치\n",
    "- 가변 기본값(리스트, 딕셔너리 등) 사용 시 주의 필요\n",
    "- 함수 정의 시점에서 기본값이 평가됨\n",
    "\n",
    "**키워드 인수 활용**\n",
    "- 매개변수 이름을 명시하여 함수 호출\n",
    "- 순서에 상관없이 인수 전달 가능\n",
    "- 위치 인수와 키워드 인수 혼합 사용 시 위치 인수가 먼저\n",
    "\n",
    "**변수 범위 (Scope)**\n",
    "- 지역변수: 함수 내부에서만 접근 가능\n",
    "- 전역변수: 프로그램 전체에서 접근 가능\n",
    "- global 키워드로 전역변수 수정\n",
    "\n",
    "---\n",
    "\n",
    "## 🎯 학습 조언\n",
    "\n",
    "### 이 연습문제로 무엇을 확인할 수 있나요?\n",
    "\n",
    "**기초 이해도 (객관식)**\n",
    "- 기본 매개변수와 키워드 인수 문법\n",
    "- 지역변수와 전역변수의 범위\n",
    "- 함수 협력 구조의 이해\n",
    "\n",
    "**개념 이해 (주관식)**\n",
    "- 고급 함수 기법의 장점과 활용법\n",
    "- 함수 설계 원칙과 모범 사례\n",
    "- 변수 범위와 관련된 주의사항\n",
    "\n",
    "**실무 적용 (실기코딩)**\n",
    "- 유연하고 확장 가능한 함수 설계\n",
    "- 복잡한 시스템의 함수 구조화\n",
    "- 실제 프로젝트에서의 함수 활용\n",
    "\n",
    "---\n",
    "\n",
    "## 📚 추가 연습 자료\n",
    "\n",
    "1. **온라인 연습 사이트**\n",
    "   - Python.org - Advanced Function Features\n",
    "   - HackerRank - Python Functions (Advanced)\n",
    "   - LeetCode - Function Design Problems\n",
    "\n",
    "2. **실습 프로젝트 아이디어**\n",
    "   - 개인 일정 관리 시스템\n",
    "   - 간단한 전자상거래 백엔드\n",
    "   - 학교 관리 시스템 확장\n",
    "\n",
    "3. **심화 학습 주제**\n",
    "   - *args와 **kwargs\n",
    "   - 함수 데코레이터 (decorators)\n",
    "   - 클로저 (closures)와 내부 함수\n",
    "\n",
    "**고급 함수 기법으로 더 전문적인 코드를 작성해보세요!**"
   ]
  }
 ],
 "metadata": {
  "jupytext": {
   "cell_metadata_filter": "-all",
   "main_language": "python",
   "notebook_metadata_filter": "-all"
  }
 },
 "nbformat": 4,
 "nbformat_minor": 5
}
