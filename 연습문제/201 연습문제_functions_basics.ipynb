{
 "cells": [
  {
   "cell_type": "markdown",
   "id": "d72b3609",
   "metadata": {
    "lines_to_next_cell": 0
   },
   "source": [
    "# 파이썬 함수 기초 - 연습문제\n",
    "\n",
    "---\n",
    "\n",
    "## 📝 1부. 객관식\n",
    "\n",
    "### 1번\n",
    "파이썬에서 함수를 정의할 때 사용하는 키워드는?\n",
    "\n",
    "1) function\n",
    "2) def\n",
    "3) define\n",
    "4) func\n",
    "\n",
    "### 2번\n",
    "다음 함수 정의에서 `name`은 무엇인가?"
   ]
  },
  {
   "cell_type": "code",
   "execution_count": null,
   "id": "1908667b",
   "metadata": {},
   "outputs": [],
   "source": [
    "def greet_user(name):\n",
    "    print(f\"안녕하세요, {name}님!\")"
   ]
  },
  {
   "cell_type": "markdown",
   "id": "49a15fda",
   "metadata": {
    "lines_to_next_cell": 0
   },
   "source": [
    "1) 인수(argument)\n",
    "2) 매개변수(parameter)\n",
    "3) 반환값(return value)\n",
    "4) 함수명(function name)\n",
    "\n",
    "### 3번\n",
    "다음 함수 호출에서 `\"김철수\"`는 무엇인가?"
   ]
  },
  {
   "cell_type": "code",
   "execution_count": null,
   "id": "8f7c5bcc",
   "metadata": {},
   "outputs": [],
   "source": [
    "greet_user(\"김철수\")"
   ]
  },
  {
   "cell_type": "markdown",
   "id": "0ab019c7",
   "metadata": {
    "lines_to_next_cell": 0
   },
   "source": [
    "1) 매개변수(parameter)\n",
    "2) 인수(argument)\n",
    "3) 반환값(return value)\n",
    "4) 변수명(variable name)\n",
    "\n",
    "### 4번\n",
    "다음 코드의 결과는?"
   ]
  },
  {
   "cell_type": "code",
   "execution_count": null,
   "id": "6f637496",
   "metadata": {},
   "outputs": [],
   "source": [
    "def add_numbers(a, b):\n",
    "    return a + b\n",
    "\n",
    "result = add_numbers(5, 3)\n",
    "print(result)"
   ]
  },
  {
   "cell_type": "markdown",
   "id": "e82d1365",
   "metadata": {
    "lines_to_next_cell": 0
   },
   "source": [
    "1) 5\n",
    "2) 3\n",
    "3) 8\n",
    "4) 오류 발생\n",
    "\n",
    "### 5번\n",
    "return 문이 없는 함수는 무엇을 반환하는가?\n",
    "\n",
    "1) 0\n",
    "2) False\n",
    "3) None\n",
    "4) 빈 문자열 \"\"\n",
    "\n",
    "### 6번\n",
    "다음 중 올바른 함수 정의는?\n",
    "\n",
    "1) `function greet(): print(\"안녕\")`\n",
    "2) `def greet() print(\"안녕\")`\n",
    "3) `def greet(): print(\"안녕\")`\n",
    "4) `define greet(): print(\"안녕\")`\n",
    "\n",
    "### 7번\n",
    "다음 코드의 결과는?"
   ]
  },
  {
   "cell_type": "code",
   "execution_count": null,
   "id": "05a1b2ba",
   "metadata": {},
   "outputs": [],
   "source": [
    "def multiply(x, y=2):\n",
    "    return x * y\n",
    "\n",
    "print(multiply(5))"
   ]
  },
  {
   "cell_type": "markdown",
   "id": "f42427b6",
   "metadata": {
    "lines_to_next_cell": 0
   },
   "source": [
    "1) 5\n",
    "2) 10\n",
    "3) 2\n",
    "4) 오류 발생\n",
    "\n",
    "### 8번\n",
    "함수에서 여러 개의 값을 반환하는 방법은?\n",
    "\n",
    "1) 여러 개의 return 문 사용\n",
    "2) 리스트로 반환\n",
    "3) 튜플로 반환\n",
    "4) 불가능함\n",
    "\n",
    "### 9번\n",
    "다음 코드에서 함수의 이름은?"
   ]
  },
  {
   "cell_type": "code",
   "execution_count": null,
   "id": "ffc8a163",
   "metadata": {},
   "outputs": [],
   "source": [
    "def calculate_area(length, width):\n",
    "    return length * width"
   ]
  },
  {
   "cell_type": "markdown",
   "id": "b3580a46",
   "metadata": {
    "lines_to_next_cell": 0
   },
   "source": [
    "1) calculate\n",
    "2) area\n",
    "3) length\n",
    "4) calculate_area\n",
    "\n",
    "### 10번\n",
    "다음 중 기본 매개변수(default parameter)의 올바른 사용법은?\n",
    "\n",
    "1) `def greet(title=\"씨\", name):`\n",
    "2) `def greet(name, title=\"씨\"):`\n",
    "3) `def greet(name=\"김철수\", title):`\n",
    "4) `def greet(=\"씨\", name):`\n",
    "\n",
    "### 11번\n",
    "다음 코드의 결과는?"
   ]
  },
  {
   "cell_type": "code",
   "execution_count": null,
   "id": "b53c6863",
   "metadata": {},
   "outputs": [],
   "source": [
    "def get_info():\n",
    "    return \"김철수\", 25, \"학생\"\n",
    "\n",
    "name, age, job = get_info()\n",
    "print(age)"
   ]
  },
  {
   "cell_type": "markdown",
   "id": "5f350cad",
   "metadata": {
    "lines_to_next_cell": 0
   },
   "source": [
    "1) \"김철수\"\n",
    "2) 25\n",
    "3) \"학생\"\n",
    "4) 오류 발생\n",
    "\n",
    "### 12번\n",
    "함수를 사용하는 주된 이유가 아닌 것은?\n",
    "\n",
    "1) 코드 재사용성\n",
    "2) 코드 조직화\n",
    "3) 실행 속도 향상\n",
    "4) 쉬운 테스트와 디버깅\n",
    "\n",
    "### 13번\n",
    "다음 코드에서 함수가 반환하는 값은?"
   ]
  },
  {
   "cell_type": "code",
   "execution_count": null,
   "id": "f9091861",
   "metadata": {},
   "outputs": [],
   "source": [
    "def check_positive(num):\n",
    "    if num > 0:\n",
    "        return True\n",
    "    else:\n",
    "        return False\n",
    "\n",
    "result = check_positive(-5)"
   ]
  },
  {
   "cell_type": "markdown",
   "id": "d3c9c313",
   "metadata": {
    "lines_to_next_cell": 0
   },
   "source": [
    "1) True\n",
    "2) False\n",
    "3) -5\n",
    "4) None\n",
    "\n",
    "### 14번\n",
    "함수 안에서 print()와 return의 차이점은?\n",
    "\n",
    "1) 동일한 기능을 수행한다\n",
    "2) print()는 출력만, return은 값을 반환한다\n",
    "3) return은 출력만, print()는 값을 반환한다\n",
    "4) print()가 더 빠르다\n",
    "\n",
    "### 15번\n",
    "다음 코드에서 올바른 함수 호출은?"
   ]
  },
  {
   "cell_type": "code",
   "execution_count": null,
   "id": "4a6b4127",
   "metadata": {},
   "outputs": [],
   "source": [
    "def calculate_bmi(height, weight):\n",
    "    return weight / (height ** 2)"
   ]
  },
  {
   "cell_type": "markdown",
   "id": "15cdead6",
   "metadata": {
    "lines_to_next_cell": 0
   },
   "source": [
    "1) `calculate_bmi(1.75, 70)`\n",
    "2) `calculate_bmi(height=1.75, weight=70)`\n",
    "3) `calculate_bmi(weight=70, height=1.75)`\n",
    "4) 위 모든 것\n",
    "\n",
    "---\n",
    "\n",
    "## ✍️ 2부. 주관식\n",
    "\n",
    "### 16번\n",
    "함수를 사용하는 3가지 주요 장점을 설명하고, 각각에 대해 구체적인 예시를 들어 설명하세요. 함수 없이 작성한 코드와 함수를 사용한 코드를 비교하여 설명하는 것도 포함하세요.\n",
    "\n",
    "**답안 작성란:**\n",
    "```\n",
    "_________________________________________________\n",
    "_________________________________________________\n",
    "_________________________________________________\n",
    "_________________________________________________\n",
    "_________________________________________________\n",
    "```\n",
    "\n",
    "### 17번\n",
    "매개변수(parameter)와 인수(argument)의 차이점을 명확히 설명하고, 다음 코드에서 각각을 찾아 설명하세요."
   ]
  },
  {
   "cell_type": "code",
   "execution_count": null,
   "id": "6aaa8165",
   "metadata": {},
   "outputs": [],
   "source": [
    "def calculate_tax(income, rate):\n",
    "    return income * rate / 100\n",
    "\n",
    "tax_amount = calculate_tax(5000000, 15)"
   ]
  },
  {
   "cell_type": "markdown",
   "id": "a766083a",
   "metadata": {
    "lines_to_next_cell": 0
   },
   "source": [
    "**답안 작성란:**\n",
    "```\n",
    "_________________________________________________\n",
    "_________________________________________________\n",
    "_________________________________________________\n",
    "_________________________________________________\n",
    "_________________________________________________\n",
    "```\n",
    "\n",
    "### 18번\n",
    "함수에서 return 문의 역할과 중요성을 설명하고, return이 있는 함수와 없는 함수의 차이점을 구체적인 예시 코드와 함께 설명하세요.\n",
    "\n",
    "**답안 작성란:**\n",
    "```\n",
    "_________________________________________________\n",
    "_________________________________________________\n",
    "_________________________________________________\n",
    "_________________________________________________\n",
    "_________________________________________________\n",
    "```\n",
    "\n",
    "### 19번\n",
    "기본 매개변수(default parameter)의 개념과 사용법을 설명하고, 어떤 상황에서 유용한지 실제 활용 사례와 함께 설명하세요. 기본 매개변수 사용 시 주의사항도 포함하세요.\n",
    "\n",
    "**답안 작성란:**\n",
    "```\n",
    "_________________________________________________\n",
    "_________________________________________________\n",
    "_________________________________________________\n",
    "_________________________________________________\n",
    "_________________________________________________\n",
    "```\n",
    "\n",
    "### 20번\n",
    "다음 코드의 실행 과정을 단계별로 설명하고, 각 함수 호출에서 어떤 값들이 전달되고 반환되는지 상세히 설명하세요."
   ]
  },
  {
   "cell_type": "code",
   "execution_count": null,
   "id": "71cef6fe",
   "metadata": {},
   "outputs": [],
   "source": [
    "def calculate_discount(price, discount_rate):\n",
    "    discount_amount = price * discount_rate / 100\n",
    "    return discount_amount\n",
    "\n",
    "def final_price(original_price, discount_rate):\n",
    "    discount = calculate_discount(original_price, discount_rate)\n",
    "    return original_price - discount\n",
    "\n",
    "result = final_price(10000, 20)\n",
    "print(result)"
   ]
  },
  {
   "cell_type": "markdown",
   "id": "351618d4",
   "metadata": {
    "lines_to_next_cell": 0
   },
   "source": [
    "**답안 작성란:**\n",
    "```\n",
    "_________________________________________________\n",
    "_________________________________________________\n",
    "_________________________________________________\n",
    "_________________________________________________\n",
    "_________________________________________________\n",
    "```\n",
    "\n",
    "### 21번\n",
    "다음 코드에서 발생할 수 있는 문제점들을 찾아내고, 각 문제의 원인과 해결방법을 제시하세요."
   ]
  },
  {
   "cell_type": "code",
   "execution_count": null,
   "id": "57bc3c39",
   "metadata": {},
   "outputs": [],
   "source": [
    "def divide_numbers(a, b):\n",
    "    result = a / b\n",
    "    print(result)\n",
    "\n",
    "def get_student_grade(score):\n",
    "    if score >= 90:\n",
    "        return \"A\"\n",
    "    elif score >= 80:\n",
    "        return \"B\"\n",
    "    # 여기서 함수가 끝남\n",
    "\n",
    "answer = divide_numbers(10, 0)\n",
    "grade = get_student_grade(75)"
   ]
  },
  {
   "cell_type": "markdown",
   "id": "9dbc7273",
   "metadata": {
    "lines_to_next_cell": 0
   },
   "source": [
    "**답안 작성란:**\n",
    "```\n",
    "_________________________________________________\n",
    "_________________________________________________\n",
    "_________________________________________________\n",
    "_________________________________________________\n",
    "_________________________________________________\n",
    "```\n",
    "\n",
    "### 22번\n",
    "함수의 이름을 정하는 모범 사례를 설명하고, 좋은 함수명과 나쁜 함수명의 예시를 각각 3개씩 제시하고 그 이유를 설명하세요.\n",
    "\n",
    "**답안 작성란:**\n",
    "```\n",
    "_________________________________________________\n",
    "_________________________________________________\n",
    "_________________________________________________\n",
    "_________________________________________________\n",
    "_________________________________________________\n",
    "```\n",
    "\n",
    "### 23번\n",
    "함수에서 여러 개의 값을 반환하는 방법과 이를 받아서 사용하는 방법을 설명하고, 언제 이런 방식이 유용한지 실제 사례와 함께 설명하세요.\n",
    "\n",
    "**답안 작성란:**\n",
    "```\n",
    "_________________________________________________\n",
    "_________________________________________________\n",
    "_________________________________________________\n",
    "_________________________________________________\n",
    "_________________________________________________\n",
    "```\n",
    "\n",
    "### 24번\n",
    "함수를 디버깅하고 테스트하는 방법을 설명하고, 함수가 올바르게 동작하는지 확인하기 위해 어떤 접근방법을 사용해야 하는지 구체적인 예시와 함께 설명하세요.\n",
    "\n",
    "**답안 작성란:**\n",
    "```\n",
    "_________________________________________________\n",
    "_________________________________________________\n",
    "_________________________________________________\n",
    "_________________________________________________\n",
    "_________________________________________________\n",
    "```\n",
    "\n",
    "---\n",
    "\n",
    "## 💻 3부. 실기 코딩\n",
    "\n",
    "### 25번\n",
    "**문제**: 기본적인 수학 계산 함수들을 작성하세요.\n",
    "- 두 수를 더하는 `add()` 함수\n",
    "- 두 수를 빼는 `subtract()` 함수  \n",
    "- 두 수를 곱하는 `multiply()` 함수\n",
    "- 두 수를 나누는 `divide()` 함수 (0으로 나누기 예외 처리 포함)\n",
    "- 세 수의 평균을 구하는 `calculate_average()` 함수\n",
    "- 각 함수를 테스트하는 코드 작성\n",
    "\n",
    "**코드 작성란:**"
   ]
  },
  {
   "cell_type": "code",
   "execution_count": null,
   "id": "5d6e7bbc",
   "metadata": {},
   "outputs": [],
   "source": [
    "# 여기에 코드를 작성하세요\n",
    "\n"
   ]
  },
  {
   "cell_type": "markdown",
   "id": "748d0183",
   "metadata": {
    "lines_to_next_cell": 0
   },
   "source": [
    "**예상 출력:**\n",
    "```\n",
    "=== 수학 계산 함수 테스트 ===\n",
    "5 + 3 = 8\n",
    "10 - 4 = 6\n",
    "6 × 7 = 42\n",
    "15 ÷ 3 = 5.0\n",
    "0으로 나눌 수 없습니다\n",
    "평균 (80, 90, 85): 85.0\n",
    "```\n",
    "\n",
    "### 26번\n",
    "**문제**: 학생 성적 관리 함수들을 작성하세요.\n",
    "- 점수를 받아 등급을 반환하는 `get_grade()` 함수 (A, B, C, D, F)\n",
    "- 여러 점수를 받아 평균을 계산하는 `calculate_gpa()` 함수\n",
    "- 학생 정보를 받아 성적표를 출력하는 `print_report_card()` 함수\n",
    "- 합격 여부를 판단하는 `is_passing()` 함수 (60점 이상)\n",
    "- 우등생 여부를 판단하는 `is_honor_student()` 함수 (90점 이상)\n",
    "\n",
    "**코드 작성란:**"
   ]
  },
  {
   "cell_type": "code",
   "execution_count": null,
   "id": "6f18c8b4",
   "metadata": {},
   "outputs": [],
   "source": [
    "# 여기에 코드를 작성하세요\n",
    "\n"
   ]
  },
  {
   "cell_type": "markdown",
   "id": "755814cc",
   "metadata": {
    "lines_to_next_cell": 0
   },
   "source": [
    "### 27번\n",
    "**문제**: 온도 변환 및 날씨 관련 함수들을 작성하세요.\n",
    "- 섭씨를 화씨로 변환하는 `celsius_to_fahrenheit()` 함수\n",
    "- 화씨를 섭씨로 변환하는 `fahrenheit_to_celsius()` 함수\n",
    "- 온도에 따른 옷차림 추천을 하는 `clothing_recommendation()` 함수\n",
    "- 온도 범위에 따른 활동 추천을 하는 `activity_suggestion()` 함수\n",
    "- 종합 날씨 정보를 출력하는 `weather_report()` 함수\n",
    "\n",
    "**코드 작성란:**"
   ]
  },
  {
   "cell_type": "code",
   "execution_count": null,
   "id": "3c21bf05",
   "metadata": {},
   "outputs": [],
   "source": [
    "# 여기에 코드를 작성하세요\n",
    "\n"
   ]
  },
  {
   "cell_type": "markdown",
   "id": "db7f6dcd",
   "metadata": {
    "lines_to_next_cell": 0
   },
   "source": [
    "### 28번\n",
    "**문제**: 간단한 은행 계좌 관리 함수들을 작성하세요.\n",
    "- 잔액을 확인하는 `check_balance()` 함수\n",
    "- 입금을 처리하는 `deposit()` 함수\n",
    "- 출금을 처리하는 `withdraw()` 함수 (잔액 부족 시 오류 메시지)\n",
    "- 이자를 계산하는 `calculate_interest()` 함수\n",
    "- 계좌 정보를 출력하는 `print_account_info()` 함수\n",
    "\n",
    "**초기 설정:** 잔액 100,000원으로 시작\n",
    "\n",
    "**코드 작성란:**"
   ]
  },
  {
   "cell_type": "code",
   "execution_count": null,
   "id": "afa65e43",
   "metadata": {},
   "outputs": [],
   "source": [
    "# 여기에 코드를 작성하세요\n",
    "\n"
   ]
  },
  {
   "cell_type": "markdown",
   "id": "38d2531b",
   "metadata": {
    "lines_to_next_cell": 0
   },
   "source": [
    "### 29번\n",
    "**문제**: 문자열 처리 함수들을 작성하세요.\n",
    "- 문자열의 단어 개수를 세는 `count_words()` 함수\n",
    "- 문자열을 뒤집는 `reverse_string()` 함수\n",
    "- 문자열이 회문인지 확인하는 `is_palindrome()` 함수\n",
    "- 문자열에서 모음 개수를 세는 `count_vowels()` 함수\n",
    "- 문자열의 첫 글자를 대문자로 만드는 `capitalize_words()` 함수\n",
    "\n",
    "**테스트할 문자열:** \"Python Programming is Fun\"\n",
    "\n",
    "**코드 작성란:**"
   ]
  },
  {
   "cell_type": "code",
   "execution_count": null,
   "id": "2ba7f46f",
   "metadata": {},
   "outputs": [],
   "source": [
    "# 여기에 코드를 작성하세요\n",
    "\n"
   ]
  },
  {
   "cell_type": "markdown",
   "id": "c09b81d2",
   "metadata": {
    "lines_to_next_cell": 0
   },
   "source": [
    "### 30번\n",
    "**문제**: 종합 쇼핑 계산 시스템을 함수로 구현하세요.\n",
    "- 상품 가격에 세금을 추가하는 `add_tax()` 함수\n",
    "- 할인을 적용하는 `apply_discount()` 함수\n",
    "- 배송비를 계산하는 `calculate_shipping()` 함수 (10만원 이상 무료배송)\n",
    "- 총 결제금액을 계산하는 `calculate_total()` 함수\n",
    "- 영수증을 출력하는 `print_receipt()` 함수\n",
    "- 여러 상품을 처리하는 `process_order()` 함수\n",
    "\n",
    "**주문 정보:**\n",
    "- 상품들: [(\"노트북\", 1200000), (\"마우스\", 50000), (\"키보드\", 80000)]\n",
    "- 세율: 10%\n",
    "- 할인율: 15%\n",
    "\n",
    "**코드 작성란:**"
   ]
  },
  {
   "cell_type": "code",
   "execution_count": null,
   "id": "b63c79ed",
   "metadata": {},
   "outputs": [],
   "source": [
    "# 여기에 코드를 작성하세요\n",
    "\n"
   ]
  },
  {
   "cell_type": "markdown",
   "id": "8a843480",
   "metadata": {},
   "source": [
    "**예상 출력:**\n",
    "```\n",
    "=== 쇼핑 영수증 ===\n",
    "노트북: 1,200,000원\n",
    "마우스: 50,000원\n",
    "키보드: 80,000원\n",
    "\n",
    "소계: 1,330,000원\n",
    "할인 (15%): -199,500원\n",
    "세금 (10%): 113,050원\n",
    "배송비: 0원 (무료배송)\n",
    "─────────────────\n",
    "총 결제금액: 1,243,550원\n",
    "```\n",
    "\n",
    "---\n",
    "\n",
    "## 📊 정답 및 해설\n",
    "\n",
    "### 객관식 정답\n",
    "1. ② &nbsp;&nbsp; 2. ② &nbsp;&nbsp; 3. ② &nbsp;&nbsp; 4. ③ &nbsp;&nbsp; 5. ③\n",
    "6. ③ &nbsp;&nbsp; 7. ② &nbsp;&nbsp; 8. ③ &nbsp;&nbsp; 9. ④ &nbsp;&nbsp; 10. ②\n",
    "11. ② &nbsp;&nbsp; 12. ③ &nbsp;&nbsp; 13. ② &nbsp;&nbsp; 14. ② &nbsp;&nbsp; 15. ④\n",
    "\n",
    "### 주요 해설 포인트\n",
    "\n",
    "**함수 기본 개념**\n",
    "- 함수 정의: `def` 키워드 사용\n",
    "- 매개변수 vs 인수: 정의 시 vs 호출 시\n",
    "- return이 없으면 None 반환\n",
    "\n",
    "**매개변수와 반환값**\n",
    "- 기본 매개변수는 뒤쪽에 위치\n",
    "- 여러 값 반환 시 튜플 사용\n",
    "- 조건에 따른 다른 반환값 가능\n",
    "\n",
    "**함수 사용 이유**\n",
    "- 코드 재사용성 향상\n",
    "- 프로그램 구조화\n",
    "- 테스트와 디버깅 용이성\n",
    "\n",
    "---\n",
    "\n",
    "## 🎯 학습 조언\n",
    "\n",
    "### 이 연습문제로 무엇을 확인할 수 있나요?\n",
    "\n",
    "**기초 이해도 (객관식)**\n",
    "- 함수 정의와 호출 문법\n",
    "- 매개변수와 인수의 차이점\n",
    "- 반환값과 기본 매개변수 사용법\n",
    "\n",
    "**개념 이해 (주관식)**\n",
    "- 함수 사용의 장점과 필요성\n",
    "- 함수 설계 원칙과 모범 사례\n",
    "- 디버깅과 테스트 방법론\n",
    "\n",
    "**실무 적용 (실기코딩)**\n",
    "- 실제 문제 해결을 위한 함수 작성\n",
    "- 함수 간의 협력과 조합\n",
    "- 실용적인 프로그램 구조화\n",
    "\n",
    "---\n",
    "\n",
    "## 📚 추가 연습 자료\n",
    "\n",
    "1. **온라인 연습 사이트**\n",
    "   - HackerRank - Python Functions\n",
    "   - LeetCode - Algorithm 기초 문제들\n",
    "   - Codewars - Function 관련 카타\n",
    "\n",
    "2. **실습 프로젝트 아이디어**\n",
    "   - 간단한 게임 (가위바위보, 숫자맞히기)\n",
    "   - 개인 가계부 프로그램\n",
    "   - 학생 성적 관리 시스템\n",
    "\n",
    "3. **심화 학습 주제**\n",
    "   - 람다 함수 (lambda)\n",
    "   - 고차 함수 (map, filter, reduce)\n",
    "   - 함수 데코레이터 (decorator)\n",
    "\n",
    "**함수로 더 체계적인 코드를 작성해보세요! 🔧**"
   ]
  }
 ],
 "metadata": {
  "jupytext": {
   "cell_metadata_filter": "-all",
   "main_language": "python",
   "notebook_metadata_filter": "-all"
  }
 },
 "nbformat": 4,
 "nbformat_minor": 5
}
