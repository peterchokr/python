{
 "cells": [
  {
   "cell_type": "markdown",
   "id": "52947ca1",
   "metadata": {},
   "source": [
    "# 모듈과 패키지 (Modules and Packages)\n",
    "\n",
    "**수업 시간**: 3시간\n",
    "**구성**: 강의 및 실습 2시간 + 퀴즈 1시간\n",
    "**수준**: 중급\n",
    "\n",
    "---\n",
    "\n",
    "## 🎯 학습 목표\n",
    "\n",
    "이 수업을 마친 후 학생들은 다음을 할 수 있습니다:\n",
    "\n",
    "- 모듈(Module)이 무엇이고 왜 유용한지 이해하기\n",
    "- import 문을 사용하여 외부 코드에 접근하기\n",
    "- 파이썬의 표준 라이브러리 모듈(Standard Library Module) 활용하기\n",
    "- 자신만의 사용자 정의 모듈(Custom Module) 생성 및 사용하기\n",
    "- 모듈러 프로그래밍(Modular Programming)을 사용하여 코드를 효과적으로 구성하기\n",
    "\n",
    "---\n",
    "\n",
    "## 📦 1. 모듈이란 무엇인가?\n",
    "\n",
    "### 모듈의 개념\n",
    "\n",
    "**모듈(Module)**은 다른 프로그램에서 사용할 수 있는 파이썬 코드가 포함된 파일입니다. 모듈을 **도구상자**처럼 생각해보세요 - 각각 필요할 때 사용할 수 있는 특정 도구(함수)들이 들어있습니다.\n",
    "\n",
    "### 모듈을 사용하는 이유\n",
    "\n",
    "#### 1. 코드 재사용성 (Code Reusability)\n",
    "\n",
    "같은 함수를 반복해서 작성하는 대신, 모듈에 저장하여 여러 프로그램에서 사용할 수 있습니다.\n",
    "\n",
    "#### 2. 코드 구성 (Code Organization)\n",
    "\n",
    "모듈은 관련된 함수들을 함께 그룹화하여 코드를 체계적으로 유지하는 데 도움이 됩니다.\n",
    "\n",
    "#### 3. 협업 (Collaboration)\n",
    "\n",
    "다른 프로그래머들이 서로 다른 모듈에서 작업한 후 이를 결합할 수 있습니다.\n",
    "\n",
    "### 실생활 비유\n",
    "\n",
    "모듈은 마트의 **각 코너**와 같습니다:\n",
    "\n",
    "```\n",
    "수학 관련 코너 (math 모듈):\n",
    "- 계산기, 공학계산기, 각도기\n",
    "- 계산 관련 모든 도구들\n",
    "\n",
    "게임 코너 (random 모듈):\n",
    "- 주사위, 카드게임, 복권\n",
    "- 무작위성이 필요한 모든 것들\n",
    "\n",
    "시계 코너 (datetime 모듈):\n",
    "- 시계, 달력, 타이머\n",
    "- 시간 관련 모든 도구들\n",
    "```\n",
    "\n",
    "### 모듈의 종류\n",
    "\n",
    "#### 1. 내장 모듈 (Built-in Modules)\n",
    "\n",
    "파이썬과 함께 자동으로 제공되는 모듈들\n",
    "\n",
    "#### 2. 표준 라이브러리 모듈 (Standard Library Modules)\n",
    "\n",
    "파이썬 설치와 함께 포함된 추가 모듈들\n",
    "\n",
    "#### 3. 서드파티 모듈 (Third-party Modules)\n",
    "\n",
    "다른 개발자들이 만든 설치 가능한 모듈들\n",
    "\n",
    "#### 4. 사용자 정의 모듈 (Custom Modules)\n",
    "\n",
    "직접 만드는 모듈들\n",
    "\n",
    "---\n",
    "\n",
    "## 📥 2. import 문 사용법\n",
    "\n",
    "### 기본 import 문법"
   ]
  },
  {
   "cell_type": "code",
   "execution_count": null,
   "id": "8138a27e",
   "metadata": {},
   "outputs": [],
   "source": [
    "import 모듈이름"
   ]
  },
  {
   "cell_type": "markdown",
   "id": "f9f5dd19",
   "metadata": {},
   "source": [
    "### 다양한 import 방법\n",
    "\n",
    "#### 방법 1: 전체 모듈 import"
   ]
  },
  {
   "cell_type": "code",
   "execution_count": null,
   "id": "b7e10252",
   "metadata": {},
   "outputs": [],
   "source": [
    "import math\n",
    "\n",
    "# 모듈 이름과 함께 함수 사용\n",
    "결과 = math.sqrt(16)\n",
    "print(f\"16의 제곱근: {결과}\")\n",
    "\n",
    "# 원의 넓이 계산\n",
    "반지름 = 5\n",
    "넓이 = math.pi * 반지름 * 반지름\n",
    "print(f\"원의 넓이: {넓이}\")"
   ]
  },
  {
   "cell_type": "markdown",
   "id": "6001c8ae",
   "metadata": {},
   "source": [
    "#### 방법 2: 특정 함수만 import"
   ]
  },
  {
   "cell_type": "code",
   "execution_count": null,
   "id": "cd3ef4b8",
   "metadata": {},
   "outputs": [],
   "source": [
    "from math import sqrt, pi\n",
    "\n",
    "# 모듈 이름 없이 함수 직접 사용\n",
    "결과 = sqrt(25)\n",
    "print(f\"25의 제곱근: {결과}\")\n",
    "\n",
    "넓이 = pi * 3 * 3\n",
    "print(f\"원의 넓이: {넓이}\")"
   ]
  },
  {
   "cell_type": "markdown",
   "id": "02beaa98",
   "metadata": {},
   "source": [
    "#### 방법 3: 별칭(Alias)으로 import"
   ]
  },
  {
   "cell_type": "code",
   "execution_count": null,
   "id": "e286e8ce",
   "metadata": {},
   "outputs": [],
   "source": [
    "import math as m\n",
    "\n",
    "# 짧은 이름 사용\n",
    "결과 = m.sqrt(9)\n",
    "print(f\"9의 제곱근: {결과}\")"
   ]
  },
  {
   "cell_type": "markdown",
   "id": "06d2b55d",
   "metadata": {},
   "source": [
    "#### 방법 4: 모든 것 import (초보자에게는 권장하지 않음)"
   ]
  },
  {
   "cell_type": "code",
   "execution_count": null,
   "id": "d8ae574a",
   "metadata": {},
   "outputs": [],
   "source": [
    "from math import *\n",
    "\n",
    "# 모든 함수를 직접 사용 가능\n",
    "결과 = sqrt(36)\n",
    "넓이 = pi * 2 * 2\n",
    "print(f\"결과: {결과}, 넓이: {넓이}\")"
   ]
  },
  {
   "cell_type": "markdown",
   "id": "6914a158",
   "metadata": {},
   "source": [
    "### import 방법 비교 예시"
   ]
  },
  {
   "cell_type": "code",
   "execution_count": null,
   "id": "f55ba2eb",
   "metadata": {},
   "outputs": [],
   "source": [
    "# 다양한 import 방법 시연\n",
    "print(\"=== IMPORT 방법 데모 ===\")\n",
    "\n",
    "# 방법 1: 표준 import\n",
    "import math\n",
    "print(f\"math.sqrt(16) 사용: {math.sqrt(16)}\")\n",
    "\n",
    "# 방법 2: 특정 함수 import\n",
    "from math import pow\n",
    "print(f\"pow(2, 3) 사용: {pow(2, 3)}\")\n",
    "\n",
    "# 방법 3: 별칭으로 import\n",
    "import random as rand\n",
    "print(f\"랜덤 숫자: {rand.randint(1, 10)}\")\n",
    "\n",
    "print(\"=== 데모 완료 ===\")"
   ]
  },
  {
   "cell_type": "markdown",
   "id": "fe20ee3e",
   "metadata": {},
   "source": [
    "---\n",
    "\n",
    "## 📚 3. 표준 라이브러리 소개\n",
    "\n",
    "### math 모듈 (수학 모듈)\n",
    "\n",
    "**math** 모듈은 수학 함수와 상수들을 제공합니다.\n",
    "\n",
    "#### 주요 math 함수들"
   ]
  },
  {
   "cell_type": "code",
   "execution_count": null,
   "id": "e5fd1b62",
   "metadata": {},
   "outputs": [],
   "source": [
    "import math\n",
    "\n",
    "print(\"=== MATH 모듈 예시 ===\")\n",
    "\n",
    "# 기본 함수들\n",
    "print(f\"16의 제곱근: {math.sqrt(16)}\")\n",
    "print(f\"2의 3제곱: {math.pow(2, 3)}\")\n",
    "print(f\"4.3의 올림: {math.ceil(4.3)}\")\n",
    "print(f\"4.7의 내림: {math.floor(4.7)}\")\n",
    "\n",
    "# 상수들\n",
    "print(f\"파이 값: {math.pi}\")\n",
    "print(f\"자연상수 e: {math.e}\")\n",
    "\n",
    "# 삼각함수 (도를 라디안으로 먼저 변환)\n",
    "각도_도 = 90\n",
    "각도_라디안 = math.radians(각도_도)\n",
    "print(f\"90도의 사인값: {math.sin(각도_라디안)}\")"
   ]
  },
  {
   "cell_type": "markdown",
   "id": "3adb1725",
   "metadata": {},
   "source": [
    "### random 모듈 (랜덤 모듈)\n",
    "\n",
    "**random** 모듈은 난수를 생성하고 무작위 선택을 합니다.\n",
    "\n",
    "#### 주요 random 함수들"
   ]
  },
  {
   "cell_type": "code",
   "execution_count": null,
   "id": "c9e4aab2",
   "metadata": {},
   "outputs": [],
   "source": [
    "import random\n",
    "\n",
    "print(\"=== RANDOM 모듈 예시 ===\")\n",
    "\n",
    "# 랜덤 정수\n",
    "print(f\"1-10 사이 랜덤 정수: {random.randint(1, 10)}\")\n",
    "print(f\"1-100 사이 랜덤 정수: {random.randint(1, 100)}\")\n",
    "\n",
    "# 랜덤 실수\n",
    "print(f\"0-1 사이 랜덤 실수: {random.random()}\")\n",
    "print(f\"1-10 사이 랜덤 실수: {random.uniform(1, 10)}\")\n",
    "\n",
    "# 랜덤 선택\n",
    "색깔들 = [\"빨강\", \"파랑\", \"초록\", \"노랑\"]\n",
    "print(f\"랜덤 색깔: {random.choice(색깔들)}\")\n",
    "\n",
    "# 리스트 섞기\n",
    "숫자들 = [1, 2, 3, 4, 5]\n",
    "random.shuffle(숫자들)\n",
    "print(f\"섞인 숫자들: {숫자들}\")"
   ]
  },
  {
   "cell_type": "markdown",
   "id": "e52d8c78",
   "metadata": {},
   "source": [
    "### datetime 모듈 (날짜시간 모듈)\n",
    "\n",
    "**datetime** 모듈은 날짜와 시간 작업에 도움을 줍니다.\n",
    "\n",
    "#### 주요 datetime 함수들"
   ]
  },
  {
   "cell_type": "code",
   "execution_count": null,
   "id": "3c4ba7b0",
   "metadata": {},
   "outputs": [],
   "source": [
    "import datetime\n",
    "\n",
    "print(\"=== DATETIME 모듈 예시 ===\")\n",
    "\n",
    "# 현재 날짜와 시간\n",
    "지금 = datetime.datetime.now()\n",
    "print(f\"현재 날짜와 시간: {지금}\")\n",
    "\n",
    "# 오늘 날짜만\n",
    "오늘 = datetime.date.today()\n",
    "print(f\"오늘 날짜: {오늘}\")\n",
    "\n",
    "# 날짜 형식 지정\n",
    "형식_날짜 = 지금.strftime(\"%Y-%m-%d %H:%M:%S\")\n",
    "print(f\"형식 지정된 날짜: {형식_날짜}\")\n",
    "\n",
    "# 간단한 형식\n",
    "간단_날짜 = 지금.strftime(\"%Y년 %m월 %d일\")\n",
    "print(f\"간단한 형식: {간단_날짜}\")\n",
    "\n",
    "# 요일 이름\n",
    "요일_이름 = 지금.strftime(\"%A\")\n",
    "print(f\"오늘은: {요일_이름}\")"
   ]
  },
  {
   "cell_type": "markdown",
   "id": "a9df6b5c",
   "metadata": {},
   "source": [
    "### 실용적인 표준 라이브러리 활용 예시"
   ]
  },
  {
   "cell_type": "code",
   "execution_count": null,
   "id": "a015fa3a",
   "metadata": {},
   "outputs": [],
   "source": [
    "# 여러 모듈을 조합한 유용한 프로그램\n",
    "import math\n",
    "import random\n",
    "import datetime\n",
    "\n",
    "def 일일_수학_퀴즈():\n",
    "    \"\"\"여러 모듈을 사용한 일일 수학 퀴즈 생성\"\"\"\n",
    "  \n",
    "    # 현재 날짜 가져오기\n",
    "    오늘 = datetime.date.today().strftime(\"%Y년 %m월 %d일\")\n",
    "    print(f\"=== 일일 수학 퀴즈 - {오늘} ===\")\n",
    "  \n",
    "    # 문제용 랜덤 숫자 생성\n",
    "    숫자1 = random.randint(1, 20)\n",
    "    숫자2 = random.randint(1, 20)\n",
    "  \n",
    "    print(f\"문제 1: {숫자1} + {숫자2}는?\")\n",
    "    print(f\"정답: {숫자1 + 숫자2}\")\n",
    "  \n",
    "    # 제곱근 문제\n",
    "    완전제곱수 = random.choice([4, 9, 16, 25, 36, 49])\n",
    "    print(f\"문제 2: {완전제곱수}의 제곱근은?\")\n",
    "    print(f\"정답: {int(math.sqrt(완전제곱수))}\")\n",
    "  \n",
    "    # 원의 넓이 문제\n",
    "    반지름 = random.randint(2, 8)\n",
    "    넓이 = math.pi * 반지름 * 반지름\n",
    "    print(f\"문제 3: 반지름이 {반지름}인 원의 넓이는?\")\n",
    "    print(f\"정답: {넓이:.2f}\")\n",
    "  \n",
    "    print(\"퀴즈 완료!\")\n",
    "\n",
    "# 퀴즈 실행\n",
    "일일_수학_퀴즈()"
   ]
  },
  {
   "cell_type": "markdown",
   "id": "e7ef0738",
   "metadata": {},
   "source": [
    "---\n",
    "\n",
    "## 🔨 4. 사용자 정의 모듈 만들기\n",
    "\n",
    "### 사용자 정의 모듈이란?\n",
    "\n",
    "**사용자 정의 모듈**은 다른 프로그램에서 사용할 수 있는 자신만의 함수와 변수로 만든 파이썬 파일입니다.\n",
    "\n",
    "### 단계별 모듈 생성\n",
    "\n",
    "#### 1단계: 모듈 파일 생성\n",
    "\n",
    "`my_utilities.py`라는 파일을 만드세요:"
   ]
  },
  {
   "cell_type": "code",
   "execution_count": null,
   "id": "5b494eab",
   "metadata": {},
   "outputs": [],
   "source": [
    "# my_utilities.py - 유용한 함수들의 모음\n",
    "\n",
    "def 사용자_인사(이름):\n",
    "    \"\"\"사용자에게 친근한 메시지로 인사\"\"\"\n",
    "    return f\"안녕하세요, {이름}님! 우리 프로그램에 오신 것을 환영합니다!\"\n",
    "\n",
    "def 평균_계산(숫자들):\n",
    "    \"\"\"숫자 리스트의 평균 계산\"\"\"\n",
    "    if len(숫자들) == 0:\n",
    "        return 0\n",
    "    return sum(숫자들) / len(숫자들)\n",
    "\n",
    "def 짝수_확인(숫자):\n",
    "    \"\"\"숫자가 짝수인지 확인\"\"\"\n",
    "    return 숫자 % 2 == 0\n",
    "\n",
    "def 이니셜_추출(전체이름):\n",
    "    \"\"\"전체 이름에서 이니셜 추출\"\"\"\n",
    "    이름들 = 전체이름.split()\n",
    "    이니셜 = \"\"\n",
    "    for 이름 in 이름들:\n",
    "        이니셜 += 이름[0].upper()\n",
    "    return 이니셜\n",
    "\n",
    "# 모듈 상수\n",
    "파이 = 3.14159\n",
    "인사_메시지 = \"유틸리티 모듈을 사용해 주셔서 감사합니다!\"\n",
    "\n",
    "# 모듈이 import될 때 실행되는 코드\n",
    "print(\"my_utilities 모듈이 성공적으로 로드되었습니다!\")"
   ]
  },
  {
   "cell_type": "markdown",
   "id": "c5452661",
   "metadata": {},
   "source": [
    "#### 2단계: 모듈 사용하기\n",
    "\n",
    "`main_program.py`라는 메인 프로그램 파일을 만드세요:"
   ]
  },
  {
   "cell_type": "code",
   "execution_count": null,
   "id": "0b06f027",
   "metadata": {},
   "outputs": [],
   "source": [
    "# main_program.py - 사용자 정의 모듈 사용\n",
    "\n",
    "import my_utilities\n",
    "\n",
    "print(\"=== 사용자 정의 모듈 테스트 ===\")\n",
    "\n",
    "# 인사 함수 테스트\n",
    "메시지 = my_utilities.사용자_인사(\"김철수\")\n",
    "print(메시지)\n",
    "\n",
    "# 평균 계산 테스트\n",
    "점수들 = [85, 92, 78, 96, 88]\n",
    "평균 = my_utilities.평균_계산(점수들)\n",
    "print(f\"평균 점수: {평균}\")\n",
    "\n",
    "# 짝수 확인 테스트\n",
    "숫자 = 42\n",
    "if my_utilities.짝수_확인(숫자):\n",
    "    print(f\"{숫자}는 짝수입니다\")\n",
    "else:\n",
    "    print(f\"{숫자}는 홀수입니다\")\n",
    "\n",
    "# 이니셜 추출 테스트\n",
    "이름 = \"김철수 박영희\"\n",
    "이니셜 = my_utilities.이니셜_추출(이름)\n",
    "print(f\"{이름}의 이니셜: {이니셜}\")\n",
    "\n",
    "# 모듈 상수 사용\n",
    "print(f\"모듈의 파이 값: {my_utilities.파이}\")\n",
    "print(my_utilities.인사_메시지)"
   ]
  },
  {
   "cell_type": "markdown",
   "id": "6dbfe7df",
   "metadata": {},
   "source": [
    "### 사용자 정의 모듈의 다른 import 방법들"
   ]
  },
  {
   "cell_type": "code",
   "execution_count": null,
   "id": "4124bc22",
   "metadata": {},
   "outputs": [],
   "source": [
    "# 방법 1: 특정 함수만 import\n",
    "from my_utilities import 사용자_인사, 평균_계산\n",
    "\n",
    "메시지 = 사용자_인사(\"이영희\")\n",
    "평균 = 평균_계산([10, 20, 30])\n",
    "print(f\"{메시지} 당신의 평균: {평균}\")\n",
    "\n",
    "# 방법 2: 별칭으로 import\n",
    "import my_utilities as 유틸\n",
    "\n",
    "메시지 = 유틸.사용자_인사(\"최민수\")\n",
    "print(메시지)\n",
    "\n",
    "# 방법 3: 특정 함수를 별칭으로 import\n",
    "from my_utilities import 이니셜_추출 as 이니셜\n",
    "\n",
    "이니셜 = 이니셜(\"홍길동 성춘향\")\n",
    "print(f\"이니셜: {이니셜}\")"
   ]
  },
  {
   "cell_type": "markdown",
   "id": "679792e7",
   "metadata": {},
   "source": [
    "### 모듈 작성 모범 사례\n",
    "\n",
    "#### 1. 명확한 함수 이름"
   ]
  },
  {
   "cell_type": "code",
   "execution_count": null,
   "id": "30db8646",
   "metadata": {},
   "outputs": [],
   "source": [
    "# 좋은 예 - 명확하고 설명적\n",
    "def 원의_넓이_계산(반지름):\n",
    "    return 3.14159 * 반지름 * 반지름\n",
    "\n",
    "# 나쁜 예 - 불명확\n",
    "def 계산(r):\n",
    "    return 3.14159 * r * r"
   ]
  },
  {
   "cell_type": "markdown",
   "id": "074c526c",
   "metadata": {},
   "source": [
    "#### 2. 문서화 추가"
   ]
  },
  {
   "cell_type": "code",
   "execution_count": null,
   "id": "8fea3880",
   "metadata": {},
   "outputs": [],
   "source": [
    "def 온도_변환(섭씨):\n",
    "    \"\"\"\n",
    "    섭씨 온도를 화씨로 변환\n",
    "  \n",
    "    매개변수:\n",
    "        섭씨 (float): 섭씨 온도\n",
    "      \n",
    "    반환값:\n",
    "        float: 화씨 온도\n",
    "    \"\"\"\n",
    "    return (섭씨 * 9/5) + 32"
   ]
  },
  {
   "cell_type": "markdown",
   "id": "6493e417",
   "metadata": {},
   "source": [
    "#### 3. 관련 함수들 그룹화"
   ]
  },
  {
   "cell_type": "code",
   "execution_count": null,
   "id": "e7db2457",
   "metadata": {},
   "outputs": [],
   "source": [
    "# math_helpers.py - 모든 수학 관련 함수들\n",
    "def 숫자_더하기(a, b):\n",
    "    return a + b\n",
    "\n",
    "def 숫자_곱하기(a, b):\n",
    "    return a * b\n",
    "\n",
    "def 백분율_계산(부분, 전체):\n",
    "    return (부분 / 전체) * 100"
   ]
  },
  {
   "cell_type": "markdown",
   "id": "087587b4",
   "metadata": {},
   "source": [
    "---\n",
    "\n",
    "## 🔧 실습\n",
    "\n",
    "### 실습 1: 개인 유틸리티 모듈 만들기\n",
    "\n",
    "**문제**: 기본 함수들로 간단한 유틸리티 모듈을 만드세요.\n",
    "\n",
    "**해답**:\n",
    "\n",
    "먼저 `my_tools.py`를 만드세요:"
   ]
  },
  {
   "cell_type": "code",
   "execution_count": null,
   "id": "1fa18dc2",
   "metadata": {},
   "outputs": [],
   "source": [
    "# my_tools.py - 간단한 유틸리티 함수들\n",
    "\n",
    "def 인사(이름):\n",
    "    \"\"\"사람에게 인사\"\"\"\n",
    "    return f\"안녕하세요, {이름}님!\"\n",
    "\n",
    "def 숫자_더하기(a, b):\n",
    "    \"\"\"두 숫자 더하기\"\"\"\n",
    "    return a + b\n",
    "\n",
    "def 짝수인가(숫자):\n",
    "    \"\"\"숫자가 짝수인지 확인\"\"\"\n",
    "    return 숫자 % 2 == 0\n",
    "\n",
    "print(\"my_tools 모듈이 로드되었습니다!\")"
   ]
  },
  {
   "cell_type": "markdown",
   "id": "41d0e565",
   "metadata": {},
   "source": [
    "그다음 `test_tools.py`를 만드세요:"
   ]
  },
  {
   "cell_type": "code",
   "execution_count": null,
   "id": "f93f5dd6",
   "metadata": {},
   "outputs": [],
   "source": [
    "# test_tools.py - 유틸리티 모듈 테스트\n",
    "\n",
    "import my_tools\n",
    "\n",
    "# 함수들 테스트\n",
    "print(my_tools.인사(\"김영수\"))\n",
    "print(f\"5 + 3 = {my_tools.숫자_더하기(5, 3)}\")\n",
    "print(f\"4는 짝수인가? {my_tools.짝수인가(4)}\")\n",
    "print(f\"7은 짝수인가? {my_tools.짝수인가(7)}\")"
   ]
  },
  {
   "cell_type": "markdown",
   "id": "ae01ff76",
   "metadata": {},
   "source": [
    "### 실습 2: 랜덤 게임 프로그램\n",
    "\n",
    "**문제**: random 모듈을 사용하여 간단한 숫자 맞히기 게임을 만드세요.\n",
    "\n",
    "**해답**:"
   ]
  },
  {
   "cell_type": "code",
   "execution_count": null,
   "id": "1238ef70",
   "metadata": {},
   "outputs": [],
   "source": [
    "# guessing_game.py - 간단한 숫자 맞히기 게임\n",
    "\n",
    "import random\n",
    "\n",
    "def 숫자_맞히기_게임():\n",
    "    \"\"\"간단한 숫자 맞히기 게임\"\"\"\n",
    "    print(\"=== 숫자 맞히기 게임 ===\")\n",
    "  \n",
    "    # 컴퓨터가 1-10 사이의 랜덤 숫자 선택\n",
    "    비밀_숫자 = random.randint(1, 10)\n",
    "  \n",
    "    print(\"1부터 10 사이의 숫자를 생각하고 있어요\")\n",
    "    추측 = int(input(\"숫자를 맞춰보세요: \"))\n",
    "  \n",
    "    if 추측 == 비밀_숫자:\n",
    "        print(f\"정답! 숫자는 {비밀_숫자}였습니다\")\n",
    "    else:\n",
    "        print(f\"틀렸어요! 숫자는 {비밀_숫자}였습니다\")\n",
    "\n",
    "def 주사위_게임():\n",
    "    \"\"\"간단한 주사위 굴리기\"\"\"\n",
    "    print(\"\\n=== 주사위 게임 ===\")\n",
    "    input(\"엔터를 눌러 주사위를 굴리세요...\")\n",
    "  \n",
    "    주사위1 = random.randint(1, 6)\n",
    "    주사위2 = random.randint(1, 6)\n",
    "    합계 = 주사위1 + 주사위2\n",
    "  \n",
    "    print(f\"주사위 결과: {주사위1}과 {주사위2}\")\n",
    "    print(f\"합계: {합계}\")\n",
    "  \n",
    "    if 합계 == 7:\n",
    "        print(\"럭키 세븐! 당신이 이겼습니다!\")\n",
    "    else:\n",
    "        print(\"다시 시도해보세요!\")\n",
    "\n",
    "# 게임 실행\n",
    "숫자_맞히기_게임()\n",
    "주사위_게임()"
   ]
  },
  {
   "cell_type": "markdown",
   "id": "dc426c69",
   "metadata": {},
   "source": [
    "### 실습 3: 날짜/시간 프로그램\n",
    "\n",
    "**문제**: datetime 모듈을 사용하여 현재 날짜와 시간 정보를 보여주는 간단한 프로그램을 만드세요.\n",
    "\n",
    "**해답**:"
   ]
  },
  {
   "cell_type": "code",
   "execution_count": null,
   "id": "2effe082",
   "metadata": {},
   "outputs": [],
   "source": [
    "# datetime_info.py - 간단한 날짜와 시간 프로그램\n",
    "\n",
    "import datetime\n",
    "\n",
    "def 현재_정보_보기():\n",
    "    \"\"\"현재 날짜와 시간 보기\"\"\"\n",
    "    지금 = datetime.datetime.now()\n",
    "    오늘 = datetime.date.today()\n",
    "  \n",
    "    print(\"=== 현재 날짜 & 시간 ===\")\n",
    "    print(f\"오늘 날짜: {오늘}\")\n",
    "    print(f\"현재 시간: {지금.strftime('%H:%M:%S')}\")\n",
    "    print(f\"요일: {지금.strftime('%A')}\")\n",
    "    print(f\"월: {지금.strftime('%B')}\")\n",
    "\n",
    "def 나이_계산(출생년도):\n",
    "    \"\"\"출생년도로 나이 계산\"\"\"\n",
    "    현재_년도 = datetime.date.today().year\n",
    "    나이 = 현재_년도 - 출생년도\n",
    "    print(f\"\\n{출생년도}년생이라면, 현재 나이는 {나이}세입니다\")\n",
    "\n",
    "def 신정까지_날짜():\n",
    "    \"\"\"신정까지 남은 날짜 계산\"\"\"\n",
    "    오늘 = datetime.date.today()\n",
    "    다음_년도 = 오늘.year + 1\n",
    "    신정 = datetime.date(다음_년도, 1, 1)\n",
    "    남은_날 = (신정 - 오늘).days\n",
    "    print(f\"\\n신정까지 남은 날짜: {남은_날}일\")\n",
    "\n",
    "# 함수들 실행\n",
    "현재_정보_보기()\n",
    "나이_계산(2000)\n",
    "신정까지_날짜()"
   ]
  },
  {
   "cell_type": "markdown",
   "id": "a9321888",
   "metadata": {},
   "source": [
    "---\n",
    "\n",
    "## 📝 퀴즈\n",
    "\n",
    "### 퀴즈 1: math 모듈 사용\n",
    "\n",
    "**문제**: math 모듈을 사용하여 16의 제곱근을 구하고 출력하세요. 또한 math.pi를 사용하여 반지름이 5인 원의 넓이를 계산하고 출력하세요.\n",
    "\n",
    "**답을 여기에 작성하세요**:"
   ]
  },
  {
   "cell_type": "code",
   "execution_count": null,
   "id": "1bd3d417",
   "metadata": {},
   "outputs": [],
   "source": [
    "# 여기에 코드를 작성하세요"
   ]
  },
  {
   "cell_type": "markdown",
   "id": "3f0ca378",
   "metadata": {},
   "source": [
    "### 퀴즈 2: 랜덤 숫자 생성\n",
    "\n",
    "**문제**: random 모듈을 사용하여 1-100 사이의 랜덤 숫자 3개를 리스트로 생성하세요. 또한 주어진 과일 리스트 [\"사과\", \"바나나\", \"오렌지\", \"포도\", \"딸기\"]에서 하나의 항목을 무작위로 선택하여 반환하는 함수를 만드세요.\n",
    "\n",
    "**답을 여기에 작성하세요**:"
   ]
  },
  {
   "cell_type": "code",
   "execution_count": null,
   "id": "66317330",
   "metadata": {},
   "outputs": [],
   "source": [
    "# 여기에 코드를 작성하세요"
   ]
  },
  {
   "cell_type": "markdown",
   "id": "541ae1c8",
   "metadata": {},
   "source": [
    "### 퀴즈 3: 사용자 정의 모듈 만들기\n",
    "\n",
    "**문제**: 산술 함수들(더하기, 빼기, 곱하기, 나누기)이 있는 `calculator.py` 모듈을 만들고 메인 프로그램에서 import하여 사용하세요. 모듈에는 두 개의 매개변수를 받아 결과를 반환하는 함수들이 포함되어야 합니다. 메인 프로그램에서 모든 함수를 테스트하세요.\n",
    "\n",
    "**답을 여기에 작성하세요**:"
   ]
  },
  {
   "cell_type": "code",
   "execution_count": null,
   "id": "fda0afc7",
   "metadata": {},
   "outputs": [],
   "source": [
    "# calculator.py 모듈 코드\n",
    "\n",
    "\n",
    "# 메인 프로그램 코드\n"
   ]
  },
  {
   "cell_type": "markdown",
   "id": "62de5da2",
   "metadata": {},
   "source": [
    "---\n",
    "\n",
    "## 📖 참고 자료\n",
    "\n",
    "1. **파이썬 모듈 튜토리얼**: https://docs.python.org/ko/3/tutorial/modules.html\n",
    "\n",
    "   - 모듈과 패키지에 대한 공식 파이썬 문서\n",
    "2. **파이썬 표준 라이브러리**: https://docs.python.org/ko/3/library/\n",
    "\n",
    "   - 파이썬 내장 모듈에 대한 완전한 참조\n",
    "3. **Import 문 가이드**: https://realpython.com/python-import/\n",
    "\n",
    "   - 파이썬에서 모듈을 가져오는 포괄적인 가이드\n",
    "4. **파이썬 모듈 생성**: https://www.programiz.com/python-programming/modules\n",
    "\n",
    "   - 사용자 정의 모듈 생성에 대한 단계별 튜토리얼\n",
    "\n",
    "---\n",
    "\n",
    "## 💡 핵심 포인트\n",
    "\n",
    "### 기억할 점\n",
    "\n",
    "1. **모듈은 시간을 절약**해줍니다 - 미리 작성된 함수를 제공\n",
    "2. **필요한 것만 import**하여 프로그램을 효율적으로 유지\n",
    "3. **표준 라이브러리 모듈들** (math, random, datetime)은 매우 유용\n",
    "4. **자신만의 모듈을 만들어** 코드를 구성하고 재사용\n",
    "\n",
    "### 일반적인 import 패턴\n",
    "\n",
    "- `import 모듈이름` - 전체 모듈 import\n",
    "- `from 모듈이름 import 함수이름` - 특정 함수 import\n",
    "- `import 모듈이름 as 별칭` - 짧은 이름으로 import\n",
    "\n",
    "### 모듈 구성 팁\n",
    "\n",
    "- 관련 함수들을 함께 유지\n",
    "- 명확하고 설명적인 이름 사용\n",
    "- 함수에 문서화 추가\n",
    "- 사용하기 전에 모듈 테스트\n",
    "\n",
    "---\n",
    "\n",
    "## 📋 숙제\n",
    "\n",
    "1. 3개 실습을 모두 완료하고 다양한 모듈 실험해보기\n",
    "2. 최소 5개의 유용한 함수가 있는 자신만의 유틸리티 모듈 만들기\n",
    "3. 파이썬 표준 라이브러리를 탐색하고 새로운 모듈 2개 시도해보기\n",
    "4. 기존 모듈로 다양한 import 방법 연습하기\n",
    "\n",
    "**모듈은 파이썬 프로그램을 더 강력하고 체계적으로 만들어줍니다!** 📦"
   ]
  }
 ],
 "metadata": {
  "jupytext": {
   "cell_metadata_filter": "-all",
   "main_language": "python",
   "notebook_metadata_filter": "-all"
  }
 },
 "nbformat": 4,
 "nbformat_minor": 5
}
