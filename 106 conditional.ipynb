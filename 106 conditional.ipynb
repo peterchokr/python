{
 "cells": [
  {
   "cell_type": "markdown",
   "id": "1ff819ee",
   "metadata": {
    "lines_to_next_cell": 0
   },
   "source": [
    "# 조건문 (Conditional Statements)\n",
    "\n",
    "**수업 시간**: 3시간  \n",
    "**구성**: 강의 및 실습 2시간 + 퀴즈 1시간  \n",
    "**수준**: 초급  \n",
    "**선수 학습**: 변수, 데이터 타입, 연산자, 입출력\n",
    "\n",
    "---\n",
    "\n",
    "## 🎯 학습 목표\n",
    "\n",
    "이 수업을 마친 후 학생들은 다음을 할 수 있습니다:\n",
    "\n",
    "- 기본적인 if, elif, else 문 작성하기\n",
    "- 조건에서 비교 및 논리 연산자 사용하기\n",
    "- 간단한 의사결정 프로그램 생성하기\n",
    "- 여러 조건을 효과적으로 결합하기\n",
    "\n",
    "---\n",
    "\n",
    "## 🤔 1. 조건문이란 무엇인가?\n",
    "\n",
    "**조건문(Conditional Statements)**은 프로그램이 다양한 조건에 따라 결정을 내릴 수 있게 해줍니다.\n",
    "\n",
    "### 실생활 예시\n",
    "```\n",
    "일상 결정:\n",
    "만약 비가 온다면 → 우산을 가져간다\n",
    "그렇지 않으면 → 선글라스를 착용한다\n",
    "\n",
    "파이썬 코드:\n",
    "if weather == \"rainy\":\n",
    "    print(\"우산을 가져가세요\")\n",
    "else:\n",
    "    print(\"선글라스를 착용하세요\")\n",
    "```\n",
    "\n",
    "---\n",
    "\n",
    "## 📋 2. 기본 if 문\n",
    "\n",
    "### 문법 (Syntax)"
   ]
  },
  {
   "cell_type": "code",
   "execution_count": null,
   "id": "bbdbd322",
   "metadata": {},
   "outputs": [],
   "source": [
    "if 조건:\n",
    "    # 조건이 True일 때 실행할 코드\n",
    "    명령문"
   ]
  },
  {
   "cell_type": "markdown",
   "id": "44ae285c",
   "metadata": {
    "lines_to_next_cell": 0
   },
   "source": [
    "### 중요 규칙\n",
    "- **콜론(:)** - 조건 뒤에 반드시 붙여야 함\n",
    "- **들여쓰기(Indentation)** - if 블록 내부 코드는 반드시 들여쓰기\n",
    "\n",
    "### 간단한 예시\n",
    "\n",
    "#### 예시 1: 나이 확인"
   ]
  },
  {
   "cell_type": "code",
   "execution_count": null,
   "id": "6b94d351",
   "metadata": {},
   "outputs": [],
   "source": [
    "age = int(input(\"나이를 입력하세요: \"))\n",
    "\n",
    "if age >= 18:\n",
    "    print(\"성인입니다\")\n",
    "    print(\"투표할 수 있습니다\")\n",
    "\n",
    "print(\"감사합니다!\")"
   ]
  },
  {
   "cell_type": "markdown",
   "id": "c02be0e4",
   "metadata": {
    "lines_to_next_cell": 0
   },
   "source": [
    "#### 예시 2: 비밀번호 확인"
   ]
  },
  {
   "cell_type": "code",
   "execution_count": null,
   "id": "96c7a3dd",
   "metadata": {},
   "outputs": [],
   "source": [
    "password = input(\"비밀번호를 입력하세요: \")\n",
    "\n",
    "if len(password) >= 8:\n",
    "    print(\"강한 비밀번호입니다\")\n",
    "\n",
    "print(\"로그인 완료\")"
   ]
  },
  {
   "cell_type": "markdown",
   "id": "11695152",
   "metadata": {
    "lines_to_next_cell": 0
   },
   "source": [
    "---\n",
    "\n",
    "## ⚖️ 3. if-else 문\n",
    "\n",
    "### 문법"
   ]
  },
  {
   "cell_type": "code",
   "execution_count": null,
   "id": "f496a78a",
   "metadata": {},
   "outputs": [],
   "source": [
    "if 조건:\n",
    "    # True일 때 실행\n",
    "    명령문1\n",
    "else:\n",
    "    # False일 때 실행\n",
    "    명령문2"
   ]
  },
  {
   "cell_type": "markdown",
   "id": "09ed78de",
   "metadata": {
    "lines_to_next_cell": 0
   },
   "source": [
    "### 예시\n",
    "\n",
    "#### 예시 1: 짝수 또는 홀수"
   ]
  },
  {
   "cell_type": "code",
   "execution_count": null,
   "id": "39d7b114",
   "metadata": {},
   "outputs": [],
   "source": [
    "number = int(input(\"숫자를 입력하세요: \"))\n",
    "\n",
    "if number % 2 == 0:\n",
    "    print(f\"{number}는 짝수입니다\")\n",
    "else:\n",
    "    print(f\"{number}는 홀수입니다\")"
   ]
  },
  {
   "cell_type": "markdown",
   "id": "9b244aab",
   "metadata": {
    "lines_to_next_cell": 0
   },
   "source": [
    "#### 예시 2: 합격 또는 불합격"
   ]
  },
  {
   "cell_type": "code",
   "execution_count": null,
   "id": "e407489e",
   "metadata": {},
   "outputs": [],
   "source": [
    "score = int(input(\"점수를 입력하세요: \"))\n",
    "\n",
    "if score >= 60:\n",
    "    print(\"합격입니다!\")\n",
    "else:\n",
    "    print(\"불합격입니다. 다시 도전하세요!\")"
   ]
  },
  {
   "cell_type": "markdown",
   "id": "191392dd",
   "metadata": {
    "lines_to_next_cell": 0
   },
   "source": [
    "---\n",
    "\n",
    "## 🔀 4. elif 문 - 다중 조건 (Multiple Conditions)\n",
    "\n",
    "### 문법"
   ]
  },
  {
   "cell_type": "code",
   "execution_count": null,
   "id": "a8426dd0",
   "metadata": {},
   "outputs": [],
   "source": [
    "if 조건1:\n",
    "    명령문1\n",
    "elif 조건2:\n",
    "    명령문2\n",
    "elif 조건3:\n",
    "    명령문3\n",
    "else:\n",
    "    명령문4"
   ]
  },
  {
   "cell_type": "markdown",
   "id": "52d92208",
   "metadata": {
    "lines_to_next_cell": 0
   },
   "source": [
    "### 예시: 성적 등급 시스템"
   ]
  },
  {
   "cell_type": "code",
   "execution_count": null,
   "id": "f9ce33b2",
   "metadata": {},
   "outputs": [],
   "source": [
    "score = int(input(\"점수를 입력하세요: \"))\n",
    "\n",
    "if score >= 90:\n",
    "    print(\"등급: A\")\n",
    "elif score >= 80:\n",
    "    print(\"등급: B\") \n",
    "elif score >= 70:\n",
    "    print(\"등급: C\")\n",
    "elif score >= 60:\n",
    "    print(\"등급: D\")\n",
    "else:\n",
    "    print(\"등급: F\")\n",
    "\n",
    "print(\"성적 계산 완료\")"
   ]
  },
  {
   "cell_type": "markdown",
   "id": "b2439d33",
   "metadata": {
    "lines_to_next_cell": 0
   },
   "source": [
    "---\n",
    "\n",
    "## 🧠 5. 논리 연산자 (Logical Operators)\n",
    "\n",
    "### 종류\n",
    "- **and**: 두 조건 모두 True여야 함\n",
    "- **or**: 최소 하나의 조건이 True이면 됨\n",
    "- **not**: 조건을 반대로 만듦\n",
    "\n",
    "### 예시\n",
    "\n",
    "#### 예시 1: 'and' 사용"
   ]
  },
  {
   "cell_type": "code",
   "execution_count": null,
   "id": "ae6cc19e",
   "metadata": {},
   "outputs": [],
   "source": [
    "age = int(input(\"나이를 입력하세요: \"))\n",
    "income = int(input(\"소득을 입력하세요: \"))\n",
    "\n",
    "if age >= 18 and income >= 3000:\n",
    "    print(\"대출 승인\")\n",
    "else:\n",
    "    print(\"대출 거부\")"
   ]
  },
  {
   "cell_type": "markdown",
   "id": "4d7dff0a",
   "metadata": {
    "lines_to_next_cell": 0
   },
   "source": [
    "#### 예시 2: 'or' 사용"
   ]
  },
  {
   "cell_type": "code",
   "execution_count": null,
   "id": "56ad129a",
   "metadata": {},
   "outputs": [],
   "source": [
    "day = input(\"요일을 입력하세요: \").lower()\n",
    "\n",
    "if day == \"토요일\" or day == \"일요일\":\n",
    "    print(\"주말입니다!\")\n",
    "else:\n",
    "    print(\"평일입니다\")"
   ]
  },
  {
   "cell_type": "markdown",
   "id": "8f04dc32",
   "metadata": {
    "lines_to_next_cell": 0
   },
   "source": [
    "#### 예시 3: 'not' 사용"
   ]
  },
  {
   "cell_type": "code",
   "execution_count": null,
   "id": "54e08f5b",
   "metadata": {},
   "outputs": [],
   "source": [
    "is_raining = input(\"비가 오나요? (예/아니오): \").lower()\n",
    "\n",
    "if not is_raining == \"예\":\n",
    "    print(\"산책하기 좋은 날씨입니다!\")\n",
    "else:\n",
    "    print(\"실내에 있는 것이 좋겠어요\")"
   ]
  },
  {
   "cell_type": "markdown",
   "id": "2957011e",
   "metadata": {
    "lines_to_next_cell": 0
   },
   "source": [
    "---\n",
    "\n",
    "## 🔧 실습 문제\n",
    "\n",
    "### 실습 1: 성적 등급 판정 프로그램\n",
    "\n",
    "**문제**: 숫자 점수를 바탕으로 문자 등급을 결정하는 프로그램을 만드세요.\n",
    "\n",
    "**요구사항**:\n",
    "- 학생 점수 입력 (0-100)\n",
    "- 등급 부여: A(90점 이상), B(80점 이상), C(70점 이상), D(60점 이상), F(60점 미만)\n",
    "- 결과를 명확하게 표시\n",
    "\n",
    "**정답**:"
   ]
  },
  {
   "cell_type": "code",
   "execution_count": null,
   "id": "c6b8531e",
   "metadata": {},
   "outputs": [],
   "source": [
    "# 성적 등급 판정 프로그램\n",
    "print(\"=== 성적 등급 판정 프로그램 ===\")\n",
    "\n",
    "# 학생 점수 입력\n",
    "score = int(input(\"학생 점수를 입력하세요 (0-100): \"))\n",
    "\n",
    "# 등급 결정\n",
    "if score >= 90:\n",
    "    grade = \"A\"\n",
    "elif score >= 80:\n",
    "    grade = \"B\"\n",
    "elif score >= 70:\n",
    "    grade = \"C\"\n",
    "elif score >= 60:\n",
    "    grade = \"D\"\n",
    "else:\n",
    "    grade = \"F\"\n",
    "\n",
    "# 결과 출력\n",
    "print(f\"점수: {score}점\")\n",
    "print(f\"등급: {grade}\")"
   ]
  },
  {
   "cell_type": "markdown",
   "id": "bcd1cbae",
   "metadata": {
    "lines_to_next_cell": 0
   },
   "source": [
    "### 실습 2: 간단한 계산기\n",
    "\n",
    "**문제**: 두 숫자와 연산자를 입력받아 계산 결과를 보여주는 프로그램을 만드세요.\n",
    "\n",
    "**요구사항**:\n",
    "- 두 숫자 입력받기\n",
    "- 연산자 선택 (+, -, *, /)\n",
    "- 계산 결과 출력하기\n",
    "- 0으로 나누기 오류 처리\n",
    "\n",
    "**정답**:"
   ]
  },
  {
   "cell_type": "code",
   "execution_count": null,
   "id": "65d77baf",
   "metadata": {},
   "outputs": [],
   "source": [
    "# 간단한 계산기\n",
    "print(\"=== 간단한 계산기 ===\")\n",
    "\n",
    "# 숫자 입력\n",
    "num1 = float(input(\"첫 번째 숫자: \"))\n",
    "num2 = float(input(\"두 번째 숫자: \"))\n",
    "\n",
    "# 연산자 입력\n",
    "operator = input(\"연산자를 선택하세요 (+, -, *, /): \")\n",
    "\n",
    "# 계산 및 결과 출력\n",
    "if operator == \"+\":\n",
    "    result = num1 + num2\n",
    "    print(f\"{num1} + {num2} = {result}\")\n",
    "elif operator == \"-\":\n",
    "    result = num1 - num2\n",
    "    print(f\"{num1} - {num2} = {result}\")\n",
    "elif operator == \"*\":\n",
    "    result = num1 * num2\n",
    "    print(f\"{num1} × {num2} = {result}\")\n",
    "elif operator == \"/\":\n",
    "    if num2 != 0:\n",
    "        result = num1 / num2\n",
    "        print(f\"{num1} ÷ {num2} = {result:.2f}\")\n",
    "    else:\n",
    "        print(\"오류: 0으로 나눌 수 없습니다\")\n",
    "else:\n",
    "    print(\"잘못된 연산자입니다\")"
   ]
  },
  {
   "cell_type": "markdown",
   "id": "2e96f57b",
   "metadata": {
    "lines_to_next_cell": 0
   },
   "source": [
    "### 실습 3: 나이별 요금 계산 프로그램\n",
    "\n",
    "**문제**: 나이에 따라 다른 요금을 계산하는 프로그램을 만드세요.\n",
    "\n",
    "**요구사항**:\n",
    "- 기본 요금: 10,000원\n",
    "- 18세 미만: 50% 할인\n",
    "- 65세 이상: 30% 할인\n",
    "- 할인된 최종 요금 계산\n",
    "\n",
    "**정답**:"
   ]
  },
  {
   "cell_type": "code",
   "execution_count": null,
   "id": "5e38640a",
   "metadata": {},
   "outputs": [],
   "source": [
    "# 나이별 요금 계산 프로그램\n",
    "print(\"=== 나이별 요금 계산기 ===\")\n",
    "\n",
    "# 나이 입력\n",
    "age = int(input(\"나이를 입력하세요: \"))\n",
    "\n",
    "# 기본 요금\n",
    "base_price = 10000\n",
    "final_price = base_price\n",
    "\n",
    "print(f\"기본 요금: {base_price:,}원\")\n",
    "\n",
    "# 나이별 할인 적용\n",
    "if age < 18:\n",
    "    final_price = base_price * 0.5  # 50% 할인\n",
    "    print(\"청소년 할인: 50% 할인\")\n",
    "elif age >= 65:\n",
    "    final_price = base_price * 0.7  # 30% 할인\n",
    "    print(\"경로 할인: 30% 할인\")\n",
    "else:\n",
    "    print(\"할인 없음\")\n",
    "\n",
    "# 최종 요금 출력\n",
    "print(f\"최종 요금: {final_price:,.0f}원\")"
   ]
  },
  {
   "cell_type": "markdown",
   "id": "3d111e66",
   "metadata": {},
   "source": [
    "---\n",
    "\n",
    "## 📝 퀴즈\n",
    "\n",
    "### 퀴즈 1: 성적 등급 시스템\n",
    "**문제**: 숫자 점수를 바탕으로 문자 등급을 부여하는 프로그램을 작성하세요:\n",
    "\n",
    "- 90점 이상: \"A\"\n",
    "- 80점 이상: \"B\"  \n",
    "- 70점 이상: \"C\"\n",
    "- 그 외: \"F\"\n",
    "\n",
    "프로그램은 점수를 입력받아 해당하는 문자 등급을 출력해야 합니다.\n",
    "\n",
    "### 퀴즈 2: 연령 범주 분류\n",
    "**문제**: 다음 기준에 따라 나이별로 사람을 분류하는 프로그램을 만드세요:\n",
    "\n",
    "- 18세 미만: \"미성년자\"\n",
    "- 18-64세: \"성인\"\n",
    "- 65세 이상: \"노인\"\n",
    "\n",
    "프로그램은 나이를 입력받아 적절한 범주를 표시해야 합니다.\n",
    "\n",
    "### 퀴즈 3: 윤년 계산기\n",
    "**문제**: 다음 규칙을 사용하여 주어진 연도가 윤년인지 판별하는 프로그램을 작성하세요:\n",
    "\n",
    "- 4로 나누어떨어지면 윤년\n",
    "- 단, 100으로 나누어떨어지면 평년\n",
    "- 단, 400으로 나누어떨어지면 윤년\n",
    "\n",
    "예시:\n",
    "- 2004: 윤년 (4로 나누어떨어지고 100으로는 나누어떨어지지 않음)\n",
    "- 2000: 윤년 (400으로 나누어떨어짐)  \n",
    "- 1900: 평년 (100으로 나누어떨어지지만 400으로는 나누어떨어지지 않음)\n",
    "\n",
    "프로그램은 연도를 입력받아 윤년인지 아닌지 알려줘야 합니다.\n",
    "\n",
    "---\n",
    "\n",
    "## 📖 참고 자료\n",
    "\n",
    "1. **파이썬 공식 튜토리얼**: https://docs.python.org/ko/3/tutorial/controlflow.html\n",
    "   - 제어 흐름에 대한 공식 가이드\n",
    "\n",
    "2. **점프 투 파이썬**: https://wikidocs.net/20\n",
    "   - 한국어로 된 조건문 설명\n",
    "\n",
    "3. **코딩 도장**: https://dojang.io/mod/page/view.php?id=2212\n",
    "   - 파이썬 조건문 상세 설명\n",
    "\n",
    "---\n",
    "\n",
    "## 💡 성공을 위한 팁\n",
    "\n",
    "### 일반적인 실수\n",
    "- **콜론(:) 빼먹기** - if/elif/else 뒤에 콜론 필수\n",
    "- **잘못된 들여쓰기** - 파이썬은 들여쓰기에 매우 엄격함!\n",
    "- **비교에 = 대신 == 사용** - 할당(=)과 비교(==) 구분하기\n",
    "\n",
    "### 연습 팁\n",
    "- **간단히 시작**: 기본 if-else부터 시작하기\n",
    "- **코드 테스트**: 다양한 입력값으로 테스트해보기\n",
    "- **print() 활용**: 변수 내용을 확인하며 디버깅하기\n",
    "\n",
    "### 디버깅 요령\n",
    "- **들여쓰기 확인**: 모든 줄이 올바르게 들여쓰기되었는지 확인\n",
    "- **조건 순서**: elif 조건들의 순서가 논리적인지 확인\n",
    "- **괄호 사용**: 복잡한 조건에서는 괄호로 우선순위 명확히 하기\n",
    "\n",
    "### 한국 학생들을 위한 조언\n",
    "- **영어 키워드 암기**: if, elif, else, and, or, not 등 기본 키워드 숙지\n",
    "- **논리적 사고**: 조건문은 일상의 의사결정과 같은 논리 구조\n",
    "- **단계별 접근**: 복잡한 조건은 단순한 조건들로 나누어 생각하기\n",
    "\n",
    "---\n",
    "\n",
    "## 📋 숙제\n",
    "\n",
    "### 연습 문제\n",
    "1. **요일 분류기**: 요일을 입력받아 평일인지 주말인지 알려주는 프로그램\n",
    "\n",
    "2. **비밀번호 검증기**: 비밀번호가 \"강함\"(8자 이상)인지 \"약함\"인지 확인하는 프로그램\n",
    "\n",
    "3. **온도 조언기**: 온도를 입력받아 적절한 옷차림을 조언하는 프로그램\n",
    "   - 30도 이상: \"반팔과 반바지\"\n",
    "   - 20-29도: \"긴팔 셔츠\"\n",
    "   - 10-19도: \"얇은 재킷\"\n",
    "   - 10도 미만: \"두꺼운 코트\"\n",
    "\n",
    "### 도전 문제\n",
    "**종합 점수 계산기**: 여러 과목의 점수를 입력받아 총점, 평균, 등급을 계산하고 합격/불합격을 판정하는 프로그램을 만드세요.\n",
    "- 3과목 점수 입력\n",
    "- 총점 및 평균 계산\n",
    "- 평균 기준 등급 부여\n",
    "- 평균 60점 이상 합격, 미만 불합격\n",
    "\n",
    "**프로그래밍 여정에 행운을 빕니다!** 🌟"
   ]
  }
 ],
 "metadata": {
  "jupytext": {
   "cell_metadata_filter": "-all",
   "main_language": "python",
   "notebook_metadata_filter": "-all"
  }
 },
 "nbformat": 4,
 "nbformat_minor": 5
}
