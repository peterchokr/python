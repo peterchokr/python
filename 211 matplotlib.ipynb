{
 "cells": [
  {
   "cell_type": "markdown",
   "id": "eb605870",
   "metadata": {},
   "source": [
    "# Matplotlib 기초 - 데이터 시각화 (Matplotlib Basics - Data Visualization)\n",
    "\n",
    "**수업 시간**: 3시간  \n",
    "**구성**: 강의 및 실습 2시간 + 퀴즈 1시간  \n",
    "**수준**: 중급\n",
    "\n",
    "---\n",
    "\n",
    "## 🎯 학습 목표\n",
    "\n",
    "이 수업을 마친 후 학생들은 다음을 할 수 있습니다:\n",
    "\n",
    "- matplotlib 라이브러리 설치 및 가져오기\n",
    "- 간단한 선 그래프(Line Graph) 생성하기\n",
    "- 데이터 비교용 막대 그래프(Bar Chart) 만들기\n",
    "- 그래프에 제목과 라벨(Label) 추가하기\n",
    "- 히스토그램(Histogram)으로 데이터 분포 시각화하기\n",
    "\n",
    "---\n",
    "\n",
    "## 📊 1. Matplotlib 소개\n",
    "\n",
    "**Matplotlib**은 그래프와 차트를 만들어주는 파이썬 라이브러리입니다. 숫자로 그림을 그리는 디지털 붓이라고 생각하세요.\n",
    "\n",
    "### 그래프를 사용하는 이유\n",
    "\n",
    "- **이해하기 쉬움**: 그림이 숫자보다 이해하기 쉽습니다\n",
    "- **패턴 발견**: 트렌드를 빠르게 확인할 수 있습니다\n",
    "- **데이터 비교**: 나란히 비교가 가능합니다\n",
    "- **효과적인 의사소통**: 복잡한 데이터를 간단하게 전달\n",
    "\n",
    "### 데이터 시각화의 중요성\n",
    "\n",
    "데이터 시각화는 현대 사회에서 매우 중요한 기술입니다:\n",
    "\n",
    "```\n",
    "예시: 코로나19 확산 현황\n",
    "- 숫자로만: \"확진자 1,234명, 완치자 987명\"\n",
    "- 그래프로: 시간에 따른 증감 곡선을 한눈에 파악\n",
    "```\n",
    "\n",
    "---\n",
    "\n",
    "## ⚙️ 2. Matplotlib 설치하기\n",
    "\n",
    "matplotlib을 사용하기 전에 **pip**를 사용해서 설치해야 합니다.\n",
    "\n",
    "### 설치 명령어"
   ]
  },
  {
   "cell_type": "code",
   "execution_count": null,
   "id": "902f23e3",
   "metadata": {},
   "outputs": [],
   "source": [
    "%%bash\n",
    "pip install matplotlib"
   ]
  },
  {
   "cell_type": "markdown",
   "id": "eb1ae1dd",
   "metadata": {},
   "source": [
    "### Matplotlib 가져오기"
   ]
  },
  {
   "cell_type": "code",
   "execution_count": null,
   "id": "59bfa642",
   "metadata": {},
   "outputs": [],
   "source": [
    "import matplotlib.pyplot as plt"
   ]
  },
  {
   "cell_type": "markdown",
   "id": "dbc4a14f",
   "metadata": {},
   "source": [
    "이것이 그래프 그리기를 위해 matplotlib을 가져오는 표준 방법입니다.\n",
    "\n",
    "### 한글 폰트 설정 (선택사항)"
   ]
  },
  {
   "cell_type": "code",
   "execution_count": null,
   "id": "6b53ebd1",
   "metadata": {},
   "outputs": [],
   "source": [
    "import matplotlib.pyplot as plt\n",
    "import matplotlib.font_manager as fm\n",
    "\n",
    "# 한글 폰트 설정 (Windows)\n",
    "plt.rcParams['font.family'] = 'Malgun Gothic'\n",
    "# 또는 Mac의 경우\n",
    "# plt.rcParams['font.family'] = 'AppleGothic'\n",
    "\n",
    "# 음수 기호 깨짐 방지\n",
    "plt.rcParams['axes.unicode_minus'] = False"
   ]
  },
  {
   "cell_type": "markdown",
   "id": "4a6ce137",
   "metadata": {},
   "source": [
    "---\n",
    "\n",
    "## 📈 3. 선 그래프 (Line Graph)\n",
    "\n",
    "선 그래프는 시간에 따른 데이터 변화를 보여줍니다. 자라면서 키를 추적하는 것과 같습니다.\n",
    "\n",
    "### 간단한 선 그래프"
   ]
  },
  {
   "cell_type": "code",
   "execution_count": null,
   "id": "f2b5fe44",
   "metadata": {},
   "outputs": [],
   "source": [
    "import matplotlib.pyplot as plt\n",
    "\n",
    "# 데이터\n",
    "x = [1, 2, 3, 4, 5]\n",
    "y = [2, 4, 6, 8, 10]\n",
    "\n",
    "# 선 그래프 생성\n",
    "plt.plot(x, y)\n",
    "plt.show()"
   ]
  },
  {
   "cell_type": "markdown",
   "id": "0626ad0b",
   "metadata": {},
   "source": [
    "### 라벨이 있는 선 그래프"
   ]
  },
  {
   "cell_type": "code",
   "execution_count": null,
   "id": "dda03394",
   "metadata": {},
   "outputs": [],
   "source": [
    "import matplotlib.pyplot as plt\n",
    "\n",
    "# 월별 매출 데이터\n",
    "월별 = ['1월', '2월', '3월', '4월', '5월']\n",
    "매출 = [1000, 1500, 1200, 1800, 2000]\n",
    "\n",
    "# 그래프 생성\n",
    "plt.plot(월별, 매출)\n",
    "plt.title('월별 매출 현황')\n",
    "plt.xlabel('월')\n",
    "plt.ylabel('매출 (만원)')\n",
    "plt.show()"
   ]
  },
  {
   "cell_type": "markdown",
   "id": "e8cea770",
   "metadata": {},
   "source": [
    "### 여러 선이 있는 그래프"
   ]
  },
  {
   "cell_type": "code",
   "execution_count": null,
   "id": "aecffc66",
   "metadata": {},
   "outputs": [],
   "source": [
    "import matplotlib.pyplot as plt\n",
    "\n",
    "# 두 제품의 월별 판매량 데이터\n",
    "월별 = ['1월', '2월', '3월', '4월', '5월']\n",
    "제품A = [100, 150, 120, 180, 200]\n",
    "제품B = [80, 130, 140, 160, 190]\n",
    "\n",
    "# 여러 선 그래프\n",
    "plt.plot(월별, 제품A, label='제품 A', marker='o')\n",
    "plt.plot(월별, 제품B, label='제품 B', marker='s')\n",
    "plt.title('제품별 월별 판매량')\n",
    "plt.xlabel('월')\n",
    "plt.ylabel('판매량 (개)')\n",
    "plt.legend()  # 범례 표시\n",
    "plt.grid(True)  # 격자 표시\n",
    "plt.show()"
   ]
  },
  {
   "cell_type": "markdown",
   "id": "b367d9f0",
   "metadata": {},
   "source": [
    "---\n",
    "\n",
    "## 📊 4. 막대 그래프 (Bar Chart)\n",
    "\n",
    "막대 그래프는 서로 다른 카테고리를 비교합니다. 서로 다른 건물의 높이를 비교하는 것과 같습니다.\n",
    "\n",
    "### 간단한 막대 그래프"
   ]
  },
  {
   "cell_type": "code",
   "execution_count": null,
   "id": "fbc7ce92",
   "metadata": {},
   "outputs": [],
   "source": [
    "import matplotlib.pyplot as plt\n",
    "\n",
    "# 과목별 점수\n",
    "과목들 = ['수학', '영어', '과학']\n",
    "점수들 = [85, 90, 78]\n",
    "\n",
    "# 막대 그래프 생성\n",
    "plt.bar(과목들, 점수들)\n",
    "plt.title('과목별 점수')\n",
    "plt.ylabel('점수')\n",
    "plt.show()"
   ]
  },
  {
   "cell_type": "markdown",
   "id": "66fa9e2b",
   "metadata": {},
   "source": [
    "### 컬러풀한 막대 그래프"
   ]
  },
  {
   "cell_type": "code",
   "execution_count": null,
   "id": "26e79e83",
   "metadata": {},
   "outputs": [],
   "source": [
    "import matplotlib.pyplot as plt\n",
    "\n",
    "# 과일 판매량\n",
    "과일들 = ['사과', '바나나', '오렌지', '포도']\n",
    "판매량 = [50, 30, 40, 25]\n",
    "색상들 = ['red', 'yellow', 'orange', 'purple']\n",
    "\n",
    "# 컬러풀한 막대 그래프 생성\n",
    "plt.bar(과일들, 판매량, color=색상들)\n",
    "plt.title('과일별 판매량')\n",
    "plt.xlabel('과일 종류')\n",
    "plt.ylabel('판매량 (개)')\n",
    "plt.show()"
   ]
  },
  {
   "cell_type": "markdown",
   "id": "0c48a397",
   "metadata": {},
   "source": [
    "### 수평 막대 그래프"
   ]
  },
  {
   "cell_type": "code",
   "execution_count": null,
   "id": "14feb0b8",
   "metadata": {},
   "outputs": [],
   "source": [
    "import matplotlib.pyplot as plt\n",
    "\n",
    "# 도시별 인구 데이터\n",
    "도시들 = ['서울', '부산', '대구', '인천', '광주']\n",
    "인구 = [9720, 3390, 2420, 2950, 1440]\n",
    "\n",
    "# 수평 막대 그래프\n",
    "plt.barh(도시들, 인구, color='skyblue')\n",
    "plt.title('도시별 인구 현황')\n",
    "plt.xlabel('인구 (만명)')\n",
    "plt.ylabel('도시')\n",
    "\n",
    "# 각 막대에 수치 표시\n",
    "for i, 값 in enumerate(인구):\n",
    "    plt.text(값 + 50, i, f'{값}만명', va='center')\n",
    "\n",
    "plt.show()"
   ]
  },
  {
   "cell_type": "markdown",
   "id": "954045d9",
   "metadata": {},
   "source": [
    "---\n",
    "\n",
    "## 📊 5. 히스토그램 (Histogram)\n",
    "\n",
    "히스토그램은 서로 다른 값들이 얼마나 자주 나타나는지 보여줍니다. 서로 다른 성적을 받은 학생 수를 세는 것과 같습니다.\n",
    "\n",
    "### 간단한 히스토그램"
   ]
  },
  {
   "cell_type": "code",
   "execution_count": null,
   "id": "0d9d60d8",
   "metadata": {},
   "outputs": [],
   "source": [
    "import matplotlib.pyplot as plt\n",
    "\n",
    "# 학생 키 데이터 (cm)\n",
    "키_데이터 = [160, 165, 170, 175, 168, 172, 158, 180, 162, 169, \n",
    "           166, 171, 163, 174, 167, 159, 173, 161, 176, 164]\n",
    "\n",
    "# 히스토그램 생성\n",
    "plt.hist(키_데이터, bins=5, color='lightblue', edgecolor='black')\n",
    "plt.title('학생 키 분포')\n",
    "plt.xlabel('키 (cm)')\n",
    "plt.ylabel('학생 수')\n",
    "plt.show()"
   ]
  },
  {
   "cell_type": "markdown",
   "id": "4d84261c",
   "metadata": {},
   "source": [
    "### 자세한 히스토그램"
   ]
  },
  {
   "cell_type": "code",
   "execution_count": null,
   "id": "b65fa844",
   "metadata": {},
   "outputs": [],
   "source": [
    "import matplotlib.pyplot as plt\n",
    "\n",
    "# 시험 점수 데이터\n",
    "점수들 = [75, 82, 90, 88, 76, 95, 68, 84, 91, 77, \n",
    "         86, 79, 92, 85, 73, 89, 78, 83, 87, 94, \n",
    "         71, 80, 93, 88, 74, 96, 69, 81, 85, 90]\n",
    "\n",
    "# 히스토그램 생성\n",
    "plt.hist(점수들, bins=8, color='lightgreen', alpha=0.7, edgecolor='black')\n",
    "plt.title('시험 점수 분포')\n",
    "plt.xlabel('점수')\n",
    "plt.ylabel('학생 수')\n",
    "plt.grid(True, alpha=0.3)\n",
    "\n",
    "# 평균선 표시\n",
    "평균점수 = sum(점수들) / len(점수들)\n",
    "plt.axvline(평균점수, color='red', linestyle='--', label=f'평균: {평균점수:.1f}')\n",
    "plt.legend()\n",
    "plt.show()\n",
    "\n",
    "print(f\"평균 점수: {평균점수:.1f}\")\n",
    "print(f\"최고 점수: {max(점수들)}\")\n",
    "print(f\"최저 점수: {min(점수들)}\")"
   ]
  },
  {
   "cell_type": "markdown",
   "id": "1005703a",
   "metadata": {},
   "source": [
    "---\n",
    "\n",
    "## 🎨 6. 그래프 꾸미기\n",
    "\n",
    "그래프를 더 좋아 보이고 정보가 풍부하게 만들기.\n",
    "\n",
    "### 필수 그래프 요소들"
   ]
  },
  {
   "cell_type": "code",
   "execution_count": null,
   "id": "3a05ac21",
   "metadata": {},
   "outputs": [],
   "source": [
    "import matplotlib.pyplot as plt\n",
    "\n",
    "# 주간 온도 데이터\n",
    "요일들 = ['월', '화', '수', '목', '금', '토', '일']\n",
    "온도 = [22, 25, 23, 27, 24, 26, 21]\n",
    "\n",
    "# 꾸며진 그래프 생성\n",
    "plt.figure(figsize=(10, 6))  # 그래프 크기 설정\n",
    "plt.plot(요일들, 온도, color='blue', marker='o', linewidth=3, markersize=8)\n",
    "plt.title('주간 온도 변화', fontsize=16, fontweight='bold')\n",
    "plt.xlabel('요일', fontsize=12)\n",
    "plt.ylabel('온도 (°C)', fontsize=12)\n",
    "plt.grid(True, alpha=0.3)\n",
    "\n",
    "# 각 점에 온도 값 표시\n",
    "for i, temp in enumerate(온도):\n",
    "    plt.annotate(f'{temp}°C', (i, temp), textcoords=\"offset points\", \n",
    "                xytext=(0,10), ha='center')\n",
    "\n",
    "plt.tight_layout()\n",
    "plt.show()"
   ]
  },
  {
   "cell_type": "markdown",
   "id": "8123ebd0",
   "metadata": {},
   "source": [
    "### 그래프 스타일 옵션\n",
    "\n",
    "- **색상(Colors)**: 'red', 'blue', 'green', 'orange', '#FF5733' (헥스 코드)\n",
    "- **마커(Markers)**: 'o' (원), 's' (사각형), '^' (삼각형), '*' (별)\n",
    "- **선 스타일(Line styles)**: '-' (실선), '--' (점선), ':' (점점선), '-.' (일점쇄선)\n",
    "\n",
    "### 서브플롯(Subplot)으로 여러 그래프 동시에 보기"
   ]
  },
  {
   "cell_type": "code",
   "execution_count": null,
   "id": "624cf44d",
   "metadata": {},
   "outputs": [],
   "source": [
    "import matplotlib.pyplot as plt\n",
    "\n",
    "# 데이터\n",
    "월별 = ['1월', '2월', '3월', '4월', '5월', '6월']\n",
    "매출 = [1000, 1500, 1200, 1800, 2000, 1700]\n",
    "비용 = [800, 1100, 900, 1300, 1400, 1200]\n",
    "\n",
    "# 2x1 서브플롯 생성\n",
    "plt.figure(figsize=(12, 8))\n",
    "\n",
    "# 첫 번째 서브플롯: 매출\n",
    "plt.subplot(2, 1, 1)\n",
    "plt.plot(월별, 매출, 'go-', linewidth=2)\n",
    "plt.title('월별 매출')\n",
    "plt.ylabel('매출 (만원)')\n",
    "plt.grid(True)\n",
    "\n",
    "# 두 번째 서브플롯: 비용\n",
    "plt.subplot(2, 1, 2)\n",
    "plt.plot(월별, 비용, 'ro-', linewidth=2)\n",
    "plt.title('월별 비용')\n",
    "plt.xlabel('월')\n",
    "plt.ylabel('비용 (만원)')\n",
    "plt.grid(True)\n",
    "\n",
    "plt.tight_layout()\n",
    "plt.show()"
   ]
  },
  {
   "cell_type": "markdown",
   "id": "8b2fdb9a",
   "metadata": {},
   "source": [
    "---\n",
    "\n",
    "## 🔧 실습\n",
    "\n",
    "### 실습 1: CSV 데이터 시각화\n",
    "\n",
    "**문제**: CSV 데이터를 읽고 다른 종류의 그래프를 만드세요.\n",
    "\n",
    "**먼저 'monthly_data.csv' 파일을 다음과 같이 만드세요:**\n",
    "\n",
    "```\n",
    "month,temperature,rainfall\n",
    "1월,15,45\n",
    "2월,18,38\n",
    "3월,22,52\n",
    "4월,25,40\n",
    "5월,28,35\n",
    "6월,32,20\n",
    "```\n",
    "\n",
    "**해답**:"
   ]
  },
  {
   "cell_type": "code",
   "execution_count": null,
   "id": "30044ce5",
   "metadata": {},
   "outputs": [],
   "source": [
    "import matplotlib.pyplot as plt\n",
    "import csv\n",
    "\n",
    "# CSV 데이터 읽기\n",
    "월별 = []\n",
    "온도 = []\n",
    "강수량 = []\n",
    "\n",
    "with open('monthly_data.csv', 'r', encoding='utf-8') as file:\n",
    "    csv_reader = csv.DictReader(file)\n",
    "    for row in csv_reader:\n",
    "        월별.append(row['month'])\n",
    "        온도.append(int(row['temperature']))\n",
    "        강수량.append(int(row['rainfall']))\n",
    "\n",
    "# 온도용 선 그래프와 강수량용 막대 그래프 생성\n",
    "plt.figure(figsize=(12, 5))\n",
    "\n",
    "# 첫 번째 서브플롯: 온도\n",
    "plt.subplot(1, 2, 1)\n",
    "plt.plot(월별, 온도, color='red', marker='o', linewidth=2)\n",
    "plt.title('월별 온도 변화')\n",
    "plt.xlabel('월')\n",
    "plt.ylabel('온도 (°C)')\n",
    "plt.grid(True, alpha=0.3)\n",
    "\n",
    "# 두 번째 서브플롯: 강수량\n",
    "plt.subplot(1, 2, 2)\n",
    "plt.bar(월별, 강수량, color='blue', alpha=0.7)\n",
    "plt.title('월별 강수량')\n",
    "plt.xlabel('월')\n",
    "plt.ylabel('강수량 (mm)')\n",
    "\n",
    "plt.tight_layout()\n",
    "plt.show()\n",
    "\n",
    "# 데이터 분석 출력\n",
    "print(f\"가장 더운 달: {월별[온도.index(max(온도))]} ({max(온도)}°C)\")\n",
    "print(f\"강수량이 가장 많은 달: {월별[강수량.index(max(강수량))]} ({max(강수량)}mm)\")"
   ]
  },
  {
   "cell_type": "markdown",
   "id": "5575dc95",
   "metadata": {
    "lines_to_next_cell": 0
   },
   "source": [
    "### 실습 2: 주식 가격 추이 그래프\n",
    "\n",
    "**문제**: 주식 가격 추이 시각화를 만드세요.\n",
    "\n",
    "**데이터:**"
   ]
  },
  {
   "cell_type": "code",
   "execution_count": null,
   "id": "6df501b4",
   "metadata": {},
   "outputs": [],
   "source": [
    "# 주식 가격 데이터\n",
    "기간 = ['1주차', '2주차', '3주차', '4주차', '5주차', '6주차']\n",
    "주식가격 = [100, 105, 98, 110, 115, 108]"
   ]
  },
  {
   "cell_type": "markdown",
   "id": "43d013bd",
   "metadata": {},
   "source": [
    "**해답**:"
   ]
  },
  {
   "cell_type": "code",
   "execution_count": null,
   "id": "7f4da18d",
   "metadata": {},
   "outputs": [],
   "source": [
    "import matplotlib.pyplot as plt\n",
    "\n",
    "# 주식 가격 데이터\n",
    "기간 = ['1주차', '2주차', '3주차', '4주차', '5주차', '6주차']\n",
    "주식가격 = [100, 105, 98, 110, 115, 108]\n",
    "\n",
    "# 주식 가격 그래프 생성\n",
    "plt.figure(figsize=(12, 7))\n",
    "plt.plot(기간, 주식가격, color='green', marker='o', linewidth=3, markersize=10)\n",
    "\n",
    "# 스타일링 추가\n",
    "plt.title('주식 가격 추이', fontsize=18, fontweight='bold')\n",
    "plt.xlabel('기간', fontsize=14)\n",
    "plt.ylabel('가격 (만원)', fontsize=14)\n",
    "plt.grid(True, alpha=0.3)\n",
    "\n",
    "# 각 점에 가격 라벨 추가\n",
    "for i, 가격 in enumerate(주식가격):\n",
    "    plt.annotate(f'{가격}만원', (i, 가격), textcoords=\"offset points\", \n",
    "                xytext=(0,15), ha='center', fontsize=12, fontweight='bold')\n",
    "\n",
    "# 색깔로 상승/하락 구분\n",
    "for i in range(1, len(주식가격)):\n",
    "    if 주식가격[i] > 주식가격[i-1]:\n",
    "        plt.plot([i-1, i], [주식가격[i-1], 주식가격[i]], 'g-', linewidth=3)\n",
    "    else:\n",
    "        plt.plot([i-1, i], [주식가격[i-1], 주식가격[i]], 'r-', linewidth=3)\n",
    "\n",
    "plt.tight_layout()\n",
    "plt.show()\n",
    "\n",
    "# 수익/손실 계산 및 표시\n",
    "시작가격 = 주식가격[0]\n",
    "종료가격 = 주식가격[-1]\n",
    "변화량 = 종료가격 - 시작가격\n",
    "수익률 = (변화량 / 시작가격) * 100\n",
    "\n",
    "print(f\"시작 가격: {시작가격}만원\")\n",
    "print(f\"종료 가격: {종료가격}만원\")\n",
    "print(f\"변화량: {변화량:+}만원\")\n",
    "print(f\"수익률: {수익률:+.1f}%\")"
   ]
  },
  {
   "cell_type": "markdown",
   "id": "2c9eaff9",
   "metadata": {
    "lines_to_next_cell": 0
   },
   "source": [
    "### 실습 3: 설문조사 결과 시각화\n",
    "\n",
    "**문제**: 다양한 설문조사 데이터를 여러 그래프로 시각화하세요.\n",
    "\n",
    "**데이터:**"
   ]
  },
  {
   "cell_type": "code",
   "execution_count": null,
   "id": "bb81179a",
   "metadata": {},
   "outputs": [],
   "source": [
    "# 설문조사 데이터\n",
    "연령대 = ['10대', '20대', '30대', '40대', '50대 이상']\n",
    "응답자수 = [25, 45, 35, 28, 17]\n",
    "\n",
    "만족도 = ['매우 불만', '불만', '보통', '만족', '매우 만족']\n",
    "만족도_수 = [5, 12, 30, 38, 15]\n",
    "\n",
    "선호제품 = ['제품A', '제품B', '제품C', '제품D']\n",
    "선호도 = [30, 25, 35, 10]"
   ]
  },
  {
   "cell_type": "markdown",
   "id": "673aa6b8",
   "metadata": {},
   "source": [
    "**해답**:"
   ]
  },
  {
   "cell_type": "code",
   "execution_count": null,
   "id": "37dccdf1",
   "metadata": {},
   "outputs": [],
   "source": [
    "import matplotlib.pyplot as plt\n",
    "\n",
    "# 설문조사 데이터\n",
    "연령대 = ['10대', '20대', '30대', '40대', '50대 이상']\n",
    "응답자수 = [25, 45, 35, 28, 17]\n",
    "\n",
    "만족도 = ['매우\\n불만', '불만', '보통', '만족', '매우\\n만족']\n",
    "만족도_수 = [5, 12, 30, 38, 15]\n",
    "\n",
    "선호제품 = ['제품A', '제품B', '제품C', '제품D']\n",
    "선호도 = [30, 25, 35, 10]\n",
    "\n",
    "# 2x2 서브플롯 생성\n",
    "plt.figure(figsize=(15, 12))\n",
    "\n",
    "# 1. 연령대별 응답자 수 (막대 그래프)\n",
    "plt.subplot(2, 2, 1)\n",
    "색상1 = ['lightblue', 'lightgreen', 'lightcoral', 'lightyellow', 'lightpink']\n",
    "bars1 = plt.bar(연령대, 응답자수, color=색상1, edgecolor='black')\n",
    "plt.title('연령대별 응답자 수', fontsize=14, fontweight='bold')\n",
    "plt.xlabel('연령대')\n",
    "plt.ylabel('응답자 수 (명)')\n",
    "\n",
    "# 각 막대에 숫자 표시\n",
    "for bar, 수 in zip(bars1, 응답자수):\n",
    "    plt.text(bar.get_x() + bar.get_width()/2, bar.get_height() + 0.5, \n",
    "             f'{수}명', ha='center', va='bottom', fontweight='bold')\n",
    "\n",
    "# 2. 만족도 분포 (수평 막대 그래프)\n",
    "plt.subplot(2, 2, 2)\n",
    "색상2 = ['red', 'orange', 'yellow', 'lightgreen', 'green']\n",
    "bars2 = plt.barh(만족도, 만족도_수, color=색상2, edgecolor='black')\n",
    "plt.title('서비스 만족도', fontsize=14, fontweight='bold')\n",
    "plt.xlabel('응답자 수 (명)')\n",
    "\n",
    "# 각 막대에 숫자 표시\n",
    "for bar, 수 in zip(bars2, 만족도_수):\n",
    "    plt.text(bar.get_width() + 0.5, bar.get_y() + bar.get_height()/2, \n",
    "             f'{수}명', ha='left', va='center', fontweight='bold')\n",
    "\n",
    "# 3. 제품 선호도 (원형 그래프)\n",
    "plt.subplot(2, 2, 3)\n",
    "색상3 = ['gold', 'lightcoral', 'lightskyblue', 'lightgreen']\n",
    "웨지, 텍스트, 자동텍스트 = plt.pie(선호도, labels=선호제품, colors=색상3, \n",
    "                               autopct='%1.1f%%', startangle=90)\n",
    "plt.title('제품 선호도', fontsize=14, fontweight='bold')\n",
    "\n",
    "# 4. 연령대와 만족도 비교 (선 그래프)\n",
    "plt.subplot(2, 2, 4)\n",
    "plt.plot(연령대, 응답자수, 'bo-', label='응답자 수', linewidth=2, markersize=8)\n",
    "plt.plot(만족도[:3], 만족도_수[:3], 'ro-', label='만족도 (하위 3개)', linewidth=2, markersize=8)\n",
    "plt.title('연령대별 응답 현황', fontsize=14, fontweight='bold')\n",
    "plt.xlabel('구분')\n",
    "plt.ylabel('수량')\n",
    "plt.legend()\n",
    "plt.grid(True, alpha=0.3)\n",
    "\n",
    "plt.tight_layout()\n",
    "plt.show()\n",
    "\n",
    "# 통계 요약\n",
    "print(\"=== 설문조사 결과 요약 ===\")\n",
    "print(f\"총 응답자 수: {sum(응답자수)}명\")\n",
    "print(f\"가장 많은 연령대: {연령대[응답자수.index(max(응답자수))]} ({max(응답자수)}명)\")\n",
    "print(f\"만족 이상 응답자: {만족도_수[3] + 만족도_수[4]}명 ({((만족도_수[3] + 만족도_수[4])/sum(만족도_수)*100):.1f}%)\")\n",
    "print(f\"가장 인기 제품: {선호제품[선호도.index(max(선호도))]} ({max(선호도)}%)\")"
   ]
  },
  {
   "cell_type": "markdown",
   "id": "7142006f",
   "metadata": {
    "lines_to_next_cell": 0
   },
   "source": [
    "---\n",
    "\n",
    "## 📝 퀴즈\n",
    "\n",
    "### 퀴즈 1: 기본 선 그래프\n",
    "\n",
    "**문제**: x = [1, 2, 3, 4, 5]와 y = [2, 4, 6, 8, 10]으로 선 그래프를 그리고 적절한 제목과 축 라벨을 추가하세요.\n",
    "\n",
    "**답을 여기에 작성하세요**:"
   ]
  },
  {
   "cell_type": "code",
   "execution_count": null,
   "id": "a4950a25",
   "metadata": {},
   "outputs": [],
   "source": [
    "# 여기에 코드를 작성하세요"
   ]
  },
  {
   "cell_type": "markdown",
   "id": "e30e8633",
   "metadata": {
    "lines_to_next_cell": 0
   },
   "source": [
    "### 퀴즈 2: 과목 점수 막대 그래프\n",
    "\n",
    "**문제**: subjects = ['수학', '영어', '과학']와 scores = [85, 90, 78]로 막대 그래프를 그리고 \"과목별 점수\" 제목을 설정하세요. 적절한 라벨도 추가하세요.\n",
    "\n",
    "**답을 여기에 작성하세요**:"
   ]
  },
  {
   "cell_type": "code",
   "execution_count": null,
   "id": "38fa0e9f",
   "metadata": {},
   "outputs": [],
   "source": [
    "# 여기에 코드를 작성하세요"
   ]
  },
  {
   "cell_type": "markdown",
   "id": "6cbbe225",
   "metadata": {
    "lines_to_next_cell": 0
   },
   "source": [
    "### 퀴즈 3: 키 분포 히스토그램\n",
    "\n",
    "**문제**: heights = [160, 165, 170, 175, 168, 172, 158, 180, 162, 169]로 히스토그램을 그리고 적절한 구간으로 설정하세요. 제목과 라벨을 추가하세요.\n",
    "\n",
    "**답을 여기에 작성하세요**:"
   ]
  },
  {
   "cell_type": "code",
   "execution_count": null,
   "id": "f6e9fa45",
   "metadata": {},
   "outputs": [],
   "source": [
    "# 여기에 코드를 작성하세요"
   ]
  },
  {
   "cell_type": "markdown",
   "id": "28a9f0ea",
   "metadata": {},
   "source": [
    "---\n",
    "\n",
    "## 📖 참고 자료\n",
    "\n",
    "1. **Matplotlib 공식 튜토리얼**: https://matplotlib.org/stable/tutorials/index.html\n",
    "   - 공식 문서와 튜토리얼\n",
    "\n",
    "2. **Matplotlib 기본 예제**: https://matplotlib.org/stable/gallery/index.html\n",
    "   - 다양한 그래프 예제 모음\n",
    "\n",
    "3. **Python Graph Gallery**: https://python-graph-gallery.com/\n",
    "   - 아름다운 그래프 예제들\n",
    "\n",
    "4. **Real Python Matplotlib 가이드**: https://realpython.com/python-matplotlib-guide/\n",
    "   - 실용적인 matplotlib 가이드\n",
    "\n",
    "---\n",
    "\n",
    "## 💡 핵심 포인트\n",
    "\n",
    "### 기억할 점\n",
    "1. **먼저 가져오기**: 항상 matplotlib.pyplot을 plt로 가져오기\n",
    "2. **plt.show()**: 그래프 보여주는 것 잊지 말기\n",
    "3. **라벨 추가**: 제목, x라벨, y라벨이 그래프를 명확하게 만듦\n",
    "4. **올바른 그래프 선택**: 트렌드는 선 그래프, 비교는 막대 그래프\n",
    "\n",
    "### 일반적인 그래프 유형\n",
    "- **선 그래프(Line Graph)**: 시계열, 트렌드 분석\n",
    "- **막대 그래프(Bar Chart)**: 카테고리 비교\n",
    "- **히스토그램(Histogram)**: 값의 분포 확인\n",
    "- **원형 그래프(Pie Chart)**: 전체 대비 비율\n",
    "\n",
    "### 그래프 작성 체크리스트\n",
    "- [ ] 적절한 그래프 유형 선택\n",
    "- [ ] 제목과 축 라벨 추가\n",
    "- [ ] 범례(Legend) 필요시 추가\n",
    "- [ ] 색상과 스타일 적용\n",
    "- [ ] 격자(Grid) 표시 여부 결정\n",
    "\n",
    "---\n",
    "\n",
    "## 📋 숙제\n",
    "\n",
    "1. 3개 실습을 모두 완료하고 다양한 스타일 적용해보기\n",
    "2. 자신만의 데이터로 다른 종류의 그래프 만들기 연습\n",
    "3. 서로 다른 색상과 스타일 옵션 시도해보기\n",
    "4. 이전 주에 만든 CSV 파일로 그래프 생성하기\n",
    "5. 한 개의 그래프에 여러 데이터 시리즈 표시해보기\n",
    "\n",
    "**그래프는 데이터를 생생하게 만듭니다 - 숫자만으로는 할 수 없는 이야기를 들려줍니다!** 📊"
   ]
  }
 ],
 "metadata": {
  "jupytext": {
   "cell_metadata_filter": "-all",
   "main_language": "python",
   "notebook_metadata_filter": "-all"
  }
 },
 "nbformat": 4,
 "nbformat_minor": 5
}
