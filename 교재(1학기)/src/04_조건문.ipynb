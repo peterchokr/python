{
 "cells": [
  {
   "cell_type": "markdown",
   "metadata": {},
   "source": [
    "#### 4. 조건문"
   ]
  },
  {
   "cell_type": "code",
   "execution_count": null,
   "metadata": {},
   "outputs": [],
   "source": []
  },
  {
   "cell_type": "markdown",
   "metadata": {},
   "source": [
    "p.114 배송비 계산 프로그램"
   ]
  },
  {
   "cell_type": "code",
   "execution_count": null,
   "metadata": {},
   "outputs": [],
   "source": [
    "# 사용자로부터 상품의 가격을 입력받는다.  \n",
    "price = int(input(\"상품의 가격: \"))\n",
    "\n",
    "# 배송비를 결정한다. \n",
    "if  price > 20000 :\n",
    "\tshipping_cost = 0\n",
    "else :\n",
    "\tshipping_cost = 3000\n",
    "\n",
    "# 배송비를 출력한다. \n",
    "print(\"배송비 = \", shipping_cost)"
   ]
  },
  {
   "cell_type": "markdown",
   "metadata": {},
   "source": [
    "블록"
   ]
  },
  {
   "cell_type": "code",
   "execution_count": null,
   "metadata": {},
   "outputs": [],
   "source": [
    "if  price > 20000 :\n",
    "\tshipping_cost = 0\n",
    "\tdiscount = 0.1\n",
    "else :\n",
    "\tshipping_cost = 3000"
   ]
  },
  {
   "cell_type": "markdown",
   "metadata": {},
   "source": [
    "else는 없을 수도 있다."
   ]
  },
  {
   "cell_type": "code",
   "execution_count": null,
   "metadata": {},
   "outputs": [],
   "source": []
  },
  {
   "cell_type": "markdown",
   "metadata": {},
   "source": [
    "p.116 프로그래밍 힌트 : 종복방지"
   ]
  },
  {
   "cell_type": "code",
   "execution_count": null,
   "metadata": {},
   "outputs": [],
   "source": [
    "if  price > 20000 :\n",
    "\tshipping_cost = 0\n",
    "\tprint(\"배송비 = \", shipping_cost)\n",
    "else :\n",
    "\tshipping_cost = 3000\n",
    "\tprint(\"배송비 = \", shipping_cost) "
   ]
  },
  {
   "cell_type": "markdown",
   "metadata": {},
   "source": [
    "프로그래밍 힌트 : pass 키워드"
   ]
  },
  {
   "cell_type": "code",
   "execution_count": null,
   "metadata": {},
   "outputs": [],
   "source": [
    "if price > 60000 :\n",
    "    pass    # 아직 미구현 상태이다.\n",
    "else : \n",
    "    pass    # 아직 미구현 상태이다.    "
   ]
  },
  {
   "cell_type": "markdown",
   "metadata": {},
   "source": [
    "p.117 논리 연산자"
   ]
  },
  {
   "cell_type": "code",
   "execution_count": null,
   "metadata": {},
   "outputs": [],
   "source": [
    "price = int(input(\"가격을 입력하시오: \"))\n",
    "card = input(\"카드 종류를 입력하시오: \")\n",
    "\n",
    "if price > 20000 and card == \"python\" :\n",
    "    print(\"배송료가 없습니다.\")\n",
    "else :\n",
    "\tprint(\"배송료는 3000원입니다.\")"
   ]
  },
  {
   "cell_type": "markdown",
   "metadata": {},
   "source": [
    "p.118 드 모르간의 법칙"
   ]
  },
  {
   "cell_type": "code",
   "execution_count": null,
   "metadata": {},
   "outputs": [],
   "source": [
    "if not (country == \"한국\" and province != \"제주\") :\n",
    "    shipping_cost = 8000\n",
    "    \n",
    "if country != \"한국\" or province == \"제주\" :\n",
    "    shipping_cost = 8000"
   ]
  },
  {
   "cell_type": "markdown",
   "metadata": {},
   "source": [
    "p.120 조건 연산자"
   ]
  },
  {
   "cell_type": "code",
   "execution_count": null,
   "metadata": {},
   "outputs": [],
   "source": [
    "shipping_cost = ( 0 if price >= 20000 else 3000 )\n",
    "\n",
    "absolute_value = (x if x > 0 else -x)\t// 절대값 계산\n",
    "max_value = (x if x > y else y)\t\t// 최대값 계산\n",
    "min_value = (x if x < y else y)\t\t// 최소값 계산"
   ]
  },
  {
   "cell_type": "code",
   "execution_count": null,
   "metadata": {},
   "outputs": [],
   "source": [
    "x = int(input(\"첫 번째 수 =\"))\n",
    "y = int(input(\"두 번째 수 =\"))\n",
    "max_value = (x if x > y else y)\n",
    "min_value = (y if x > y else x)\n",
    "print(\"큰 수=\", max_value, \"작은 수=\", min_value)"
   ]
  },
  {
   "cell_type": "markdown",
   "metadata": {},
   "source": [
    "p.122 산술 퀴즈 프로그램"
   ]
  },
  {
   "cell_type": "code",
   "execution_count": null,
   "metadata": {},
   "outputs": [],
   "source": [
    "import random\n",
    "\n",
    "x = random.randint(1, 100)\n",
    "y = random.randint(1, 100)\n",
    "\n",
    "answer = int(input(f\"{x} + {y} = \"))\n",
    "\n",
    "# 부울 변수에 결과를 저장하고 출력한다. \n",
    "flag = (answer == (x+y))\n",
    "print(flag)"
   ]
  },
  {
   "cell_type": "markdown",
   "metadata": {},
   "source": [
    "p.123 동전 던지기 게임"
   ]
  },
  {
   "cell_type": "code",
   "execution_count": null,
   "metadata": {},
   "outputs": [],
   "source": [
    "import random\n",
    "\n",
    "print(\"동전 던지기 게임을 시작합니다.\")\n",
    "coin = random.randrange(2)\n",
    "if coin == 0 :\n",
    "\tprint(\"앞면입니다.\")\n",
    "else :\n",
    "\tprint(\"뒷면입니다.\")\n",
    "print(\"게임이 종료되었습니다.\")"
   ]
  },
  {
   "cell_type": "markdown",
   "metadata": {},
   "source": [
    "p.124 로그인 프로그램"
   ]
  },
  {
   "cell_type": "code",
   "execution_count": null,
   "metadata": {},
   "outputs": [],
   "source": [
    "id = \"ilovepython\"\n",
    "s = input(\"아이디를 입력하시오: \")\n",
    "if s == id:\n",
    "    print(\"환영합니다.\")\n",
    "else:\n",
    "    print(\"아이디를 찾을 수 없습니다.\")"
   ]
  },
  {
   "cell_type": "markdown",
   "metadata": {},
   "source": [
    "p.125 중첩 if 문"
   ]
  },
  {
   "cell_type": "code",
   "execution_count": null,
   "metadata": {},
   "outputs": [],
   "source": [
    "# 사용자로부터 상품의 가격을 입력받는다.  \n",
    "country = input(\"배송지(현재는 korea와 us만 가능): \")\n",
    "price = int(input(\"상품의 가격: \"))\n",
    "\n",
    "# 배송비를 결정한다. \n",
    "if  country == \"korea\" :\n",
    "\tif  price >= 20000 :\n",
    "\t\tshipping_cost = 0\n",
    "\telse :\n",
    "\t\tshipping_cost = 3000\n",
    "else :\n",
    "\tif  price >= 100000 :\n",
    "\t\tshipping_cost = 0\n",
    "\telse :\n",
    "\t\tshipping_cost = 8000\n",
    "\n",
    "# 배송비를 출력한다. \n",
    "print(\"배송비 = \", shipping_cost)"
   ]
  },
  {
   "cell_type": "markdown",
   "metadata": {},
   "source": [
    "p.127 연속 if 문"
   ]
  },
  {
   "cell_type": "code",
   "execution_count": null,
   "metadata": {},
   "outputs": [],
   "source": [
    "# 성적을 받아서 학점을 결정하는 프로그램\n",
    "\n",
    "# 1\n",
    "score = 83\n",
    "\n",
    "if score >= 90 :\n",
    "\tprint(\"학점 A\")\n",
    "elif score >= 80 :\n",
    "\tprint(\"학점 B\")\n",
    "elif score >= 70 :\n",
    "\tprint(\"학점 C\")\n",
    "elif score >= 60 :\n",
    "\tprint(\"학점 D\")\n",
    "else :\n",
    "\tprint(\"학점 F\")"
   ]
  },
  {
   "cell_type": "code",
   "execution_count": null,
   "metadata": {},
   "outputs": [],
   "source": [
    "# 2. if문에서는 순서가 중요하다. -> 잘못된 결과 !\n",
    "score = 83\n",
    "\n",
    "if score >= 60 :\n",
    "\tprint(\"학점 D\")\n",
    "elif score >= 70 :\n",
    "\tprint(\"학점 C\")\n",
    "elif score >= 80 :\n",
    "\tprint(\"학점 B\")\n",
    "elif score >= 90 :\n",
    "\tprint(\"학점 A\")\n",
    "else :\n",
    "\tprint(\"학점 F\")"
   ]
  },
  {
   "cell_type": "code",
   "execution_count": null,
   "metadata": {},
   "outputs": [],
   "source": [
    "# 3. 독립적인 if문을 사용한 경우. -> 엉뚱한 결과 !\n",
    "score = 83\n",
    "\n",
    "if score >= 90 :\n",
    "\tprint(\"학점 A\")\n",
    "if score >= 80 :\n",
    "\tprint(\"학점 B\")\n",
    "if score >= 70 :\n",
    "\tprint(\"학점 C\")\n",
    "if score >= 60 :\n",
    "\tprint(\"학점 D\")\n",
    "if score < 60 :\n",
    "\tprint(\"학점 F\")"
   ]
  },
  {
   "cell_type": "markdown",
   "metadata": {},
   "source": [
    "p.129 지진 상황 출력하기"
   ]
  },
  {
   "cell_type": "code",
   "execution_count": null,
   "metadata": {},
   "outputs": [],
   "source": [
    "scale = float(input(\"리히터 규모를 입력하시오: \"))\n",
    "\n",
    "if scale >= 8.0 :\n",
    "\tprint(\"대부분의 구조물이 파괴됩니다. \")\n",
    "elif scale >= 7.0 :\n",
    "\tprint(\"지표면에 균열이 발생합니다.\")\n",
    "elif scale >= 4.0 :\n",
    "\tprint(\"빈약한 건물에 큰 피해가 있습니다. \")\n",
    "elif scale >= 2.0 :\n",
    "\tprint(\"물건들이 흔들리거나 떨어집니다.\")\n",
    "else :\n",
    "\tprint(\"지진계에 의해서만 탐지 가능합니다. \")"
   ]
  },
  {
   "cell_type": "markdown",
   "metadata": {},
   "source": [
    "p.130 오늘의 운세 출력하기"
   ]
  },
  {
   "cell_type": "code",
   "execution_count": null,
   "metadata": {},
   "outputs": [],
   "source": [
    "import random\n",
    "\n",
    "print(\"행운의 매직볼로 오늘의 운세를 출력합니다. \")\n",
    "answers = random.randint(1, 8)\n",
    "if answers == 1:\n",
    "    print(\"확실히 이루어집니다.\")\n",
    "elif answers == 2:\n",
    "    print(\"좋아 보이네요\")\n",
    "elif answers == 3:\n",
    "    print(\"믿으셔도 됩니다.\")\n",
    "elif answers == 4:\n",
    "    print(\"저의 생각에는 no입니다.\")\n",
    "else: \n",
    "    print(\"다시 질문해주세요.\")"
   ]
  },
  {
   "cell_type": "markdown",
   "metadata": {},
   "source": [
    "p.131 도형 그리기"
   ]
  },
  {
   "cell_type": "code",
   "execution_count": null,
   "metadata": {},
   "outputs": [],
   "source": [
    "import turtle\n",
    "t = turtle.Turtle()\n",
    "t.shape(\"turtle\")\n",
    "\n",
    "s = input(\"도형을 입력하시오: \")\n",
    "\n",
    "if s == \"사각형\" :\n",
    "    w = int(input(\"가로 길이\"))\n",
    "    h = int(input(\"세로 길이\"))\n",
    "    color = input(\"색상\")\n",
    "    t.pencolor(color)\n",
    "    t.forward(w)\n",
    "    t.left(90)\n",
    "    t.forward(h)\n",
    "    t.left(90)\n",
    "    t.forward(w)\n",
    "    t.left(90)\n",
    "    t.forward(h)\n",
    "\n",
    "turtle.done()\n",
    "\n",
    "# '사각형'만 지원하고 있다. '삼각형', '원'인 경우도 도형을 그리는 코드를 추가하자."
   ]
  },
  {
   "cell_type": "markdown",
   "metadata": {},
   "source": [
    "p.134 연습문제"
   ]
  },
  {
   "cell_type": "markdown",
   "metadata": {},
   "source": [
    "p.137 Programming"
   ]
  }
 ],
 "metadata": {
  "kernelspec": {
   "display_name": "Python 3",
   "language": "python",
   "name": "python3"
  },
  "language_info": {
   "codemirror_mode": {
    "name": "ipython",
    "version": 3
   },
   "file_extension": ".py",
   "mimetype": "text/x-python",
   "name": "python",
   "nbconvert_exporter": "python",
   "pygments_lexer": "ipython3",
   "version": "3.11.4"
  },
  "orig_nbformat": 4
 },
 "nbformat": 4,
 "nbformat_minor": 2
}
