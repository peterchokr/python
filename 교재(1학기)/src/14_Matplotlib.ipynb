{
 "cells": [
  {
   "cell_type": "markdown",
   "metadata": {},
   "source": [
    "#### 14 Matplotlib, Pandas, Request, Smptlib, SQLite 사용해보기"
   ]
  },
  {
   "cell_type": "markdown",
   "metadata": {},
   "source": [
    "p.481 Matplotlib로 그래프를 그려보자"
   ]
  },
  {
   "cell_type": "markdown",
   "metadata": {},
   "source": [
    "선 그래프"
   ]
  },
  {
   "cell_type": "code",
   "execution_count": null,
   "metadata": {},
   "outputs": [],
   "source": [
    "import matplotlib.pyplot as plt\n",
    "\n",
    "X = [1, 2, 3, 4, 5, 6, 7]\n",
    "Y = [15.6, 14.2, 16.3, 18.2, 17.1, 20.2, 22.4]\n",
    "\n",
    "plt.plot(X, Y)  # 선 그래프를 그린다.\n",
    "plt.show()"
   ]
  },
  {
   "cell_type": "code",
   "execution_count": null,
   "metadata": {},
   "outputs": [],
   "source": [
    "X = [ \"Mon\", \"Tue\", \"Wed\", \"Thur\", \"Fri\", \"Sat\", \"Sun\" ]\n",
    "Y = [15.6, 14.2, 16.3, 18.2, 17.1, 20.2, 22.4]\n",
    "plt.plot(X, Y) \n",
    "plt.show()"
   ]
  },
  {
   "cell_type": "code",
   "execution_count": null,
   "metadata": {},
   "outputs": [],
   "source": [
    "X = [ \"Mon\", \"Tue\", \"Wed\", \"Thur\", \"Fri\", \"Sat\", \"Sun\" ]\n",
    "Y = [15.6, 14.2, 16.3, 18.2, 17.1, 20.2, 22.4]\n",
    "\n",
    "plt.plot(X, Y) \n",
    "plt.xlabel(\"day\")   # x축 레이블\n",
    "plt.ylabel(\"temperature\")   # y축 레이블\n",
    "plt.show()"
   ]
  },
  {
   "cell_type": "code",
   "execution_count": null,
   "metadata": {},
   "outputs": [],
   "source": [
    "X = [ \"Mon\", \"Tue\", \"Wed\", \"Thur\", \"Fri\", \"Sat\", \"Sun\" ]\n",
    "Y1 = [15.6, 14.2, 16.3, 18.2, 17.1, 20.2, 22.4]\n",
    "Y2 = [20.1, 23.1, 23.8, 25.9, 23.4, 25.1, 26.3]\n",
    "\n",
    "plt.plot(X, Y1, X, Y2)  # plot()에 2개의 리스트 쌍을 보낸다.\n",
    "plt.xlabel(\"day\")\n",
    "plt.ylabel(\"temperature\")\n",
    "plt.show()"
   ]
  },
  {
   "cell_type": "code",
   "execution_count": null,
   "metadata": {},
   "outputs": [],
   "source": [
    "X = [ \"Mon\", \"Tue\", \"Wed\", \"Thur\", \"Fri\", \"Sat\", \"Sun\" ]\n",
    "Y1 = [15.6, 14.2, 16.3, 18.2, 17.1, 20.2, 22.4]\n",
    "Y2 = [20.1, 23.1, 23.8, 25.9, 23.4, 25.1, 26.3]\n",
    "\n",
    "plt.plot(X, Y1, label=\"Seoul\")  # 분리시켜 그려도 됨\n",
    "plt.plot(X, Y2, label=\"Busan\")  # 분리시켜 그려도 됨\n",
    "plt.xlabel(\"day\")\n",
    "plt.ylabel(\"temperature\")\n",
    "plt.legend(loc=\"upper left\")     # 레전드\n",
    "plt.title(\"Temperature of Cities\")  # 그래프의 제목\n",
    "plt.show()"
   ]
  },
  {
   "cell_type": "markdown",
   "metadata": {},
   "source": [
    "p.483 산점도"
   ]
  },
  {
   "cell_type": "markdown",
   "metadata": {},
   "source": [
    "마커의 종류로는 's', '-', '*', 'o', '.', 'D', 'v' 등이 있다."
   ]
  },
  {
   "cell_type": "code",
   "execution_count": null,
   "metadata": {},
   "outputs": [],
   "source": [
    "plt.plot( [15.6, 14.2, 16.3, 18.2, 17.1, 20.2, 22.4], \"sm\")\n",
    "plt.show()"
   ]
  },
  {
   "cell_type": "markdown",
   "metadata": {},
   "source": [
    "막대 그래프"
   ]
  },
  {
   "cell_type": "code",
   "execution_count": null,
   "metadata": {},
   "outputs": [],
   "source": [
    "import matplotlib.pyplot as plt\n",
    "\n",
    "X = [ \"Mon\", \"Tue\", \"Wed\", \"Thur\", \"Fri\", \"Sat\", \"Sun\" ]\n",
    "Y = [15.6, 14.2, 16.3, 18.2, 17.1, 20.2, 22.4]\n",
    "plt.bar(X, Y) # 막대 그래프\n",
    "plt.show()"
   ]
  },
  {
   "cell_type": "markdown",
   "metadata": {},
   "source": [
    "p.484 파이 차트"
   ]
  },
  {
   "cell_type": "code",
   "execution_count": null,
   "metadata": {},
   "outputs": [],
   "source": [
    "import matplotlib.pyplot as plt\n",
    "\n",
    "Y = [38, 22, 15, 25]\n",
    "labels = [\"Apples\", \"Pear\", \"Strawberry\", \"Cherries\"]\n",
    "explode = [0.1, 0, 0, 0]\t\t\t\t\t\n",
    "\n",
    "plt.pie(Y, labels = labels, explode = explode)\t# 파이 챠트\n",
    "plt.show() "
   ]
  },
  {
   "cell_type": "markdown",
   "metadata": {},
   "source": [
    "3차원 그래프"
   ]
  },
  {
   "cell_type": "code",
   "execution_count": null,
   "metadata": {},
   "outputs": [],
   "source": [
    "from mpl_toolkits import mplot3d\n",
    "import numpy as np\n",
    "import matplotlib.pyplot as plt\n",
    "\n",
    "# 3차원 축(axis)을 얻는다. \n",
    "axis = plt.axes(projection='3d')\n",
    "\n",
    "# 3차원 데이터를 넘파이 배열로 생성한다. \n",
    "Z = np.linspace(0, 1, 100)\t\t# 0에서 1까지 100개의 순차 데이터 생성\n",
    "X = Z * np.sin(30 * Z)\t\t\t# sin() 함수 적용\n",
    "Y = Z * np.cos(30 * Z)\t\t\t# cos() 함수 적용\t\n",
    "\n",
    "# 3차원 그래프를 그린다. \n",
    "axis.plot3D(X, Y, Z)\t\n",
    "plt.show()"
   ]
  },
  {
   "cell_type": "markdown",
   "metadata": {},
   "source": [
    "p.485 판다스로 데이터를 처리해보자"
   ]
  },
  {
   "cell_type": "markdown",
   "metadata": {},
   "source": [
    "(주의) 디폴드 폴더(디렉토리)를 현재 파일이 있는 폴더로 변경한 후 코딩을 실습해야."
   ]
  },
  {
   "cell_type": "code",
   "execution_count": null,
   "metadata": {},
   "outputs": [],
   "source": [
    "import os\n",
    "print(os.getcwd())\t"
   ]
  },
  {
   "cell_type": "code",
   "execution_count": null,
   "metadata": {},
   "outputs": [],
   "source": [
    "os.chdir('.\\\\chap14_data')\n",
    "print(os.getcwd())"
   ]
  },
  {
   "cell_type": "code",
   "execution_count": null,
   "metadata": {},
   "outputs": [],
   "source": [
    "pip install pandas"
   ]
  },
  {
   "cell_type": "code",
   "execution_count": null,
   "metadata": {},
   "outputs": [],
   "source": [
    "import pandas as pd\n",
    "df = pd.read_csv('countries.csv')\n",
    "print(df)"
   ]
  },
  {
   "cell_type": "markdown",
   "metadata": {},
   "source": [
    "p.486 인덱스와 컬럼 객체"
   ]
  },
  {
   "cell_type": "code",
   "execution_count": null,
   "metadata": {},
   "outputs": [],
   "source": [
    "import pandas as pd\n",
    "df = pd.read_csv('countries.csv', index_col=0)  # 첫번째 열을 인덱스로 지정\n",
    "print(df)"
   ]
  },
  {
   "cell_type": "markdown",
   "metadata": {},
   "source": [
    "p.487 열 선택하기"
   ]
  },
  {
   "cell_type": "code",
   "execution_count": null,
   "metadata": {},
   "outputs": [],
   "source": [
    "df['population']"
   ]
  },
  {
   "cell_type": "code",
   "execution_count": null,
   "metadata": {},
   "outputs": [],
   "source": [
    "df['area', 'population']"
   ]
  },
  {
   "cell_type": "code",
   "execution_count": null,
   "metadata": {},
   "outputs": [],
   "source": [
    "df['population'].plot(kind='bar')"
   ]
  },
  {
   "cell_type": "code",
   "execution_count": null,
   "metadata": {},
   "outputs": [],
   "source": [
    "df['area'].tolist()"
   ]
  },
  {
   "cell_type": "markdown",
   "metadata": {},
   "source": [
    "p.488 행 선택하기"
   ]
  },
  {
   "cell_type": "code",
   "execution_count": null,
   "metadata": {},
   "outputs": [],
   "source": [
    "df[:3]"
   ]
  },
  {
   "cell_type": "code",
   "execution_count": null,
   "metadata": {},
   "outputs": [],
   "source": [
    "df.loc['KR']"
   ]
  },
  {
   "cell_type": "markdown",
   "metadata": {},
   "source": [
    "p.489 요소 선택하기"
   ]
  },
  {
   "cell_type": "code",
   "execution_count": null,
   "metadata": {},
   "outputs": [],
   "source": [
    "df['population'][:3]"
   ]
  },
  {
   "cell_type": "code",
   "execution_count": null,
   "metadata": {},
   "outputs": [],
   "source": [
    "df.loc['US', 'capital']"
   ]
  },
  {
   "cell_type": "markdown",
   "metadata": {},
   "source": [
    "간단히 데이터 분석하기"
   ]
  },
  {
   "cell_type": "code",
   "execution_count": null,
   "metadata": {},
   "outputs": [],
   "source": [
    "df.describe()"
   ]
  },
  {
   "cell_type": "markdown",
   "metadata": {},
   "source": [
    "열 추가"
   ]
  },
  {
   "cell_type": "code",
   "execution_count": null,
   "metadata": {},
   "outputs": [],
   "source": [
    "import pandas as pd\n",
    "countries = pd.read_csv(\"countries.csv\")\n",
    "countries[\"density\"] = countries[\"population\"]/countries[\"area\"]\n",
    "print(countries)"
   ]
  },
  {
   "cell_type": "markdown",
   "metadata": {},
   "source": [
    "p.490 필터링"
   ]
  },
  {
   "cell_type": "code",
   "execution_count": null,
   "metadata": {},
   "outputs": [],
   "source": [
    "countries['density'] > 100"
   ]
  },
  {
   "cell_type": "code",
   "execution_count": null,
   "metadata": {},
   "outputs": [],
   "source": [
    "countries[countries['density'] > 100]"
   ]
  },
  {
   "cell_type": "markdown",
   "metadata": {},
   "source": [
    "p.491 결손값 삭제하기"
   ]
  },
  {
   "cell_type": "markdown",
   "metadata": {},
   "source": [
    "countries1.csv 파일에 면적 데이터가 누락된 행이 있다."
   ]
  },
  {
   "cell_type": "code",
   "execution_count": null,
   "metadata": {},
   "outputs": [],
   "source": [
    "df.dropna(how='any')"
   ]
  },
  {
   "cell_type": "markdown",
   "metadata": {},
   "source": [
    "p.492 Lab 판매 데이터 시각화"
   ]
  },
  {
   "cell_type": "code",
   "execution_count": null,
   "metadata": {},
   "outputs": [],
   "source": [
    "import pandas as pd\n",
    "import matplotlib.pyplot as plt\n",
    "\n",
    "df = pd.read_csv(\"sales_data.csv\") # CSV 파일을 읽는다.\n",
    "\n",
    "monthList = df ['month'].tolist() # \"month\" 열을 추출하여서 리스트로 만든다.\n",
    "tvData = df ['tv'].tolist() # \"tv\" 열을 추출하여서 리스트로 만든다.\n",
    "laptopData = df ['laptop'].tolist()\n",
    "phoneData = df ['phone'].tolist()\n",
    "\n",
    "# 각 리스트를 하나의 그래프에 중첩해서 그린다. 마커도 사용한다.\n",
    "plt.plot(monthList, tvData, label = 'tv sales', marker='o', linewidth=3)\n",
    "plt.plot(monthList, laptopData, label = 'laptop sales', marker='o', linewidth=3)\n",
    "plt.plot(monthList, phoneData, label = 'phone sales', marker='o', linewidth=3)\n",
    "\n",
    "# 그래프의 레이블, 레전드, 눈금을 설정한다.\n",
    "plt.xlabel('month')\n",
    "plt.ylabel('unit')\n",
    "plt.legend(loc='upper left')\n",
    "plt.xticks(monthList)\n",
    "plt.yticks([1000, 2000])\n",
    "plt.title('Sales Data')\n",
    "plt.show()"
   ]
  },
  {
   "cell_type": "markdown",
   "metadata": {},
   "source": [
    "p.494 엑셀 파일 읽어서 마케팅 이메일 보내기"
   ]
  },
  {
   "cell_type": "code",
   "execution_count": null,
   "metadata": {},
   "outputs": [],
   "source": [
    "pip install secure-smptlib"
   ]
  },
  {
   "cell_type": "markdown",
   "metadata": {},
   "source": [
    "p.495 엑셀 파일 읽고 쓰기"
   ]
  },
  {
   "cell_type": "code",
   "execution_count": null,
   "metadata": {},
   "outputs": [],
   "source": [
    "pip install openpyxl"
   ]
  },
  {
   "cell_type": "code",
   "execution_count": null,
   "metadata": {},
   "outputs": [],
   "source": [
    "from openpyxl import Workbook\n",
    "workbook = Workbook()\n",
    "\n",
    "sheet = workbook.active\n",
    "sheet2 = workbook.create_sheet('Sheet1')\n",
    "sheet['A1'] = 123\n",
    "\n",
    "sheet.cell(row=4, column=2, value=10)\n",
    "workbook.save(\"test.xlsx\")"
   ]
  },
  {
   "cell_type": "markdown",
   "metadata": {},
   "source": [
    "p.498 Lab 구매 홍보 이메일 보내기"
   ]
  },
  {
   "cell_type": "code",
   "execution_count": null,
   "metadata": {},
   "outputs": [],
   "source": [
    "import openpyxl, smtplib, sys\n",
    "from email.mime.text import MIMEText\n",
    "\n",
    "workbook = openpyxl.load_workbook('구매현황.xlsx')\n",
    "sheet = workbook.get_sheet_by_name('Sheet1')\n",
    "\n",
    "members = {}\n",
    "for r in range(2, sheet.max_row + 1):   # 모든 행을 반복. 첫번째 행은 제목이므로 생략\n",
    "    pay = sheet.cell(row=r, column=sheet.max_column).value  # 마지막 컬럼(2022년)의 값을 가져온다.\n",
    "\n",
    "    if pay != '구매':\n",
    "        name = sheet.cell(row=r, column=1).value\n",
    "        email = sheet.cell(row=r, column=2).value\n",
    "        members[name] = email\n",
    "\n",
    "\n",
    "session = smtplib.SMTP_SSL('smtp.gmail.com', 587)   \n",
    "session.ehlo()\n",
    "session.login('peterchokr@gmail.com', '비번')   # 메일 서버에 로그인\n",
    "\n",
    "\n",
    "for name, email in members.items(): # 딕셔너리에서 이름과 이메일을 꺼내서 메일을 작성하고 발송한다.\n",
    "    msg = MIMEText(f'{name} 회원님, 30% 할인쿠폰이 발행되었습니다. \\n 기간 내에 방문해주세요.\\n 감사합니다.')\n",
    "    msg['Subject']='할인쿠폰 증정 행사'\n",
    "    msg['From']='abc@naver.com'\n",
    "    msg['To']=email\n",
    "    print(f'{email}에게 이메일을 보내는 중입니다.')\n",
    "    status = session.sendmail('peterchokr@gmail.com', email, msg.as_string())\n",
    "\n",
    "    if status != {}:\n",
    "        print(f'이메일 {email} 전송에서 문제 {status}가 발생하였습니다.' )\n",
    "session.quit()"
   ]
  },
  {
   "cell_type": "markdown",
   "metadata": {},
   "source": [
    "p.500 Request와 BeautifulSoup로 웹에서 데이터를 가져오자"
   ]
  },
  {
   "cell_type": "markdown",
   "metadata": {},
   "source": [
    "request 모듈 - http 요청을 전송"
   ]
  },
  {
   "cell_type": "code",
   "execution_count": null,
   "metadata": {},
   "outputs": [],
   "source": [
    "pip install requests"
   ]
  },
  {
   "cell_type": "code",
   "execution_count": null,
   "metadata": {},
   "outputs": [],
   "source": [
    "import requests\n",
    "response = requests.get(\"https://www.naver.com\")\n",
    "print(response.status_code)     # 200 : 정상적 응답\n",
    "print(response.text)"
   ]
  },
  {
   "cell_type": "markdown",
   "metadata": {},
   "source": [
    "p.501 BeautifulSoup 모듈 - html 코드를 파싱하여 트리 형태로 생성"
   ]
  },
  {
   "cell_type": "code",
   "execution_count": null,
   "metadata": {},
   "outputs": [],
   "source": [
    "pip install beautifulsoup4"
   ]
  },
  {
   "cell_type": "code",
   "execution_count": null,
   "metadata": {},
   "outputs": [],
   "source": [
    "from bs4 import BeautifulSoup\n",
    "import requests\n",
    "response = requests.get(\"http://www.kma.go.kr/weather/forecast/mid-term-rss3.jsp?stnId=109\")\n",
    "soup = BeautifulSoup(response.content, 'html.parser')\n",
    "\n",
    "for data in soup.select(\"location\"):\n",
    "\tprint(data.select_one(\"city\").get_text())\n",
    "\tprint(data.select_one(\"wf\").get_text())\n",
    "\tprint(data.select_one(\"tmn\").get_text())\n",
    "\tprint(data.select_one(\"tmx\").get_text())"
   ]
  },
  {
   "cell_type": "markdown",
   "metadata": {},
   "source": [
    "p.503 우산 준비 이메일 보내기"
   ]
  },
  {
   "cell_type": "code",
   "execution_count": null,
   "metadata": {},
   "outputs": [],
   "source": [
    "from bs4 import BeautifulSoup\n",
    "import requests\n",
    "import openpyxl, smtplib, sys\n",
    "from email.mime.text import MIMEText\n",
    "\n",
    "response = requests.get(\"http://www.kma.go.kr/wid/queryDFSRSS.jsp?zone=1159068000\")\n",
    "soup = BeautifulSoup(response.content, 'html.parser')\n",
    "\n",
    "weather = (soup.select('wfEn')[0]).text\n",
    "temperature = (soup.select('temp')[0]).text\n",
    "print(weather)\n",
    "print(temperature)\n",
    "\n",
    "if weather == \"Rain\" or weather == \"Snow\":\n",
    "    session = smtplib.SMTP_SSL('smtp.naver.com', 465)\n",
    "    session.ehlo()\n",
    "    session.login('abc@naver.com', 'password')  # 자신의 아이디와 패스워드로 변경\n",
    "\n",
    "    msg = MIMEText('비가 온다고 합니다.\\n 우산을 준비하세요!\\n 감사합니다.')\n",
    "    msg['Subject']='우산 준비!'\n",
    "    msg['From']='abc@naver.com'     # 변경하여야 함!\n",
    "    msg['To']='abc@naver.com'\n",
    "    print('abc@naver.com에게 이메일을 보내는 중입니다.')\n",
    "    status = session.sendmail('abc@naver.com', 'abc@naver.com', msg.as_string())\n",
    "    if status != {}:\n",
    "        print(f'abc@naver.com 이메일 전송에서 문제 {status}가 발생하였습니다.' )\n",
    "    session.quit()"
   ]
  },
  {
   "cell_type": "markdown",
   "metadata": {},
   "source": [
    "p.504 워드 클라우드 만들어 보기"
   ]
  },
  {
   "cell_type": "code",
   "execution_count": null,
   "metadata": {},
   "outputs": [],
   "source": [
    "pip install wordcloud"
   ]
  },
  {
   "cell_type": "code",
   "execution_count": null,
   "metadata": {},
   "outputs": [],
   "source": [
    "import matplotlib.pyplot as plt\n",
    "from wordcloud import WordCloud\n",
    "\n",
    "text=\"\"\n",
    "with open(\"mobydick.txt\", \"r\", encoding=\"utf-8\") as f:\n",
    "\tlines = f.readlines()\n",
    "\tfor line in lines:\n",
    "\t\ttext += line\n",
    "wc = WordCloud(width=600, height=400)\n",
    "wc.generate(text)\n",
    "\n",
    "wc.to_file(\"wc.png\")\n",
    "plt.figure(figsize=(30, 10))\n",
    "plt.imshow(wc)\n",
    "plt.show()"
   ]
  },
  {
   "cell_type": "markdown",
   "metadata": {},
   "source": [
    "p.507 SQLite 데이터베이스 사용하기"
   ]
  },
  {
   "cell_type": "markdown",
   "metadata": {},
   "source": [
    "p.508 SQL 사용하여 데이터 저장하기"
   ]
  },
  {
   "cell_type": "code",
   "execution_count": null,
   "metadata": {},
   "outputs": [],
   "source": [
    "import sqlite3\n",
    "con = sqlite3.connect('test.db')\n",
    "cur = con.cursor()\n",
    "\n",
    "cur.execute('''CREATE TABLE product\n",
    "(id INTEGER, name TEXT, price INTEGER, qty INTEGER)''')\n",
    "cur.execute(\"INSERT INTO product VALUES (1, '노트북', 1200000, 9) \")\n",
    "cur.execute(\"INSERT INTO product VALUES (2, '데스크탑', 1600000, 6) \")\n",
    "cur.execute(\"INSERT INTO product VALUES (3, '마우스', 20000, 100) \")\n",
    "cur.execute(\"INSERT INTO product VALUES (4, '키보드', 50000, 65) \")\n",
    "cur.execute(\"INSERT INTO product VALUES (5, 'CPU', 600000, 12) \")\n",
    "con.commit()\n",
    "con.close()"
   ]
  },
  {
   "cell_type": "markdown",
   "metadata": {},
   "source": [
    "p.510 SQL 사용하여 검색하기"
   ]
  },
  {
   "cell_type": "code",
   "execution_count": null,
   "metadata": {},
   "outputs": [],
   "source": [
    "import sqlite3\n",
    "\n",
    "con = sqlite3.connect('test.db')\n",
    "cur = con.cursor()\n",
    "for row in cur.execute('SELECT * FROM product ORDER BY price'):\n",
    "\tprint(row)"
   ]
  },
  {
   "cell_type": "code",
   "execution_count": null,
   "metadata": {},
   "outputs": [],
   "source": [
    "import sqlite3\n",
    "\n",
    "con = sqlite3.connect('test.db')\n",
    "cur = con.cursor()\n",
    "for row in cur.execute('SELECT * FROM product WHERE price > 100000'):   # 조건 추가\n",
    "\tprint(row)"
   ]
  },
  {
   "cell_type": "markdown",
   "metadata": {},
   "source": [
    "업데이트하기"
   ]
  },
  {
   "cell_type": "code",
   "execution_count": null,
   "metadata": {},
   "outputs": [],
   "source": [
    "import sqlite3\n",
    "con = sqlite3.connect('test.db')\n",
    "cur = con.cursor()\n",
    "\n",
    "cur.execute(\"UPDATE product set price = 2000000 where id = 1\")\n",
    "con.commit()\n",
    "\n",
    "for row in cur.execute('SELECT * FROM product'):\n",
    "\tprint(row)\n",
    " \n",
    "con.close()"
   ]
  },
  {
   "cell_type": "markdown",
   "metadata": {},
   "source": [
    "p.511 삭제하기"
   ]
  },
  {
   "cell_type": "code",
   "execution_count": null,
   "metadata": {},
   "outputs": [],
   "source": [
    "import sqlite3\n",
    "con = sqlite3.connect('test.db')\n",
    "cur = con.cursor()\n",
    "\n",
    "cur.execute(\"DELETE from product where id = 2\")\n",
    "con.commit()\n",
    "\n",
    "for row in cur.execute('SELECT * FROM product'):\n",
    "\tprint(row)\n",
    " \n",
    "con.close()"
   ]
  },
  {
   "cell_type": "markdown",
   "metadata": {},
   "source": [
    "p.512 Lab 데이터베이스 -> 웹페이지"
   ]
  },
  {
   "cell_type": "markdown",
   "metadata": {},
   "source": [
    "bottle : 독립형 마이크로 웹 프레임워크"
   ]
  },
  {
   "cell_type": "code",
   "execution_count": null,
   "metadata": {},
   "outputs": [],
   "source": [
    "pip install bottle  "
   ]
  },
  {
   "cell_type": "markdown",
   "metadata": {},
   "source": [
    "(1) inventory.db 생성"
   ]
  },
  {
   "cell_type": "code",
   "execution_count": null,
   "metadata": {},
   "outputs": [],
   "source": [
    "import sqlite3\n",
    "\n",
    "con = sqlite3.connect('inventory.db')\n",
    "cur = con.cursor()\n",
    "cur.execute(\"CREATE TABLE stock (item char(100), number INTEGER, id INTEGER PRIMARY KEY )\")\n",
    "cur.execute(\"INSERT INTO stock (item, number) VALUES ('eggs', 100)\")\n",
    "cur.execute(\"INSERT INTO stock (item, number) VALUES ('milk', 30)\")\n",
    "cur.execute(\"INSERT INTO stock (item, number) VALUES ('bread', 70)\")\n",
    "con.commit()\n",
    "con.close()\n",
    "print(\"데이터베이스가 생성되었습니다.\")"
   ]
  },
  {
   "cell_type": "markdown",
   "metadata": {},
   "source": [
    "(2) 웹 페이지 생성"
   ]
  },
  {
   "cell_type": "code",
   "execution_count": null,
   "metadata": {},
   "outputs": [],
   "source": [
    "import sqlite3\n",
    "from bottle import route, run\n",
    " \n",
    "@route('/')\n",
    "def itemlist():\t\t\t# 웹 메인 페이지를 반환한다. \n",
    "    con = sqlite3.connect('inventory.db')\n",
    "    cur = con.cursor()\n",
    "    \n",
    "    html = \"<h1> 재고 리스트</h1>\"\n",
    "    cur.execute(\"SELECT * FROM stock\")\n",
    "    result = cur.fetchall()\n",
    "\n",
    "    for row in result:\n",
    "        html += \"<li>\"+ row[0] + \": \" + str(row[1]) + \"개 </li>\\n\"\n",
    "\n",
    "    con.close()\n",
    "    return html\n",
    "\n",
    "run()\t\t\t\t# 웹서버 실행"
   ]
  },
  {
   "cell_type": "markdown",
   "metadata": {},
   "source": [
    "(3) 브라우저에서 127.0.0.1:8080 실행하여 웹 페이지 표시 확인"
   ]
  }
 ],
 "metadata": {
  "kernelspec": {
   "display_name": "Python 3",
   "language": "python",
   "name": "python3"
  },
  "language_info": {
   "codemirror_mode": {
    "name": "ipython",
    "version": 3
   },
   "file_extension": ".py",
   "mimetype": "text/x-python",
   "name": "python",
   "nbconvert_exporter": "python",
   "pygments_lexer": "ipython3",
   "version": "3.11.4"
  },
  "orig_nbformat": 4
 },
 "nbformat": 4,
 "nbformat_minor": 2
}
