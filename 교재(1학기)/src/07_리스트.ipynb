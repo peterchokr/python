{
 "cells": [
  {
   "cell_type": "markdown",
   "metadata": {},
   "source": [
    "#### 7. 리스트"
   ]
  },
  {
   "cell_type": "markdown",
   "metadata": {},
   "source": [
    "p.228 리스트의 항목 접근하기"
   ]
  },
  {
   "cell_type": "code",
   "execution_count": null,
   "metadata": {},
   "outputs": [],
   "source": [
    "temps = [28, 31, 33, 35, 27, 26, 25]\n",
    "print(temps[3])"
   ]
  },
  {
   "cell_type": "markdown",
   "metadata": {},
   "source": [
    "음수 인덱스"
   ]
  },
  {
   "cell_type": "code",
   "execution_count": null,
   "metadata": {},
   "outputs": [],
   "source": []
  },
  {
   "cell_type": "markdown",
   "metadata": {},
   "source": [
    "인덱스 오류"
   ]
  },
  {
   "cell_type": "code",
   "execution_count": null,
   "metadata": {},
   "outputs": [],
   "source": []
  },
  {
   "cell_type": "markdown",
   "metadata": {},
   "source": [
    "p.229 리스트 방문"
   ]
  },
  {
   "cell_type": "code",
   "execution_count": null,
   "metadata": {},
   "outputs": [],
   "source": [
    "# 1. 인덱스 값을 사용하여 방문\n",
    "temps =[28,31,33,35,27,26,25] \n",
    "\n",
    "for i in range(len(temps)):\n",
    "\tprint(temps[i], end=', ')\n",
    "print()"
   ]
  },
  {
   "cell_type": "code",
   "execution_count": null,
   "metadata": {},
   "outputs": [],
   "source": [
    "# 2. for-in 루프 사용하여 방문\n",
    "temps =[28,31,33,35,27,26,25] \n",
    "\n",
    "for element in temps:\n",
    "\tprint(element, end=', ')"
   ]
  },
  {
   "cell_type": "markdown",
   "metadata": {},
   "source": [
    "리스트에 어떤 값이 있는지를 알고 싶다면?"
   ]
  },
  {
   "cell_type": "code",
   "execution_count": null,
   "metadata": {},
   "outputs": [],
   "source": [
    "temps =[28,31,33,35,27,26,25] \n",
    "if 33 in temps:\n",
    "\tprint(\"리스트에 33이 있음!\")"
   ]
  },
  {
   "cell_type": "code",
   "execution_count": null,
   "metadata": {},
   "outputs": [],
   "source": [
    "temps =[28,31,33,35,27,26,25] \n",
    "if 99 not in temps:\n",
    "\tprint(\"리스트에 99가 없음!\")"
   ]
  },
  {
   "cell_type": "markdown",
   "metadata": {},
   "source": [
    "p.230 리스트 연산들"
   ]
  },
  {
   "cell_type": "code",
   "execution_count": null,
   "metadata": {},
   "outputs": [],
   "source": [
    "# append\n",
    "fruits = [ ] \t\t\t\t# 공백 리스트를 생성한다. \n",
    "fruits.append(\"apple\")\t\t\t# 리스트에 ”apple“을 추가한다. \n",
    "fruits.append(\"banana\")\t\t# 리스트에 ”banana“를 추가한다. \n",
    "print(fruits)"
   ]
  },
  {
   "cell_type": "code",
   "execution_count": null,
   "metadata": {},
   "outputs": [],
   "source": [
    "# insert\n",
    "fruits = [\"apple\", \"banana\", \"grape\"]\n",
    "fruits.insert(1, \"cherry\")\n",
    "print(fruits)"
   ]
  },
  {
   "cell_type": "code",
   "execution_count": null,
   "metadata": {},
   "outputs": [],
   "source": [
    "# 리스트 탐색하기. index()\n",
    "fruits = [\"apple\", \"banana\", \"grape\"]\n",
    "n = fruits.index(\"banana\")\t\t# n은 1이 된다. \n",
    "print(n)\n",
    "\n",
    "if \"banana\" in fruits:    # 없다면 오류 발생. 먼저 있는지 확인한 후 탐색하자\n",
    "    print(fruits.index(\"banana\"))"
   ]
  },
  {
   "cell_type": "code",
   "execution_count": null,
   "metadata": {},
   "outputs": [],
   "source": [
    "# 요소 삭제하기    \n",
    "fruits = [\"apple\", \"banana\", \"grape\"]\n",
    "item = fruits.pop(0)\t\t# \"apple\"이 삭제된다. \n",
    "print(fruits)"
   ]
  },
  {
   "cell_type": "code",
   "execution_count": null,
   "metadata": {},
   "outputs": [],
   "source": [
    "fruits = [\"apple\", \"banana\", \"grape\"]\n",
    "fruits.remove(\"banana\")\n",
    "print(fruits)"
   ]
  },
  {
   "cell_type": "markdown",
   "metadata": {},
   "source": [
    "p.233 최소값, 최대값, 합계"
   ]
  },
  {
   "cell_type": "code",
   "execution_count": null,
   "metadata": {},
   "outputs": [],
   "source": [
    "numbers = [10, 20, 30, 40, 50]\n",
    "\n",
    "print(\"합=\",sum(numbers))\t\t# 항목의 합계를 계산한다. \n",
    "print(\"최대값=\",max(numbers))\t\t# 가장 큰 항목을 반환한다. \n",
    "print(\"최소값=\",min(numbers))\t\t# 가장 작은 항목을 반환한다. "
   ]
  },
  {
   "cell_type": "markdown",
   "metadata": {},
   "source": [
    "p.234 정렬"
   ]
  },
  {
   "cell_type": "code",
   "execution_count": null,
   "metadata": {},
   "outputs": [],
   "source": [
    "# 1. sort()\n",
    "a = [ 3, 2, 1, 5, 4 ]\n",
    "a.sort()\t\t\t# 원본이 변경된다.\n",
    "print(a)\n",
    "\n",
    "a = [ 3, 2, 1, 5, 4 ]\n",
    "a.sort(reverse=True)\n",
    "print(a)"
   ]
  },
  {
   "cell_type": "code",
   "execution_count": null,
   "metadata": {},
   "outputs": [],
   "source": [
    "# 2. sorted()\n",
    "numbers = [10,3,7,1,9,4,2,8,5,6]\n",
    "ascending_numbers = sorted(numbers)   # 원본은 바뀌지 않는다.\n",
    "print(ascending_numbers)\n",
    "print(numbers)"
   ]
  },
  {
   "cell_type": "markdown",
   "metadata": {},
   "source": [
    "p.234 리스트에서 랜덤으로 선택하기"
   ]
  },
  {
   "cell_type": "code",
   "execution_count": null,
   "metadata": {},
   "outputs": [],
   "source": [
    "import random\n",
    "numberList = [1, 2, 3, 4, 5, 6, 7, 8, 9, 10]\n",
    "print(\"랜덤하게 선택한 항목=\", random.choice(numberList))\n",
    "\n",
    "\n",
    "import random\n",
    "movie_list = [\"Citizen Kane\", \"Singing in the Rain\", \"Modern Times\", \"Casablanca\", \"City Lights\"]\n",
    "item = random.choice(movie_list)\n",
    "print (\"랜덤하게 선택한 항목=\", item)"
   ]
  },
  {
   "cell_type": "markdown",
   "metadata": {},
   "source": [
    "p.235 두번째로 큰 수 계산하기"
   ]
  },
  {
   "cell_type": "code",
   "execution_count": null,
   "metadata": {},
   "outputs": [],
   "source": [
    "list1 = [1, 2, 3, 4, 15, 99] \n",
    "\n",
    "# 리스트를 정렬한다. \n",
    "list1.sort() \n",
    "  \n",
    "# 뒤에서 두 번째 요소를 출력한다. \n",
    "print(\"두 번째로 큰 수=\", list1[-2]) "
   ]
  },
  {
   "cell_type": "markdown",
   "metadata": {},
   "source": [
    "p.236 최대값과 최소값 제외하기"
   ]
  },
  {
   "cell_type": "code",
   "execution_count": null,
   "metadata": {},
   "outputs": [],
   "source": [
    "scores = [10.0, 9.0, 8.3, 7.1, 3.0, 9.0]\n",
    "print(\"제거전\", scores)\n",
    "scores.remove(max(scores))\n",
    "scores.remove(min(scores))\n",
    "print(\"제거후\", scores)"
   ]
  },
  {
   "cell_type": "markdown",
   "metadata": {},
   "source": [
    "p.237 성적 처리 프로그램"
   ]
  },
  {
   "cell_type": "code",
   "execution_count": null,
   "metadata": {},
   "outputs": [],
   "source": [
    "STUDENTS = 5 \n",
    "lst = [] \n",
    "count=0\n",
    "\n",
    "for i in range(STUDENTS):\n",
    "    value = int(input(\"성적을 입력하시요: \"))\n",
    "    lst.append(value)\n",
    "\n",
    "print(\"\\n성적 평균=\", sum(lst) / len(lst))\n",
    "print(\"최대점수=\", max(lst))\n",
    "print(\"최소점수=\", min(lst))\n",
    "\n",
    "for score in lst:\n",
    "    if score >= 80:\n",
    "        count += 1\n",
    "print(\"80점 이상=\", count)\n"
   ]
  },
  {
   "cell_type": "markdown",
   "metadata": {},
   "source": [
    "p.238 리스트 합병과 복제"
   ]
  },
  {
   "cell_type": "code",
   "execution_count": null,
   "metadata": {},
   "outputs": [],
   "source": [
    "fruits1 = [ \"apple\", \"cherry\" ]\n",
    "fruits2 = [ \"banana\", \"blueberry\" ]\n",
    "\n",
    "fruits = fruits1 + fruits2  \n",
    "print(fruits)"
   ]
  },
  {
   "cell_type": "code",
   "execution_count": null,
   "metadata": {},
   "outputs": [],
   "source": [
    "numbers = [ 1, 2, 3 ] * 3 \t\n",
    "print(numbers)\n",
    "\n",
    "numbers = [0] * 12 \t\t\n",
    "print(numbers)"
   ]
  },
  {
   "cell_type": "markdown",
   "metadata": {},
   "source": [
    "p.238 리스트 비교"
   ]
  },
  {
   "cell_type": "code",
   "execution_count": null,
   "metadata": {},
   "outputs": [],
   "source": [
    "list1 = [ 1, 2, 3 ]\n",
    "list2 = [ 1, 2, 3 ]\n",
    "print(list1 == list2)\t\t\t\t"
   ]
  },
  {
   "cell_type": "code",
   "execution_count": null,
   "metadata": {},
   "outputs": [],
   "source": [
    "list1 = [ 3, 4, 5 ]\n",
    "list2 = [ 1, 2, 3 ]\n",
    "print(list1 > list2)  "
   ]
  },
  {
   "cell_type": "markdown",
   "metadata": {},
   "source": [
    "p.239 리스트 복사하기"
   ]
  },
  {
   "cell_type": "code",
   "execution_count": null,
   "metadata": {},
   "outputs": [],
   "source": [
    "# 1. 얕은 복사\n",
    "temps = [28, 31, 33, 35, 27, 26, 25] \n",
    "values = temps\n",
    "\n",
    "print(temps)\n",
    "values[3] = 39\t\t\t# values 리스트 변경\n",
    "print(values)\n",
    "print(temps)\t\t\t# temps 리스트가 변경되었다. "
   ]
  },
  {
   "cell_type": "code",
   "execution_count": null,
   "metadata": {},
   "outputs": [],
   "source": [
    "# 2. 깊은 복사\n",
    "temps = [28, 31, 33, 35, 27, 26, 25] \n",
    "values = list(temps)\n",
    "\n",
    "values[3] = 39\t\t\t# values 리스트 변경\n",
    "print(values)\n",
    "print(temps)\t\t\t# temps 리스트가 변경되지 않는다. "
   ]
  },
  {
   "cell_type": "markdown",
   "metadata": {},
   "source": [
    "p.241 슬라이싱"
   ]
  },
  {
   "cell_type": "code",
   "execution_count": null,
   "metadata": {},
   "outputs": [],
   "source": [
    "numbers = [10, 20, 30, 40, 50, 60, 70, 80, 90]\n",
    "\n",
    "print(numbers[:3])\n",
    "print(numbers[3:])\n",
    "print(numbers[:])"
   ]
  },
  {
   "cell_type": "markdown",
   "metadata": {},
   "source": [
    "p.242 고급 슬라이싱"
   ]
  },
  {
   "cell_type": "code",
   "execution_count": null,
   "metadata": {},
   "outputs": [],
   "source": [
    "# 1 \n",
    "numbers = [10, 20, 30, 40, 50, 60, 70, 80, 90]\n",
    "print(numbers[2:7:2])\n",
    "print(numbers[::-1])\n",
    "\n",
    "# 2 부분 변경\n",
    "lst = [1, 2, 3, 4, 5, 6, 7, 8]\n",
    "lst[0:3] = [\"white\", \"blue\", \"red\"]\n",
    "print(lst)\n",
    "\n",
    "# 3\n",
    "lst = [1, 2, 3, 4, 5, 6, 7, 8]\n",
    "lst[::2] = [99, 99, 99, 99]\n",
    "print(lst)"
   ]
  },
  {
   "cell_type": "code",
   "execution_count": null,
   "metadata": {},
   "outputs": [],
   "source": [
    "# 삭제 효과\n",
    "lst = [1, 2, 3, 4, 5, 6, 7, 8]\n",
    "lst[:] = []\n",
    "print(lst)\n",
    "\n",
    "# del 삭제\n",
    "numbers = list(range(0, 10))\n",
    "print(numbers)\n",
    "\n",
    "del numbers[-1]\n",
    "print(numbers)\n",
    "\n",
    "del numbers[0:2]\n",
    "print(numbers)\n",
    "\n",
    "del numbers[:]\n",
    "print(numbers)"
   ]
  },
  {
   "cell_type": "markdown",
   "metadata": {},
   "source": [
    "p.244 문자열과 리스트"
   ]
  },
  {
   "cell_type": "code",
   "execution_count": null,
   "metadata": {},
   "outputs": [],
   "source": [
    "s = \"Monty Python\"\n",
    "print(s[0])\t\t\t# M\n",
    "print(s[6:10])\t\t\t# Pyth\n",
    "print(s[-12:-7])\t\t# Monty"
   ]
  },
  {
   "cell_type": "markdown",
   "metadata": {},
   "source": [
    "p.245 리스트 슬라이싱 연습"
   ]
  },
  {
   "cell_type": "code",
   "execution_count": null,
   "metadata": {},
   "outputs": [],
   "source": [
    "# 1\n",
    "numbers = [ 1, 2, 3, 4, 5, 6, 7, 8, 9, 10 ]\n",
    "reversed = numbers[::-2]\n",
    "print(reversed)"
   ]
  },
  {
   "cell_type": "code",
   "execution_count": 6,
   "metadata": {},
   "outputs": [
    {
     "name": "stdout",
     "output_type": "stream",
     "text": [
      "[1]\n"
     ]
    }
   ],
   "source": [
    "# 2\n",
    "numbers = [ 1, 2, 3, 4, 5, 6, 7, 8, 9, 10 ]\n",
    "numbers[1:] = [ ]\n",
    "print(numbers)"
   ]
  },
  {
   "cell_type": "markdown",
   "metadata": {},
   "source": [
    "p.246 리스트 함축"
   ]
  },
  {
   "cell_type": "code",
   "execution_count": null,
   "metadata": {},
   "outputs": [],
   "source": [
    "squares = [x * x for x in range(10)]\n",
    "print(squares)"
   ]
  },
  {
   "cell_type": "code",
   "execution_count": null,
   "metadata": {},
   "outputs": [],
   "source": [
    "squares = []\n",
    "for x in range(10):\n",
    "    squares.append(x * x)\n",
    "print(squares)"
   ]
  },
  {
   "cell_type": "code",
   "execution_count": null,
   "metadata": {},
   "outputs": [],
   "source": [
    "squares = [x * x for x in range(10) if x % 2 == 0]\n",
    "print(squares)"
   ]
  },
  {
   "cell_type": "markdown",
   "metadata": {},
   "source": [
    "p.247 다양한 리스트 함축"
   ]
  },
  {
   "cell_type": "code",
   "execution_count": null,
   "metadata": {},
   "outputs": [],
   "source": [
    "prices = [135, -545, 922, 356, -992, 217]\n",
    "mprices = [i if i > 0 else 0 for i in prices]\n",
    "# mprices = [i for i in prices if i > 0]  # 필터링을 원하다면 조건문을 뒤에.\n",
    "print(mprices)"
   ]
  },
  {
   "cell_type": "code",
   "execution_count": null,
   "metadata": {},
   "outputs": [],
   "source": [
    "words = [\"All\", \"good\", \"things\", \"must\", \"come\", \"to\", \"an\", \"end.\"]\n",
    "letters = [w[0] for w in words]\n",
    "print(letters)"
   ]
  },
  {
   "cell_type": "code",
   "execution_count": null,
   "metadata": {},
   "outputs": [],
   "source": [
    "numbers = [x+y for x in ['a', 'b', 'c'] for y in ['x', 'y', 'z']]   # 이중 반복문\n",
    "print(numbers)"
   ]
  },
  {
   "cell_type": "markdown",
   "metadata": {},
   "source": [
    "Quiz.   \n",
    "p.258 문제 4"
   ]
  },
  {
   "cell_type": "code",
   "execution_count": null,
   "metadata": {},
   "outputs": [],
   "source": []
  },
  {
   "cell_type": "markdown",
   "metadata": {},
   "source": [
    "p.248 2의 배수이면서 3의 배수인 수 찾기"
   ]
  },
  {
   "cell_type": "code",
   "execution_count": null,
   "metadata": {},
   "outputs": [],
   "source": [
    "numbers = [x for x in range(100) if x % 2 == 0 and x % 3 == 0]\n",
    "print(numbers)\n",
    "print()"
   ]
  },
  {
   "cell_type": "markdown",
   "metadata": {},
   "source": [
    "p.249 합계 리스트 생성"
   ]
  },
  {
   "cell_type": "code",
   "execution_count": null,
   "metadata": {},
   "outputs": [],
   "source": [
    "list1=[10, 20, 30, 40, 50]\n",
    "list2=[sum(list1[0:x+1]) for x in range(0, len(list1))]\n",
    "\n",
    "print(\"원래 리스트: \",list1)\n",
    "print(\"새로운 리스트: \",list2)\n",
    "print()"
   ]
  },
  {
   "cell_type": "markdown",
   "metadata": {},
   "source": [
    "직각 삼각형 찾기"
   ]
  },
  {
   "cell_type": "code",
   "execution_count": null,
   "metadata": {},
   "outputs": [],
   "source": [
    "print([(x,y,z) for x in range(1,30) for y in range(x,30) for z in range(y,30) if x**2 + y**2 == z**2])"
   ]
  },
  {
   "cell_type": "markdown",
   "metadata": {},
   "source": [
    "p.250 주사위 시뮬레이션"
   ]
  },
  {
   "cell_type": "code",
   "execution_count": null,
   "metadata": {},
   "outputs": [],
   "source": [
    "import matplotlib.pyplot as plt\n",
    "import random\n",
    "\n",
    "values = [random.randint(0, 5) for i in range(600)]\n",
    "\n",
    "faces = [ 1, 2, 3, 4, 5, 6 ]\n",
    "rolls = [ 0, 0, 0, 0, 0, 0 ]\n",
    "\n",
    "for x in values :\n",
    "\trolls[x] = rolls[x] + 1\n",
    "\n",
    "plt.bar(faces, rolls)\t\t\t# 리스트에 저장된 값으로 그래프를 그린다. \n",
    "plt.show()\t\t\t\t# 그래프를 화면에 출력한다. "
   ]
  },
  {
   "cell_type": "markdown",
   "metadata": {},
   "source": [
    "p.251 2차원 리스트"
   ]
  },
  {
   "cell_type": "code",
   "execution_count": null,
   "metadata": {},
   "outputs": [],
   "source": [
    "# 1. 2차원 리스트를 생성한다.(정적)\n",
    "s = [ \n",
    "\t[ 1, 2, 3, 4, 5 ] ,\n",
    "\t[ 6, 7, 8, 9, 10 ], \n",
    "\t[11, 12, 13, 14, 15 ] \n",
    "]\n",
    "print(\"s =\", s)\n",
    "print()"
   ]
  },
  {
   "cell_type": "code",
   "execution_count": null,
   "metadata": {},
   "outputs": [],
   "source": [
    "# 2. 동적으로 2차원 리스트를 생성한다.\n",
    "rows = 3\n",
    "cols = 5\n",
    "\n",
    "s = [ ]\n",
    "for row in range(rows): \n",
    "\ts += [[0]*cols]\t\t# 2차원 리스트끼리 합쳐진다. \n",
    "\t# s += [0]*cols\t\t# 1차원 리스트끼리 합쳐진다.(주의)\n",
    "\n",
    "print(\"s =\", s)"
   ]
  },
  {
   "cell_type": "code",
   "execution_count": null,
   "metadata": {},
   "outputs": [],
   "source": [
    "# 3. (추가) 리스트 함축을 이용하여 동적으로 2차원 리스트를 생성한다.\n",
    "rows = 3\n",
    "cols = 5\n",
    "\n",
    "s = [ ([0] * cols) for row in range(rows) ]\n",
    "\n",
    "print(\"s =\", s)"
   ]
  },
  {
   "cell_type": "markdown",
   "metadata": {},
   "source": [
    "p.252 요소 접근"
   ]
  },
  {
   "cell_type": "code",
   "execution_count": 7,
   "metadata": {},
   "outputs": [
    {
     "name": "stdout",
     "output_type": "stream",
     "text": [
      "1,2,3,4,5,\n",
      "6,7,8,9,10,\n",
      "11,12,13,14,15,\n"
     ]
    }
   ],
   "source": [
    "s = [[1, 2, 3, 4, 5] ,\n",
    "\t[6, 7, 8, 9, 10], \n",
    "\t[11, 12, 13, 14, 15]]\n",
    "\n",
    "# 행과 열의 개수를 구한다. \n",
    "rows = len(s)\n",
    "cols = len(s[0])\n",
    "\n",
    "for r in range(rows):\n",
    "\tfor c in range(cols):\n",
    "\t\tprint(s[r][c], end=\",\")\n",
    "\tprint()"
   ]
  },
  {
   "cell_type": "markdown",
   "metadata": {},
   "source": [
    "연습문제"
   ]
  },
  {
   "cell_type": "markdown",
   "metadata": {},
   "source": [
    "Programming"
   ]
  }
 ],
 "metadata": {
  "kernelspec": {
   "display_name": "Python 3",
   "language": "python",
   "name": "python3"
  },
  "language_info": {
   "codemirror_mode": {
    "name": "ipython",
    "version": 3
   },
   "file_extension": ".py",
   "mimetype": "text/x-python",
   "name": "python",
   "nbconvert_exporter": "python",
   "pygments_lexer": "ipython3",
   "version": "3.11.4"
  },
  "orig_nbformat": 4
 },
 "nbformat": 4,
 "nbformat_minor": 2
}
