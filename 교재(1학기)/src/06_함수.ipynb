{
 "cells": [
  {
   "cell_type": "markdown",
   "metadata": {},
   "source": [
    "#### 6. 함수"
   ]
  },
  {
   "cell_type": "markdown",
   "metadata": {},
   "source": [
    "함수의 필요성. 함수 작성하고 호출하기. 값 반환하기"
   ]
  },
  {
   "cell_type": "code",
   "execution_count": null,
   "metadata": {},
   "outputs": [],
   "source": []
  },
  {
   "cell_type": "markdown",
   "metadata": {},
   "source": [
    "p.195 여러 함수가 있는 프로그램"
   ]
  },
  {
   "cell_type": "code",
   "execution_count": null,
   "metadata": {},
   "outputs": [],
   "source": [
    "def get_area(radius):\n",
    "    area = 3.14*radius**2\n",
    "    return area\n",
    "\n",
    "result = get_area(3)\n",
    "print(\"반지름이 3인 원의 면적=\", result)"
   ]
  },
  {
   "cell_type": "code",
   "execution_count": null,
   "metadata": {},
   "outputs": [],
   "source": [
    "# 함수가 정의되기 전에 호출하였으므로 실행 오류이다.\n",
    "result = get_area(3)\n",
    "print(\"반지름이 3인 원의 면적=\", result)\n",
    "\n",
    "def get_area(radius):\n",
    "    area = 3.14*radius**2\n",
    "    return area"
   ]
  },
  {
   "cell_type": "code",
   "execution_count": null,
   "metadata": {},
   "outputs": [],
   "source": [
    "# 정상이다. \n",
    "def main() :\n",
    "    result1 = get_area(3)\n",
    "    print(\"반지름이 3인 원의 면적=\", result1)\n",
    "\n",
    "def get_area(radius):\n",
    "    area = 3.14*radius**2\n",
    "    return area\n",
    "\n",
    "main()"
   ]
  },
  {
   "cell_type": "markdown",
   "metadata": {},
   "source": [
    "p.197 피자 크기 비교"
   ]
  },
  {
   "cell_type": "code",
   "execution_count": null,
   "metadata": {},
   "outputs": [],
   "source": [
    "def main() : \n",
    "    print(\"20cm 피자 2개의 면적:\", get_area(20)+get_area(20))\n",
    "    print(\"30cm 피자 1개의 면적:\", get_area(30))\n",
    "\n",
    "def get_area(radius) :\n",
    "    if radius > 0 :\n",
    "        area = 3.14*radius**2\n",
    "    else :\n",
    "        area = 0\n",
    "    return area\n",
    "\n",
    "main()"
   ]
  },
  {
   "cell_type": "markdown",
   "metadata": {},
   "source": [
    "p.198 디폴트 인수"
   ]
  },
  {
   "cell_type": "code",
   "execution_count": null,
   "metadata": {},
   "outputs": [],
   "source": [
    "def greet(name, msg=\"별일없죠?\"):\n",
    "   print(\"안녕 \", name + ', ' + msg)\n",
    "\n",
    "greet(\"영희\")"
   ]
  },
  {
   "cell_type": "markdown",
   "metadata": {},
   "source": [
    "p.199 키워드 인수"
   ]
  },
  {
   "cell_type": "code",
   "execution_count": null,
   "metadata": {},
   "outputs": [],
   "source": [
    "def sub(x, y, z):\n",
    "    print(\"x=\", x, \"y=\", y, \"z=\", z)\n",
    "    \n",
    "# 위치 인수 전달 방식\n",
    "sub(10, 20, 30)\n",
    "\n",
    "# 키워드 인수 전달 방식\n",
    "sub(x=10, y=20, z=30)\n",
    "\n",
    "sub(y=20, x=10, z=30)\n",
    "\n",
    "#위치 인수와 키워드 인수를 섞어 쓸때에는 위치인수가 먼저 나와야 한다.\n",
    "sub(10, y=20, z=30)\n",
    "\n",
    "# sub(x=20, y=10, 30)  # Error"
   ]
  },
  {
   "cell_type": "markdown",
   "metadata": {},
   "source": [
    "p.200 패턴 출력 함수 만들기"
   ]
  },
  {
   "cell_type": "code",
   "execution_count": null,
   "metadata": {},
   "outputs": [],
   "source": [
    "import random\n",
    "\n",
    "def printPattern(rows=5, char=\"#\"):\n",
    "\tfor _ in range(rows):\n",
    "\t\tfor _ in range(5):\n",
    "\t\t\tprint(char, end=\"\")\n",
    "\t\tprint()\n",
    "\n",
    "printPattern(5, \"A\")\n",
    "printPattern(3)"
   ]
  },
  {
   "cell_type": "markdown",
   "metadata": {},
   "source": [
    "p.201 가변 인수"
   ]
  },
  {
   "cell_type": "code",
   "execution_count": null,
   "metadata": {},
   "outputs": [],
   "source": [
    "# 1\n",
    "def varfunc(*args ):   \n",
    "\tprint (args)\n",
    "\n",
    "print(\"하나의 값으로 호출\")\n",
    "varfunc(10)\n",
    "print(\"여러 개의 값으로 호출\")\n",
    "varfunc(10, 20, 30)"
   ]
  },
  {
   "cell_type": "code",
   "execution_count": null,
   "metadata": {},
   "outputs": [],
   "source": [
    "# 2\n",
    "def add(*numbers) :\n",
    "\tsum = 0\n",
    "\tfor n in numbers:\n",
    "\t\tsum = sum + n\n",
    "\treturn sum\n",
    "\n",
    "print(add(10, 20))\n",
    "print(add(10, 20, 30))"
   ]
  },
  {
   "cell_type": "code",
   "execution_count": null,
   "metadata": {},
   "outputs": [],
   "source": [
    "# 3 (추가)가변 길이 키워드 인수\n",
    "def myfunc(**kwargs):\n",
    "\tresult = \"\"\n",
    "\tfor arg in kwargs.values():\n",
    "\t\tresult += arg\n",
    "\treturn result\n",
    "\n",
    "print(myfunc(a=\"Hi!\", b=\"Mr.\", c=\"Kim\"))"
   ]
  },
  {
   "cell_type": "markdown",
   "metadata": {},
   "source": [
    "p.201 * 연산자로 언패킹하기"
   ]
  },
  {
   "cell_type": "code",
   "execution_count": null,
   "metadata": {},
   "outputs": [],
   "source": [
    "# 1\n",
    "alist = [1, 2, 3]\n",
    "print(*alist)\n",
    "print(alist)"
   ]
  },
  {
   "cell_type": "code",
   "execution_count": null,
   "metadata": {},
   "outputs": [],
   "source": [
    "def sum(a, b, c) :\n",
    "    print(a + b + c)\n",
    "\n",
    "alist = [1, 2, 3]\n",
    "sum(*alist)\n",
    "sum(alist)    # Error"
   ]
  },
  {
   "cell_type": "markdown",
   "metadata": {},
   "source": [
    "p.203 람다 함수"
   ]
  },
  {
   "cell_type": "code",
   "execution_count": null,
   "metadata": {},
   "outputs": [],
   "source": [
    "# 일반적인 파이썬 함수\n",
    "def func1(x):\n",
    "\treturn x + 10\n",
    "\n",
    "# 람다 함수\n",
    "func2 = lambda x : x + 10\n",
    "\n",
    "result = func1(2)\n",
    "print(result)\n",
    "result = func2(2)\n",
    "print(result)"
   ]
  },
  {
   "cell_type": "code",
   "execution_count": null,
   "metadata": {},
   "outputs": [],
   "source": [
    "# 2\n",
    "func = lambda x, y : x + y\n",
    "result = func(2, 3)\n",
    "print(result)\n",
    "\n",
    "myList = [1, 2, 3, 4, 5, 6, 7, 8, 9]\n",
    "result = map(lambda x: x**2, myList)   # [1, 4, 9, 16, 25, 36, 49, 64, 81]\n",
    "print(list(result))"
   ]
  },
  {
   "cell_type": "markdown",
   "metadata": {},
   "source": [
    "p.207 사각형을 그리는 함수 작성하기"
   ]
  },
  {
   "cell_type": "code",
   "execution_count": null,
   "metadata": {},
   "outputs": [],
   "source": [
    "import turtle \n",
    "t = turtle.Turtle()\n",
    "t.shape(\"turtle\")\n",
    "\n",
    "def square(length):\t\t# length는 한변의 길이\n",
    "    t.down()\n",
    "    for i in range(4):\n",
    "        t.forward(length)\n",
    "        t.left(90)\n",
    "    t.up()\n",
    "\n",
    "square(100)\t\t\t# square() 함수를 호출한다. \n",
    "t.forward(120)\n",
    "square(100)\n",
    "t.forward(120)\n",
    "square(100)\n",
    "\n",
    "turtle.done()"
   ]
  },
  {
   "cell_type": "markdown",
   "metadata": {},
   "source": [
    "p.209 구조화 프로그래밍 실습"
   ]
  },
  {
   "cell_type": "code",
   "execution_count": null,
   "metadata": {},
   "outputs": [],
   "source": [
    "def menu() :\n",
    "    print(\"1. 섭씨 온도->화씨 온도\")\n",
    "    print(\"2. 화씨 온도->섭씨 온도\")\n",
    "    print(\"3. 종료\")\n",
    "    selection = int(input(\"메뉴를 선택하세요: \"))\n",
    "    return selection\n",
    "\n",
    "def ctof(c) :\n",
    "    temp = c*9.0/5.0 + 32\n",
    "    return temp\n",
    "def ftoc(f) :\n",
    "    temp = (f-32.0)*5.0/9.0\n",
    "    return temp\n",
    "def input_temp(msg) :\n",
    "    t = float(input(msg))\n",
    "    return t\n",
    "def main() :\n",
    "    while True:\n",
    "        index = menu()\n",
    "        if index == 1 :\n",
    "            t = input_temp(\"섭씨 온도를 입력하시오: \")\n",
    "            t2 = ctof(t)\n",
    "            print(\"화씨 온도 = \", t2, \"\\n\")\n",
    "        elif index == 2 :\n",
    "            t = input_temp(\"화씨 온도를 입력하시오: \")\n",
    "            t2 = ftoc(t)\n",
    "            print(\"섭씨 온도 = \", t2, \"\\n\")\n",
    "        else :\n",
    "            break\n",
    "main()"
   ]
  },
  {
   "cell_type": "markdown",
   "metadata": {},
   "source": [
    "p.211 로또 번호 생성하는 함수 작성"
   ]
  },
  {
   "cell_type": "code",
   "execution_count": null,
   "metadata": {},
   "outputs": [],
   "source": [
    "import random\n",
    "\n",
    "def getLotto() : \n",
    "\tmyList = []\t\t# 공백 리스트 생성\n",
    "\twhile len(myList) != 6:\t# 6개의 숫자가 생성될 때까지 반복\n",
    "\t\tnumber = random.randint(1, 45)\t# 1부터 45 사이의 난수 생성\n",
    "\t\tif number not in myList: \t# 리스트에 숫자가 없으면 \n",
    "\t\t\tmyList.append(number)\t# 리스트에 난수를 추가\n",
    "\treturn myList \t\t\t# 리스트를 반환한다. \n",
    "\n",
    "lottoList = getLotto()\n",
    "print(lottoList)"
   ]
  },
  {
   "cell_type": "markdown",
   "metadata": {},
   "source": [
    "p.212 변수의 범위"
   ]
  },
  {
   "cell_type": "markdown",
   "metadata": {},
   "source": [
    "지역 변수"
   ]
  },
  {
   "cell_type": "code",
   "execution_count": null,
   "metadata": {},
   "outputs": [],
   "source": [
    "def func():\n",
    "  x = 100\n",
    "  print(x)\n",
    "\n",
    "func()\n",
    "# print(x)  # Error"
   ]
  },
  {
   "cell_type": "markdown",
   "metadata": {},
   "source": [
    "전역 변수"
   ]
  },
  {
   "cell_type": "code",
   "execution_count": null,
   "metadata": {},
   "outputs": [],
   "source": [
    "gx = 100\n",
    "\n",
    "def func1():\n",
    "  print(gx)\t\t# 전역 변수 사용 가능\n",
    "\n",
    "def func2():\n",
    "  print(gx)\t\t# 전역 변수 사용 가능\n",
    "\n",
    "func1()\n",
    "func2()"
   ]
  },
  {
   "cell_type": "markdown",
   "metadata": {},
   "source": [
    "함수 안에서 전역 변수 변경하기"
   ]
  },
  {
   "cell_type": "code",
   "execution_count": null,
   "metadata": {},
   "outputs": [],
   "source": [
    "gx = 100\n",
    "\n",
    "def myfunc1() :\n",
    "    print(\"func1() :\", gx)\n",
    "\n",
    "def myfunc2() :\n",
    "    gx = 200\t\t\t# 여기서 지역 변수 gx가 생성된다. \n",
    "    print(\"func2() :\", gx)\t# 지역 변수 gx를 사용한다. \n",
    "\n",
    "myfunc1()\n",
    "myfunc2()\n",
    "print(\"외부: \", gx)"
   ]
  },
  {
   "cell_type": "code",
   "execution_count": null,
   "metadata": {},
   "outputs": [],
   "source": [
    "gx = 100\n",
    "\n",
    "def myfunc1() :\n",
    "    print(\"func1() :\", gx)\n",
    "\n",
    "def myfunc2() :\n",
    "    global gx\t\t\t# 전역 변수 gx를 사용하겠음\n",
    "    gx = 200\t\t\t# 전역 변수 gx가 200으로 변경\n",
    "    print(\"func2() :\", gx)\n",
    "\n",
    "myfunc1()\n",
    "myfunc2()\n",
    "print(\"외부: \", gx)"
   ]
  },
  {
   "cell_type": "markdown",
   "metadata": {},
   "source": [
    "p.215 함수 그리기"
   ]
  },
  {
   "cell_type": "code",
   "execution_count": null,
   "metadata": {},
   "outputs": [],
   "source": [
    "import turtle \n",
    "t = turtle.Turtle()\t\t# t는 전역 변수가 된다. \n",
    "t.shape(\"turtle\")\n",
    "t.speed(0)\n",
    "\n",
    "def f(x):\n",
    "    return x**2+1\n",
    "\n",
    "def changeColor():\n",
    "    t.color(\"blue\")\t\t# 전역 변수 t를 사용한다. \n",
    "\n",
    "t.goto(200, 0)\n",
    "t.goto(0, 0)\n",
    "t.goto(0, 200)\n",
    "t.goto(0, 0)\n",
    "\n",
    "changeColor()\n",
    "for x in range(150):\n",
    "\tt.goto(x, int(0.01*f(x)))\n",
    "\n",
    "turtle.done()"
   ]
  },
  {
   "cell_type": "markdown",
   "metadata": {},
   "source": [
    "p.218 연습문제"
   ]
  },
  {
   "cell_type": "markdown",
   "metadata": {},
   "source": [
    "p.221 Programming"
   ]
  }
 ],
 "metadata": {
  "kernelspec": {
   "display_name": "Python 3",
   "language": "python",
   "name": "python3"
  },
  "language_info": {
   "codemirror_mode": {
    "name": "ipython",
    "version": 3
   },
   "file_extension": ".py",
   "mimetype": "text/x-python",
   "name": "python",
   "nbconvert_exporter": "python",
   "pygments_lexer": "ipython3",
   "version": "3.11.4"
  },
  "orig_nbformat": 4
 },
 "nbformat": 4,
 "nbformat_minor": 2
}
