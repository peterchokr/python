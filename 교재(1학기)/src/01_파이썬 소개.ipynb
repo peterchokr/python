{
 "cells": [
  {
   "cell_type": "markdown",
   "metadata": {},
   "source": [
    "#### 1. 파이썬 소개"
   ]
  },
  {
   "cell_type": "code",
   "execution_count": null,
   "metadata": {},
   "outputs": [],
   "source": [
    "print(\"2+3=\", 2+3)\n",
    "print(\"2-3=\", 2-3)\n",
    "print(\"2*3=\", 2*3)\n",
    "print(\"2/3=\", 2/3)"
   ]
  },
  {
   "cell_type": "markdown",
   "metadata": {},
   "source": [
    "p.31 Lab 오류를 처리해보자."
   ]
  },
  {
   "cell_type": "code",
   "execution_count": null,
   "metadata": {},
   "outputs": [],
   "source": [
    "print(안녕하세요?)\n",
    "Print(\"이번 코드에는 많은 오류가 있다네요\")\n",
    "print(\"제가 다 고쳐 보겠습니다.)"
   ]
  },
  {
   "cell_type": "markdown",
   "metadata": {},
   "source": [
    "p.32 터틀 그래픽"
   ]
  },
  {
   "cell_type": "markdown",
   "metadata": {},
   "source": [
    "(주의) 터틀 그래픽을 VSC 에서 실행시킬 때에는 매번 '커널 재시작'으로 터틀 충돌을 방지해야 한다."
   ]
  },
  {
   "cell_type": "code",
   "execution_count": null,
   "metadata": {},
   "outputs": [],
   "source": [
    "import turtle\t\t\t# (1)\n",
    "\n",
    "t = turtle.Turtle()\t\t# (2)\n",
    "t.shape(\"turtle\")\t\t# (3)\n",
    "\n",
    "t.forward(100)\t\t\t# (4)\n",
    "t.left(90)\t\t\t# (5)\n",
    "t.forward(50)\n",
    "\t\n",
    "turtle.done()\t\t\t# (6)"
   ]
  },
  {
   "cell_type": "markdown",
   "metadata": {},
   "source": [
    "p.35 터틀 그래픽으로 삼각형을 그려보자"
   ]
  },
  {
   "cell_type": "code",
   "execution_count": null,
   "metadata": {},
   "outputs": [],
   "source": [
    "import turtle\n",
    "t = turtle.Turtle()\n",
    "\n",
    "t.shape(\"turtle\")\n",
    "t.forward(100)\n",
    "t.left(120)\n",
    "t.forward(100)\n",
    "t.left(120)\n",
    "t.forward(100)\n",
    "\n",
    "turtle.done()"
   ]
  },
  {
   "cell_type": "markdown",
   "metadata": {},
   "source": [
    "p.37 Mini Project 터틀 그래픽으로 집 그리기"
   ]
  },
  {
   "cell_type": "code",
   "execution_count": null,
   "metadata": {},
   "outputs": [],
   "source": [
    "import turtle\n",
    "t = turtle.Turtle()\n",
    "t.shape(\"turtle\")\n",
    "t.fillcolor(\"brown\")\n",
    "\n",
    "t.begin_fill()\n",
    "t.goto(0,0)\n",
    "t.goto(0,100)\n",
    "t.goto(100,100)\n",
    "t.goto(100,0)\n",
    "t.end_fill()\n",
    "\n",
    "turtle.done()"
   ]
  },
  {
   "cell_type": "markdown",
   "metadata": {},
   "source": [
    "p.39 연습문제"
   ]
  },
  {
   "cell_type": "markdown",
   "metadata": {},
   "source": [
    "p.41 Programming"
   ]
  }
 ],
 "metadata": {
  "kernelspec": {
   "display_name": "Python 3",
   "language": "python",
   "name": "python3"
  },
  "language_info": {
   "codemirror_mode": {
    "name": "ipython",
    "version": 3
   },
   "file_extension": ".py",
   "mimetype": "text/x-python",
   "name": "python",
   "nbconvert_exporter": "python",
   "pygments_lexer": "ipython3",
   "version": "3.11.4"
  },
  "orig_nbformat": 4
 },
 "nbformat": 4,
 "nbformat_minor": 2
}
