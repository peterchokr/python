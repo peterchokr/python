{
 "cells": [
  {
   "cell_type": "markdown",
   "id": "b55929e9",
   "metadata": {
    "lines_to_next_cell": 0
   },
   "source": [
    "# 반복문 2 - while문 (while Loop)\n",
    "\n",
    "**수업 시간**: 3시간  \n",
    "**구성**: 강의 및 실습 2시간 + 퀴즈 1시간  \n",
    "**수준**: 초급  \n",
    "**선수 학습**: 변수, 데이터 타입, 연산자, 입출력, 조건문, for 반복문\n",
    "\n",
    "---\n",
    "\n",
    "## 🎯 학습 목표\n",
    "\n",
    "이 수업을 마친 후 학생들은 다음을 할 수 있습니다:\n",
    "\n",
    "- while문의 개념과 구조 이해하기\n",
    "- 적절한 조건을 가진 기본 while문 작성하기\n",
    "- break와 continue문을 효과적으로 사용하기\n",
    "- for문과 while문을 적절히 선택하기\n",
    "- 지속적인 사용자 입력을 가진 대화형 프로그램 생성하기\n",
    "\n",
    "---\n",
    "\n",
    "## 🔄 1. while문이란 무엇인가?\n",
    "\n",
    "**while문**은 조건이 True인 동안 코드를 반복합니다. 시퀀스를 반복하는 for문과 달리, while문은 조건이 False가 될 때까지 계속됩니다.\n",
    "\n",
    "### 실생활 비유\n",
    "while문을 무언가를 기다리는 것처럼 생각해보세요:\n",
    "\n",
    "```\n",
    "실생활:\n",
    "비가 오는 동안:\n",
    "    - 실내에 있기\n",
    "    - 날씨 다시 확인하기\n",
    "비가 그치면, 밖으로 나가기\n",
    "\n",
    "파이썬 while문:\n",
    "while is_raining == True:\n",
    "    print(\"실내에 있기\")\n",
    "    is_raining = check_weather()\n",
    "print(\"밖으로 나가기!\")\n",
    "```\n",
    "\n",
    "### 주요 차이점: for vs while\n",
    "\n",
    "| **for문** | **while문** |\n",
    "|-----------|-------------|\n",
    "| **언제 사용**: 반복 횟수를 알 때 | **언제 사용**: 반복 횟수를 모를 때 |\n",
    "| **예시**: 1부터 10까지 출력 | **예시**: 유효한 입력이 올 때까지 계속 물어보기 |\n",
    "| **제어**: 자동 반복 | **제어**: 조건 기반 |\n",
    "\n",
    "---\n",
    "\n",
    "## ⚡ 2. 기본 while문 구조\n",
    "\n",
    "### 문법 (Syntax)"
   ]
  },
  {
   "cell_type": "code",
   "execution_count": null,
   "id": "7378fbe6",
   "metadata": {},
   "outputs": [],
   "source": [
    "while 조건:\n",
    "    # 반복할 코드\n",
    "    명령문1\n",
    "    명령문2\n",
    "    # 조건을 업데이트하는 것을 잊지 마세요!"
   ]
  },
  {
   "cell_type": "markdown",
   "id": "37bb9a97",
   "metadata": {
    "lines_to_next_cell": 0
   },
   "source": [
    "### 주요 구성 요소\n",
    "- **while 키워드**: 반복문의 시작을 나타냄\n",
    "- **조건**: True/False로 평가되는 표현식\n",
    "- **콜론(:)**: while문의 끝을 표시\n",
    "- **들여쓰기**: 반복문 내부 코드를 나타냄\n",
    "- **조건 업데이트**: 중요! - 반복문 내부에서 조건을 변경해야 함\n",
    "\n",
    "### 간단한 예시들\n",
    "\n",
    "#### 예시 1: while로 세기"
   ]
  },
  {
   "cell_type": "code",
   "execution_count": null,
   "id": "c9b5d5b2",
   "metadata": {},
   "outputs": [],
   "source": [
    "# 1부터 5까지 세기\n",
    "count = 1\n",
    "while count <= 5:\n",
    "    print(f\"숫자: {count}\")\n",
    "    count += 1  # 이것이 조건을 업데이트합니다!\n",
    "\n",
    "print(\"세기 완료!\")\n",
    "\n",
    "# 출력:\n",
    "# 숫자: 1\n",
    "# 숫자: 2\n",
    "# 숫자: 3\n",
    "# 숫자: 4\n",
    "# 숫자: 5\n",
    "# 세기 완료!"
   ]
  },
  {
   "cell_type": "markdown",
   "id": "a1dea2ca",
   "metadata": {
    "lines_to_next_cell": 0
   },
   "source": [
    "#### 예시 2: 사용자 입력 검증"
   ]
  },
  {
   "cell_type": "code",
   "execution_count": null,
   "id": "1d109602",
   "metadata": {},
   "outputs": [],
   "source": [
    "# 양수를 입력받을 때까지 계속 물어보기\n",
    "number = -1\n",
    "while number <= 0:\n",
    "    number = int(input(\"양수를 입력하세요: \"))\n",
    "    if number <= 0:\n",
    "        print(\"그것은 양수가 아닙니다! 다시 시도하세요.\")\n",
    "\n",
    "print(f\"좋습니다! 입력하신 숫자: {number}\")"
   ]
  },
  {
   "cell_type": "markdown",
   "id": "50e6b0f6",
   "metadata": {
    "lines_to_next_cell": 0
   },
   "source": [
    "#### 예시 3: 간단한 카운트다운"
   ]
  },
  {
   "cell_type": "code",
   "execution_count": null,
   "id": "a7b9bc9d",
   "metadata": {},
   "outputs": [],
   "source": [
    "# 5부터 1까지 카운트다운\n",
    "countdown = 5\n",
    "while countdown > 0:\n",
    "    print(f\"카운트다운: {countdown}\")\n",
    "    countdown -= 1\n",
    "\n",
    "print(\"발사!\")"
   ]
  },
  {
   "cell_type": "markdown",
   "id": "0cf8a80b",
   "metadata": {
    "lines_to_next_cell": 0
   },
   "source": [
    "---\n",
    "\n",
    "## 🛑 3. 무한 루프(Infinite Loop)와 break문\n",
    "\n",
    "### 무한 루프란?\n",
    "**무한 루프**는 조건이 절대 False가 되지 않아서 절대 끝나지 않는 반복문입니다.\n",
    "\n",
    "### 위험한 무한 루프 예시"
   ]
  },
  {
   "cell_type": "code",
   "execution_count": null,
   "id": "a8bf595c",
   "metadata": {},
   "outputs": [],
   "source": [
    "# 실행하지 마세요 - 절대 멈추지 않습니다!\n",
    "count = 1\n",
    "while count <= 5:\n",
    "    print(f\"숫자: {count}\")\n",
    "    # 누락: count += 1\n",
    "    # 이것은 \"숫자: 1\"을 영원히 출력합니다!"
   ]
  },
  {
   "cell_type": "markdown",
   "id": "4fda8809",
   "metadata": {
    "lines_to_next_cell": 0
   },
   "source": [
    "### break를 사용한 의도적 무한 루프\n",
    "때로는 무한 루프를 원하고 필요할 때 **break**를 사용하여 빠져나갑니다.\n",
    "\n",
    "#### 예시 1: 메뉴 시스템"
   ]
  },
  {
   "cell_type": "code",
   "execution_count": null,
   "id": "8e28b07f",
   "metadata": {},
   "outputs": [],
   "source": [
    "# 음식점 주문 시스템\n",
    "while True:  # 의도적인 무한 루프\n",
    "    print(\"\\n=== 음식점 메뉴 ===\")\n",
    "    print(\"1. 피자 - 12,000원\")\n",
    "    print(\"2. 햄버거 - 8,000원\") \n",
    "    print(\"3. 샐러드 - 6,000원\")\n",
    "    print(\"4. 종료\")\n",
    "    \n",
    "    choice = input(\"선택하세요 (1-4): \")\n",
    "    \n",
    "    if choice == \"1\":\n",
    "        print(\"피자를 주문하셨습니다!\")\n",
    "    elif choice == \"2\":\n",
    "        print(\"햄버거를 주문하셨습니다!\")\n",
    "    elif choice == \"3\":\n",
    "        print(\"샐러드를 주문하셨습니다!\")\n",
    "    elif choice == \"4\":\n",
    "        print(\"방문해 주셔서 감사합니다!\")\n",
    "        break  # 반복문 종료\n",
    "    else:\n",
    "        print(\"잘못된 선택입니다! 다시 시도해주세요.\")\n",
    "\n",
    "print(\"프로그램 종료\")"
   ]
  },
  {
   "cell_type": "markdown",
   "id": "9f525da2",
   "metadata": {
    "lines_to_next_cell": 0
   },
   "source": [
    "#### 예시 2: 추측 게임"
   ]
  },
  {
   "cell_type": "code",
   "execution_count": null,
   "id": "9f95b9ea",
   "metadata": {},
   "outputs": [],
   "source": [
    "import random\n",
    "\n",
    "# 숫자 맞추기 게임\n",
    "secret_number = random.randint(1, 10)\n",
    "attempts = 0\n",
    "\n",
    "while True:\n",
    "    guess = int(input(\"1부터 10 사이의 숫자를 맞춰보세요: \"))\n",
    "    attempts += 1\n",
    "    \n",
    "    if guess == secret_number:\n",
    "        print(f\"축하합니다! {attempts}번 만에 맞추셨습니다!\")\n",
    "        break\n",
    "    elif guess < secret_number:\n",
    "        print(\"너무 낮습니다! 다시 시도하세요.\")\n",
    "    else:\n",
    "        print(\"너무 높습니다! 다시 시도하세요.\")"
   ]
  },
  {
   "cell_type": "markdown",
   "id": "62c5d882",
   "metadata": {
    "lines_to_next_cell": 0
   },
   "source": [
    "### break문 규칙\n",
    "- **즉시 종료**: 반복문을 바로 중단\n",
    "- **나머지 코드 건너뜀**: 반복문에서 break 뒤의 코드는 무시됨\n",
    "- **최내부 반복문만 영향**: 중첩 반복문에서는 현재 반복문만 종료\n",
    "\n",
    "---\n",
    "\n",
    "## ⏭️ 4. continue문\n",
    "\n",
    "**continue문**은 현재 반복의 나머지 부분을 건너뛰고 다음 반복으로 이동합니다.\n",
    "\n",
    "### continue 작동 방식"
   ]
  },
  {
   "cell_type": "code",
   "execution_count": null,
   "id": "17405903",
   "metadata": {},
   "outputs": [],
   "source": [
    "# 1부터 5까지 출력하되, 3은 건너뛰기\n",
    "count = 0\n",
    "while count < 5:\n",
    "    count += 1\n",
    "    if count == 3:\n",
    "        continue  # count가 3일 때 나머지 건너뛰기\n",
    "    print(f\"숫자: {count}\")\n",
    "\n",
    "# 출력:\n",
    "# 숫자: 1\n",
    "# 숫자: 2\n",
    "# 숫자: 4\n",
    "# 숫자: 5"
   ]
  },
  {
   "cell_type": "markdown",
   "id": "b5d2064e",
   "metadata": {
    "lines_to_next_cell": 0
   },
   "source": [
    "### 실용적인 예시들\n",
    "\n",
    "#### 예시 1: 짝수 건너뛰기"
   ]
  },
  {
   "cell_type": "code",
   "execution_count": null,
   "id": "741acd11",
   "metadata": {},
   "outputs": [],
   "source": [
    "# 1부터 10까지 홀수만 출력\n",
    "number = 0\n",
    "while number < 10:\n",
    "    number += 1\n",
    "    if number % 2 == 0:  # 짝수인 경우\n",
    "        continue  # 다음 반복으로 건너뛰기\n",
    "    print(f\"홀수: {number}\")\n",
    "\n",
    "# 출력: 1, 3, 5, 7, 9"
   ]
  },
  {
   "cell_type": "markdown",
   "id": "82b41293",
   "metadata": {
    "lines_to_next_cell": 0
   },
   "source": [
    "#### 예시 2: continue를 사용한 입력 검증"
   ]
  },
  {
   "cell_type": "code",
   "execution_count": null,
   "id": "92d257fa",
   "metadata": {},
   "outputs": [],
   "source": [
    "# 사용자로부터 양수 3개 받기\n",
    "count = 0\n",
    "total = 0\n",
    "\n",
    "while count < 3:\n",
    "    user_input = int(input(f\"{count + 1}번째 양수를 입력하세요: \"))\n",
    "    \n",
    "    if user_input <= 0:\n",
    "        print(\"양수가 아닙니다! 다시 시도하세요.\")\n",
    "        continue  # 이 시도는 세지 않음\n",
    "    \n",
    "    total += user_input\n",
    "    count += 1\n",
    "\n",
    "print(f\"입력한 숫자들의 합: {total}\")"
   ]
  },
  {
   "cell_type": "markdown",
   "id": "5397752e",
   "metadata": {},
   "source": [
    "### continue vs break 비교\n",
    "\n",
    "| **continue** | **break** |\n",
    "|--------------|-----------|\n",
    "| **동작**: 다음 반복으로 건너뛰기 | **동작**: 반복문 완전히 종료 |\n",
    "| **사용 사례**: 특정 값 건너뛰기 | **사용 사례**: 조건 만족 시 중단 |\n",
    "| **반복문 계속**: 예 | **반복문 계속**: 아니오 |\n",
    "\n",
    "---\n",
    "\n",
    "## 🤔 5. for vs while: 언제 각각 사용할까\n",
    "\n",
    "### for문을 사용할 때\n",
    "- **알려진 반복**: 몇 번 반복할지 알 때\n",
    "- **시퀀스 처리**: 문자열, range로 작업할 때\n",
    "- **패턴 생성**: 특정 횟수로 패턴 생성할 때"
   ]
  },
  {
   "cell_type": "code",
   "execution_count": null,
   "id": "0905bd43",
   "metadata": {},
   "outputs": [],
   "source": [
    "# 적절한 for문 예시들\n",
    "for i in range(10):           # 10번 출력\n",
    "    print(f\"숫자 {i}\")\n",
    "\n",
    "for letter in \"안녕\":          # 각 문자 처리\n",
    "    print(letter)\n",
    "\n",
    "for item in range(1, 6):      # 범위 처리\n",
    "    print(item * 2)"
   ]
  },
  {
   "cell_type": "markdown",
   "id": "31cc8213",
   "metadata": {},
   "source": [
    "### while문을 사용할 때\n",
    "- **알려지지 않은 반복**: 몇 번 반복할지 모를 때\n",
    "- **조건 기반**: 무언가가 일어날 때까지 계속\n",
    "- **사용자 상호작용**: 사용자가 중단하기로 결정할 때까지 계속\n",
    "- **이벤트 대기**: 조건이 만족될 때까지 대기"
   ]
  },
  {
   "cell_type": "code",
   "execution_count": null,
   "id": "a3a5c2e7",
   "metadata": {},
   "outputs": [],
   "source": [
    "# 적절한 while문 예시들\n",
    "while user_choice != \"종료\":   # 사용자가 종료할 때까지\n",
    "    user_choice = input(\"명령을 입력하세요: \")\n",
    "\n",
    "while balance > 0:            # 돈이 떨어질 때까지\n",
    "    balance -= 구매금액\n",
    "\n",
    "while not 답을_찾았음:         # 답을 찾을 때까지\n",
    "    답 = 데이터베이스_검색()\n",
    "    답을_찾았음 = 답_확인(답)"
   ]
  },
  {
   "cell_type": "markdown",
   "id": "56cc7f08",
   "metadata": {
    "lines_to_next_cell": 0
   },
   "source": [
    "### 변환 예시\n",
    "\n",
    "#### 같은 작업, 다른 접근법"
   ]
  },
  {
   "cell_type": "code",
   "execution_count": null,
   "id": "31706f52",
   "metadata": {},
   "outputs": [],
   "source": [
    "# 작업: 1부터 5까지 숫자 출력\n",
    "\n",
    "# 방법 1: for문 (이 작업에 더 적합)\n",
    "for i in range(1, 6):\n",
    "    print(i)\n",
    "\n",
    "# 방법 2: while문 (가능하지만 불필요)\n",
    "i = 1\n",
    "while i <= 5:\n",
    "    print(i)\n",
    "    i += 1"
   ]
  },
  {
   "cell_type": "markdown",
   "id": "03ea13b0",
   "metadata": {
    "lines_to_next_cell": 0
   },
   "source": [
    "---\n",
    "\n",
    "## 🔧 실습 문제\n",
    "\n",
    "### 실습 1: 숫자 맞추기 게임\n",
    "\n",
    "**문제**: 컴퓨터가 1과 20 사이의 랜덤 숫자를 선택하고 사용자가 맞추는 대화형 게임을 만드세요.\n",
    "\n",
    "**요구사항**:\n",
    "- 컴퓨터가 1과 20 사이의 랜덤 숫자 선택\n",
    "- 사용자가 맞출 때까지 계속 추측 요청\n",
    "- 힌트 제공: \"너무 높음\" 또는 \"너무 낮음\"\n",
    "- 시도 횟수 계산 및 표시\n",
    "\n",
    "**정답**:"
   ]
  },
  {
   "cell_type": "code",
   "execution_count": null,
   "id": "065a05c2",
   "metadata": {},
   "outputs": [],
   "source": [
    "import random\n",
    "\n",
    "# 숫자 맞추기 게임\n",
    "print(\"=== 숫자 맞추기 게임 ===\")\n",
    "print(\"1부터 20 사이의 숫자를 생각하고 있습니다!\")\n",
    "\n",
    "# 컴퓨터가 랜덤 숫자 선택\n",
    "secret_number = random.randint(1, 20)\n",
    "attempts = 0\n",
    "guessed_correctly = False\n",
    "\n",
    "# 메인 게임 루프\n",
    "while not guessed_correctly:\n",
    "    # 사용자 추측 입력받기\n",
    "    guess = int(input(\"\\n추측을 입력하세요: \"))\n",
    "    attempts += 1\n",
    "    \n",
    "    # 추측 확인\n",
    "    if guess == secret_number:\n",
    "        guessed_correctly = True\n",
    "        print(f\"축하합니다! 맞추셨습니다!\")\n",
    "        print(f\"정답은 {secret_number}였습니다.\")\n",
    "        print(f\"총 {attempts}번 시도하셨습니다.\")\n",
    "    elif guess < secret_number:\n",
    "        print(\"너무 낮습니다! 더 큰 숫자를 시도해보세요.\")\n",
    "    else:\n",
    "        print(\"너무 높습니다! 더 작은 숫자를 시도해보세요.\")\n",
    "        \n",
    "    # 시도 횟수에 따른 격려\n",
    "    if attempts == 5 and not guessed_correctly:\n",
    "        print(\"힌트: 거의 다 왔습니다!\")\n",
    "    elif attempts == 10 and not guessed_correctly:\n",
    "        print(\"포기하지 마세요! 계속 시도해보세요!\")\n",
    "\n",
    "print(\"게임을 해주셔서 감사합니다!\")"
   ]
  },
  {
   "cell_type": "markdown",
   "id": "61ec4916",
   "metadata": {
    "lines_to_next_cell": 0
   },
   "source": [
    "### 실습 2: 메뉴 선택 프로그램\n",
    "\n",
    "**문제**: 사용자가 종료를 선택할 때까지 계속 실행되는 메뉴가 있는 간단한 계산기를 만드세요.\n",
    "\n",
    "**요구사항**:\n",
    "- 메뉴 옵션 표시: 더하기, 빼기, 곱하기, 나누기, 종료\n",
    "- 사용자 선택에 따라 계산 수행\n",
    "- 잘못된 입력을 우아하게 처리\n",
    "- 사용자가 종료할 때까지 메뉴 계속 표시\n",
    "\n",
    "**정답**:"
   ]
  },
  {
   "cell_type": "code",
   "execution_count": null,
   "id": "c7b0884e",
   "metadata": {},
   "outputs": [],
   "source": [
    "# 메뉴 계산기\n",
    "print(\"=== 간단한 계산기 ===\")\n",
    "\n",
    "while True:\n",
    "    # 메뉴 표시\n",
    "    print(\"\\n\" + \"=\"*30)\n",
    "    print(\"계산기 메뉴:\")\n",
    "    print(\"1. 더하기\")\n",
    "    print(\"2. 빼기\") \n",
    "    print(\"3. 곱하기\")\n",
    "    print(\"4. 나누기\")\n",
    "    print(\"5. 종료\")\n",
    "    print(\"=\"*30)\n",
    "    \n",
    "    # 사용자 선택 입력받기\n",
    "    choice = input(\"선택하세요 (1-5): \")\n",
    "    \n",
    "    # 종료 옵션\n",
    "    if choice == \"5\":\n",
    "        print(\"계산기를 사용해 주셔서 감사합니다!\")\n",
    "        print(\"안녕히 가세요!\")\n",
    "        break\n",
    "    \n",
    "    # 계산을 위해 두 숫자 입력받기\n",
    "    if choice in [\"1\", \"2\", \"3\", \"4\"]:\n",
    "        num1 = float(input(\"첫 번째 숫자를 입력하세요: \"))\n",
    "        num2 = float(input(\"두 번째 숫자를 입력하세요: \"))\n",
    "        \n",
    "        if choice == \"1\":\n",
    "            result = num1 + num2\n",
    "            operation = \"+\"\n",
    "        elif choice == \"2\":\n",
    "            result = num1 - num2\n",
    "            operation = \"-\"\n",
    "        elif choice == \"3\":\n",
    "            result = num1 * num2\n",
    "            operation = \"*\"\n",
    "        elif choice == \"4\":\n",
    "            if num2 == 0:\n",
    "                print(\"오류: 0으로 나눌 수 없습니다!\")\n",
    "                continue\n",
    "            result = num1 / num2\n",
    "            operation = \"/\"\n",
    "        \n",
    "        print(f\"\\n결과: {num1} {operation} {num2} = {result}\")\n",
    "    else:\n",
    "        print(\"잘못된 선택입니다! 1-5를 선택해주세요.\")\n",
    "    \n",
    "    # 계속하려면 Enter 입력\n",
    "    input(\"\\n계속하려면 Enter를 누르세요...\")"
   ]
  },
  {
   "cell_type": "markdown",
   "id": "5fd90a4c",
   "metadata": {
    "lines_to_next_cell": 0
   },
   "source": [
    "### 실습 3: 간단한 저축 시뮬레이터\n",
    "\n",
    "**문제**: 입금, 출금, 잔액 확인이 가능한 간단한 저축 시뮬레이터를 만드세요.\n",
    "\n",
    "**요구사항**:\n",
    "- 초기 잔액으로 시작\n",
    "- 입금과 출금 허용\n",
    "- 잔액을 초과하는 출금 방지\n",
    "- 사용자가 종료를 선택할 때까지 계속\n",
    "\n",
    "**정답**:"
   ]
  },
  {
   "cell_type": "code",
   "execution_count": null,
   "id": "15efb922",
   "metadata": {},
   "outputs": [],
   "source": [
    "# 저축 시뮬레이터\n",
    "print(\"=== 저축 시뮬레이터 ===\")\n",
    "\n",
    "# 계좌 초기화\n",
    "balance = 10000  # 시작 잔액\n",
    "print(f\"환영합니다! 현재 잔액은 {balance:,}원입니다.\")\n",
    "\n",
    "while True:\n",
    "    # 메뉴 표시\n",
    "    print(\"\\n\" + \"-\"*30)\n",
    "    print(\"뱅킹 메뉴:\")\n",
    "    print(\"1. 잔액 확인\")\n",
    "    print(\"2. 입금\")\n",
    "    print(\"3. 출금\") \n",
    "    print(\"4. 종료\")\n",
    "    print(\"-\"*30)\n",
    "    \n",
    "    choice = input(\"선택하세요 (1-4): \")\n",
    "    \n",
    "    if choice == \"1\":\n",
    "        # 잔액 확인\n",
    "        print(f\"\\n현재 잔액: {balance:,}원\")\n",
    "        \n",
    "    elif choice == \"2\":\n",
    "        # 입금\n",
    "        amount = int(input(\"입금할 금액을 입력하세요: \"))\n",
    "        if amount > 0:\n",
    "            balance += amount\n",
    "            print(f\"{amount:,}원이 입금되었습니다.\")\n",
    "            print(f\"새 잔액: {balance:,}원\")\n",
    "        else:\n",
    "            print(\"잘못된 금액입니다! 양수를 입력해주세요.\")\n",
    "            \n",
    "    elif choice == \"3\":\n",
    "        # 출금\n",
    "        amount = int(input(\"출금할 금액을 입력하세요: \"))\n",
    "        if amount > 0:\n",
    "            if amount <= balance:\n",
    "                balance -= amount\n",
    "                print(f\"{amount:,}원이 출금되었습니다.\")\n",
    "                print(f\"새 잔액: {balance:,}원\")\n",
    "            else:\n",
    "                print(f\"잔액이 부족합니다! 현재 잔액: {balance:,}원\")\n",
    "        else:\n",
    "            print(\"잘못된 금액입니다! 양수를 입력해주세요.\")\n",
    "            \n",
    "    elif choice == \"4\":\n",
    "        # 종료\n",
    "        print(f\"\\n최종 잔액: {balance:,}원\")\n",
    "        print(\"저축 시뮬레이터를 이용해 주셔서 감사합니다!\")\n",
    "        break\n",
    "        \n",
    "    else:\n",
    "        print(\"잘못된 선택입니다! 1-4를 선택해주세요.\")\n",
    "    \n",
    "    # 계속하기 전 일시정지\n",
    "    input(\"\\n계속하려면 Enter를 누르세요...\")"
   ]
  },
  {
   "cell_type": "markdown",
   "id": "a13697d2",
   "metadata": {},
   "source": [
    "---\n",
    "\n",
    "## 📝 퀴즈\n",
    "\n",
    "### 퀴즈 1: 기본 while문\n",
    "**문제**: 1부터 5까지의 숫자를 각각 별도의 줄에 출력하는 while문을 작성하세요.\n",
    "\n",
    "**요구사항**:\n",
    "- while문 사용 (for문 아님)\n",
    "- 각 숫자를 설명 메시지와 함께 출력\n",
    "- 반복문이 올바르게 종료되도록 확인\n",
    "\n",
    "### 퀴즈 2: 사용자 입력을 받는 합계 계산기\n",
    "**문제**: 사용자에게 계속 숫자를 입력받아 그 합을 계산하는 프로그램을 만드세요. 사용자가 0을 입력하면 프로그램이 중단되어야 합니다.\n",
    "\n",
    "**요구사항**:\n",
    "- while문으로 계속 입력 요청\n",
    "- 입력된 모든 숫자의 누적 합 계산\n",
    "- 사용자가 0 입력 시 중단\n",
    "- 프로그램 종료 시 최종 합계 표시\n",
    "\n",
    "### 퀴즈 3: continue를 사용한 배수가 아닌 숫자 출력\n",
    "**문제**: while문과 continue문을 사용하여 1부터 20까지의 숫자를 출력하되, 3의 배수는 모두 건너뛰는 프로그램을 작성하세요.\n",
    "\n",
    "**요구사항**:\n",
    "- 1부터 20까지 반복하는 while문 사용\n",
    "- 3의 배수를 건너뛰기 위해 continue 사용\n",
    "- 3의 배수가 아닌 숫자만 출력\n",
    "\n",
    "---\n",
    "\n",
    "## 📖 참고 자료\n",
    "\n",
    "1. **파이썬 공식 튜토리얼 - while문**: https://docs.python.org/ko/3/reference/compound_stmts.html#while\n",
    "   - while문에 대한 공식 설명\n",
    "\n",
    "2. **점프 투 파이썬 - while문**: https://wikidocs.net/21\n",
    "   - 한국어로 된 while문 설명\n",
    "\n",
    "3. **코딩 도장 - while 반복문**: https://dojang.io/mod/page/view.php?id=2245\n",
    "   - 파이썬 while문 상세 설명\n",
    "\n",
    "4. **Real Python - Python while 반복문**: https://realpython.com/python-while-loop/\n",
    "   - 영어 자료이지만 심화 학습용\n",
    "\n",
    "---\n",
    "\n",
    "## 💡 성공을 위한 팁\n",
    "\n",
    "### 일반적인 실수\n",
    "- **무한 루프**: 조건 변수 업데이트 잊기\n",
    "- **잘못된 조건**: 조건에서 == 대신 = 사용\n",
    "- **범위 오류**: 잘못된 숫자에서 시작하거나 끝내기\n",
    "- **break 누락**: while True 사용 시 무한 루프\n",
    "\n",
    "### 연습 팁\n",
    "- **간단한 카운터로 시작**: 기본 계수 반복문부터 연습\n",
    "- **실행 추적**: 종이에 반복문을 단계별로 따라가기\n",
    "- **디버깅에 print() 사용**: 변수 값을 보기 위해 print문 추가\n",
    "- **break/continue 연습**: 언제 어떻게 사용하는지 이해\n",
    "\n",
    "### 디버깅 요령\n",
    "- **조건 업데이트 확인**: 조건의 변수가 변경되는지 확인\n",
    "- **반복 카운터 추가**: 무한 루프 방지를 위해 반복 횟수 세기\n",
    "- **경계 경우 테스트**: 시작과 끝 조건에서 무슨 일이 일어나는지\n",
    "\n",
    "### 실제 활용 분야\n",
    "- **사용자 인터페이스**: 메뉴 시스템과 대화형 프로그램\n",
    "- **게임 루프**: 게임이 끝날 때까지 실행되는 메인 게임 루프\n",
    "- **데이터 검증**: 유효한 입력을 받을 때까지 계속 요청\n",
    "- **서버 프로그램**: 종료 신호까지 계속 실행\n",
    "\n",
    "---\n",
    "\n",
    "## 📋 숙제\n",
    "\n",
    "### 연습 문제\n",
    "\n",
    "1. **비밀번호 검증기**: 사용자가 \"python123\"을 입력할 때까지 계속 비밀번호를 요청하는 프로그램\n",
    "\n",
    "2. **짝수 카운터**: while문을 사용하여 2부터 20까지의 모든 짝수 출력\n",
    "\n",
    "3. **온도 변환 프로그램**: 사용자가 \"종료\"를 입력할 때까지 계속 섭씨온도를 화씨온도로 변환하는 프로그램\n",
    "   (공식: 화씨 = 섭씨 × 9/5 + 32)\n",
    "\n",
    "4. **소수 찾기**: while문을 사용하여 2부터 30까지 소수만 찾아서 출력\n",
    "\n",
    "### 도전 문제\n",
    "\n",
    "5. **간단한 가위바위보 게임**: 컴퓨터와 가위바위보를 하며 승수를 기록하고, 사용자가 그만두기를 선택할 때까지 계속하는 프로그램\n",
    "\n",
    "**프로그래밍 여정에 행운을 빕니다!** ⭐"
   ]
  }
 ],
 "metadata": {
  "jupytext": {
   "cell_metadata_filter": "-all",
   "main_language": "python",
   "notebook_metadata_filter": "-all"
  }
 },
 "nbformat": 4,
 "nbformat_minor": 5
}
