{
 "cells": [
  {
   "cell_type": "markdown",
   "id": "1a4a33a3",
   "metadata": {},
   "source": [
    "# 고급 함수 (Advanced Functions)\n",
    "\n",
    "**수업 시간**: 3시간  \n",
    "**구성**: 강의 및 실습 2시간 + 퀴즈 1시간  \n",
    "**수준**: 중급  \n",
    "**선수 학습**: 함수 기초, 매개변수와 인수, 반환값, 기본 데이터 타입, 조건문, 반복문\n",
    "\n",
    "---\n",
    "\n",
    "## 🎯 학습 목표\n",
    "\n",
    "이 수업을 마친 후 학생들은 다음을 할 수 있습니다:\n",
    "\n",
    "- 기본 매개변수값(Default Parameter Values)을 사용하여 유연한 함수 생성하기\n",
    "- 명확한 함수 호출을 위한 키워드 인수(Keyword Arguments) 적용하기\n",
    "- 지역변수(Local Variables)와 전역변수(Global Variables)의 차이점 이해하기\n",
    "- 함수 내에서 다른 함수를 호출하는 복합 함수 구조 설계하기\n",
    "\n",
    "---\n",
    "\n",
    "## 🔧 1. 기본 매개변수값 (Default Parameter Values)\n",
    "\n",
    "### 기본 매개변수란?\n",
    "\n",
    "**기본 매개변수(Default Parameters)**는 함수 매개변수에 기본값을 할당할 수 있게 해줍니다. 인수가 제공되지 않으면 기본값이 사용됩니다.\n",
    "\n",
    "### 기본 문법"
   ]
  },
  {
   "cell_type": "code",
   "execution_count": null,
   "id": "161ab00d",
   "metadata": {},
   "outputs": [],
   "source": [
    "def function_name(parameter1, parameter2=default_value):\n",
    "    return result"
   ]
  },
  {
   "cell_type": "markdown",
   "id": "a707ee35",
   "metadata": {
    "lines_to_next_cell": 0
   },
   "source": [
    "### 간단한 예시\n",
    "\n",
    "#### 예시 1: 인사말 함수"
   ]
  },
  {
   "cell_type": "code",
   "execution_count": null,
   "id": "8306b90c",
   "metadata": {},
   "outputs": [],
   "source": [
    "def greet_user(name, greeting=\"안녕하세요\"):\n",
    "    return f\"{greeting}, {name}님!\"\n",
    "\n",
    "# 기본값 사용\n",
    "print(greet_user(\"김철수\"))  # 출력: 안녕하세요, 김철수님!\n",
    "\n",
    "# 사용자 정의 값 사용  \n",
    "print(greet_user(\"이영희\", \"좋은 아침\"))  # 출력: 좋은 아침, 이영희님!"
   ]
  },
  {
   "cell_type": "markdown",
   "id": "9ab84856",
   "metadata": {
    "lines_to_next_cell": 0
   },
   "source": [
    "#### 예시 2: 면적 계산"
   ]
  },
  {
   "cell_type": "code",
   "execution_count": null,
   "id": "c1fe0ae0",
   "metadata": {},
   "outputs": [],
   "source": [
    "def calculate_area(length, width=None):\n",
    "    if width is None:\n",
    "        return length * length  # 정사각형\n",
    "    else:\n",
    "        return length * width   # 직사각형\n",
    "\n",
    "print(calculate_area(5))      # 정사각형: 25\n",
    "print(calculate_area(5, 3))   # 직사각형: 15"
   ]
  },
  {
   "cell_type": "markdown",
   "id": "a48c5abe",
   "metadata": {},
   "source": [
    "### 중요한 규칙\n",
    "\n",
    "기본 매개변수는 비기본 매개변수 **뒤에** 와야 합니다:"
   ]
  },
  {
   "cell_type": "code",
   "execution_count": null,
   "id": "c6ecf427",
   "metadata": {},
   "outputs": [],
   "source": [
    "# 올바른 예시 ✓\n",
    "def order_coffee(size, milk=\"일반\", sugar=1):\n",
    "    return f\"{size} 커피, {milk} 우유, 설탕 {sugar}개\"\n",
    "\n",
    "# 잘못된 예시 ✗  \n",
    "def bad_function(milk=\"일반\", size):  # SyntaxError!\n",
    "    pass"
   ]
  },
  {
   "cell_type": "markdown",
   "id": "508fee2e",
   "metadata": {},
   "source": [
    "### 실용적인 예시: 학생 정보 시스템"
   ]
  },
  {
   "cell_type": "code",
   "execution_count": null,
   "id": "e075ab63",
   "metadata": {},
   "outputs": [],
   "source": [
    "def create_student_profile(name, student_id, major=\"소프트웨어융합과\", year=1, status=\"재학\"):\n",
    "    \"\"\"학생 프로필 생성\"\"\"\n",
    "    profile = {\n",
    "        \"이름\": name,\n",
    "        \"학번\": student_id,\n",
    "        \"전공\": major,\n",
    "        \"학년\": year,\n",
    "        \"상태\": status\n",
    "    }\n",
    "    return profile\n",
    "\n",
    "# 다양한 방법으로 사용\n",
    "student1 = create_student_profile(\"김철수\", \"20240001\")\n",
    "student2 = create_student_profile(\"이영희\", \"20240002\", year=3)\n",
    "student3 = create_student_profile(\"박민수\", \"20240003\", \"컴퓨터정보과\", 2)\n",
    "\n",
    "print(student1)\n",
    "print(student2)\n",
    "print(student3)"
   ]
  },
  {
   "cell_type": "markdown",
   "id": "90c03263",
   "metadata": {
    "lines_to_next_cell": 0
   },
   "source": [
    "---\n",
    "\n",
    "## 🏷️ 2. 키워드 인수 (Keyword Arguments)\n",
    "\n",
    "### 키워드 인수란?\n",
    "\n",
    "**키워드 인수(Keyword Arguments)**는 매개변수 이름을 사용하여 어떤 매개변수에 값을 전달하는지 지정할 수 있게 해줍니다.\n",
    "\n",
    "### 장점\n",
    "\n",
    "- **명확성**: 코드를 더 읽기 쉽게 만듦\n",
    "- **유연성**: 인수를 어떤 순서로든 전달 가능\n",
    "\n",
    "### 예시\n",
    "\n",
    "#### 예시 1: 학생 프로필 생성"
   ]
  },
  {
   "cell_type": "code",
   "execution_count": null,
   "id": "6b2e6f25",
   "metadata": {},
   "outputs": [],
   "source": [
    "def create_profile(name, age, grade=\"A\", school=\"영남이공대학교\"):\n",
    "    return f\"학생: {name}, 나이: {age}, 성적: {grade}, 학교: {school}\"\n",
    "\n",
    "# 키워드 인수 사용\n",
    "profile1 = create_profile(name=\"김철수\", age=18, school=\"영남이공대학교\")\n",
    "profile2 = create_profile(age=19, name=\"이영희\", grade=\"B\")\n",
    "\n",
    "print(profile1)\n",
    "print(profile2)"
   ]
  },
  {
   "cell_type": "markdown",
   "id": "eb9c9de3",
   "metadata": {
    "lines_to_next_cell": 0
   },
   "source": [
    "#### 예시 2: 소프트웨어 프로젝트 설정"
   ]
  },
  {
   "cell_type": "code",
   "execution_count": null,
   "id": "c20daf00",
   "metadata": {},
   "outputs": [],
   "source": [
    "def setup_project(project_name, language, framework=\"None\", database=\"SQLite\", version=\"1.0\"):\n",
    "    return f\"프로젝트: {project_name}, 언어: {language}, 프레임워크: {framework}, DB: {database}, 버전: {version}\"\n",
    "\n",
    "# 다양한 호출 방법\n",
    "project1 = setup_project(\"웹앱\", \"Python\")\n",
    "project2 = setup_project(\n",
    "    project_name=\"모바일앱\", \n",
    "    language=\"Java\", \n",
    "    framework=\"Spring\", \n",
    "    database=\"MySQL\",\n",
    "    version=\"2.1\"\n",
    ")\n",
    "\n",
    "print(project1)\n",
    "print(project2)"
   ]
  },
  {
   "cell_type": "markdown",
   "id": "ce83a7ef",
   "metadata": {},
   "source": [
    "---\n",
    "\n",
    "## 🌍 3. 지역변수 vs 전역변수 (Local vs Global Variables)\n",
    "\n",
    "### 변수 범위(Scope) 이해하기\n",
    "\n",
    "**변수 범위(Variable Scope)**는 프로그램에서 변수에 접근할 수 있는 위치를 결정합니다.\n",
    "\n",
    "### 지역변수 (Local Variables)\n",
    "\n",
    "함수 **내부**에서 생성된 변수로, 해당 함수 내에서만 접근 가능합니다."
   ]
  },
  {
   "cell_type": "code",
   "execution_count": null,
   "id": "da4a789e",
   "metadata": {},
   "outputs": [],
   "source": [
    "def calculate_tuition(base_fee):\n",
    "    additional_fee = base_fee * 0.1  # 지역변수\n",
    "    total_fee = base_fee + additional_fee  # 지역변수\n",
    "    return total_fee\n",
    "\n",
    "result = calculate_tuition(1000000)\n",
    "print(result)  # 1100000\n",
    "\n",
    "# print(additional_fee)  # 오류! 지역변수에 접근할 수 없음"
   ]
  },
  {
   "cell_type": "markdown",
   "id": "f2a036e8",
   "metadata": {},
   "source": [
    "### 전역변수 (Global Variables)\n",
    "\n",
    "함수 **외부**에서 생성된 변수로, 어디서든 접근 가능합니다."
   ]
  },
  {
   "cell_type": "code",
   "execution_count": null,
   "id": "82b4a4bb",
   "metadata": {},
   "outputs": [],
   "source": [
    "university_name = \"우리 대학교\"  # 전역변수\n",
    "tuition_rate = 0.05                # 전역변수\n",
    "\n",
    "def show_info():\n",
    "    print(f\"대학교: {university_name}\")  # 전역변수 읽기 가능\n",
    "    print(f\"등록금 할인율: {tuition_rate}\")\n",
    "\n",
    "def calculate_discounted_tuition(base_tuition):\n",
    "    return base_tuition * (1 - tuition_rate)  # 전역변수 사용\n",
    "\n",
    "show_info()\n",
    "print(f\"할인된 등록금: {calculate_discounted_tuition(2000000)}원\")"
   ]
  },
  {
   "cell_type": "markdown",
   "id": "95591a78",
   "metadata": {},
   "source": [
    "### 전역변수 수정하기\n",
    "\n",
    "함수 내부에서 전역변수를 수정하려면 `global` 키워드를 사용해야 합니다:"
   ]
  },
  {
   "cell_type": "code",
   "execution_count": null,
   "id": "b01003ea",
   "metadata": {},
   "outputs": [],
   "source": [
    "student_count = 0  # 전역변수\n",
    "\n",
    "def enroll_student():\n",
    "    global student_count  # 전역변수 수정을 위해 global 선언\n",
    "    student_count += 1\n",
    "    print(f\"등록된 학생 수: {student_count}\")\n",
    "\n",
    "def reset_enrollment():\n",
    "    global student_count\n",
    "    student_count = 0\n",
    "    print(\"등록 학생 수가 초기화되었습니다\")\n",
    "\n",
    "enroll_student()  # 등록된 학생 수: 1\n",
    "enroll_student()  # 등록된 학생 수: 2\n",
    "reset_enrollment()  # 등록 학생 수가 초기화되었습니다"
   ]
  },
  {
   "cell_type": "markdown",
   "id": "d3e6fa7f",
   "metadata": {},
   "source": [
    "---\n",
    "\n",
    "## 🔗 4. 함수에서 함수 호출 (Functions Calling Functions)\n",
    "\n",
    "### 왜 여러 함수를 사용하나요?\n",
    "\n",
    "코드를 더 작은 함수로 나누면:\n",
    "- **이해하기 쉬움**\n",
    "- **테스트하기 쉬움**\n",
    "- **재사용 가능**\n",
    "\n",
    "### 간단한 예시: 학비 계산 시스템"
   ]
  },
  {
   "cell_type": "code",
   "execution_count": null,
   "id": "bfe624e4",
   "metadata": {},
   "outputs": [],
   "source": [
    "def calculate_tuition_tax(tuition):\n",
    "    return tuition * 0.03\n",
    "\n",
    "def calculate_dormitory_fee(semester_count):\n",
    "    return semester_count * 800000\n",
    "\n",
    "def process_student_payment(tuition, dormitory_semesters):\n",
    "    print(f\"기본 등록금: {tuition:,}원\")\n",
    "    \n",
    "    tax = calculate_tuition_tax(tuition)\n",
    "    print(f\"부가세: {tax:,}원\")\n",
    "    \n",
    "    dorm_fee = calculate_dormitory_fee(dormitory_semesters)\n",
    "    print(f\"기숙사비 ({dormitory_semesters}학기): {dorm_fee:,}원\")\n",
    "    \n",
    "    total = tuition + tax + dorm_fee\n",
    "    print(f\"총 납부액: {total:,}원\")\n",
    "    \n",
    "    return total\n",
    "\n",
    "# 시스템 테스트\n",
    "final_cost = process_student_payment(3000000, 2)"
   ]
  },
  {
   "cell_type": "markdown",
   "id": "d9e7cd46",
   "metadata": {},
   "source": [
    "### 성적 처리 시스템 예시"
   ]
  },
  {
   "cell_type": "code",
   "execution_count": null,
   "id": "fd0211a7",
   "metadata": {},
   "outputs": [],
   "source": [
    "def calculate_average(scores):\n",
    "    return sum(scores) / len(scores)\n",
    "\n",
    "def get_letter_grade(average):\n",
    "    if average >= 95:\n",
    "        return \"A+\"\n",
    "    elif average >= 90:\n",
    "        return \"A\"\n",
    "    elif average >= 85:\n",
    "        return \"B+\"\n",
    "    elif average >= 80:\n",
    "        return \"B\"\n",
    "    elif average >= 75:\n",
    "        return \"C+\"\n",
    "    elif average >= 70:\n",
    "        return \"C\"\n",
    "    else:\n",
    "        return \"F\"\n",
    "\n",
    "def determine_scholarship(grade):\n",
    "    if grade in [\"A+\", \"A\"]:\n",
    "        return \"우수장학금\"\n",
    "    elif grade in [\"B+\", \"B\"]:\n",
    "        return \"성적장학금\"\n",
    "    else:\n",
    "        return \"해당없음\"\n",
    "\n",
    "def generate_transcript(student_name, course_name, test_scores):\n",
    "    print(f\"=== 소프트웨어융합과 성적표 ===\")\n",
    "    print(f\"학생: {student_name}\")\n",
    "    print(f\"과목: {course_name}\")\n",
    "    \n",
    "    average = calculate_average(test_scores)\n",
    "    print(f\"평균 점수: {average:.1f}점\")\n",
    "    \n",
    "    grade = get_letter_grade(average)\n",
    "    print(f\"학점: {grade}\")\n",
    "    \n",
    "    scholarship = determine_scholarship(grade)\n",
    "    print(f\"장학금: {scholarship}\")\n",
    "    \n",
    "    return grade\n",
    "\n",
    "# 시스템 테스트\n",
    "student_grade = generate_transcript(\"김철수\", \"파이썬 프로그래밍\", [92, 88, 95, 90])"
   ]
  },
  {
   "cell_type": "markdown",
   "id": "f3639805",
   "metadata": {
    "lines_to_next_cell": 0
   },
   "source": [
    "---\n",
    "\n",
    "## 🔧 실습 문제\n",
    "\n",
    "### 실습 1: 간단한 계산기\n",
    "\n",
    "**문제**: 기본 매개변수와 키워드 인수가 있는 간단한 계산기를 만드세요.\n",
    "\n",
    "**정답**:"
   ]
  },
  {
   "cell_type": "code",
   "execution_count": null,
   "id": "7d4c76c5",
   "metadata": {},
   "outputs": [],
   "source": [
    "def calculate(num1, num2, operation=\"add\"):\n",
    "    \"\"\"기본 연산이 있는 간단한 계산기\"\"\"\n",
    "    \n",
    "    if operation == \"add\":\n",
    "        result = num1 + num2\n",
    "    elif operation == \"subtract\":\n",
    "        result = num1 - num2\n",
    "    elif operation == \"multiply\":\n",
    "        result = num1 * num2\n",
    "    else:\n",
    "        result = \"지원하지 않는 연산입니다\"\n",
    "    \n",
    "    return result\n",
    "\n",
    "# 계산기 테스트\n",
    "print(\"=== 간단한 계산기 ===\")\n",
    "print(calculate(10, 5))                    # 기본: 덧셈\n",
    "print(calculate(10, 5, \"multiply\"))        # 곱셈\n",
    "print(calculate(num1=20, num2=4, operation=\"subtract\"))  # 키워드 인수"
   ]
  },
  {
   "cell_type": "markdown",
   "id": "7c74d512",
   "metadata": {
    "lines_to_next_cell": 0
   },
   "source": [
    "### 실습 2: 간단한 점수 관리\n",
    "\n",
    "**문제**: 전역변수를 사용하여 간단한 점수 관리 시스템을 만드세요.\n",
    "\n",
    "**정답**:"
   ]
  },
  {
   "cell_type": "code",
   "execution_count": null,
   "id": "5906d89f",
   "metadata": {},
   "outputs": [],
   "source": [
    "# 전역변수\n",
    "total_score = 0\n",
    "\n",
    "def add_points(points):\n",
    "    global total_score\n",
    "    total_score += points\n",
    "    print(f\"점수 추가! 현재 총점: {total_score}점\")\n",
    "\n",
    "def show_score():\n",
    "    print(f\"현재 총점: {total_score}점\")\n",
    "\n",
    "def reset_score():\n",
    "    global total_score\n",
    "    total_score = 0\n",
    "    print(\"점수가 초기화되었습니다!\")\n",
    "\n",
    "# 시스템 테스트\n",
    "print(\"=== 점수 관리 시스템 ===\")\n",
    "show_score()\n",
    "add_points(100)\n",
    "add_points(50)\n",
    "show_score()\n",
    "reset_score()"
   ]
  },
  {
   "cell_type": "markdown",
   "id": "278cd984",
   "metadata": {
    "lines_to_next_cell": 0
   },
   "source": [
    "### 실습 3: 간단한 성적 시스템\n",
    "\n",
    "**문제**: 함수들이 함께 작동하는 간단한 성적 시스템을 만드세요.\n",
    "\n",
    "**정답**:"
   ]
  },
  {
   "cell_type": "code",
   "execution_count": null,
   "id": "f452cac9",
   "metadata": {},
   "outputs": [],
   "source": [
    "def calculate_average(scores):\n",
    "    return sum(scores) / len(scores)\n",
    "\n",
    "def get_grade(average):\n",
    "    if average >= 90:\n",
    "        return \"A\"\n",
    "    elif average >= 80:\n",
    "        return \"B\"\n",
    "    else:\n",
    "        return \"C\"\n",
    "\n",
    "def show_result(name, scores):\n",
    "    print(f\"학생: {name}\")\n",
    "    \n",
    "    average = calculate_average(scores)\n",
    "    print(f\"평균: {average:.1f}점\")\n",
    "    \n",
    "    grade = get_grade(average)\n",
    "    print(f\"등급: {grade}\")\n",
    "\n",
    "# 시스템 테스트\n",
    "print(\"=== 성적 시스템 ===\")\n",
    "show_result(\"김철수\", [85, 90, 78])"
   ]
  },
  {
   "cell_type": "markdown",
   "id": "b45fe9e8",
   "metadata": {
    "lines_to_next_cell": 0
   },
   "source": [
    "---\n",
    "\n",
    "## 📝 퀴즈\n",
    "\n",
    "### 퀴즈 1: 기본 매개변수\n",
    "\n",
    "**문제**: `book_ticket` 함수를 만드세요. 다음 매개변수들을 받습니다:\n",
    "\n",
    "- `destination` (필수)\n",
    "- `passenger_name` (필수)\n",
    "- `seat_class` (기본값: \"economy\")\n",
    "- `meal_preference` (기본값: \"none\")\n",
    "\n",
    "함수는 형식화된 예약 확인서를 반환해야 합니다. 다양한 매개변수 조합으로 테스트하세요.\n",
    "\n",
    "**답안 작성 공간**:"
   ]
  },
  {
   "cell_type": "code",
   "execution_count": null,
   "id": "196b4168",
   "metadata": {},
   "outputs": [],
   "source": [
    "# 여기에 코드를 작성하세요"
   ]
  },
  {
   "cell_type": "markdown",
   "id": "606787f9",
   "metadata": {
    "lines_to_next_cell": 0
   },
   "source": [
    "### 퀴즈 2: 전역변수\n",
    "\n",
    "**문제**: 다음 전역변수와 함수들로 간단한 재고 시스템을 만드세요:\n",
    "\n",
    "- 전역변수: `inventory_count`, `item_name`\n",
    "- `set_item(name, count)` - 재고 초기화\n",
    "- `add_stock(amount)` - 재고 추가\n",
    "- `sell_item(amount)` - 판매 (충분한 재고가 있는 경우)\n",
    "- `check_inventory()` - 재고 확인\n",
    "\n",
    "**답안 작성 공간**:"
   ]
  },
  {
   "cell_type": "code",
   "execution_count": null,
   "id": "8c220f0d",
   "metadata": {},
   "outputs": [],
   "source": [
    "# 여기에 코드를 작성하세요"
   ]
  },
  {
   "cell_type": "markdown",
   "id": "2d730242",
   "metadata": {
    "lines_to_next_cell": 0
   },
   "source": [
    "### 퀴즈 3: 함수 협력\n",
    "\n",
    "**문제**: 다음 함수들로 간단한 식당 계산서 계산기를 만드세요:\n",
    "\n",
    "- `calculate_subtotal(items)` - 음식 가격의 소계 계산\n",
    "- `calculate_tax(subtotal, rate=0.1)` - 세금 계산\n",
    "- `calculate_service_charge(subtotal, percentage=10)` - 서비스료 계산\n",
    "- `generate_bill(items, tax_rate=0.1, service_percentage=10)` - 최종 계산서 생성\n",
    "\n",
    "테스트 데이터: `[{\"item\": \"불고기정식\", \"price\": 15000}, {\"item\": \"냉면\", \"price\": 8000}]`\n",
    "\n",
    "**답안 작성 공간**:"
   ]
  },
  {
   "cell_type": "code",
   "execution_count": null,
   "id": "eb9c16dd",
   "metadata": {},
   "outputs": [],
   "source": [
    "# 여기에 코드를 작성하세요"
   ]
  },
  {
   "cell_type": "markdown",
   "id": "bb7b8a78",
   "metadata": {
    "lines_to_next_cell": 0
   },
   "source": [
    "---\n",
    "\n",
    "## 📖 참고 자료\n",
    "\n",
    "1. **파이썬 기본 매개변수**: https://docs.python.org/ko/3/tutorial/controlflow.html#default-argument-values\n",
    "   - 기본 매개변수 사용법에 대한 공식 문서\n",
    "\n",
    "2. **파이썬 변수 범위**: https://docs.python.org/ko/3/tutorial/classes.html#python-scopes-and-namespaces\n",
    "   - 지역변수와 전역변수의 범위에 대한 설명\n",
    "\n",
    "3. **W3Schools 파이썬 함수**: https://www.w3schools.com/python/python_functions.asp\n",
    "   - 함수 사용법과 예제\n",
    "\n",
    "4. **점프 투 파이썬 - 함수**: https://wikidocs.net/24\n",
    "   - 한국어로 된 함수 고급 기능 설명\n",
    "\n",
    "5. **코딩 도장 - 함수 고급**: https://dojang.io/mod/page/view.php?id=2359\n",
    "   - 함수의 고급 기능들에 대한 상세 설명\n",
    "\n",
    "---\n",
    "\n",
    "## 💡 핵심 요점\n",
    "\n",
    "### 기억해야 할 규칙들\n",
    "\n",
    "1. **기본 매개변수**는 필수 매개변수 뒤에 위치\n",
    "2. **키워드 인수**는 함수 호출을 더 명확하게 만듦\n",
    "3. 함수에서 전역변수를 수정할 때 **global** 키워드 사용\n",
    "4. **복잡한 문제**를 더 작은 함수로 나누어 해결\n",
    "\n",
    "### 모범 사례\n",
    "\n",
    "#### 1. 함수명과 매개변수명을 명확하게"
   ]
  },
  {
   "cell_type": "code",
   "execution_count": null,
   "id": "9a0db1ed",
   "metadata": {},
   "outputs": [],
   "source": [
    "# 좋은 예시\n",
    "def calculate_student_gpa(scores, credit_hours, grade_scale=4.0):\n",
    "    pass\n",
    "\n",
    "# 피해야 할 예시\n",
    "def calc(a, b, c=4):\n",
    "    pass"
   ]
  },
  {
   "cell_type": "markdown",
   "id": "c3ba5920",
   "metadata": {
    "lines_to_next_cell": 0
   },
   "source": [
    "#### 2. 기본값은 의미 있는 값으로"
   ]
  },
  {
   "cell_type": "code",
   "execution_count": null,
   "id": "d36dc9bb",
   "metadata": {},
   "outputs": [],
   "source": [
    "def send_notification(message, urgent=False, method=\"email\"):\n",
    "    if urgent:\n",
    "        method = \"SMS\"  # 긴급한 경우 SMS 사용\n",
    "    # 알림 전송 로직"
   ]
  },
  {
   "cell_type": "markdown",
   "id": "1bfa222d",
   "metadata": {
    "lines_to_next_cell": 0
   },
   "source": [
    "#### 3. 전역변수 사용 최소화"
   ]
  },
  {
   "cell_type": "code",
   "execution_count": null,
   "id": "b934063a",
   "metadata": {},
   "outputs": [],
   "source": [
    "# 가능하면 이렇게\n",
    "def process_data(data, config):\n",
    "    return processed_result\n",
    "\n",
    "# 전역변수 남용 피하기\n",
    "global_config = {...}  # 꼭 필요한 경우만 사용"
   ]
  },
  {
   "cell_type": "markdown",
   "id": "ec864ffc",
   "metadata": {},
   "source": [
    "---\n",
    "\n",
    "## 📋 숙제\n",
    "\n",
    "1. **기본 과제**: 3개 실습 모두 완료하기\n",
    "2. **심화 과제**: 기본 매개변수가 있는 함수를 사용하여 영남이공대학교 소프트웨어융합과 수강신청 시스템 만들기\n",
    "3. **응용 과제**: 전역변수와 지역변수를 적절히 활용한 간단한 게임 점수 시스템 구현하기\n",
    "\n",
    "### 추가 연습 문제\n",
    "\n",
    "1. **영남이공대학교 장학금 계산기**: 성적, 소득분위, 활동점수 등을 매개변수로 받아 장학금을 계산하는 함수 시스템\n",
    "2. **소프트웨어 프로젝트 관리 도구**: 프로젝트 이름, 팀원, 기술스택 등을 관리하는 함수들\n",
    "3. **기숙사 배정 시스템**: 학생 정보를 받아 기숙사를 배정하는 다단계 함수 시스템\n",
    "\n",
    "고급 함수 학습을 통해 더욱 체계적이고 재사용 가능한 코드를 작성할 수 있게 되었습니다. 이제 복잡한 프로그램도 작은 함수들로 나누어 효율적으로 개발할 수 있습니다!"
   ]
  }
 ],
 "metadata": {
  "jupytext": {
   "cell_metadata_filter": "-all",
   "main_language": "python",
   "notebook_metadata_filter": "-all"
  }
 },
 "nbformat": 4,
 "nbformat_minor": 5
}
