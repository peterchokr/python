{
 "cells": [
  {
   "cell_type": "markdown",
   "id": "f4e8eb9d",
   "metadata": {},
   "source": [
    "# 클래스와 객체 기초 (Classes and Objects Basics)\n",
    "\n",
    "**수업 시간**: 3시간  \n",
    "**구성**: 강의 및 실습 2시간 + 퀴즈 1시간  \n",
    "**수준**: 중급  \n",
    "**선수 학습**: 함수, 변수, 데이터 타입, 조건문, 반복문, 리스트, 딕셔너리\n",
    "\n",
    "---\n",
    "\n",
    "## 🎯 학습 목표\n",
    "\n",
    "이 수업을 마친 후 학생들은 다음을 할 수 있습니다:\n",
    "\n",
    "- 클래스(Class)와 객체(Object)가 무엇인지 이해하기\n",
    "- 속성(Attributes)과 메소드(Methods)가 있는 간단한 클래스 생성하기\n",
    "- `__init__` 메소드를 사용하여 객체 초기화하기\n",
    "- 클래스로부터 객체를 생성하고 사용하기\n",
    "\n",
    "---\n",
    "\n",
    "## 📦 1. 클래스와 객체의 개념\n",
    "\n",
    "### 클래스와 객체란?\n",
    "\n",
    "**클래스(Class)**는 **설계도** 또는 **템플릿**과 같습니다. **객체(Object)**는 그 설계도로부터 만들어진 실제 물건입니다.\n",
    "\n",
    "### 간단한 비유\n",
    "\n",
    "**붕어빵 틀**(클래스)과 **붕어빵**(객체)를 생각해보세요:\n",
    "\n",
    "```\n",
    "붕어빵 틀 (Class) → 같은 모양의 붕어빵을 만드는 틀\n",
    "붕어빵들 (Objects) → 각각의 붕어빵은 독특하지만 같은 모양\n",
    "```\n",
    "\n",
    "### 실생활 예시: 영남이공대학교 학생증\n",
    "\n",
    "```\n",
    "학생증 양식 (Class):\n",
    "- 이름, 학번, 전공, 사진 등의 정보를 담는 구조\n",
    "\n",
    "개별 학생증들 (Objects):\n",
    "- 김철수의 학생증: 이름=김철수, 학번=20240001, 전공=소프트웨어융합과\n",
    "- 이영희의 학생증: 이름=이영희, 학번=20240002, 전공=소프트웨어융합과\n",
    "```\n",
    "\n",
    "### 왜 클래스를 사용하나요?\n",
    "\n",
    "- **조직화**: 관련 데이터를 함께 유지\n",
    "- **재사용성**: 비슷한 객체를 여러 개 생성\n",
    "- **실세계 모델링**: 실제 사물을 코드로 표현\n",
    "\n",
    "---\n",
    "\n",
    "## 🏗️ 2. 클래스 정의 및 객체 생성\n",
    "\n",
    "### 기본 클래스 문법"
   ]
  },
  {
   "cell_type": "code",
   "execution_count": null,
   "id": "06b9afaf",
   "metadata": {},
   "outputs": [],
   "source": [
    "class ClassName:\n",
    "    pass"
   ]
  },
  {
   "cell_type": "markdown",
   "id": "211883b2",
   "metadata": {},
   "source": [
    "### 간단한 예시"
   ]
  },
  {
   "cell_type": "code",
   "execution_count": null,
   "id": "5f5ab3ea",
   "metadata": {},
   "outputs": [],
   "source": [
    "class Student:\n",
    "    pass\n",
    "\n",
    "# 객체 생성\n",
    "student1 = Student()\n",
    "student2 = Student()\n",
    "\n",
    "print(\"두 명의 학생 객체가 생성되었습니다!\")"
   ]
  },
  {
   "cell_type": "markdown",
   "id": "17e4cd09",
   "metadata": {},
   "source": [
    "### 속성 추가하기"
   ]
  },
  {
   "cell_type": "code",
   "execution_count": null,
   "id": "30c57d0d",
   "metadata": {},
   "outputs": [],
   "source": [
    "class Car:\n",
    "    pass\n",
    "\n",
    "# 자동차 객체 생성 및 속성 추가\n",
    "my_car = Car()\n",
    "my_car.brand = \"현대\"\n",
    "my_car.color = \"흰색\"\n",
    "\n",
    "print(f\"내 차는 {my_car.color} {my_car.brand}입니다\")"
   ]
  },
  {
   "cell_type": "markdown",
   "id": "3f9fdd94",
   "metadata": {},
   "source": [
    "### 영남이공대학교 학생 예시"
   ]
  },
  {
   "cell_type": "code",
   "execution_count": null,
   "id": "da1ab9dd",
   "metadata": {},
   "outputs": [],
   "source": [
    "class Student:\n",
    "    pass\n",
    "\n",
    "# 학생 객체 생성\n",
    "student1 = Student()\n",
    "student1.name = \"김철수\"\n",
    "student1.student_id = \"20240001\"\n",
    "student1.major = \"소프트웨어융합과\"\n",
    "\n",
    "print(f\"학생: {student1.name}, 학번: {student1.student_id}, 전공: {student1.major}\")"
   ]
  },
  {
   "cell_type": "markdown",
   "id": "8a4a01c2",
   "metadata": {},
   "source": [
    "---\n",
    "\n",
    "## 🔧 3. 속성과 메소드 (Attributes and Methods)\n",
    "\n",
    "### 속성과 메소드란?\n",
    "\n",
    "- **속성(Attributes)**: 데이터를 저장하는 변수\n",
    "- **메소드(Methods)**: 행동을 수행하는 함수\n",
    "\n",
    "### 메소드 추가하기"
   ]
  },
  {
   "cell_type": "code",
   "execution_count": null,
   "id": "492859d4",
   "metadata": {},
   "outputs": [],
   "source": [
    "class Dog:\n",
    "    def bark(self):\n",
    "        return \"멍멍!\"\n",
    "    \n",
    "    def sit(self):\n",
    "        return \"개가 앉았습니다\"\n",
    "\n",
    "# 개 객체 생성 및 사용\n",
    "my_dog = Dog()\n",
    "print(my_dog.bark())\n",
    "print(my_dog.sit())"
   ]
  },
  {
   "cell_type": "markdown",
   "id": "2d27e9dc",
   "metadata": {},
   "source": [
    "### 'self' 이해하기\n",
    "\n",
    "**'self'** 매개변수는 현재 객체를 가리킵니다."
   ]
  },
  {
   "cell_type": "code",
   "execution_count": null,
   "id": "942214df",
   "metadata": {},
   "outputs": [],
   "source": [
    "class Calculator:\n",
    "    def add(self, a, b):\n",
    "        return a + b\n",
    "    \n",
    "    def subtract(self, a, b):\n",
    "        return a - b\n",
    "\n",
    "# 계산기 사용\n",
    "calc = Calculator()\n",
    "result1 = calc.add(5, 3)\n",
    "result2 = calc.subtract(10, 4)\n",
    "print(f\"5 + 3 = {result1}\")\n",
    "print(f\"10 - 4 = {result2}\")"
   ]
  },
  {
   "cell_type": "markdown",
   "id": "4bbc144c",
   "metadata": {},
   "source": [
    "### 영남이공대학교 소프트웨어융합과 학생 클래스"
   ]
  },
  {
   "cell_type": "code",
   "execution_count": null,
   "id": "da608ac6",
   "metadata": {},
   "outputs": [],
   "source": [
    "class SoftwareStudent:\n",
    "    def introduce(self):\n",
    "        return \"안녕하세요! 소프트웨어융합과 학생입니다.\"\n",
    "    \n",
    "    def study_programming(self):\n",
    "        return \"파이썬을 열심히 공부하고 있습니다!\"\n",
    "\n",
    "# 학생 객체 생성 및 사용\n",
    "student = SoftwareStudent()\n",
    "print(student.introduce())\n",
    "print(student.study_programming())"
   ]
  },
  {
   "cell_type": "markdown",
   "id": "79d1566f",
   "metadata": {},
   "source": [
    "---\n",
    "\n",
    "## 🎬 4. `__init__` 메소드\n",
    "\n",
    "### `__init__`이란?\n",
    "\n",
    "**`__init__`** 메소드는 새 객체를 생성할 때 자동으로 실행됩니다. 객체의 초기값을 설정합니다.\n",
    "\n",
    "### 기본 `__init__` 예시"
   ]
  },
  {
   "cell_type": "code",
   "execution_count": null,
   "id": "627292d3",
   "metadata": {},
   "outputs": [],
   "source": [
    "class Student:\n",
    "    def __init__(self, name, age):\n",
    "        self.name = name\n",
    "        self.age = age\n",
    "    \n",
    "    def introduce(self):\n",
    "        return f\"안녕하세요, 저는 {self.name}이고 {self.age}세입니다\"\n",
    "\n",
    "# 학생 객체 생성\n",
    "student1 = Student(\"김철수\", 18)\n",
    "student2 = Student(\"이영희\", 19)\n",
    "\n",
    "print(student1.introduce())\n",
    "print(student2.introduce())"
   ]
  },
  {
   "cell_type": "markdown",
   "id": "4797be84",
   "metadata": {},
   "source": [
    "### 영남이공대학교 학생 클래스 완성형"
   ]
  },
  {
   "cell_type": "code",
   "execution_count": null,
   "id": "e2842a49",
   "metadata": {},
   "outputs": [],
   "source": [
    "class YeungnamStudent:\n",
    "    def __init__(self, name, student_id, major):\n",
    "        self.name = name\n",
    "        self.student_id = student_id\n",
    "        self.major = major\n",
    "        self.university = \"영남이공대학교\"\n",
    "    \n",
    "    def show_info(self):\n",
    "        return f\"이름: {self.name}, 학번: {self.student_id}, 전공: {self.major}\"\n",
    "    \n",
    "    def change_major(self, new_major):\n",
    "        old_major = self.major\n",
    "        self.major = new_major\n",
    "        return f\"{old_major}에서 {new_major}로 전과했습니다\"\n",
    "\n",
    "# 학생 객체 생성 및 사용\n",
    "student1 = YeungnamStudent(\"김철수\", \"20240001\", \"소프트웨어융합과\")\n",
    "student2 = YeungnamStudent(\"이영희\", \"20240002\", \"컴퓨터정보과\")\n",
    "\n",
    "print(student1.show_info())\n",
    "print(student1.change_major(\"인공지능과\"))\n",
    "print(student2.show_info())"
   ]
  },
  {
   "cell_type": "markdown",
   "id": "98977a36",
   "metadata": {},
   "source": [
    "### 은행 계좌 예시"
   ]
  },
  {
   "cell_type": "code",
   "execution_count": null,
   "id": "ff90d3c3",
   "metadata": {},
   "outputs": [],
   "source": [
    "class BankAccount:\n",
    "    def __init__(self, account_number, initial_balance):\n",
    "        self.account_number = account_number\n",
    "        self.balance = initial_balance\n",
    "    \n",
    "    def deposit(self, amount):\n",
    "        self.balance += amount\n",
    "        return f\"입금 완료. 현재 잔액: {self.balance:,}원\"\n",
    "    \n",
    "    def withdraw(self, amount):\n",
    "        if amount <= self.balance:\n",
    "            self.balance -= amount\n",
    "            return f\"출금 완료. 현재 잔액: {self.balance:,}원\"\n",
    "        else:\n",
    "            return \"잔액이 부족합니다\"\n",
    "    \n",
    "    def get_balance(self):\n",
    "        return f\"현재 잔액: {self.balance:,}원\"\n",
    "\n",
    "# 계좌 생성 및 사용\n",
    "account = BankAccount(\"123-456-789\", 100000)\n",
    "print(account.get_balance())\n",
    "print(account.deposit(50000))\n",
    "print(account.withdraw(30000))"
   ]
  },
  {
   "cell_type": "markdown",
   "id": "ce753d74",
   "metadata": {
    "lines_to_next_cell": 0
   },
   "source": [
    "---\n",
    "\n",
    "## 🔧 실습 문제\n",
    "\n",
    "### 실습 1: 간단한 사람 클래스\n",
    "\n",
    "**문제**: 기본 정보가 있는 Person 클래스를 만드세요.\n",
    "\n",
    "**정답**:"
   ]
  },
  {
   "cell_type": "code",
   "execution_count": null,
   "id": "2733199c",
   "metadata": {},
   "outputs": [],
   "source": [
    "class Person:\n",
    "    def __init__(self, name, age):\n",
    "        self.name = name\n",
    "        self.age = age\n",
    "    \n",
    "    def greet(self):\n",
    "        return f\"안녕하세요, 저는 {self.name}입니다\"\n",
    "    \n",
    "    def have_birthday(self):\n",
    "        self.age += 1\n",
    "        return f\"생일 축하해요! 이제 {self.age}세입니다\"\n",
    "\n",
    "# 클래스 테스트\n",
    "person1 = Person(\"김민수\", 25)\n",
    "print(person1.greet())\n",
    "print(person1.have_birthday())\n",
    "\n",
    "person2 = Person(\"박지영\", 30)\n",
    "print(person2.greet())"
   ]
  },
  {
   "cell_type": "markdown",
   "id": "2084d400",
   "metadata": {
    "lines_to_next_cell": 0
   },
   "source": [
    "### 실습 2: 도서 클래스\n",
    "\n",
    "**문제**: 도서 정보를 저장하는 Book 클래스를 만드세요.\n",
    "\n",
    "**정답**:"
   ]
  },
  {
   "cell_type": "code",
   "execution_count": null,
   "id": "3e6f8fc0",
   "metadata": {},
   "outputs": [],
   "source": [
    "class Book:\n",
    "    def __init__(self, title, author):\n",
    "        self.title = title\n",
    "        self.author = author\n",
    "        self.is_borrowed = False\n",
    "    \n",
    "    def borrow(self):\n",
    "        if not self.is_borrowed:\n",
    "            self.is_borrowed = True\n",
    "            return f\"'{self.title}' 도서를 대출했습니다\"\n",
    "        return f\"'{self.title}' 도서는 이미 대출중입니다\"\n",
    "    \n",
    "    def return_book(self):\n",
    "        if self.is_borrowed:\n",
    "            self.is_borrowed = False\n",
    "            return f\"'{self.title}' 도서를 반납했습니다\"\n",
    "        return f\"'{self.title}' 도서는 대출되지 않았습니다\"\n",
    "    \n",
    "    def get_info(self):\n",
    "        status = \"대출중\" if self.is_borrowed else \"대출가능\"\n",
    "        return f\"제목: {self.title}, 저자: {self.author}, 상태: {status}\"\n",
    "\n",
    "# 클래스 테스트\n",
    "book1 = Book(\"파이썬 프로그래밍\", \"김개발\")\n",
    "print(book1.get_info())\n",
    "print(book1.borrow())\n",
    "print(book1.borrow())  # 이미 대출중\n",
    "print(book1.return_book())"
   ]
  },
  {
   "cell_type": "markdown",
   "id": "4c21de18",
   "metadata": {
    "lines_to_next_cell": 0
   },
   "source": [
    "### 실습 3: 간단한 게임 캐릭터\n",
    "\n",
    "**문제**: 기본 게임 메커니즘이 있는 GameCharacter 클래스를 만드세요.\n",
    "\n",
    "**정답**:"
   ]
  },
  {
   "cell_type": "code",
   "execution_count": null,
   "id": "dc9b09e6",
   "metadata": {},
   "outputs": [],
   "source": [
    "class GameCharacter:\n",
    "    def __init__(self, name):\n",
    "        self.name = name\n",
    "        self.health = 100\n",
    "        self.level = 1\n",
    "    \n",
    "    def take_damage(self, damage):\n",
    "        self.health -= damage\n",
    "        if self.health < 0:\n",
    "            self.health = 0\n",
    "        return f\"{self.name}이(가) {damage}의 피해를 받았습니다. 체력: {self.health}\"\n",
    "    \n",
    "    def heal(self, amount):\n",
    "        self.health += amount\n",
    "        if self.health > 100:\n",
    "            self.health = 100\n",
    "        return f\"{self.name}이(가) {amount}만큼 회복했습니다. 체력: {self.health}\"\n",
    "    \n",
    "    def level_up(self):\n",
    "        self.level += 1\n",
    "        self.health = 100  # 레벨업 시 체력 완전 회복\n",
    "        return f\"{self.name}이(가) 레벨 {self.level}에 도달했습니다!\"\n",
    "    \n",
    "    def show_status(self):\n",
    "        return f\"캐릭터: {self.name}, 레벨: {self.level}, 체력: {self.health}\"\n",
    "\n",
    "# 클래스 테스트\n",
    "hero = GameCharacter(\"용사\")\n",
    "print(hero.show_status())\n",
    "print(hero.take_damage(30))\n",
    "print(hero.heal(20))\n",
    "print(hero.level_up())\n",
    "print(hero.show_status())"
   ]
  },
  {
   "cell_type": "markdown",
   "id": "da517049",
   "metadata": {
    "lines_to_next_cell": 0
   },
   "source": [
    "---\n",
    "\n",
    "## 📝 퀴즈\n",
    "\n",
    "### 퀴즈 1: 학생 클래스 정의\n",
    "\n",
    "**문제**: 이름과 나이 속성을 가진 Student 클래스를 정의하고 객체를 생성하여 정보를 출력하세요. 클래스는 `__init__` 메소드와 정보를 표시하는 간단한 메소드를 가져야 합니다.\n",
    "\n",
    "**답안 작성 공간**:"
   ]
  },
  {
   "cell_type": "code",
   "execution_count": null,
   "id": "83694dce",
   "metadata": {},
   "outputs": [],
   "source": [
    "# 여기에 코드를 작성하세요"
   ]
  },
  {
   "cell_type": "markdown",
   "id": "f93e42a5",
   "metadata": {
    "lines_to_next_cell": 0
   },
   "source": [
    "### 퀴즈 2: 메소드가 있는 강아지 클래스\n",
    "\n",
    "**문제**: 이름, 품종 속성과 \"멍멍!\"을 출력하는 `bark()` 메소드가 있는 Dog 클래스를 만드세요. 개 객체를 생성하고 bark 메소드를 테스트하세요.\n",
    "\n",
    "**답안 작성 공간**:"
   ]
  },
  {
   "cell_type": "code",
   "execution_count": null,
   "id": "58180808",
   "metadata": {},
   "outputs": [],
   "source": [
    "# 여기에 코드를 작성하세요"
   ]
  },
  {
   "cell_type": "markdown",
   "id": "aa068539",
   "metadata": {
    "lines_to_next_cell": 0
   },
   "source": [
    "### 퀴즈 3: 은행계좌 클래스\n",
    "\n",
    "**문제**: 계좌번호, 잔액 속성과 입금/출금 메소드가 있는 BankAccount 클래스를 만드세요. 입금 메소드는 돈을 추가하고 출금 메소드는 잔액에서 돈을 빼야 합니다. 출금 시 잔액 부족을 확인해야 합니다.\n",
    "\n",
    "**답안 작성 공간**:"
   ]
  },
  {
   "cell_type": "code",
   "execution_count": null,
   "id": "4b9f2a19",
   "metadata": {},
   "outputs": [],
   "source": [
    "# 여기에 코드를 작성하세요"
   ]
  },
  {
   "cell_type": "markdown",
   "id": "ca27cfec",
   "metadata": {
    "lines_to_next_cell": 0
   },
   "source": [
    "---\n",
    "\n",
    "## 📖 참고 자료\n",
    "\n",
    "1. **파이썬 클래스 공식 문서**: https://docs.python.org/ko/3/tutorial/classes.html\n",
    "   - 클래스와 객체에 대한 공식 파이썬 문서\n",
    "\n",
    "2. **점프 투 파이썬 - 클래스**: https://wikidocs.net/28\n",
    "   - 한국어로 된 클래스 설명\n",
    "\n",
    "3. **코딩 도장 - 파이썬 클래스**: https://dojang.io/mod/page/view.php?id=2373\n",
    "   - 파이썬 클래스 상세 설명\n",
    "\n",
    "4. **Real Python - 객체지향 프로그래밍**: https://realpython.com/python3-object-oriented-programming/\n",
    "   - 객체지향 프로그래밍 기본 개념\n",
    "\n",
    "5. **W3Schools Python Classes**: https://www.w3schools.com/python/python_classes.asp\n",
    "   - 클래스 학습을 위한 대화형 예제\n",
    "\n",
    "---\n",
    "\n",
    "## 💡 핵심 포인트\n",
    "\n",
    "### 기억해야 할 것들\n",
    "\n",
    "1. **클래스 = 템플릿, 객체 = 실제 물건**\n",
    "2. **`__init__`을 사용하여 객체 설정**\n",
    "3. **self는 현재 객체를 가리킴**\n",
    "4. **메소드는 클래스 내부의 함수**\n",
    "\n",
    "### 모범 사례\n",
    "\n",
    "#### 1. 명확한 클래스 이름 사용"
   ]
  },
  {
   "cell_type": "code",
   "execution_count": null,
   "id": "a6066a07",
   "metadata": {},
   "outputs": [],
   "source": [
    "# 좋은 예시\n",
    "class BankAccount:\n",
    "class GameCharacter:\n",
    "class StudentRecord:\n",
    "\n",
    "# 피해야 할 예시\n",
    "class A:\n",
    "class Data:\n",
    "class Thing:"
   ]
  },
  {
   "cell_type": "markdown",
   "id": "b799faea",
   "metadata": {
    "lines_to_next_cell": 0
   },
   "source": [
    "#### 2. `__init__`에서 모든 속성 초기화"
   ]
  },
  {
   "cell_type": "code",
   "execution_count": null,
   "id": "f383db2e",
   "metadata": {},
   "outputs": [],
   "source": [
    "class Student:\n",
    "    def __init__(self, name, student_id):\n",
    "        self.name = name\n",
    "        self.student_id = student_id\n",
    "        self.courses = []  # 빈 리스트로 초기화\n",
    "        self.gpa = 0.0     # 기본값 설정"
   ]
  },
  {
   "cell_type": "markdown",
   "id": "33888924",
   "metadata": {
    "lines_to_next_cell": 0
   },
   "source": [
    "#### 3. 메소드는 한 가지 일만 하도록"
   ]
  },
  {
   "cell_type": "code",
   "execution_count": null,
   "id": "e0fe2d81",
   "metadata": {},
   "outputs": [],
   "source": [
    "class Calculator:\n",
    "    def add(self, a, b):\n",
    "        return a + b\n",
    "    \n",
    "    def subtract(self, a, b):\n",
    "        return a - b\n",
    "    \n",
    "    # 각 메소드는 하나의 명확한 기능"
   ]
  },
  {
   "cell_type": "markdown",
   "id": "21c5e90a",
   "metadata": {},
   "source": [
    "### 실무 활용 팁\n",
    "\n",
    "- **클래스명은 대문자로 시작**: `Student`, `BankAccount`\n",
    "- **메소드명은 동사 사용**: `calculate()`, `update()`, `display()`\n",
    "- **속성명은 명사 사용**: `name`, `balance`, `status`\n",
    "- **문서화**: 복잡한 클래스에는 docstring 추가\n",
    "\n",
    "---\n",
    "\n",
    "## 📋 숙제\n",
    "\n",
    "### 기본 과제\n",
    "\n",
    "1. **실습 완료**: 3개 실습 모두 완료하기\n",
    "2. **개인 클래스**: 자신이 관심 있는 것을 나타내는 간단한 클래스 생성하기\n",
    "3. **메소드 연습**: 객체 생성과 메소드 호출 연습하기\n",
    "\n",
    "### 심화 과제\n",
    "\n",
    "1. **영남이공대학교 수강신청 시스템**: \n",
    "   - Course 클래스: 과목명, 교수명, 학점, 정원\n",
    "   - Student 클래스: 학생정보, 수강과목 목록\n",
    "   - 수강신청/취소 메소드 구현\n",
    "\n",
    "2. **간단한 도서관 관리 시스템**:\n",
    "   - Book 클래스와 Member 클래스\n",
    "   - 대출/반납 기능 구현\n",
    "\n",
    "3. **소프트웨어 프로젝트 관리 도구**:\n",
    "   - Project 클래스: 프로젝트명, 팀원, 진행상황\n",
    "   - Task 클래스: 업무명, 담당자, 완료여부\n",
    "\n",
    "### 추가 연습 문제\n",
    "\n",
    "1. **쇼핑몰 상품 클래스**: 상품명, 가격, 재고 관리\n",
    "2. **자동차 클래스**: 브랜드, 모델, 연비, 주행거리\n",
    "3. **음식점 메뉴 클래스**: 메뉴명, 가격, 카테고리, 인기도\n",
    "\n",
    "클래스와 객체를 이해하면 프로그래밍이 훨씬 체계적이고 현실적이 됩니다. 실세계의 다양한 사물과 개념을 코드로 표현할 수 있는 강력한 도구를 익혔습니다!"
   ]
  }
 ],
 "metadata": {
  "jupytext": {
   "cell_metadata_filter": "-all",
   "main_language": "python",
   "notebook_metadata_filter": "-all"
  }
 },
 "nbformat": 4,
 "nbformat_minor": 5
}
