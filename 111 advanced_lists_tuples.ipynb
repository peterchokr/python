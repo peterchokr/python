{
 "cells": [
  {
   "cell_type": "markdown",
   "id": "05acbf50",
   "metadata": {},
   "source": [
    "# 리스트 고급 및 튜플 (Advanced Lists and Tuples)\n",
    "\n",
    "**수업 시간**: 3시간  \n",
    "**구성**: 강의 및 실습 2시간 + 퀴즈 1시간  \n",
    "**수준**: 중급 초급  \n",
    "**선수 학습**: 변수, 데이터 타입, 연산자, 입출력, 조건문, 반복문, 리스트 기초\n",
    "\n",
    "---\n",
    "\n",
    "## 🎯 학습 목표\n",
    "\n",
    "이 수업을 마친 후 학생들은 다음을 할 수 있습니다:\n",
    "\n",
    "- 고급 데이터 처리를 위한 리스트와 반복문 조합하기\n",
    "- 기본 리스트 컴프리헨션(list comprehension) 생성 및 사용하기\n",
    "- 튜플(tuple)의 특성과 사용 시기 이해하기\n",
    "- 리스트와 튜플을 적절히 비교하고 선택하기\n",
    "- 고급 리스트 및 튜플 기능을 사용한 실용적 프로그램 구축하기\n",
    "\n",
    "---\n",
    "\n",
    "## 📚 1. 복습: 리스트 기초\n",
    "\n",
    "### 빠른 복습\n",
    "고급 주제로 들어가기 전에 리스트에 대해 배운 내용을 빠르게 복습해보겠습니다:"
   ]
  },
  {
   "cell_type": "code",
   "execution_count": null,
   "id": "b310d169",
   "metadata": {},
   "outputs": [],
   "source": [
    "# 이미 알고 있는 기본 리스트 연산들\n",
    "numbers = [1, 2, 3, 4, 5]\n",
    "numbers.append(6)        # 요소 추가\n",
    "numbers.remove(2)        # 요소 제거\n",
    "print(numbers[0])        # 인덱스로 접근\n",
    "print(len(numbers))      # 길이 구하기"
   ]
  },
  {
   "cell_type": "markdown",
   "id": "2a2cbdf1",
   "metadata": {
    "lines_to_next_cell": 0
   },
   "source": [
    "---\n",
    "\n",
    "## 🔄 2. 리스트와 반복문 조합\n",
    "\n",
    "### 왜 리스트와 반복문을 조합하나요?\n",
    "\n",
    "리스트와 반복문은 다음 이유로 완벽하게 함께 작동합니다:\n",
    "\n",
    "- **여러 항목을 효율적으로 처리**\n",
    "- **각 요소에 동일한 연산 수행**\n",
    "- **데이터 필터링 및 변환**\n",
    "\n",
    "### 기본 패턴들\n",
    "\n",
    "#### 패턴 1: 각 요소 처리"
   ]
  },
  {
   "cell_type": "code",
   "execution_count": null,
   "id": "5304011b",
   "metadata": {},
   "outputs": [],
   "source": [
    "# 예시: 섭씨를 화씨로 변환\n",
    "celsius_temps = [0, 20, 30, 37, 100]\n",
    "fahrenheit_temps = []\n",
    "\n",
    "for temp in celsius_temps:\n",
    "    fahrenheit = (temp * 9/5) + 32\n",
    "    fahrenheit_temps.append(fahrenheit)\n",
    "    \n",
    "print(fahrenheit_temps)  # [32.0, 68.0, 86.0, 98.6, 212.0]"
   ]
  },
  {
   "cell_type": "markdown",
   "id": "f378d417",
   "metadata": {
    "lines_to_next_cell": 0
   },
   "source": [
    "#### 패턴 2: 데이터 필터링"
   ]
  },
  {
   "cell_type": "code",
   "execution_count": null,
   "id": "4a0c43f5",
   "metadata": {},
   "outputs": [],
   "source": [
    "# 예시: 모든 짝수 찾기\n",
    "numbers = [1, 2, 3, 4, 5, 6, 7, 8, 9, 10]\n",
    "even_numbers = []\n",
    "\n",
    "for num in numbers:\n",
    "    if num % 2 == 0:\n",
    "        even_numbers.append(num)\n",
    "        \n",
    "print(even_numbers)  # [2, 4, 6, 8, 10]"
   ]
  },
  {
   "cell_type": "markdown",
   "id": "3596243e",
   "metadata": {
    "lines_to_next_cell": 0
   },
   "source": [
    "#### 패턴 3: 최대값/최소값 찾기"
   ]
  },
  {
   "cell_type": "code",
   "execution_count": null,
   "id": "d8456abb",
   "metadata": {},
   "outputs": [],
   "source": [
    "# 예시: 최고 점수 찾기\n",
    "scores = [85, 92, 78, 96, 88, 91]\n",
    "highest_score = scores[0]  # 첫 번째 요소로 시작\n",
    "\n",
    "for score in scores:\n",
    "    if score > highest_score:\n",
    "        highest_score = score\n",
    "        \n",
    "print(f\"최고 점수: {highest_score}\")  # 최고 점수: 96"
   ]
  },
  {
   "cell_type": "markdown",
   "id": "6c79ef07",
   "metadata": {},
   "source": [
    "### 고급 반복문 기법\n",
    "\n",
    "#### enumerate() 사용\n",
    "인덱스와 값이 모두 필요할 때:"
   ]
  },
  {
   "cell_type": "code",
   "execution_count": null,
   "id": "184a7e01",
   "metadata": {},
   "outputs": [],
   "source": [
    "# 예시: 학생 순위 보여주기\n",
    "students = [\"김철수\", \"이영희\", \"박민수\", \"최지영\"]\n",
    "\n",
    "for index, name in enumerate(students):\n",
    "    ranking = index + 1\n",
    "    print(f\"{ranking}등: {name}\")\n",
    "\n",
    "# 출력:\n",
    "# 1등: 김철수\n",
    "# 2등: 이영희\n",
    "# 3등: 박민수\n",
    "# 4등: 최지영"
   ]
  },
  {
   "cell_type": "markdown",
   "id": "cd580418",
   "metadata": {},
   "source": [
    "#### zip() 사용\n",
    "여러 리스트를 함께 처리해야 할 때:"
   ]
  },
  {
   "cell_type": "code",
   "execution_count": null,
   "id": "147191ae",
   "metadata": {},
   "outputs": [],
   "source": [
    "# 예시: 학생 이름과 점수 결합\n",
    "names = [\"김철수\", \"이영희\", \"박민수\"]\n",
    "scores = [95, 87, 92]\n",
    "\n",
    "for name, score in zip(names, scores):\n",
    "    print(f\"{name}: {score}점\")\n",
    "\n",
    "# 출력:\n",
    "# 김철수: 95점\n",
    "# 이영희: 87점\n",
    "# 박민수: 92점"
   ]
  },
  {
   "cell_type": "markdown",
   "id": "7c138309",
   "metadata": {
    "lines_to_next_cell": 0
   },
   "source": [
    "---\n",
    "\n",
    "## ✨ 3. 리스트 컴프리헨션 (List Comprehensions)\n",
    "\n",
    "### 리스트 컴프리헨션이란?\n",
    "\n",
    "**리스트 컴프리헨션(List comprehension)**은 한 줄의 코드로 리스트를 만드는 간결한 방법입니다.\n",
    "\n",
    "이것을 **\"압축된 for 반복문\"**이라고 생각해보세요.\n",
    "\n",
    "### 기본 문법"
   ]
  },
  {
   "cell_type": "code",
   "execution_count": null,
   "id": "418d2a8b",
   "metadata": {},
   "outputs": [],
   "source": [
    "# 일반 형식:\n",
    "# new_list = [표현식 for 항목 in 원본_리스트]\n",
    "\n",
    "# 전통적인 방법:\n",
    "squares = []\n",
    "for x in range(5):\n",
    "    squares.append(x ** 2)\n",
    "\n",
    "# 리스트 컴프리헨션 방법:\n",
    "squares = [x ** 2 for x in range(5)]\n",
    "print(squares)  # [0, 1, 4, 9, 16]"
   ]
  },
  {
   "cell_type": "markdown",
   "id": "d4879a9a",
   "metadata": {
    "lines_to_next_cell": 0
   },
   "source": [
    "### 간단한 것부터 복잡한 것까지 예시\n",
    "\n",
    "#### 예시 1: 기본 변환"
   ]
  },
  {
   "cell_type": "code",
   "execution_count": null,
   "id": "0a2db031",
   "metadata": {},
   "outputs": [],
   "source": [
    "# 각 숫자에 2를 곱하기\n",
    "numbers = [1, 2, 3, 4, 5]\n",
    "doubled = [num * 2 for num in numbers]\n",
    "print(doubled)  # [2, 4, 6, 8, 10]"
   ]
  },
  {
   "cell_type": "markdown",
   "id": "8aa0ed96",
   "metadata": {
    "lines_to_next_cell": 0
   },
   "source": [
    "#### 예시 2: 문자열 처리"
   ]
  },
  {
   "cell_type": "code",
   "execution_count": null,
   "id": "88041022",
   "metadata": {},
   "outputs": [],
   "source": [
    "# 모든 이름을 대문자로 변환\n",
    "names = [\"김철수\", \"이영희\", \"박민수\"]\n",
    "upper_names = [name.upper() for name in names]\n",
    "print(upper_names)  # ['김철수', '이영희', '박민수'] (한글은 대문자 변환 없음)\n",
    "\n",
    "# 영어 이름 예시\n",
    "english_names = [\"alice\", \"bob\", \"charlie\"]\n",
    "upper_english = [name.upper() for name in english_names]\n",
    "print(upper_english)  # ['ALICE', 'BOB', 'CHARLIE']"
   ]
  },
  {
   "cell_type": "markdown",
   "id": "bd8b01d8",
   "metadata": {
    "lines_to_next_cell": 0
   },
   "source": [
    "#### 예시 3: 조건 포함"
   ]
  },
  {
   "cell_type": "code",
   "execution_count": null,
   "id": "c73ce923",
   "metadata": {},
   "outputs": [],
   "source": [
    "# 짝수만 가져오기\n",
    "numbers = [1, 2, 3, 4, 5, 6, 7, 8, 9, 10]\n",
    "evens = [num for num in numbers if num % 2 == 0]\n",
    "print(evens)  # [2, 4, 6, 8, 10]"
   ]
  },
  {
   "cell_type": "markdown",
   "id": "e0109fc8",
   "metadata": {
    "lines_to_next_cell": 0
   },
   "source": [
    "#### 예시 4: 복잡한 표현"
   ]
  },
  {
   "cell_type": "code",
   "execution_count": null,
   "id": "2799b1f6",
   "metadata": {},
   "outputs": [],
   "source": [
    "# 설명적인 문자열 생성\n",
    "scores = [85, 92, 78, 96, 88]\n",
    "descriptions = [f\"점수: {score} - {'우수' if score >= 90 else '양호'}\" \n",
    "                for score in scores]\n",
    "print(descriptions)\n",
    "# ['점수: 85 - 양호', '점수: 92 - 우수', '점수: 78 - 양호', '점수: 96 - 우수', '점수: 88 - 양호']"
   ]
  },
  {
   "cell_type": "markdown",
   "id": "90bea6ce",
   "metadata": {},
   "source": [
    "### 언제 리스트 컴프리헨션을 사용할까요?\n",
    "\n",
    "**다음의 경우 리스트 컴프리헨션 사용:**\n",
    "- 로직이 간단하고 한 줄에 맞음\n",
    "- 기존 리스트에서 새 리스트를 만들 때\n",
    "- 연산이 직관적일 때\n",
    "\n",
    "**다음의 경우 일반 반복문 사용:**\n",
    "- 로직이 복잡할 때\n",
    "- 여러 줄의 코드가 필요할 때\n",
    "- 가독성이 떨어질 때\n",
    "\n",
    "---\n",
    "\n",
    "## 📦 4. 튜플 소개 (Introduction to Tuples)\n",
    "\n",
    "### 튜플이란?\n",
    "\n",
    "**튜플(Tuple)**은 **순서가 있고** **변경 불가능한**(불변, immutable) 항목들의 모음입니다.\n",
    "\n",
    "튜플을 **\"잠긴 상자\"**라고 생각해보세요 - 안에 무엇이 있는지 볼 수 있지만 변경할 수는 없습니다.\n",
    "\n",
    "### 튜플 생성하기"
   ]
  },
  {
   "cell_type": "code",
   "execution_count": null,
   "id": "a64af285",
   "metadata": {},
   "outputs": [],
   "source": [
    "# 방법 1: 괄호 사용\n",
    "coordinates = (10, 20)\n",
    "colors = (\"빨강\", \"초록\", \"파랑\")\n",
    "\n",
    "# 방법 2: 괄호 없이\n",
    "point = 5, 10\n",
    "person = \"김철수\", 25, \"엔지니어\"\n",
    "\n",
    "# 특별한 경우: 단일 항목 튜플\n",
    "single = (42,)  # 쉼표 주의!"
   ]
  },
  {
   "cell_type": "markdown",
   "id": "8020c1c1",
   "metadata": {
    "lines_to_next_cell": 0
   },
   "source": [
    "### 튜플의 특성\n",
    "\n",
    "#### 1. 불변성 (Immutable)"
   ]
  },
  {
   "cell_type": "code",
   "execution_count": null,
   "id": "956c9de4",
   "metadata": {},
   "outputs": [],
   "source": [
    "point = (10, 20)\n",
    "# point[0] = 15  # 이것은 에러 발생!\n",
    "print(\"튜플은 변경할 수 없습니다\")"
   ]
  },
  {
   "cell_type": "markdown",
   "id": "6b7614cd",
   "metadata": {
    "lines_to_next_cell": 0
   },
   "source": [
    "#### 2. 순서 보장 (Ordered)"
   ]
  },
  {
   "cell_type": "code",
   "execution_count": null,
   "id": "5c40456f",
   "metadata": {},
   "outputs": [],
   "source": [
    "coordinates = (10, 20)\n",
    "print(coordinates[0])  # 10 (첫 번째 요소)\n",
    "print(coordinates[1])  # 20 (두 번째 요소)"
   ]
  },
  {
   "cell_type": "markdown",
   "id": "a1ea498b",
   "metadata": {
    "lines_to_next_cell": 0
   },
   "source": [
    "#### 3. 중복 허용 (Allow Duplicates)"
   ]
  },
  {
   "cell_type": "code",
   "execution_count": null,
   "id": "af61462c",
   "metadata": {},
   "outputs": [],
   "source": [
    "numbers = (1, 2, 2, 3, 2)\n",
    "print(numbers.count(2))  # 3 (3번 나타남)"
   ]
  },
  {
   "cell_type": "markdown",
   "id": "c4e1341c",
   "metadata": {},
   "source": [
    "### 일반적인 튜플 연산"
   ]
  },
  {
   "cell_type": "code",
   "execution_count": null,
   "id": "d6707970",
   "metadata": {},
   "outputs": [],
   "source": [
    "# 튜플 생성\n",
    "rgb_color = (255, 128, 0)\n",
    "\n",
    "# 요소 접근\n",
    "red = rgb_color[0]\n",
    "green = rgb_color[1]\n",
    "blue = rgb_color[2]\n",
    "\n",
    "# 길이 구하기\n",
    "print(len(rgb_color))  # 3\n",
    "\n",
    "# 항목 존재 확인\n",
    "print(255 in rgb_color)  # True\n",
    "\n",
    "# 튜플 순회\n",
    "for value in rgb_color:\n",
    "    print(f\"색상 값: {value}\")"
   ]
  },
  {
   "cell_type": "markdown",
   "id": "4e6746d4",
   "metadata": {},
   "source": [
    "### 튜플 언패킹 (Tuple Unpacking)\n",
    "\n",
    "**튜플 언패킹**을 사용하면 튜플 값을 여러 변수에 한 번에 할당할 수 있습니다:"
   ]
  },
  {
   "cell_type": "code",
   "execution_count": null,
   "id": "3af47690",
   "metadata": {},
   "outputs": [],
   "source": [
    "# 예시 1: 좌표\n",
    "point = (10, 20)\n",
    "x, y = point  # 언패킹\n",
    "print(f\"X: {x}, Y: {y}\")  # X: 10, Y: 20\n",
    "\n",
    "# 예시 2: 개인 정보\n",
    "person = (\"김철수\", 25, \"엔지니어\")\n",
    "name, age, job = person\n",
    "print(f\"이름: {name}, 나이: {age}, 직업: {job}\")\n",
    "\n",
    "# 예시 3: 변수 교환\n",
    "a = 5\n",
    "b = 10\n",
    "a, b = b, a  # 값 교환!\n",
    "print(f\"a: {a}, b: {b}\")  # a: 10, b: 5"
   ]
  },
  {
   "cell_type": "markdown",
   "id": "aa3530cc",
   "metadata": {},
   "source": [
    "---\n",
    "\n",
    "## ⚖️ 5. 리스트 vs 튜플 비교\n",
    "\n",
    "### 나란히 비교\n",
    "\n",
    "| 특징 | 리스트 (List) | 튜플 (Tuple) |\n",
    "|------|---------------|--------------|\n",
    "| **가변성** | 변경 가능 (Mutable) | 변경 불가 (Immutable) |\n",
    "| **문법** | `[1, 2, 3]` | `(1, 2, 3)` |\n",
    "| **성능** | 느림 | 빠름 |\n",
    "| **사용 사례** | 변하는 데이터 | 고정 데이터 |\n",
    "| **메소드** | 많음 (append, remove 등) | 적음 (count, index) |\n",
    "\n",
    "### 리스트를 언제 사용할까요?\n",
    "\n",
    "**다음의 경우 리스트 사용:**\n",
    "- 항목을 **추가하거나 제거**해야 할 때\n",
    "- 시간이 지나면서 데이터가 **변할 때**\n",
    "- **많은 내장 메소드**가 필요할 때"
   ]
  },
  {
   "cell_type": "code",
   "execution_count": null,
   "id": "30804268",
   "metadata": {},
   "outputs": [],
   "source": [
    "# 리스트의 좋은 사용 사례:\n",
    "shopping_cart = [\"사과\", \"바나나\"]  # 항목을 추가/제거할 수 있음\n",
    "shopping_cart.append(\"오렌지\")\n",
    "\n",
    "student_grades = [85, 90, 78]       # 성적이 변할 수 있음\n",
    "student_grades.append(92)"
   ]
  },
  {
   "cell_type": "markdown",
   "id": "78f4eff9",
   "metadata": {},
   "source": [
    "### 튜플을 언제 사용할까요?\n",
    "\n",
    "**다음의 경우 튜플 사용:**\n",
    "- 데이터가 **변경되어서는 안 될 때**\n",
    "- **더 나은 성능**이 필요할 때\n",
    "- **관련 데이터를 그룹화**하고 싶을 때"
   ]
  },
  {
   "cell_type": "code",
   "execution_count": null,
   "id": "85973563",
   "metadata": {},
   "outputs": [],
   "source": [
    "# 튜플의 좋은 사용 사례:\n",
    "rgb_color = (255, 128, 0)          # 색상 값은 변경되지 않음\n",
    "coordinates = (10.5, 20.3)         # 좌표는 고정\n",
    "person_info = (\"김철수\", 25, \"엔지니어\")  # 기본 정보는 그대로"
   ]
  },
  {
   "cell_type": "markdown",
   "id": "162cd3e4",
   "metadata": {
    "lines_to_next_cell": 0
   },
   "source": [
    "### 실생활 비유\n",
    "\n",
    "**리스트**를 **쇼핑 카트**처럼 생각해보세요 - 항목을 추가하고, 제거하고, 수량을 변경할 수 있습니다.\n",
    "\n",
    "**튜플**을 **출생증명서**처럼 생각해보세요 - 정보가 고정되어 있고 절대 변경되어서는 안 됩니다.\n",
    "\n",
    "---\n",
    "\n",
    "## 🔧 실습 문제\n",
    "\n",
    "### 실습 1: 학생 데이터 관리 프로그램\n",
    "\n",
    "**문제**: 정렬 및 검색 기능으로 학생 데이터를 관리하는 프로그램을 만드세요.\n",
    "\n",
    "**요구사항**:\n",
    "- 학생 정보 저장 (이름, 나이, 성적)\n",
    "- 성적별 학생 정렬\n",
    "- 이름으로 학생 검색\n",
    "\n",
    "**정답**:"
   ]
  },
  {
   "cell_type": "code",
   "execution_count": null,
   "id": "8322be45",
   "metadata": {},
   "outputs": [],
   "source": [
    "# 학생 데이터: 각 학생은 튜플 (이름, 나이, 성적)\n",
    "students = [\n",
    "    (\"김철수\", 20, 85),\n",
    "    (\"이영희\", 19, 92),\n",
    "    (\"박민수\", 21, 78),\n",
    "    (\"최지영\", 20, 96),\n",
    "    (\"정현우\", 19, 89)\n",
    "]\n",
    "\n",
    "print(\"원본 학생 목록:\")\n",
    "for name, age, grade in students:\n",
    "    print(f\"{name} - 나이: {age}, 성적: {grade}\")\n",
    "\n",
    "# 성적별 학생 정렬 (높은 점수부터)\n",
    "sorted_students = sorted(students, key=lambda student: student[2], reverse=True)\n",
    "\n",
    "print(\"\\n성적별 정렬 (높은 점수부터):\")\n",
    "for name, age, grade in sorted_students:\n",
    "    print(f\"{name} - 나이: {age}, 성적: {grade}\")\n",
    "\n",
    "# 특정 학생 검색\n",
    "search_name = \"김철수\"\n",
    "found_student = None\n",
    "\n",
    "for student in students:\n",
    "    if student[0] == search_name:\n",
    "        found_student = student\n",
    "        break\n",
    "\n",
    "if found_student:\n",
    "    name, age, grade = found_student\n",
    "    print(f\"\\n찾은 학생: {name}, 나이: {age}, 성적: {grade}\")\n",
    "else:\n",
    "    print(f\"\\n학생 '{search_name}'을(를) 찾을 수 없습니다\")\n",
    "\n",
    "# 우수 학생 (성적 >= 90) 리스트 컴프리헨션으로 생성\n",
    "top_students = [student for student in students if student[2] >= 90]\n",
    "print(f\"\\n우수 학생 (성적 >= 90):\")\n",
    "for name, age, grade in top_students:\n",
    "    print(f\"{name} - 성적: {grade}\")"
   ]
  },
  {
   "cell_type": "markdown",
   "id": "f5b42f6a",
   "metadata": {
    "lines_to_next_cell": 0
   },
   "source": [
    "### 실습 2: 간단한 투표 시스템\n",
    "\n",
    "**문제**: 다양한 후보자에 대한 투표를 추적하는 간단한 투표 시스템을 구축하세요.\n",
    "\n",
    "**요구사항**:\n",
    "- 후보자별 투표 추적\n",
    "- 백분율 계산\n",
    "- 당선자 찾기\n",
    "\n",
    "**정답**:"
   ]
  },
  {
   "cell_type": "code",
   "execution_count": null,
   "id": "3b20fdb6",
   "metadata": {},
   "outputs": [],
   "source": [
    "# 후보자 데이터: [이름, 정당, 득표수]\n",
    "candidates = [\n",
    "    [\"김민수\", \"민주당\", 245],\n",
    "    [\"이정호\", \"보수당\", 312],\n",
    "    [\"박영수\", \"무소속\", 158],\n",
    "    [\"최지혜\", \"환경당\", 89]\n",
    "]\n",
    "\n",
    "# 총 투표 수 계산\n",
    "total_votes = sum(candidate[2] for candidate in candidates)\n",
    "print(f\"총 투표 수: {total_votes:,}표\")\n",
    "\n",
    "print(\"\\n선거 결과:\")\n",
    "print(\"-\" * 40)\n",
    "\n",
    "# 백분율과 함께 결과 표시\n",
    "for candidate in candidates:\n",
    "    name, party, votes = candidate\n",
    "    percentage = (votes / total_votes) * 100\n",
    "    print(f\"{name}: {votes:,}표 ({percentage:.1f}%)\")\n",
    "\n",
    "# 당선자 찾기 (가장 많은 표를 받은 후보자)\n",
    "max_votes = max(candidate[2] for candidate in candidates)\n",
    "winner = None\n",
    "\n",
    "for candidate in candidates:\n",
    "    if candidate[2] == max_votes:\n",
    "        winner = candidate\n",
    "        break\n",
    "\n",
    "if winner:\n",
    "    print(f\"\\n당선자: {winner[0]} ({winner[2]:,}표)\")\n",
    "\n",
    "# 20% 이상 득표한 후보자 찾기\n",
    "strong_candidates = []\n",
    "for candidate in candidates:\n",
    "    percentage = (candidate[2] / total_votes) * 100\n",
    "    if percentage > 20:\n",
    "        strong_candidates.append(candidate[0])\n",
    "\n",
    "print(f\"\\n20% 이상 득표 후보자: {strong_candidates}\")"
   ]
  },
  {
   "cell_type": "markdown",
   "id": "b93eefef",
   "metadata": {
    "lines_to_next_cell": 0
   },
   "source": [
    "### 실습 3: 튜플을 사용한 카페 메뉴 관리 프로그램\n",
    "\n",
    "**문제**: 카페의 메뉴를 튜플로 관리하는 간단한 프로그램을 만드세요.\n",
    "\n",
    "**요구사항**:\n",
    "- 메뉴 항목을 튜플 (이름, 가격)으로 저장\n",
    "- 가장 비싸고 저렴한 메뉴 찾기\n",
    "- 특정 가격 이하의 메뉴 찾기\n",
    "\n",
    "**정답**:"
   ]
  },
  {
   "cell_type": "code",
   "execution_count": null,
   "id": "a29d6cd9",
   "metadata": {},
   "outputs": [],
   "source": [
    "# 카페 메뉴: 각 항목은 튜플 (메뉴명, 가격)\n",
    "menu = [\n",
    "    (\"아메리카노\", 4000),\n",
    "    (\"카페라떼\", 4500),\n",
    "    (\"카푸치노\", 5000),\n",
    "    (\"에스프레소\", 3500),\n",
    "    (\"프라푸치노\", 6000)\n",
    "]\n",
    "\n",
    "print(\"=== 카페 메뉴 ===\")\n",
    "for name, price in menu:  # 튜플 언패킹\n",
    "    print(f\"{name}: {price:,}원\")\n",
    "\n",
    "# 가장 비싼 메뉴 찾기\n",
    "most_expensive = menu[0]  # 첫 번째 항목으로 시작\n",
    "for item in menu:\n",
    "    if item[1] > most_expensive[1]:  # 가격 비교 (인덱스 1)\n",
    "        most_expensive = item\n",
    "\n",
    "print(f\"\\n가장 비싼 메뉴: {most_expensive[0]} ({most_expensive[1]:,}원)\")\n",
    "\n",
    "# 가장 저렴한 메뉴 찾기\n",
    "cheapest = menu[0]  # 첫 번째 항목으로 시작\n",
    "for item in menu:\n",
    "    if item[1] < cheapest[1]:  # 가격 비교\n",
    "        cheapest = item\n",
    "\n",
    "print(f\"가장 저렴한 메뉴: {cheapest[0]} ({cheapest[1]:,}원)\")\n",
    "\n",
    "# 5000원 이하 메뉴 찾기\n",
    "affordable_menu = []\n",
    "price_limit = 5000\n",
    "\n",
    "for item in menu:\n",
    "    name, price = item  # 튜플 언패킹\n",
    "    if price <= price_limit:\n",
    "        affordable_menu.append(item)\n",
    "\n",
    "print(f\"\\n{price_limit:,}원 이하 메뉴:\")\n",
    "for name, price in affordable_menu:\n",
    "    print(f\"- {name}: {price:,}원\")\n",
    "\n",
    "# 전체 메뉴 평균 가격 계산\n",
    "total_price = 0\n",
    "for item in menu:\n",
    "    total_price += item[1]  # 가격 합계\n",
    "\n",
    "average_price = total_price / len(menu)\n",
    "print(f\"\\n평균 메뉴 가격: {average_price:,.0f}원\")\n",
    "\n",
    "# 튜플의 불변성 확인\n",
    "print(f\"\\n메뉴 항목 수: {len(menu)}\")\n",
    "print(\"튜플은 변경할 수 없어서 메뉴가 안전하게 보관됩니다!\")"
   ]
  },
  {
   "cell_type": "markdown",
   "id": "3f2f956a",
   "metadata": {
    "lines_to_next_cell": 0
   },
   "source": [
    "---\n",
    "\n",
    "## 📝 퀴즈\n",
    "\n",
    "### 퀴즈 1: 리스트 컴프리헨션 도전\n",
    "**문제**: 1부터 20까지의 모든 짝수의 제곱을 포함하는 새 리스트를 만드는 리스트 컴프리헨션을 작성하세요.\n",
    "\n",
    "**요구사항**:\n",
    "- 단일 리스트 컴프리헨션 사용\n",
    "- 짝수만 포함\n",
    "- 각 짝수의 제곱 계산\n",
    "- 결과: [4, 16, 36, 64, 100, 144, 196, 256, 324, 400]\n",
    "\n",
    "### 퀴즈 2: 튜플 vs 리스트 분석\n",
    "**문제**: 튜플 `(10, 20, 30)`과 리스트 `[10, 20, 30]`의 차이점을 최소 3가지 설명하고, 각 차이점에 대해 코드 예시를 제공하세요.\n",
    "\n",
    "### 퀴즈 3: 학생 데이터 관리\n",
    "**문제**: 각 튜플이 (이름, 나이, 수학점수, 과학점수)를 포함하는 학생 튜플의 리스트가 있습니다. 다음을 수행하는 프로그램을 작성하세요:\n",
    "\n",
    "1. 평균 점수로 학생 정렬 (높은 점수부터)\n",
    "2. 평균 점수가 85 이상인 학생 리스트 생성\n",
    "3. 수학 점수가 가장 높은 학생 찾기\n",
    "\n",
    "**주어진 데이터**:"
   ]
  },
  {
   "cell_type": "code",
   "execution_count": null,
   "id": "97de2606",
   "metadata": {},
   "outputs": [],
   "source": [
    "students = [\n",
    "    (\"김철수\", 20, 88, 92),\n",
    "    (\"이영희\", 19, 95, 87),\n",
    "    (\"박민수\", 21, 78, 85),\n",
    "    (\"최지영\", 20, 91, 89),\n",
    "    (\"정현우\", 19, 82, 94)\n",
    "]"
   ]
  },
  {
   "cell_type": "markdown",
   "id": "35d924f1",
   "metadata": {},
   "source": [
    "---\n",
    "\n",
    "## 📖 참고 자료\n",
    "\n",
    "1. **파이썬 공식 문서 - 리스트 컴프리헨션**: https://docs.python.org/ko/3/tutorial/datastructures.html#list-comprehensions\n",
    "   - 리스트 컴프리헨션에 대한 공식 파이썬 문서\n",
    "\n",
    "2. **파이썬 공식 문서 - 튜플**: https://docs.python.org/ko/3/tutorial/datastructures.html#tuples-and-sequences\n",
    "   - 튜플과 시퀀스에 대한 종합 가이드\n",
    "\n",
    "3. **점프 투 파이썬 - 튜플**: https://wikidocs.net/15\n",
    "   - 한국어로 된 튜플 설명\n",
    "\n",
    "4. **코딩 도장 - 리스트 컴프리헨션**: https://dojang.io/mod/page/view.php?id=2284\n",
    "   - 리스트 컴프리헨션 상세 설명\n",
    "\n",
    "---\n",
    "\n",
    "## 💡 성공을 위한 팁\n",
    "\n",
    "### 모범 사례\n",
    "- **올바른 데이터 구조 선택**: 변하는 데이터는 리스트, 고정 데이터는 튜플\n",
    "- **리스트 컴프리헨션을 읽기 쉽게 유지**: 너무 복잡하면 일반 반복문 사용\n",
    "- **튜플 언패킹 사용**: 코드가 더 깔끔하고 읽기 쉬워짐\n",
    "\n",
    "### 피해야 할 일반적인 실수\n",
    "- **튜플 수정 시도**: 불변이라는 것을 기억\n",
    "- **리스트 컴프리헨션 남용**: 때로는 일반 반복문이 더 명확\n",
    "- **단일 항목 튜플에서 쉼표 누락**: `(42)`가 아닌 `(42,)`\n",
    "\n",
    "### 성능 팁\n",
    "- **읽기 전용 작업에는 튜플이 리스트보다 빠름**\n",
    "- **간단한 연산에는 리스트 컴프리헨션이 반복문보다 빠름**\n",
    "- **수동 인덱싱 대신 enumerate()와 zip() 사용**\n",
    "\n",
    "---\n",
    "\n",
    "## 📋 숙제\n",
    "\n",
    "### 연습 문제\n",
    "\n",
    "1. **영화 평점 분석**: 영화 제목과 평점을 튜플로 저장하고, 평점별로 정렬하여 상위 3개 영화 찾기\n",
    "\n",
    "2. **온도 데이터 처리**: 일주일간의 온도 데이터에서 리스트 컴프리헨션을 사용하여 25도 이상인 날만 추출\n",
    "\n",
    "3. **좌표계 변환**: 2D 좌표 튜플들을 받아서 모든 점을 원점 중심으로 90도 회전하는 프로그램\n",
    "\n",
    "4. **성적 통계**: 여러 과목의 점수를 가진 학생 데이터에서 각 과목별 평균과 전체 최고점 학생 찾기\n",
    "\n",
    "### 도전 문제\n",
    "\n",
    "5. **종합 데이터 분석기**: \n",
    "   - 상품명, 가격, 카테고리를 포함하는 상품 데이터\n",
    "   - 카테고리별 평균 가격 계산\n",
    "   - 가격대별 상품 분류\n",
    "   - 할인 적용 시뮬레이션 (리스트 컴프리헨션 사용)\n",
    "\n",
    "**프로그래밍 여정에 행운을 빕니다!** 🌟"
   ]
  }
 ],
 "metadata": {
  "jupytext": {
   "cell_metadata_filter": "-all",
   "main_language": "python",
   "notebook_metadata_filter": "-all"
  }
 },
 "nbformat": 4,
 "nbformat_minor": 5
}
