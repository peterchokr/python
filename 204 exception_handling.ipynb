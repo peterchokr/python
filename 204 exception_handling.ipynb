{
 "cells": [
  {
   "cell_type": "markdown",
   "id": "01e7117b",
   "metadata": {},
   "source": [
    "# 파이썬 예외 처리(Exception Handling) \n",
    "\n",
    "**수업 시간**: 3시간\n",
    "**구성**: 강의 및 실습 2시간 + 퀴즈 1시간\n",
    "**수준**: 중급\n",
    "\n",
    "---\n",
    "\n",
    "## 🎯 학습 목표\n",
    "\n",
    "이 수업을 마친 후 학생들은 다음을 할 수 있습니다:\n",
    "\n",
    "- 예외(Exception)가 무엇이고 왜 발생하는지 이해하기\n",
    "- try-except 구문을 사용하여 오류를 우아하게 처리하기\n",
    "- 하나의 프로그램에서 여러 유형의 예외 처리하기\n",
    "- 정리 작업을 위한 finally 구문 사용하기\n",
    "- 예상치 못한 오류로 인해 충돌하지 않는 견고한 프로그램 생성하기\n",
    "\n",
    "---\n",
    "\n",
    "## ⚠️ 1. 예외(Exception)란 무엇인가?\n",
    "\n",
    "### 예외 이해하기\n",
    "\n",
    "**예외(Exception)**는 프로그램 실행 중 발생하는 오류입니다. 예외를 고속도로의 **장애물**처럼 생각해보세요 - 프로그램이 정상적으로 계속 진행되는 것을 막습니다.\n",
    "\n",
    "### 일반적인 예외 유형\n",
    "\n",
    "#### 1. ZeroDivisionError (0으로 나누기 오류)"
   ]
  },
  {
   "cell_type": "code",
   "execution_count": null,
   "id": "1c08fab9",
   "metadata": {},
   "outputs": [],
   "source": [
    "# 이것은 오류를 발생시킵니다\n",
    "number = 10\n",
    "result = number / 0  # 0으로 나눌 수 없습니다!"
   ]
  },
  {
   "cell_type": "markdown",
   "id": "68ba1cb1",
   "metadata": {},
   "source": [
    "#### 2. ValueError (값 오류)"
   ]
  },
  {
   "cell_type": "code",
   "execution_count": null,
   "id": "621d52b1",
   "metadata": {},
   "outputs": [],
   "source": [
    "# 이것은 오류를 발생시킵니다\n",
    "age = int(\"안녕하세요\")  # \"안녕하세요\"를 정수로 변환할 수 없습니다"
   ]
  },
  {
   "cell_type": "markdown",
   "id": "94332cb5",
   "metadata": {},
   "source": [
    "#### 3. FileNotFoundError (파일을 찾을 수 없음 오류)"
   ]
  },
  {
   "cell_type": "code",
   "execution_count": null,
   "id": "06b01f32",
   "metadata": {},
   "outputs": [],
   "source": [
    "# 파일이 존재하지 않으면 오류가 발생합니다\n",
    "file = open(\"없는파일.txt\", \"r\")"
   ]
  },
  {
   "cell_type": "markdown",
   "id": "ed932565",
   "metadata": {},
   "source": [
    "#### 4. TypeError (타입 오류)"
   ]
  },
  {
   "cell_type": "code",
   "execution_count": null,
   "id": "14603e62",
   "metadata": {},
   "outputs": [],
   "source": [
    "# 이것은 오류를 발생시킵니다\n",
    "result = \"안녕하세요\" + 5  # 문자열과 숫자를 더할 수 없습니다"
   ]
  },
  {
   "cell_type": "markdown",
   "id": "4acb43cf",
   "metadata": {},
   "source": [
    "### 예외 처리 없이는 어떻게 될까요?\n",
    "\n",
    "적절한 처리 없이는 예외가 프로그램을 **충돌**시킵니다:"
   ]
  },
  {
   "cell_type": "code",
   "execution_count": null,
   "id": "2537f656",
   "metadata": {},
   "outputs": [],
   "source": [
    "print(\"프로그램 시작\")\n",
    "result = 10 / 0  # 프로그램이 여기서 충돌합니다\n",
    "print(\"이 줄은 절대 실행되지 않습니다\")  # 도달하지 않음"
   ]
  },
  {
   "cell_type": "markdown",
   "id": "9083dab6",
   "metadata": {},
   "source": [
    "### 실생활 비유\n",
    "\n",
    "예외 처리는 자동차의 **안전 장치**와 같습니다:\n",
    "\n",
    "- **에어백**: 문제가 발생했을 때 보호\n",
    "- **안전벨트**: 예상치 못한 상황에서 안전 유지\n",
    "- **예외 처리**: 오류가 발생해도 프로그램이 계속 실행되도록 유지\n",
    "\n",
    "---\n",
    "\n",
    "## 🛡️ 2. try-except 구문\n",
    "\n",
    "### 기본 구조"
   ]
  },
  {
   "cell_type": "code",
   "execution_count": null,
   "id": "6d453c60",
   "metadata": {},
   "outputs": [],
   "source": [
    "try:\n",
    "    # 오류가 발생할 수 있는 코드\n",
    "    risky_code()\n",
    "except ExceptionType:\n",
    "    # 오류를 처리하는 코드\n",
    "    handle_error()"
   ]
  },
  {
   "cell_type": "markdown",
   "id": "eef21438",
   "metadata": {},
   "source": [
    "### 간단한 예시"
   ]
  },
  {
   "cell_type": "code",
   "execution_count": null,
   "id": "0c288e3b",
   "metadata": {},
   "outputs": [],
   "source": [
    "try:\n",
    "    number = int(input(\"숫자를 입력하세요: \"))\n",
    "    result = 10 / number\n",
    "    print(f\"결과: {result}\")\n",
    "except ZeroDivisionError:\n",
    "    print(\"오류: 0으로 나눌 수 없습니다!\")\n",
    "except ValueError:\n",
    "    print(\"오류: 유효한 숫자를 입력해주세요!\")"
   ]
  },
  {
   "cell_type": "markdown",
   "id": "11f1500f",
   "metadata": {},
   "source": [
    "### 단계별 분석\n",
    "\n",
    "#### 단계 1: 기본 나누기와 오류 처리"
   ]
  },
  {
   "cell_type": "code",
   "execution_count": null,
   "id": "757659ef",
   "metadata": {},
   "outputs": [],
   "source": [
    "def safe_division(a, b):\n",
    "    try:\n",
    "        result = a / b\n",
    "        return result\n",
    "    except ZeroDivisionError:\n",
    "        print(\"0으로 나눌 수 없습니다\")\n",
    "        return None\n",
    "\n",
    "# 함수 테스트\n",
    "print(safe_division(10, 2))  # 정상 작동: 5.0\n",
    "print(safe_division(10, 0))  # 오류를 우아하게 처리"
   ]
  },
  {
   "cell_type": "markdown",
   "id": "4589c0be",
   "metadata": {},
   "source": [
    "#### 단계 2: 입력 검증"
   ]
  },
  {
   "cell_type": "code",
   "execution_count": null,
   "id": "ffa0f131",
   "metadata": {},
   "outputs": [],
   "source": [
    "def get_valid_number():\n",
    "    try:\n",
    "        user_input = input(\"숫자를 입력하세요: \")\n",
    "        number = float(user_input)\n",
    "        return number\n",
    "    except ValueError:\n",
    "        print(\"유효하지 않은 숫자입니다!\")\n",
    "        return None\n",
    "\n",
    "# 함수 테스트\n",
    "result = get_valid_number()\n",
    "if result is not None:\n",
    "    print(f\"입력하신 숫자: {result}\")"
   ]
  },
  {
   "cell_type": "markdown",
   "id": "a11faa14",
   "metadata": {},
   "source": [
    "#### 단계 3: 파일 작업\n",
    "\n",
    "**먼저 다음과 같이 sample.txt 파일을 만들어 보세요:**\n",
    "\n",
    "```\n",
    "안녕하세요!\n",
    "파이썬 예외 처리를 배우고 있습니다.\n",
    "```"
   ]
  },
  {
   "cell_type": "code",
   "execution_count": null,
   "id": "a7b301a5",
   "metadata": {},
   "outputs": [],
   "source": [
    "def read_file_safely(filename):\n",
    "    try:\n",
    "        with open(filename, \"r\", encoding=\"utf-8\") as file:\n",
    "            content = file.read()\n",
    "            return content\n",
    "    except FileNotFoundError:\n",
    "        print(f\"파일 '{filename}'을 찾을 수 없습니다!\")\n",
    "        return None\n",
    "\n",
    "# 함수 테스트\n",
    "content = read_file_safely(\"sample.txt\")\n",
    "if content:\n",
    "    print(\"파일 내용:\", content)"
   ]
  },
  {
   "cell_type": "markdown",
   "id": "3530c3b8",
   "metadata": {},
   "source": [
    "---\n",
    "\n",
    "## 🔢 3. 다중 예외 처리\n",
    "\n",
    "### 다양한 오류 유형 처리"
   ]
  },
  {
   "cell_type": "code",
   "execution_count": null,
   "id": "3413de56",
   "metadata": {},
   "outputs": [],
   "source": [
    "def safe_process(data_list, index):\n",
    "    try:\n",
    "        value = data_list[index]\n",
    "        number = int(value)\n",
    "        result = 100 / number\n",
    "        return result\n",
    "      \n",
    "    except IndexError:\n",
    "        print(\"오류: 인덱스가 범위를 벗어났습니다\")\n",
    "        return None\n",
    "    except ValueError:\n",
    "        print(\"오류: 숫자로 변환할 수 없습니다\")\n",
    "        return None\n",
    "    except ZeroDivisionError:\n",
    "        print(\"오류: 0으로 나누기\")\n",
    "        return None\n",
    "\n",
    "# 다양한 시나리오로 테스트\n",
    "data = [\"10\", \"0\", \"안녕\"]\n",
    "print(safe_process(data, 0))  # 작동: 10.0\n",
    "print(safe_process(data, 1))  # ZeroDivisionError\n",
    "print(safe_process(data, 2))  # ValueError"
   ]
  },
  {
   "cell_type": "markdown",
   "id": "56a59d6d",
   "metadata": {},
   "source": [
    "### 여러 예외를 한 번에 잡기"
   ]
  },
  {
   "cell_type": "code",
   "execution_count": null,
   "id": "2459f2e5",
   "metadata": {},
   "outputs": [],
   "source": [
    "def safe_operation(a, b):\n",
    "    try:\n",
    "        result = a / b\n",
    "        return result\n",
    "    except (TypeError, ValueError, ZeroDivisionError) as e:\n",
    "        print(f\"오류: {e}\")\n",
    "        return None\n",
    "\n",
    "# 함수 테스트\n",
    "print(safe_operation(10, 2))    # 작동: 5.0\n",
    "print(safe_operation(10, 0))    # 오류 처리\n",
    "print(safe_operation(\"10\", 5))  # 오류 처리"
   ]
  },
  {
   "cell_type": "markdown",
   "id": "b493a1da",
   "metadata": {},
   "source": [
    "---\n",
    "\n",
    "## 🔄 4. finally 구문\n",
    "\n",
    "### finally란?\n",
    "\n",
    "**finally** 블록은 예외가 발생하든 발생하지 않든 항상 실행됩니다. 정리 작업에 유용합니다.\n",
    "\n",
    "### 기본 finally 사용법"
   ]
  },
  {
   "cell_type": "code",
   "execution_count": null,
   "id": "1f0eaf44",
   "metadata": {},
   "outputs": [],
   "source": [
    "def demonstrate_finally():\n",
    "    try:\n",
    "        result = 10 / 2\n",
    "        print(f\"결과: {result}\")\n",
    "        return result\n",
    "    except ZeroDivisionError:\n",
    "        print(\"오류가 발생했습니다!\")\n",
    "        return None\n",
    "    finally:\n",
    "        print(\"이것은 항상 실행됩니다!\")\n",
    "\n",
    "# 함수 테스트\n",
    "demonstrate_finally()"
   ]
  },
  {
   "cell_type": "markdown",
   "id": "a49c518d",
   "metadata": {},
   "source": [
    "### 실용적인 finally 예시"
   ]
  },
  {
   "cell_type": "code",
   "execution_count": null,
   "id": "15f68dec",
   "metadata": {},
   "outputs": [],
   "source": [
    "def process_file(filename):\n",
    "    file_handle = None\n",
    "    try:\n",
    "        file_handle = open(filename, \"w\", encoding=\"utf-8\")\n",
    "        file_handle.write(\"중요한 데이터\")\n",
    "        print(\"데이터가 성공적으로 저장되었습니다\")\n",
    "        return True\n",
    "    except Exception as e:\n",
    "        print(f\"오류: {e}\")\n",
    "        return False\n",
    "    finally:\n",
    "        if file_handle:\n",
    "            file_handle.close()\n",
    "            print(\"파일이 닫혔습니다\")\n",
    "\n",
    "# 함수 테스트\n",
    "process_file(\"test.txt\")"
   ]
  },
  {
   "cell_type": "markdown",
   "id": "692580f0",
   "metadata": {},
   "source": [
    "---\n",
    "\n",
    "## 🔧 실습 문제\n",
    "\n",
    "### 실습 1: 간단한 나누기 계산기\n",
    "\n",
    "**문제**: 사용자로부터 두 숫자를 입력받아 나누기를 수행하되, 0으로 나누기와 잘못된 입력을 처리하세요.\n",
    "\n",
    "**정답**:"
   ]
  },
  {
   "cell_type": "code",
   "execution_count": null,
   "id": "e66b3294",
   "metadata": {},
   "outputs": [],
   "source": [
    "def simple_calculator():\n",
    "    \"\"\"간단한 나누기 계산기\"\"\"\n",
    "    try:\n",
    "        # 사용자 입력 받기\n",
    "        num1 = float(input(\"첫 번째 숫자: \"))\n",
    "        num2 = float(input(\"두 번째 숫자: \"))\n",
    "      \n",
    "        # 나누기 계산\n",
    "        result = num1 / num2\n",
    "        print(f\"결과: {num1} ÷ {num2} = {result}\")\n",
    "      \n",
    "    except ValueError:\n",
    "        print(\"오류: 숫자를 입력해주세요!\")\n",
    "    except ZeroDivisionError:\n",
    "        print(\"오류: 0으로 나눌 수 없습니다!\")\n",
    "    except Exception as e:\n",
    "        print(f\"예상치 못한 오류: {e}\")\n",
    "\n",
    "# 계산기 테스트\n",
    "simple_calculator()"
   ]
  },
  {
   "cell_type": "markdown",
   "id": "bd7b7051",
   "metadata": {},
   "source": [
    "### 실습 2: 안전한 파일 읽기\n",
    "\n",
    "**문제**: 파일을 읽어서 내용을 출력하되, 파일이 없는 경우를 처리하세요.\n",
    "\n",
    "**먼저 다음과 같이 memo.txt 파일을 만들어 보세요:**\n",
    "\n",
    "```\n",
    "오늘 배운 내용\n",
    "- 예외 처리 기본 개념\n",
    "- try-except 구문 사용법\n",
    "- finally 구문의 역할\n",
    "```\n",
    "\n",
    "**정답**:"
   ]
  },
  {
   "cell_type": "code",
   "execution_count": null,
   "id": "cb75e674",
   "metadata": {},
   "outputs": [],
   "source": [
    "def read_memo():\n",
    "    \"\"\"메모 파일 안전하게 읽기\"\"\"\n",
    "    try:\n",
    "        with open(\"memo.txt\", \"r\", encoding=\"utf-8\") as file:\n",
    "            content = file.read()\n",
    "            print(\"메모 내용:\")\n",
    "            print(content)\n",
    "    except FileNotFoundError:\n",
    "        print(\"오류: memo.txt 파일을 찾을 수 없습니다!\")\n",
    "    except Exception as e:\n",
    "        print(f\"파일 읽기 오류: {e}\")\n",
    "    finally:\n",
    "        print(\"파일 읽기 작업 완료\")\n",
    "\n",
    "# 파일 읽기 테스트\n",
    "read_memo()"
   ]
  },
  {
   "cell_type": "markdown",
   "id": "726b9732",
   "metadata": {},
   "source": [
    "### 실습 3: 숫자 리스트 처리\n",
    "\n",
    "**문제**: 문자열 리스트에서 숫자만 추출하여 합계를 구하되, 변환할 수 없는 값은 건너뛰세요.\n",
    "\n",
    "**정답**:"
   ]
  },
  {
   "cell_type": "code",
   "execution_count": null,
   "id": "26c970f2",
   "metadata": {},
   "outputs": [],
   "source": [
    "def calculate_sum():\n",
    "    \"\"\"문자열 리스트에서 숫자 합계 계산\"\"\"\n",
    "    string_list = [\"10\", \"20\", \"abc\", \"30\", \"xyz\", \"40\"]\n",
    "    total = 0\n",
    "    valid_count = 0\n",
    "  \n",
    "    print(\"리스트 처리 중...\")\n",
    "    for item in string_list:\n",
    "        try:\n",
    "            number = int(item)\n",
    "            total += number\n",
    "            valid_count += 1\n",
    "            print(f\"'{item}' → {number} (성공)\")\n",
    "        except ValueError:\n",
    "            print(f\"'{item}' → 숫자가 아님 (건너뜀)\")\n",
    "  \n",
    "    print(f\"\\n결과:\")\n",
    "    print(f\"유효한 숫자 개수: {valid_count}\")\n",
    "    print(f\"총합: {total}\")\n",
    "\n",
    "# 리스트 처리 테스트\n",
    "calculate_sum()"
   ]
  },
  {
   "cell_type": "markdown",
   "id": "47e64de8",
   "metadata": {},
   "source": [
    "---\n",
    "\n",
    "## 📝 퀴즈\n",
    "\n",
    "### 퀴즈 1: 0으로 나누기 처리\n",
    "\n",
    "**문제**: try-except를 사용하여 0으로 나누기를 처리하고 오류 메시지를 출력하세요. 다음을 수행하는 `safe_divide(a, b)` 함수를 만드세요:\n",
    "\n",
    "- 두 숫자를 매개변수로 받음\n",
    "- 성공하면 a/b의 결과 반환\n",
    "- 0으로 나누기가 발생하면 적절한 오류 메시지를 출력하고 None 반환\n",
    "- 유효한 입력과 무효한 입력 모두로 함수 테스트\n",
    "\n",
    "**답을 여기에 작성하세요**:"
   ]
  },
  {
   "cell_type": "code",
   "execution_count": null,
   "id": "4a7fe2db",
   "metadata": {},
   "outputs": [],
   "source": [
    "# 여기에 코드를 작성하세요"
   ]
  },
  {
   "cell_type": "markdown",
   "id": "25ae3b39",
   "metadata": {},
   "source": [
    "### 퀴즈 2: 파일 오류 처리\n",
    "\n",
    "**문제**: 파일을 읽을 때 파일이 존재하지 않는 경우를 처리하는 코드를 작성하세요. 다음을 수행하는 `read_file_content(filename)` 함수를 만드세요:\n",
    "\n",
    "- 파일의 전체 내용을 읽고 반환 시도\n",
    "- FileNotFoundError를 처리하고 사용자 친화적인 메시지 출력\n",
    "- 발생할 수 있는 다른 예외들도 처리\n",
    "- 작업이 완료되었음을 나타내는 메시지를 항상 출력 (finally 사용)\n",
    "- 존재하는 파일과 존재하지 않는 파일 모두로 테스트\n",
    "\n",
    "**답을 여기에 작성하세요**:"
   ]
  },
  {
   "cell_type": "code",
   "execution_count": null,
   "id": "693dd76f",
   "metadata": {},
   "outputs": [],
   "source": [
    "# 여기에 코드를 작성하세요"
   ]
  },
  {
   "cell_type": "markdown",
   "id": "b5fde91f",
   "metadata": {},
   "source": [
    "### 퀴즈 3: 안전한 입력 검증\n",
    "\n",
    "**문제**: 잘못된 정수 입력에 대해 다시 입력을 요청하는 안전한 입력 함수를 작성하세요. 다음을 수행하는 `get_positive_integer(prompt)` 함수를 만드세요:\n",
    "\n",
    "- 프롬프트 메시지를 매개변수로 받음\n",
    "- 유효한 양의 정수가 입력될 때까지 반복적으로 입력 요청\n",
    "- 잘못된 숫자 형식에 대한 ValueError 처리\n",
    "- 음수와 0 처리\n",
    "- 사용자가 'quit'을 입력하여 종료할 수 있도록 허용\n",
    "- 유효한 양의 정수를 반환하거나 사용자가 종료하면 None 반환\n",
    "\n",
    "**답을 여기에 작성하세요**:"
   ]
  },
  {
   "cell_type": "code",
   "execution_count": null,
   "id": "1fb029eb",
   "metadata": {},
   "outputs": [],
   "source": [
    "# 여기에 코드를 작성하세요"
   ]
  },
  {
   "cell_type": "markdown",
   "id": "23c59298",
   "metadata": {},
   "source": [
    "---\n",
    "\n",
    "## 📖 참고 자료\n",
    "\n",
    "1. **Python 예외 처리**: https://docs.python.org/3/tutorial/errors.html\n",
    "\n",
    "   - 예외 처리에 대한 공식 파이썬 문서\n",
    "2. **내장 예외**: https://docs.python.org/3/library/exceptions.html\n",
    "\n",
    "   - 파이썬의 내장 예외 유형 완전 목록\n",
    "3. **예외 처리 모범 사례**: https://realpython.com/python-exceptions-handling/\n",
    "\n",
    "   - 예외 처리를 위한 모범 사례와 고급 기법\n",
    "4. **오류 처리 튜토리얼**: https://www.programiz.com/python-programming/exception-handling\n",
    "\n",
    "   - 실용적인 예제가 있는 단계별 튜토리얼\n",
    "\n",
    "---\n",
    "\n",
    "## 💡 핵심 포인트\n",
    "\n",
    "### 기억하세요\n",
    "\n",
    "1. **예상되는 오류는 항상 처리** - 프로그램 충돌 방지\n",
    "2. **특정 예외 유형 사용** - 모든 예외를 잡기보다는 구체적으로\n",
    "3. **finally 블록은 항상 실행** - 정리 작업에 완벽\n",
    "4. **사용자 친화적인 오류 메시지** - 사용자가 문제를 이해할 수 있도록\n",
    "\n",
    "### 일반적인 예외 유형\n",
    "\n",
    "- **ValueError**: 잘못된 값 유형 또는 형식\n",
    "- **TypeError**: 잘못된 데이터 유형\n",
    "- **FileNotFoundError**: 파일이 존재하지 않음\n",
    "- **ZeroDivisionError**: 0으로 나누기\n",
    "- **IndexError**: 리스트 인덱스 범위 초과\n",
    "\n",
    "### 실제 활용 예시\n",
    "\n",
    "- **사용자 입력 검증**: 잘못된 입력으로부터 프로그램 보호\n",
    "- **파일 처리**: 파일이 없거나 접근할 수 없는 상황 처리\n",
    "- **네트워크 통신**: 연결 실패나 타임아웃 처리\n",
    "- **데이터 변환**: 형변환 실패 처리\n",
    "\n",
    "### 주의사항\n",
    "\n",
    "1. **너무 광범위한 except 사용 금지** - 구체적인 예외 처리\n",
    "2. **예외를 무시하지 말기** - 적절한 로깅이나 처리 필요\n",
    "3. **finally에서 새로운 예외 발생 주의** - 원본 예외를 가릴 수 있음\n",
    "\n",
    "---\n",
    "\n",
    "## 📋 숙제\n",
    "\n",
    "1. **연습**: 모든 실습 문제를 완료하고 철저히 테스트하기\n",
    "2. **응용**: 파일에서 숫자를 읽고 모든 가능한 오류를 처리하는 프로그램 생성\n",
    "3. **복습**: 이전 주에 작성한 프로그램에 예외 처리 추가해보기\n",
    "4. **프로젝트**: 사용자 입력을 받는 모든 프로그램에 적절한 예외 처리 구현\n",
    "\n",
    "**예외 처리는 프로그램을 견고하고 사용자 친화적으로 만듭니다!**"
   ]
  }
 ],
 "metadata": {
  "jupytext": {
   "cell_metadata_filter": "-all",
   "main_language": "python",
   "notebook_metadata_filter": "-all"
  }
 },
 "nbformat": 4,
 "nbformat_minor": 5
}
