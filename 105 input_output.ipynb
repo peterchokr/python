{
 "cells": [
  {
   "cell_type": "markdown",
   "id": "66892f36",
   "metadata": {
    "lines_to_next_cell": 0
   },
   "source": [
    "# 입력과 출력 (Input and Output)\n",
    "\n",
    "**수업 시간**: 3시간  \n",
    "**구성**: 강의 및 실습 2시간 + 퀴즈 1시간  \n",
    "**수준**: 초급에서 중급  \n",
    "**선수 학습**: 변수, 데이터 타입, 기본 연산자\n",
    "\n",
    "---\n",
    "\n",
    "## 🎯 학습 목표\n",
    "\n",
    "이 수업을 마친 후 학생들은 다음을 할 수 있습니다:\n",
    "\n",
    "- 사용자와 소통하는 대화형 프로그램 작성하기\n",
    "- input() 함수를 사용하여 사용자로부터 데이터 받기\n",
    "- print() 함수의 고급 기능 활용하기\n",
    "- 다양한 데이터 타입 간 안전한 변환 수행하기\n",
    "- 기본적인 입력 오류를 우아하게 처리하기\n",
    "\n",
    "---\n",
    "\n",
    "## 💬 1. 입출력이란 무엇인가?\n",
    "\n",
    "### 정의\n",
    "**입출력(Input and Output, I/O)**은 프로그램이 사용자 및 외부 세계와 소통하는 방법입니다.\n",
    "\n",
    "- **입력(Input)**: 사용자로부터 데이터를 받는 것\n",
    "- **출력(Output)**: 사용자에게 데이터를 보내는 것\n",
    "\n",
    "### 실생활 비유\n",
    "입출력을 일상 대화로 생각해보세요:\n",
    "\n",
    "```\n",
    "일상 대화:\n",
    "사람 A: \"이름이 뭐예요?\" (출력 - 질문하기)\n",
    "사람 B: \"제 이름은 김철수입니다\" (입력 - 답변하기)\n",
    "사람 A: \"반갑습니다, 철수님!\" (출력 - 응답하기)\n",
    "\n",
    "파이썬 프로그램:\n",
    "print(\"이름이 뭐예요?\") (출력)\n",
    "name = input() (입력)\n",
    "print(f\"반갑습니다, {name}님!\") (출력)\n",
    "```\n",
    "\n",
    "### 대화형 프로그램이 중요한 이유\n",
    "- **사용자 경험**: 프로그램을 더 매력적으로 만듦\n",
    "- **개인화**: 각 사용자가 개인화된 결과를 얻음\n",
    "- **유연성**: 프로그램이 다양한 상황에 적응 가능\n",
    "- **실제 응용**: 대부분의 소프트웨어는 사용자 상호작용이 필요\n",
    "\n",
    "---\n",
    "\n",
    "## 🎤 2. input() 함수\n",
    "\n",
    "### 기본 문법"
   ]
  },
  {
   "cell_type": "code",
   "execution_count": null,
   "id": "2547e283",
   "metadata": {},
   "outputs": [],
   "source": [
    "변수명 = input(프롬프트_메시지)"
   ]
  },
  {
   "cell_type": "markdown",
   "id": "6aee0e3d",
   "metadata": {
    "lines_to_next_cell": 0
   },
   "source": [
    "### input() 작동 원리\n",
    "1. **표시**: 프롬프트 메시지를 화면에 표시\n",
    "2. **대기**: 사용자가 무언가 입력하기를 기다림\n",
    "3. **캐치**: 사용자가 입력한 내용을 받아옴\n",
    "4. **반환**: 입력된 내용을 문자열로 반환\n",
    "\n",
    "### 간단한 예시\n",
    "\n",
    "#### 예시 1: 기본 입력"
   ]
  },
  {
   "cell_type": "code",
   "execution_count": null,
   "id": "4935dc90",
   "metadata": {},
   "outputs": [],
   "source": [
    "# 사용자 이름 받기\n",
    "name = input(\"이름을 입력하세요: \")\n",
    "print(\"안녕하세요\", name)\n",
    "\n",
    "# 실행 결과:\n",
    "# 이름을 입력하세요: 김철수\n",
    "# 안녕하세요 김철수"
   ]
  },
  {
   "cell_type": "markdown",
   "id": "316061fb",
   "metadata": {
    "lines_to_next_cell": 0
   },
   "source": [
    "#### 예시 2: 더 나은 프롬프트"
   ]
  },
  {
   "cell_type": "code",
   "execution_count": null,
   "id": "de4fc2a1",
   "metadata": {},
   "outputs": [],
   "source": [
    "# 더 자세한 프롬프트\n",
    "age = input(\"나이를 입력해주세요: \")\n",
    "city = input(\"어느 도시에 살고 계신가요? \")\n",
    "\n",
    "print(\"당신은\", age, \"살이군요\")\n",
    "print(\"당신은\", city, \"에 살고 계시는군요\")\n",
    "\n",
    "# 실행 결과:\n",
    "# 나이를 입력해주세요: 25\n",
    "# 어느 도시에 살고 계신가요? 서울\n",
    "# 당신은 25 살이군요\n",
    "# 당신은 서울 에 살고 계시는군요"
   ]
  },
  {
   "cell_type": "markdown",
   "id": "b727458b",
   "metadata": {
    "lines_to_next_cell": 0
   },
   "source": [
    "#### 예시 3: 여러 입력 받기"
   ]
  },
  {
   "cell_type": "code",
   "execution_count": null,
   "id": "ceb234c2",
   "metadata": {},
   "outputs": [],
   "source": [
    "# 여러 정보 수집하기\n",
    "print(\"=== 사용자 등록 ===\")\n",
    "username = input(\"사용자명을 선택하세요: \")\n",
    "email = input(\"이메일을 입력하세요: \")\n",
    "hobby = input(\"취미가 무엇인가요? \")\n",
    "\n",
    "print(\"\\n=== 프로필 정보 ===\")\n",
    "print(f\"사용자명: {username}\")\n",
    "print(f\"이메일: {email}\")\n",
    "print(f\"취미: {hobby}\")"
   ]
  },
  {
   "cell_type": "markdown",
   "id": "9d20326f",
   "metadata": {},
   "source": [
    "### input()에 대한 중요 사항\n",
    "- ⚠️ **항상 문자열을 반환**: 사용자가 숫자를 입력해도 문자열로 반환됨\n",
    "- ⚠️ **Enter 키를 누를 때까지 대기**: 사용자가 Enter를 누르기 전까지 프로그램이 멈춤\n",
    "- ⚠️ **빈 입력도 허용**: 아무것도 입력하지 않고 Enter를 눌러도 됨"
   ]
  },
  {
   "cell_type": "code",
   "execution_count": null,
   "id": "d221a741",
   "metadata": {},
   "outputs": [],
   "source": [
    "# 이것은 놀라울 수 있습니다!\n",
    "number = input(\"숫자를 입력하세요: \")\n",
    "print(type(number))  # <class 'str'> - 문자열입니다!\n",
    "\n",
    "# 숫자를 입력하세요: 25\n",
    "# <class 'str'>"
   ]
  },
  {
   "cell_type": "markdown",
   "id": "83713531",
   "metadata": {
    "lines_to_next_cell": 0
   },
   "source": [
    "---\n",
    "\n",
    "## 🖨️ 3. 고급 print() 함수\n",
    "\n",
    "### 기본 복습"
   ]
  },
  {
   "cell_type": "code",
   "execution_count": null,
   "id": "4a93ada9",
   "metadata": {},
   "outputs": [],
   "source": [
    "print(\"안녕하세요\")  # 단순한 텍스트\n",
    "print(\"안녕\", \"하세요\")  # 여러 인수"
   ]
  },
  {
   "cell_type": "markdown",
   "id": "b3b7e4d3",
   "metadata": {},
   "source": [
    "### 고급 기능\n",
    "\n",
    "#### 1. sep 매개변수\n",
    "여러 인수 사이에 나타나는 것을 제어합니다:"
   ]
  },
  {
   "cell_type": "code",
   "execution_count": null,
   "id": "dd233473",
   "metadata": {},
   "outputs": [],
   "source": [
    "# 기본 구분자는 공백\n",
    "print(\"사과\", \"바나나\", \"체리\")\n",
    "# 출력: 사과 바나나 체리\n",
    "\n",
    "# 사용자 정의 구분자\n",
    "print(\"사과\", \"바나나\", \"체리\", sep=\", \")\n",
    "# 출력: 사과, 바나나, 체리\n",
    "\n",
    "print(\"2024\", \"03\", \"15\", sep=\"-\")\n",
    "# 출력: 2024-03-15\n",
    "\n",
    "print(\"로딩\", \".\", \".\", \".\", sep=\"\")\n",
    "# 출력: 로딩..."
   ]
  },
  {
   "cell_type": "markdown",
   "id": "f3322164",
   "metadata": {},
   "source": [
    "#### 2. end 매개변수\n",
    "print 문 다음에 나타나는 것을 제어합니다:"
   ]
  },
  {
   "cell_type": "code",
   "execution_count": null,
   "id": "8d4dfbbd",
   "metadata": {},
   "outputs": [],
   "source": [
    "# 기본 end는 줄바꿈(\\n)\n",
    "print(\"안녕\")\n",
    "print(\"하세요\")\n",
    "# 출력:\n",
    "# 안녕\n",
    "# 하세요\n",
    "\n",
    "# 사용자 정의 end\n",
    "print(\"안녕\", end=\" \")\n",
    "print(\"하세요\")\n",
    "# 출력: 안녕 하세요\n",
    "\n",
    "print(\"로딩\", end=\"... \")\n",
    "print(\"완료!\")\n",
    "# 출력: 로딩... 완료!"
   ]
  },
  {
   "cell_type": "markdown",
   "id": "477a186c",
   "metadata": {
    "lines_to_next_cell": 0
   },
   "source": [
    "#### 3. sep와 end 결합"
   ]
  },
  {
   "cell_type": "code",
   "execution_count": null,
   "id": "1bf8df8d",
   "metadata": {},
   "outputs": [],
   "source": [
    "print(\"파이썬\", \"은\", \"훌륭해\", sep=\"-\", end=\"!\\n\")\n",
    "# 출력: 파이썬-은-훌륭해!\n",
    "\n",
    "print(\"첫 번째 줄\", end=\" | \")\n",
    "print(\"두 번째 줄\", end=\" | \")\n",
    "print(\"세 번째 줄\")\n",
    "# 출력: 첫 번째 줄 | 두 번째 줄 | 세 번째 줄"
   ]
  },
  {
   "cell_type": "markdown",
   "id": "a69d3d54",
   "metadata": {
    "lines_to_next_cell": 0
   },
   "source": [
    "#### 4. f-string으로 포맷팅"
   ]
  },
  {
   "cell_type": "code",
   "execution_count": null,
   "id": "946cbd54",
   "metadata": {},
   "outputs": [],
   "source": [
    "name = \"김철수\"\n",
    "age = 25\n",
    "score = 95.5\n",
    "\n",
    "# 기존 방식 (권장하지 않음)\n",
    "print(\"학생: \" + name + \", 나이: \" + str(age))\n",
    "\n",
    "# 더 나은 방식: f-string 사용\n",
    "print(f\"학생: {name}, 나이: {age}\")\n",
    "print(f\"점수: {score:.1f}%\")  # 소수점 한 자리\n",
    "print(f\"환영합니다 {name.upper()}님!\")  # {} 안에서 메서드 호출\n",
    "\n",
    "# 출력:\n",
    "# 학생: 김철수, 나이: 25\n",
    "# 점수: 95.5%\n",
    "# 환영합니다 김철수님!"
   ]
  },
  {
   "cell_type": "markdown",
   "id": "1ac5931d",
   "metadata": {
    "lines_to_next_cell": 0
   },
   "source": [
    "#### 5. 여러 줄 출력"
   ]
  },
  {
   "cell_type": "code",
   "execution_count": null,
   "id": "78ef446b",
   "metadata": {},
   "outputs": [],
   "source": [
    "# \\n을 사용한 줄바꿈\n",
    "print(\"첫 번째 줄\\n두 번째 줄\\n세 번째 줄\")\n",
    "\n",
    "# 삼중 따옴표를 사용한 여러 줄\n",
    "print(\"\"\"\n",
    "=== 환영 메시지 ===\n",
    "안녕하세요! 이것은\n",
    "여러 줄에 걸친\n",
    "메시지입니다.\n",
    "==================\n",
    "\"\"\")"
   ]
  },
  {
   "cell_type": "markdown",
   "id": "975799da",
   "metadata": {},
   "source": [
    "---\n",
    "\n",
    "## 🔄 4. 데이터 타입 변환\n",
    "\n",
    "### 변환이 필요한 이유\n",
    "기억하세요: `input()`은 항상 **문자열**을 반환합니다!"
   ]
  },
  {
   "cell_type": "code",
   "execution_count": null,
   "id": "1ec78a4a",
   "metadata": {},
   "outputs": [],
   "source": [
    "# 이것은 예상대로 작동하지 않습니다!\n",
    "age = input(\"나이를 입력하세요: \")\n",
    "next_year = age + 1  # 오류! 문자열 + 숫자는 불가능\n",
    "\n",
    "# TypeError: can only concatenate str (not \"int\") to str"
   ]
  },
  {
   "cell_type": "markdown",
   "id": "6fb294a3",
   "metadata": {
    "lines_to_next_cell": 0
   },
   "source": [
    "### 변환 함수들\n",
    "\n",
    "#### 1. int() - 정수로 변환"
   ]
  },
  {
   "cell_type": "code",
   "execution_count": null,
   "id": "26247013",
   "metadata": {},
   "outputs": [],
   "source": [
    "# 문자열을 정수로 변환\n",
    "age_str = input(\"나이를 입력하세요: \")\n",
    "age_num = int(age_str)\n",
    "\n",
    "# 이제 수학 연산이 가능합니다\n",
    "next_year = age_num + 1\n",
    "print(f\"내년에는 {next_year}살이 되시겠군요\")\n",
    "\n",
    "# 더 간단한 버전\n",
    "age = int(input(\"나이를 입력하세요: \"))\n",
    "print(f\"5년 후에는 {age + 5}살이 되시겠군요\")"
   ]
  },
  {
   "cell_type": "markdown",
   "id": "06387668",
   "metadata": {
    "lines_to_next_cell": 0
   },
   "source": [
    "#### 2. float() - 소수로 변환"
   ]
  },
  {
   "cell_type": "code",
   "execution_count": null,
   "id": "7e62c77f",
   "metadata": {},
   "outputs": [],
   "source": [
    "# 문자열을 소수로 변환\n",
    "height_str = input(\"키를 미터 단위로 입력하세요: \")\n",
    "height_num = float(height_str)\n",
    "\n",
    "print(f\"당신의 키는 {height_num:.2f}미터입니다\")\n",
    "print(f\"센티미터로는 {height_num * 100:.1f}cm입니다\")\n",
    "\n",
    "# 예시:\n",
    "# 키를 미터 단위로 입력하세요: 1.75\n",
    "# 당신의 키는 1.75미터입니다\n",
    "# 센티미터로는 175.0cm입니다"
   ]
  },
  {
   "cell_type": "markdown",
   "id": "98db7f06",
   "metadata": {
    "lines_to_next_cell": 0
   },
   "source": [
    "#### 3. str() - 문자열로 변환"
   ]
  },
  {
   "cell_type": "code",
   "execution_count": null,
   "id": "24957062",
   "metadata": {},
   "outputs": [],
   "source": [
    "# 숫자를 문자열로 변환\n",
    "score = 95\n",
    "percentage = 87.5\n",
    "\n",
    "# 연결을 위해\n",
    "message = \"당신의 점수는 \" + str(score) + \"점입니다\"\n",
    "print(message)\n",
    "\n",
    "# f-string이 더 좋습니다 (자동 변환)\n",
    "print(f\"당신의 점수는 {score}점입니다\")\n",
    "print(f\"백분율: {percentage}%\")"
   ]
  },
  {
   "cell_type": "markdown",
   "id": "42bb63cf",
   "metadata": {
    "lines_to_next_cell": 0
   },
   "source": [
    "### 실용적인 예시\n",
    "\n",
    "#### 예시 1: 간단한 계산기"
   ]
  },
  {
   "cell_type": "code",
   "execution_count": null,
   "id": "957fc6c8",
   "metadata": {},
   "outputs": [],
   "source": [
    "print(\"=== 간단한 계산기 ===\")\n",
    "\n",
    "# 사용자로부터 두 숫자 받기\n",
    "first_num = float(input(\"첫 번째 숫자를 입력하세요: \"))\n",
    "second_num = float(input(\"두 번째 숫자를 입력하세요: \"))\n",
    "\n",
    "# 계산 수행\n",
    "addition = first_num + second_num\n",
    "subtraction = first_num - second_num\n",
    "multiplication = first_num * second_num\n",
    "division = first_num / second_num\n",
    "\n",
    "# 결과 출력\n",
    "print(f\"\\n결과:\")\n",
    "print(f\"{first_num} + {second_num} = {addition}\")\n",
    "print(f\"{first_num} - {second_num} = {subtraction}\")\n",
    "print(f\"{first_num} × {second_num} = {multiplication}\")\n",
    "print(f\"{first_num} ÷ {second_num} = {division:.2f}\")"
   ]
  },
  {
   "cell_type": "markdown",
   "id": "231e48f3",
   "metadata": {
    "lines_to_next_cell": 0
   },
   "source": [
    "#### 예시 2: 개인 정보 입력"
   ]
  },
  {
   "cell_type": "code",
   "execution_count": null,
   "id": "ec3d719c",
   "metadata": {},
   "outputs": [],
   "source": [
    "print(\"=== 개인 정보 입력 양식 ===\")\n",
    "\n",
    "# 다양한 타입의 데이터 수집\n",
    "name = input(\"이름: \")\n",
    "age = int(input(\"나이: \"))\n",
    "height = float(input(\"키(미터 단위): \"))\n",
    "weight = float(input(\"몸무게(kg): \"))\n",
    "is_student = input(\"학생이신가요? (예/아니오): \")\n",
    "\n",
    "# 처리 및 출력\n",
    "bmi = weight / (height ** 2)\n",
    "birth_year = 2024 - age\n",
    "\n",
    "print(f\"\\n=== 요약 ===\")\n",
    "print(f\"이름: {name}\")\n",
    "print(f\"나이: {age}세 ({birth_year}년생)\")\n",
    "print(f\"키: {height:.2f}m\")\n",
    "print(f\"몸무게: {weight:.1f}kg\")\n",
    "print(f\"BMI: {bmi:.1f}\")\n",
    "print(f\"학생 여부: {is_student}\")"
   ]
  },
  {
   "cell_type": "markdown",
   "id": "49546591",
   "metadata": {},
   "source": [
    "---\n",
    "\n",
    "## ⚠️ 5. 입력 검증 팁\n",
    "\n",
    "### 무엇이 잘못될 수 있나요?\n",
    "사용자가 잘못된 데이터를 입력하면 프로그램이 예상치 못한 결과를 낼 수 있습니다:"
   ]
  },
  {
   "cell_type": "code",
   "execution_count": null,
   "id": "dbadaf12",
   "metadata": {},
   "outputs": [],
   "source": [
    "# 이것은 예상대로 작동하지 않을 수 있습니다!\n",
    "age = int(input(\"나이를 입력하세요: \"))\n",
    "\n",
    "# 사용자가 \"스물\"이라고 입력하면:\n",
    "# 프로그램이 오류 메시지와 함께 중단됩니다"
   ]
  },
  {
   "cell_type": "markdown",
   "id": "3a0e1739",
   "metadata": {
    "lines_to_next_cell": 0
   },
   "source": [
    "### 간단한 검증 기법\n",
    "\n",
    "#### 기법 1: 명확한 지시사항"
   ]
  },
  {
   "cell_type": "code",
   "execution_count": null,
   "id": "09aa8f10",
   "metadata": {},
   "outputs": [],
   "source": [
    "# 원하는 것을 매우 구체적으로 설명\n",
    "print(\"나이를 숫자로 입력해주세요 (예: 25)\")\n",
    "age = int(input(\"나이: \"))\n",
    "print(f\"당신은 {age}세이군요\")"
   ]
  },
  {
   "cell_type": "markdown",
   "id": "46ec85d5",
   "metadata": {
    "lines_to_next_cell": 0
   },
   "source": [
    "#### 기법 2: 예시 보여주기"
   ]
  },
  {
   "cell_type": "code",
   "execution_count": null,
   "id": "c0a6ded6",
   "metadata": {},
   "outputs": [],
   "source": [
    "# 사용자에게 정확한 형식을 보여주기\n",
    "print(\"키를 미터 단위로 입력하세요 (예: 1.75)\")\n",
    "height = float(input(\"키: \"))\n",
    "print(f\"당신의 키는 {height}미터입니다\")"
   ]
  },
  {
   "cell_type": "markdown",
   "id": "d536900e",
   "metadata": {
    "lines_to_next_cell": 0
   },
   "source": [
    "#### 기법 3: 입력 확인하기"
   ]
  },
  {
   "cell_type": "code",
   "execution_count": null,
   "id": "67534159",
   "metadata": {},
   "outputs": [],
   "source": [
    "# 사용자가 입력한 내용을 보여주기\n",
    "name = input(\"전체 이름을 입력하세요: \")\n",
    "age = input(\"나이를 입력하세요: \")\n",
    "\n",
    "print(f\"\\n입력하신 정보:\")\n",
    "print(f\"이름: {name}\")\n",
    "print(f\"나이: {age}\")\n",
    "print(\"이 정보가 맞나요?\")"
   ]
  },
  {
   "cell_type": "markdown",
   "id": "e193c7cb",
   "metadata": {
    "lines_to_next_cell": 0
   },
   "source": [
    "### 사용자 입력 모범 사례\n",
    "- ✅ **예시와 함께 명확한 지시사항 제공**\n",
    "- ✅ **설명적인 프롬프트 사용**\n",
    "- ✅ **예상하는 형식 보여주기**\n",
    "- ✅ **다양한 입력으로 프로그램 테스트**\n",
    "\n",
    "---\n",
    "\n",
    "## 🔧 실습 문제\n",
    "\n",
    "### 실습 1: 간단한 자기소개 프로그램\n",
    "\n",
    "**문제**: 사용자의 기본 정보를 받아서 정리된 형태로 출력하는 프로그램을 만드세요.\n",
    "\n",
    "**요구사항**:\n",
    "- 이름, 나이, 사는 곳 질문\n",
    "- 정보를 정리해서 보기 좋게 출력\n",
    "- 간단한 계산 하나 포함\n",
    "\n",
    "**정답**:"
   ]
  },
  {
   "cell_type": "code",
   "execution_count": null,
   "id": "68b418e6",
   "metadata": {},
   "outputs": [],
   "source": [
    "# 간단한 자기소개 프로그램\n",
    "print(\"=== 자기소개 프로그램 ===\")\n",
    "\n",
    "# 사용자 정보 받기\n",
    "name = input(\"이름을 입력하세요: \")\n",
    "age = int(input(\"나이를 입력하세요: \"))\n",
    "city = input(\"사는 곳을 입력하세요: \")\n",
    "\n",
    "# 간단한 계산\n",
    "birth_year = 2024 - age\n",
    "\n",
    "# 정보 출력\n",
    "print(\"\\n--- 입력된 정보 ---\")\n",
    "print(f\"이름: {name}\")\n",
    "print(f\"나이: {age}세\")\n",
    "print(f\"거주지: {city}\")\n",
    "print(f\"태어난 해: {birth_year}년\")\n",
    "\n",
    "print(f\"\\n안녕하세요, {name}님! {city}에 사시는군요.\")"
   ]
  },
  {
   "cell_type": "markdown",
   "id": "62dd7569",
   "metadata": {
    "lines_to_next_cell": 0
   },
   "source": [
    "### 실습 2: 온도 변환 프로그램\n",
    "\n",
    "**문제**: 섭씨를 화씨로, 화씨를 섭씨로 변환하는 간단한 온도 변환기를 만드세요.\n",
    "\n",
    "**요구사항**:\n",
    "- 섭씨를 화씨로 변환\n",
    "- 화씨를 섭씨로 변환\n",
    "- 변환 공식 보여주기\n",
    "- 소수점 한 자리까지 표시\n",
    "\n",
    "**정답**:"
   ]
  },
  {
   "cell_type": "code",
   "execution_count": null,
   "id": "5dc242f2",
   "metadata": {},
   "outputs": [],
   "source": [
    "# 온도 변환 프로그램\n",
    "print(\"=== 온도 변환기 ===\")\n",
    "\n",
    "# 섭씨를 화씨로 변환\n",
    "print(\"\\n1. 섭씨 → 화씨 변환\")\n",
    "print(\"공식: °F = (°C × 9/5) + 32\")\n",
    "celsius = float(input(\"섭씨 온도를 입력하세요: \"))\n",
    "fahrenheit = (celsius * 9/5) + 32\n",
    "print(f\"결과: {celsius}°C = {fahrenheit:.1f}°F\")\n",
    "\n",
    "# 화씨를 섭씨로 변환\n",
    "print(\"\\n2. 화씨 → 섭씨 변환\")\n",
    "print(\"공식: °C = (°F - 32) × 5/9\")\n",
    "fahrenheit_input = float(input(\"화씨 온도를 입력하세요: \"))\n",
    "celsius_result = (fahrenheit_input - 32) * 5/9\n",
    "print(f\"결과: {fahrenheit_input}°F = {celsius_result:.1f}°C\")\n",
    "\n",
    "print(\"\\n온도 변환기를 사용해 주셔서 감사합니다!\")"
   ]
  },
  {
   "cell_type": "markdown",
   "id": "4f1315ea",
   "metadata": {
    "lines_to_next_cell": 0
   },
   "source": [
    "### 실습 3: BMI 계산기\n",
    "\n",
    "**문제**: 키와 몸무게를 입력받아 BMI를 계산하고 결과를 보여주는 프로그램을 만드세요.\n",
    "\n",
    "**요구사항**:\n",
    "- 이름, 키(cm), 몸무게(kg) 입력받기\n",
    "- BMI 계산하기 (BMI = 몸무게 / (키/100)²)\n",
    "- 계산 과정 보여주기\n",
    "- BMI 범주 안내하기\n",
    "\n",
    "**정답**:"
   ]
  },
  {
   "cell_type": "code",
   "execution_count": null,
   "id": "87dd6ecc",
   "metadata": {},
   "outputs": [],
   "source": [
    "# BMI 계산기\n",
    "print(\"=== BMI 계산기 ===\")\n",
    "\n",
    "# 사용자 정보 입력\n",
    "name = input(\"이름을 입력하세요: \")\n",
    "height_cm = float(input(\"키를 cm로 입력하세요: \"))\n",
    "weight = float(input(\"몸무게를 kg으로 입력하세요: \"))\n",
    "\n",
    "# 키를 미터로 변환\n",
    "height_m = height_cm / 100\n",
    "\n",
    "# BMI 계산\n",
    "bmi = weight / (height_m ** 2)\n",
    "\n",
    "# 결과 출력\n",
    "print(f\"\\n=== {name}님의 BMI 결과 ===\")\n",
    "print(f\"키: {height_cm}cm ({height_m:.2f}m)\")\n",
    "print(f\"몸무게: {weight}kg\")\n",
    "print(f\"\\nBMI 계산 과정:\")\n",
    "print(f\"BMI = {weight} ÷ ({height_m:.2f})²\")\n",
    "print(f\"BMI = {weight} ÷ {height_m**2:.4f}\")\n",
    "print(f\"BMI = {bmi:.1f}\")\n",
    "\n",
    "# BMI 범주 안내\n",
    "print(f\"\\n=== BMI 범주 ===\")\n",
    "print(\"• 저체중: 18.5 미만\")\n",
    "print(\"• 정상: 18.5 ~ 24.9\")\n",
    "print(\"• 과체중: 25.0 ~ 29.9\")\n",
    "print(\"• 비만: 30.0 이상\")\n",
    "\n",
    "print(f\"\\n{name}님의 BMI는 {bmi:.1f}입니다.\")"
   ]
  },
  {
   "cell_type": "markdown",
   "id": "31676157",
   "metadata": {},
   "source": [
    "---\n",
    "\n",
    "## 📝 퀴즈\n",
    "\n",
    "### 퀴즈 1: input() 함수 이해\n",
    "**문제**: 다음 코드가 실행될 때 어떤 일이 일어날까요? 변수 `user_number`는 어떤 데이터 타입을 갖게 될까요?"
   ]
  },
  {
   "cell_type": "code",
   "execution_count": null,
   "id": "0ed2d57f",
   "metadata": {},
   "outputs": [],
   "source": [
    "user_number = input(\"숫자를 입력하세요: \")\n",
    "print(type(user_number))"
   ]
  },
  {
   "cell_type": "markdown",
   "id": "65bdd063",
   "metadata": {},
   "source": [
    "**사용자가 `42`를 입력했을 때, 무엇이 출력될까요?**\n",
    "\n",
    "A) `<class 'int'>`  \n",
    "B) `<class 'float'>`  \n",
    "C) `<class 'str'>`  \n",
    "D) `<class 'number'>`\n",
    "\n",
    "**후속 질문**: input()이 이렇게 동작하는 이유를 설명하고, 수학 계산에 사용하려면 어떻게 변환해야 하는지 설명하세요.\n",
    "\n",
    "### 퀴즈 2: 고급 print() 포맷팅\n",
    "**문제**: 다음과 같은 **정확한** 출력을 만드는 코드를 작성하세요:\n",
    "\n",
    "```\n",
    "이름: 김철수 | 나이: 25 | 점수: 87.5%\n",
    "로딩중... 완료!\n",
    "```\n",
    "\n",
    "**요구사항**:\n",
    "- 변수 사용: `name = \"김철수\"`, `age = 25`, `score = 87.5`\n",
    "- 첫 번째 줄에서 `sep` 매개변수 사용\n",
    "- 두 번째 줄에서 `end` 매개변수 사용\n",
    "- 점수에 퍼센트 기호 표시\n",
    "- **두 개의 print문만** 사용\n",
    "\n",
    "### 퀴즈 3: 데이터 타입 변환 도전\n",
    "**문제**: 사람이 하루에 얼마나 절약하는지 계산하는 프로그램을 완성하세요. 빈 칸을 채우세요:"
   ]
  },
  {
   "cell_type": "code",
   "execution_count": null,
   "id": "42631963",
   "metadata": {},
   "outputs": [],
   "source": [
    "print(\"개인 저축 계산기\")\n",
    "\n",
    "# 사용자 입력 받기\n",
    "name = input(\"이름을 입력하세요: \")\n",
    "monthly_salary = ________________  # float로 변환\n",
    "monthly_expenses = _______________  # float로 변환\n",
    "days_in_month = ________________  # int로 변환\n",
    "\n",
    "# 저축액 계산\n",
    "monthly_savings = monthly_salary - monthly_expenses\n",
    "daily_savings = monthly_savings / days_in_month\n",
    "\n",
    "# 결과 출력\n",
    "print(\"=\"*40)\n",
    "print(f\"{name}님의 저축 보고서\")\n",
    "print(\"=\"*40)\n",
    "print(f\"월 급여: {monthly_salary:.2f}원\")\n",
    "print(f\"월 지출: {monthly_expenses:.2f}원\")\n",
    "print(f\"월 저축: {monthly_savings:.2f}원\")\n",
    "print(f\"일 저축: {daily_savings:.2f}원\")"
   ]
  },
  {
   "cell_type": "markdown",
   "id": "3b6984ba",
   "metadata": {},
   "source": [
    "**각 빈 칸에 올바른 input() 함수와 변환 함수를 포함하여 무엇이 들어가야 할까요?**\n",
    "\n",
    "---\n",
    "\n",
    "## 📖 참고 자료\n",
    "\n",
    "1. **파이썬 공식 문서 - 입출력**: https://docs.python.org/ko/3/tutorial/inputoutput.html\n",
    "   - 파이썬 I/O 작업에 대한 종합 가이드\n",
    "\n",
    "2. **점프 투 파이썬 - 사용자 입력과 출력**: https://wikidocs.net/23\n",
    "   - 한국어로 된 실용적인 예제와 모범 사례\n",
    "\n",
    "3. **파이썬 예외 처리 튜토리얼**: https://docs.python.org/ko/3/tutorial/errors.html\n",
    "   - 파이썬 오류 처리 공식 가이드\n",
    "\n",
    "4. **코딩 도장 - 입력과 출력**: https://dojang.io/mod/page/view.php?id=2176\n",
    "   - 실제 입력 검증 기법\n",
    "\n",
    "---\n",
    "\n",
    "## 💡 성공을 위한 추가 팁\n",
    "\n",
    "### 한국 학생들을 위한 조언\n",
    "- **매일 연습**: 매일 대화형 프로그램 하나씩 만들어보기\n",
    "- **극단적인 경우 테스트**: 항상 비정상적인 입력으로 테스트\n",
    "- **영어 용어 익히기**: 프로그래밍 용어를 영어로도 알아두기\n",
    "- **단순하게 시작**: 복잡한 기능을 추가하기 전에 기본 I/O부터 시작\n",
    "\n",
    "### 피해야 할 일반적인 실수\n",
    "- **데이터 타입 변환 잊기**: `input()`이 문자열을 반환한다는 것을 기억\n",
    "- **나쁜 사용자 프롬프트**: 프롬프트를 명확하고 도움이 되도록 만들기\n",
    "- **다양한 입력으로 테스트하지 않기**: 프로그램을 철저히 테스트\n",
    "- **과도한 복잡화**: 프로그램을 단순하고 집중적으로 유지\n",
    "\n",
    "### 디버깅 팁\n",
    "- **변수 타입 출력**: `print(type(변수))`를 사용하여 데이터 타입 확인\n",
    "- **단계별 테스트**: 프로그램의 각 부분을 별도로 테스트\n",
    "- **설명적인 변수명 사용**: `user_age`가 `x`보다 좋음\n",
    "\n",
    "### 실제 활용 예시\n",
    "- **양식과 설문조사**: 대부분의 웹사이트가 유사한 입출력 개념 사용\n",
    "- **ATM 기계**: 은행 소프트웨어는 사용자 입력 검증에 크게 의존\n",
    "- **게임 인터페이스**: 비디오 게임은 지속적으로 플레이어와 상호작용\n",
    "- **모바일 앱**: 앱 인터페이스는 본질적으로 고급 I/O 시스템\n",
    "\n",
    "---\n",
    "\n",
    "## 📋 숙제\n",
    "\n",
    "### 연습 문제\n",
    "1. **나이 계산기**: 누군가가 며칠 살았는지 계산하는 프로그램 만들기\n",
    "\n",
    "2. **이야기 생성기**: 사용자 이름, 좋아하는 동물, 색깔을 물어보고 짧은 이야기 만들기\n",
    "\n",
    "3. **쇼핑 계산기**: 여러 항목의 세금 포함 총 비용 계산하기\n",
    "\n",
    "### 도전 문제\n",
    "**\"개인 정보 관리자\" 프로그램** 만들기:\n",
    "- 종합적인 개인 정보 수집 (이름, 나이, 연락처 정보 등)\n",
    "- 다양한 계산 수행 (일수로 계산한 나이, 은퇴까지 남은 년수 등)\n",
    "- 모든 정보를 체계적이고 전문적인 방식으로 포맷 및 표시\n",
    "- 필요에 따라 다양한 단위 간 변환 (키, 몸무게 등)\n",
    "- 투명성을 위한 상세한 계산 단계 표시\n",
    "\n",
    "**프로그래밍 여정에 행운을 빕니다!** 🚀"
   ]
  }
 ],
 "metadata": {
  "jupytext": {
   "cell_metadata_filter": "-all",
   "main_language": "python",
   "notebook_metadata_filter": "-all"
  }
 },
 "nbformat": 4,
 "nbformat_minor": 5
}
