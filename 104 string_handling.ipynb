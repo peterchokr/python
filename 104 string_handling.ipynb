{
 "cells": [
  {
   "cell_type": "markdown",
   "id": "281f366f",
   "metadata": {},
   "source": [
    "# 문자열 다루기 (String Handling)\n",
    "\n",
    "**수업 시간**: 3시간  \n",
    "**구성**: 강의 및 실습 2시간 + 퀴즈 1시간  \n",
    "**수준**: 초급\n",
    "\n",
    "---\n",
    "\n",
    "## 🎯 학습 목표\n",
    "\n",
    "이 수업을 마친 후 학생들은 다음을 할 수 있습니다:\n",
    "\n",
    "- 다양한 방법으로 문자열(String) 생성 및 조작하기\n",
    "- 인덱싱(Indexing)과 슬라이싱(Slicing)을 사용하여 개별 문자와 문자열 부분 접근하기\n",
    "- 문자열 메소드(String Method)를 사용하여 텍스트 변환 및 분석하기\n",
    "- f-문자열(f-string)과 format() 메소드를 사용하여 문자열 형식화하기\n",
    "- 실용적인 텍스트 처리 문제 해결하기\n",
    "\n",
    "---\n",
    "\n",
    "## 📝 1. 문자열이란 무엇인가?\n",
    "\n",
    "### 정의\n",
    "\n",
    "**문자열(String)**은 따옴표로 둘러싸인 문자들(글자, 숫자, 기호, 공백)의 연속입니다.\n",
    "\n",
    "### 문자열 생성"
   ]
  },
  {
   "cell_type": "code",
   "execution_count": null,
   "id": "b28c1cbd",
   "metadata": {},
   "outputs": [],
   "source": [
    "# 문자열 생성 방법들\n",
    "name = \"김철수\"                    # 겹따옴표\n",
    "country = '대한민국'               # 홑따옴표\n",
    "message = \"안녕하세요!\"            # 구두점 포함\n",
    "empty_string = \"\"                 # 빈 문자열\n",
    "\n",
    "# 여러 줄 문자열\n",
    "address = \"\"\"대구광역시 남구\n",
    "영남이공대학교\n",
    "소프트웨어융합과\"\"\"\n",
    "\n",
    "print(name)\n",
    "print(country)\n",
    "print(message)\n",
    "print(address)"
   ]
  },
  {
   "cell_type": "markdown",
   "id": "2a5df997",
   "metadata": {},
   "source": [
    "### 문자열 특성"
   ]
  },
  {
   "cell_type": "code",
   "execution_count": null,
   "id": "0804b228",
   "metadata": {},
   "outputs": [],
   "source": [
    "# 문자열은 연속체입니다\n",
    "text = \"Python\"\n",
    "print(f\"텍스트: {text}\")\n",
    "print(f\"길이: {len(text)}\")        # 6개 문자\n",
    "print(f\"타입: {type(text)}\")       # <class 'str'>\n",
    "\n",
    "# 문자열은 불변입니다\n",
    "original = \"안녕\"\n",
    "print(f\"원본: {original}\")\n",
    "# original[0] = \"하\"  # 이것은 오류를 발생시킵니다!\n",
    "\n",
    "# 하지만 새 문자열은 만들 수 있습니다\n",
    "modified = original.upper()\n",
    "print(f\"수정됨: {modified}\")       # 안녕 (한글은 대소문자 구분 없음)\n",
    "print(f\"원본 변경 안됨: {original}\")  # 안녕"
   ]
  },
  {
   "cell_type": "markdown",
   "id": "5bc8a6ca",
   "metadata": {},
   "source": [
    "---\n",
    "\n",
    "## 🔍 2. 문자열 인덱싱\n",
    "\n",
    "### 인덱스 이해하기\n",
    "\n",
    "문자열을 각각 번호가 있는 우편함 줄로 생각해보세요!"
   ]
  },
  {
   "cell_type": "code",
   "execution_count": null,
   "id": "3674ab96",
   "metadata": {},
   "outputs": [],
   "source": [
    "text = \"Python\"\n",
    "#       P  y  t  h  o  n\n",
    "#       0  1  2  3  4  5    (양수 인덱싱)\n",
    "#      -6 -5 -4 -3 -2 -1    (음수 인덱싱)\n",
    "\n",
    "print(\"문자열:\", text)\n",
    "print(\"길이:\", len(text))\n",
    "print()\n",
    "\n",
    "# 양수 인덱싱\n",
    "print(\"양수 인덱싱:\")\n",
    "print(f\"첫 번째 문자: text[0] = '{text[0]}'\")      # P\n",
    "print(f\"두 번째 문자: text[1] = '{text[1]}'\")      # y\n",
    "print(f\"마지막 문자: text[5] = '{text[5]}'\")       # n\n",
    "print()\n",
    "\n",
    "# 음수 인덱싱\n",
    "print(\"음수 인덱싱:\")\n",
    "print(f\"마지막 문자: text[-1] = '{text[-1]}'\")     # n\n",
    "print(f\"뒤에서 두 번째: text[-2] = '{text[-2]}'\")   # o\n",
    "print(f\"첫 번째 문자: text[-6] = '{text[-6]}'\")    # P"
   ]
  },
  {
   "cell_type": "markdown",
   "id": "fcb75f89",
   "metadata": {},
   "source": [
    "### 실용적 예시"
   ]
  },
  {
   "cell_type": "code",
   "execution_count": null,
   "id": "d8333818",
   "metadata": {},
   "outputs": [],
   "source": [
    "# 이름 분석\n",
    "full_name = \"김철수\"\n",
    "print(f\"전체 이름: {full_name}\")\n",
    "print(f\"첫 번째 글자: {full_name[0]}\")               # 김\n",
    "print(f\"마지막 글자: {full_name[-1]}\")               # 수\n",
    "print(f\"가운데 글자: {full_name[len(full_name)//2]}\")  # 철\n",
    "\n",
    "# 이메일 분석\n",
    "email = \"student@ync.ac.kr\"\n",
    "print(f\"\\n이메일: {email}\")\n",
    "print(f\"첫 번째 문자: {email[0]}\")                # s\n",
    "print(f\"마지막 문자: {email[-1]}\")                # r\n",
    "print(f\"8번째 위치 문자: {email[7]}\")             # @"
   ]
  },
  {
   "cell_type": "markdown",
   "id": "b3ce7a92",
   "metadata": {},
   "source": [
    "---\n",
    "\n",
    "## ✂️ 3. 문자열 슬라이싱\n",
    "\n",
    "### 기본 슬라이싱 문법\n",
    "\n",
    "**문법**: `string[start:end:step]`\n",
    "- `start`: 시작 인덱스 (포함)\n",
    "- `end`: 끝 인덱스 (제외)\n",
    "- `step`: 단계 크기 (기본값 1)"
   ]
  },
  {
   "cell_type": "code",
   "execution_count": null,
   "id": "c9d8f14d",
   "metadata": {},
   "outputs": [],
   "source": [
    "text = \"프로그래밍\"\n",
    "#       프 로 그 래 밍\n",
    "#       0  1  2  3  4\n",
    "\n",
    "print(f\"원본 텍스트: {text}\")\n",
    "print()\n",
    "\n",
    "# 기본 슬라이싱\n",
    "print(\"기본 슬라이싱:\")\n",
    "print(f\"text[0:2] = '{text[0:2]}'\")     # '프로' (0,1)\n",
    "print(f\"text[1:3] = '{text[1:3]}'\")     # '로그' (1,2)\n",
    "print(f\"text[2:4] = '{text[2:4]}'\")     # '그래' (2,3)\n",
    "print()\n",
    "\n",
    "# 시작이나 끝 생략\n",
    "print(\"시작이나 끝 생략:\")\n",
    "print(f\"text[:2] = '{text[:2]}'\")       # '프로' (처음부터)\n",
    "print(f\"text[2:] = '{text[2:]}'\")       # '그래밍' (끝까지)\n",
    "print(f\"text[:] = '{text[:]}'\")         # '프로그래밍' (전체 문자열)\n",
    "print()\n",
    "\n",
    "# 음수 인덱스\n",
    "print(\"음수 인덱스:\")\n",
    "print(f\"text[-2:] = '{text[-2:]}'\")     # '래밍' (마지막 2글자)\n",
    "print(f\"text[:-2] = '{text[:-2]}'\")     # '프로그' (마지막 2글자 제외)"
   ]
  },
  {
   "cell_type": "markdown",
   "id": "1ad64750",
   "metadata": {},
   "source": [
    "### 고급 슬라이싱"
   ]
  },
  {
   "cell_type": "code",
   "execution_count": null,
   "id": "7217138c",
   "metadata": {},
   "outputs": [],
   "source": [
    "text = \"Hello World\"\n",
    "print(f\"텍스트: {text}\")\n",
    "print()\n",
    "\n",
    "# 단계 사용\n",
    "print(\"단계 사용:\")\n",
    "print(f\"2번째마다: text[::2] = '{text[::2]}'\")     # 'HloWrd'\n",
    "print(f\"3번째마다: text[::3] = '{text[::3]}'\")     # 'HlWl'\n",
    "print()\n",
    "\n",
    "# 문자열 뒤집기\n",
    "print(\"뒤집기:\")\n",
    "print(f\"역순: text[::-1] = '{text[::-1]}'\")              # 'dlroW olleH'"
   ]
  },
  {
   "cell_type": "markdown",
   "id": "a20f8729",
   "metadata": {},
   "source": [
    "### 실용적 응용"
   ]
  },
  {
   "cell_type": "code",
   "execution_count": null,
   "id": "5b04d314",
   "metadata": {},
   "outputs": [],
   "source": [
    "# 전화번호 분석\n",
    "phone_number = \"010-1234-5678\"\n",
    "area_code = phone_number[0:3]\n",
    "middle_part = phone_number[4:8]\n",
    "last_part = phone_number[9:13]\n",
    "\n",
    "print(\"전화번호 분석:\")\n",
    "print(f\"전체 번호: {phone_number}\")\n",
    "print(f\"지역 코드: {area_code}\")\n",
    "print(f\"중간 번호: {middle_part}\")\n",
    "print(f\"마지막 번호: {last_part}\")\n",
    "print()\n",
    "\n",
    "# 날짜 추출\n",
    "date_string = \"2024-03-15\"\n",
    "year = date_string[0:4]\n",
    "month = date_string[5:7]\n",
    "day = date_string[8:10]\n",
    "\n",
    "print(\"날짜 분석:\")\n",
    "print(f\"전체 날짜: {date_string}\")\n",
    "print(f\"년도: {year}\")\n",
    "print(f\"월: {month}\")\n",
    "print(f\"일: {day}\")"
   ]
  },
  {
   "cell_type": "markdown",
   "id": "f5a4fe23",
   "metadata": {},
   "source": [
    "---\n",
    "\n",
    "## 🛠️ 4. 문자열 메소드\n",
    "\n",
    "문자열 메소드는 문자열을 조작하고 분석하는 데 도움이 되는 내장 함수들입니다.\n",
    "\n",
    "### 4.1 대소문자 변환 메소드"
   ]
  },
  {
   "cell_type": "code",
   "execution_count": null,
   "id": "11b492e2",
   "metadata": {},
   "outputs": [],
   "source": [
    "text = \"Hello World Python\"\n",
    "print(f\"원본: {text}\")\n",
    "print()\n",
    "\n",
    "# 대소문자 변환\n",
    "print(\"대소문자 변환:\")\n",
    "print(f\"대문자: {text.upper()}\")           # HELLO WORLD PYTHON\n",
    "print(f\"소문자: {text.lower()}\")           # hello world python\n",
    "print(f\"제목 형태: {text.title()}\")        # Hello World Python\n",
    "print(f\"첫 글자만 대문자: {text.capitalize()}\")  # Hello world python\n",
    "print()\n",
    "\n",
    "# 대소문자 확인\n",
    "print(\"대소문자 확인:\")\n",
    "print(f\"대문자인가: {text.isupper()}\")       # False\n",
    "print(f\"소문자인가: {text.islower()}\")       # False\n",
    "print(f\"제목 형태인가: {text.istitle()}\")    # True"
   ]
  },
  {
   "cell_type": "markdown",
   "id": "9ded25d8",
   "metadata": {},
   "source": [
    "### 4.2 공백 처리 메소드"
   ]
  },
  {
   "cell_type": "code",
   "execution_count": null,
   "id": "7170fa77",
   "metadata": {},
   "outputs": [],
   "source": [
    "messy_text = \"   안녕 파이썬   \"\n",
    "print(f\"원본: '{messy_text}'\")\n",
    "print()\n",
    "\n",
    "# 공백 제거\n",
    "print(\"공백 제거:\")\n",
    "print(f\"양쪽 공백 제거: '{messy_text.strip()}'\")         # '안녕 파이썬'\n",
    "print(f\"왼쪽 공백 제거: '{messy_text.lstrip()}'\")        # '안녕 파이썬   '\n",
    "print(f\"오른쪽 공백 제거: '{messy_text.rstrip()}'\")       # '   안녕 파이썬'"
   ]
  },
  {
   "cell_type": "markdown",
   "id": "e632df4b",
   "metadata": {},
   "source": [
    "### 4.3 검색 및 교체 메소드"
   ]
  },
  {
   "cell_type": "code",
   "execution_count": null,
   "id": "a2adbaf9",
   "metadata": {},
   "outputs": [],
   "source": [
    "sentence = \"파이썬은 훌륭하고 파이썬은 강력합니다\"\n",
    "print(f\"원본: {sentence}\")\n",
    "print()\n",
    "\n",
    "# 텍스트 찾기\n",
    "print(\"텍스트 찾기:\")\n",
    "print(f\"'파이썬' 찾기: {sentence.find('파이썬')}\")         # 0 (첫 번째 출현)\n",
    "print(f\"'훌륭' 찾기: {sentence.find('훌륭')}\")           # 4\n",
    "print(f\"'자바' 찾기: {sentence.find('자바')}\")            # -1 (찾을 수 없음)\n",
    "print()\n",
    "\n",
    "# 출현 횟수 세기\n",
    "print(\"출현 횟수:\")\n",
    "print(f\"'파이썬' 개수: {sentence.count('파이썬')}\")       # 2\n",
    "print(f\"'은' 개수: {sentence.count('은')}\")             # 2\n",
    "print()\n",
    "\n",
    "# 텍스트 교체\n",
    "print(\"텍스트 교체:\")\n",
    "print(f\"'파이썬'을 '자바'로: {sentence.replace('파이썬', '자바')}\")\n",
    "print(f\"원본 변경 안됨: {sentence}\")"
   ]
  },
  {
   "cell_type": "markdown",
   "id": "a66cf60b",
   "metadata": {},
   "source": [
    "### 4.4 내용 확인 메소드"
   ]
  },
  {
   "cell_type": "code",
   "execution_count": null,
   "id": "edf43838",
   "metadata": {},
   "outputs": [],
   "source": [
    "# 다양한 타입의 문자열\n",
    "text1 = \"Hello123\"\n",
    "text2 = \"12345\"\n",
    "text3 = \"Hello\"\n",
    "text4 = \"hello world\"\n",
    "\n",
    "print(\"내용 확인:\")\n",
    "print(f\"'{text1}' 영숫자인가: {text1.isalnum()}\")     # True\n",
    "print(f\"'{text2}' 숫자인가: {text2.isdigit()}\")       # True\n",
    "print(f\"'{text3}' 문자인가: {text3.isalpha()}\")       # True\n",
    "print(f\"'{text4}' 공백 포함: {' ' in text4}\")         # True\n",
    "print()\n",
    "\n",
    "# 문자열 속성 확인\n",
    "email = \"user@ync.ac.kr\"\n",
    "print(\"이메일 분석:\")\n",
    "print(f\"'@' 포함: {'@' in email}\")                     # True\n",
    "print(f\"'user'로 시작: {email.startswith('user')}\")    # True\n",
    "print(f\"'.kr'로 끝남: {email.endswith('.kr')}\")        # True\n",
    "print(f\"'.com'으로 끝남: {email.endswith('.com')}\")    # False"
   ]
  },
  {
   "cell_type": "markdown",
   "id": "afa73426",
   "metadata": {},
   "source": [
    "---\n",
    "\n",
    "## 🎨 5. 문자열 형식화\n",
    "\n",
    "문자열 형식화를 통해 변수와 값을 삽입하여 동적 문자열을 만들 수 있습니다.\n",
    "\n",
    "### 5.1 f-문자열 형식화\n",
    "\n",
    "**f-문자열**은 파이썬에서 문자열을 형식화하는 현대적이고 선호되는 방법입니다!"
   ]
  },
  {
   "cell_type": "code",
   "execution_count": null,
   "id": "cbc4625a",
   "metadata": {},
   "outputs": [],
   "source": [
    "# 기본 f-문자열 사용\n",
    "name = \"김영수\"\n",
    "age = 22\n",
    "height = 175.5\n",
    "\n",
    "print(\"기본 f-문자열:\")\n",
    "print(f\"안녕하세요, 제 이름은 {name}입니다\")\n",
    "print(f\"저는 {age}세입니다\")\n",
    "print(f\"제 키는 {height}cm입니다\")\n",
    "print()\n",
    "\n",
    "# f-문자열에서 표현식\n",
    "print(\"f-문자열에서 표현식:\")\n",
    "print(f\"내년에는 {age + 1}세가 됩니다\")\n",
    "print(f\"키를 미터로: {height / 100:.2f}m\")\n",
    "print(f\"이름을 대문자로: {name.upper()}\")\n",
    "print()\n",
    "\n",
    "# 여러 변수\n",
    "first_name = \"김\"\n",
    "last_name = \"영수\"\n",
    "school = \"영남이공대학교\"\n",
    "\n",
    "print(\"여러 변수:\")\n",
    "print(f\"전체 이름: {first_name}{last_name}\")\n",
    "print(f\"저는 {school}의 {first_name}{last_name}입니다\")"
   ]
  },
  {
   "cell_type": "markdown",
   "id": "33659ff6",
   "metadata": {},
   "source": [
    "### 5.2 고급 f-문자열 형식화"
   ]
  },
  {
   "cell_type": "code",
   "execution_count": null,
   "id": "260f0f5a",
   "metadata": {},
   "outputs": [],
   "source": [
    "# 숫자 형식화\n",
    "price = 29990\n",
    "quantity = 3\n",
    "total = price * quantity\n",
    "\n",
    "print(\"숫자 형식화:\")\n",
    "print(f\"가격: {price:,}원\")                    # 29,990원 (천 단위 구분)\n",
    "print(f\"수량: {quantity}개\")                   # 3개\n",
    "print(f\"총액: {total:,}원\")                    # 89,970원\n",
    "print()\n",
    "\n",
    "# 백분율 형식화\n",
    "score = 85\n",
    "total_score = 100\n",
    "percentage = score / total_score\n",
    "\n",
    "print(\"백분율 형식화:\")\n",
    "print(f\"점수: {score}/{total_score}\")\n",
    "print(f\"백분율: {percentage:.1%}\")           # 85.0%"
   ]
  },
  {
   "cell_type": "markdown",
   "id": "5e240e30",
   "metadata": {},
   "source": [
    "### 5.3 .format() 메소드"
   ]
  },
  {
   "cell_type": "code",
   "execution_count": null,
   "id": "85184ad1",
   "metadata": {},
   "outputs": [],
   "source": [
    "# 기본 .format() 사용\n",
    "template = \"안녕하세요, 제 이름은 {}이고 {}세입니다\"\n",
    "result = template.format(\"김철수\", 25)\n",
    "print(\"기본 .format():\")\n",
    "print(result)\n",
    "print()\n",
    "\n",
    "# 이름이 있는 자리표시자\n",
    "template2 = \"안녕하세요, 제 이름은 {name}이고 {age}세입니다\"\n",
    "result2 = template2.format(name=\"박영희\", age=23)\n",
    "print(\"이름이 있는 자리표시자:\")\n",
    "print(result2)"
   ]
  },
  {
   "cell_type": "markdown",
   "id": "4ab5a536",
   "metadata": {
    "lines_to_next_cell": 0
   },
   "source": [
    "---\n",
    "\n",
    "## 🔧 실습\n",
    "\n",
    "### 실습 1: 간단한 텍스트 처리\n",
    "\n",
    "**문제**: 사용자 정보를 처리하고 다양한 형식으로 표시하는 프로그램을 만드세요.\n",
    "\n",
    "**해답**:"
   ]
  },
  {
   "cell_type": "code",
   "execution_count": null,
   "id": "8c4889aa",
   "metadata": {},
   "outputs": [],
   "source": [
    "# 간단한 텍스트 처리 프로그램\n",
    "print(\"📝 텍스트 처리 프로그램\")\n",
    "\n",
    "# 샘플 데이터\n",
    "raw_name = \"  김 영 수  \"\n",
    "raw_email = \"YOUNGSOO.KIM@YNC.AC.KR\"\n",
    "\n",
    "print(\"원본 데이터:\")\n",
    "print(f\"이름: '{raw_name}'\")\n",
    "print(f\"이메일: '{raw_email}'\")\n",
    "print()\n",
    "\n",
    "# 데이터 정리\n",
    "clean_name = raw_name.strip().replace(\" \", \"\")\n",
    "clean_email = raw_email.lower()\n",
    "first_name = clean_name[0]\n",
    "last_name = clean_name[1:]\n",
    "\n",
    "print(\"정리된 데이터:\")\n",
    "print(f\"정리된 이름: {clean_name}\")\n",
    "print(f\"정리된 이메일: {clean_email}\")\n",
    "print(f\"성: {first_name}\")\n",
    "print(f\"이름: {last_name}\")\n",
    "print()\n",
    "\n",
    "# 형식화된 출력\n",
    "print(\"형식화된 출력:\")\n",
    "print(f\"정식: {first_name}{last_name}님\")\n",
    "print(f\"친근하게: {last_name}씨 안녕하세요!\")\n",
    "print(f\"연락처: {clean_name} ({clean_email})\")"
   ]
  },
  {
   "cell_type": "markdown",
   "id": "06888a50",
   "metadata": {
    "lines_to_next_cell": 0
   },
   "source": [
    "### 실습 2: 이메일 주소 분석기\n",
    "\n",
    "**문제**: 이메일 주소의 여러 부분을 추출하고 분석하는 프로그램을 만드세요.\n",
    "\n",
    "**해답**:"
   ]
  },
  {
   "cell_type": "code",
   "execution_count": null,
   "id": "cb52ff51",
   "metadata": {},
   "outputs": [],
   "source": [
    "# 이메일 주소 분석기\n",
    "print(\"📧 이메일 주소 분석기\")\n",
    "\n",
    "# 샘플 이메일들\n",
    "email1 = \"john.smith@gmail.com\"\n",
    "email2 = \"student123@ync.ac.kr\" \n",
    "\n",
    "# 첫 번째 이메일 분석\n",
    "print(f\"이메일 1: {email1}\")\n",
    "at_position1 = email1.find('@')\n",
    "username1 = email1[:at_position1]\n",
    "domain1 = email1[at_position1 + 1:]\n",
    "\n",
    "print(f\"  사용자명: {username1}\")\n",
    "print(f\"  도메인: {domain1}\")\n",
    "print(f\"  사용자명에 점 포함: {'.' in username1}\")\n",
    "print()\n",
    "\n",
    "# 두 번째 이메일 분석\n",
    "print(f\"이메일 2: {email2}\")\n",
    "at_position2 = email2.find('@')\n",
    "username2 = email2[:at_position2]\n",
    "domain2 = email2[at_position2 + 1:]\n",
    "\n",
    "print(f\"  사용자명: {username2}\")\n",
    "print(f\"  도메인: {domain2}\")\n",
    "print(f\"  영남이공대학교 이메일: {domain2.endswith('.ac.kr')}\")\n",
    "print()\n",
    "\n",
    "# 유효성 검사\n",
    "print(\"유효성 검사:\")\n",
    "\n",
    "# 이메일 1 검사\n",
    "has_at1 = '@' in email1\n",
    "has_dot1 = '.' in email1\n",
    "at_count1 = email1.count('@')\n",
    "print(f\"이메일 1: 기본 형식 OK - {has_at1 and has_dot1 and at_count1 == 1}\")\n",
    "\n",
    "# 이메일 2 검사\n",
    "has_at2 = '@' in email2\n",
    "has_dot2 = '.' in email2\n",
    "at_count2 = email2.count('@')\n",
    "print(f\"이메일 2: 기본 형식 OK - {has_at2 and has_dot2 and at_count2 == 1}\")"
   ]
  },
  {
   "cell_type": "markdown",
   "id": "c7409ba9",
   "metadata": {
    "lines_to_next_cell": 0
   },
   "source": [
    "### 실습 3: 간단한 패스워드 검사\n",
    "\n",
    "**문제**: 패스워드의 기본적인 강도를 검사하는 프로그램을 만드세요.\n",
    "\n",
    "**해답**:"
   ]
  },
  {
   "cell_type": "code",
   "execution_count": null,
   "id": "76049a29",
   "metadata": {},
   "outputs": [],
   "source": [
    "# 간단한 패스워드 검사\n",
    "print(\"🔒 패스워드 강도 검사\")\n",
    "\n",
    "# 테스트할 패스워드들\n",
    "password1 = \"password\"\n",
    "password2 = \"Password123\"\n",
    "password3 = \"MyStr0ngP@ss!\"\n",
    "\n",
    "# 패스워드 1 분석\n",
    "print(f\"패스워드 1: '{password1}'\")\n",
    "length1 = len(password1)\n",
    "has_upper1 = password1 != password1.lower()\n",
    "has_digit1 = not password1.isalpha()\n",
    "\n",
    "print(f\"  길이: {length1}자\")\n",
    "print(f\"  대문자 포함: {has_upper1}\")\n",
    "print(f\"  숫자 포함: {has_digit1}\")\n",
    "print(f\"  강도: 약함\")\n",
    "print()\n",
    "\n",
    "# 패스워드 2 분석\n",
    "print(f\"패스워드 2: '{password2}'\")\n",
    "length2 = len(password2)\n",
    "has_upper2 = password2 != password2.lower()\n",
    "has_digit2 = not password2.isalpha()\n",
    "\n",
    "print(f\"  길이: {length2}자\")\n",
    "print(f\"  대문자 포함: {has_upper2}\")\n",
    "print(f\"  숫자 포함: {has_digit2}\")\n",
    "print(f\"  강도: 보통\")"
   ]
  },
  {
   "cell_type": "markdown",
   "id": "57b40c3b",
   "metadata": {
    "lines_to_next_cell": 0
   },
   "source": [
    "---\n",
    "\n",
    "## 📝 퀴즈\n",
    "\n",
    "### 퀴즈 1: 문자열 인덱싱\n",
    "\n",
    "**문제**: 문자열 \"Hello\"에서 첫 번째 문자를 추출하여 출력하는 코드를 작성하세요.\n",
    "\n",
    "**답을 여기에 작성하세요**:"
   ]
  },
  {
   "cell_type": "code",
   "execution_count": null,
   "id": "21aaa840",
   "metadata": {},
   "outputs": [],
   "source": [
    "# 여기에 코드를 작성하세요:\n",
    "\n",
    "\n",
    "\n"
   ]
  },
  {
   "cell_type": "markdown",
   "id": "f4607dc5",
   "metadata": {
    "lines_to_next_cell": 0
   },
   "source": [
    "### 퀴즈 2: 문자열 메소드\n",
    "\n",
    "**문제**: 문자열 \"  Python Programming  \"이 주어졌을 때, 공백을 제거하고 모든 문자를 대문자로 변환하는 코드를 작성하세요.\n",
    "\n",
    "**답을 여기에 작성하세요**:"
   ]
  },
  {
   "cell_type": "code",
   "execution_count": null,
   "id": "e6df1a1a",
   "metadata": {},
   "outputs": [],
   "source": [
    "text = \"  Python Programming  \"\n",
    "\n",
    "# 여기에 코드를 작성하세요:\n",
    "\n",
    "\n",
    "\n"
   ]
  },
  {
   "cell_type": "markdown",
   "id": "089dade2",
   "metadata": {
    "lines_to_next_cell": 0
   },
   "source": [
    "### 퀴즈 3: f-문자열 형식화\n",
    "\n",
    "**문제**: 사람의 이름과 나이를 받아서 f-문자열을 사용하여 \"안녕하세요, 제 이름은 [이름]이고 [나이]세입니다.\"를 출력하는 프로그램을 작성하세요.\n",
    "\n",
    "**답을 여기에 작성하세요**:"
   ]
  },
  {
   "cell_type": "code",
   "execution_count": null,
   "id": "00395ba5",
   "metadata": {},
   "outputs": [],
   "source": [
    "# 여기에 코드를 작성하세요:\n",
    "\n",
    "\n",
    "\n"
   ]
  },
  {
   "cell_type": "markdown",
   "id": "e2d48c68",
   "metadata": {},
   "source": [
    "---\n",
    "\n",
    "## 📖 참고 자료\n",
    "\n",
    "1. **파이썬 문자열 메소드**: https://docs.python.org/ko/3/library/stdtypes.html#string-methods\n",
    "   - 모든 문자열 메소드의 완전한 목록과 예시\n",
    "\n",
    "2. **파이썬 문자열 형식화**: https://realpython.com/python-f-strings/\n",
    "   - f-문자열과 문자열 형식화의 종합 가이드\n",
    "\n",
    "3. **문자열 처리 튜토리얼**: https://www.w3schools.com/python/python_strings.asp\n",
    "   - 문자열 조작을 위한 대화형 예시와 연습\n",
    "\n",
    "4. **점프 투 파이썬 - 문자열**: https://wikidocs.net/13\n",
    "   - 한국어로 된 파이썬 문자열 설명\n",
    "\n",
    "---\n",
    "\n",
    "## 💡 성공을 위한 추가 팁\n",
    "\n",
    "### 효과적인 학습 방법\n",
    "- **실제 데이터로 연습**: 본인의 이름, 이메일, 전화번호를 사용한 연습\n",
    "- **인덱싱 기억**: 파이썬은 1이 아닌 0부터 세기 시작\n",
    "- **문자열 불변성**: 문자열은 변경할 수 없고, 새 문자열만 생성 가능\n",
    "- **메소드 체이닝**: 여러 메소드를 연결하여 사용 가능\n",
    "\n",
    "### 피해야 할 일반적인 실수\n",
    "- **인덱스 범위 초과**: 인덱스 접근 전 항상 문자열 길이 확인\n",
    "- **문자열 vs 숫자**: \"123\"과 123은 다름을 기억\n",
    "- **대소문자 구분**: \"Hello\"와 \"hello\"는 다른 문자열\n",
    "- **슬라이싱 범위**: end 인덱스는 포함되지 않음\n",
    "\n",
    "### 연습 제안\n",
    "- **실제 텍스트 처리**: 가사, 책 제목, 뉴스 헤드라인 분석\n",
    "- **템플릿 생성**: 다양한 목적을 위한 재사용 가능한 메시지 템플릿\n",
    "- **텍스트 정리**: 다양한 소스의 지저분한 텍스트 데이터 정리\n",
    "- **한글 처리**: 한글 특성을 고려한 텍스트 처리 연습\n",
    "\n",
    "### 실용적 활용\n",
    "- **데이터 정리**: 입력 데이터의 공백, 대소문자 정리\n",
    "- **정보 추출**: 이메일, 전화번호, 날짜에서 필요한 부분 추출\n",
    "- **텍스트 검증**: 사용자 입력의 형식 확인\n",
    "- **동적 메시지**: 사용자별 맞춤 메시지 생성\n",
    "\n",
    "---\n",
    "\n",
    "## 📋 숙제\n",
    "\n",
    "1. **연습**: 3개 실습을 본인 데이터로 완료하기\n",
    "2. **창작**: 개인 정보를 3가지 다른 스타일로 형식화하는 프로그램 만들기\n",
    "3. **탐구**: 다양한 종류의 텍스트에 여러 문자열 메소드 시도하기\n",
    "4. **응용**: 간단한 이름표 생성 프로그램 만들기\n",
    "5. **실험**: 한글과 영어가 섞인 텍스트 처리해보기\n",
    "\n",
    "**파이썬으로 텍스트 조작의 기술을 마스터하세요!** 📝"
   ]
  }
 ],
 "metadata": {
  "jupytext": {
   "cell_metadata_filter": "-all",
   "main_language": "python",
   "notebook_metadata_filter": "-all"
  }
 },
 "nbformat": 4,
 "nbformat_minor": 5
}
