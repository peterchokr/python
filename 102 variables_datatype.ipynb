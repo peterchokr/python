{
 "cells": [
  {
   "cell_type": "markdown",
   "id": "f31b685d",
   "metadata": {
    "lines_to_next_cell": 0
   },
   "source": [
    "# 변수와 데이터 타입 (Variables and Data Types)\n",
    "\n",
    "**수업 시간**: 3시간  \n",
    "**구성**: 강의 및 실습 2시간 + 퀴즈 1시간  \n",
    "**수준**: 초급\n",
    "\n",
    "---\n",
    "\n",
    "## 🎯 학습 목표\n",
    "\n",
    "이 수업을 마친 후 학생들은 다음을 할 수 있습니다:\n",
    "\n",
    "- 변수(Variable)가 무엇인지, 왜 중요한지 이해하기\n",
    "- 변수 명명 규칙(Naming Rules) 올바르게 적용하기\n",
    "- 기본 데이터 타입(Data Type) 식별 및 사용하기: int, float, str, bool\n",
    "- type() 함수를 사용하여 데이터 타입 확인하기\n",
    "- 의미 있는 변수명 생성하기\n",
    "\n",
    "---\n",
    "\n",
    "## 📦 1. 변수란 무엇인가?\n",
    "\n",
    "### 정의\n",
    "\n",
    "**변수(Variable)**는 컴퓨터 메모리에 데이터를 저장하는 **라벨이 붙은 상자**와 같습니다. 정보를 넣고, 꺼내고, 심지어 내용을 바꿀 수도 있습니다.\n",
    "\n",
    "### 실생활 비유\n",
    "\n",
    "변수를 **방에 있는 라벨이 붙은 수납함**으로 생각해보세요:\n",
    "\n",
    "```\n",
    "실생활:\n",
    "📦 \"교과서\" 라벨 → 수학책, 영어책 들어있음\n",
    "📦 \"옷\" 라벨 → 셔츠, 바지 들어있음  \n",
    "📦 \"사진\" 라벨 → 가족사진, 친구사진 들어있음\n",
    "\n",
    "프로그래밍:\n",
    "📦 변수 \"학생_이름\" → \"김철수\" 들어있음\n",
    "📦 변수 \"나이\" → 20 들어있음\n",
    "📦 변수 \"학생인가\" → True 들어있음\n",
    "```\n",
    "\n",
    "### 왜 변수를 사용하나요?\n",
    "\n",
    "#### 1. 정보 저장"
   ]
  },
  {
   "cell_type": "code",
   "execution_count": null,
   "id": "6538e26f",
   "metadata": {},
   "outputs": [],
   "source": [
    "# \"김철수\"를 매번 쓰는 대신...\n",
    "student_name = \"김철수\"\n",
    "print(f\"안녕하세요, {student_name}님!\")\n",
    "print(f\"수업에 오신 것을 환영합니다, {student_name}님!\")"
   ]
  },
  {
   "cell_type": "markdown",
   "id": "5b77e217",
   "metadata": {
    "lines_to_next_cell": 0
   },
   "source": [
    "#### 2. 쉬운 변경"
   ]
  },
  {
   "cell_type": "code",
   "execution_count": null,
   "id": "b18ffefd",
   "metadata": {},
   "outputs": [],
   "source": [
    "# 한 번만 바꾸면 모든 곳에 영향\n",
    "student_name = \"박영희\"  # 이 줄만 바꾸면 됨\n",
    "print(f\"안녕하세요, {student_name}님!\")  # 자동으로 업데이트됨"
   ]
  },
  {
   "cell_type": "markdown",
   "id": "4650e995",
   "metadata": {
    "lines_to_next_cell": 0
   },
   "source": [
    "#### 3. 코드 가독성 향상"
   ]
  },
  {
   "cell_type": "code",
   "execution_count": null,
   "id": "7b460d63",
   "metadata": {},
   "outputs": [],
   "source": [
    "# 나쁜 예\n",
    "result = 3.14159 * 5 * 5\n",
    "\n",
    "# 좋은 예\n",
    "pi = 3.14159\n",
    "radius = 5\n",
    "area = pi * radius * radius"
   ]
  },
  {
   "cell_type": "markdown",
   "id": "ee8db290",
   "metadata": {},
   "source": [
    "### 변수 생성 방법\n",
    "\n",
    "기본 문법: **변수명 = 값**"
   ]
  },
  {
   "cell_type": "code",
   "execution_count": null,
   "id": "29f514c6",
   "metadata": {},
   "outputs": [],
   "source": [
    "# 변수 생성\n",
    "name = \"김철수\"           # 텍스트\n",
    "age = 22               # 숫자\n",
    "height = 175.5         # 소수\n",
    "is_student = True      # 참/거짓"
   ]
  },
  {
   "cell_type": "markdown",
   "id": "ddc1a4af",
   "metadata": {
    "lines_to_next_cell": 0
   },
   "source": [
    "---\n",
    "\n",
    "## 📝 2. 변수 명명 규칙\n",
    "\n",
    "### 반드시 따라야 하는 규칙\n",
    "\n",
    "#### ✅ **규칙 1: 문자나 밑줄로 시작**"
   ]
  },
  {
   "cell_type": "code",
   "execution_count": null,
   "id": "a6c346c2",
   "metadata": {},
   "outputs": [],
   "source": [
    "# 올바른 예\n",
    "name = \"김철수\"\n",
    "student_name = \"김철수\"\n",
    "_age = 20\n",
    "student_id = \"12345\"\n",
    "\n",
    "# 잘못된 예\n",
    "2nd_name = \"철수\"     # ❌ 숫자로 시작"
   ]
  },
  {
   "cell_type": "markdown",
   "id": "367e4635",
   "metadata": {
    "lines_to_next_cell": 0
   },
   "source": [
    "#### ✅ **규칙 2: 문자, 숫자, 밑줄만 사용**"
   ]
  },
  {
   "cell_type": "code",
   "execution_count": null,
   "id": "61bf189d",
   "metadata": {},
   "outputs": [],
   "source": [
    "# 올바른 예\n",
    "first_name = \"김\"\n",
    "last_name = \"김\"\n",
    "age2 = 25\n",
    "_private_info = \"비밀\"\n",
    "\n",
    "# 잘못된 예\n",
    "student-id = \"123\"       # ❌ 하이픈 사용 불가\n",
    "student@email = \"...\"     # ❌ @ 기호 사용 불가"
   ]
  },
  {
   "cell_type": "markdown",
   "id": "67910943",
   "metadata": {
    "lines_to_next_cell": 0
   },
   "source": [
    "#### ✅ **규칙 3: 대소문자 구분**"
   ]
  },
  {
   "cell_type": "code",
   "execution_count": null,
   "id": "31ad8a57",
   "metadata": {},
   "outputs": [],
   "source": [
    "# 모두 다른 변수입니다!\n",
    "name = \"김철수\"\n",
    "Name = \"박영희\"\n",
    "NAME = \"이민수\""
   ]
  },
  {
   "cell_type": "markdown",
   "id": "13236a52",
   "metadata": {
    "lines_to_next_cell": 0
   },
   "source": [
    "#### ✅ **규칙 4: 파이썬 키워드 사용 불가**"
   ]
  },
  {
   "cell_type": "code",
   "execution_count": null,
   "id": "7bf33482",
   "metadata": {},
   "outputs": [],
   "source": [
    "# 잘못된 예\n",
    "if = 10          # ❌ 'if'는 키워드\n",
    "for = \"안녕\"      # ❌ 'for'는 키워드\n",
    "class = \"수학\"    # ❌ 'class'는 키워드\n",
    "\n",
    "# 파이썬 키워드들:\n",
    "# if, for, while, def, class, import, from, return 등"
   ]
  },
  {
   "cell_type": "markdown",
   "id": "02af61a8",
   "metadata": {
    "lines_to_next_cell": 0
   },
   "source": [
    "### 권장 사항\n",
    "\n",
    "#### 🌟 **의미 있는 이름 사용**"
   ]
  },
  {
   "cell_type": "code",
   "execution_count": null,
   "id": "d4a7d4fa",
   "metadata": {},
   "outputs": [],
   "source": [
    "# 나쁜 예\n",
    "x = \"김철수\"\n",
    "y = 20\n",
    "z = True\n",
    "\n",
    "# 좋은 예\n",
    "student_name = \"김철수\"\n",
    "student_age = 20\n",
    "is_enrolled = True"
   ]
  },
  {
   "cell_type": "markdown",
   "id": "f4d11eac",
   "metadata": {
    "lines_to_next_cell": 0
   },
   "source": [
    "#### 🌟 **변수에는 snake_case 사용**"
   ]
  },
  {
   "cell_type": "code",
   "execution_count": null,
   "id": "c9eb66aa",
   "metadata": {},
   "outputs": [],
   "source": [
    "# 권장 스타일 - 영어 변수명\n",
    "first_name = \"김\"\n",
    "last_name = \"철수\"\n",
    "birth_year = 2003\n",
    "is_international_student = False"
   ]
  },
  {
   "cell_type": "markdown",
   "id": "d5e788ee",
   "metadata": {
    "lines_to_next_cell": 0
   },
   "source": [
    "#### 🌟 **일관성 있는 명명**"
   ]
  },
  {
   "cell_type": "code",
   "execution_count": null,
   "id": "b5262088",
   "metadata": {},
   "outputs": [],
   "source": [
    "# 프로젝트 전체에서 일관된 스타일 사용\n",
    "student_name = \"김철수\"    # 영어 변수명\n",
    "student_grade = \"A\"       # 영어 변수명\n",
    "phone_number = \"010-1234-5678\"  # 영어 변수명"
   ]
  },
  {
   "cell_type": "markdown",
   "id": "e91fee7b",
   "metadata": {},
   "source": [
    "---\n",
    "\n",
    "## 🔢 3. 기본 데이터 타입\n",
    "\n",
    "파이썬에는 초보자가 알아야 할 4가지 주요 기본 데이터 타입이 있습니다:\n",
    "\n",
    "### 3.1 정수(Integer, int) - 완전한 숫자\n",
    "\n",
    "**정의**: 소수점이 없는 완전한 숫자"
   ]
  },
  {
   "cell_type": "code",
   "execution_count": null,
   "id": "41dcf7a7",
   "metadata": {},
   "outputs": [],
   "source": [
    "# 정수 예시\n",
    "age = 20\n",
    "year = 2024\n",
    "temperature = -5\n",
    "score = 0\n",
    "population = 1000000\n",
    "\n",
    "# 가독성을 위해 밑줄 사용 가능\n",
    "big_number = 1_000_000  # 1000000과 같음"
   ]
  },
  {
   "cell_type": "markdown",
   "id": "765d8f0b",
   "metadata": {},
   "source": [
    "#### **실생활 예시**:\n",
    "- 나이: `age = 22`\n",
    "- 연도: `graduation_year = 2025`\n",
    "- 개수: `student_count = 30`\n",
    "- 온도: `temperature_celsius = -10`\n",
    "\n",
    "### 3.2 실수(Float) - 소수점 숫자\n",
    "\n",
    "**정의**: 소수점이 있는 숫자"
   ]
  },
  {
   "cell_type": "code",
   "execution_count": null,
   "id": "a70a4370",
   "metadata": {},
   "outputs": [],
   "source": [
    "# 실수 예시\n",
    "height = 175.5\n",
    "weight = 68.2\n",
    "price = 29.99\n",
    "pi = 3.14159\n",
    "body_temperature = 36.5\n",
    "\n",
    "# 과학적 표기법\n",
    "speed_of_light = 3e8  # 3 * 10^8 = 300,000,000"
   ]
  },
  {
   "cell_type": "markdown",
   "id": "b68b77e5",
   "metadata": {},
   "source": [
    "#### **실생활 예시**:\n",
    "- 키: `height_cm = 175.5`\n",
    "- 몸무게: `weight_kg = 65.3`\n",
    "- 가격: `book_price = 24.99`\n",
    "- 평점: `gpa = 3.75`\n",
    "\n",
    "### 3.3 문자열(String, str) - 텍스트\n",
    "\n",
    "**정의**: 따옴표로 둘러싸인 텍스트 데이터"
   ]
  },
  {
   "cell_type": "code",
   "execution_count": null,
   "id": "da2694f4",
   "metadata": {},
   "outputs": [],
   "source": [
    "# 문자열 예시\n",
    "name = \"김철수\"\n",
    "country = \"대한민국\"\n",
    "email = \"chulsoo@email.com\"\n",
    "message = \"안녕하세요!\"\n",
    "\n",
    "# 홑따옴표나 겹따옴표 모두 사용 가능\n",
    "first_name = \"철수\"\n",
    "last_name = '김'\n",
    "\n",
    "# 여러 줄 문자열\n",
    "address = \"\"\"대구광역시 동구\n",
    "영남이공대학교\n",
    "소프트웨어융합과\"\"\""
   ]
  },
  {
   "cell_type": "markdown",
   "id": "b674d50c",
   "metadata": {},
   "source": [
    "#### **문자열 관련 중요 사항**:"
   ]
  },
  {
   "cell_type": "code",
   "execution_count": null,
   "id": "05a0be8e",
   "metadata": {},
   "outputs": [],
   "source": [
    "# 따옴표 안의 숫자는 문자열입니다!\n",
    "age_number = 20        # 이것은 정수\n",
    "age_text = \"20\"        # 이것은 문자열!\n",
    "\n",
    "# 빈 문자열\n",
    "empty_string = \"\""
   ]
  },
  {
   "cell_type": "markdown",
   "id": "90de8bd3",
   "metadata": {},
   "source": [
    "### 3.4 불린(Boolean, bool) - 참/거짓\n",
    "\n",
    "**정의**: 참(True) 또는 거짓(False)만 가능한 데이터"
   ]
  },
  {
   "cell_type": "code",
   "execution_count": null,
   "id": "4ce5aeec",
   "metadata": {},
   "outputs": [],
   "source": [
    "# 불린 예시\n",
    "is_student = True\n",
    "is_graduated = False\n",
    "has_scholarship = True\n",
    "is_international = False\n",
    "\n",
    "# 주의: 반드시 대문자로!\n",
    "correct = True    # ✅ 올바름\n",
    "wrong = true      # ❌ 틀림 - True여야 함"
   ]
  },
  {
   "cell_type": "markdown",
   "id": "b9aee009",
   "metadata": {
    "lines_to_next_cell": 0
   },
   "source": [
    "#### **실생활 예시**:\n",
    "- 상태: `is_enrolled = True`\n",
    "- 조건: `has_passed_exam = False`\n",
    "- 권한: `can_access = True`\n",
    "\n",
    "---\n",
    "\n",
    "## 🔍 4. type() 함수\n",
    "\n",
    "`type()` 함수는 변수가 어떤 데이터 타입을 포함하고 있는지 알려줍니다.\n",
    "\n",
    "### 문법"
   ]
  },
  {
   "cell_type": "code",
   "execution_count": null,
   "id": "cd215169",
   "metadata": {},
   "outputs": [],
   "source": [
    "type(variable_name)"
   ]
  },
  {
   "cell_type": "markdown",
   "id": "06520b29",
   "metadata": {
    "lines_to_next_cell": 0
   },
   "source": [
    "### 예시"
   ]
  },
  {
   "cell_type": "code",
   "execution_count": null,
   "id": "f2c8afd4",
   "metadata": {},
   "outputs": [],
   "source": [
    "# 변수 생성\n",
    "student_name = \"김철수\"\n",
    "student_age = 20\n",
    "student_height = 165.5\n",
    "is_freshman = True\n",
    "\n",
    "# 타입 확인\n",
    "print(type(student_name))    # <class 'str'>\n",
    "print(type(student_age))     # <class 'int'>\n",
    "print(type(student_height))  # <class 'float'>\n",
    "print(type(is_freshman))     # <class 'bool'>"
   ]
  },
  {
   "cell_type": "markdown",
   "id": "ba1d490c",
   "metadata": {
    "lines_to_next_cell": 0
   },
   "source": [
    "### 실용적 사용"
   ]
  },
  {
   "cell_type": "code",
   "execution_count": null,
   "id": "46195ffc",
   "metadata": {},
   "outputs": [],
   "source": [
    "# 입력이 올바른 타입인지 확인\n",
    "user_input = \"25\"\n",
    "print(f\"입력 '{user_input}'의 타입: {type(user_input)}\")\n",
    "\n",
    "# 변환 후 다시 확인\n",
    "user_age = int(user_input)\n",
    "print(f\"변환 후: {user_age}의 타입: {type(user_age)}\")"
   ]
  },
  {
   "cell_type": "markdown",
   "id": "4a164b91",
   "metadata": {
    "lines_to_next_cell": 0
   },
   "source": [
    "---\n",
    "\n",
    "## 💡 5. 변수 할당과 재할당\n",
    "\n",
    "### 초기 할당"
   ]
  },
  {
   "cell_type": "code",
   "execution_count": null,
   "id": "1388fdf2",
   "metadata": {},
   "outputs": [],
   "source": [
    "# 변수 첫 생성\n",
    "student_name = \"김철수\"\n",
    "print(student_name)  # 출력: 김철수"
   ]
  },
  {
   "cell_type": "markdown",
   "id": "95a55629",
   "metadata": {
    "lines_to_next_cell": 0
   },
   "source": [
    "### 재할당"
   ]
  },
  {
   "cell_type": "code",
   "execution_count": null,
   "id": "28e36d9a",
   "metadata": {},
   "outputs": [],
   "source": [
    "# 값 변경\n",
    "student_name = \"박영희\"\n",
    "print(student_name)  # 출력: 박영희\n",
    "\n",
    "# 데이터 타입도 변경 가능!\n",
    "student_name = 123    # 이제 정수가 됨\n",
    "print(student_name)   # 출력: 123\n",
    "print(type(student_name))  # <class 'int'>"
   ]
  },
  {
   "cell_type": "markdown",
   "id": "f9bf9e78",
   "metadata": {
    "lines_to_next_cell": 0
   },
   "source": [
    "### 다중 할당"
   ]
  },
  {
   "cell_type": "code",
   "execution_count": null,
   "id": "ec339eb1",
   "metadata": {},
   "outputs": [],
   "source": [
    "# 여러 변수에 같은 값 할당\n",
    "x = y = z = 0\n",
    "\n",
    "# 여러 변수에 다른 값 할당\n",
    "name, age, height = \"김철수\", 20, 175.5\n",
    "print(name)    # 김철수\n",
    "print(age)     # 20\n",
    "print(height)  # 175.5"
   ]
  },
  {
   "cell_type": "markdown",
   "id": "0386e5bf",
   "metadata": {
    "lines_to_next_cell": 0
   },
   "source": [
    "---\n",
    "\n",
    "## 🔧 실습\n",
    "\n",
    "### 실습 1: 다양한 데이터 타입의 변수 선언 및 출력\n",
    "\n",
    "**문제**: 다양한 데이터 타입의 변수를 생성하고 타입과 함께 출력하세요.\n",
    "\n",
    "**요구사항**:\n",
    "- 각 데이터 타입별로 하나씩 변수 생성: int, float, str, bool\n",
    "- 의미 있는 변수명 사용\n",
    "- 각 변수와 그 타입을 표시\n",
    "\n",
    "**해답**:"
   ]
  },
  {
   "cell_type": "code",
   "execution_count": null,
   "id": "ba145c3e",
   "metadata": {},
   "outputs": [],
   "source": [
    "# 다양한 데이터 타입의 변수 생성\n",
    "\n",
    "# 정수(Integer)\n",
    "student_count = 25\n",
    "print(f\"학생 수: {student_count}\")\n",
    "print(f\"타입: {type(student_count)}\")\n",
    "print()\n",
    "\n",
    "# 실수(Float)\n",
    "average_grade = 87.5\n",
    "print(f\"평균 성적: {average_grade}\")\n",
    "print(f\"타입: {type(average_grade)}\")\n",
    "print()\n",
    "\n",
    "# 문자열(String)\n",
    "university_name = \"영남이공대학교\"\n",
    "print(f\"대학교: {university_name}\")\n",
    "print(f\"타입: {type(university_name)}\")\n",
    "print()\n",
    "\n",
    "# 불린(Boolean)\n",
    "is_online_course = True\n",
    "print(f\"온라인 수업인가요? {is_online_course}\")\n",
    "print(f\"타입: {type(is_online_course)}\")\n",
    "print()\n",
    "\n",
    "# 모든 정보를 한번에 표시\n",
    "print(\"=== 요약 ===\")\n",
    "print(f\"학생: {student_count} ({type(student_count).__name__})\")\n",
    "print(f\"평균: {average_grade} ({type(average_grade).__name__})\")\n",
    "print(f\"대학교: {university_name} ({type(university_name).__name__})\")\n",
    "print(f\"온라인: {is_online_course} ({type(is_online_course).__name__})\")"
   ]
  },
  {
   "cell_type": "markdown",
   "id": "be876d99",
   "metadata": {
    "lines_to_next_cell": 0
   },
   "source": [
    "### 실습 2: 올바른 변수명과 잘못된 변수명 비교\n",
    "\n",
    "**문제**: 올바른 변수명과 잘못된 변수명의 예시를 만들고, 잘못된 것들을 수정하세요.\n",
    "\n",
    "**단계**:\n",
    "1. 잘못된 이름으로 변수를 만들어보기 (어떤 오류가 발생하는지 확인)\n",
    "2. 잘못된 이름들을 수정하고 왜 틀렸는지 설명\n",
    "3. 수정된 버전 보여주기\n",
    "\n",
    "**해답**:"
   ]
  },
  {
   "cell_type": "code",
   "execution_count": null,
   "id": "ba229015",
   "metadata": {},
   "outputs": [],
   "source": [
    "# === 올바른 변수명 예시 ===\n",
    "print(\"=== 올바른 예시 ===\")\n",
    "\n",
    "# 좋은 변수명들\n",
    "first_name = \"김\"\n",
    "last_name = \"철수\"\n",
    "age_in_years = 22\n",
    "_private_score = 95\n",
    "student2 = \"박영희\"\n",
    "\n",
    "print(f\"첫 번째 이름: {first_name}\")\n",
    "print(f\"마지막 이름: {last_name}\")\n",
    "print(f\"나이: {age_in_years}\")\n",
    "print(f\"개인 점수: {_private_score}\")\n",
    "print(f\"두 번째 학생: {student2}\")\n",
    "print()\n",
    "\n",
    "# === 잘못된 변수명과 수정 ===\n",
    "print(\"=== 잘못된 예시와 수정 ===\")\n",
    "\n",
    "# 잘못된 예: 2nd_student = \"김철수\"  # ❌ 숫자로 시작\n",
    "# 수정:\n",
    "second_student = \"김철수\"  # ✅ 문자로 시작\n",
    "print(f\"'2nd_student' → 'second_student'으로 수정: {second_student}\")\n",
    "\n",
    "# 잘못된 예: student-name = \"이영희\"  # ❌ 하이픈 사용 불가\n",
    "# 수정:\n",
    "student_name = \"이영희\"  # ✅ 밑줄 사용\n",
    "print(f\"'student-name' → 'student_name'으로 수정: {student_name}\")\n",
    "\n",
    "# 잘못된 예: class = \"수학\"  # ❌ 'class'는 파이썬 키워드\n",
    "# 수정:\n",
    "course_name = \"수학\"  # ✅ 의미 있는 대안 사용\n",
    "print(f\"'class' → 'course_name'으로 수정: {course_name}\")\n",
    "\n",
    "# 잘못된 예: student@email = \"test@email.com\"  # ❌ @ 기호 사용 불가\n",
    "# 수정:\n",
    "student_email = \"test@email.com\"  # ✅ 밑줄 사용\n",
    "print(f\"'student@email' → 'student_email'로 수정: {student_email}\")\n",
    "\n",
    "# 잘못된 예: for = 10  # ❌ 'for'는 파이썬 키워드\n",
    "# 수정:\n",
    "loop_count = 10  # ✅ 의미 있는 대안 사용\n",
    "print(f\"'for' → 'loop_count'로 수정: {loop_count}\")\n",
    "\n",
    "print()\n",
    "print(\"=== 규칙 정리 ===\")\n",
    "print(\"1. 문자나 밑줄로 시작\")\n",
    "print(\"2. 문자, 숫자, 밑줄만 사용\")\n",
    "print(\"3. 파이썬 키워드 사용 금지\")\n",
    "print(\"4. 대소문자 구분\")\n",
    "print(\"5. 의미 있는 이름 사용\")"
   ]
  },
  {
   "cell_type": "markdown",
   "id": "bbb3d704",
   "metadata": {
    "lines_to_next_cell": 0
   },
   "source": [
    "### 실습 3: 개인 정보를 담는 변수들 만들기\n",
    "\n",
    "**문제**: 적절한 변수 타입을 사용하여 개인 정보를 저장하고 표시하는 프로그램을 만드세요.\n",
    "\n",
    "**요구사항**:\n",
    "- 저장할 정보: 이름, 나이, 키, 학생 여부, 평점, 지역, 이메일, 전공\n",
    "- 각 정보에 적절한 데이터 타입 사용\n",
    "- 정보를 형식에 맞게 표시\n",
    "\n",
    "**해답**:"
   ]
  },
  {
   "cell_type": "code",
   "execution_count": null,
   "id": "87c17099",
   "metadata": {},
   "outputs": [],
   "source": [
    "# 개인 정보 저장 시스템\n",
    "\n",
    "print(\"=== 개인 정보 시스템 ===\")\n",
    "print()\n",
    "\n",
    "# 개인 정보 변수들\n",
    "# 문자열 데이터\n",
    "full_name = \"김민수\"\n",
    "hometown = \"대구광역시\"\n",
    "email_address = \"minsu.kim@email.com\"\n",
    "major = \"소프트웨어융합과\"\n",
    "school = \"영남이공대학교\"\n",
    "\n",
    "# 정수 데이터\n",
    "age_years = 20\n",
    "graduation_year = 2026\n",
    "student_id = 2024001\n",
    "\n",
    "# 실수 데이터\n",
    "height_cm = 175.5\n",
    "weight_kg = 68.2\n",
    "current_gpa = 3.85\n",
    "\n",
    "# 불린 데이터\n",
    "is_full_time_student = True\n",
    "has_scholarship = True\n",
    "lives_in_dorm = False\n",
    "has_drivers_license = True\n",
    "\n",
    "# 형식에 맞춰 정보 표시\n",
    "print(\"📋 학생 프로필\")\n",
    "print(\"=\" * 40)\n",
    "print(f\"👤 이름: {full_name}\")\n",
    "print(f\"📧 이메일: {email_address}\")\n",
    "print(f\"🏠 출신 지역: {hometown}\")\n",
    "print(f\"🎂 나이: {age_years}세\")\n",
    "print(f\"📏 키: {height_cm}cm\")\n",
    "print(f\"⚖️ 몸무게: {weight_kg}kg\")\n",
    "print(f\"🏫 학교: {school}\")\n",
    "print(f\"📚 전공: {major}\")\n",
    "print(f\"🎯 평점: {current_gpa}\")\n",
    "print(f\"🎓 졸업 예정: {graduation_year}년\")\n",
    "print(f\"📖 학번: {student_id}\")\n",
    "print()\n",
    "\n",
    "# 상태 정보\n",
    "print(\"📊 상태 정보\")\n",
    "print(\"=\" * 40)\n",
    "print(f\"전일제 학생: {is_full_time_student}\")\n",
    "print(f\"장학금 수혜: {has_scholarship}\")\n",
    "print(f\"기숙사 거주: {lives_in_dorm}\")\n",
    "print(f\"운전면허: {has_drivers_license}\")\n",
    "print()\n",
    "\n",
    "# 데이터 타입 정보\n",
    "print(\"🔍 데이터 타입 확인\")\n",
    "print(\"=\" * 40)\n",
    "print(f\"이름 타입: {type(full_name).__name__}\")\n",
    "print(f\"나이 타입: {type(age_years).__name__}\")\n",
    "print(f\"키 타입: {type(height_cm).__name__}\")\n",
    "print(f\"평점 타입: {type(current_gpa).__name__}\")\n",
    "print(f\"학생 상태 타입: {type(is_full_time_student).__name__}\")\n",
    "print()\n",
    "\n",
    "# 추가 정보 계산\n",
    "birth_year = 2024 - age_years\n",
    "BMI = weight_kg / ((height_cm / 100) ** 2)\n",
    "\n",
    "print(\"📈 계산된 정보\")\n",
    "print(\"=\" * 40)\n",
    "print(f\"추정 출생년도: {birth_year}년\")\n",
    "print(f\"BMI 지수: {BMI:.1f}\")\n",
    "print(f\"졸업까지 남은 기간: {graduation_year - 2024}년\")"
   ]
  },
  {
   "cell_type": "markdown",
   "id": "090f65d9",
   "metadata": {
    "lines_to_next_cell": 0
   },
   "source": [
    "---\n",
    "\n",
    "## 📝 퀴즈\n",
    "\n",
    "### 퀴즈 1: 변수 할당과 출력\n",
    "\n",
    "**문제**: `name`이라는 변수를 만들어 당신의 이름을 저장한 후, 화면에 출력하는 코드를 작성하세요.\n",
    "\n",
    "**답을 여기에 작성하세요**:"
   ]
  },
  {
   "cell_type": "code",
   "execution_count": null,
   "id": "f90ca1d3",
   "metadata": {},
   "outputs": [],
   "source": [
    "# 여기에 코드를 작성하세요:\n",
    "\n",
    "\n",
    "\n"
   ]
  },
  {
   "cell_type": "markdown",
   "id": "eddac0f1",
   "metadata": {},
   "source": [
    "### 퀴즈 2: 데이터 타입 식별\n",
    "\n",
    "**문제**: 다음 변수들이 주어졌을 때, `type()` 함수를 사용하여 각 변수의 데이터 타입을 출력하세요:"
   ]
  },
  {
   "cell_type": "code",
   "execution_count": null,
   "id": "75bc740d",
   "metadata": {},
   "outputs": [],
   "source": [
    "age = 25\n",
    "height = 175.5\n",
    "name = \"김철수\""
   ]
  },
  {
   "cell_type": "markdown",
   "id": "4e3cf6f4",
   "metadata": {
    "lines_to_next_cell": 0
   },
   "source": [
    "**답을 여기에 작성하세요**:"
   ]
  },
  {
   "cell_type": "code",
   "execution_count": null,
   "id": "0b760dda",
   "metadata": {},
   "outputs": [],
   "source": [
    "age = 25\n",
    "height = 175.5\n",
    "name = \"김철수\"\n",
    "\n",
    "# 타입을 출력하는 코드를 여기에 작성하세요:\n",
    "\n",
    "\n",
    "\n"
   ]
  },
  {
   "cell_type": "markdown",
   "id": "50fd8b76",
   "metadata": {},
   "source": [
    "### 퀴즈 3: 변수명 유효성 검사\n",
    "\n",
    "**문제**: 다음 변수명들을 보고 **올바르지 않은** 것들을 찾으세요. 잘못된 각 이름에 대해 왜 틀렸는지 설명하고 수정된 버전을 제공하세요.\n",
    "\n",
    "**확인할 변수명들**:\n",
    "1. `my_age`\n",
    "2. `2nd_name`\n",
    "3. `student-id`\n",
    "4. `_score`\n",
    "5. `class`\n",
    "6. `firstName`\n",
    "7. `user@name`\n",
    "8. `total_count`\n",
    "\n",
    "**분석을 여기에 작성하세요**:\n",
    "\n",
    "| 변수명 | 올바름/틀림 | 이유 | 수정된 버전 |\n",
    "|--------|------------|------|-------------|\n",
    "| my_age | | | |\n",
    "| 2nd_name | | | |\n",
    "| student-id | | | |\n",
    "| _score | | | |\n",
    "| class | | | |\n",
    "| firstName | | | |\n",
    "| user@name | | | |\n",
    "| total_count | | | |\n",
    "\n",
    "---\n",
    "\n",
    "## 📖 참고 자료\n",
    "\n",
    "1. **파이썬 변수 튜토리얼**: https://www.w3schools.com/python/python_variables.asp\n",
    "   - 파이썬 변수와 명명 규칙 종합 가이드\n",
    "\n",
    "2. **파이썬 데이터 타입**: https://docs.python.org/ko/3/tutorial/introduction.html\n",
    "   - 데이터 타입에 대한 공식 파이썬 문서 (한국어)\n",
    "\n",
    "3. **변수 명명 모범 사례**: https://realpython.com/python-pep8/#naming-conventions\n",
    "   - 전문적인 명명 규칙과 코드 스타일\n",
    "\n",
    "4. **점프 투 파이썬 - 자료형**: https://wikidocs.net/11\n",
    "   - 한국어로 된 파이썬 자료형 설명\n",
    "\n",
    "---\n",
    "\n",
    "## 💡 성공을 위한 추가 팁\n",
    "\n",
    "### 효과적인 학습 방법\n",
    "- **일관된 명명**: 프로젝트 전체에서 일관된 스타일 사용\n",
    "- **의미 있는 이름**: `name`이 `n`보다 좋고, `student_age`가 `age`보다 좋음\n",
    "- **매일 연습**: 주변 사물에 대한 변수 만들어보기\n",
    "- **type() 함수 활용**: 헷갈릴 때마다 타입 확인하기\n",
    "\n",
    "### 피해야 할 일반적인 실수\n",
    "- **숫자로 시작하지 말기**: `2nd_name` → `second_name`\n",
    "- **하이픈 사용하지 말기**: `student-id` → `student_id`\n",
    "- **키워드 사용하지 말기**: `class` → `course_name`\n",
    "- **특수문자 사용하지 말기**: `user@name` → `user_name`\n",
    "\n",
    "### 기억하기 쉬운 팁\n",
    "- **int**: **Int**eger = 완전한(**Int**act) 숫자\n",
    "- **float**: 소수점으로 떠다니는(**float**) 숫자\n",
    "- **str**: **Str**ing = 문자들의 연결(**Str**ing)\n",
    "- **bool**: **Bool**ean = 조지 불(George **Bool**e)의 이름을 딴\n",
    "\n",
    "### 한국어 변수명 사용시 주의사항\n",
    "- **가능하지만 권장하지 않음**: 국제적 협업에서 어려움\n",
    "- **영어와 혼용 금지**: 일관성 있게 사용\n",
    "- **팀 프로젝트**: 팀 규칙에 따라 결정\n",
    "\n",
    "---\n",
    "\n",
    "## 📋 숙제\n",
    "\n",
    "1. **연습**: 컴퓨터에서 3개 실습 모두 완료하기\n",
    "2. **창작**: 방에 있는 5가지 물건에 대해 적절한 데이터 타입으로 변수 만들기\n",
    "3. **실험**: 잘못된 이름으로 변수를 만들어 에러 메시지 확인하기\n",
    "4. **응용**: 가족 구성원들의 정보를 변수로 만들어 출력하는 프로그램 작성하기\n",
    "5. **타입 연습**: 다양한 값들의 타입을 type() 함수로 확인해보기\n",
    "\n",
    "**파이썬 기초를 계속 쌓아가세요!** 🐍📊"
   ]
  }
 ],
 "metadata": {
  "jupytext": {
   "cell_metadata_filter": "-all",
   "main_language": "python",
   "notebook_metadata_filter": "-all"
  }
 },
 "nbformat": 4,
 "nbformat_minor": 5
}
