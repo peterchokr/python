{
 "cells": [
  {
   "cell_type": "markdown",
   "id": "2270f5a1",
   "metadata": {
    "lines_to_next_cell": 0
   },
   "source": [
    "# 리스트 기초 (Lists Basics)\n",
    "\n",
    "**수업 시간**: 3시간  \n",
    "**구성**: 강의 및 실습 2시간 + 퀴즈 1시간  \n",
    "**수준**: 초급  \n",
    "**선수 학습**: 변수, 데이터 타입, 연산자, 입출력, 조건문, 반복문\n",
    "\n",
    "---\n",
    "\n",
    "## 🎯 학습 목표\n",
    "\n",
    "이 수업을 마친 후 학생들은 다음을 할 수 있습니다:\n",
    "\n",
    "- 리스트(list)가 무엇인지, 왜 유용한지 이해하기\n",
    "- 리스트를 생성하고 인덱싱(indexing)으로 요소에 접근하기\n",
    "- 슬라이싱(slicing)을 사용하여 리스트의 일부분으로 작업하기\n",
    "- 요소 추가, 제거, 수정을 위한 필수 리스트 메소드(method) 적용하기\n",
    "- 데이터 컬렉션(collection)을 관리하는 실용적인 프로그램 구축하기\n",
    "\n",
    "---\n",
    "\n",
    "## 📋 1. 리스트란 무엇인가?\n",
    "\n",
    "**리스트(List)**는 하나의 변수에 여러 항목을 저장할 수 있는 컬렉션입니다. 리스트를 순서대로 여러 다른 것들을 담을 수 있는 컨테이너라고 생각해보세요.\n",
    "\n",
    "### 실생활 비유\n",
    "리스트는 쇼핑 목록이나 학급 명단과 같습니다:\n",
    "\n",
    "```\n",
    "쇼핑 목록:\n",
    "1. 사과\n",
    "2. 식빵  \n",
    "3. 우유\n",
    "4. 계란\n",
    "\n",
    "파이썬 리스트:\n",
    "shopping_list = [\"사과\", \"식빵\", \"우유\", \"계란\"]\n",
    "```\n",
    "\n",
    "### 왜 리스트를 사용하나요?\n",
    "\n",
    "#### 리스트 없이 (비효율적)"
   ]
  },
  {
   "cell_type": "code",
   "execution_count": null,
   "id": "531f85ab",
   "metadata": {},
   "outputs": [],
   "source": [
    "# 학생 이름 저장 - 복잡한 방법\n",
    "student1 = \"김철수\"\n",
    "student2 = \"이영희\"\n",
    "student3 = \"박민수\"\n",
    "student4 = \"최지영\"\n",
    "\n",
    "# 관리하기 어렵고, 반복문 사용하기 힘듦\n",
    "print(student1)\n",
    "print(student2)\n",
    "print(student3)\n",
    "print(student4)"
   ]
  },
  {
   "cell_type": "markdown",
   "id": "9e69308a",
   "metadata": {
    "lines_to_next_cell": 0
   },
   "source": [
    "#### 리스트 사용 (효율적)"
   ]
  },
  {
   "cell_type": "code",
   "execution_count": null,
   "id": "7c91091b",
   "metadata": {},
   "outputs": [],
   "source": [
    "# 학생 이름 저장 - 깔끔한 방법\n",
    "students = [\"김철수\", \"이영희\", \"박민수\", \"최지영\"]\n",
    "\n",
    "# 관리하기 쉽고 반복문으로 처리 가능\n",
    "for student in students:\n",
    "    print(student)"
   ]
  },
  {
   "cell_type": "markdown",
   "id": "8d90dcaf",
   "metadata": {
    "lines_to_next_cell": 0
   },
   "source": [
    "### 리스트 특징\n",
    "- **순서가 있음**: 항목들이 특정 위치를 가짐\n",
    "- **변경 가능**: 항목을 추가, 제거, 수정할 수 있음\n",
    "- **중복 허용**: 같은 항목이 여러 번 나타날 수 있음\n",
    "- **혼합 타입**: 다양한 데이터 타입을 함께 저장 가능\n",
    "\n",
    "---\n",
    "\n",
    "## 🔢 2. 리스트 생성과 인덱싱\n",
    "\n",
    "### 리스트 생성하기\n",
    "\n",
    "#### 방법 1: 대괄호 [] 사용"
   ]
  },
  {
   "cell_type": "code",
   "execution_count": null,
   "id": "631db27c",
   "metadata": {},
   "outputs": [],
   "source": [
    "# 빈 리스트\n",
    "empty_list = []\n",
    "\n",
    "# 숫자가 있는 리스트\n",
    "numbers = [1, 2, 3, 4, 5]\n",
    "\n",
    "# 문자열이 있는 리스트\n",
    "fruits = [\"사과\", \"바나나\", \"오렌지\"]\n",
    "\n",
    "# 혼합 타입 리스트\n",
    "mixed_list = [\"김철수\", 25, True, 3.14]\n",
    "\n",
    "# 중복이 있는 리스트\n",
    "grades = [85, 90, 85, 92, 85]"
   ]
  },
  {
   "cell_type": "markdown",
   "id": "158c9b64",
   "metadata": {
    "lines_to_next_cell": 0
   },
   "source": [
    "#### 방법 2: range()를 리스트로 변환"
   ]
  },
  {
   "cell_type": "code",
   "execution_count": null,
   "id": "151489d5",
   "metadata": {},
   "outputs": [],
   "source": [
    "# range를 리스트로 변환\n",
    "numbers = list(range(1, 6))  # [1, 2, 3, 4, 5]"
   ]
  },
  {
   "cell_type": "markdown",
   "id": "9e2b7469",
   "metadata": {},
   "source": [
    "### 리스트 인덱싱\n",
    "\n",
    "리스트는 **0 기반 인덱싱**을 사용하므로, 첫 번째 항목이 위치 0에 있습니다."
   ]
  },
  {
   "cell_type": "code",
   "execution_count": null,
   "id": "c1ae95e4",
   "metadata": {},
   "outputs": [],
   "source": [
    "fruits = [\"사과\", \"바나나\", \"오렌지\", \"포도\", \"키위\"]\n",
    "#         0      1       2        3      4\n",
    "#        -5     -4      -3       -2     -1"
   ]
  },
  {
   "cell_type": "markdown",
   "id": "5b993a75",
   "metadata": {
    "lines_to_next_cell": 0
   },
   "source": [
    "#### 양수 인덱싱"
   ]
  },
  {
   "cell_type": "code",
   "execution_count": null,
   "id": "ac5828b7",
   "metadata": {},
   "outputs": [],
   "source": [
    "fruits = [\"사과\", \"바나나\", \"오렌지\", \"포도\", \"키위\"]\n",
    "\n",
    "print(fruits[0])    # \"사과\" - 첫 번째 항목\n",
    "print(fruits[1])    # \"바나나\" - 두 번째 항목  \n",
    "print(fruits[2])    # \"오렌지\" - 세 번째 항목\n",
    "print(fruits[4])    # \"키위\" - 마지막 항목"
   ]
  },
  {
   "cell_type": "markdown",
   "id": "1fe19a5d",
   "metadata": {
    "lines_to_next_cell": 0
   },
   "source": [
    "#### 음수 인덱싱"
   ]
  },
  {
   "cell_type": "code",
   "execution_count": null,
   "id": "f9931f7f",
   "metadata": {},
   "outputs": [],
   "source": [
    "fruits = [\"사과\", \"바나나\", \"오렌지\", \"포도\", \"키위\"]\n",
    "\n",
    "print(fruits[-1])   # \"키위\" - 마지막 항목\n",
    "print(fruits[-2])   # \"포도\" - 뒤에서 두 번째\n",
    "print(fruits[-3])   # \"오렌지\" - 뒤에서 세 번째\n",
    "print(fruits[-5])   # \"사과\" - 첫 번째 항목 (fruits[0]과 같음)"
   ]
  },
  {
   "cell_type": "markdown",
   "id": "edc9dde4",
   "metadata": {
    "lines_to_next_cell": 0
   },
   "source": [
    "### 실용적인 예시들\n",
    "\n",
    "#### 예시 1: 학생 성적"
   ]
  },
  {
   "cell_type": "code",
   "execution_count": null,
   "id": "61c7d030",
   "metadata": {},
   "outputs": [],
   "source": [
    "# 학생 성적 저장 및 접근\n",
    "grades = [85, 92, 78, 96, 87]\n",
    "\n",
    "print(f\"첫 번째 학생 성적: {grades[0]}\")\n",
    "print(f\"마지막 학생 성적: {grades[-1]}\")\n",
    "print(f\"총 성적 개수: {len(grades)}\")\n",
    "\n",
    "# 평균 계산\n",
    "total = sum(grades)\n",
    "average = total / len(grades)\n",
    "print(f\"반 평균: {average:.1f}\")"
   ]
  },
  {
   "cell_type": "markdown",
   "id": "9aee8bb2",
   "metadata": {
    "lines_to_next_cell": 0
   },
   "source": [
    "#### 예시 2: 요일 이름"
   ]
  },
  {
   "cell_type": "code",
   "execution_count": null,
   "id": "ed91a77e",
   "metadata": {},
   "outputs": [],
   "source": [
    "# 요일\n",
    "days = [\"월요일\", \"화요일\", \"수요일\", \"목요일\", \n",
    "        \"금요일\", \"토요일\", \"일요일\"]\n",
    "\n",
    "# 특정 요일 접근\n",
    "today = days[2]  # 수요일\n",
    "tomorrow = days[3]  # 목요일\n",
    "\n",
    "print(f\"오늘은 {today}입니다\")\n",
    "print(f\"내일은 {tomorrow}입니다\")\n",
    "\n",
    "# 주말\n",
    "weekend = [days[5], days[6]]  # 토요일, 일요일\n",
    "print(f\"주말: {weekend}\")"
   ]
  },
  {
   "cell_type": "markdown",
   "id": "2cd7689f",
   "metadata": {
    "lines_to_next_cell": 0
   },
   "source": [
    "---\n",
    "\n",
    "## ✂️ 3. 리스트 슬라이싱\n",
    "\n",
    "**슬라이싱(Slicing)**은 인덱스 범위를 지정하여 리스트의 일부분을 추출할 수 있게 해줍니다.\n",
    "\n",
    "### 슬라이싱 문법"
   ]
  },
  {
   "cell_type": "code",
   "execution_count": null,
   "id": "832c78bd",
   "metadata": {
    "lines_to_next_cell": 0
   },
   "outputs": [],
   "source": [
    "리스트이름[시작:끝:단계]"
   ]
  },
  {
   "cell_type": "markdown",
   "id": "70442717",
   "metadata": {},
   "source": [
    "- **시작**: 시작 인덱스 (포함됨)\n",
    "- **끝**: 끝 인덱스 (제외됨)\n",
    "- **단계**: 단계 크기 (선택사항, 기본값 1)\n",
    "\n",
    "### 기본 슬라이싱 예시"
   ]
  },
  {
   "cell_type": "code",
   "execution_count": null,
   "id": "f612aa67",
   "metadata": {},
   "outputs": [],
   "source": [
    "numbers = [0, 1, 2, 3, 4, 5, 6, 7, 8, 9]\n",
    "#          0  1  2  3  4  5  6  7  8  9"
   ]
  },
  {
   "cell_type": "markdown",
   "id": "78830170",
   "metadata": {
    "lines_to_next_cell": 0
   },
   "source": [
    "#### 기본 범위"
   ]
  },
  {
   "cell_type": "code",
   "execution_count": null,
   "id": "a3cf455c",
   "metadata": {},
   "outputs": [],
   "source": [
    "numbers = [0, 1, 2, 3, 4, 5, 6, 7, 8, 9]\n",
    "\n",
    "print(numbers[2:5])    # [2, 3, 4] - 인덱스 2부터 4까지\n",
    "print(numbers[1:7])    # [1, 2, 3, 4, 5, 6] - 인덱스 1부터 6까지\n",
    "print(numbers[0:3])    # [0, 1, 2] - 처음 세 개 항목"
   ]
  },
  {
   "cell_type": "markdown",
   "id": "4de2041f",
   "metadata": {
    "lines_to_next_cell": 0
   },
   "source": [
    "#### 시작 또는 끝 생략"
   ]
  },
  {
   "cell_type": "code",
   "execution_count": null,
   "id": "a94d39dd",
   "metadata": {},
   "outputs": [],
   "source": [
    "numbers = [0, 1, 2, 3, 4, 5, 6, 7, 8, 9]\n",
    "\n",
    "print(numbers[:4])     # [0, 1, 2, 3] - 처음부터 인덱스 3까지\n",
    "print(numbers[6:])     # [6, 7, 8, 9] - 인덱스 6부터 끝까지\n",
    "print(numbers[:])      # [0, 1, 2, 3, 4, 5, 6, 7, 8, 9] - 전체 리스트"
   ]
  },
  {
   "cell_type": "markdown",
   "id": "1caf5eca",
   "metadata": {
    "lines_to_next_cell": 0
   },
   "source": [
    "#### 단계 사용"
   ]
  },
  {
   "cell_type": "code",
   "execution_count": null,
   "id": "18665839",
   "metadata": {},
   "outputs": [],
   "source": [
    "numbers = [0, 1, 2, 3, 4, 5, 6, 7, 8, 9]\n",
    "\n",
    "print(numbers[::2])    # [0, 2, 4, 6, 8] - 두 개씩 건너뛰기\n",
    "print(numbers[1::2])   # [1, 3, 5, 7, 9] - 인덱스 1부터 두 개씩 건너뛰기\n",
    "print(numbers[::3])    # [0, 3, 6, 9] - 세 개씩 건너뛰기"
   ]
  },
  {
   "cell_type": "markdown",
   "id": "3cca83bf",
   "metadata": {
    "lines_to_next_cell": 0
   },
   "source": [
    "#### 슬라이싱에서 음수 인덱스"
   ]
  },
  {
   "cell_type": "code",
   "execution_count": null,
   "id": "c801ec32",
   "metadata": {},
   "outputs": [],
   "source": [
    "numbers = [0, 1, 2, 3, 4, 5, 6, 7, 8, 9]\n",
    "\n",
    "print(numbers[-3:])    # [7, 8, 9] - 마지막 세 개 항목\n",
    "print(numbers[:-2])    # [0, 1, 2, 3, 4, 5, 6, 7] - 뒤 두 개 제외\n",
    "print(numbers[-5:-2])  # [5, 6, 7] - 뒤에서 5번째부터 3번째까지"
   ]
  },
  {
   "cell_type": "markdown",
   "id": "992701db",
   "metadata": {
    "lines_to_next_cell": 0
   },
   "source": [
    "### 실용적인 슬라이싱 예시\n",
    "\n",
    "#### 예시 1: 텍스트 처리"
   ]
  },
  {
   "cell_type": "code",
   "execution_count": null,
   "id": "75646b43",
   "metadata": {},
   "outputs": [],
   "source": [
    "# 단어의 일부 추출\n",
    "word = list(\"프로그래밍\")  # ['프', '로', '그', '래', '밍']\n",
    "\n",
    "# 앞쪽과 뒤쪽 나누기\n",
    "first_half = word[:3]      # ['프', '로', '그']\n",
    "second_half = word[3:]     # ['래', '밍']\n",
    "\n",
    "print(f\"앞쪽: {''.join(first_half)}\")   # \"프로그\"\n",
    "print(f\"뒤쪽: {''.join(second_half)}\")  # \"래밍\""
   ]
  },
  {
   "cell_type": "markdown",
   "id": "ca5c419c",
   "metadata": {
    "lines_to_next_cell": 0
   },
   "source": [
    "#### 예시 2: 주간 데이터"
   ]
  },
  {
   "cell_type": "code",
   "execution_count": null,
   "id": "6bf9bfe7",
   "metadata": {},
   "outputs": [],
   "source": [
    "# 일주일 기온\n",
    "temperatures = [22, 25, 23, 26, 28, 30, 27]\n",
    "days = [\"월\", \"화\", \"수\", \"목\", \"금\", \"토\", \"일\"]\n",
    "\n",
    "# 평일 vs 주말\n",
    "weekdays = temperatures[:5]    # [22, 25, 23, 26, 28]\n",
    "weekend = temperatures[5:]     # [30, 27]\n",
    "\n",
    "print(f\"평일 기온: {weekdays}\")\n",
    "print(f\"주말 기온: {weekend}\")\n",
    "print(f\"평일 평균 기온: {sum(weekdays)/len(weekdays):.1f}\")\n",
    "print(f\"주말 평균 기온: {sum(weekend)/len(weekend):.1f}\")"
   ]
  },
  {
   "cell_type": "markdown",
   "id": "cb34beda",
   "metadata": {
    "lines_to_next_cell": 0
   },
   "source": [
    "---\n",
    "\n",
    "## 🛠️ 4. 필수 리스트 메소드\n",
    "\n",
    "리스트는 요소를 추가, 제거, 수정하기 쉽게 해주는 내장 메소드들을 가지고 있습니다.\n",
    "\n",
    "### 요소 추가하기\n",
    "\n",
    "#### append() - 끝에 추가"
   ]
  },
  {
   "cell_type": "code",
   "execution_count": null,
   "id": "70a69e4b",
   "metadata": {},
   "outputs": [],
   "source": [
    "fruits = [\"사과\", \"바나나\"]\n",
    "fruits.append(\"오렌지\")\n",
    "print(fruits)  # [\"사과\", \"바나나\", \"오렌지\"]\n",
    "\n",
    "fruits.append(\"포도\")\n",
    "print(fruits)  # [\"사과\", \"바나나\", \"오렌지\", \"포도\"]"
   ]
  },
  {
   "cell_type": "markdown",
   "id": "02c505e8",
   "metadata": {
    "lines_to_next_cell": 0
   },
   "source": [
    "#### insert() - 특정 위치에 추가"
   ]
  },
  {
   "cell_type": "code",
   "execution_count": null,
   "id": "62d8d8ed",
   "metadata": {},
   "outputs": [],
   "source": [
    "fruits = [\"사과\", \"바나나\", \"오렌지\"]\n",
    "fruits.insert(1, \"망고\")  # 인덱스 1에 삽입\n",
    "print(fruits)  # [\"사과\", \"망고\", \"바나나\", \"오렌지\"]\n",
    "\n",
    "fruits.insert(0, \"키위\")   # 맨 앞에 삽입\n",
    "print(fruits)  # [\"키위\", \"사과\", \"망고\", \"바나나\", \"오렌지\"]"
   ]
  },
  {
   "cell_type": "markdown",
   "id": "b165fb2a",
   "metadata": {
    "lines_to_next_cell": 0
   },
   "source": [
    "### 요소 제거하기\n",
    "\n",
    "#### remove() - 값으로 제거"
   ]
  },
  {
   "cell_type": "code",
   "execution_count": null,
   "id": "d256afea",
   "metadata": {},
   "outputs": [],
   "source": [
    "fruits = [\"사과\", \"바나나\", \"오렌지\", \"사과\"]\n",
    "fruits.remove(\"바나나\")\n",
    "print(fruits)  # [\"사과\", \"오렌지\", \"사과\"]\n",
    "\n",
    "# 첫 번째로 나타나는 것만 제거\n",
    "fruits.remove(\"사과\")  # 첫 번째 \"사과\" 제거\n",
    "print(fruits)  # [\"오렌지\", \"사과\"]"
   ]
  },
  {
   "cell_type": "markdown",
   "id": "f1b09635",
   "metadata": {
    "lines_to_next_cell": 0
   },
   "source": [
    "#### pop() - 인덱스로 제거"
   ]
  },
  {
   "cell_type": "code",
   "execution_count": null,
   "id": "a3c368fd",
   "metadata": {},
   "outputs": [],
   "source": [
    "fruits = [\"사과\", \"바나나\", \"오렌지\"]\n",
    "\n",
    "# 마지막 항목 제거 (기본값)\n",
    "last_fruit = fruits.pop()\n",
    "print(f\"제거된 과일: {last_fruit}\")  # \"오렌지\"\n",
    "print(fruits)  # [\"사과\", \"바나나\"]\n",
    "\n",
    "# 특정 인덱스 제거\n",
    "first_fruit = fruits.pop(0)\n",
    "print(f\"제거된 과일: {first_fruit}\")  # \"사과\"\n",
    "print(fruits)  # [\"바나나\"]"
   ]
  },
  {
   "cell_type": "markdown",
   "id": "7a4437b5",
   "metadata": {
    "lines_to_next_cell": 0
   },
   "source": [
    "### 실용적인 메소드 예시들\n",
    "\n",
    "#### 예시 1: 쇼핑 카트"
   ]
  },
  {
   "cell_type": "code",
   "execution_count": null,
   "id": "7781aea6",
   "metadata": {},
   "outputs": [],
   "source": [
    "# 쇼핑 카트 관리\n",
    "cart = []\n",
    "\n",
    "# 항목 추가\n",
    "cart.append(\"식빵\")\n",
    "cart.append(\"우유\")\n",
    "cart.append(\"계란\")\n",
    "print(f\"카트: {cart}\")\n",
    "\n",
    "# 특정 위치에 항목 추가\n",
    "cart.insert(1, \"버터\")  # 식빵 다음에 버터 추가\n",
    "print(f\"업데이트된 카트: {cart}\")\n",
    "\n",
    "# 항목 제거\n",
    "cart.remove(\"계란\")\n",
    "print(f\"계란 제거 후: {cart}\")\n",
    "\n",
    "# 마지막 항목 제거\n",
    "last_item = cart.pop()\n",
    "print(f\"마지막 항목 제거: {last_item}\")\n",
    "print(f\"최종 카트: {cart}\")"
   ]
  },
  {
   "cell_type": "markdown",
   "id": "9b90d631",
   "metadata": {
    "lines_to_next_cell": 0
   },
   "source": [
    "#### 예시 2: 할 일 목록"
   ]
  },
  {
   "cell_type": "code",
   "execution_count": null,
   "id": "3b878a7f",
   "metadata": {},
   "outputs": [],
   "source": [
    "# 작업 관리\n",
    "tasks = [\"파이썬 공부\", \"장보기\", \"엄마께 안부 전화\"]\n",
    "\n",
    "print(\"현재 할 일:\")\n",
    "for i in range(len(tasks)):\n",
    "    print(f\"{i+1}. {tasks[i]}\")\n",
    "\n",
    "# 긴급한 작업을 맨 앞에 추가\n",
    "tasks.insert(0, \"과제 제출\")\n",
    "\n",
    "# 일반 작업을 끝에 추가\n",
    "tasks.append(\"방 청소\")\n",
    "\n",
    "# 첫 번째 작업 완료\n",
    "completed = tasks.pop(0)\n",
    "print(f\"\\n완료된 작업: {completed}\")\n",
    "\n",
    "print(\"\\n남은 할 일:\")\n",
    "for i in range(len(tasks)):\n",
    "    print(f\"{i+1}. {tasks[i]}\")"
   ]
  },
  {
   "cell_type": "markdown",
   "id": "60fef312",
   "metadata": {
    "lines_to_next_cell": 0
   },
   "source": [
    "### 추가 유용한 메소드들\n",
    "\n",
    "#### 요소 찾기"
   ]
  },
  {
   "cell_type": "code",
   "execution_count": null,
   "id": "77ef7e29",
   "metadata": {},
   "outputs": [],
   "source": [
    "numbers = [10, 20, 30, 20, 40]\n",
    "\n",
    "# 항목이 있는지 확인\n",
    "if 20 in numbers:\n",
    "    print(\"20이 리스트에 있습니다\")\n",
    "\n",
    "# 항목의 인덱스 찾기\n",
    "index = numbers.index(20)  # 첫 번째로 나타나는 위치 반환\n",
    "print(f\"첫 번째 20의 위치: {index}\")\n",
    "\n",
    "# 항목 개수 세기\n",
    "count = numbers.count(20)\n",
    "print(f\"20이 {count}번 나타납니다\")"
   ]
  },
  {
   "cell_type": "markdown",
   "id": "adb657d3",
   "metadata": {
    "lines_to_next_cell": 0
   },
   "source": [
    "#### 리스트 정보"
   ]
  },
  {
   "cell_type": "code",
   "execution_count": null,
   "id": "dc1da74d",
   "metadata": {},
   "outputs": [],
   "source": [
    "numbers = [10, 20, 30, 40, 50]\n",
    "\n",
    "print(f\"리스트 길이: {len(numbers)}\")\n",
    "print(f\"최댓값: {max(numbers)}\")\n",
    "print(f\"최솟값: {min(numbers)}\")\n",
    "print(f\"합계: {sum(numbers)}\")"
   ]
  },
  {
   "cell_type": "markdown",
   "id": "f7c354ad",
   "metadata": {
    "lines_to_next_cell": 0
   },
   "source": [
    "---\n",
    "\n",
    "## 🔧 실습 문제\n",
    "\n",
    "### 실습 1: 학생 성적 관리 프로그램\n",
    "\n",
    "**문제**: 학생 성적을 저장, 추가, 분석할 수 있는 기본적인 학생 성적 관리 프로그램을 만드세요.\n",
    "\n",
    "**요구사항**:\n",
    "- 빈 성적 목록으로 시작\n",
    "- 3개의 성적을 리스트에 추가\n",
    "- 평균, 최고, 최저 성적 계산 및 표시\n",
    "- 모든 성적을 위치와 함께 표시\n",
    "\n",
    "**정답**:"
   ]
  },
  {
   "cell_type": "code",
   "execution_count": null,
   "id": "6680c323",
   "metadata": {},
   "outputs": [],
   "source": [
    "# 학생 성적 관리 프로그램\n",
    "print(\"=== 학생 성적 관리 프로그램 ===\")\n",
    "\n",
    "# 빈 성적 리스트 초기화\n",
    "grades = []\n",
    "\n",
    "# 성적 추가\n",
    "grades.append(85)\n",
    "grades.append(92)\n",
    "grades.append(78)\n",
    "\n",
    "print(f\"성적: {grades}\")\n",
    "\n",
    "# 모든 성적을 위치와 함께 표시\n",
    "print(\"\\n전체 성적:\")\n",
    "for i in range(len(grades)):\n",
    "    print(f\"학생 {i+1}: {grades[i]}점\")\n",
    "\n",
    "# 통계 계산\n",
    "total = sum(grades)\n",
    "average = total / len(grades)\n",
    "highest = max(grades)\n",
    "lowest = min(grades)\n",
    "\n",
    "print(f\"\\n=== 통계 ===\")\n",
    "print(f\"총 학생 수: {len(grades)}명\")\n",
    "print(f\"평균 성적: {average:.1f}점\")\n",
    "print(f\"최고 성적: {highest}점\")\n",
    "print(f\"최저 성적: {lowest}점\")"
   ]
  },
  {
   "cell_type": "markdown",
   "id": "1f077938",
   "metadata": {
    "lines_to_next_cell": 0
   },
   "source": [
    "### 실습 2: 쇼핑 카트 프로그램\n",
    "\n",
    "**문제**: 상품을 추가하고, 제거하고, 카트 내용을 표시할 수 있는 쇼핑 카트 프로그램을 만드세요.\n",
    "\n",
    "**요구사항**:\n",
    "- 빈 쇼핑 카트로 시작\n",
    "- 카트에 4개 상품 추가\n",
    "- 이름으로 한 상품 제거\n",
    "- 아이템 번호와 함께 최종 카트 내용 표시\n",
    "\n",
    "**정답**:"
   ]
  },
  {
   "cell_type": "code",
   "execution_count": null,
   "id": "c772158f",
   "metadata": {},
   "outputs": [],
   "source": [
    "# 쇼핑 카트 프로그램\n",
    "print(\"=== 쇼핑 카트 프로그램 ===\")\n",
    "\n",
    "# 빈 카트 초기화\n",
    "cart = []\n",
    "\n",
    "# 카트에 상품 추가\n",
    "cart.append(\"사과\")\n",
    "cart.append(\"식빵\")\n",
    "cart.append(\"우유\")\n",
    "cart.append(\"계란\")\n",
    "\n",
    "print(\"카트에 추가된 상품:\")\n",
    "print(f\"카트: {cart}\")\n",
    "\n",
    "# 번호와 함께 카트 표시\n",
    "print(f\"\\n카트에 {len(cart)}개의 상품이 들어있습니다:\")\n",
    "for i in range(len(cart)):\n",
    "    print(f\"{i+1}. {cart[i]}\")\n",
    "\n",
    "# 상품 제거\n",
    "cart.remove(\"식빵\")\n",
    "print(f\"\\n식빵을 제거한 후:\")\n",
    "print(f\"카트: {cart}\")\n",
    "\n",
    "# 최종 카트 내용\n",
    "print(f\"\\n최종 카트 내용:\")\n",
    "for i in range(len(cart)):\n",
    "    print(f\"{i+1}. {cart[i]}\")\n",
    "\n",
    "print(f\"\\n총 상품 개수: {len(cart)}개\")"
   ]
  },
  {
   "cell_type": "markdown",
   "id": "3653258b",
   "metadata": {
    "lines_to_next_cell": 0
   },
   "source": [
    "### 실습 3: 간단한 로또 번호 생성기\n",
    "\n",
    "**문제**: 1부터 10까지의 숫자 중에서 3개의 고유한 숫자를 선택하는 간단한 로또 번호 생성기를 만드세요.\n",
    "\n",
    "**요구사항**:\n",
    "- 1-10 숫자 리스트 생성\n",
    "- 3개의 고유한 숫자를 랜덤하게 선택\n",
    "- 선택된 숫자를 정렬된 순서로 표시\n",
    "- 선택 과정 표시\n",
    "\n",
    "**정답**:"
   ]
  },
  {
   "cell_type": "code",
   "execution_count": null,
   "id": "08e3bfe5",
   "metadata": {},
   "outputs": [],
   "source": [
    "import random\n",
    "\n",
    "# 간단한 로또 번호 생성기\n",
    "print(\"=== 간단한 로또 번호 생성기 (1-10) ===\")\n",
    "\n",
    "# 사용 가능한 숫자 리스트 생성\n",
    "available_numbers = [1, 2, 3, 4, 5, 6, 7, 8, 9, 10]\n",
    "selected_numbers = []\n",
    "\n",
    "print(f\"사용 가능한 숫자: {available_numbers}\")\n",
    "\n",
    "# 3개의 고유한 숫자 선택\n",
    "for i in range(3):\n",
    "    # 사용 가능한 리스트에서 랜덤 선택\n",
    "    random_choice = random.choice(available_numbers)\n",
    "    \n",
    "    # 선택된 숫자에 추가\n",
    "    selected_numbers.append(random_choice)\n",
    "    \n",
    "    # 사용 가능한 숫자에서 제거\n",
    "    available_numbers.remove(random_choice)\n",
    "    \n",
    "    print(f\"{i+1}번째 뽑기: {random_choice} 선택\")\n",
    "\n",
    "print(f\"\\n선택된 숫자: {selected_numbers}\")\n",
    "\n",
    "# 숫자 정렬\n",
    "selected_numbers.sort()\n",
    "print(f\"정렬된 숫자: {selected_numbers}\")\n",
    "\n",
    "# 로또 결과로 표시\n",
    "print(f\"\\n당신의 로또 번호는: {selected_numbers}\")\n",
    "print(\"행운을 빕니다!\")"
   ]
  },
  {
   "cell_type": "markdown",
   "id": "ff253e14",
   "metadata": {},
   "source": [
    "---\n",
    "\n",
    "## 📝 퀴즈\n",
    "\n",
    "### 퀴즈 1: 기본 리스트 연산\n",
    "**문제**: 빈 리스트를 만든 다음, 숫자 1, 2, 3을 순서대로 추가하고, 마지막에 완성된 리스트를 출력하는 코드를 작성하세요.\n",
    "\n",
    "**요구사항**:\n",
    "- 빈 리스트로 시작\n",
    "- 적절한 메소드를 사용하여 숫자를 하나씩 추가\n",
    "- 최종 리스트 출력\n",
    "\n",
    "### 퀴즈 2: 리스트 인덱싱\n",
    "**문제**: 리스트 [10, 20, 30, 40, 50]에서 두 번째와 네 번째 요소를 출력하는 코드를 작성하세요.\n",
    "\n",
    "**요구사항**:\n",
    "- 적절한 인덱싱을 사용하여 요소에 접근\n",
    "- 두 요소를 명확하게 출력\n",
    "- 리스트 인덱싱이 0부터 시작한다는 것을 기억\n",
    "\n",
    "### 퀴즈 3: 최댓값과 최솟값 찾기\n",
    "**문제**: 리스트 [85, 90, 78, 92, 88]에서 가장 높은 점수와 가장 낮은 점수를 찾아 출력하는 프로그램을 작성하세요.\n",
    "\n",
    "**요구사항**:\n",
    "- 주어진 점수 리스트 사용\n",
    "- 최댓값과 최솟값 찾기\n",
    "- 설명적인 메시지와 함께 결과를 명확하게 표시\n",
    "\n",
    "---\n",
    "\n",
    "## 📖 참고 자료\n",
    "\n",
    "1. **파이썬 공식 문서 - 리스트**: https://docs.python.org/ko/3/tutorial/datastructures.html#more-on-lists\n",
    "   - 리스트에 대한 공식 설명\n",
    "\n",
    "2. **점프 투 파이썬 - 리스트**: https://wikidocs.net/14\n",
    "   - 한국어로 된 리스트 설명\n",
    "\n",
    "3. **코딩 도장 - 리스트**: https://dojang.io/mod/page/view.php?id=2281\n",
    "   - 파이썬 리스트 상세 설명\n",
    "\n",
    "4. **Real Python - 파이썬 리스트**: https://realpython.com/python-lists-tuples/\n",
    "   - 영어 자료이지만 심화 학습용\n",
    "\n",
    "---\n",
    "\n",
    "## 💡 성공을 위한 팁\n",
    "\n",
    "### 일반적인 실수\n",
    "- **인덱스 범위 초과**: 존재하지 않는 요소에 접근하려 함\n",
    "- **0 기반 인덱싱 잊기**: 첫 번째 요소는 인덱스 1이 아닌 0\n",
    "- **반복 중 리스트 수정**: 예상치 못한 동작 발생 가능\n",
    "- **remove()와 pop() 혼동**: remove()는 값 사용, pop()은 인덱스 사용\n",
    "\n",
    "### 연습 팁\n",
    "- **작은 리스트로 시작**: 먼저 3-5개 요소로 연습\n",
    "- **인덱스 시각화**: 인덱스 번호와 함께 리스트 그려보기\n",
    "- **print() 자주 사용**: 각 연산 후 리스트 내용 확인\n",
    "- **슬라이싱 실험**: 다양한 시작, 끝, 단계 조합 시도\n",
    "\n",
    "### 디버깅 요령\n",
    "- **리스트 길이 확인**: len()을 사용하여 리스트 크기 검증\n",
    "- **중간 결과 출력**: 각 연산 후 리스트 변화 확인\n",
    "- **설명적인 변수명 사용**: 코드를 이해하기 쉽게 만듦\n",
    "\n",
    "### 실제 활용 분야\n",
    "- **데이터 저장**: 관련 정보의 컬렉션 저장\n",
    "- **사용자 인터페이스**: 메뉴 옵션과 사용자 선택 관리\n",
    "- **게임 개발**: 점수, 플레이어 인벤토리, 게임 상태 추적\n",
    "- **데이터 분석**: 데이터셋 처리 및 분석\n",
    "\n",
    "---\n",
    "\n",
    "## 📋 숙제\n",
    "\n",
    "### 연습 문제\n",
    "\n",
    "1. **좋아하는 영화**: 좋아하는 영화 5편의 리스트를 만들고 번호와 함께 출력\n",
    "\n",
    "2. **숫자 연산**: [1, 3, 5, 7, 9] 리스트를 만들고 2, 4, 6, 8, 10을 추가하여 완성된 리스트 출력\n",
    "\n",
    "3. **단어 뒤집기**: [\"안녕\", \"세상\", \"파이썬\"] 리스트에서 슬라이싱을 사용하여 각 단어를 거꾸로 출력\n",
    "\n",
    "4. **성적 분석**: [78, 85, 92, 67, 88, 95, 71] 성적 리스트에서 80점 이상인 성적만 찾아서 새 리스트 만들기\n",
    "\n",
    "### 도전 문제\n",
    "\n",
    "5. **반 관리자 프로그램**: \n",
    "   - 학생 이름 리스트 저장\n",
    "   - 새 학생 추가 기능\n",
    "   - 학생 제거 기능  \n",
    "   - 번호와 함께 반 명단 표시\n",
    "   - 특정 글자로 시작하는 학생 이름 찾기\n",
    "   - 반 크기 계산 및 표시\n",
    "\n",
    "**프로그래밍 여정에 행운을 빕니다!** ⭐"
   ]
  }
 ],
 "metadata": {
  "jupytext": {
   "cell_metadata_filter": "-all",
   "main_language": "python",
   "notebook_metadata_filter": "-all"
  }
 },
 "nbformat": 4,
 "nbformat_minor": 5
}
