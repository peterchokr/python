{
 "cells": [
  {
   "cell_type": "markdown",
   "id": "96314cea",
   "metadata": {},
   "source": [
    "# 파이썬 파일 입출력(File I/O) \n",
    "\n",
    "**수업 시간**: 3시간\n",
    "**구성**: 강의 및 실습 2시간 + 퀴즈 1시간\n",
    "**수준**: 중급\n",
    "\n",
    "---\n",
    "\n",
    "## 🎯 학습 목표\n",
    "\n",
    "이 수업을 마친 후 학생들은 다음을 할 수 있습니다:\n",
    "\n",
    "- 파이썬 메소드를 사용하여 파일 열기와 닫기\n",
    "- 텍스트 파일에서 데이터 읽기\n",
    "- 텍스트 파일에 데이터 쓰기\n",
    "- with 문을 사용한 안전한 파일 처리\n",
    "- 파일을 활용한 실용적인 프로그램 작성\n",
    "\n",
    "---\n",
    "\n",
    "## 📂 1. 파일 열기와 닫기\n",
    "\n",
    "### 왜 파일을 사용하나요?\n",
    "\n",
    "**파일(File)**은 프로그램이 데이터를 영구적으로 저장할 수 있게 해줍니다. 파일이 없으면 프로그램이 끝날 때 모든 데이터가 사라집니다.\n",
    "\n",
    "### 기본 파일 작업\n",
    "\n",
    "#### 파일 열기"
   ]
  },
  {
   "cell_type": "code",
   "execution_count": null,
   "id": "85ad463a",
   "metadata": {},
   "outputs": [],
   "source": [
    "# 기본 문법\n",
    "file_object = open(\"파일명.txt\", \"모드\")"
   ]
  },
  {
   "cell_type": "markdown",
   "id": "ad329df7",
   "metadata": {},
   "source": [
    "**파일 모드(File Mode):**\n",
    "\n",
    "- `\"r\"` - 읽기(Read): 기존 파일 읽기\n",
    "- `\"w\"` - 쓰기(Write): 새 파일 생성 또는 기존 파일 교체\n",
    "- `\"a\"` - 추가(Append): 기존 파일 끝에 내용 추가\n",
    "\n",
    "#### 간단한 예시"
   ]
  },
  {
   "cell_type": "code",
   "execution_count": null,
   "id": "f88c5921",
   "metadata": {},
   "outputs": [],
   "source": [
    "# 파일 생성하고 쓰기\n",
    "file = open(\"hello.txt\", \"w\", encoding=\"utf-8\")\n",
    "file.write(\"안녕하세요, 파이썬!\")\n",
    "file.close()\n",
    "\n",
    "# 파일에서 읽기\n",
    "file = open(\"hello.txt\", \"r\", encoding=\"utf-8\")\n",
    "content = file.read()\n",
    "print(content)\n",
    "file.close()"
   ]
  },
  {
   "cell_type": "markdown",
   "id": "e5416571",
   "metadata": {},
   "source": [
    "### 왜 파일을 닫아야 하나요?\n",
    "\n",
    "파일 작업이 끝나면 항상 닫아야 합니다:\n",
    "\n",
    "- 메모리 절약\n",
    "- 데이터 손실 방지\n",
    "- 다른 프로그램이 파일 사용 가능\n",
    "\n",
    "---\n",
    "\n",
    "## 📖 2. 텍스트 파일 읽기\n",
    "\n",
    "### 읽기 방법들\n",
    "\n",
    "#### read() - 전체 파일 읽기\n",
    "\n",
    "**먼저 다음과 같이 story.txt 파일을 만들어 보세요:**\n",
    "\n",
    "```\n",
    "첫 번째 줄입니다.\n",
    "두 번째 줄입니다.\n",
    "세 번째 줄입니다.\n",
    "```"
   ]
  },
  {
   "cell_type": "code",
   "execution_count": null,
   "id": "78be11f5",
   "metadata": {},
   "outputs": [],
   "source": [
    "file = open(\"story.txt\", \"r\", encoding=\"utf-8\")\n",
    "content = file.read()\n",
    "print(content)\n",
    "file.close()"
   ]
  },
  {
   "cell_type": "markdown",
   "id": "540e86da",
   "metadata": {},
   "source": [
    "#### readline() - 한 줄 읽기"
   ]
  },
  {
   "cell_type": "code",
   "execution_count": null,
   "id": "aa4b9d80",
   "metadata": {},
   "outputs": [],
   "source": [
    "file = open(\"story.txt\", \"r\", encoding=\"utf-8\")\n",
    "first_line = file.readline()\n",
    "second_line = file.readline()\n",
    "print(\"첫 번째 줄:\", first_line)\n",
    "print(\"두 번째 줄:\", second_line)\n",
    "file.close()"
   ]
  },
  {
   "cell_type": "markdown",
   "id": "b6355d4a",
   "metadata": {},
   "source": [
    "#### readlines() - 모든 줄 읽기"
   ]
  },
  {
   "cell_type": "code",
   "execution_count": null,
   "id": "a5d08b39",
   "metadata": {},
   "outputs": [],
   "source": [
    "file = open(\"story.txt\", \"r\", encoding=\"utf-8\")\n",
    "all_lines = file.readlines()\n",
    "print(\"총 줄 수:\", len(all_lines))\n",
    "for line in all_lines:\n",
    "    print(line.strip())\n",
    "file.close()"
   ]
  },
  {
   "cell_type": "markdown",
   "id": "1d391bf2",
   "metadata": {},
   "source": [
    "### 실용적인 예시"
   ]
  },
  {
   "cell_type": "code",
   "execution_count": null,
   "id": "61fdafb0",
   "metadata": {},
   "outputs": [],
   "source": [
    "# 학생 이름 파일 생성\n",
    "file = open(\"students.txt\", \"w\", encoding=\"utf-8\")\n",
    "file.write(\"김철수\\n\")\n",
    "file.write(\"이영희\\n\")\n",
    "file.write(\"박민수\\n\")\n",
    "file.close()\n",
    "\n",
    "# 이름 읽어서 출력\n",
    "file = open(\"students.txt\", \"r\", encoding=\"utf-8\")\n",
    "students = file.readlines()\n",
    "print(\"우리 반 학생들:\")\n",
    "for i, student in enumerate(students, 1):\n",
    "    print(f\"{i}. {student.strip()}\")\n",
    "file.close()"
   ]
  },
  {
   "cell_type": "markdown",
   "id": "8756ed75",
   "metadata": {},
   "source": [
    "---\n",
    "\n",
    "## ✏️ 3. 텍스트 파일 쓰기\n",
    "\n",
    "### 쓰기 모드\n",
    "\n",
    "#### \"w\" 모드 - 쓰기(교체)"
   ]
  },
  {
   "cell_type": "code",
   "execution_count": null,
   "id": "31f39f93",
   "metadata": {},
   "outputs": [],
   "source": [
    "# 파일 내용을 모두 교체합니다\n",
    "file = open(\"notes.txt\", \"w\", encoding=\"utf-8\")\n",
    "file.write(\"새로운 메모입니다\")\n",
    "file.close()"
   ]
  },
  {
   "cell_type": "markdown",
   "id": "396c2bfd",
   "metadata": {},
   "source": [
    "#### \"a\" 모드 - 추가"
   ]
  },
  {
   "cell_type": "code",
   "execution_count": null,
   "id": "589274a8",
   "metadata": {},
   "outputs": [],
   "source": [
    "# 파일 끝에 내용을 추가합니다\n",
    "file = open(\"notes.txt\", \"a\", encoding=\"utf-8\")\n",
    "file.write(\"\\n끝에 추가된 내용입니다\")\n",
    "file.close()"
   ]
  },
  {
   "cell_type": "markdown",
   "id": "ad90e9eb",
   "metadata": {},
   "source": [
    "### 여러 줄 쓰기"
   ]
  },
  {
   "cell_type": "code",
   "execution_count": null,
   "id": "df891439",
   "metadata": {},
   "outputs": [],
   "source": [
    "# 방법 1: 여러 번 write() 호출\n",
    "file = open(\"data.txt\", \"w\", encoding=\"utf-8\")\n",
    "file.write(\"첫 번째 줄\\n\")\n",
    "file.write(\"두 번째 줄\\n\")\n",
    "file.write(\"세 번째 줄\\n\")\n",
    "file.close()\n",
    "\n",
    "# 방법 2: 줄 리스트 쓰기\n",
    "lines = [\"첫 번째 줄\\n\", \"두 번째 줄\\n\", \"세 번째 줄\\n\"]\n",
    "file = open(\"data.txt\", \"w\", encoding=\"utf-8\")\n",
    "file.writelines(lines)\n",
    "file.close()"
   ]
  },
  {
   "cell_type": "markdown",
   "id": "1de3f248",
   "metadata": {},
   "source": [
    "### 간단한 로그 예시"
   ]
  },
  {
   "cell_type": "code",
   "execution_count": null,
   "id": "dd83abf6",
   "metadata": {},
   "outputs": [],
   "source": [
    "# 간단한 활동 로그 만들기\n",
    "file = open(\"log.txt\", \"w\", encoding=\"utf-8\")\n",
    "file.write(\"프로그램 시작\\n\")\n",
    "file.close()\n",
    "\n",
    "# 추가 항목들\n",
    "file = open(\"log.txt\", \"a\", encoding=\"utf-8\")\n",
    "file.write(\"사용자 로그인\\n\")\n",
    "file.write(\"데이터 처리 완료\\n\")\n",
    "file.close()\n",
    "\n",
    "# 로그 읽기\n",
    "file = open(\"log.txt\", \"r\", encoding=\"utf-8\")\n",
    "log_content = file.read()\n",
    "print(\"활동 로그:\")\n",
    "print(log_content)\n",
    "file.close()"
   ]
  },
  {
   "cell_type": "markdown",
   "id": "65bcfa11",
   "metadata": {},
   "source": [
    "---\n",
    "\n",
    "## 🔒 4. with 문 사용하기\n",
    "\n",
    "### with문이란?\n",
    "\n",
    "**with 문(with statement)**은 파일을 자동으로 닫습니다. 수동으로 닫는 것보다 안전하고 깔끔합니다.\n",
    "\n",
    "### 기본 with 문법\n",
    "\n",
    "**먼저 다음과 같이 example.txt 파일을 만들어 보세요:**\n",
    "\n",
    "```\n",
    "이것은 예제 파일입니다.\n",
    "with문을 연습해봅시다.\n",
    "```"
   ]
  },
  {
   "cell_type": "code",
   "execution_count": null,
   "id": "f089c8e2",
   "metadata": {},
   "outputs": [],
   "source": [
    "# 기존 방법\n",
    "file = open(\"example.txt\", \"r\", encoding=\"utf-8\")\n",
    "content = file.read()\n",
    "file.close()\n",
    "\n",
    "# with문 사용\n",
    "with open(\"example.txt\", \"r\", encoding=\"utf-8\") as file:\n",
    "    content = file.read()\n",
    "# 여기서 파일이 자동으로 닫힙니다"
   ]
  },
  {
   "cell_type": "markdown",
   "id": "84bdb125",
   "metadata": {},
   "source": [
    "### with문으로 읽기\n",
    "\n",
    "**먼저 다음과 같이 data.txt 파일을 만들어 보세요:**\n",
    "\n",
    "```\n",
    "첫 번째 데이터\n",
    "두 번째 데이터\n",
    "세 번째 데이터\n",
    "```"
   ]
  },
  {
   "cell_type": "code",
   "execution_count": null,
   "id": "1c8024fc",
   "metadata": {},
   "outputs": [],
   "source": [
    "# 전체 파일 읽기\n",
    "with open(\"data.txt\", \"r\", encoding=\"utf-8\") as file:\n",
    "    content = file.read()\n",
    "    print(content)\n",
    "\n",
    "# 한 줄씩 읽기\n",
    "with open(\"data.txt\", \"r\", encoding=\"utf-8\") as file:\n",
    "    for line_number, line in enumerate(file, 1):\n",
    "        print(f\"{line_number}번째 줄: {line.strip()}\")"
   ]
  },
  {
   "cell_type": "markdown",
   "id": "1348c235",
   "metadata": {},
   "source": [
    "### with문으로 쓰기"
   ]
  },
  {
   "cell_type": "code",
   "execution_count": null,
   "id": "ab34c542",
   "metadata": {},
   "outputs": [],
   "source": [
    "# 파일에 쓰기\n",
    "with open(\"output.txt\", \"w\", encoding=\"utf-8\") as file:\n",
    "    file.write(\"with문으로 작성한 내용!\\n\")\n",
    "    file.write(\"더 깔끔한 코드입니다.\\n\")\n",
    "\n",
    "# 파일에 추가\n",
    "with open(\"output.txt\", \"a\", encoding=\"utf-8\") as file:\n",
    "    file.write(\"이 줄은 추가되었습니다.\\n\")"
   ]
  },
  {
   "cell_type": "markdown",
   "id": "b7fce30f",
   "metadata": {},
   "source": [
    "### 완전한 예시"
   ]
  },
  {
   "cell_type": "code",
   "execution_count": null,
   "id": "9a749599",
   "metadata": {},
   "outputs": [],
   "source": [
    "# 간단한 성적부 만들기\n",
    "students_grades = [\n",
    "    \"김철수: 85점\",\n",
    "    \"이영희: 92점\", \n",
    "    \"박민수: 78점\"\n",
    "]\n",
    "\n",
    "# 성적을 파일에 쓰기\n",
    "with open(\"grades.txt\", \"w\", encoding=\"utf-8\") as file:\n",
    "    file.write(\"학생 성적표\\n\")\n",
    "    file.write(\"=\" * 20 + \"\\n\")\n",
    "    for grade in students_grades:\n",
    "        file.write(grade + \"\\n\")\n",
    "\n",
    "# 성적 읽어서 출력\n",
    "with open(\"grades.txt\", \"r\", encoding=\"utf-8\") as file:\n",
    "    content = file.read()\n",
    "    print(content)"
   ]
  },
  {
   "cell_type": "markdown",
   "id": "0335550c",
   "metadata": {},
   "source": [
    "---\n",
    "\n",
    "## 🔧 실습 문제\n",
    "\n",
    "### 실습 1: 간단한 메모 프로그램\n",
    "\n",
    "**문제**: 메모를 파일에 저장하고 읽어오는 간단한 프로그램을 만드세요.\n",
    "\n",
    "**정답**:"
   ]
  },
  {
   "cell_type": "code",
   "execution_count": null,
   "id": "a089c608",
   "metadata": {},
   "outputs": [],
   "source": [
    "def write_memo(memo):\n",
    "    \"\"\"메모를 파일에 저장\"\"\"\n",
    "    with open(\"memo.txt\", \"w\", encoding=\"utf-8\") as file:\n",
    "        file.write(memo)\n",
    "    print(\"메모가 저장되었습니다!\")\n",
    "\n",
    "def read_memo():\n",
    "    \"\"\"메모 파일 읽기\"\"\"\n",
    "    try:\n",
    "        with open(\"memo.txt\", \"r\", encoding=\"utf-8\") as file:\n",
    "            content = file.read()\n",
    "        print(\"저장된 메모:\")\n",
    "        print(content)\n",
    "    except FileNotFoundError:\n",
    "        print(\"저장된 메모가 없습니다.\")\n",
    "\n",
    "def add_memo(new_memo):\n",
    "    \"\"\"기존 메모에 추가\"\"\"\n",
    "    with open(\"memo.txt\", \"a\", encoding=\"utf-8\") as file:\n",
    "        file.write(\"\\n\" + new_memo)\n",
    "    print(\"메모가 추가되었습니다!\")\n",
    "\n",
    "# 프로그램 테스트\n",
    "write_memo(\"오늘 파이썬 파일 처리를 배웠다.\")\n",
    "read_memo()\n",
    "add_memo(\"내일은 더 연습해보자!\")\n",
    "read_memo()"
   ]
  },
  {
   "cell_type": "markdown",
   "id": "e12b6e68",
   "metadata": {},
   "source": [
    "### 실습 2: 쇼핑 목록 관리\n",
    "\n",
    "**문제**: 쇼핑 목록을 파일에 저장하고 관리하는 프로그램을 만드세요.\n",
    "\n",
    "**정답**:"
   ]
  },
  {
   "cell_type": "code",
   "execution_count": null,
   "id": "4de1cf58",
   "metadata": {},
   "outputs": [],
   "source": [
    "def add_item(item):\n",
    "    \"\"\"쇼핑 목록에 항목 추가\"\"\"\n",
    "    with open(\"shopping_list.txt\", \"a\", encoding=\"utf-8\") as file:\n",
    "        file.write(item + \"\\n\")\n",
    "    print(f\"'{item}'이 추가되었습니다.\")\n",
    "\n",
    "def show_list():\n",
    "    \"\"\"쇼핑 목록 보기\"\"\"\n",
    "    try:\n",
    "        with open(\"shopping_list.txt\", \"r\", encoding=\"utf-8\") as file:\n",
    "            items = file.readlines()\n",
    "      \n",
    "        print(\"=== 쇼핑 목록 ===\")\n",
    "        for i, item in enumerate(items, 1):\n",
    "            print(f\"{i}. {item.strip()}\")\n",
    "    except FileNotFoundError:\n",
    "        print(\"쇼핑 목록이 비어있습니다.\")\n",
    "\n",
    "def count_items():\n",
    "    \"\"\"항목 개수 세기\"\"\"\n",
    "    try:\n",
    "        with open(\"shopping_list.txt\", \"r\", encoding=\"utf-8\") as file:\n",
    "            items = file.readlines()\n",
    "        print(f\"총 {len(items)}개의 항목이 있습니다.\")\n",
    "    except FileNotFoundError:\n",
    "        print(\"쇼핑 목록이 비어있습니다.\")\n",
    "\n",
    "# 프로그램 테스트\n",
    "add_item(\"사과\")\n",
    "add_item(\"바나나\")\n",
    "add_item(\"우유\")\n",
    "show_list()\n",
    "count_items()"
   ]
  },
  {
   "cell_type": "markdown",
   "id": "73f0ecde",
   "metadata": {},
   "source": [
    "### 실습 3: 점수 기록 프로그램\n",
    "\n",
    "**문제**: 게임 점수를 파일에 기록하고 최고 점수를 찾는 프로그램을 만드세요.\n",
    "\n",
    "**정답**:"
   ]
  },
  {
   "cell_type": "code",
   "execution_count": null,
   "id": "1301f719",
   "metadata": {},
   "outputs": [],
   "source": [
    "def save_score(score):\n",
    "    \"\"\"점수를 파일에 저장\"\"\"\n",
    "    with open(\"scores.txt\", \"a\", encoding=\"utf-8\") as file:\n",
    "        file.write(str(score) + \"\\n\")\n",
    "    print(f\"점수 {score}가 저장되었습니다.\")\n",
    "\n",
    "def show_all_scores():\n",
    "    \"\"\"모든 점수 보기\"\"\"\n",
    "    try:\n",
    "        with open(\"scores.txt\", \"r\", encoding=\"utf-8\") as file:\n",
    "            scores = file.readlines()\n",
    "      \n",
    "        print(\"=== 점수 기록 ===\")\n",
    "        for i, score in enumerate(scores, 1):\n",
    "            print(f\"게임 {i}: {score.strip()}점\")\n",
    "    except FileNotFoundError:\n",
    "        print(\"점수 기록이 없습니다.\")\n",
    "\n",
    "def find_best_score():\n",
    "    \"\"\"최고 점수 찾기\"\"\"\n",
    "    try:\n",
    "        with open(\"scores.txt\", \"r\", encoding=\"utf-8\") as file:\n",
    "            scores = file.readlines()\n",
    "      \n",
    "        # 문자열을 숫자로 변환\n",
    "        score_numbers = []\n",
    "        for score in scores:\n",
    "            score_numbers.append(int(score.strip()))\n",
    "      \n",
    "        best_score = max(score_numbers)\n",
    "        print(f\"최고 점수: {best_score}점\")\n",
    "    except FileNotFoundError:\n",
    "        print(\"점수 기록이 없습니다.\")\n",
    "    except ValueError:\n",
    "        print(\"점수 파일에 오류가 있습니다.\")\n",
    "\n",
    "# 프로그램 테스트\n",
    "save_score(85)\n",
    "save_score(92)\n",
    "save_score(78)\n",
    "show_all_scores()\n",
    "find_best_score()"
   ]
  },
  {
   "cell_type": "markdown",
   "id": "3f5bd2fb",
   "metadata": {},
   "source": [
    "---\n",
    "\n",
    "## 📝 퀴즈\n",
    "\n",
    "### 퀴즈 1: 기본 파일 쓰기\n",
    "\n",
    "**문제**: \"안녕, 파이썬!\" 문자열을 \"greeting.txt\" 파일에 쓰고, 올바르게 저장되었는지 확인하기 위해 다시 읽어오는 코드를 작성하세요.\n",
    "\n",
    "**답을 여기에 작성하세요**:"
   ]
  },
  {
   "cell_type": "code",
   "execution_count": null,
   "id": "6ce86969",
   "metadata": {},
   "outputs": [],
   "source": [
    "# 여기에 코드를 작성하세요"
   ]
  },
  {
   "cell_type": "markdown",
   "id": "0fafc652",
   "metadata": {},
   "source": [
    "### 퀴즈 2: with문을 이용한 파일 읽기\n",
    "\n",
    "**문제**: with문을 사용하여 파일 내용을 읽고 출력하는 코드를 작성하세요. 먼저 \"message.txt\" 파일을 만들어 텍스트를 넣고, 그 내용을 읽어서 출력하세요.\n",
    "\n",
    "**답을 여기에 작성하세요**:"
   ]
  },
  {
   "cell_type": "code",
   "execution_count": null,
   "id": "06634bbe",
   "metadata": {},
   "outputs": [],
   "source": [
    "# 여기에 코드를 작성하세요"
   ]
  },
  {
   "cell_type": "markdown",
   "id": "535d82d6",
   "metadata": {},
   "source": [
    "### 퀴즈 3: 문자 수 분석\n",
    "\n",
    "**문제**: 여러 줄 텍스트 파일의 각 줄 문자 수를 세는 프로그램을 작성하세요. 프로그램은 다음을 해야 합니다:\n",
    "\n",
    "1. 다른 텍스트가 포함된 최소 3줄의 텍스트 파일 \"text_lines.txt\" 생성\n",
    "2. 파일을 한 줄씩 읽기\n",
    "3. 각 줄의 문자 수를 계산하고 표시\n",
    "4. 전체 파일의 총 문자 수 표시\n",
    "\n",
    "**답을 여기에 작성하세요**:"
   ]
  },
  {
   "cell_type": "code",
   "execution_count": null,
   "id": "8a4d9662",
   "metadata": {},
   "outputs": [],
   "source": [
    "# 여기에 코드를 작성하세요"
   ]
  },
  {
   "cell_type": "markdown",
   "id": "556432df",
   "metadata": {},
   "source": [
    "---\n",
    "\n",
    "## 📖 참고 자료\n",
    "\n",
    "1. **Python 파일 입출력**: https://docs.python.org/3/tutorial/inputoutput.html#reading-and-writing-files\n",
    "2. **Python with 문**: https://www.programiz.com/python-programming/file-io\n",
    "3. **파일 처리 튜토리얼**: https://www.w3schools.com/python/python_file_handling.asp\n",
    "\n",
    "---\n",
    "\n",
    "## 💡 핵심 포인트\n",
    "\n",
    "### 기억하세요\n",
    "\n",
    "1. **항상 파일을 닫거나** with문 사용하기\n",
    "2. **올바른 모드 선택**: 읽기는 'r', 쓰기는 'w', 추가는 'a'\n",
    "3. **with문 사용** - 더 안전하고 깔끔함\n",
    "4. **'w' 모드는 기존 파일을 덮어씀** - 주의 필요\n",
    "5. **인코딩 지정** - 한글 파일 처리 시 encoding=\"utf-8\" 사용\n",
    "\n",
    "### 실제 활용 예시\n",
    "\n",
    "- **데이터 저장**: 게임 점수, 설정 정보 저장\n",
    "- **로그 기록**: 프로그램 활동 추적\n",
    "- **설정 파일**: 사용자 환경 설정 저장\n",
    "- **데이터 분석**: 텍스트 파일 분석 및 처리\n",
    "\n",
    "### 주의사항\n",
    "\n",
    "1. **파일 경로**: 상대 경로와 절대 경로 구분\n",
    "2. **인코딩 문제**: 한글 처리 시 UTF-8 사용\n",
    "3. **예외 처리**: FileNotFoundError 등 처리\n",
    "4. **메모리 관리**: 큰 파일 처리 시 주의\n",
    "\n",
    "---\n",
    "\n",
    "## 📋 숙제\n",
    "\n",
    "1. **연습**: 모든 실습 문제를 완료하고 수정해보기\n",
    "2. **응용**: 파일을 사용한 간단한 메모장 프로그램 만들기\n",
    "3. **심화**: 다양한 유형의 텍스트 파일 읽기 및 쓰기 연습\n",
    "4. **프로젝트**: 개인 가계부 프로그램을 파일로 구현하기\n",
    "\n",
    "**파일 작업은 프로그램에 많은 가능성을 열어줍니다!**"
   ]
  }
 ],
 "metadata": {
  "jupytext": {
   "cell_metadata_filter": "-all",
   "main_language": "python",
   "notebook_metadata_filter": "-all"
  }
 },
 "nbformat": 4,
 "nbformat_minor": 5
}
