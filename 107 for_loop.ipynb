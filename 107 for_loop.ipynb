{
 "cells": [
  {
   "cell_type": "markdown",
   "id": "e5f38616",
   "metadata": {
    "lines_to_next_cell": 0
   },
   "source": [
    "# 반복문 1 - for문 (for Loop)\n",
    "\n",
    "**수업 시간**: 3시간  \n",
    "**구성**: 강의 및 실습 2시간 + 퀴즈 1시간  \n",
    "**수준**: 초급  \n",
    "**선수 학습**: 변수, 데이터 타입, 연산자, 입출력, 조건문\n",
    "\n",
    "---\n",
    "\n",
    "## 🎯 학습 목표\n",
    "\n",
    "이 수업을 마친 후 학생들은 다음을 할 수 있습니다:\n",
    "\n",
    "- 반복문(loop)의 개념과 목적 이해하기\n",
    "- range() 함수를 사용한 기본 for문 작성하기\n",
    "- 문자열에서 for문 사용하기\n",
    "- 패턴 생성을 위한 간단한 중첩 반복문(nested loop) 작성하기\n",
    "- 실용적인 프로그래밍 문제에 반복문 적용하기\n",
    "\n",
    "---\n",
    "\n",
    "## 🔄 1. 반복문이란 무엇인가?\n",
    "\n",
    "**반복문(Loop)**은 같은 코드를 여러 번 작성하지 않고도 코드를 여러 번 반복해서 실행할 수 있게 해주는 구문입니다.\n",
    "\n",
    "### 실생활 예시\n",
    "\n",
    "#### 예시 1: 일상 루틴\n",
    "```\n",
    "일상 루틴:\n",
    "월요일부터 금요일까지:\n",
    "    - 7시에 기상\n",
    "    - 세수 및 양치\n",
    "    - 아침 식사\n",
    "    - 학교 가기\n",
    "\n",
    "파이썬 반복문:\n",
    "for day in range(5):\n",
    "    print(\"7시에 기상\")\n",
    "    print(\"세수 및 양치\") \n",
    "    print(\"아침 식사\")\n",
    "    print(\"학교 가기\")\n",
    "    print()\n",
    "```\n",
    "\n",
    "#### 예시 2: 반복 작업\n",
    "```\n",
    "만두 10개 만들기:\n",
    "10번 반복:\n",
    "    - 만두피에 소 넣기\n",
    "    - 예쁘게 접기\n",
    "    - 접시에 올려놓기\n",
    "\n",
    "파이썬 반복문:\n",
    "for i in range(10):\n",
    "    print(f\"{i+1}번째 만두:\")\n",
    "    print(\"  만두피에 소 넣기\")\n",
    "    print(\"  예쁘게 접기\")\n",
    "    print(\"  접시에 올려놓기\")\n",
    "```\n",
    "\n",
    "### 반복문의 장점\n",
    "- **코드 재사용성**: 같은 코드를 여러 번 작성하지 않아도 됨\n",
    "- **시간 절약**: 적은 코드로 더 많은 작업 수행\n",
    "- **오류 감소**: 복사-붙여넣기로 인한 실수 방지\n",
    "- **가독성 향상**: 코드가 더 깔끔하고 이해하기 쉬워짐\n",
    "\n",
    "### 반복문을 사용하지 않으면?"
   ]
  },
  {
   "cell_type": "code",
   "execution_count": null,
   "id": "1bddd8fb",
   "metadata": {},
   "outputs": [],
   "source": [
    "# 반복문 없이 1부터 5까지 출력 (비효율적)\n",
    "print(\"1\")\n",
    "print(\"2\")\n",
    "print(\"3\")\n",
    "print(\"4\")\n",
    "print(\"5\")\n",
    "\n",
    "# 반복문 사용 (효율적)\n",
    "for i in range(1, 6):\n",
    "    print(i)"
   ]
  },
  {
   "cell_type": "markdown",
   "id": "f434c6af",
   "metadata": {
    "lines_to_next_cell": 0
   },
   "source": [
    "---\n",
    "\n",
    "## 🔢 2. 기본 for문 구조\n",
    "\n",
    "### 문법 (Syntax)"
   ]
  },
  {
   "cell_type": "code",
   "execution_count": null,
   "id": "62fae949",
   "metadata": {},
   "outputs": [],
   "source": [
    "for 변수 in 시퀀스:\n",
    "    # 반복할 코드 (들여쓰기 필수!)\n",
    "    명령문1\n",
    "    명령문2"
   ]
  },
  {
   "cell_type": "markdown",
   "id": "c3802a2a",
   "metadata": {
    "lines_to_next_cell": 0
   },
   "source": [
    "### 중요 구성 요소\n",
    "- **for 키워드**: 반복문의 시작을 나타냄\n",
    "- **변수**: 시퀀스의 각 항목을 하나씩 저장하는 임시 변수\n",
    "- **in 키워드**: 변수와 시퀀스를 연결하는 연산자\n",
    "- **시퀀스**: 반복할 항목들의 모음 (range, 문자열 등)\n",
    "- **콜론(:)**: for문 헤더의 끝을 표시 (절대 빼먹으면 안됨!)\n",
    "- **들여쓰기**: 반복문 내부 코드를 나타냄 (탭 또는 스페이스 4개)\n",
    "\n",
    "### 반복문 실행 과정"
   ]
  },
  {
   "cell_type": "code",
   "execution_count": null,
   "id": "555e86df",
   "metadata": {},
   "outputs": [],
   "source": [
    "# 예시로 실행 과정 이해하기\n",
    "for number in range(3):\n",
    "    print(f\"현재 숫자: {number}\")\n",
    "    print(\"작업 완료\")\n",
    "\n",
    "# 실행 과정:\n",
    "# 1단계: number = 0 → 코드 실행\n",
    "# 2단계: number = 1 → 코드 실행  \n",
    "# 3단계: number = 2 → 코드 실행\n",
    "# 4단계: 더 이상 항목이 없음 → 반복 종료"
   ]
  },
  {
   "cell_type": "markdown",
   "id": "28f6d342",
   "metadata": {
    "lines_to_next_cell": 0
   },
   "source": [
    "### 간단한 예시들\n",
    "\n",
    "#### 예시 1: 기본 숫자 반복"
   ]
  },
  {
   "cell_type": "code",
   "execution_count": null,
   "id": "e620a22d",
   "metadata": {},
   "outputs": [],
   "source": [
    "for i in range(5):\n",
    "    print(f\"숫자: {i}\")\n",
    "\n",
    "# 출력:\n",
    "# 숫자: 0\n",
    "# 숫자: 1\n",
    "# 숫자: 2\n",
    "# 숫자: 3\n",
    "# 숫자: 4"
   ]
  },
  {
   "cell_type": "markdown",
   "id": "c37c42d6",
   "metadata": {
    "lines_to_next_cell": 0
   },
   "source": [
    "#### 예시 2: 인사말 반복"
   ]
  },
  {
   "cell_type": "code",
   "execution_count": null,
   "id": "7f71000f",
   "metadata": {},
   "outputs": [],
   "source": [
    "for i in range(3):\n",
    "    print(f\"{i+1}번째 인사: 안녕하세요!\")\n",
    "\n",
    "# 출력:\n",
    "# 1번째 인사: 안녕하세요!\n",
    "# 2번째 인사: 안녕하세요!\n",
    "# 3번째 인사: 안녕하세요!"
   ]
  },
  {
   "cell_type": "markdown",
   "id": "1364b78c",
   "metadata": {
    "lines_to_next_cell": 0
   },
   "source": [
    "---\n",
    "\n",
    "## 📊 3. range() 함수 완전 정복\n",
    "\n",
    "**range() 함수**는 연속된 숫자를 생성하는 내장 함수로, for문에서 가장 많이 사용됩니다.\n",
    "\n",
    "### range() 함수의 3가지 형태\n",
    "\n",
    "#### 1. range(끝값) - 0부터 끝값-1까지"
   ]
  },
  {
   "cell_type": "code",
   "execution_count": null,
   "id": "467377eb",
   "metadata": {},
   "outputs": [],
   "source": [
    "# range(5) → 0, 1, 2, 3, 4\n",
    "print(\"range(5) 결과:\")\n",
    "for i in range(5):\n",
    "    print(f\"  {i}\")\n",
    "\n",
    "# 실용 예시: 5번 반복하기\n",
    "print(\"\\n5번 카운트:\")\n",
    "for i in range(5):\n",
    "    print(f\"{i+1}번\")"
   ]
  },
  {
   "cell_type": "markdown",
   "id": "fb6f39df",
   "metadata": {
    "lines_to_next_cell": 0
   },
   "source": [
    "#### 2. range(시작값, 끝값) - 시작값부터 끝값-1까지"
   ]
  },
  {
   "cell_type": "code",
   "execution_count": null,
   "id": "8754a76f",
   "metadata": {},
   "outputs": [],
   "source": [
    "# range(3, 8) → 3, 4, 5, 6, 7\n",
    "print(\"range(3, 8) 결과:\")\n",
    "for i in range(3, 8):\n",
    "    print(f\"  {i}\")\n",
    "\n",
    "# 실용 예시: 3부터 7까지\n",
    "print(\"\\n3부터 7까지:\")\n",
    "for num in range(3, 8):\n",
    "    print(f\"숫자: {num}\")"
   ]
  },
  {
   "cell_type": "markdown",
   "id": "2883c69a",
   "metadata": {
    "lines_to_next_cell": 0
   },
   "source": [
    "#### 3. range(시작값, 끝값, 증가값) - 사용자 정의 단계"
   ]
  },
  {
   "cell_type": "code",
   "execution_count": null,
   "id": "8f9c5242",
   "metadata": {},
   "outputs": [],
   "source": [
    "# range(0, 10, 2) → 0, 2, 4, 6, 8\n",
    "print(\"range(0, 10, 2) 결과 (짝수):\")\n",
    "for i in range(0, 10, 2):\n",
    "    print(f\"  {i}\")\n",
    "\n",
    "# range(1, 10, 2) → 1, 3, 5, 7, 9\n",
    "print(\"\\nrange(1, 10, 2) 결과 (홀수):\")\n",
    "for i in range(1, 10, 2):\n",
    "    print(f\"  {i}\")\n",
    "\n",
    "# range(10, 0, -1) → 10, 9, 8, 7, 6, 5, 4, 3, 2, 1\n",
    "print(\"\\n역순 카운트다운:\")\n",
    "for i in range(10, 0, -1):\n",
    "    print(f\"  {i}\")"
   ]
  },
  {
   "cell_type": "markdown",
   "id": "f378e905",
   "metadata": {
    "lines_to_next_cell": 0
   },
   "source": [
    "### range() 실용 예시\n",
    "\n",
    "#### 예시 1: 구구단"
   ]
  },
  {
   "cell_type": "code",
   "execution_count": null,
   "id": "4cb7838f",
   "metadata": {},
   "outputs": [],
   "source": [
    "dan = 3\n",
    "print(f\"{dan}단:\")\n",
    "for i in range(1, 10):\n",
    "    result = dan * i\n",
    "    print(f\"{dan} x {i} = {result}\")"
   ]
  },
  {
   "cell_type": "markdown",
   "id": "07dd7b12",
   "metadata": {
    "lines_to_next_cell": 0
   },
   "source": [
    "#### 예시 2: 카운트다운"
   ]
  },
  {
   "cell_type": "code",
   "execution_count": null,
   "id": "81134bac",
   "metadata": {},
   "outputs": [],
   "source": [
    "print(\"발사 준비:\")\n",
    "for i in range(5, 0, -1):\n",
    "    print(f\"{i}초\")\n",
    "print(\"발사!\")"
   ]
  },
  {
   "cell_type": "markdown",
   "id": "96e2b681",
   "metadata": {
    "lines_to_next_cell": 0
   },
   "source": [
    "#### 예시 3: 점수 계산"
   ]
  },
  {
   "cell_type": "code",
   "execution_count": null,
   "id": "a2dd5097",
   "metadata": {},
   "outputs": [],
   "source": [
    "print(\"시험 점수 5개 입력:\")\n",
    "total = 0\n",
    "for i in range(5):\n",
    "    score = int(input(f\"{i+1}번째 점수: \"))\n",
    "    total = total + score\n",
    "\n",
    "average = total / 5\n",
    "print(f\"총점: {total}\")\n",
    "print(f\"평균: {average}\")"
   ]
  },
  {
   "cell_type": "markdown",
   "id": "70311c35",
   "metadata": {
    "lines_to_next_cell": 0
   },
   "source": [
    "---\n",
    "\n",
    "## 🔤 4. 문자열과 반복문\n",
    "\n",
    "문자열은 문자들의 모음이므로 for문으로 각 문자에 접근할 수 있습니다.\n",
    "\n",
    "### 기본 문자열 반복\n",
    "\n",
    "#### 예시 1: 각 문자 출력"
   ]
  },
  {
   "cell_type": "code",
   "execution_count": null,
   "id": "cb802f3a",
   "metadata": {},
   "outputs": [],
   "source": [
    "word = \"Python\"\n",
    "for letter in word:\n",
    "    print(f\"문자: {letter}\")\n",
    "\n",
    "# 출력:\n",
    "# 문자: P\n",
    "# 문자: y\n",
    "# 문자: t\n",
    "# 문자: h\n",
    "# 문자: o\n",
    "# 문자: n"
   ]
  },
  {
   "cell_type": "markdown",
   "id": "77927d3e",
   "metadata": {
    "lines_to_next_cell": 0
   },
   "source": [
    "#### 예시 2: 한글 문자열"
   ]
  },
  {
   "cell_type": "code",
   "execution_count": null,
   "id": "2872ed8a",
   "metadata": {},
   "outputs": [],
   "source": [
    "korean = \"안녕하세요\"\n",
    "for char in korean:\n",
    "    print(f\"한글: '{char}'\")\n",
    "\n",
    "# 출력:\n",
    "# 한글: '안'\n",
    "# 한글: '녕'\n",
    "# 한글: '하'\n",
    "# 한글: '세'\n",
    "# 한글: '요'"
   ]
  },
  {
   "cell_type": "markdown",
   "id": "f077fce0",
   "metadata": {
    "lines_to_next_cell": 0
   },
   "source": [
    "### 문자열 분석 예시\n",
    "\n",
    "#### 예시 3: 모음 개수 세기"
   ]
  },
  {
   "cell_type": "code",
   "execution_count": null,
   "id": "2f0b794c",
   "metadata": {},
   "outputs": [],
   "source": [
    "text = \"Hello World\"\n",
    "vowels = \"aeiouAEIOU\"\n",
    "vowel_count = 0\n",
    "\n",
    "for letter in text:\n",
    "    if letter in vowels:\n",
    "        vowel_count = vowel_count + 1\n",
    "        print(f\"모음 발견: {letter}\")\n",
    "\n",
    "print(f\"총 모음 개수: {vowel_count}\")"
   ]
  },
  {
   "cell_type": "markdown",
   "id": "dad9af47",
   "metadata": {
    "lines_to_next_cell": 0
   },
   "source": [
    "#### 예시 4: 문자별 분석"
   ]
  },
  {
   "cell_type": "code",
   "execution_count": null,
   "id": "60061eb0",
   "metadata": {},
   "outputs": [],
   "source": [
    "word = \"Programming\"\n",
    "print(f\"'{word}' 문자 분석:\")\n",
    "\n",
    "for char in word:\n",
    "    if char == 'a' or char == 'e' or char == 'i' or char == 'o' or char == 'u':\n",
    "        print(f\"'{char}' → 모음\")\n",
    "    elif char == ' ':\n",
    "        print(f\"'{char}' → 공백\")\n",
    "    else:\n",
    "        print(f\"'{char}' → 자음\")"
   ]
  },
  {
   "cell_type": "markdown",
   "id": "07657c40",
   "metadata": {
    "lines_to_next_cell": 0
   },
   "source": [
    "### 문자열과 인덱스\n",
    "\n",
    "#### 예시 5: 위치와 함께 출력"
   ]
  },
  {
   "cell_type": "code",
   "execution_count": null,
   "id": "dc4751db",
   "metadata": {},
   "outputs": [],
   "source": [
    "word = \"Python\"\n",
    "for i in range(len(word)):\n",
    "    print(f\"위치 {i}: {word[i]}\")\n",
    "\n",
    "# 출력:\n",
    "# 위치 0: P\n",
    "# 위치 1: y\n",
    "# 위치 2: t\n",
    "# 위치 3: h\n",
    "# 위치 4: o\n",
    "# 위치 5: n"
   ]
  },
  {
   "cell_type": "markdown",
   "id": "a1d54321",
   "metadata": {
    "lines_to_next_cell": 0
   },
   "source": [
    "---\n",
    "\n",
    "## 🔁 5. 중첩 반복문 (Nested Loops)\n",
    "\n",
    "**중첩 반복문**은 반복문 안에 또 다른 반복문이 있는 구조입니다. 패턴 만들기나 표 만들기에 유용합니다.\n",
    "\n",
    "### 중첩 반복문의 기본 구조"
   ]
  },
  {
   "cell_type": "code",
   "execution_count": null,
   "id": "7bedd97d",
   "metadata": {},
   "outputs": [],
   "source": [
    "for i in range(3):\n",
    "    print(f\"바깥 반복: {i}\")\n",
    "    \n",
    "    for j in range(2):\n",
    "        print(f\"  안쪽 반복: {j}\")\n",
    "    \n",
    "    print(\"안쪽 반복 완료\")"
   ]
  },
  {
   "cell_type": "markdown",
   "id": "2dc713ce",
   "metadata": {
    "lines_to_next_cell": 0
   },
   "source": [
    "### 실행 흐름 이해하기"
   ]
  },
  {
   "cell_type": "code",
   "execution_count": null,
   "id": "62cd849d",
   "metadata": {},
   "outputs": [],
   "source": [
    "print(\"=== 중첩 반복문 실행 과정 ===\")\n",
    "\n",
    "for i in range(1, 4):  # 바깥: 1, 2, 3\n",
    "    print(f\"바깥 반복 {i}번째 시작\")\n",
    "    \n",
    "    for j in range(1, 3):  # 안쪽: 1, 2\n",
    "        print(f\"  안쪽 반복 {j}번째\")\n",
    "    \n",
    "    print(f\"바깥 반복 {i}번째 완료\")\n",
    "\n",
    "# 실행 결과:\n",
    "# 바깥이 1일 때 → 안쪽이 1,2 실행\n",
    "# 바깥이 2일 때 → 안쪽이 1,2 실행  \n",
    "# 바깥이 3일 때 → 안쪽이 1,2 실행\n",
    "# 총 3 × 2 = 6번 안쪽 코드 실행"
   ]
  },
  {
   "cell_type": "markdown",
   "id": "1b443f29",
   "metadata": {
    "lines_to_next_cell": 0
   },
   "source": [
    "### 패턴 만들기\n",
    "\n",
    "#### 예시 1: 사각형 별 패턴"
   ]
  },
  {
   "cell_type": "code",
   "execution_count": null,
   "id": "445168f2",
   "metadata": {},
   "outputs": [],
   "source": [
    "print(\"3x4 별 사각형:\")\n",
    "for row in range(3):\n",
    "    for col in range(4):\n",
    "        print(\"*\", end=\"\")\n",
    "    print()  # 줄바꿈\n",
    "\n",
    "# 출력:\n",
    "# ****\n",
    "# ****\n",
    "# ****"
   ]
  },
  {
   "cell_type": "markdown",
   "id": "1e5e6041",
   "metadata": {
    "lines_to_next_cell": 0
   },
   "source": [
    "#### 예시 2: 직각삼각형 패턴"
   ]
  },
  {
   "cell_type": "code",
   "execution_count": null,
   "id": "95a96745",
   "metadata": {},
   "outputs": [],
   "source": [
    "print(\"직각삼각형:\")\n",
    "for row in range(1, 6):\n",
    "    for col in range(row):\n",
    "        print(\"*\", end=\"\")\n",
    "    print()\n",
    "\n",
    "# 출력:\n",
    "# *\n",
    "# **\n",
    "# ***\n",
    "# ****\n",
    "# *****"
   ]
  },
  {
   "cell_type": "markdown",
   "id": "74260606",
   "metadata": {
    "lines_to_next_cell": 0
   },
   "source": [
    "#### 예시 3: 숫자 삼각형"
   ]
  },
  {
   "cell_type": "code",
   "execution_count": null,
   "id": "d0173a5b",
   "metadata": {},
   "outputs": [],
   "source": [
    "print(\"숫자 삼각형:\")\n",
    "for row in range(1, 6):\n",
    "    for num in range(1, row + 1):\n",
    "        print(num, end=\"\")\n",
    "    print()\n",
    "\n",
    "# 출력:\n",
    "# 1\n",
    "# 12\n",
    "# 123\n",
    "# 1234\n",
    "# 12345"
   ]
  },
  {
   "cell_type": "markdown",
   "id": "c374b9ca",
   "metadata": {
    "lines_to_next_cell": 0
   },
   "source": [
    "#### 예시 4: 구구단 전체"
   ]
  },
  {
   "cell_type": "code",
   "execution_count": null,
   "id": "858b8465",
   "metadata": {},
   "outputs": [],
   "source": [
    "print(\"구구단 2단부터 5단까지:\")\n",
    "for dan in range(2, 6):\n",
    "    print(f\"\\n{dan}단:\")\n",
    "    for num in range(1, 10):\n",
    "        result = dan * num\n",
    "        print(f\"{dan} x {num} = {result}\")"
   ]
  },
  {
   "cell_type": "markdown",
   "id": "408aa726",
   "metadata": {
    "lines_to_next_cell": 0
   },
   "source": [
    "---\n",
    "\n",
    "## 🔧 실습 문제\n",
    "\n",
    "### 실습 1: 간단한 구구단 프로그램\n",
    "\n",
    "**문제**: 사용자가 입력한 숫자의 구구단을 출력하는 프로그램을 만드세요.\n",
    "\n",
    "**요구사항**:\n",
    "- 사용자에게 숫자 입력 요청\n",
    "- 1부터 9까지 곱셈표 출력\n",
    "\n",
    "**정답**:"
   ]
  },
  {
   "cell_type": "code",
   "execution_count": null,
   "id": "3093624f",
   "metadata": {},
   "outputs": [],
   "source": [
    "# 구구단 프로그램\n",
    "print(\"=== 구구단 프로그램 ===\")\n",
    "\n",
    "number = int(input(\"구구단을 만들 숫자를 입력하세요: \"))\n",
    "\n",
    "print(f\"{number}단:\")\n",
    "for i in range(1, 10):\n",
    "    result = number * i\n",
    "    print(f\"{number} x {i} = {result}\")"
   ]
  },
  {
   "cell_type": "markdown",
   "id": "49e71f78",
   "metadata": {
    "lines_to_next_cell": 0
   },
   "source": [
    "### 실습 2: 별 찍기\n",
    "\n",
    "**문제**: 사용자가 입력한 높이만큼 직각삼각형 별 패턴을 출력하세요.\n",
    "\n",
    "**요구사항**:\n",
    "- 사용자에게 높이 입력 요청\n",
    "- 직각삼각형 모양으로 별 출력\n",
    "\n",
    "**정답**:"
   ]
  },
  {
   "cell_type": "code",
   "execution_count": null,
   "id": "fcd0063e",
   "metadata": {},
   "outputs": [],
   "source": [
    "# 별 찍기 프로그램\n",
    "print(\"=== 별 찍기 프로그램 ===\")\n",
    "\n",
    "height = int(input(\"높이를 입력하세요: \"))\n",
    "\n",
    "print(\"별 패턴:\")\n",
    "for row in range(1, height + 1):\n",
    "    for star in range(row):\n",
    "        print(\"*\", end=\"\")\n",
    "    print()"
   ]
  },
  {
   "cell_type": "markdown",
   "id": "49b17ef2",
   "metadata": {
    "lines_to_next_cell": 0
   },
   "source": [
    "### 실습 3: 합계 계산기\n",
    "\n",
    "**문제**: 1부터 사용자가 입력한 숫자까지의 합을 계산하는 프로그램을 만드세요.\n",
    "\n",
    "**요구사항**:\n",
    "- 사용자에게 숫자 입력 요청\n",
    "- 1부터 그 숫자까지의 합 계산\n",
    "- 계산 과정도 보여주기\n",
    "\n",
    "**정답**:"
   ]
  },
  {
   "cell_type": "code",
   "execution_count": null,
   "id": "8fe446b5",
   "metadata": {},
   "outputs": [],
   "source": [
    "# 합계 계산기\n",
    "print(\"=== 합계 계산기 ===\")\n",
    "\n",
    "num = int(input(\"몇까지 더할까요? \"))\n",
    "\n",
    "total = 0\n",
    "print(\"계산 과정:\")\n",
    "\n",
    "for i in range(1, num + 1):\n",
    "    total = total + i\n",
    "    print(f\"{i}까지의 합: {total}\")\n",
    "\n",
    "print(f\"최종 결과: 1부터 {num}까지의 합은 {total}입니다.\")"
   ]
  },
  {
   "cell_type": "markdown",
   "id": "a3f68630",
   "metadata": {},
   "source": [
    "---\n",
    "\n",
    "## 📝 퀴즈\n",
    "\n",
    "### 퀴즈 1: 기본 반복문\n",
    "**문제**: 다음 코드의 출력 결과를 예측하세요."
   ]
  },
  {
   "cell_type": "code",
   "execution_count": null,
   "id": "44510817",
   "metadata": {},
   "outputs": [],
   "source": [
    "for i in range(2, 6, 2):\n",
    "    print(f\"숫자: {i}\")"
   ]
  },
  {
   "cell_type": "markdown",
   "id": "d93f672c",
   "metadata": {},
   "source": [
    "### 퀴즈 2: 문자열 반복\n",
    "**문제**: 문자열 \"Hello\"에서 모음만 출력하는 프로그램을 작성하세요.\n",
    "(모음: a, e, i, o, u)\n",
    "\n",
    "### 퀴즈 3: 중첩 반복문\n",
    "**문제**: 다음과 같은 패턴을 만드는 프로그램을 작성하세요.\n",
    "\n",
    "```\n",
    "1\n",
    "22\n",
    "333\n",
    "```\n",
    "\n",
    "---\n",
    "\n",
    "## 📖 참고 자료\n",
    "\n",
    "1. **파이썬 공식 문서 - for문**: https://docs.python.org/ko/3/tutorial/controlflow.html#for-statements\n",
    "   - for문에 대한 공식 설명\n",
    "\n",
    "2. **점프 투 파이썬 - 반복문**: https://wikidocs.net/22\n",
    "   - 한국어로 된 반복문 설명\n",
    "\n",
    "3. **코딩 도장 - for 반복문**: https://dojang.io/mod/page/view.php?id=2238\n",
    "   - 파이썬 for문 상세 설명\n",
    "\n",
    "---\n",
    "\n",
    "## 💡 성공을 위한 팁\n",
    "\n",
    "### 일반적인 실수\n",
    "- **콜론(:) 빼먹기** - for문은 항상 ':'로 끝내야 함\n",
    "- **잘못된 들여쓰기** - 파이썬은 들여쓰기에 매우 엄격함!\n",
    "- **range() 오해** - range(5)는 0,1,2,3,4를 만듦 (5개)\n",
    "- **무한 반복 위험** - 반복문이 끝날 조건 확인\n",
    "\n",
    "### 연습 팁\n",
    "- **간단히 시작**: 기본 range() 반복문부터 시작하기\n",
    "- **실행 추적**: 반복문을 단계별로 따라가기\n",
    "- **print() 활용**: print문으로 확인하며 디버깅\n",
    "- **패턴 연습**: 별로 다양한 패턴 만들어보기\n",
    "\n",
    "### 디버깅 요령\n",
    "- **반복 변수 출력**: 변수가 어떤 값을 가지는지 확인\n",
    "- **반복 횟수 세기**: 반복문이 예상 횟수만큼 실행되는지 확인\n",
    "- **들여쓰기 확인**: 모든 코드가 올바르게 들여쓰기되었는지 확인\n",
    "\n",
    "---\n",
    "\n",
    "## 📋 숙제\n",
    "\n",
    "### 연습 문제\n",
    "\n",
    "1. **카운트다운 프로그램**: 10부터 1까지 거꾸로 세는 프로그램\n",
    "\n",
    "2. **문자 개수 세기**: 사용자가 입력한 문장에서 특정 문자가 몇 번 나오는지 세는 프로그램\n",
    "\n",
    "3. **온도 변환표**: 섭씨 0도부터 100도까지 10도 간격으로 화씨 온도를 계산하여 출력\n",
    "   (공식: 화씨 = 섭씨 × 9/5 + 32)\n",
    "\n",
    "4. **피라미드 만들기**: 다음과 같은 패턴을 만드는 프로그램\n",
    "   ```\n",
    "       *\n",
    "      ***\n",
    "     *****\n",
    "    *******\n",
    "   ```\n",
    "\n",
    "### 도전 문제\n",
    "\n",
    "5. **소수 찾기**: 2부터 30까지의 숫자 중에서 소수만 찾아서 출력하기\n",
    "\n",
    "**프로그래밍 여정에 행운을 빕니다!** ⭐"
   ]
  }
 ],
 "metadata": {
  "jupytext": {
   "cell_metadata_filter": "-all",
   "main_language": "python",
   "notebook_metadata_filter": "-all"
  }
 },
 "nbformat": 4,
 "nbformat_minor": 5
}
