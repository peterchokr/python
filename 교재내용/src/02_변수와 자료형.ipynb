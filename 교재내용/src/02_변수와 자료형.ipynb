{
 "cells": [
  {
   "cell_type": "markdown",
   "metadata": {},
   "source": [
    "#### 1. 변수와 자료형"
   ]
  },
  {
   "cell_type": "markdown",
   "metadata": {},
   "source": [
    "변수"
   ]
  },
  {
   "cell_type": "code",
   "execution_count": null,
   "metadata": {},
   "outputs": [],
   "source": []
  },
  {
   "cell_type": "markdown",
   "metadata": {},
   "source": [
    "p.46 두 수의 합 계산하기"
   ]
  },
  {
   "cell_type": "code",
   "execution_count": null,
   "metadata": {},
   "outputs": [],
   "source": [
    "x = 100\t\t\t# (1) 변수 x를 생성하고 100을 저장한다.\n",
    "y = 200\t\t\t# (2) 변수 y를 생성하고 200을 저장한다.\n",
    "sum = x + y\t\t# (3) 변수 sum을 생성하고 x+y를 저장한다.\n",
    "print(sum)"
   ]
  },
  {
   "cell_type": "markdown",
   "metadata": {},
   "source": [
    "p.47 변수의 이름"
   ]
  },
  {
   "cell_type": "code",
   "execution_count": null,
   "metadata": {},
   "outputs": [],
   "source": []
  },
  {
   "cell_type": "markdown",
   "metadata": {},
   "source": [
    "p.48 원의 면적 계산하기"
   ]
  },
  {
   "cell_type": "code",
   "execution_count": null,
   "metadata": {},
   "outputs": [],
   "source": [
    "# 변수 radius에 값을 저장한다. \n",
    "radius = 10 \t# radius는 이제 10이다. \n",
    "\n",
    "# 면적을 계산한다. \n",
    "area = 3.14 * radius * radius\n",
    "\n",
    "# 결과를 출력한다. \n",
    "print(\"반지름\", radius, \"인 원의 면적=\", area)"
   ]
  },
  {
   "cell_type": "markdown",
   "metadata": {},
   "source": [
    "p.50 자료형"
   ]
  },
  {
   "cell_type": "code",
   "execution_count": null,
   "metadata": {},
   "outputs": [],
   "source": []
  },
  {
   "cell_type": "markdown",
   "metadata": {},
   "source": [
    "정수형"
   ]
  },
  {
   "cell_type": "code",
   "execution_count": null,
   "metadata": {},
   "outputs": [],
   "source": [
    "x = 1\n",
    "type(x)"
   ]
  },
  {
   "cell_type": "code",
   "execution_count": null,
   "metadata": {},
   "outputs": [],
   "source": [
    "a = 0xFF\n",
    "b = 0o77\n",
    "c = 0b1111\n",
    "print(a, b, c)\t\t# 모든 변수를 10진수로 출력한다. "
   ]
  },
  {
   "cell_type": "markdown",
   "metadata": {},
   "source": [
    "(추가) bin(), oct(), hex()에 대해서도 이해하자"
   ]
  },
  {
   "cell_type": "code",
   "execution_count": null,
   "metadata": {},
   "outputs": [],
   "source": []
  },
  {
   "cell_type": "markdown",
   "metadata": {},
   "source": [
    "p.52 부동소수점형"
   ]
  },
  {
   "cell_type": "code",
   "execution_count": null,
   "metadata": {},
   "outputs": [],
   "source": [
    "a = 3.14\n",
    "b = 1.23e2\n",
    "print(a, b)"
   ]
  },
  {
   "cell_type": "code",
   "execution_count": null,
   "metadata": {},
   "outputs": [],
   "source": [
    "a = 3.14\n",
    "b = 7.12\n",
    "print(a+b, a-b, a*b, a/b)"
   ]
  },
  {
   "cell_type": "markdown",
   "metadata": {},
   "source": [
    "p.53 문자열"
   ]
  },
  {
   "cell_type": "code",
   "execution_count": null,
   "metadata": {},
   "outputs": [],
   "source": [
    "greeting = \"Merry Christmas\"\n",
    "print(greeting)"
   ]
  },
  {
   "cell_type": "code",
   "execution_count": null,
   "metadata": {},
   "outputs": [],
   "source": [
    "greeting='''지난 한해 저에게 보여주신 보살핌과 사랑에\n",
    "깊은 감사를 드립니다.\n",
    "새해에도 하시고자 하는 일\n",
    "모두 성취하시기를 바랍니다.'''\n",
    "print(greeting)"
   ]
  },
  {
   "cell_type": "code",
   "execution_count": null,
   "metadata": {},
   "outputs": [],
   "source": [
    "print('Harry ' + 'Porter')"
   ]
  },
  {
   "cell_type": "code",
   "execution_count": null,
   "metadata": {},
   "outputs": [],
   "source": [
    "first_name=\"길동\"\n",
    "last_name=\"홍\"\n",
    "name = last_name+first_name\n",
    "print(name)"
   ]
  },
  {
   "cell_type": "markdown",
   "metadata": {},
   "source": [
    "p.55 문자열 <-> 수치값"
   ]
  },
  {
   "cell_type": "code",
   "execution_count": null,
   "metadata": {},
   "outputs": [],
   "source": [
    "\"Student\"+str(26)\n",
    "\n",
    "price = int(\"123\")\n",
    "\n",
    "height = float(\"3.14\")"
   ]
  },
  {
   "cell_type": "markdown",
   "metadata": {},
   "source": [
    "문자열의 반복"
   ]
  },
  {
   "cell_type": "code",
   "execution_count": null,
   "metadata": {},
   "outputs": [],
   "source": [
    "line = \"=\" * 50\n",
    "print(line)\n",
    "\n",
    "message = \"Congratulations! \"\n",
    "print(message*3)"
   ]
  },
  {
   "cell_type": "markdown",
   "metadata": {},
   "source": [
    "문자열 메소드"
   ]
  },
  {
   "cell_type": "code",
   "execution_count": null,
   "metadata": {},
   "outputs": [],
   "source": [
    "message = \"Merry Christmas!\"\n",
    "print(len(message))         # 문자열의 길이를 반환한다.\n",
    "print(message.upper())      # 문자열을 대문자로 만들어서 반환한다.\n",
    "print(message.find(\"Ch\"))   # 문자열 안에서 \"Ch\"를 찾는다."
   ]
  },
  {
   "cell_type": "markdown",
   "metadata": {},
   "source": [
    "문자열 안의 문자에 접근하기"
   ]
  },
  {
   "cell_type": "code",
   "execution_count": null,
   "metadata": {},
   "outputs": [],
   "source": [
    "s = \"Python\"\n",
    "print(s[0])\n",
    "print(s[1])\n",
    "print(s[-1])"
   ]
  },
  {
   "cell_type": "markdown",
   "metadata": {},
   "source": [
    "문자열 안의 변수 출력"
   ]
  },
  {
   "cell_type": "code",
   "execution_count": null,
   "metadata": {},
   "outputs": [],
   "source": [
    "price = 10000\n",
    "print(f\"상품의 가격은 {price}원 입니다.\")\n",
    "\n",
    "product = \"coffee\"\n",
    "count = 3\n",
    "price = 10000\n",
    "print(f\"상품 {product} {count}개의 가격은 {count*price}원입니다.\")\n",
    "\n",
    "pi = 3.141592\n",
    "print(f\"원주율={pi:.2f}\")   # 소수점 두번째 자리까지 출력\n",
    "\n",
    "\n",
    "# + 또는 ,로 연결해서 출력하는 방법도 있다."
   ]
  },
  {
   "cell_type": "markdown",
   "metadata": {},
   "source": [
    "p.57 변수의 세부 구현 사항"
   ]
  },
  {
   "cell_type": "code",
   "execution_count": null,
   "metadata": {},
   "outputs": [],
   "source": [
    "x = 10\n",
    "print(id(x))"
   ]
  },
  {
   "cell_type": "code",
   "execution_count": null,
   "metadata": {},
   "outputs": [],
   "source": [
    "x = 3\n",
    "y = x        # 변수 y에 변수 x의 참조값이 복사된다.\n",
    "print(id(x))\n",
    "print(id(y))        # 같은 주소를 가리킨다."
   ]
  },
  {
   "cell_type": "code",
   "execution_count": null,
   "metadata": {},
   "outputs": [],
   "source": [
    "y = 10       # 변수 y에 새로운 값이 할당되면 주소가 달라진다.\n",
    "print(id(y))"
   ]
  },
  {
   "cell_type": "markdown",
   "metadata": {},
   "source": [
    "p.59 사용자로 부터 입력받기"
   ]
  },
  {
   "cell_type": "markdown",
   "metadata": {},
   "source": [
    "input() 함수"
   ]
  },
  {
   "cell_type": "code",
   "execution_count": null,
   "metadata": {},
   "outputs": [],
   "source": [
    "name = input(\"이름을 입력하시오: \")\n",
    "print(name, \"씨, 안녕하세요?\")"
   ]
  },
  {
   "cell_type": "markdown",
   "metadata": {},
   "source": [
    "정수 입력"
   ]
  },
  {
   "cell_type": "code",
   "execution_count": null,
   "metadata": {},
   "outputs": [],
   "source": [
    "# 문자를 정수로 변환하는 과정이 필요하다.\n",
    "x = input(\"첫 번째 정수를 입력하시오:\") \n",
    "y = input(\"두 번째 정수를 입력하시오:\") \n",
    "sum = x + y\n",
    "print(\"합은 \", sum)"
   ]
  },
  {
   "cell_type": "markdown",
   "metadata": {},
   "source": [
    "p.62 Lab 간단한 계산기"
   ]
  },
  {
   "cell_type": "code",
   "execution_count": null,
   "metadata": {},
   "outputs": [],
   "source": [
    "x = int(input(\"첫 번째 정수를 입력하시오: \"))\t\t# 문자열을 정수로 변환한다. \n",
    "y = int(input(\"두 번째 정수를 입력하시오: \"))\t\t# 문자열을 정수로 변환한다. \n",
    "\n",
    "result = x + y\n",
    "print(x, \"+\", y, \"=\", result)\n",
    "\n",
    "result = x - y\n",
    "print(x, \"-\", y, \"=\", result)\n",
    "\n",
    "result = x * y\n",
    "print(x, \"*\", y, \"=\", result)\n",
    "\n",
    "result = x / y\n",
    "print(x, \"/\", y, \"=\", result)"
   ]
  },
  {
   "cell_type": "markdown",
   "metadata": {},
   "source": [
    "p.63 주석과 상수"
   ]
  },
  {
   "cell_type": "code",
   "execution_count": null,
   "metadata": {},
   "outputs": [],
   "source": [
    "#\t이 프로그램은 화씨 온도를 받아서 섭씨 온도로 변환한다.\n",
    "#\n",
    "ftemp = 100\t\t\t # 화씨 온도 100를 변수에 저장한다.  \n",
    "\n",
    "ctemp = (ftemp-32.0)*5.0/9.0    # 화씨온도->섭씨온도\n",
    "print(\"섭씨온도:\", ctemp)        # 섭씨온도를 화면에 출력한다."
   ]
  },
  {
   "cell_type": "code",
   "execution_count": null,
   "metadata": {},
   "outputs": [],
   "source": [
    "# 실행하고 싶지 않은 문장이 있을 때 주석을 이용한다.\n",
    "x = 100\n",
    "y = 200\n",
    "sum = x + y\n",
    "#diff = x - y\n",
    "print(\"합은 \", sum)"
   ]
  },
  {
   "cell_type": "markdown",
   "metadata": {},
   "source": [
    "p.64 상수"
   ]
  },
  {
   "cell_type": "code",
   "execution_count": null,
   "metadata": {},
   "outputs": [],
   "source": [
    "INCOME = 1000\n",
    "TAX_RATE = 0.35\n",
    "\n",
    "tax = INCOME * TAX_RATE\n",
    "net_income = INCOME - tax\n",
    "print(tax, net_income)"
   ]
  },
  {
   "cell_type": "markdown",
   "metadata": {},
   "source": [
    "p.66 로봇 기자 만들기"
   ]
  },
  {
   "cell_type": "code",
   "execution_count": null,
   "metadata": {},
   "outputs": [],
   "source": [
    "# 사용자의 대답을 변수에 저장한다. \n",
    "stadium = input(\"경기장은 어디입니까?\")\n",
    "winner = input(\"이긴팀은 어디입니까?\")\n",
    "loser = input(\"진팀은 어디입니까?\")\n",
    "vip = input(\"우수선수는 누구입니까?\")\n",
    "score = input(\"스코어는 몇대몇입니까?\")\n",
    "\n",
    "# 변수와 문자열을 연결하여 기사를 작성한다. \n",
    "print(\"\")\n",
    "print(\"===========================================\")\n",
    "print(f\"오늘 {stadium}에서 야구 경기가 열렸습니다.\")\n",
    "print(f\"{winner}와 {loser}는 치열한 공방전을 펼쳤습니다.\")\n",
    "print(f\"{vip}이 맹활약을 하였습니다.\")\n",
    "print(f\"결국 {winner}가 {loser}를 {score}로 이겼습니다.\")\n",
    "print(\"===========================================\")"
   ]
  },
  {
   "cell_type": "markdown",
   "metadata": {},
   "source": [
    "p.67 사각형 그리기"
   ]
  },
  {
   "cell_type": "code",
   "execution_count": null,
   "metadata": {},
   "outputs": [],
   "source": [
    "##\n",
    "#\t이 프로그램은 사용자로부터 크기를 받아서 사각형을 그린다.  \n",
    "#\n",
    "import turtle\n",
    "t = turtle.Turtle()\n",
    "t.shape(\"turtle\")\n",
    "\n",
    "# 사용자로부터 사각형의 크기를 받아서 size라는 변수에 저장한다. \n",
    "# 사각형의 크기는 정수이므로 input()이 반환하는 문자열을 int()를 통하여 정수로 변환하였다. \n",
    "size = int(input(\"사각형의 크기는 얼마로 할까요? \"))\n",
    "\n",
    "# 사각형을 다음과 같은 코드로 그린다. 이때 변수 size를 사용하자. \n",
    "t.forward(size)\t# size 만큼 거북이를 전진시킨다. \n",
    "t.right(90)\t\t# 거북이를 오른쪽으로 90도 회전시킨다. \n",
    "t.forward(size)\n",
    "t.right(90)\n",
    "t.forward(size)\n",
    "t.right(90)\n",
    "t.forward(size)\n",
    "\n",
    "turtle.done()"
   ]
  },
  {
   "cell_type": "markdown",
   "metadata": {},
   "source": [
    "p.71 연습문제"
   ]
  },
  {
   "cell_type": "markdown",
   "metadata": {},
   "source": [
    "p.73 Programming"
   ]
  }
 ],
 "metadata": {
  "kernelspec": {
   "display_name": "Python 3",
   "language": "python",
   "name": "python3"
  },
  "language_info": {
   "codemirror_mode": {
    "name": "ipython",
    "version": 3
   },
   "file_extension": ".py",
   "mimetype": "text/x-python",
   "name": "python",
   "nbconvert_exporter": "python",
   "pygments_lexer": "ipython3",
   "version": "3.11.4"
  },
  "orig_nbformat": 4
 },
 "nbformat": 4,
 "nbformat_minor": 2
}
