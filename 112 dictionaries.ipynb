{
 "cells": [
  {
   "cell_type": "markdown",
   "id": "10dfa3e5",
   "metadata": {},
   "source": [
    "# 딕셔너리 기초 (Dictionaries Basics)\n",
    "\n",
    "**수업 시간**: 3시간  \n",
    "**구성**: 강의 및 실습 2시간 + 퀴즈 1시간  \n",
    "**수준**: 중급 초급  \n",
    "**선수 학습**: 변수, 데이터 타입, 연산자, 입출력, 조건문, 반복문, 리스트, 튜플\n",
    "\n",
    "---\n",
    "\n",
    "## 🎯 학습 목표\n",
    "\n",
    "이 수업을 마친 후 학생들은 다음을 할 수 있습니다:\n",
    "\n",
    "- 딕셔너리(dictionary)가 무엇인지, 왜 유용한지 이해하기\n",
    "- 실제 예시로 키-값 쌍(key-value pair) 개념 설명하기\n",
    "- 딕셔너리 생성, 접근, 수정하기\n",
    "- 딕셔너리 메소드(method)를 효과적으로 사용하기\n",
    "- 딕셔너리를 사용한 실용적 프로그램 구축하기\n",
    "\n",
    "---\n",
    "\n",
    "## 🗃️ 1. 딕셔너리란 무엇인가?\n",
    "\n",
    "### 정의\n",
    "**딕셔너리(Dictionary)**는 각 항목이 **키(key)**와 **값(value)**으로 구성된 항목들의 모음입니다. 실제 사전에서 단어를 사용해 의미를 찾는 것처럼, 키를 사용해 값을 찾습니다.\n",
    "\n",
    "### 실생활 비유\n",
    "\n",
    "딕셔너리를 **전화번호부**나 **연락처 목록**처럼 생각해보세요:\n",
    "\n",
    "```\n",
    "전화번호부:\n",
    "이름 (키)     → 전화번호 (값)\n",
    "\"김철수\"      → \"010-1234-5678\"\n",
    "\"이영희\"      → \"010-2345-6789\"\n",
    "\"박민수\"      → \"010-3456-7890\"\n",
    "\n",
    "파이썬 딕셔너리:\n",
    "student_grades = {\n",
    "    \"김철수\": 95,\n",
    "    \"이영희\": 87,\n",
    "    \"박민수\": 92\n",
    "}\n",
    "```\n",
    "\n",
    "### 왜 딕셔너리를 사용하나요?\n",
    "\n",
    "**리스트 대비 장점:**\n",
    "- **빠른 검색**: 키를 사용해 값을 즉시 찾기\n",
    "- **의미 있는 이름**: 키가 데이터가 무엇을 나타내는지 설명\n",
    "- **유연한 구조**: 인덱스 번호를 기억할 필요 없음\n",
    "\n",
    "다음 접근법들을 비교해보세요:"
   ]
  },
  {
   "cell_type": "code",
   "execution_count": null,
   "id": "474b7ef3",
   "metadata": {},
   "outputs": [],
   "source": [
    "# 리스트 사용 (각 인덱스의 의미를 기억하기 어려움)\n",
    "student_info = [\"김철수\", 20, 95, \"소프트웨어융합과\"]\n",
    "name = student_info[0]        # 인덱스 0이 이름이라는 것을 기억하기 어려움\n",
    "age = student_info[1]         # 인덱스 1이 나이라는 것을 기억하기 어려움\n",
    "\n",
    "# 딕셔너리 사용 (자체 설명적)\n",
    "student_info = {\n",
    "    \"name\": \"김철수\",\n",
    "    \"age\": 20,\n",
    "    \"grade\": 95,\n",
    "    \"major\": \"소프트웨어융합과\"\n",
    "}\n",
    "name = student_info[\"name\"]   # 무엇을 가져오는지 명확함\n",
    "age = student_info[\"age\"]     # 자체 설명적"
   ]
  },
  {
   "cell_type": "markdown",
   "id": "cc18ea4a",
   "metadata": {
    "lines_to_next_cell": 0
   },
   "source": [
    "---\n",
    "\n",
    "## 🔑 2. 키-값 쌍 개념\n",
    "\n",
    "### 키와 값 이해하기\n",
    "\n",
    "딕셔너리에서 모든 데이터는 두 부분으로 구성됩니다:\n",
    "\n",
    "- **키(Key)**: 데이터의 식별자 또는 \"라벨\"\n",
    "- **값(Value)**: 저장하려는 실제 데이터\n",
    "\n",
    "### 일상생활의 예시\n",
    "\n",
    "#### 예시 1: 학생 정보"
   ]
  },
  {
   "cell_type": "code",
   "execution_count": null,
   "id": "89f96812",
   "metadata": {},
   "outputs": [],
   "source": [
    "student = {\n",
    "    \"name\": \"김민지\",           # 키: \"name\", 값: \"김민지\"\n",
    "    \"age\": 19,                # 키: \"age\", 값: 19\n",
    "    \"major\": \"생물학\",         # 키: \"major\", 값: \"생물학\"\n",
    "    \"gpa\": 3.8               # 키: \"gpa\", 값: 3.8\n",
    "}"
   ]
  },
  {
   "cell_type": "markdown",
   "id": "543f9f33",
   "metadata": {
    "lines_to_next_cell": 0
   },
   "source": [
    "#### 예시 2: 국가 정보"
   ]
  },
  {
   "cell_type": "code",
   "execution_count": null,
   "id": "045e7c8b",
   "metadata": {},
   "outputs": [],
   "source": [
    "country_capitals = {\n",
    "    \"한국\": \"서울\",\n",
    "    \"일본\": \"도쿄\",\n",
    "    \"미국\": \"워싱턴 D.C.\",\n",
    "    \"프랑스\": \"파리\",\n",
    "    \"독일\": \"베를린\"\n",
    "}"
   ]
  },
  {
   "cell_type": "markdown",
   "id": "4efc7713",
   "metadata": {
    "lines_to_next_cell": 0
   },
   "source": [
    "#### 예시 3: 카페 메뉴 가격"
   ]
  },
  {
   "cell_type": "code",
   "execution_count": null,
   "id": "667025b6",
   "metadata": {},
   "outputs": [],
   "source": [
    "menu_prices = {\n",
    "    \"아메리카노\": 4500,\n",
    "    \"카페라떼\": 5000,\n",
    "    \"샌드위치\": 8900,\n",
    "    \"샐러드\": 7200,\n",
    "    \"피자\": 12000\n",
    "}"
   ]
  },
  {
   "cell_type": "markdown",
   "id": "4c86b940",
   "metadata": {},
   "source": [
    "### 키 규칙\n",
    "\n",
    "**키는 다음이어야 함:**\n",
    "- **유일함**: 중복 키 불허\n",
    "- **불변(immutable)**: 문자열, 숫자, 또는 튜플 사용"
   ]
  },
  {
   "cell_type": "code",
   "execution_count": null,
   "id": "7e621e1d",
   "metadata": {},
   "outputs": [],
   "source": [
    "# 올바른 키\n",
    "valid_dict = {\n",
    "    \"name\": \"김철수\",      # 문자열 키\n",
    "    42: \"정답\",           # 숫자 키\n",
    "    (1, 2): \"좌표\"        # 튜플 키\n",
    "}\n",
    "\n",
    "# 잘못된 키\n",
    "# invalid_dict = {\n",
    "#     [1, 2]: \"리스트 키\"    # 에러! 리스트는 키가 될 수 없음\n",
    "#     {\"a\": 1}: \"딕셔너리 키\" # 에러! 딕셔너리는 키가 될 수 없음\n",
    "# }"
   ]
  },
  {
   "cell_type": "markdown",
   "id": "5462d9df",
   "metadata": {},
   "source": [
    "**값은 다음이 될 수 있음:**\n",
    "- **무엇이든**: 문자열, 숫자, 리스트, 딕셔너리 등"
   ]
  },
  {
   "cell_type": "code",
   "execution_count": null,
   "id": "c82b1325",
   "metadata": {},
   "outputs": [],
   "source": [
    "flexible_dict = {\n",
    "    \"name\": \"김철수\",                    # 문자열 값\n",
    "    \"scores\": [95, 87, 92],            # 리스트 값\n",
    "    \"address\": {                       # 딕셔너리 값\n",
    "        \"street\": \"강남대로 123번길\",\n",
    "        \"city\": \"서울\"\n",
    "    },\n",
    "    \"graduated\": True                  # 불린 값\n",
    "}"
   ]
  },
  {
   "cell_type": "markdown",
   "id": "4b4a9492",
   "metadata": {
    "lines_to_next_cell": 0
   },
   "source": [
    "---\n",
    "\n",
    "## 🛠️ 3. 딕셔너리 생성 및 접근\n",
    "\n",
    "### 딕셔너리 생성하기\n",
    "\n",
    "#### 방법 1: 중괄호 사용"
   ]
  },
  {
   "cell_type": "code",
   "execution_count": null,
   "id": "23480b10",
   "metadata": {},
   "outputs": [],
   "source": [
    "# 빈 딕셔너리\n",
    "empty_dict = {}\n",
    "\n",
    "# 초기 데이터가 있는 딕셔너리\n",
    "student_grades = {\n",
    "    \"김철수\": 95,\n",
    "    \"이영희\": 87,\n",
    "    \"박민수\": 92\n",
    "}\n",
    "\n",
    "# 가독성을 위한 여러 줄\n",
    "person = {\n",
    "    \"first_name\": \"철수\",\n",
    "    \"last_name\": \"김\",\n",
    "    \"age\": 25,\n",
    "    \"city\": \"서울\"\n",
    "}"
   ]
  },
  {
   "cell_type": "markdown",
   "id": "8e24ffe4",
   "metadata": {
    "lines_to_next_cell": 0
   },
   "source": [
    "#### 방법 2: dict() 함수 사용"
   ]
  },
  {
   "cell_type": "code",
   "execution_count": null,
   "id": "60896bef",
   "metadata": {},
   "outputs": [],
   "source": [
    "# 키워드 인수로부터\n",
    "colors = dict(red=\"FF0000\", green=\"00FF00\", blue=\"0000FF\")\n",
    "\n",
    "# 튜플 리스트로부터\n",
    "coordinates = dict([(\"x\", 10), (\"y\", 20), (\"z\", 5)])\n",
    "\n",
    "print(colors)      # {'red': 'FF0000', 'green': '00FF00', 'blue': '0000FF'}\n",
    "print(coordinates) # {'x': 10, 'y': 20, 'z': 5}"
   ]
  },
  {
   "cell_type": "markdown",
   "id": "8f89dcde",
   "metadata": {
    "lines_to_next_cell": 0
   },
   "source": [
    "### 값 접근하기\n",
    "\n",
    "#### 대괄호 사용"
   ]
  },
  {
   "cell_type": "code",
   "execution_count": null,
   "id": "9b19709f",
   "metadata": {},
   "outputs": [],
   "source": [
    "student_info = {\n",
    "    \"name\": \"김철수\",\n",
    "    \"age\": 20,\n",
    "    \"major\": \"소프트웨어융합과\"\n",
    "}\n",
    "\n",
    "# 키를 사용해 값 접근\n",
    "name = student_info[\"name\"]        # \"김철수\"\n",
    "age = student_info[\"age\"]          # 20\n",
    "major = student_info[\"major\"]      # \"소프트웨어융합과\"\n",
    "\n",
    "print(f\"학생: {name}, 나이: {age}, 전공: {major}\")"
   ]
  },
  {
   "cell_type": "markdown",
   "id": "f029720b",
   "metadata": {},
   "source": [
    "#### get() 메소드 사용\n",
    "`get()` 메소드는 키가 존재하지 않아도 오류가 발생하지 않아 더 안전합니다:"
   ]
  },
  {
   "cell_type": "code",
   "execution_count": null,
   "id": "43418950",
   "metadata": {},
   "outputs": [],
   "source": [
    "student_info = {\"name\": \"김철수\", \"age\": 20}\n",
    "\n",
    "# get()으로 안전한 접근\n",
    "name = student_info.get(\"name\")          # \"김철수\"\n",
    "grade = student_info.get(\"grade\")        # None (키가 존재하지 않음)\n",
    "grade = student_info.get(\"grade\", 0)     # 0 (기본값)\n",
    "\n",
    "# 직접 접근은 오류 가능\n",
    "# grade = student_info[\"grade\"]           # KeyError!\n",
    "\n",
    "print(f\"이름: {name}\")\n",
    "print(f\"성적: {grade}\")"
   ]
  },
  {
   "cell_type": "markdown",
   "id": "2058f778",
   "metadata": {
    "lines_to_next_cell": 0
   },
   "source": [
    "### 딕셔너리 수정하기\n",
    "\n",
    "#### 새 항목 추가"
   ]
  },
  {
   "cell_type": "code",
   "execution_count": null,
   "id": "56c71b0a",
   "metadata": {},
   "outputs": [],
   "source": [
    "student = {\"name\": \"김철수\", \"age\": 20}\n",
    "\n",
    "# 새로운 키-값 쌍 추가\n",
    "student[\"major\"] = \"생물학\"\n",
    "student[\"gpa\"] = 3.8\n",
    "\n",
    "print(student)  # {'name': '김철수', 'age': 20, 'major': '생물학', 'gpa': 3.8}"
   ]
  },
  {
   "cell_type": "markdown",
   "id": "22bca7b7",
   "metadata": {
    "lines_to_next_cell": 0
   },
   "source": [
    "#### 기존 항목 업데이트"
   ]
  },
  {
   "cell_type": "code",
   "execution_count": null,
   "id": "f42b0e9f",
   "metadata": {},
   "outputs": [],
   "source": [
    "prices = {\"아메리카노\": 3000, \"카페라떼\": 2500}\n",
    "\n",
    "# 기존 값 업데이트\n",
    "prices[\"아메리카노\"] = 3500    # 가격 인상\n",
    "prices[\"카페라떼\"] = 2750     # 가격 인상\n",
    "\n",
    "print(prices)  # {'아메리카노': 3500, '카페라떼': 2750}"
   ]
  },
  {
   "cell_type": "markdown",
   "id": "b1612660",
   "metadata": {
    "lines_to_next_cell": 0
   },
   "source": [
    "#### 항목 제거"
   ]
  },
  {
   "cell_type": "code",
   "execution_count": null,
   "id": "2232a5a0",
   "metadata": {},
   "outputs": [],
   "source": [
    "inventory = {\"사과\": 50, \"바나나\": 30, \"오렌지\": 25}\n",
    "\n",
    "# del 키워드로 제거\n",
    "del inventory[\"오렌지\"]\n",
    "\n",
    "# pop() 메소드로 제거\n",
    "banana_count = inventory.pop(\"바나나\")  # 제거하기 전에 값을 반환\n",
    "\n",
    "print(inventory)      # {'사과': 50}\n",
    "print(banana_count)   # 30"
   ]
  },
  {
   "cell_type": "markdown",
   "id": "3966a934",
   "metadata": {
    "lines_to_next_cell": 0
   },
   "source": [
    "---\n",
    "\n",
    "## 📋 4. 딕셔너리 메소드\n",
    "\n",
    "### 필수 딕셔너리 메소드\n",
    "\n",
    "#### keys() 메소드 - 모든 키 가져오기"
   ]
  },
  {
   "cell_type": "code",
   "execution_count": null,
   "id": "3f68972f",
   "metadata": {},
   "outputs": [],
   "source": [
    "student_grades = {\"김철수\": 95, \"이영희\": 87, \"박민수\": 92}\n",
    "\n",
    "# 모든 키 가져오기\n",
    "all_keys = student_grades.keys()\n",
    "print(all_keys)        # dict_keys(['김철수', '이영희', '박민수'])\n",
    "\n",
    "# 필요시 리스트로 변환\n",
    "key_list = list(student_grades.keys())\n",
    "print(key_list)        # ['김철수', '이영희', '박민수']\n",
    "\n",
    "# 반복문에서 사용\n",
    "print(\"모든 학생:\")\n",
    "for student in student_grades.keys():\n",
    "    print(f\"- {student}\")"
   ]
  },
  {
   "cell_type": "markdown",
   "id": "cf29c4e5",
   "metadata": {
    "lines_to_next_cell": 0
   },
   "source": [
    "#### values() 메소드 - 모든 값 가져오기"
   ]
  },
  {
   "cell_type": "code",
   "execution_count": null,
   "id": "92a246ed",
   "metadata": {},
   "outputs": [],
   "source": [
    "student_grades = {\"김철수\": 95, \"이영희\": 87, \"박민수\": 92}\n",
    "\n",
    "# 모든 값 가져오기\n",
    "all_grades = student_grades.values()\n",
    "print(all_grades)      # dict_values([95, 87, 92])\n",
    "\n",
    "# 필요시 리스트로 변환\n",
    "grade_list = list(student_grades.values())\n",
    "print(grade_list)      # [95, 87, 92]\n",
    "\n",
    "# 통계 계산\n",
    "average_grade = sum(student_grades.values()) / len(student_grades)\n",
    "highest_grade = max(student_grades.values())\n",
    "lowest_grade = min(student_grades.values())\n",
    "\n",
    "print(f\"평균 성적: {average_grade:.1f}\")\n",
    "print(f\"최고 성적: {highest_grade}\")\n",
    "print(f\"최저 성적: {lowest_grade}\")"
   ]
  },
  {
   "cell_type": "markdown",
   "id": "4d5bc654",
   "metadata": {
    "lines_to_next_cell": 0
   },
   "source": [
    "#### items() 메소드 - 키-값 쌍 가져오기"
   ]
  },
  {
   "cell_type": "code",
   "execution_count": null,
   "id": "9b8d250e",
   "metadata": {},
   "outputs": [],
   "source": [
    "student_grades = {\"김철수\": 95, \"이영희\": 87, \"박민수\": 92}\n",
    "\n",
    "# 모든 키-값 쌍 가져오기\n",
    "all_items = student_grades.items()\n",
    "print(all_items)       # dict_items([('김철수', 95), ('이영희', 87), ('박민수', 92)])\n",
    "\n",
    "# 반복문에서 사용\n",
    "print(\"성적 리포트:\")\n",
    "for student, grade in student_grades.items():\n",
    "    if grade >= 90:\n",
    "        status = \"우수\"\n",
    "    elif grade >= 80:\n",
    "        status = \"양호\"\n",
    "    else:\n",
    "        status = \"보완 필요\"\n",
    "    \n",
    "    print(f\"{student}: {grade}점 ({status})\")"
   ]
  },
  {
   "cell_type": "markdown",
   "id": "89336006",
   "metadata": {},
   "source": [
    "### 기타 유용한 메소드"
   ]
  },
  {
   "cell_type": "code",
   "execution_count": null,
   "id": "1d701f3d",
   "metadata": {},
   "outputs": [],
   "source": [
    "inventory = {\"사과\": 50, \"바나나\": 30}\n",
    "\n",
    "# 키 존재 확인\n",
    "if \"사과\" in inventory:\n",
    "    print(\"사과 재고가 있습니다\")\n",
    "\n",
    "# 항목 수 가져오기\n",
    "item_count = len(inventory)\n",
    "print(f\"총 {item_count}종류의 과일이 있습니다\")\n",
    "\n",
    "# 모든 항목 지우기\n",
    "backup = inventory.copy()    # 먼저 백업 생성\n",
    "inventory.clear()\n",
    "print(inventory)             # {}\n",
    "print(backup)                # {'사과': 50, '바나나': 30}"
   ]
  },
  {
   "cell_type": "markdown",
   "id": "45673589",
   "metadata": {
    "lines_to_next_cell": 0
   },
   "source": [
    "---\n",
    "\n",
    "## 🔧 실습 문제\n",
    "\n",
    "### 실습 1: 전화번호부 프로그램\n",
    "\n",
    "**문제**: 이름과 전화번호를 저장하는 간단한 전화번호부를 만드세요. 연락처 추가, 검색, 모든 연락처 표시 기능을 포함하세요.\n",
    "\n",
    "**요구사항**:\n",
    "- 연락처를 이름: 전화번호 쌍으로 저장\n",
    "- 새 연락처 추가\n",
    "- 특정 연락처 검색\n",
    "\n",
    "**정답**:"
   ]
  },
  {
   "cell_type": "code",
   "execution_count": null,
   "id": "ae39c845",
   "metadata": {},
   "outputs": [],
   "source": [
    "# 전화번호부 딕셔너리 생성\n",
    "phone_book = {\n",
    "    \"김철수\": \"010-1234-5678\",\n",
    "    \"이영희\": \"010-2345-6789\",\n",
    "    \"박민수\": \"010-3456-7890\"\n",
    "}\n",
    "\n",
    "print(\"전화번호부 프로그램\")\n",
    "print(f\"총 연락처 수: {len(phone_book)}\")\n",
    "\n",
    "# 모든 연락처 표시\n",
    "print(\"\\n모든 연락처:\")\n",
    "for name, phone in phone_book.items():\n",
    "    print(f\"{name}: {phone}\")\n",
    "\n",
    "# 새 연락처 추가\n",
    "phone_book[\"최지영\"] = \"010-4567-8901\"\n",
    "print(f\"\\n최지영을 전화번호부에 추가했습니다\")\n",
    "\n",
    "# 특정 연락처 검색\n",
    "search_name = \"이영희\"\n",
    "if search_name in phone_book:\n",
    "    print(f\"{search_name}을(를) 찾았습니다: {phone_book[search_name]}\")\n",
    "else:\n",
    "    print(f\"{search_name}을(를) 찾을 수 없습니다\")\n",
    "\n",
    "# get() 메소드로 검색\n",
    "search_name2 = \"홍길동\"\n",
    "result = phone_book.get(search_name2, \"연락처 없음\")\n",
    "print(f\"{search_name2} 검색 결과: {result}\")\n",
    "\n",
    "# 업데이트된 연락처 목록 표시\n",
    "print(f\"\\n업데이트된 전화번호부 ({len(phone_book)}개 연락처):\")\n",
    "for name, phone in phone_book.items():\n",
    "    print(f\"{name}: {phone}\")"
   ]
  },
  {
   "cell_type": "markdown",
   "id": "36dd9790",
   "metadata": {
    "lines_to_next_cell": 0
   },
   "source": [
    "### 실습 2: 영한 단어장 프로그램\n",
    "\n",
    "**문제**: 영어 단어와 한국어 번역을 저장하는 단어장 딕셔너리를 만드세요. 단어 찾기와 새 단어 추가 기능을 포함하세요.\n",
    "\n",
    "**요구사항**:\n",
    "- 영어 단어를 키로, 한국어 의미를 값으로 저장\n",
    "- 한국어 의미 찾기\n",
    "- 새 단어 추가\n",
    "\n",
    "**정답**:"
   ]
  },
  {
   "cell_type": "code",
   "execution_count": null,
   "id": "995b8ea2",
   "metadata": {},
   "outputs": [],
   "source": [
    "# 영한 단어장 딕셔너리\n",
    "vocabulary = {\n",
    "    \"apple\": \"사과\",\n",
    "    \"book\": \"책\",\n",
    "    \"computer\": \"컴퓨터\",\n",
    "    \"dog\": \"개\",\n",
    "    \"house\": \"집\"\n",
    "}\n",
    "\n",
    "print(\"영한 단어장\")\n",
    "print(f\"현재 단어 수: {len(vocabulary)}개\")\n",
    "\n",
    "# 모든 단어 표시\n",
    "print(\"\\n단어장 목록:\")\n",
    "for english, korean in vocabulary.items():\n",
    "    print(f\"{english} -> {korean}\")\n",
    "\n",
    "# 특정 단어 찾기\n",
    "lookup_words = [\"apple\", \"computer\", \"car\"]\n",
    "print(\"\\n단어 찾기:\")\n",
    "for word in lookup_words:\n",
    "    meaning = vocabulary.get(word, \"찾을 수 없음\")\n",
    "    print(f\"'{word}': {meaning}\")\n",
    "\n",
    "# 새 단어 추가\n",
    "vocabulary[\"water\"] = \"물\"\n",
    "vocabulary[\"school\"] = \"학교\"\n",
    "print(f\"\\n2개 단어를 추가했습니다\")\n",
    "\n",
    "# 업데이트된 단어장 표시\n",
    "print(f\"\\n업데이트된 단어장 ({len(vocabulary)}개 단어):\")\n",
    "for english, korean in vocabulary.items():\n",
    "    print(f\"{english} -> {korean}\")\n",
    "\n",
    "# 'c'로 시작하는 단어 찾기\n",
    "print(\"\\n'c'로 시작하는 단어:\")\n",
    "for word in vocabulary.keys():\n",
    "    if word.startswith(\"c\"):\n",
    "        print(f\"{word}: {vocabulary[word]}\")"
   ]
  },
  {
   "cell_type": "markdown",
   "id": "11d504fa",
   "metadata": {
    "lines_to_next_cell": 0
   },
   "source": [
    "### 실습 3: 학급 성적 관리 프로그램\n",
    "\n",
    "**문제**: 학생 이름을 키로, 성적을 값으로 하는 성적 관리 프로그램을 만드세요.\n",
    "\n",
    "**요구사항**:\n",
    "- 학생 성적 저장\n",
    "- 성적 통계 계산\n",
    "- 성적별 학생 분류\n",
    "\n",
    "**정답**:"
   ]
  },
  {
   "cell_type": "code",
   "execution_count": null,
   "id": "8294d500",
   "metadata": {},
   "outputs": [],
   "source": [
    "# 학급 성적 딕셔너리\n",
    "class_grades = {\n",
    "    \"김철수\": 85,\n",
    "    \"이영희\": 92,\n",
    "    \"박민수\": 78,\n",
    "    \"최지영\": 96,\n",
    "    \"정현우\": 88,\n",
    "    \"한미영\": 91\n",
    "}\n",
    "\n",
    "print(\"학급 성적 관리 프로그램\")\n",
    "\n",
    "# 현재 성적 현황\n",
    "print(\"\\n현재 성적 현황:\")\n",
    "total_score = 0\n",
    "for student, grade in class_grades.items():\n",
    "    total_score += grade\n",
    "    print(f\"{student}: {grade}점\")\n",
    "\n",
    "print(f\"\\n총 학생 수: {len(class_grades)}명\")\n",
    "print(f\"총점: {total_score}점\")\n",
    "\n",
    "# 통계 계산\n",
    "average_grade = sum(class_grades.values()) / len(class_grades)\n",
    "highest_grade = max(class_grades.values())\n",
    "lowest_grade = min(class_grades.values())\n",
    "\n",
    "print(f\"평균 성적: {average_grade:.1f}점\")\n",
    "print(f\"최고 성적: {highest_grade}점\")\n",
    "print(f\"최저 성적: {lowest_grade}점\")\n",
    "\n",
    "# 성적별 학생 분류\n",
    "excellent_students = []  # 90점 이상\n",
    "good_students = []       # 80-89점\n",
    "needs_help = []          # 80점 미만\n",
    "\n",
    "for student, grade in class_grades.items():\n",
    "    if grade >= 90:\n",
    "        excellent_students.append(student)\n",
    "    elif grade >= 80:\n",
    "        good_students.append(student)\n",
    "    else:\n",
    "        needs_help.append(student)\n",
    "\n",
    "print(f\"\\n우수 학생 (90점 이상): {excellent_students}\")\n",
    "print(f\"양호 학생 (80-89점): {good_students}\")\n",
    "print(f\"보완 필요 (80점 미만): {needs_help}\")\n",
    "\n",
    "# 새 학생 성적 추가\n",
    "class_grades[\"신입생\"] = 87\n",
    "print(f\"\\n신입생 성적을 추가했습니다: 87점\")\n",
    "print(f\"업데이트된 학생 수: {len(class_grades)}명\")"
   ]
  },
  {
   "cell_type": "markdown",
   "id": "3a599286",
   "metadata": {},
   "source": [
    "---\n",
    "\n",
    "## 📝 퀴즈\n",
    "\n",
    "### 퀴즈 1: 딕셔너리 생성 및 접근\n",
    "**문제**: `student_record`라는 딕셔너리를 만들어 학생의 이름, 나이, 전공, 학점을 저장하세요. 그 후 다음을 수행하는 코드를 작성하세요:\n",
    "\n",
    "1. 샘플 데이터로 딕셔너리 생성\n",
    "2. 학생 이름과 전공 접근 및 출력\n",
    "3. 학생 GPA를 새 값으로 업데이트\n",
    "4. 새 키 \"graduation_year\"를 값과 함께 추가\n",
    "\n",
    "### 퀴즈 2: 딕셔너리 메소드 도전\n",
    "**문제**: 다음 시험 점수 딕셔너리가 주어졌을 때, 다음을 수행하는 코드를 작성하세요:"
   ]
  },
  {
   "cell_type": "code",
   "execution_count": null,
   "id": "4aae8ec3",
   "metadata": {},
   "outputs": [],
   "source": [
    "exam_scores = {\n",
    "    \"김철수\": 95,\n",
    "    \"이영희\": 87,\n",
    "    \"박민수\": 92,\n",
    "    \"최지영\": 78,\n",
    "    \"정현우\": 88,\n",
    "    \"한미영\": 91\n",
    "}"
   ]
  },
  {
   "cell_type": "markdown",
   "id": "45dc8feb",
   "metadata": {},
   "source": [
    "1. 적절한 딕셔너리 메소드를 사용해 모든 학생 이름 출력\n",
    "2. 평균 점수 계산 및 출력\n",
    "3. 최고 점수를 받은 학생 이름 찾기 및 출력\n",
    "4. 90점 이상 받은 학생들의 리스트 생성\n",
    "\n",
    "### 퀴즈 3: 중첩 딕셔너리 분석\n",
    "**문제**: 다양한 도시에 대한 정보를 포함하는 딕셔너리가 있습니다. 각 도시에는 인구, 국가, 면적에 대한 데이터가 있습니다. 다음을 수행하는 프로그램을 작성하세요:"
   ]
  },
  {
   "cell_type": "code",
   "execution_count": null,
   "id": "96fb2235",
   "metadata": {},
   "outputs": [],
   "source": [
    "cities = {\n",
    "    \"서울\": {\"population\": 9720846, \"country\": \"한국\", \"area\": 605.21},\n",
    "    \"도쿄\": {\"population\": 13960000, \"country\": \"일본\", \"area\": 2187.66},\n",
    "    \"런던\": {\"population\": 8982000, \"country\": \"영국\", \"area\": 1572.0},\n",
    "    \"파리\": {\"population\": 2161000, \"country\": \"프랑스\", \"area\": 105.4},\n",
    "    \"뉴욕\": {\"population\": 8336817, \"country\": \"미국\", \"area\": 778.2}\n",
    "}"
   ]
  },
  {
   "cell_type": "markdown",
   "id": "3649d0fe",
   "metadata": {},
   "source": [
    "1. 서울의 인구 출력\n",
    "2. 가장 넓은 면적을 가진 도시 찾기\n",
    "3. 각 도시의 인구 밀도(인구/면적) 계산 및 결과 출력\n",
    "4. 데이터에 나타난 모든 국가의 리스트 생성\n",
    "\n",
    "---\n",
    "\n",
    "## 📖 참고 자료\n",
    "\n",
    "1. **파이썬 공식 문서 - 딕셔너리**: https://docs.python.org/ko/3/tutorial/datastructures.html#dictionaries\n",
    "   - 딕셔너리에 대한 공식 파이썬 문서\n",
    "\n",
    "2. **점프 투 파이썬 - 딕셔너리**: https://wikidocs.net/16\n",
    "   - 한국어로 된 딕셔너리 설명\n",
    "\n",
    "3. **코딩 도장 - 딕셔너리**: https://dojang.io/mod/page/view.php?id=2307\n",
    "   - 파이썬 딕셔너리 상세 설명\n",
    "\n",
    "4. **Real Python - 파이썬 딕셔너리**: https://realpython.com/python-dicts/\n",
    "   - 영어 자료이지만 실용적 예시가 포함된 종합 가이드\n",
    "\n",
    "---\n",
    "\n",
    "## 💡 성공을 위한 팁\n",
    "\n",
    "### 모범 사례\n",
    "- **의미 있는 키 이름 사용**: 데이터를 명확히 설명하는 키 선택\n",
    "- **키 존재 확인**: 오류 방지를 위해 항상 `in` 연산자나 `get()` 메소드 사용\n",
    "- **단순하게 유지**: 필요하지 않다면 딕셔너리를 너무 깊게 중첩하지 말 것\n",
    "\n",
    "### 피해야 할 일반적인 실수\n",
    "- **리스트를 키로 사용**: 키는 불변이어야 함을 기억\n",
    "- **키 존재 가정**: KeyError 방지를 위해 접근 전 항상 확인\n",
    "- **반복 중 수정**: 딕셔너리를 순회하면서 크기 변경하지 말 것\n",
    "\n",
    "### 성능 팁\n",
    "- **딕셔너리는 빠름**: 키로 값을 찾는 것이 리스트 검색보다 훨씬 빠름\n",
    "- **선택적 키에는 get() 사용**: try-catch 블록보다 안전하고 효율적\n",
    "\n",
    "### 실제 활용 사례\n",
    "- **설정 관리**: 앱 설정과 환경설정 저장\n",
    "- **데이터 캐싱**: 빠른 검색을 위한 자주 접근하는 데이터 저장\n",
    "- **항목 카운팅**: 다양한 항목의 발생 횟수 계산\n",
    "\n",
    "---\n",
    "\n",
    "## 📋 숙제\n",
    "\n",
    "### 연습 문제\n",
    "\n",
    "1. **영화 정보 관리**: 좋아하는 영화 정보를 저장하는 딕셔너리 만들기 (제목, 연도, 감독, 평점 포함)\n",
    "\n",
    "2. **단위 변환기**: 딕셔너리를 사용해 변환 계수를 저장하고 다양한 단위(길이, 무게, 온도) 간 변환하는 프로그램\n",
    "\n",
    "3. **카페 주문 시스템**: 메뉴와 가격을 딕셔너리로 관리하고, 주문 받기, 총액 계산, 인기 메뉴 분석 기능\n",
    "\n",
    "4. **학생부 관리**: 여러 학생의 여러 과목 성적을 저장하고 관리하는 종합 성적부 시스템\n",
    "\n",
    "### 도전 문제\n",
    "\n",
    "5. **단어 빈도 분석기**: \n",
    "   - 긴 텍스트에서 각 단어가 몇 번 나타나는지 계산\n",
    "   - 가장 자주 나타나는 단어 상위 10개 찾기\n",
    "   - 단어 길이별 분포 분석\n",
    "\n",
    "**프로그래밍 여정에 행운을 빕니다!**"
   ]
  }
 ],
 "metadata": {
  "jupytext": {
   "cell_metadata_filter": "-all",
   "main_language": "python",
   "notebook_metadata_filter": "-all"
  }
 },
 "nbformat": 4,
 "nbformat_minor": 5
}
